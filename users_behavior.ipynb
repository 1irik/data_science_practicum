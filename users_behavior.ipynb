{
 "cells": [
  {
   "cell_type": "markdown",
   "id": "e001cfb3",
   "metadata": {},
   "source": [
    "# Модель для классификации тарифов компании \"Мегалайн\""
   ]
  },
  {
   "cell_type": "markdown",
   "id": "e63c6bcc",
   "metadata": {},
   "source": [
    "## Получение и изучение данных"
   ]
  },
  {
   "cell_type": "markdown",
   "id": "62126b39",
   "metadata": {},
   "source": [
    "### Поставленная задача и исходные данные"
   ]
  },
  {
   "cell_type": "markdown",
   "id": "7e10b36b",
   "metadata": {},
   "source": [
    "**Заказчик: оператор мобильной связи «Мегалайн»**\n",
    "\n",
    "Т.к. многие клиенты пользуются архивными тарифами, то заказчику требуется построить систему, способную проанализировать поведение клиентов и предложить пользователям новый тариф: «Смарт» или «Ультра».\n",
    "\n",
    "Предоставлены данные о поведении клиентов, которые уже перешли на тарифы «Смарт» или «Ультра». Данные уже прошли преобработку ранее.\n",
    "\n",
    "<ins>**Задача: построить модель для задачи классификации, выбирающую подходящий тариф с максимальной точностью (`accuracy`).**</ins>\n",
    "\n",
    "Необходимо довести долю правильных ответов по крайней мере до 0.75 и проверить точность (`accuracy`) на тестовой выборке.\n",
    "\n",
    "**Описание данных**\n",
    "\n",
    "Каждый объект в наборе данных — это информация о поведении одного пользователя за месяц.\n",
    "\n",
    "Известно:\n",
    "- `сalls` — количество звонков,\n",
    "- `minutes` — суммарная длительность звонков в минутах,\n",
    "- `messages` — количество sms-сообщений,\n",
    "- `mb_used` — израсходованный интернет-трафик в Мб,\n",
    "- `is_ultra` — каким тарифом пользовался в течение месяца («Ультра» — 1, «Смарт» — 0)."
   ]
  },
  {
   "cell_type": "markdown",
   "id": "76e5ffe0",
   "metadata": {},
   "source": [
    "### Обзор данных"
   ]
  },
  {
   "cell_type": "markdown",
   "id": "dae6a75f",
   "metadata": {},
   "source": [
    "<ins>Импорт библиотек</ins>"
   ]
  },
  {
   "cell_type": "code",
   "execution_count": 1,
   "id": "839c9377",
   "metadata": {},
   "outputs": [],
   "source": [
    "import pandas as pd\n",
    "import matplotlib.pyplot as plt\n",
    "import seaborn as sns\n",
    "import warnings\n",
    "warnings.filterwarnings(\"ignore\") # отключаем предупреждения\n",
    "import numpy as np\n",
    "from sklearn.model_selection import train_test_split\n",
    "from sklearn.tree import DecisionTreeClassifier\n",
    "from sklearn.ensemble import RandomForestClassifier\n",
    "from sklearn.metrics import accuracy_score\n",
    "from sklearn.linear_model import LogisticRegression\n",
    "from sklearn.dummy import DummyClassifier"
   ]
  },
  {
   "cell_type": "markdown",
   "id": "eca8c16c",
   "metadata": {},
   "source": [
    "<ins>Чтение файлов с данными</ins>"
   ]
  },
  {
   "cell_type": "code",
   "execution_count": 2,
   "id": "6d30b1fe",
   "metadata": {},
   "outputs": [],
   "source": [
    "df = pd.read_csv('https://code.s3.yandex.net/datasets/users_behavior.csv')"
   ]
  },
  {
   "cell_type": "markdown",
   "id": "7c615477",
   "metadata": {},
   "source": [
    "<ins>Изучение общей информации о данных</ins>"
   ]
  },
  {
   "cell_type": "code",
   "execution_count": 3,
   "id": "d32fe649",
   "metadata": {},
   "outputs": [
    {
     "name": "stdout",
     "output_type": "stream",
     "text": [
      "<class 'pandas.core.frame.DataFrame'>\n",
      "RangeIndex: 3214 entries, 0 to 3213\n",
      "Data columns (total 5 columns):\n",
      " #   Column    Non-Null Count  Dtype  \n",
      "---  ------    --------------  -----  \n",
      " 0   calls     3214 non-null   float64\n",
      " 1   minutes   3214 non-null   float64\n",
      " 2   messages  3214 non-null   float64\n",
      " 3   mb_used   3214 non-null   float64\n",
      " 4   is_ultra  3214 non-null   int64  \n",
      "dtypes: float64(4), int64(1)\n",
      "memory usage: 125.7 KB\n"
     ]
    }
   ],
   "source": [
    "df.info()"
   ]
  },
  {
   "cell_type": "code",
   "execution_count": 4,
   "id": "1dbd2a5b",
   "metadata": {
    "scrolled": true
   },
   "outputs": [
    {
     "data": {
      "text/html": [
       "<div>\n",
       "<style scoped>\n",
       "    .dataframe tbody tr th:only-of-type {\n",
       "        vertical-align: middle;\n",
       "    }\n",
       "\n",
       "    .dataframe tbody tr th {\n",
       "        vertical-align: top;\n",
       "    }\n",
       "\n",
       "    .dataframe thead th {\n",
       "        text-align: right;\n",
       "    }\n",
       "</style>\n",
       "<table border=\"1\" class=\"dataframe\">\n",
       "  <thead>\n",
       "    <tr style=\"text-align: right;\">\n",
       "      <th></th>\n",
       "      <th>calls</th>\n",
       "      <th>minutes</th>\n",
       "      <th>messages</th>\n",
       "      <th>mb_used</th>\n",
       "      <th>is_ultra</th>\n",
       "    </tr>\n",
       "  </thead>\n",
       "  <tbody>\n",
       "    <tr>\n",
       "      <th>0</th>\n",
       "      <td>40.0</td>\n",
       "      <td>311.90</td>\n",
       "      <td>83.0</td>\n",
       "      <td>19915.42</td>\n",
       "      <td>0</td>\n",
       "    </tr>\n",
       "    <tr>\n",
       "      <th>1</th>\n",
       "      <td>85.0</td>\n",
       "      <td>516.75</td>\n",
       "      <td>56.0</td>\n",
       "      <td>22696.96</td>\n",
       "      <td>0</td>\n",
       "    </tr>\n",
       "    <tr>\n",
       "      <th>2</th>\n",
       "      <td>77.0</td>\n",
       "      <td>467.66</td>\n",
       "      <td>86.0</td>\n",
       "      <td>21060.45</td>\n",
       "      <td>0</td>\n",
       "    </tr>\n",
       "    <tr>\n",
       "      <th>3</th>\n",
       "      <td>106.0</td>\n",
       "      <td>745.53</td>\n",
       "      <td>81.0</td>\n",
       "      <td>8437.39</td>\n",
       "      <td>1</td>\n",
       "    </tr>\n",
       "    <tr>\n",
       "      <th>4</th>\n",
       "      <td>66.0</td>\n",
       "      <td>418.74</td>\n",
       "      <td>1.0</td>\n",
       "      <td>14502.75</td>\n",
       "      <td>0</td>\n",
       "    </tr>\n",
       "  </tbody>\n",
       "</table>\n",
       "</div>"
      ],
      "text/plain": [
       "   calls  minutes  messages   mb_used  is_ultra\n",
       "0   40.0   311.90      83.0  19915.42         0\n",
       "1   85.0   516.75      56.0  22696.96         0\n",
       "2   77.0   467.66      86.0  21060.45         0\n",
       "3  106.0   745.53      81.0   8437.39         1\n",
       "4   66.0   418.74       1.0  14502.75         0"
      ]
     },
     "execution_count": 4,
     "metadata": {},
     "output_type": "execute_result"
    }
   ],
   "source": [
    "df.head()"
   ]
  },
  {
   "cell_type": "code",
   "execution_count": 5,
   "id": "a01ffa94",
   "metadata": {},
   "outputs": [
    {
     "data": {
      "text/html": [
       "<div>\n",
       "<style scoped>\n",
       "    .dataframe tbody tr th:only-of-type {\n",
       "        vertical-align: middle;\n",
       "    }\n",
       "\n",
       "    .dataframe tbody tr th {\n",
       "        vertical-align: top;\n",
       "    }\n",
       "\n",
       "    .dataframe thead th {\n",
       "        text-align: right;\n",
       "    }\n",
       "</style>\n",
       "<table border=\"1\" class=\"dataframe\">\n",
       "  <thead>\n",
       "    <tr style=\"text-align: right;\">\n",
       "      <th></th>\n",
       "      <th>calls</th>\n",
       "      <th>minutes</th>\n",
       "      <th>messages</th>\n",
       "      <th>mb_used</th>\n",
       "      <th>is_ultra</th>\n",
       "    </tr>\n",
       "  </thead>\n",
       "  <tbody>\n",
       "    <tr>\n",
       "      <th>count</th>\n",
       "      <td>3214.000000</td>\n",
       "      <td>3214.000000</td>\n",
       "      <td>3214.000000</td>\n",
       "      <td>3214.000000</td>\n",
       "      <td>3214.000000</td>\n",
       "    </tr>\n",
       "    <tr>\n",
       "      <th>mean</th>\n",
       "      <td>63.038892</td>\n",
       "      <td>438.208787</td>\n",
       "      <td>38.281269</td>\n",
       "      <td>17207.673836</td>\n",
       "      <td>0.306472</td>\n",
       "    </tr>\n",
       "    <tr>\n",
       "      <th>std</th>\n",
       "      <td>33.236368</td>\n",
       "      <td>234.569872</td>\n",
       "      <td>36.148326</td>\n",
       "      <td>7570.968246</td>\n",
       "      <td>0.461100</td>\n",
       "    </tr>\n",
       "    <tr>\n",
       "      <th>min</th>\n",
       "      <td>0.000000</td>\n",
       "      <td>0.000000</td>\n",
       "      <td>0.000000</td>\n",
       "      <td>0.000000</td>\n",
       "      <td>0.000000</td>\n",
       "    </tr>\n",
       "    <tr>\n",
       "      <th>25%</th>\n",
       "      <td>40.000000</td>\n",
       "      <td>274.575000</td>\n",
       "      <td>9.000000</td>\n",
       "      <td>12491.902500</td>\n",
       "      <td>0.000000</td>\n",
       "    </tr>\n",
       "    <tr>\n",
       "      <th>50%</th>\n",
       "      <td>62.000000</td>\n",
       "      <td>430.600000</td>\n",
       "      <td>30.000000</td>\n",
       "      <td>16943.235000</td>\n",
       "      <td>0.000000</td>\n",
       "    </tr>\n",
       "    <tr>\n",
       "      <th>75%</th>\n",
       "      <td>82.000000</td>\n",
       "      <td>571.927500</td>\n",
       "      <td>57.000000</td>\n",
       "      <td>21424.700000</td>\n",
       "      <td>1.000000</td>\n",
       "    </tr>\n",
       "    <tr>\n",
       "      <th>max</th>\n",
       "      <td>244.000000</td>\n",
       "      <td>1632.060000</td>\n",
       "      <td>224.000000</td>\n",
       "      <td>49745.730000</td>\n",
       "      <td>1.000000</td>\n",
       "    </tr>\n",
       "  </tbody>\n",
       "</table>\n",
       "</div>"
      ],
      "text/plain": [
       "             calls      minutes     messages       mb_used     is_ultra\n",
       "count  3214.000000  3214.000000  3214.000000   3214.000000  3214.000000\n",
       "mean     63.038892   438.208787    38.281269  17207.673836     0.306472\n",
       "std      33.236368   234.569872    36.148326   7570.968246     0.461100\n",
       "min       0.000000     0.000000     0.000000      0.000000     0.000000\n",
       "25%      40.000000   274.575000     9.000000  12491.902500     0.000000\n",
       "50%      62.000000   430.600000    30.000000  16943.235000     0.000000\n",
       "75%      82.000000   571.927500    57.000000  21424.700000     1.000000\n",
       "max     244.000000  1632.060000   224.000000  49745.730000     1.000000"
      ]
     },
     "execution_count": 5,
     "metadata": {},
     "output_type": "execute_result"
    }
   ],
   "source": [
    "df.describe()"
   ]
  },
  {
   "cell_type": "markdown",
   "id": "33c5de39",
   "metadata": {},
   "source": [
    "Данные уже прошли преобработку ранее, о чём свидетельствует общая информация о данных. Замену типов данных с `float` на `int` не считаю необходимой, т.к. после подобных замен возможна некорректная работа некоторых функций. На анализ данная замена не влияет."
   ]
  },
  {
   "cell_type": "markdown",
   "id": "1b6fd775",
   "metadata": {},
   "source": [
    "Посмотрим на графическое отображение взаимосвязей в данных и влияние параметров на целевой признак."
   ]
  },
  {
   "cell_type": "code",
   "execution_count": 6,
   "id": "17a17eec",
   "metadata": {
    "scrolled": false
   },
   "outputs": [
    {
     "data": {
      "image/png": "[encoded data removed]",
      "text/plain": [
       "<Figure size 764.5x720 with 20 Axes>"
      ]
     },
     "metadata": {
      "needs_background": "light"
     },
     "output_type": "display_data"
    }
   ],
   "source": [
    "sns.pairplot(df, hue='is_ultra', palette='Set1', kind = 'kde');"
   ]
  },
  {
   "cell_type": "code",
   "execution_count": 7,
   "id": "938ffe62",
   "metadata": {},
   "outputs": [
    {
     "data": {
      "image/png": "[encoded data removed]",
      "text/plain": [
       "<Figure size 1080x216 with 4 Axes>"
      ]
     },
     "metadata": {
      "needs_background": "light"
     },
     "output_type": "display_data"
    }
   ],
   "source": [
    "fig, (ax0,ax1) = plt.subplots(ncols=2, figsize=(15,3))\n",
    "fig.subplots_adjust(wspace=0.9)\n",
    "\n",
    "fig.suptitle('Сравнение тепловых карт корреляций', y = 1.1, fontsize = 14)\n",
    "\n",
    "ax0.set_title('Тариф «Ультра»', fontsize=13);\n",
    "ax1.set_title('Тариф «Смарт»', fontsize=13);\n",
    "\n",
    "sns.heatmap(df[df['is_ultra']==1].set_index('is_ultra').corr(),\n",
    "            annot=True, annot_kws={\"size\": 13}, cmap=\"Blues\", fmt ='.3g', ax=ax0)\n",
    "\n",
    "sns.heatmap(df[df['is_ultra']==0].set_index('is_ultra').corr(),\n",
    "            annot=True, annot_kws={\"size\": 13}, cmap=\"Blues\", fmt ='.3g', ax=ax1);"
   ]
  },
  {
   "cell_type": "markdown",
   "id": "58e184a8",
   "metadata": {},
   "source": [
    "<ins>Оценка по диаграммам рассеяния и тепловым картам корреляций:</ins>\n",
    "- наблюдается высокая положительная корреляция между количеством звонков и минутами, что логично\n",
    "- трафик сообщений слабо зависит от трафика интернета, в современном мире это так, если человек активно пользуется интернетом, то он и пишет сообщения через интернет-мессенджеры и наоборот.\n",
    "- вся корреляция положительная, что в целом говорит о том, что чем интенсивнее клиент пользуется тарифом, тем больше он пользуется всеми услугами тарифа, что также логично\n",
    "\n",
    "Различия:\n",
    "\n",
    "тариф «Смарт»\n",
    "- трафик сообщений и интернета средне зависит от количества звонков и минут\n",
    "\n",
    "тариф «Ультра»\n",
    "- трафик сообщений и интернета слабо зависит от количества звонков и минут\n",
    "\n",
    "Различия объясняются предпочтениями целевой аудитории каждого тарифа. Т.к. тариф «Ультра» дороже, то пользователи данного тарифа меньше заботятся о трафике, чем пользователи тарифа «Смарт»."
   ]
  },
  {
   "cell_type": "markdown",
   "id": "8d35da8a",
   "metadata": {},
   "source": [
    "<ins>Оценка по гистограммам трафика (диагональ):</ins>\n",
    "- `сalls`, `minutes`, `messages` - ассиметриченое распределение со скошенным вправо набором данных, медиана меньше среднего\n",
    "- `mb_used` - нормальное распределение, медиана и среднее близки"
   ]
  },
  {
   "cell_type": "markdown",
   "id": "44ed6afa",
   "metadata": {},
   "source": [
    "Пользователей с тарифом «Смарт» (0) значительно больше, чем пользователей с тарифом «Ультра» (1).\n",
    "\n",
    "Доля тарифов:"
   ]
  },
  {
   "cell_type": "code",
   "execution_count": 8,
   "id": "a7d98764",
   "metadata": {},
   "outputs": [
    {
     "data": {
      "text/plain": [
       "0    0.693528\n",
       "1    0.306472\n",
       "Name: is_ultra, dtype: float64"
      ]
     },
     "execution_count": 8,
     "metadata": {},
     "output_type": "execute_result"
    }
   ],
   "source": [
    "df['is_ultra'].value_counts(normalize=True)"
   ]
  },
  {
   "cell_type": "markdown",
   "id": "86061bd4",
   "metadata": {},
   "source": [
    "<ins>Итог</ins>\n",
    "\n",
    "Информация полученная на основании графического анализа не выявила некорректности в предоставленных данных."
   ]
  },
  {
   "cell_type": "markdown",
   "id": "7939a381",
   "metadata": {},
   "source": [
    "## Разделение исходных данных на обучающую, валидационную и тестовую выборки."
   ]
  },
  {
   "cell_type": "markdown",
   "id": "bbe31d44",
   "metadata": {},
   "source": [
    "Разделим исходные данные на обучающую, валидационную и тестовую выборки."
   ]
  },
  {
   "cell_type": "code",
   "execution_count": 9,
   "id": "b81a209f",
   "metadata": {},
   "outputs": [],
   "source": [
    "df_train, df_valid = train_test_split(df, test_size=0.4, random_state=12345)\n",
    "df_valid, df_test = train_test_split(df_valid, test_size=0.5, random_state=12345)"
   ]
  },
  {
   "cell_type": "code",
   "execution_count": 10,
   "id": "3342475a",
   "metadata": {},
   "outputs": [
    {
     "data": {
      "text/plain": [
       "(1928, 5)"
      ]
     },
     "execution_count": 10,
     "metadata": {},
     "output_type": "execute_result"
    }
   ],
   "source": [
    "df_train.shape"
   ]
  },
  {
   "cell_type": "code",
   "execution_count": 11,
   "id": "7be63cbf",
   "metadata": {},
   "outputs": [
    {
     "data": {
      "text/plain": [
       "(643, 5)"
      ]
     },
     "execution_count": 11,
     "metadata": {},
     "output_type": "execute_result"
    }
   ],
   "source": [
    "df_valid.shape"
   ]
  },
  {
   "cell_type": "code",
   "execution_count": 12,
   "id": "50d820c7",
   "metadata": {
    "scrolled": true
   },
   "outputs": [
    {
     "data": {
      "text/plain": [
       "(643, 5)"
      ]
     },
     "execution_count": 12,
     "metadata": {},
     "output_type": "execute_result"
    }
   ],
   "source": [
    "df_test.shape"
   ]
  },
  {
   "cell_type": "markdown",
   "id": "0a9317d2",
   "metadata": {},
   "source": [
    "## Исследование качества разных моделей при изменении гиперпараметров"
   ]
  },
  {
   "cell_type": "markdown",
   "id": "94304e5c",
   "metadata": {},
   "source": [
    "Создадим переменные для признаков и целевого признака для обучающей, валидационной и тестовой выборок"
   ]
  },
  {
   "cell_type": "code",
   "execution_count": 13,
   "id": "9e2548cc",
   "metadata": {},
   "outputs": [],
   "source": [
    "features_train = df_train.drop('is_ultra', axis=1)\n",
    "target_train = df_train['is_ultra']\n",
    "features_valid = df_valid.drop('is_ultra', axis=1)\n",
    "target_valid = df_valid['is_ultra']\n",
    "features_test = df_test.drop('is_ultra', axis=1)\n",
    "target_test = df_test['is_ultra']"
   ]
  },
  {
   "cell_type": "markdown",
   "id": "5a98e905",
   "metadata": {},
   "source": [
    "Доля правильных ответов для всех моделей должна быть выше 0.75 по требованию заказчика. \n",
    "\n",
    "Для постоянства результата для всех моделей зададим `random_state`, равный 12345."
   ]
  },
  {
   "cell_type": "markdown",
   "id": "8f81f84a",
   "metadata": {},
   "source": [
    " <ins>Дерево решений</ins>"
   ]
  },
  {
   "cell_type": "markdown",
   "id": "55a4d24a",
   "metadata": {},
   "source": [
    "Обучим модель дерева решений:\n",
    "- поменяем гиперпараметр `max_depth` (максимально допустимая глубина дерева) в цикле\n",
    "- для каждого значения гиперпараметра вычислим качество (значение `accuracy` на валидационной выборке) "
   ]
  },
  {
   "cell_type": "code",
   "execution_count": 14,
   "id": "d7e5c5eb",
   "metadata": {
    "scrolled": true
   },
   "outputs": [
    {
     "data": {
      "text/html": [
       "<div>\n",
       "<style scoped>\n",
       "    .dataframe tbody tr th:only-of-type {\n",
       "        vertical-align: middle;\n",
       "    }\n",
       "\n",
       "    .dataframe tbody tr th {\n",
       "        vertical-align: top;\n",
       "    }\n",
       "\n",
       "    .dataframe thead th {\n",
       "        text-align: right;\n",
       "    }\n",
       "</style>\n",
       "<table border=\"1\" class=\"dataframe\">\n",
       "  <thead>\n",
       "    <tr style=\"text-align: right;\">\n",
       "      <th></th>\n",
       "      <th>max_depth</th>\n",
       "      <th>accuracy</th>\n",
       "    </tr>\n",
       "  </thead>\n",
       "  <tbody>\n",
       "    <tr>\n",
       "      <th>0</th>\n",
       "      <td>3</td>\n",
       "      <td>0.785</td>\n",
       "    </tr>\n",
       "    <tr>\n",
       "      <th>1</th>\n",
       "      <td>6</td>\n",
       "      <td>0.784</td>\n",
       "    </tr>\n",
       "    <tr>\n",
       "      <th>2</th>\n",
       "      <td>2</td>\n",
       "      <td>0.782</td>\n",
       "    </tr>\n",
       "    <tr>\n",
       "      <th>3</th>\n",
       "      <td>7</td>\n",
       "      <td>0.782</td>\n",
       "    </tr>\n",
       "    <tr>\n",
       "      <th>4</th>\n",
       "      <td>9</td>\n",
       "      <td>0.782</td>\n",
       "    </tr>\n",
       "  </tbody>\n",
       "</table>\n",
       "</div>"
      ],
      "text/plain": [
       "   max_depth  accuracy\n",
       "0          3     0.785\n",
       "1          6     0.784\n",
       "2          2     0.782\n",
       "3          7     0.782\n",
       "4          9     0.782"
      ]
     },
     "execution_count": 14,
     "metadata": {},
     "output_type": "execute_result"
    }
   ],
   "source": [
    "depth_range = range(1, 30)\n",
    "accuracy_list=[]\n",
    "\n",
    "for depth in depth_range:\n",
    "    model = DecisionTreeClassifier(random_state=12345, max_depth=depth) # создание модели со различными значениями max_depth\n",
    "    model.fit(features_train, target_train) # обучение модели на тренировочной выборке\n",
    "    predictions_valid = model.predict(features_valid) # предсказания на валидационной выборке\n",
    "    accuracy_list.append(accuracy_score(target_valid, predictions_valid).round(3)) # качество (точность)    \n",
    "tree_df = pd.DataFrame({'max_depth': list(depth_range), 'accuracy':accuracy_list})\n",
    "tree_df.sort_values(by='accuracy', ascending=False).reset_index(drop=True).head()"
   ]
  },
  {
   "cell_type": "markdown",
   "id": "9ea14fb8",
   "metadata": {},
   "source": [
    "Для наглядности отобразим результаты графически в виде столбчатой диаграммы.\n",
    "\n",
    "Т.к. операция будет повторяться далее для других моделей, создадим функцию `bar_model`:\n",
    "- `model_df` - датафрейм качества соответствующей модели\n",
    "- `model_x` - изменяемый гиперпараметр\n",
    "- `y_min`, `y_max` - границы точности (`accuracy` по оси y)"
   ]
  },
  {
   "cell_type": "code",
   "execution_count": 15,
   "id": "50f517f1",
   "metadata": {},
   "outputs": [],
   "source": [
    "def bar_model(model_df, model_x, y_min, y_max):\n",
    "    sns.set_style('darkgrid')    \n",
    "    sns.set(font_scale=1.1)\n",
    "    plot = model_df.plot.bar(y='accuracy',\n",
    "                             x=model_x,\n",
    "                             figsize=(20, 6),\n",
    "                             ec='black',\n",
    "                             width=0.5,\n",
    "                             ylim=(y_min, y_max),\n",
    "                             fontsize=13,\n",
    "                             color='lightseagreen',\n",
    "                             alpha=0.7)\n",
    "    \n",
    "    for rect in plot.patches:\n",
    "        height = rect.get_height()\n",
    "        plot.text(rect.get_x() + rect.get_width()/2, 1.001*height, round(height, 3), ha='center', va='bottom')\n",
    "    \n",
    "    plt.title('Сравнение качества модели при разных гиперпараметрах', fontsize=15);"
   ]
  },
  {
   "cell_type": "code",
   "execution_count": 16,
   "id": "4f724e23",
   "metadata": {},
   "outputs": [
    {
     "data": {
      "image/png": "[encoded data removed]",
      "text/plain": [
       "<Figure size 1440x432 with 1 Axes>"
      ]
     },
     "metadata": {},
     "output_type": "display_data"
    }
   ],
   "source": [
    "bar_model(tree_df, 'max_depth', 0.71, 0.8)"
   ]
  },
  {
   "cell_type": "markdown",
   "id": "ab882676",
   "metadata": {},
   "source": [
    "При использовании **дерева решений**:\n",
    "- наибольшее значение точности `accuracy` = 0.785 при максимально допустимой глубине дерева `max_depth` = 3\n",
    "- наилучшее качество достигается при максимально допустимой глубине дерева 2≤`max_depth`≤9\n",
    "- `max_depth`=1 - недообучение, `max_depth`>9 - переобучение"
   ]
  },
  {
   "cell_type": "markdown",
   "id": "75f071a9",
   "metadata": {},
   "source": [
    " <ins>Случайный лес</ins>"
   ]
  },
  {
   "cell_type": "markdown",
   "id": "915aa038",
   "metadata": {},
   "source": [
    "Обучим модели случайного леса с различным числом деревьев:\n",
    "- разделим тренировочную и валидационную выборки\n",
    "- при инициализации модели укажем число деревьев (`n_estimators`) равное состоянию счётчика циклов — est\n",
    "- обучим модель на тренировочной выборке\n",
    "- для каждого значения гиперпараметра вычислим качество (значение `accuracy`) на валидационной выборке "
   ]
  },
  {
   "cell_type": "code",
   "execution_count": 17,
   "id": "5f13c84f",
   "metadata": {
    "scrolled": false
   },
   "outputs": [
    {
     "data": {
      "text/html": [
       "<div>\n",
       "<style scoped>\n",
       "    .dataframe tbody tr th:only-of-type {\n",
       "        vertical-align: middle;\n",
       "    }\n",
       "\n",
       "    .dataframe tbody tr th {\n",
       "        vertical-align: top;\n",
       "    }\n",
       "\n",
       "    .dataframe thead th {\n",
       "        text-align: right;\n",
       "    }\n",
       "</style>\n",
       "<table border=\"1\" class=\"dataframe\">\n",
       "  <thead>\n",
       "    <tr style=\"text-align: right;\">\n",
       "      <th></th>\n",
       "      <th>n_estimators</th>\n",
       "      <th>accuracy</th>\n",
       "    </tr>\n",
       "  </thead>\n",
       "  <tbody>\n",
       "    <tr>\n",
       "      <th>0</th>\n",
       "      <td>23</td>\n",
       "      <td>0.795</td>\n",
       "    </tr>\n",
       "    <tr>\n",
       "      <th>1</th>\n",
       "      <td>21</td>\n",
       "      <td>0.793</td>\n",
       "    </tr>\n",
       "    <tr>\n",
       "      <th>2</th>\n",
       "      <td>18</td>\n",
       "      <td>0.793</td>\n",
       "    </tr>\n",
       "    <tr>\n",
       "      <th>3</th>\n",
       "      <td>24</td>\n",
       "      <td>0.790</td>\n",
       "    </tr>\n",
       "    <tr>\n",
       "      <th>4</th>\n",
       "      <td>19</td>\n",
       "      <td>0.788</td>\n",
       "    </tr>\n",
       "  </tbody>\n",
       "</table>\n",
       "</div>"
      ],
      "text/plain": [
       "   n_estimators  accuracy\n",
       "0            23     0.795\n",
       "1            21     0.793\n",
       "2            18     0.793\n",
       "3            24     0.790\n",
       "4            19     0.788"
      ]
     },
     "execution_count": 17,
     "metadata": {},
     "output_type": "execute_result"
    }
   ],
   "source": [
    "est_range = range(1, 30)\n",
    "accuracy_list=[]\n",
    "\n",
    "for est in est_range:\n",
    "    model = RandomForestClassifier(random_state=12345, n_estimators=est) # создание модели с различным количеством деревьев\n",
    "    model.fit(features_train, target_train) # обучение модели на тренировочной выборке\n",
    "    accuracy_list.append(model.score(features_valid, target_valid).round(3)) # расчёт качества модели на валидационной выборке\n",
    "\n",
    "forest_df = pd.DataFrame({'n_estimators': list(est_range), 'accuracy':accuracy_list})\n",
    "forest_df.sort_values(by='accuracy', ascending=False).reset_index(drop=True).head()"
   ]
  },
  {
   "cell_type": "code",
   "execution_count": 18,
   "id": "b20b58a2",
   "metadata": {
    "scrolled": false
   },
   "outputs": [
    {
     "data": {
      "image/png": "[encoded data removed]",
      "text/plain": [
       "<Figure size 1440x432 with 1 Axes>"
      ]
     },
     "metadata": {},
     "output_type": "display_data"
    }
   ],
   "source": [
    "bar_model(forest_df, 'n_estimators', 0.71, 0.81)"
   ]
  },
  {
   "cell_type": "markdown",
   "id": "e6966419",
   "metadata": {},
   "source": [
    "При использовании **случайного леса**:\n",
    "- наибольшее значение точности `accuracy` = 0.795 при максимальном числе деревьев `n_estimators` = 23\n",
    "- наилучшее качество достигается при максимальном числе деревьев 8≤`n_estimators`≤28\n",
    "- при `n_estimators`<8 - возможно недообучение\n",
    "- про переобучение ничего определенного сказать нельзя, т.к. даже при максимальном числе деревьев `n_estimators`>29 получаются неплохие результаты"
   ]
  },
  {
   "cell_type": "markdown",
   "id": "675d1282",
   "metadata": {},
   "source": [
    " <ins>Логистическая регрессия</ins>"
   ]
  },
  {
   "cell_type": "markdown",
   "id": "536e9bff",
   "metadata": {},
   "source": [
    "Обучим модель логистической регрессии:\n",
    "\n",
    "- добавим гиперпараметр `solver`, позволяющий выбрать алгоритм, который будет строить модель\n",
    "- добавим гиперпараметр `max_iter`- максимальное количество итераций обучения\n",
    "- для каждой пары значений гиперпараметров вычислим качество (`accuracy`) на валидационной выборке "
   ]
  },
  {
   "cell_type": "code",
   "execution_count": 19,
   "id": "e6326172",
   "metadata": {
    "scrolled": true
   },
   "outputs": [
    {
     "data": {
      "text/html": [
       "<div>\n",
       "<style scoped>\n",
       "    .dataframe tbody tr th:only-of-type {\n",
       "        vertical-align: middle;\n",
       "    }\n",
       "\n",
       "    .dataframe tbody tr th {\n",
       "        vertical-align: top;\n",
       "    }\n",
       "\n",
       "    .dataframe thead th {\n",
       "        text-align: right;\n",
       "    }\n",
       "</style>\n",
       "<table border=\"1\" class=\"dataframe\">\n",
       "  <thead>\n",
       "    <tr style=\"text-align: right;\">\n",
       "      <th></th>\n",
       "      <th>solver</th>\n",
       "      <th>max_iter</th>\n",
       "      <th>accuracy</th>\n",
       "    </tr>\n",
       "  </thead>\n",
       "  <tbody>\n",
       "    <tr>\n",
       "      <th>0</th>\n",
       "      <td>newton-cg</td>\n",
       "      <td>10000</td>\n",
       "      <td>0.756</td>\n",
       "    </tr>\n",
       "    <tr>\n",
       "      <th>1</th>\n",
       "      <td>lbfgs</td>\n",
       "      <td>1000</td>\n",
       "      <td>0.711</td>\n",
       "    </tr>\n",
       "    <tr>\n",
       "      <th>2</th>\n",
       "      <td>liblinear</td>\n",
       "      <td>1000</td>\n",
       "      <td>0.709</td>\n",
       "    </tr>\n",
       "    <tr>\n",
       "      <th>3</th>\n",
       "      <td>sag</td>\n",
       "      <td>3000</td>\n",
       "      <td>0.708</td>\n",
       "    </tr>\n",
       "    <tr>\n",
       "      <th>4</th>\n",
       "      <td>saga</td>\n",
       "      <td>5000</td>\n",
       "      <td>0.708</td>\n",
       "    </tr>\n",
       "  </tbody>\n",
       "</table>\n",
       "</div>"
      ],
      "text/plain": [
       "      solver  max_iter  accuracy\n",
       "0  newton-cg     10000     0.756\n",
       "1      lbfgs      1000     0.711\n",
       "2  liblinear      1000     0.709\n",
       "3        sag      3000     0.708\n",
       "4       saga      5000     0.708"
      ]
     },
     "execution_count": 19,
     "metadata": {},
     "output_type": "execute_result"
    }
   ],
   "source": [
    "solv_iter = {'newton-cg':10000, 'lbfgs': 1000, 'liblinear': 1000, 'sag': 3000, 'saga': 5000,}\n",
    "accuracy_list=[]\n",
    "\n",
    "for key, value in solv_iter.items():\n",
    "    model = LogisticRegression(random_state=12345, solver=key, max_iter=value) # создание модели с различными гиперпараметрами\n",
    "    model.fit(features_train, target_train) # обучение модели на тренировочной выборке\n",
    "    accuracy_list.append(model.score(features_valid, target_valid).round(3)) # качество (точность)\n",
    "\n",
    "logistic_df = pd.DataFrame({'solver': list(solv_iter), 'max_iter': list(solv_iter.values()), 'accuracy':accuracy_list})\n",
    "logistic_df.sort_values(by='accuracy', ascending=False).reset_index(drop=True)"
   ]
  },
  {
   "cell_type": "code",
   "execution_count": 20,
   "id": "38521ffe",
   "metadata": {
    "scrolled": false
   },
   "outputs": [
    {
     "data": {
      "image/png": "[encoded data removed]",
      "text/plain": [
       "<Figure size 1440x432 with 1 Axes>"
      ]
     },
     "metadata": {},
     "output_type": "display_data"
    }
   ],
   "source": [
    "bar_model(logistic_df, 'solver', 0.69, 0.765)"
   ]
  },
  {
   "cell_type": "markdown",
   "id": "11ea7822",
   "metadata": {},
   "source": [
    "При использовании **логистической регрессии**:\n",
    "- наибольшее значение точности `accuracy` = 0.756 при алгоритме `newton-cg` для гиперпараметра `solver`\n",
    "- остальные алгоритмы уступают в точности"
   ]
  },
  {
   "cell_type": "markdown",
   "id": "e81d504f",
   "metadata": {},
   "source": [
    "Сравнение результатов"
   ]
  },
  {
   "cell_type": "code",
   "execution_count": 21,
   "id": "ce5d6291",
   "metadata": {},
   "outputs": [
    {
     "data": {
      "text/html": [
       "<div>\n",
       "<style scoped>\n",
       "    .dataframe tbody tr th:only-of-type {\n",
       "        vertical-align: middle;\n",
       "    }\n",
       "\n",
       "    .dataframe tbody tr th {\n",
       "        vertical-align: top;\n",
       "    }\n",
       "\n",
       "    .dataframe thead th {\n",
       "        text-align: right;\n",
       "    }\n",
       "</style>\n",
       "<table border=\"1\" class=\"dataframe\">\n",
       "  <thead>\n",
       "    <tr style=\"text-align: right;\">\n",
       "      <th></th>\n",
       "      <th>accuracy</th>\n",
       "    </tr>\n",
       "    <tr>\n",
       "      <th>model</th>\n",
       "      <th></th>\n",
       "    </tr>\n",
       "  </thead>\n",
       "  <tbody>\n",
       "    <tr>\n",
       "      <th>forest_df</th>\n",
       "      <td>0.795</td>\n",
       "    </tr>\n",
       "    <tr>\n",
       "      <th>tree_df</th>\n",
       "      <td>0.785</td>\n",
       "    </tr>\n",
       "    <tr>\n",
       "      <th>logistic_df</th>\n",
       "      <td>0.756</td>\n",
       "    </tr>\n",
       "  </tbody>\n",
       "</table>\n",
       "</div>"
      ],
      "text/plain": [
       "             accuracy\n",
       "model                \n",
       "forest_df       0.795\n",
       "tree_df         0.785\n",
       "logistic_df     0.756"
      ]
     },
     "execution_count": 21,
     "metadata": {},
     "output_type": "execute_result"
    }
   ],
   "source": [
    "best_accuracy = pd.DataFrame({'model': ['tree_df','forest_df','logistic_df'],\n",
    "                            'accuracy':[tree_df['accuracy'].max(),forest_df['accuracy'].max(),logistic_df['accuracy'].max()]})\n",
    "best_accuracy.set_index('model').sort_values(by='accuracy', ascending=False)"
   ]
  },
  {
   "cell_type": "code",
   "execution_count": 22,
   "id": "8a99947b",
   "metadata": {
    "scrolled": true
   },
   "outputs": [
    {
     "data": {
      "image/png": "[encoded data removed]",
      "text/plain": [
       "<Figure size 1440x432 with 1 Axes>"
      ]
     },
     "metadata": {},
     "output_type": "display_data"
    }
   ],
   "source": [
    "bar_model(best_accuracy.sort_values(by='accuracy', ascending=False).reset_index(drop=True), 'model', 0.75, 0.81)\n",
    "plt.title('Сравнение качества моделей', fontsize=15);"
   ]
  },
  {
   "cell_type": "code",
   "execution_count": 23,
   "id": "17347809",
   "metadata": {},
   "outputs": [
    {
     "data": {
      "image/png": "[encoded data removed]",
      "text/plain": [
       "<Figure size 216x108 with 2 Axes>"
      ]
     },
     "metadata": {},
     "output_type": "display_data"
    }
   ],
   "source": [
    "plt.figure(figsize=(3,1.5))\n",
    "plt.title('Тепловая карта качества моделей')\n",
    "sns.heatmap(best_accuracy.set_index('model').sort_values(by='accuracy', ascending=False),\n",
    "            annot=True, annot_kws={\"size\": 13}, cmap=\"Blues\", fmt ='.3g');"
   ]
  },
  {
   "cell_type": "markdown",
   "id": "18ec1242",
   "metadata": {},
   "source": [
    "Вывод.\n",
    "\n",
    "- доля правильных ответов для всех моделей выше 0.75\n",
    "\n",
    "- наилучшие результаты показала модель **случайный лес**, на втором месте - **дерево решений**, на третьем - **логистическая регрессия**"
   ]
  },
  {
   "cell_type": "markdown",
   "id": "99ca92c9",
   "metadata": {},
   "source": [
    "## Проверка качества модели на тестовой выборке"
   ]
  },
  {
   "cell_type": "markdown",
   "id": "07a7a6eb",
   "metadata": {},
   "source": [
    "<ins>Дерево решений</ins>"
   ]
  },
  {
   "cell_type": "code",
   "execution_count": 24,
   "id": "e6fb0883",
   "metadata": {
    "scrolled": true
   },
   "outputs": [
    {
     "data": {
      "text/html": [
       "<div>\n",
       "<style scoped>\n",
       "    .dataframe tbody tr th:only-of-type {\n",
       "        vertical-align: middle;\n",
       "    }\n",
       "\n",
       "    .dataframe tbody tr th {\n",
       "        vertical-align: top;\n",
       "    }\n",
       "\n",
       "    .dataframe thead th {\n",
       "        text-align: right;\n",
       "    }\n",
       "</style>\n",
       "<table border=\"1\" class=\"dataframe\">\n",
       "  <thead>\n",
       "    <tr style=\"text-align: right;\">\n",
       "      <th></th>\n",
       "      <th>max_depth</th>\n",
       "      <th>accuracy</th>\n",
       "    </tr>\n",
       "  </thead>\n",
       "  <tbody>\n",
       "    <tr>\n",
       "      <th>0</th>\n",
       "      <td>3</td>\n",
       "      <td>0.785</td>\n",
       "    </tr>\n",
       "  </tbody>\n",
       "</table>\n",
       "</div>"
      ],
      "text/plain": [
       "   max_depth  accuracy\n",
       "0          3     0.785"
      ]
     },
     "execution_count": 24,
     "metadata": {},
     "output_type": "execute_result"
    }
   ],
   "source": [
    "tree_df.sort_values(by='accuracy', ascending=False).reset_index(drop=True).head(1)"
   ]
  },
  {
   "cell_type": "code",
   "execution_count": 25,
   "id": "7a983b78",
   "metadata": {},
   "outputs": [
    {
     "name": "stdout",
     "output_type": "stream",
     "text": [
      "точность 0.779\n"
     ]
    }
   ],
   "source": [
    "model = DecisionTreeClassifier(random_state=12345, max_depth=3) # создание модели\n",
    "model.fit(features_train, target_train) # обучение модели на тренировочной выборке\n",
    "prediction_test = model.predict(features_test) # предсказания на тестовой выборке\n",
    "accuracy_tree=accuracy_score(target_test, prediction_test).round(3) # качество (точность)    \n",
    "\n",
    "print('точность', accuracy_tree)"
   ]
  },
  {
   "cell_type": "markdown",
   "id": "93335ba1",
   "metadata": {},
   "source": [
    " <ins>Случайный лес</ins>"
   ]
  },
  {
   "cell_type": "code",
   "execution_count": 26,
   "id": "a8db25fb",
   "metadata": {
    "scrolled": true
   },
   "outputs": [
    {
     "data": {
      "text/html": [
       "<div>\n",
       "<style scoped>\n",
       "    .dataframe tbody tr th:only-of-type {\n",
       "        vertical-align: middle;\n",
       "    }\n",
       "\n",
       "    .dataframe tbody tr th {\n",
       "        vertical-align: top;\n",
       "    }\n",
       "\n",
       "    .dataframe thead th {\n",
       "        text-align: right;\n",
       "    }\n",
       "</style>\n",
       "<table border=\"1\" class=\"dataframe\">\n",
       "  <thead>\n",
       "    <tr style=\"text-align: right;\">\n",
       "      <th></th>\n",
       "      <th>n_estimators</th>\n",
       "      <th>accuracy</th>\n",
       "    </tr>\n",
       "  </thead>\n",
       "  <tbody>\n",
       "    <tr>\n",
       "      <th>0</th>\n",
       "      <td>23</td>\n",
       "      <td>0.795</td>\n",
       "    </tr>\n",
       "  </tbody>\n",
       "</table>\n",
       "</div>"
      ],
      "text/plain": [
       "   n_estimators  accuracy\n",
       "0            23     0.795"
      ]
     },
     "execution_count": 26,
     "metadata": {},
     "output_type": "execute_result"
    }
   ],
   "source": [
    "forest_df.sort_values(by='accuracy', ascending=False).reset_index(drop=True).head(1)"
   ]
  },
  {
   "cell_type": "code",
   "execution_count": 27,
   "id": "dec834f7",
   "metadata": {
    "scrolled": false
   },
   "outputs": [
    {
     "name": "stdout",
     "output_type": "stream",
     "text": [
      "точность 0.781\n"
     ]
    }
   ],
   "source": [
    "model = RandomForestClassifier(random_state=12345, n_estimators=23) # создание модели\n",
    "model.fit(features_train, target_train) # обучение модели на тренировочной выборке\n",
    "accuracy_forest = model.score(features_test, target_test).round(3) # расчёт качества модели на тестовой выборке\n",
    "print('точность', accuracy_forest)"
   ]
  },
  {
   "cell_type": "markdown",
   "id": "0c116f37",
   "metadata": {},
   "source": [
    " <ins>Логистическая регрессия</ins>"
   ]
  },
  {
   "cell_type": "code",
   "execution_count": 28,
   "id": "5df4fc63",
   "metadata": {
    "scrolled": true
   },
   "outputs": [
    {
     "data": {
      "text/html": [
       "<div>\n",
       "<style scoped>\n",
       "    .dataframe tbody tr th:only-of-type {\n",
       "        vertical-align: middle;\n",
       "    }\n",
       "\n",
       "    .dataframe tbody tr th {\n",
       "        vertical-align: top;\n",
       "    }\n",
       "\n",
       "    .dataframe thead th {\n",
       "        text-align: right;\n",
       "    }\n",
       "</style>\n",
       "<table border=\"1\" class=\"dataframe\">\n",
       "  <thead>\n",
       "    <tr style=\"text-align: right;\">\n",
       "      <th></th>\n",
       "      <th>solver</th>\n",
       "      <th>max_iter</th>\n",
       "      <th>accuracy</th>\n",
       "    </tr>\n",
       "  </thead>\n",
       "  <tbody>\n",
       "    <tr>\n",
       "      <th>0</th>\n",
       "      <td>newton-cg</td>\n",
       "      <td>10000</td>\n",
       "      <td>0.756</td>\n",
       "    </tr>\n",
       "  </tbody>\n",
       "</table>\n",
       "</div>"
      ],
      "text/plain": [
       "      solver  max_iter  accuracy\n",
       "0  newton-cg     10000     0.756"
      ]
     },
     "execution_count": 28,
     "metadata": {},
     "output_type": "execute_result"
    }
   ],
   "source": [
    "logistic_df.sort_values(by='accuracy', ascending=False).reset_index(drop=True).head(1)"
   ]
  },
  {
   "cell_type": "code",
   "execution_count": 29,
   "id": "60e44ac5",
   "metadata": {},
   "outputs": [
    {
     "name": "stdout",
     "output_type": "stream",
     "text": [
      "точность 0.739\n"
     ]
    }
   ],
   "source": [
    "model = LogisticRegression(random_state=12345, solver='newton-cg', max_iter=10000) # создание модели\n",
    "model.fit(features_train, target_train) # обучение модели на тренировочной выборке\n",
    "accuracy_logistic = model.score(features_test, target_test).round(3) ## расчёт качества модели на тестовой выборке\n",
    "print('точность', accuracy_logistic)"
   ]
  },
  {
   "cell_type": "markdown",
   "id": "e0785f80",
   "metadata": {},
   "source": [
    "Сравнение результатов"
   ]
  },
  {
   "cell_type": "code",
   "execution_count": 30,
   "id": "c3b2ffcf",
   "metadata": {
    "scrolled": true
   },
   "outputs": [
    {
     "data": {
      "text/html": [
       "<div>\n",
       "<style scoped>\n",
       "    .dataframe tbody tr th:only-of-type {\n",
       "        vertical-align: middle;\n",
       "    }\n",
       "\n",
       "    .dataframe tbody tr th {\n",
       "        vertical-align: top;\n",
       "    }\n",
       "\n",
       "    .dataframe thead th {\n",
       "        text-align: right;\n",
       "    }\n",
       "</style>\n",
       "<table border=\"1\" class=\"dataframe\">\n",
       "  <thead>\n",
       "    <tr style=\"text-align: right;\">\n",
       "      <th></th>\n",
       "      <th>accuracy</th>\n",
       "    </tr>\n",
       "    <tr>\n",
       "      <th>model</th>\n",
       "      <th></th>\n",
       "    </tr>\n",
       "  </thead>\n",
       "  <tbody>\n",
       "    <tr>\n",
       "      <th>forest_df</th>\n",
       "      <td>0.781</td>\n",
       "    </tr>\n",
       "    <tr>\n",
       "      <th>tree_df</th>\n",
       "      <td>0.779</td>\n",
       "    </tr>\n",
       "    <tr>\n",
       "      <th>logistic_df</th>\n",
       "      <td>0.739</td>\n",
       "    </tr>\n",
       "  </tbody>\n",
       "</table>\n",
       "</div>"
      ],
      "text/plain": [
       "             accuracy\n",
       "model                \n",
       "forest_df       0.781\n",
       "tree_df         0.779\n",
       "logistic_df     0.739"
      ]
     },
     "execution_count": 30,
     "metadata": {},
     "output_type": "execute_result"
    }
   ],
   "source": [
    "best_accuracy = pd.DataFrame({'model': ['tree_df','forest_df','logistic_df'],\n",
    "                            'accuracy':[accuracy_tree, accuracy_forest,accuracy_logistic]})\n",
    "best_accuracy.set_index('model').sort_values(by='accuracy', ascending=False)"
   ]
  },
  {
   "cell_type": "code",
   "execution_count": 31,
   "id": "f72af6e8",
   "metadata": {
    "scrolled": false
   },
   "outputs": [
    {
     "data": {
      "image/png": "[encoded data removed]",
      "text/plain": [
       "<Figure size 1440x432 with 1 Axes>"
      ]
     },
     "metadata": {},
     "output_type": "display_data"
    }
   ],
   "source": [
    "bar_model(best_accuracy.sort_values(by='accuracy', ascending=False).reset_index(drop=True), 'model', 0.73, 0.81)\n",
    "plt.title('Сравнение качества моделей', fontsize=15);"
   ]
  },
  {
   "cell_type": "code",
   "execution_count": 32,
   "id": "8672e851",
   "metadata": {
    "scrolled": false
   },
   "outputs": [
    {
     "data": {
      "image/png": "[encoded data removed]",
      "text/plain": [
       "<Figure size 216x108 with 2 Axes>"
      ]
     },
     "metadata": {},
     "output_type": "display_data"
    }
   ],
   "source": [
    "plt.figure(figsize=(3,1.5))\n",
    "plt.title('Тепловая карта качества моделей')\n",
    "sns.heatmap(best_accuracy.set_index('model').sort_values(by='accuracy', ascending=False),\n",
    "            annot=True, annot_kws={\"size\": 13}, cmap=\"Blues\", fmt ='.3g');"
   ]
  },
  {
   "cell_type": "markdown",
   "id": "67383c4d",
   "metadata": {},
   "source": [
    "Вывод.\n",
    "\n",
    "- доля правильных ответов для моделей **случайный лес** и **дерево решений** выше 0.75, для модели **логистическая регрессия** - ниже\n",
    "\n",
    "- наилучшие результаты показала модель **случайный лес**, на втором месте - **дерево решений**, на третьем - **логистическая регрессия**"
   ]
  },
  {
   "cell_type": "markdown",
   "id": "fd7452ed",
   "metadata": {},
   "source": [
    "## Выбор лучшей модели"
   ]
  },
  {
   "cell_type": "markdown",
   "id": "caac7d8a",
   "metadata": {},
   "source": [
    "Лучшая модель (модель с наибольшей точностью) - **случайный лес**.\n",
    "\n",
    "Сохраним результаты в переменную `model_best`."
   ]
  },
  {
   "cell_type": "code",
   "execution_count": 33,
   "id": "35baf8d4",
   "metadata": {
    "scrolled": true
   },
   "outputs": [
    {
     "name": "stdout",
     "output_type": "stream",
     "text": [
      "точность на валидационной выборке 0.795\n",
      "точность на тестовой выборке 0.781\n"
     ]
    }
   ],
   "source": [
    "model_best = RandomForestClassifier(random_state=12345, n_estimators=23)\n",
    "model_best.fit(features_train, target_train)\n",
    "accuracy_valid = model_best.score(features_valid, target_valid).round(3)\n",
    "accuracy_test = model_best.score(features_test, target_test).round(3)\n",
    "print('точность на валидационной выборке', accuracy_valid)\n",
    "print('точность на тестовой выборке', accuracy_test)"
   ]
  },
  {
   "cell_type": "markdown",
   "id": "cb198a6a",
   "metadata": {},
   "source": [
    "Дополнительно проверим точность на выборке, объединяющей валидационную и тренировочную"
   ]
  },
  {
   "cell_type": "markdown",
   "id": "5b6b178d",
   "metadata": {},
   "source": [
    "Объединим валидационную и тренировочную выборки в `df_valid_test`"
   ]
  },
  {
   "cell_type": "code",
   "execution_count": 34,
   "id": "c5674101",
   "metadata": {},
   "outputs": [
    {
     "data": {
      "text/plain": [
       "(1286, 5)"
      ]
     },
     "execution_count": 34,
     "metadata": {},
     "output_type": "execute_result"
    }
   ],
   "source": [
    "df_valid_test = df_valid.merge(df_test, on=['calls', 'minutes', 'messages', 'mb_used', 'is_ultra'], how='outer')\n",
    "df_valid_test.shape"
   ]
  },
  {
   "cell_type": "markdown",
   "id": "9ad51a78",
   "metadata": {},
   "source": [
    "Создадим переменные для признаков и целевого признака для выборки `df_valid_test`"
   ]
  },
  {
   "cell_type": "code",
   "execution_count": 35,
   "id": "285e2d47",
   "metadata": {},
   "outputs": [],
   "source": [
    "features_valid_test = df_valid_test.drop('is_ultra', axis=1)\n",
    "target_valid_test = df_valid_test['is_ultra']"
   ]
  },
  {
   "cell_type": "markdown",
   "id": "57b7f9da",
   "metadata": {},
   "source": [
    "Проверим точность"
   ]
  },
  {
   "cell_type": "code",
   "execution_count": 36,
   "id": "fa20f08a",
   "metadata": {
    "scrolled": false
   },
   "outputs": [
    {
     "name": "stdout",
     "output_type": "stream",
     "text": [
      "точность на выборке, объединяющей валидационную и тренировочную, 0.788\n"
     ]
    }
   ],
   "source": [
    "accuracy_valid_test = model_best.score(features_valid_test, target_valid_test).round(3)\n",
    "print('точность на выборке, объединяющей валидационную и тренировочную,', accuracy_valid_test)"
   ]
  },
  {
   "cell_type": "markdown",
   "id": "a0beaf6e",
   "metadata": {},
   "source": [
    "Точность выше, чем на тренировочной выборке, но ниже, чем на валидационной."
   ]
  },
  {
   "cell_type": "markdown",
   "id": "cdc7fa3e",
   "metadata": {},
   "source": [
    "## Проверка модели на вменяемость"
   ]
  },
  {
   "cell_type": "markdown",
   "id": "f788fff7",
   "metadata": {},
   "source": [
    "Проверим на вменяемость двумя способами:\n",
    "- 1) сравнение лучшей модели со случайной\n",
    "- 2) проверка лучшей модели на случайной выборке"
   ]
  },
  {
   "cell_type": "markdown",
   "id": "17e968c8",
   "metadata": {},
   "source": [
    "### Cравнение лучшей модели со случайной"
   ]
  },
  {
   "cell_type": "markdown",
   "id": "5ba1b4b4",
   "metadata": {},
   "source": [
    "Используем классификатор `DummyClassifier`, делающий прогнозы, игнорируя входные функции.\n",
    "\n",
    "Конкретное поведение базовой линии выбирается с помощью параметра `strategy`."
   ]
  },
  {
   "cell_type": "code",
   "execution_count": 37,
   "id": "707ff8cb",
   "metadata": {},
   "outputs": [
    {
     "name": "stdout",
     "output_type": "stream",
     "text": [
      "точность случайной модели на валидационной выборке 0.706\n",
      "точность случайной модели на тестовой выборке 0.684\n"
     ]
    }
   ],
   "source": [
    "clf_dummy = DummyClassifier(strategy=\"most_frequent\", random_state=42)\n",
    "clf_dummy.fit(features_train, target_train)\n",
    "accuracy_valid_dum = clf_dummy.score(features_valid, target_valid).round(3)\n",
    "accuracy_test_dum = clf_dummy.score(features_test, target_test).round(3)\n",
    "print('точность случайной модели на валидационной выборке', accuracy_valid_dum)\n",
    "print('точность случайной модели на тестовой выборке', accuracy_test_dum)"
   ]
  },
  {
   "cell_type": "code",
   "execution_count": 38,
   "id": "ad6c2efb",
   "metadata": {},
   "outputs": [],
   "source": [
    "accuracy_compare_1 = (pd.DataFrame({'accuracy': [accuracy_valid, accuracy_valid_dum, accuracy_test, accuracy_test_dum],\n",
    "                                 'model_selection':['best_valid', 'random_valid', 'best_test', 'random_test']})\n",
    "                    .set_index('model_selection'))"
   ]
  },
  {
   "cell_type": "code",
   "execution_count": 39,
   "id": "38464658",
   "metadata": {
    "scrolled": true
   },
   "outputs": [
    {
     "data": {
      "text/html": [
       "<div>\n",
       "<style scoped>\n",
       "    .dataframe tbody tr th:only-of-type {\n",
       "        vertical-align: middle;\n",
       "    }\n",
       "\n",
       "    .dataframe tbody tr th {\n",
       "        vertical-align: top;\n",
       "    }\n",
       "\n",
       "    .dataframe thead th {\n",
       "        text-align: right;\n",
       "    }\n",
       "</style>\n",
       "<table border=\"1\" class=\"dataframe\">\n",
       "  <thead>\n",
       "    <tr style=\"text-align: right;\">\n",
       "      <th></th>\n",
       "      <th>accuracy</th>\n",
       "    </tr>\n",
       "    <tr>\n",
       "      <th>model_selection</th>\n",
       "      <th></th>\n",
       "    </tr>\n",
       "  </thead>\n",
       "  <tbody>\n",
       "    <tr>\n",
       "      <th>best_valid</th>\n",
       "      <td>0.795</td>\n",
       "    </tr>\n",
       "    <tr>\n",
       "      <th>random_valid</th>\n",
       "      <td>0.706</td>\n",
       "    </tr>\n",
       "    <tr>\n",
       "      <th>best_test</th>\n",
       "      <td>0.781</td>\n",
       "    </tr>\n",
       "    <tr>\n",
       "      <th>random_test</th>\n",
       "      <td>0.684</td>\n",
       "    </tr>\n",
       "  </tbody>\n",
       "</table>\n",
       "</div>"
      ],
      "text/plain": [
       "                 accuracy\n",
       "model_selection          \n",
       "best_valid          0.795\n",
       "random_valid        0.706\n",
       "best_test           0.781\n",
       "random_test         0.684"
      ]
     },
     "execution_count": 39,
     "metadata": {},
     "output_type": "execute_result"
    }
   ],
   "source": [
    "accuracy_compare_1"
   ]
  },
  {
   "cell_type": "code",
   "execution_count": 40,
   "id": "81ef384a",
   "metadata": {
    "scrolled": false
   },
   "outputs": [
    {
     "data": {
      "image/png": "[encoded data removed]",
      "text/plain": [
       "<Figure size 216x108 with 2 Axes>"
      ]
     },
     "metadata": {},
     "output_type": "display_data"
    }
   ],
   "source": [
    "plt.figure(figsize=(3,1.5))\n",
    "plt.title('Тепловая карта качества моделей')\n",
    "sns.heatmap(accuracy_compare_1.sort_values(by='accuracy', ascending=False),\n",
    "            annot=True, annot_kws={\"size\": 13}, cmap=\"Blues\", fmt ='.3g');"
   ]
  },
  {
   "cell_type": "markdown",
   "id": "b2308e64",
   "metadata": {},
   "source": [
    "`model_selection`:\n",
    "- `best_valid` - лучшая модель, валидационная выборка\n",
    "- `best_test` - лучшая модель, тестовая выборка\n",
    "- `random_valid` - случайная модель, валидационная выборка\n",
    "- `random_test` - случайная модель, тестовая выборка"
   ]
  },
  {
   "cell_type": "markdown",
   "id": "dbbd9b39",
   "metadata": {},
   "source": [
    "Итог.\n",
    "\n",
    "Лучшая модель показала более высокую точность, чем случайная, следовательно лучшая модель вменяема."
   ]
  },
  {
   "cell_type": "markdown",
   "id": "dedfb55f",
   "metadata": {},
   "source": [
    "### Проверка лучшей модели на случайной выборке"
   ]
  },
  {
   "cell_type": "markdown",
   "id": "afc9438a",
   "metadata": {},
   "source": [
    "Проверим точность при случайном заполнении целевого признака.\n",
    "\n",
    "Создадим переменную для целевого признака случайной выборки."
   ]
  },
  {
   "cell_type": "code",
   "execution_count": 41,
   "id": "c3cfb53f",
   "metadata": {},
   "outputs": [],
   "source": [
    "target_valid_r = np.random.randint(0, 2, size=len(features_valid))\n",
    "target_test_r = np.random.randint(0, 2, size=len(features_test))"
   ]
  },
  {
   "cell_type": "code",
   "execution_count": 42,
   "id": "ae90dd0e",
   "metadata": {},
   "outputs": [
    {
     "name": "stdout",
     "output_type": "stream",
     "text": [
      "точность на валидационной выборке 0.493\n",
      "точность на тестовой выборке 0.479\n"
     ]
    }
   ],
   "source": [
    "accuracy_valid_r = model_best.score(features_valid, target_valid_r).round(3)\n",
    "accuracy_test_r = model_best.score(features_test, target_test_r).round(3)\n",
    "print('точность на валидационной выборке', accuracy_valid_r)\n",
    "print('точность на тестовой выборке', accuracy_test_r)"
   ]
  },
  {
   "cell_type": "code",
   "execution_count": 43,
   "id": "22d578d0",
   "metadata": {
    "scrolled": false
   },
   "outputs": [
    {
     "data": {
      "text/html": [
       "<div>\n",
       "<style scoped>\n",
       "    .dataframe tbody tr th:only-of-type {\n",
       "        vertical-align: middle;\n",
       "    }\n",
       "\n",
       "    .dataframe tbody tr th {\n",
       "        vertical-align: top;\n",
       "    }\n",
       "\n",
       "    .dataframe thead th {\n",
       "        text-align: right;\n",
       "    }\n",
       "</style>\n",
       "<table border=\"1\" class=\"dataframe\">\n",
       "  <thead>\n",
       "    <tr style=\"text-align: right;\">\n",
       "      <th></th>\n",
       "      <th>accuracy</th>\n",
       "    </tr>\n",
       "    <tr>\n",
       "      <th>selection</th>\n",
       "      <th></th>\n",
       "    </tr>\n",
       "  </thead>\n",
       "  <tbody>\n",
       "    <tr>\n",
       "      <th>act_valid</th>\n",
       "      <td>0.795</td>\n",
       "    </tr>\n",
       "    <tr>\n",
       "      <th>random_valid</th>\n",
       "      <td>0.493</td>\n",
       "    </tr>\n",
       "    <tr>\n",
       "      <th>act_test</th>\n",
       "      <td>0.781</td>\n",
       "    </tr>\n",
       "    <tr>\n",
       "      <th>random_test</th>\n",
       "      <td>0.479</td>\n",
       "    </tr>\n",
       "  </tbody>\n",
       "</table>\n",
       "</div>"
      ],
      "text/plain": [
       "              accuracy\n",
       "selection             \n",
       "act_valid        0.795\n",
       "random_valid     0.493\n",
       "act_test         0.781\n",
       "random_test      0.479"
      ]
     },
     "execution_count": 43,
     "metadata": {},
     "output_type": "execute_result"
    }
   ],
   "source": [
    "accuracy_compare_2 = (pd.DataFrame({'accuracy': [accuracy_valid, accuracy_valid_r, accuracy_test, accuracy_test_r],\n",
    "                                 'selection':['act_valid', 'random_valid', 'act_test', 'random_test']})\n",
    "                    .set_index('selection'))\n",
    "accuracy_compare_2"
   ]
  },
  {
   "cell_type": "code",
   "execution_count": 44,
   "id": "5752356c",
   "metadata": {
    "scrolled": true
   },
   "outputs": [
    {
     "data": {
      "image/png": "[encoded data removed]",
      "text/plain": [
       "<Figure size 216x108 with 2 Axes>"
      ]
     },
     "metadata": {},
     "output_type": "display_data"
    }
   ],
   "source": [
    "plt.figure(figsize=(3,1.5))\n",
    "plt.title('Тепловая карта качества моделей')\n",
    "sns.heatmap(accuracy_compare_2.sort_values(by='accuracy', ascending=False),\n",
    "            annot=True, annot_kws={\"size\": 13}, cmap=\"Blues\", fmt ='.3g');"
   ]
  },
  {
   "cell_type": "markdown",
   "id": "c337a754",
   "metadata": {},
   "source": [
    "`selection`:\n",
    "- `act_valid` - актуальный датасет, валидационная выборка\n",
    "- `act_test` - актуальный датасет, тестовая выборка\n",
    "- `random_valid` - случайный датасет, валидационная выборка\n",
    "- `random_test` - случайный датасет, тестовая выборка"
   ]
  },
  {
   "cell_type": "markdown",
   "id": "1fe4c287",
   "metadata": {},
   "source": [
    "Итог.\n",
    "\n",
    "Лучшая модель, проверенная на актуальных данных, показала более высокую точность, чем лучшая модель, проверенная на случайных данных, следовательно модель вменяема."
   ]
  },
  {
   "cell_type": "markdown",
   "id": "515ddc0a",
   "metadata": {},
   "source": [
    "## Вывод"
   ]
  },
  {
   "cell_type": "markdown",
   "id": "d829db8f",
   "metadata": {},
   "source": [
    "По требованию заказчика построена модель для задачи классификации, выбирающая подходящий тариф с максимальной точностью.\n",
    "\n",
    "Доля правильных ответов не ниже 0.75, точность проверена на тестовой выборке.\n",
    "\n",
    "Модель сохранена в переменной `model_best`."
   ]
  }
 ],
 "metadata": {
  "ExecuteTimeLog": [
   {
    "duration": 677,
    "start_time": "2022-03-16T19:20:12.083Z"
   },
   {
    "duration": 571,
    "start_time": "2022-03-16T19:20:43.005Z"
   },
   {
    "duration": 943,
    "start_time": "2022-03-16T19:51:27.639Z"
   },
   {
    "duration": 2,
    "start_time": "2022-03-16T19:52:50.636Z"
   },
   {
    "duration": 52,
    "start_time": "2022-03-16T20:02:08.739Z"
   },
   {
    "duration": 59,
    "start_time": "2022-03-16T20:02:31.043Z"
   },
   {
    "duration": 636,
    "start_time": "2022-03-16T20:04:56.545Z"
   },
   {
    "duration": 25,
    "start_time": "2022-03-16T20:33:06.664Z"
   },
   {
    "duration": 318,
    "start_time": "2022-03-16T20:44:13.238Z"
   },
   {
    "duration": 4594,
    "start_time": "2022-03-16T20:44:33.562Z"
   },
   {
    "duration": 7071,
    "start_time": "2022-03-16T20:44:52.962Z"
   },
   {
    "duration": 5,
    "start_time": "2022-03-16T20:45:17.596Z"
   },
   {
    "duration": 7,
    "start_time": "2022-03-16T20:47:43.159Z"
   },
   {
    "duration": 7,
    "start_time": "2022-03-16T20:49:34.886Z"
   },
   {
    "duration": 310,
    "start_time": "2022-03-16T20:53:13.985Z"
   },
   {
    "duration": 297,
    "start_time": "2022-03-16T20:53:28.960Z"
   },
   {
    "duration": 12,
    "start_time": "2022-03-16T20:56:35.991Z"
   },
   {
    "duration": 4,
    "start_time": "2022-03-16T21:01:40.112Z"
   },
   {
    "duration": 5,
    "start_time": "2022-03-16T21:06:08.551Z"
   },
   {
    "duration": 5,
    "start_time": "2022-03-16T21:06:27.055Z"
   },
   {
    "duration": 8,
    "start_time": "2022-03-17T14:53:14.279Z"
   },
   {
    "duration": 486,
    "start_time": "2022-03-17T14:53:44.015Z"
   },
   {
    "duration": 20,
    "start_time": "2022-03-17T14:53:44.503Z"
   },
   {
    "duration": 10,
    "start_time": "2022-03-17T14:53:44.524Z"
   },
   {
    "duration": 0,
    "start_time": "2022-03-17T14:53:44.536Z"
   },
   {
    "duration": 0,
    "start_time": "2022-03-17T14:53:44.537Z"
   },
   {
    "duration": 5,
    "start_time": "2022-03-17T14:53:54.793Z"
   },
   {
    "duration": 6,
    "start_time": "2022-03-17T15:01:07.101Z"
   },
   {
    "duration": 6,
    "start_time": "2022-03-17T15:01:15.668Z"
   },
   {
    "duration": 7,
    "start_time": "2022-03-17T15:02:51.528Z"
   },
   {
    "duration": 9,
    "start_time": "2022-03-17T16:06:14.030Z"
   },
   {
    "duration": 9,
    "start_time": "2022-03-17T16:06:17.326Z"
   },
   {
    "duration": 8,
    "start_time": "2022-03-17T16:06:32.189Z"
   },
   {
    "duration": 12,
    "start_time": "2022-03-17T16:10:23.760Z"
   },
   {
    "duration": 15,
    "start_time": "2022-03-17T16:11:04.259Z"
   },
   {
    "duration": 14,
    "start_time": "2022-03-17T16:11:35.299Z"
   },
   {
    "duration": 17,
    "start_time": "2022-03-17T16:26:19.219Z"
   },
   {
    "duration": 19,
    "start_time": "2022-03-17T16:26:49.399Z"
   },
   {
    "duration": 418,
    "start_time": "2022-03-17T16:33:11.687Z"
   },
   {
    "duration": 20,
    "start_time": "2022-03-17T16:33:12.108Z"
   },
   {
    "duration": 9,
    "start_time": "2022-03-17T16:33:12.130Z"
   },
   {
    "duration": 124,
    "start_time": "2022-03-17T17:06:52.311Z"
   },
   {
    "duration": 5,
    "start_time": "2022-03-17T17:07:01.544Z"
   },
   {
    "duration": 5,
    "start_time": "2022-03-17T17:08:24.885Z"
   },
   {
    "duration": 5,
    "start_time": "2022-03-17T17:08:26.605Z"
   },
   {
    "duration": 5,
    "start_time": "2022-03-17T17:08:28.017Z"
   },
   {
    "duration": 7,
    "start_time": "2022-03-17T17:10:35.493Z"
   },
   {
    "duration": 16,
    "start_time": "2022-03-17T17:11:32.821Z"
   },
   {
    "duration": 5,
    "start_time": "2022-03-17T17:14:32.044Z"
   },
   {
    "duration": 14,
    "start_time": "2022-03-17T17:14:38.579Z"
   },
   {
    "duration": 64,
    "start_time": "2022-03-17T17:18:18.618Z"
   },
   {
    "duration": 6,
    "start_time": "2022-03-17T17:18:27.209Z"
   },
   {
    "duration": 7,
    "start_time": "2022-03-17T17:19:52.681Z"
   },
   {
    "duration": 21,
    "start_time": "2022-03-17T17:32:57.180Z"
   },
   {
    "duration": 6,
    "start_time": "2022-03-17T17:51:13.142Z"
   },
   {
    "duration": 14,
    "start_time": "2022-03-17T17:51:42.535Z"
   },
   {
    "duration": 19,
    "start_time": "2022-03-17T17:51:51.078Z"
   },
   {
    "duration": 5,
    "start_time": "2022-03-17T18:04:00.838Z"
   },
   {
    "duration": 12,
    "start_time": "2022-03-17T18:04:20.250Z"
   },
   {
    "duration": 3,
    "start_time": "2022-03-17T18:10:17.660Z"
   },
   {
    "duration": 5,
    "start_time": "2022-03-17T18:10:26.095Z"
   },
   {
    "duration": 7,
    "start_time": "2022-03-17T19:01:42.251Z"
   },
   {
    "duration": 7,
    "start_time": "2022-03-17T19:01:49.251Z"
   },
   {
    "duration": 7,
    "start_time": "2022-03-17T19:02:07.310Z"
   },
   {
    "duration": 8,
    "start_time": "2022-03-17T19:02:46.931Z"
   },
   {
    "duration": 8,
    "start_time": "2022-03-17T19:03:00.717Z"
   },
   {
    "duration": 2207,
    "start_time": "2022-03-17T19:17:50.100Z"
   },
   {
    "duration": 11,
    "start_time": "2022-03-17T19:18:07.980Z"
   },
   {
    "duration": 4,
    "start_time": "2022-03-17T19:19:10.696Z"
   },
   {
    "duration": 20,
    "start_time": "2022-03-17T19:20:37.755Z"
   },
   {
    "duration": 21,
    "start_time": "2022-03-17T19:20:56.060Z"
   },
   {
    "duration": 3,
    "start_time": "2022-03-17T19:22:28.631Z"
   },
   {
    "duration": 4,
    "start_time": "2022-03-17T19:22:36.373Z"
   },
   {
    "duration": 81,
    "start_time": "2022-03-18T17:13:13.679Z"
   },
   {
    "duration": 10,
    "start_time": "2022-03-18T17:13:19.715Z"
   },
   {
    "duration": 9,
    "start_time": "2022-03-18T17:15:07.647Z"
   },
   {
    "duration": 641,
    "start_time": "2022-03-18T17:15:19.068Z"
   },
   {
    "duration": 46,
    "start_time": "2022-03-18T17:15:19.712Z"
   },
   {
    "duration": 42,
    "start_time": "2022-03-18T17:15:19.760Z"
   },
   {
    "duration": 28,
    "start_time": "2022-03-18T17:15:19.805Z"
   },
   {
    "duration": 35,
    "start_time": "2022-03-18T17:15:19.837Z"
   },
   {
    "duration": 49,
    "start_time": "2022-03-18T17:15:19.876Z"
   },
   {
    "duration": 36,
    "start_time": "2022-03-18T17:15:19.928Z"
   },
   {
    "duration": 57,
    "start_time": "2022-03-18T17:15:32.615Z"
   },
   {
    "duration": 172,
    "start_time": "2022-03-18T17:16:57.439Z"
   },
   {
    "duration": 658,
    "start_time": "2022-03-18T17:47:15.017Z"
   },
   {
    "duration": 61,
    "start_time": "2022-03-18T17:47:15.679Z"
   },
   {
    "duration": 67,
    "start_time": "2022-03-18T17:47:15.743Z"
   },
   {
    "duration": 10,
    "start_time": "2022-03-18T17:47:15.814Z"
   },
   {
    "duration": 11,
    "start_time": "2022-03-18T17:47:15.830Z"
   },
   {
    "duration": 80,
    "start_time": "2022-03-18T17:47:15.843Z"
   },
   {
    "duration": 5,
    "start_time": "2022-03-18T17:47:15.926Z"
   },
   {
    "duration": 174,
    "start_time": "2022-03-18T18:03:58.733Z"
   },
   {
    "duration": 6,
    "start_time": "2022-03-18T19:43:52.517Z"
   },
   {
    "duration": 9,
    "start_time": "2022-03-18T19:45:28.187Z"
   },
   {
    "duration": 2623,
    "start_time": "2022-03-18T19:45:40.116Z"
   },
   {
    "duration": 9,
    "start_time": "2022-03-18T19:45:50.707Z"
   },
   {
    "duration": 6,
    "start_time": "2022-03-18T19:46:39.081Z"
   },
   {
    "duration": 134,
    "start_time": "2022-03-18T19:46:51.730Z"
   },
   {
    "duration": 6,
    "start_time": "2022-03-18T19:47:46.659Z"
   },
   {
    "duration": 6,
    "start_time": "2022-03-18T19:47:59.657Z"
   },
   {
    "duration": 554,
    "start_time": "2022-03-18T19:48:53.023Z"
   },
   {
    "duration": 46,
    "start_time": "2022-03-18T19:48:53.580Z"
   },
   {
    "duration": 75,
    "start_time": "2022-03-18T19:48:53.629Z"
   },
   {
    "duration": 10,
    "start_time": "2022-03-18T19:48:53.707Z"
   },
   {
    "duration": 11,
    "start_time": "2022-03-18T19:48:53.720Z"
   },
   {
    "duration": 53,
    "start_time": "2022-03-18T19:48:53.733Z"
   },
   {
    "duration": 6,
    "start_time": "2022-03-18T19:48:53.789Z"
   },
   {
    "duration": 7,
    "start_time": "2022-03-18T19:48:53.797Z"
   },
   {
    "duration": 10,
    "start_time": "2022-03-18T19:50:51.412Z"
   },
   {
    "duration": 104,
    "start_time": "2022-03-18T20:10:56.323Z"
   },
   {
    "duration": 555,
    "start_time": "2022-03-18T20:13:13.307Z"
   },
   {
    "duration": 49,
    "start_time": "2022-03-18T20:13:13.865Z"
   },
   {
    "duration": 45,
    "start_time": "2022-03-18T20:13:13.917Z"
   },
   {
    "duration": 24,
    "start_time": "2022-03-18T20:13:13.965Z"
   },
   {
    "duration": 18,
    "start_time": "2022-03-18T20:13:13.992Z"
   },
   {
    "duration": 28,
    "start_time": "2022-03-18T20:13:14.012Z"
   },
   {
    "duration": 19,
    "start_time": "2022-03-18T20:13:14.042Z"
   },
   {
    "duration": 47,
    "start_time": "2022-03-18T20:13:14.064Z"
   },
   {
    "duration": 111,
    "start_time": "2022-03-18T20:13:14.113Z"
   },
   {
    "duration": 487,
    "start_time": "2022-03-19T09:04:14.719Z"
   },
   {
    "duration": 28,
    "start_time": "2022-03-19T09:04:15.208Z"
   },
   {
    "duration": 31,
    "start_time": "2022-03-19T09:04:15.237Z"
   },
   {
    "duration": 6,
    "start_time": "2022-03-19T09:04:15.270Z"
   },
   {
    "duration": 32,
    "start_time": "2022-03-19T09:04:15.278Z"
   },
   {
    "duration": 15,
    "start_time": "2022-03-19T09:04:15.311Z"
   },
   {
    "duration": 3,
    "start_time": "2022-03-19T09:04:15.328Z"
   },
   {
    "duration": 5,
    "start_time": "2022-03-19T09:04:15.333Z"
   },
   {
    "duration": 63,
    "start_time": "2022-03-19T09:04:15.339Z"
   },
   {
    "duration": 2,
    "start_time": "2022-03-19T09:15:07.990Z"
   },
   {
    "duration": 68,
    "start_time": "2022-03-19T09:15:28.174Z"
   },
   {
    "duration": 4,
    "start_time": "2022-03-19T09:15:37.942Z"
   },
   {
    "duration": 68,
    "start_time": "2022-03-19T09:16:43.797Z"
   },
   {
    "duration": 4,
    "start_time": "2022-03-19T09:17:09.922Z"
   },
   {
    "duration": 4,
    "start_time": "2022-03-19T09:17:30.224Z"
   },
   {
    "duration": 5,
    "start_time": "2022-03-19T09:24:00.729Z"
   },
   {
    "duration": 5,
    "start_time": "2022-03-19T09:24:28.062Z"
   },
   {
    "duration": 15,
    "start_time": "2022-03-19T09:25:04.122Z"
   },
   {
    "duration": 13,
    "start_time": "2022-03-19T09:25:23.178Z"
   },
   {
    "duration": 15,
    "start_time": "2022-03-19T09:25:36.798Z"
   },
   {
    "duration": 5,
    "start_time": "2022-03-19T09:29:20.402Z"
   },
   {
    "duration": 5,
    "start_time": "2022-03-19T09:29:47.472Z"
   },
   {
    "duration": 11,
    "start_time": "2022-03-19T09:30:27.203Z"
   },
   {
    "duration": 17,
    "start_time": "2022-03-19T09:30:55.509Z"
   },
   {
    "duration": 23,
    "start_time": "2022-03-19T09:31:03.511Z"
   },
   {
    "duration": 17,
    "start_time": "2022-03-19T09:31:18.222Z"
   },
   {
    "duration": 17,
    "start_time": "2022-03-19T09:31:37.690Z"
   },
   {
    "duration": 37,
    "start_time": "2022-03-19T09:32:03.978Z"
   },
   {
    "duration": 1306,
    "start_time": "2022-03-19T09:48:29.923Z"
   },
   {
    "duration": 1275,
    "start_time": "2022-03-19T09:48:44.016Z"
   },
   {
    "duration": 514,
    "start_time": "2022-03-19T09:48:58.406Z"
   },
   {
    "duration": 28,
    "start_time": "2022-03-19T09:48:58.922Z"
   },
   {
    "duration": 31,
    "start_time": "2022-03-19T09:48:58.951Z"
   },
   {
    "duration": 26,
    "start_time": "2022-03-19T09:48:58.986Z"
   },
   {
    "duration": 10,
    "start_time": "2022-03-19T09:48:59.014Z"
   },
   {
    "duration": 16,
    "start_time": "2022-03-19T09:48:59.026Z"
   },
   {
    "duration": 4,
    "start_time": "2022-03-19T09:48:59.044Z"
   },
   {
    "duration": 6,
    "start_time": "2022-03-19T09:48:59.049Z"
   },
   {
    "duration": 1526,
    "start_time": "2022-03-19T09:48:59.057Z"
   },
   {
    "duration": 0,
    "start_time": "2022-03-19T09:49:00.585Z"
   },
   {
    "duration": 5,
    "start_time": "2022-03-19T09:49:11.089Z"
   },
   {
    "duration": 8,
    "start_time": "2022-03-19T09:53:21.147Z"
   },
   {
    "duration": 32,
    "start_time": "2022-03-19T09:54:03.970Z"
   },
   {
    "duration": 33,
    "start_time": "2022-03-19T09:57:13.623Z"
   },
   {
    "duration": 33,
    "start_time": "2022-03-19T09:57:26.024Z"
   },
   {
    "duration": 7,
    "start_time": "2022-03-19T09:58:23.949Z"
   },
   {
    "duration": 5,
    "start_time": "2022-03-19T09:58:54.347Z"
   },
   {
    "duration": 494,
    "start_time": "2022-03-19T09:59:59.703Z"
   },
   {
    "duration": 30,
    "start_time": "2022-03-19T10:00:00.199Z"
   },
   {
    "duration": 32,
    "start_time": "2022-03-19T10:00:00.231Z"
   },
   {
    "duration": 7,
    "start_time": "2022-03-19T10:00:00.266Z"
   },
   {
    "duration": 16,
    "start_time": "2022-03-19T10:00:00.274Z"
   },
   {
    "duration": 15,
    "start_time": "2022-03-19T10:00:00.309Z"
   },
   {
    "duration": 4,
    "start_time": "2022-03-19T10:00:00.326Z"
   },
   {
    "duration": 29,
    "start_time": "2022-03-19T10:00:00.331Z"
   },
   {
    "duration": 14,
    "start_time": "2022-03-19T10:00:00.362Z"
   },
   {
    "duration": 4,
    "start_time": "2022-03-19T10:00:00.378Z"
   },
   {
    "duration": 36,
    "start_time": "2022-03-19T10:00:00.384Z"
   },
   {
    "duration": 6,
    "start_time": "2022-03-19T10:06:04.751Z"
   },
   {
    "duration": 8,
    "start_time": "2022-03-19T10:06:38.679Z"
   },
   {
    "duration": 32,
    "start_time": "2022-03-19T10:07:05.330Z"
   },
   {
    "duration": 74,
    "start_time": "2022-03-19T10:09:01.147Z"
   },
   {
    "duration": 31,
    "start_time": "2022-03-19T10:09:07.153Z"
   },
   {
    "duration": 5,
    "start_time": "2022-03-19T10:12:33.883Z"
   },
   {
    "duration": 42,
    "start_time": "2022-03-19T10:12:37.532Z"
   },
   {
    "duration": 58,
    "start_time": "2022-03-19T10:15:27.970Z"
   },
   {
    "duration": 6,
    "start_time": "2022-03-19T10:15:33.385Z"
   },
   {
    "duration": 5,
    "start_time": "2022-03-19T10:15:57.260Z"
   },
   {
    "duration": 6,
    "start_time": "2022-03-19T10:16:30.068Z"
   },
   {
    "duration": 6,
    "start_time": "2022-03-19T10:16:36.574Z"
   },
   {
    "duration": 60,
    "start_time": "2022-03-19T10:17:59.380Z"
   },
   {
    "duration": 16,
    "start_time": "2022-03-19T10:19:38.327Z"
   },
   {
    "duration": 5,
    "start_time": "2022-03-19T10:27:58.136Z"
   },
   {
    "duration": 6,
    "start_time": "2022-03-19T10:28:46.689Z"
   },
   {
    "duration": 17,
    "start_time": "2022-03-19T10:29:30.378Z"
   },
   {
    "duration": 3,
    "start_time": "2022-03-19T10:30:44.195Z"
   },
   {
    "duration": 8,
    "start_time": "2022-03-19T10:31:30.622Z"
   },
   {
    "duration": 5,
    "start_time": "2022-03-19T10:31:44.083Z"
   },
   {
    "duration": 5,
    "start_time": "2022-03-19T10:33:09.462Z"
   },
   {
    "duration": 6,
    "start_time": "2022-03-19T10:33:41.551Z"
   },
   {
    "duration": 31,
    "start_time": "2022-03-19T10:34:18.962Z"
   },
   {
    "duration": 6,
    "start_time": "2022-03-19T10:44:16.071Z"
   },
   {
    "duration": 5,
    "start_time": "2022-03-19T10:44:35.846Z"
   },
   {
    "duration": 6,
    "start_time": "2022-03-19T10:44:55.163Z"
   },
   {
    "duration": 6,
    "start_time": "2022-03-19T10:45:38.075Z"
   },
   {
    "duration": 4,
    "start_time": "2022-03-19T10:46:42.420Z"
   },
   {
    "duration": 7,
    "start_time": "2022-03-19T10:46:55.783Z"
   },
   {
    "duration": 4,
    "start_time": "2022-03-19T10:47:05.168Z"
   },
   {
    "duration": 5,
    "start_time": "2022-03-19T10:50:05.951Z"
   },
   {
    "duration": 6,
    "start_time": "2022-03-19T11:04:33.012Z"
   },
   {
    "duration": 5,
    "start_time": "2022-03-19T11:06:00.015Z"
   },
   {
    "duration": 11,
    "start_time": "2022-03-19T11:06:30.979Z"
   },
   {
    "duration": 6,
    "start_time": "2022-03-19T11:06:34.613Z"
   },
   {
    "duration": 5,
    "start_time": "2022-03-19T11:14:33.661Z"
   },
   {
    "duration": 3,
    "start_time": "2022-03-19T11:15:01.745Z"
   },
   {
    "duration": 73,
    "start_time": "2022-03-19T11:15:41.418Z"
   },
   {
    "duration": 5,
    "start_time": "2022-03-19T11:16:10.774Z"
   },
   {
    "duration": 5,
    "start_time": "2022-03-19T11:16:23.757Z"
   },
   {
    "duration": 3,
    "start_time": "2022-03-19T11:16:41.162Z"
   },
   {
    "duration": 4,
    "start_time": "2022-03-19T11:16:46.630Z"
   },
   {
    "duration": 3,
    "start_time": "2022-03-19T11:16:59.447Z"
   },
   {
    "duration": 6,
    "start_time": "2022-03-19T11:19:07.424Z"
   },
   {
    "duration": 7,
    "start_time": "2022-03-19T11:19:15.262Z"
   },
   {
    "duration": 6,
    "start_time": "2022-03-19T11:19:25.821Z"
   },
   {
    "duration": 4,
    "start_time": "2022-03-19T11:19:31.229Z"
   },
   {
    "duration": 6,
    "start_time": "2022-03-19T11:20:43.831Z"
   },
   {
    "duration": 7,
    "start_time": "2022-03-19T11:21:38.158Z"
   },
   {
    "duration": 8,
    "start_time": "2022-03-19T11:21:56.064Z"
   },
   {
    "duration": 21,
    "start_time": "2022-03-19T11:22:36.532Z"
   },
   {
    "duration": 3,
    "start_time": "2022-03-19T11:24:02.677Z"
   },
   {
    "duration": 6,
    "start_time": "2022-03-19T11:24:08.931Z"
   },
   {
    "duration": 9,
    "start_time": "2022-03-19T11:25:06.173Z"
   },
   {
    "duration": 4,
    "start_time": "2022-03-19T11:26:56.455Z"
   },
   {
    "duration": 4,
    "start_time": "2022-03-19T11:28:42.870Z"
   },
   {
    "duration": 7,
    "start_time": "2022-03-19T11:29:07.006Z"
   },
   {
    "duration": 66,
    "start_time": "2022-03-19T11:30:14.150Z"
   },
   {
    "duration": 8,
    "start_time": "2022-03-19T11:39:50.248Z"
   },
   {
    "duration": 6,
    "start_time": "2022-03-19T11:39:57.318Z"
   },
   {
    "duration": 7,
    "start_time": "2022-03-19T11:46:28.507Z"
   },
   {
    "duration": 4,
    "start_time": "2022-03-19T11:49:05.499Z"
   },
   {
    "duration": 5,
    "start_time": "2022-03-19T11:49:10.678Z"
   },
   {
    "duration": 1025,
    "start_time": "2022-03-19T12:00:52.420Z"
   },
   {
    "duration": 484,
    "start_time": "2022-03-19T12:03:28.654Z"
   },
   {
    "duration": 28,
    "start_time": "2022-03-19T12:03:29.139Z"
   },
   {
    "duration": 46,
    "start_time": "2022-03-19T12:03:29.169Z"
   },
   {
    "duration": 8,
    "start_time": "2022-03-19T12:03:29.218Z"
   },
   {
    "duration": 12,
    "start_time": "2022-03-19T12:03:29.227Z"
   },
   {
    "duration": 18,
    "start_time": "2022-03-19T12:03:29.241Z"
   },
   {
    "duration": 4,
    "start_time": "2022-03-19T12:03:29.261Z"
   },
   {
    "duration": 6,
    "start_time": "2022-03-19T12:03:29.266Z"
   },
   {
    "duration": 42,
    "start_time": "2022-03-19T12:03:29.273Z"
   },
   {
    "duration": 5,
    "start_time": "2022-03-19T12:03:29.319Z"
   },
   {
    "duration": 9,
    "start_time": "2022-03-19T12:03:29.327Z"
   },
   {
    "duration": 7,
    "start_time": "2022-03-19T12:03:29.338Z"
   },
   {
    "duration": 6,
    "start_time": "2022-03-19T12:03:29.347Z"
   },
   {
    "duration": 5,
    "start_time": "2022-03-19T12:03:29.354Z"
   },
   {
    "duration": 7,
    "start_time": "2022-03-19T12:03:29.361Z"
   },
   {
    "duration": 902,
    "start_time": "2022-03-19T12:03:29.409Z"
   },
   {
    "duration": 5,
    "start_time": "2022-03-19T12:03:30.313Z"
   },
   {
    "duration": 60,
    "start_time": "2022-03-19T12:03:30.320Z"
   },
   {
    "duration": 5,
    "start_time": "2022-03-19T12:03:30.382Z"
   },
   {
    "duration": 13,
    "start_time": "2022-03-19T12:03:30.388Z"
   },
   {
    "duration": 16,
    "start_time": "2022-03-19T12:03:30.403Z"
   },
   {
    "duration": 106,
    "start_time": "2022-03-19T12:04:36.686Z"
   },
   {
    "duration": 8,
    "start_time": "2022-03-19T12:04:54.153Z"
   },
   {
    "duration": 8,
    "start_time": "2022-03-19T12:05:13.382Z"
   },
   {
    "duration": 12,
    "start_time": "2022-03-19T12:05:21.115Z"
   },
   {
    "duration": 1177,
    "start_time": "2022-03-19T12:06:40.326Z"
   },
   {
    "duration": 98,
    "start_time": "2022-03-19T16:45:39.759Z"
   },
   {
    "duration": 871,
    "start_time": "2022-03-19T16:45:54.389Z"
   },
   {
    "duration": 76,
    "start_time": "2022-03-19T16:45:55.264Z"
   },
   {
    "duration": 102,
    "start_time": "2022-03-19T16:45:55.343Z"
   },
   {
    "duration": 13,
    "start_time": "2022-03-19T16:45:55.448Z"
   },
   {
    "duration": 12,
    "start_time": "2022-03-19T16:45:55.486Z"
   },
   {
    "duration": 50,
    "start_time": "2022-03-19T16:45:55.500Z"
   },
   {
    "duration": 7,
    "start_time": "2022-03-19T16:45:55.564Z"
   },
   {
    "duration": 27,
    "start_time": "2022-03-19T16:45:55.585Z"
   },
   {
    "duration": 48,
    "start_time": "2022-03-19T16:45:55.615Z"
   },
   {
    "duration": 21,
    "start_time": "2022-03-19T16:45:55.670Z"
   },
   {
    "duration": 41,
    "start_time": "2022-03-19T16:45:55.693Z"
   },
   {
    "duration": 30,
    "start_time": "2022-03-19T16:45:55.736Z"
   },
   {
    "duration": 29,
    "start_time": "2022-03-19T16:45:55.770Z"
   },
   {
    "duration": 12,
    "start_time": "2022-03-19T16:45:55.805Z"
   },
   {
    "duration": 28,
    "start_time": "2022-03-19T16:45:55.821Z"
   },
   {
    "duration": 41,
    "start_time": "2022-03-19T16:45:55.853Z"
   },
   {
    "duration": 157,
    "start_time": "2022-03-19T16:45:55.897Z"
   },
   {
    "duration": 0,
    "start_time": "2022-03-19T16:45:56.057Z"
   },
   {
    "duration": 0,
    "start_time": "2022-03-19T16:45:56.060Z"
   },
   {
    "duration": 0,
    "start_time": "2022-03-19T16:45:56.062Z"
   },
   {
    "duration": 0,
    "start_time": "2022-03-19T16:45:56.065Z"
   },
   {
    "duration": 0,
    "start_time": "2022-03-19T16:45:56.066Z"
   },
   {
    "duration": 4,
    "start_time": "2022-03-19T16:48:48.901Z"
   },
   {
    "duration": 775,
    "start_time": "2022-03-19T16:48:56.587Z"
   },
   {
    "duration": 54,
    "start_time": "2022-03-19T16:48:57.366Z"
   },
   {
    "duration": 73,
    "start_time": "2022-03-19T16:48:57.422Z"
   },
   {
    "duration": 9,
    "start_time": "2022-03-19T16:48:57.500Z"
   },
   {
    "duration": 11,
    "start_time": "2022-03-19T16:48:57.511Z"
   },
   {
    "duration": 69,
    "start_time": "2022-03-19T16:48:57.524Z"
   },
   {
    "duration": 6,
    "start_time": "2022-03-19T16:48:57.595Z"
   },
   {
    "duration": 8,
    "start_time": "2022-03-19T16:48:57.603Z"
   },
   {
    "duration": 15,
    "start_time": "2022-03-19T16:48:57.613Z"
   },
   {
    "duration": 5,
    "start_time": "2022-03-19T16:48:57.632Z"
   },
   {
    "duration": 11,
    "start_time": "2022-03-19T16:48:57.684Z"
   },
   {
    "duration": 10,
    "start_time": "2022-03-19T16:48:57.697Z"
   },
   {
    "duration": 8,
    "start_time": "2022-03-19T16:48:57.709Z"
   },
   {
    "duration": 6,
    "start_time": "2022-03-19T16:48:57.720Z"
   },
   {
    "duration": 61,
    "start_time": "2022-03-19T16:48:57.728Z"
   },
   {
    "duration": 14,
    "start_time": "2022-03-19T16:48:57.792Z"
   },
   {
    "duration": 5,
    "start_time": "2022-03-19T16:48:57.808Z"
   },
   {
    "duration": 91,
    "start_time": "2022-03-19T16:48:57.815Z"
   },
   {
    "duration": 7,
    "start_time": "2022-03-19T16:48:57.908Z"
   },
   {
    "duration": 11,
    "start_time": "2022-03-19T16:48:57.918Z"
   },
   {
    "duration": 8,
    "start_time": "2022-03-19T16:48:57.931Z"
   },
   {
    "duration": 6,
    "start_time": "2022-03-19T16:49:13.497Z"
   },
   {
    "duration": 6,
    "start_time": "2022-03-19T17:02:25.443Z"
   },
   {
    "duration": 6,
    "start_time": "2022-03-19T17:05:16.013Z"
   },
   {
    "duration": 14,
    "start_time": "2022-03-19T17:05:38.087Z"
   },
   {
    "duration": 642,
    "start_time": "2022-03-19T17:06:44.860Z"
   },
   {
    "duration": 46,
    "start_time": "2022-03-19T17:06:45.505Z"
   },
   {
    "duration": 72,
    "start_time": "2022-03-19T17:06:45.554Z"
   },
   {
    "duration": 11,
    "start_time": "2022-03-19T17:06:45.631Z"
   },
   {
    "duration": 46,
    "start_time": "2022-03-19T17:06:45.645Z"
   },
   {
    "duration": 22,
    "start_time": "2022-03-19T17:06:45.693Z"
   },
   {
    "duration": 6,
    "start_time": "2022-03-19T17:06:45.718Z"
   },
   {
    "duration": 10,
    "start_time": "2022-03-19T17:06:45.727Z"
   },
   {
    "duration": 53,
    "start_time": "2022-03-19T17:06:45.739Z"
   },
   {
    "duration": 6,
    "start_time": "2022-03-19T17:06:45.797Z"
   },
   {
    "duration": 10,
    "start_time": "2022-03-19T17:06:45.806Z"
   },
   {
    "duration": 9,
    "start_time": "2022-03-19T17:06:45.818Z"
   },
   {
    "duration": 14,
    "start_time": "2022-03-19T17:06:45.885Z"
   },
   {
    "duration": 134,
    "start_time": "2022-03-19T17:06:45.902Z"
   },
   {
    "duration": 0,
    "start_time": "2022-03-19T17:06:46.038Z"
   },
   {
    "duration": 0,
    "start_time": "2022-03-19T17:06:46.040Z"
   },
   {
    "duration": 0,
    "start_time": "2022-03-19T17:06:46.042Z"
   },
   {
    "duration": 0,
    "start_time": "2022-03-19T17:06:46.043Z"
   },
   {
    "duration": 0,
    "start_time": "2022-03-19T17:06:46.045Z"
   },
   {
    "duration": 0,
    "start_time": "2022-03-19T17:06:46.046Z"
   },
   {
    "duration": 645,
    "start_time": "2022-03-19T17:07:17.038Z"
   },
   {
    "duration": 45,
    "start_time": "2022-03-19T17:07:17.686Z"
   },
   {
    "duration": 82,
    "start_time": "2022-03-19T17:07:17.733Z"
   },
   {
    "duration": 12,
    "start_time": "2022-03-19T17:07:17.818Z"
   },
   {
    "duration": 17,
    "start_time": "2022-03-19T17:07:17.835Z"
   },
   {
    "duration": 22,
    "start_time": "2022-03-19T17:07:17.885Z"
   },
   {
    "duration": 13,
    "start_time": "2022-03-19T17:07:17.910Z"
   },
   {
    "duration": 24,
    "start_time": "2022-03-19T17:07:17.925Z"
   },
   {
    "duration": 38,
    "start_time": "2022-03-19T17:07:17.952Z"
   },
   {
    "duration": 14,
    "start_time": "2022-03-19T17:07:17.993Z"
   },
   {
    "duration": 22,
    "start_time": "2022-03-19T17:07:18.010Z"
   },
   {
    "duration": 13,
    "start_time": "2022-03-19T17:07:18.035Z"
   },
   {
    "duration": 40,
    "start_time": "2022-03-19T17:07:18.051Z"
   },
   {
    "duration": 114,
    "start_time": "2022-03-19T17:07:18.095Z"
   },
   {
    "duration": 0,
    "start_time": "2022-03-19T17:07:18.212Z"
   },
   {
    "duration": 0,
    "start_time": "2022-03-19T17:07:18.213Z"
   },
   {
    "duration": 0,
    "start_time": "2022-03-19T17:07:18.215Z"
   },
   {
    "duration": 0,
    "start_time": "2022-03-19T17:07:18.217Z"
   },
   {
    "duration": 0,
    "start_time": "2022-03-19T17:07:18.218Z"
   },
   {
    "duration": 0,
    "start_time": "2022-03-19T17:07:18.219Z"
   },
   {
    "duration": 16,
    "start_time": "2022-03-19T17:09:01.094Z"
   },
   {
    "duration": 8,
    "start_time": "2022-03-19T17:09:19.970Z"
   },
   {
    "duration": 6,
    "start_time": "2022-03-19T17:11:08.691Z"
   },
   {
    "duration": 14,
    "start_time": "2022-03-19T17:11:58.564Z"
   },
   {
    "duration": 44,
    "start_time": "2022-03-19T17:13:07.970Z"
   },
   {
    "duration": 95,
    "start_time": "2022-03-19T17:13:44.820Z"
   },
   {
    "duration": 601,
    "start_time": "2022-03-20T08:41:06.870Z"
   },
   {
    "duration": 43,
    "start_time": "2022-03-20T08:41:07.474Z"
   },
   {
    "duration": 64,
    "start_time": "2022-03-20T08:41:07.520Z"
   },
   {
    "duration": 9,
    "start_time": "2022-03-20T08:41:07.587Z"
   },
   {
    "duration": 22,
    "start_time": "2022-03-20T08:41:07.599Z"
   },
   {
    "duration": 39,
    "start_time": "2022-03-20T08:41:07.624Z"
   },
   {
    "duration": 28,
    "start_time": "2022-03-20T08:41:07.665Z"
   },
   {
    "duration": 18,
    "start_time": "2022-03-20T08:41:07.695Z"
   },
   {
    "duration": 40,
    "start_time": "2022-03-20T08:41:07.716Z"
   },
   {
    "duration": 7,
    "start_time": "2022-03-20T08:41:07.759Z"
   },
   {
    "duration": 28,
    "start_time": "2022-03-20T08:41:07.768Z"
   },
   {
    "duration": 12,
    "start_time": "2022-03-20T08:41:07.799Z"
   },
   {
    "duration": 24,
    "start_time": "2022-03-20T08:41:07.813Z"
   },
   {
    "duration": 9,
    "start_time": "2022-03-20T08:41:07.840Z"
   },
   {
    "duration": 18,
    "start_time": "2022-03-20T08:41:07.851Z"
   },
   {
    "duration": 31,
    "start_time": "2022-03-20T08:41:07.871Z"
   },
   {
    "duration": 43,
    "start_time": "2022-03-20T08:41:07.905Z"
   },
   {
    "duration": 7,
    "start_time": "2022-03-20T08:41:07.951Z"
   },
   {
    "duration": 24,
    "start_time": "2022-03-20T08:41:07.960Z"
   },
   {
    "duration": 8,
    "start_time": "2022-03-20T08:41:07.986Z"
   },
   {
    "duration": 8,
    "start_time": "2022-03-20T08:41:29.835Z"
   },
   {
    "duration": 603,
    "start_time": "2022-03-20T08:42:18.362Z"
   },
   {
    "duration": 45,
    "start_time": "2022-03-20T08:42:18.968Z"
   },
   {
    "duration": 43,
    "start_time": "2022-03-20T08:42:19.016Z"
   },
   {
    "duration": 10,
    "start_time": "2022-03-20T08:42:19.082Z"
   },
   {
    "duration": 13,
    "start_time": "2022-03-20T08:42:19.094Z"
   },
   {
    "duration": 20,
    "start_time": "2022-03-20T08:42:19.110Z"
   },
   {
    "duration": 6,
    "start_time": "2022-03-20T08:42:19.132Z"
   },
   {
    "duration": 8,
    "start_time": "2022-03-20T08:42:19.183Z"
   },
   {
    "duration": 21,
    "start_time": "2022-03-20T08:42:19.193Z"
   },
   {
    "duration": 8,
    "start_time": "2022-03-20T08:42:19.218Z"
   },
   {
    "duration": 7,
    "start_time": "2022-03-20T08:42:19.228Z"
   },
   {
    "duration": 7,
    "start_time": "2022-03-20T08:42:19.237Z"
   },
   {
    "duration": 13,
    "start_time": "2022-03-20T08:42:19.281Z"
   },
   {
    "duration": 9,
    "start_time": "2022-03-20T08:42:19.296Z"
   },
   {
    "duration": 4,
    "start_time": "2022-03-20T08:42:19.308Z"
   },
   {
    "duration": 14,
    "start_time": "2022-03-20T08:42:19.315Z"
   },
   {
    "duration": 81,
    "start_time": "2022-03-20T08:42:19.331Z"
   },
   {
    "duration": 8,
    "start_time": "2022-03-20T08:42:19.414Z"
   },
   {
    "duration": 6,
    "start_time": "2022-03-20T08:42:19.425Z"
   },
   {
    "duration": 7,
    "start_time": "2022-03-20T08:42:19.433Z"
   },
   {
    "duration": 9,
    "start_time": "2022-03-20T08:43:03.388Z"
   },
   {
    "duration": 8,
    "start_time": "2022-03-20T08:43:12.726Z"
   },
   {
    "duration": 9,
    "start_time": "2022-03-20T08:44:09.819Z"
   },
   {
    "duration": 45,
    "start_time": "2022-03-20T08:45:39.367Z"
   },
   {
    "duration": 9,
    "start_time": "2022-03-20T08:46:17.807Z"
   },
   {
    "duration": 15,
    "start_time": "2022-03-20T08:46:19.710Z"
   },
   {
    "duration": 6,
    "start_time": "2022-03-20T08:46:22.667Z"
   },
   {
    "duration": 8,
    "start_time": "2022-03-20T08:46:24.084Z"
   },
   {
    "duration": 567,
    "start_time": "2022-03-20T08:46:50.507Z"
   },
   {
    "duration": 45,
    "start_time": "2022-03-20T08:46:51.077Z"
   },
   {
    "duration": 60,
    "start_time": "2022-03-20T08:46:51.125Z"
   },
   {
    "duration": 9,
    "start_time": "2022-03-20T08:46:51.187Z"
   },
   {
    "duration": 12,
    "start_time": "2022-03-20T08:46:51.199Z"
   },
   {
    "duration": 20,
    "start_time": "2022-03-20T08:46:51.214Z"
   },
   {
    "duration": 47,
    "start_time": "2022-03-20T08:46:51.236Z"
   },
   {
    "duration": 6,
    "start_time": "2022-03-20T08:46:51.285Z"
   },
   {
    "duration": 13,
    "start_time": "2022-03-20T08:46:51.293Z"
   },
   {
    "duration": 7,
    "start_time": "2022-03-20T08:46:51.309Z"
   },
   {
    "duration": 8,
    "start_time": "2022-03-20T08:46:51.319Z"
   },
   {
    "duration": 53,
    "start_time": "2022-03-20T08:46:51.329Z"
   },
   {
    "duration": 46,
    "start_time": "2022-03-20T08:46:51.386Z"
   },
   {
    "duration": 45,
    "start_time": "2022-03-20T08:46:51.438Z"
   },
   {
    "duration": 9,
    "start_time": "2022-03-20T08:46:51.485Z"
   },
   {
    "duration": 11,
    "start_time": "2022-03-20T08:46:51.496Z"
   },
   {
    "duration": 14,
    "start_time": "2022-03-20T08:46:51.509Z"
   },
   {
    "duration": 71,
    "start_time": "2022-03-20T08:46:51.525Z"
   },
   {
    "duration": 6,
    "start_time": "2022-03-20T08:46:51.598Z"
   },
   {
    "duration": 8,
    "start_time": "2022-03-20T08:46:51.606Z"
   },
   {
    "duration": 8,
    "start_time": "2022-03-20T08:46:51.617Z"
   },
   {
    "duration": 11,
    "start_time": "2022-03-20T08:47:42.393Z"
   },
   {
    "duration": 10,
    "start_time": "2022-03-20T08:49:00.732Z"
   },
   {
    "duration": 610,
    "start_time": "2022-03-20T08:49:06.963Z"
   },
   {
    "duration": 44,
    "start_time": "2022-03-20T08:49:07.577Z"
   },
   {
    "duration": 60,
    "start_time": "2022-03-20T08:49:07.623Z"
   },
   {
    "duration": 9,
    "start_time": "2022-03-20T08:49:07.686Z"
   },
   {
    "duration": 27,
    "start_time": "2022-03-20T08:49:07.697Z"
   },
   {
    "duration": 39,
    "start_time": "2022-03-20T08:49:07.726Z"
   },
   {
    "duration": 18,
    "start_time": "2022-03-20T08:49:07.768Z"
   },
   {
    "duration": 32,
    "start_time": "2022-03-20T08:49:07.789Z"
   },
   {
    "duration": 61,
    "start_time": "2022-03-20T08:49:07.824Z"
   },
   {
    "duration": 19,
    "start_time": "2022-03-20T08:49:07.887Z"
   },
   {
    "duration": 23,
    "start_time": "2022-03-20T08:49:07.909Z"
   },
   {
    "duration": 24,
    "start_time": "2022-03-20T08:49:07.934Z"
   },
   {
    "duration": 15,
    "start_time": "2022-03-20T08:49:07.960Z"
   },
   {
    "duration": 13,
    "start_time": "2022-03-20T08:49:07.980Z"
   },
   {
    "duration": 38,
    "start_time": "2022-03-20T08:49:07.996Z"
   },
   {
    "duration": 19,
    "start_time": "2022-03-20T08:49:08.036Z"
   },
   {
    "duration": 28,
    "start_time": "2022-03-20T08:49:08.057Z"
   },
   {
    "duration": 23,
    "start_time": "2022-03-20T08:49:08.087Z"
   },
   {
    "duration": 53,
    "start_time": "2022-03-20T08:49:08.112Z"
   },
   {
    "duration": 15,
    "start_time": "2022-03-20T08:49:08.167Z"
   },
   {
    "duration": 21,
    "start_time": "2022-03-20T08:49:08.184Z"
   },
   {
    "duration": 31,
    "start_time": "2022-03-20T08:49:08.207Z"
   },
   {
    "duration": 92,
    "start_time": "2022-03-20T08:58:53.846Z"
   },
   {
    "duration": 8,
    "start_time": "2022-03-20T08:59:00.277Z"
   },
   {
    "duration": 8,
    "start_time": "2022-03-20T08:59:02.802Z"
   },
   {
    "duration": 6,
    "start_time": "2022-03-20T09:02:18.093Z"
   },
   {
    "duration": 585,
    "start_time": "2022-03-20T09:03:14.890Z"
   },
   {
    "duration": 48,
    "start_time": "2022-03-20T09:03:15.478Z"
   },
   {
    "duration": 65,
    "start_time": "2022-03-20T09:03:15.529Z"
   },
   {
    "duration": 9,
    "start_time": "2022-03-20T09:03:15.597Z"
   },
   {
    "duration": 13,
    "start_time": "2022-03-20T09:03:15.608Z"
   },
   {
    "duration": 20,
    "start_time": "2022-03-20T09:03:15.623Z"
   },
   {
    "duration": 39,
    "start_time": "2022-03-20T09:03:15.646Z"
   },
   {
    "duration": 9,
    "start_time": "2022-03-20T09:03:15.687Z"
   },
   {
    "duration": 11,
    "start_time": "2022-03-20T09:03:15.699Z"
   },
   {
    "duration": 4,
    "start_time": "2022-03-20T09:03:15.717Z"
   },
   {
    "duration": 10,
    "start_time": "2022-03-20T09:03:15.724Z"
   },
   {
    "duration": 7,
    "start_time": "2022-03-20T09:03:15.782Z"
   },
   {
    "duration": 10,
    "start_time": "2022-03-20T09:03:15.792Z"
   },
   {
    "duration": 8,
    "start_time": "2022-03-20T09:03:15.804Z"
   },
   {
    "duration": 152,
    "start_time": "2022-03-20T09:03:15.814Z"
   },
   {
    "duration": 0,
    "start_time": "2022-03-20T09:03:15.968Z"
   },
   {
    "duration": 0,
    "start_time": "2022-03-20T09:03:15.970Z"
   },
   {
    "duration": 0,
    "start_time": "2022-03-20T09:03:15.971Z"
   },
   {
    "duration": 0,
    "start_time": "2022-03-20T09:03:15.973Z"
   },
   {
    "duration": 0,
    "start_time": "2022-03-20T09:03:15.975Z"
   },
   {
    "duration": 0,
    "start_time": "2022-03-20T09:03:15.976Z"
   },
   {
    "duration": 0,
    "start_time": "2022-03-20T09:03:15.978Z"
   },
   {
    "duration": 0,
    "start_time": "2022-03-20T09:03:15.979Z"
   },
   {
    "duration": 7,
    "start_time": "2022-03-20T09:06:03.611Z"
   },
   {
    "duration": 8,
    "start_time": "2022-03-20T09:06:06.931Z"
   },
   {
    "duration": 6,
    "start_time": "2022-03-20T09:06:09.399Z"
   },
   {
    "duration": 8,
    "start_time": "2022-03-20T09:06:11.380Z"
   },
   {
    "duration": 7,
    "start_time": "2022-03-20T09:06:27.314Z"
   },
   {
    "duration": 655,
    "start_time": "2022-03-20T09:07:55.652Z"
   },
   {
    "duration": 45,
    "start_time": "2022-03-20T09:07:56.311Z"
   },
   {
    "duration": 69,
    "start_time": "2022-03-20T09:07:56.359Z"
   },
   {
    "duration": 11,
    "start_time": "2022-03-20T09:07:56.431Z"
   },
   {
    "duration": 11,
    "start_time": "2022-03-20T09:07:56.482Z"
   },
   {
    "duration": 23,
    "start_time": "2022-03-20T09:07:56.496Z"
   },
   {
    "duration": 7,
    "start_time": "2022-03-20T09:07:56.522Z"
   },
   {
    "duration": 12,
    "start_time": "2022-03-20T09:07:56.532Z"
   },
   {
    "duration": 12,
    "start_time": "2022-03-20T09:07:56.583Z"
   },
   {
    "duration": 8,
    "start_time": "2022-03-20T09:07:56.598Z"
   },
   {
    "duration": 14,
    "start_time": "2022-03-20T09:07:56.608Z"
   },
   {
    "duration": 10,
    "start_time": "2022-03-20T09:07:56.624Z"
   },
   {
    "duration": 49,
    "start_time": "2022-03-20T09:07:56.636Z"
   },
   {
    "duration": 9,
    "start_time": "2022-03-20T09:07:56.689Z"
   },
   {
    "duration": 166,
    "start_time": "2022-03-20T09:07:56.700Z"
   },
   {
    "duration": 0,
    "start_time": "2022-03-20T09:07:56.869Z"
   },
   {
    "duration": 0,
    "start_time": "2022-03-20T09:07:56.872Z"
   },
   {
    "duration": 0,
    "start_time": "2022-03-20T09:07:56.874Z"
   },
   {
    "duration": 1,
    "start_time": "2022-03-20T09:07:56.876Z"
   },
   {
    "duration": 0,
    "start_time": "2022-03-20T09:07:56.879Z"
   },
   {
    "duration": 0,
    "start_time": "2022-03-20T09:07:56.880Z"
   },
   {
    "duration": 0,
    "start_time": "2022-03-20T09:07:56.883Z"
   },
   {
    "duration": 0,
    "start_time": "2022-03-20T09:07:56.885Z"
   },
   {
    "duration": 6,
    "start_time": "2022-03-20T09:29:12.332Z"
   },
   {
    "duration": 7,
    "start_time": "2022-03-20T09:30:58.331Z"
   },
   {
    "duration": 600,
    "start_time": "2022-03-20T09:31:08.749Z"
   },
   {
    "duration": 54,
    "start_time": "2022-03-20T09:31:09.352Z"
   },
   {
    "duration": 44,
    "start_time": "2022-03-20T09:31:09.408Z"
   },
   {
    "duration": 30,
    "start_time": "2022-03-20T09:31:09.455Z"
   },
   {
    "duration": 10,
    "start_time": "2022-03-20T09:31:09.487Z"
   },
   {
    "duration": 22,
    "start_time": "2022-03-20T09:31:09.499Z"
   },
   {
    "duration": 10,
    "start_time": "2022-03-20T09:31:09.523Z"
   },
   {
    "duration": 6,
    "start_time": "2022-03-20T09:31:09.535Z"
   },
   {
    "duration": 7,
    "start_time": "2022-03-20T09:31:09.583Z"
   },
   {
    "duration": 10,
    "start_time": "2022-03-20T09:31:09.596Z"
   },
   {
    "duration": 6,
    "start_time": "2022-03-20T09:31:09.609Z"
   },
   {
    "duration": 12,
    "start_time": "2022-03-20T09:31:09.617Z"
   },
   {
    "duration": 9,
    "start_time": "2022-03-20T09:31:09.631Z"
   },
   {
    "duration": 7,
    "start_time": "2022-03-20T09:31:09.683Z"
   },
   {
    "duration": 8,
    "start_time": "2022-03-20T09:31:09.692Z"
   },
   {
    "duration": 9,
    "start_time": "2022-03-20T09:31:09.702Z"
   },
   {
    "duration": 137,
    "start_time": "2022-03-20T09:31:09.713Z"
   },
   {
    "duration": 0,
    "start_time": "2022-03-20T09:31:09.853Z"
   },
   {
    "duration": 0,
    "start_time": "2022-03-20T09:31:09.854Z"
   },
   {
    "duration": 0,
    "start_time": "2022-03-20T09:31:09.856Z"
   },
   {
    "duration": 0,
    "start_time": "2022-03-20T09:31:09.858Z"
   },
   {
    "duration": 0,
    "start_time": "2022-03-20T09:31:09.859Z"
   },
   {
    "duration": 0,
    "start_time": "2022-03-20T09:31:09.860Z"
   },
   {
    "duration": 0,
    "start_time": "2022-03-20T09:31:09.862Z"
   },
   {
    "duration": 0,
    "start_time": "2022-03-20T09:31:09.863Z"
   },
   {
    "duration": 791,
    "start_time": "2022-03-20T09:32:13.197Z"
   },
   {
    "duration": 43,
    "start_time": "2022-03-20T09:32:13.991Z"
   },
   {
    "duration": 60,
    "start_time": "2022-03-20T09:32:14.037Z"
   },
   {
    "duration": 9,
    "start_time": "2022-03-20T09:32:14.099Z"
   },
   {
    "duration": 8,
    "start_time": "2022-03-20T09:32:14.111Z"
   },
   {
    "duration": 11,
    "start_time": "2022-03-20T09:32:14.122Z"
   },
   {
    "duration": 59,
    "start_time": "2022-03-20T09:32:14.136Z"
   },
   {
    "duration": 6,
    "start_time": "2022-03-20T09:32:14.197Z"
   },
   {
    "duration": 11,
    "start_time": "2022-03-20T09:32:14.205Z"
   },
   {
    "duration": 10,
    "start_time": "2022-03-20T09:32:14.218Z"
   },
   {
    "duration": 6,
    "start_time": "2022-03-20T09:32:14.230Z"
   },
   {
    "duration": 47,
    "start_time": "2022-03-20T09:32:14.238Z"
   },
   {
    "duration": 9,
    "start_time": "2022-03-20T09:32:14.287Z"
   },
   {
    "duration": 7,
    "start_time": "2022-03-20T09:32:14.300Z"
   },
   {
    "duration": 7,
    "start_time": "2022-03-20T09:32:14.309Z"
   },
   {
    "duration": 10,
    "start_time": "2022-03-20T09:32:14.319Z"
   },
   {
    "duration": 152,
    "start_time": "2022-03-20T09:32:14.332Z"
   },
   {
    "duration": 0,
    "start_time": "2022-03-20T09:32:14.486Z"
   },
   {
    "duration": 0,
    "start_time": "2022-03-20T09:32:14.488Z"
   },
   {
    "duration": 0,
    "start_time": "2022-03-20T09:32:14.490Z"
   },
   {
    "duration": 0,
    "start_time": "2022-03-20T09:32:14.491Z"
   },
   {
    "duration": 0,
    "start_time": "2022-03-20T09:32:14.494Z"
   },
   {
    "duration": 0,
    "start_time": "2022-03-20T09:32:14.497Z"
   },
   {
    "duration": 0,
    "start_time": "2022-03-20T09:32:14.499Z"
   },
   {
    "duration": 0,
    "start_time": "2022-03-20T09:32:14.502Z"
   },
   {
    "duration": 8,
    "start_time": "2022-03-20T10:21:26.331Z"
   },
   {
    "duration": 8,
    "start_time": "2022-03-20T10:21:48.251Z"
   },
   {
    "duration": 8,
    "start_time": "2022-03-20T10:25:23.214Z"
   },
   {
    "duration": 9,
    "start_time": "2022-03-20T10:25:41.009Z"
   },
   {
    "duration": 10,
    "start_time": "2022-03-20T10:25:58.032Z"
   },
   {
    "duration": 8,
    "start_time": "2022-03-20T10:26:03.176Z"
   },
   {
    "duration": 617,
    "start_time": "2022-03-20T10:26:54.441Z"
   },
   {
    "duration": 49,
    "start_time": "2022-03-20T10:26:55.061Z"
   },
   {
    "duration": 9,
    "start_time": "2022-03-20T10:26:55.113Z"
   },
   {
    "duration": 6,
    "start_time": "2022-03-20T10:26:55.125Z"
   },
   {
    "duration": 72,
    "start_time": "2022-03-20T10:26:55.133Z"
   },
   {
    "duration": 10,
    "start_time": "2022-03-20T10:26:55.207Z"
   },
   {
    "duration": 13,
    "start_time": "2022-03-20T10:26:55.219Z"
   },
   {
    "duration": 48,
    "start_time": "2022-03-20T10:26:55.235Z"
   },
   {
    "duration": 5,
    "start_time": "2022-03-20T10:26:55.285Z"
   },
   {
    "duration": 9,
    "start_time": "2022-03-20T10:26:55.294Z"
   },
   {
    "duration": 7,
    "start_time": "2022-03-20T10:26:55.306Z"
   },
   {
    "duration": 6,
    "start_time": "2022-03-20T10:26:55.315Z"
   },
   {
    "duration": 8,
    "start_time": "2022-03-20T10:26:55.323Z"
   },
   {
    "duration": 54,
    "start_time": "2022-03-20T10:26:55.333Z"
   },
   {
    "duration": 182,
    "start_time": "2022-03-20T10:26:55.389Z"
   },
   {
    "duration": 0,
    "start_time": "2022-03-20T10:26:55.573Z"
   },
   {
    "duration": 0,
    "start_time": "2022-03-20T10:26:55.574Z"
   },
   {
    "duration": 0,
    "start_time": "2022-03-20T10:26:55.576Z"
   },
   {
    "duration": 0,
    "start_time": "2022-03-20T10:26:55.578Z"
   },
   {
    "duration": 0,
    "start_time": "2022-03-20T10:26:55.579Z"
   },
   {
    "duration": 0,
    "start_time": "2022-03-20T10:26:55.581Z"
   },
   {
    "duration": 0,
    "start_time": "2022-03-20T10:26:55.582Z"
   },
   {
    "duration": 1,
    "start_time": "2022-03-20T10:26:55.583Z"
   },
   {
    "duration": 7,
    "start_time": "2022-03-20T10:30:51.667Z"
   },
   {
    "duration": 5,
    "start_time": "2022-03-20T10:31:26.013Z"
   },
   {
    "duration": 8,
    "start_time": "2022-03-20T10:31:58.644Z"
   },
   {
    "duration": 8,
    "start_time": "2022-03-20T10:33:35.020Z"
   },
   {
    "duration": 596,
    "start_time": "2022-03-20T10:33:44.970Z"
   },
   {
    "duration": 42,
    "start_time": "2022-03-20T10:33:45.569Z"
   },
   {
    "duration": 158,
    "start_time": "2022-03-20T10:33:45.613Z"
   },
   {
    "duration": 0,
    "start_time": "2022-03-20T10:33:45.774Z"
   },
   {
    "duration": 0,
    "start_time": "2022-03-20T10:33:45.776Z"
   },
   {
    "duration": 0,
    "start_time": "2022-03-20T10:33:45.778Z"
   },
   {
    "duration": 0,
    "start_time": "2022-03-20T10:33:45.780Z"
   },
   {
    "duration": 0,
    "start_time": "2022-03-20T10:33:45.781Z"
   },
   {
    "duration": 0,
    "start_time": "2022-03-20T10:33:45.783Z"
   },
   {
    "duration": 0,
    "start_time": "2022-03-20T10:33:45.784Z"
   },
   {
    "duration": 0,
    "start_time": "2022-03-20T10:33:45.786Z"
   },
   {
    "duration": 0,
    "start_time": "2022-03-20T10:33:45.787Z"
   },
   {
    "duration": 0,
    "start_time": "2022-03-20T10:33:45.789Z"
   },
   {
    "duration": 0,
    "start_time": "2022-03-20T10:33:45.790Z"
   },
   {
    "duration": 0,
    "start_time": "2022-03-20T10:33:45.792Z"
   },
   {
    "duration": 0,
    "start_time": "2022-03-20T10:33:45.794Z"
   },
   {
    "duration": 0,
    "start_time": "2022-03-20T10:33:45.796Z"
   },
   {
    "duration": 0,
    "start_time": "2022-03-20T10:33:45.797Z"
   },
   {
    "duration": 0,
    "start_time": "2022-03-20T10:33:45.798Z"
   },
   {
    "duration": 0,
    "start_time": "2022-03-20T10:33:45.800Z"
   },
   {
    "duration": 0,
    "start_time": "2022-03-20T10:33:45.801Z"
   },
   {
    "duration": 0,
    "start_time": "2022-03-20T10:33:45.803Z"
   },
   {
    "duration": 0,
    "start_time": "2022-03-20T10:33:45.805Z"
   },
   {
    "duration": 0,
    "start_time": "2022-03-20T10:33:45.806Z"
   },
   {
    "duration": 0,
    "start_time": "2022-03-20T10:33:45.807Z"
   },
   {
    "duration": 11,
    "start_time": "2022-03-20T10:34:04.856Z"
   },
   {
    "duration": 627,
    "start_time": "2022-03-20T10:34:13.564Z"
   },
   {
    "duration": 47,
    "start_time": "2022-03-20T10:34:14.195Z"
   },
   {
    "duration": 149,
    "start_time": "2022-03-20T10:34:14.244Z"
   },
   {
    "duration": 0,
    "start_time": "2022-03-20T10:34:14.397Z"
   },
   {
    "duration": 1,
    "start_time": "2022-03-20T10:34:14.398Z"
   },
   {
    "duration": 0,
    "start_time": "2022-03-20T10:34:14.400Z"
   },
   {
    "duration": 0,
    "start_time": "2022-03-20T10:34:14.402Z"
   },
   {
    "duration": 0,
    "start_time": "2022-03-20T10:34:14.403Z"
   },
   {
    "duration": 0,
    "start_time": "2022-03-20T10:34:14.405Z"
   },
   {
    "duration": 0,
    "start_time": "2022-03-20T10:34:14.406Z"
   },
   {
    "duration": 0,
    "start_time": "2022-03-20T10:34:14.408Z"
   },
   {
    "duration": 0,
    "start_time": "2022-03-20T10:34:14.409Z"
   },
   {
    "duration": 0,
    "start_time": "2022-03-20T10:34:14.411Z"
   },
   {
    "duration": 0,
    "start_time": "2022-03-20T10:34:14.412Z"
   },
   {
    "duration": 0,
    "start_time": "2022-03-20T10:34:14.414Z"
   },
   {
    "duration": 0,
    "start_time": "2022-03-20T10:34:14.416Z"
   },
   {
    "duration": 0,
    "start_time": "2022-03-20T10:34:14.418Z"
   },
   {
    "duration": 0,
    "start_time": "2022-03-20T10:34:14.419Z"
   },
   {
    "duration": 0,
    "start_time": "2022-03-20T10:34:14.420Z"
   },
   {
    "duration": 0,
    "start_time": "2022-03-20T10:34:14.421Z"
   },
   {
    "duration": 0,
    "start_time": "2022-03-20T10:34:14.423Z"
   },
   {
    "duration": 0,
    "start_time": "2022-03-20T10:34:14.425Z"
   },
   {
    "duration": 0,
    "start_time": "2022-03-20T10:34:14.426Z"
   },
   {
    "duration": 0,
    "start_time": "2022-03-20T10:34:14.427Z"
   },
   {
    "duration": 0,
    "start_time": "2022-03-20T10:34:14.429Z"
   },
   {
    "duration": 10,
    "start_time": "2022-03-20T10:34:38.944Z"
   },
   {
    "duration": 8,
    "start_time": "2022-03-20T10:34:49.963Z"
   },
   {
    "duration": 9,
    "start_time": "2022-03-20T10:35:20.139Z"
   },
   {
    "duration": 6,
    "start_time": "2022-03-20T10:36:15.275Z"
   },
   {
    "duration": 6,
    "start_time": "2022-03-20T10:36:37.725Z"
   },
   {
    "duration": 6,
    "start_time": "2022-03-20T10:36:44.696Z"
   },
   {
    "duration": 8,
    "start_time": "2022-03-20T10:45:51.798Z"
   },
   {
    "duration": 9,
    "start_time": "2022-03-20T10:46:30.836Z"
   },
   {
    "duration": 560,
    "start_time": "2022-03-20T10:49:41.299Z"
   },
   {
    "duration": 46,
    "start_time": "2022-03-20T10:49:41.862Z"
   },
   {
    "duration": 9,
    "start_time": "2022-03-20T10:49:41.910Z"
   },
   {
    "duration": 8,
    "start_time": "2022-03-20T10:49:41.922Z"
   },
   {
    "duration": 7,
    "start_time": "2022-03-20T10:49:41.935Z"
   },
   {
    "duration": 5,
    "start_time": "2022-03-20T10:49:41.983Z"
   },
   {
    "duration": 45,
    "start_time": "2022-03-20T10:49:41.990Z"
   },
   {
    "duration": 10,
    "start_time": "2022-03-20T10:49:42.037Z"
   },
   {
    "duration": 41,
    "start_time": "2022-03-20T10:49:42.049Z"
   },
   {
    "duration": 21,
    "start_time": "2022-03-20T10:49:42.092Z"
   },
   {
    "duration": 8,
    "start_time": "2022-03-20T10:49:42.115Z"
   },
   {
    "duration": 6,
    "start_time": "2022-03-20T10:49:42.125Z"
   },
   {
    "duration": 49,
    "start_time": "2022-03-20T10:49:42.133Z"
   },
   {
    "duration": 12,
    "start_time": "2022-03-20T10:49:42.187Z"
   },
   {
    "duration": 5,
    "start_time": "2022-03-20T10:49:42.201Z"
   },
   {
    "duration": 8,
    "start_time": "2022-03-20T10:49:42.208Z"
   },
   {
    "duration": 7,
    "start_time": "2022-03-20T10:49:42.218Z"
   },
   {
    "duration": 147,
    "start_time": "2022-03-20T10:49:42.228Z"
   },
   {
    "duration": 0,
    "start_time": "2022-03-20T10:49:42.377Z"
   },
   {
    "duration": 0,
    "start_time": "2022-03-20T10:49:42.379Z"
   },
   {
    "duration": 1,
    "start_time": "2022-03-20T10:49:42.380Z"
   },
   {
    "duration": 0,
    "start_time": "2022-03-20T10:49:42.383Z"
   },
   {
    "duration": 0,
    "start_time": "2022-03-20T10:49:42.385Z"
   },
   {
    "duration": 0,
    "start_time": "2022-03-20T10:49:42.386Z"
   },
   {
    "duration": 0,
    "start_time": "2022-03-20T10:49:42.388Z"
   },
   {
    "duration": 0,
    "start_time": "2022-03-20T10:49:42.391Z"
   },
   {
    "duration": 550,
    "start_time": "2022-03-20T10:51:21.123Z"
   },
   {
    "duration": 44,
    "start_time": "2022-03-20T10:51:21.676Z"
   },
   {
    "duration": 8,
    "start_time": "2022-03-20T10:51:21.723Z"
   },
   {
    "duration": 6,
    "start_time": "2022-03-20T10:51:21.734Z"
   },
   {
    "duration": 41,
    "start_time": "2022-03-20T10:51:21.742Z"
   },
   {
    "duration": 6,
    "start_time": "2022-03-20T10:51:21.786Z"
   },
   {
    "duration": 45,
    "start_time": "2022-03-20T10:51:21.795Z"
   },
   {
    "duration": 31,
    "start_time": "2022-03-20T10:51:21.852Z"
   },
   {
    "duration": 11,
    "start_time": "2022-03-20T10:51:21.886Z"
   },
   {
    "duration": 20,
    "start_time": "2022-03-20T10:51:21.901Z"
   },
   {
    "duration": 8,
    "start_time": "2022-03-20T10:51:21.923Z"
   },
   {
    "duration": 50,
    "start_time": "2022-03-20T10:51:21.933Z"
   },
   {
    "duration": 7,
    "start_time": "2022-03-20T10:51:21.985Z"
   },
   {
    "duration": 10,
    "start_time": "2022-03-20T10:51:21.995Z"
   },
   {
    "duration": 5,
    "start_time": "2022-03-20T10:51:22.007Z"
   },
   {
    "duration": 9,
    "start_time": "2022-03-20T10:51:22.015Z"
   },
   {
    "duration": 56,
    "start_time": "2022-03-20T10:51:22.027Z"
   },
   {
    "duration": 146,
    "start_time": "2022-03-20T10:51:22.086Z"
   },
   {
    "duration": 0,
    "start_time": "2022-03-20T10:51:22.234Z"
   },
   {
    "duration": 0,
    "start_time": "2022-03-20T10:51:22.236Z"
   },
   {
    "duration": 0,
    "start_time": "2022-03-20T10:51:22.238Z"
   },
   {
    "duration": 0,
    "start_time": "2022-03-20T10:51:22.240Z"
   },
   {
    "duration": 0,
    "start_time": "2022-03-20T10:51:22.242Z"
   },
   {
    "duration": 0,
    "start_time": "2022-03-20T10:51:22.243Z"
   },
   {
    "duration": 0,
    "start_time": "2022-03-20T10:51:22.245Z"
   },
   {
    "duration": 0,
    "start_time": "2022-03-20T10:51:22.246Z"
   },
   {
    "duration": 9,
    "start_time": "2022-03-20T10:55:02.911Z"
   },
   {
    "duration": 595,
    "start_time": "2022-03-20T10:55:10.348Z"
   },
   {
    "duration": 54,
    "start_time": "2022-03-20T10:55:10.946Z"
   },
   {
    "duration": 10,
    "start_time": "2022-03-20T10:55:11.002Z"
   },
   {
    "duration": 38,
    "start_time": "2022-03-20T10:55:11.015Z"
   },
   {
    "duration": 44,
    "start_time": "2022-03-20T10:55:11.058Z"
   },
   {
    "duration": 26,
    "start_time": "2022-03-20T10:55:11.105Z"
   },
   {
    "duration": 75,
    "start_time": "2022-03-20T10:55:11.134Z"
   },
   {
    "duration": 11,
    "start_time": "2022-03-20T10:55:11.211Z"
   },
   {
    "duration": 33,
    "start_time": "2022-03-20T10:55:11.225Z"
   },
   {
    "duration": 33,
    "start_time": "2022-03-20T10:55:11.260Z"
   },
   {
    "duration": 28,
    "start_time": "2022-03-20T10:55:11.295Z"
   },
   {
    "duration": 32,
    "start_time": "2022-03-20T10:55:11.325Z"
   },
   {
    "duration": 43,
    "start_time": "2022-03-20T10:55:11.359Z"
   },
   {
    "duration": 28,
    "start_time": "2022-03-20T10:55:11.406Z"
   },
   {
    "duration": 36,
    "start_time": "2022-03-20T10:55:11.436Z"
   },
   {
    "duration": 51,
    "start_time": "2022-03-20T10:55:11.474Z"
   },
   {
    "duration": 31,
    "start_time": "2022-03-20T10:55:11.528Z"
   },
   {
    "duration": 149,
    "start_time": "2022-03-20T10:55:11.561Z"
   },
   {
    "duration": 0,
    "start_time": "2022-03-20T10:55:11.712Z"
   },
   {
    "duration": 0,
    "start_time": "2022-03-20T10:55:11.714Z"
   },
   {
    "duration": 0,
    "start_time": "2022-03-20T10:55:11.716Z"
   },
   {
    "duration": 1,
    "start_time": "2022-03-20T10:55:11.717Z"
   },
   {
    "duration": 0,
    "start_time": "2022-03-20T10:55:11.719Z"
   },
   {
    "duration": 0,
    "start_time": "2022-03-20T10:55:11.720Z"
   },
   {
    "duration": 0,
    "start_time": "2022-03-20T10:55:11.722Z"
   },
   {
    "duration": 0,
    "start_time": "2022-03-20T10:55:11.723Z"
   },
   {
    "duration": 8,
    "start_time": "2022-03-20T11:05:10.688Z"
   },
   {
    "duration": 13,
    "start_time": "2022-03-20T11:05:14.503Z"
   },
   {
    "duration": 8,
    "start_time": "2022-03-20T11:05:24.722Z"
   },
   {
    "duration": 580,
    "start_time": "2022-03-20T11:05:36.130Z"
   },
   {
    "duration": 45,
    "start_time": "2022-03-20T11:05:36.714Z"
   },
   {
    "duration": 9,
    "start_time": "2022-03-20T11:05:36.782Z"
   },
   {
    "duration": 17,
    "start_time": "2022-03-20T11:05:36.793Z"
   },
   {
    "duration": 8,
    "start_time": "2022-03-20T11:05:36.813Z"
   },
   {
    "duration": 7,
    "start_time": "2022-03-20T11:05:36.823Z"
   },
   {
    "duration": 79,
    "start_time": "2022-03-20T11:05:36.833Z"
   },
   {
    "duration": 10,
    "start_time": "2022-03-20T11:05:36.915Z"
   },
   {
    "duration": 12,
    "start_time": "2022-03-20T11:05:36.927Z"
   },
   {
    "duration": 48,
    "start_time": "2022-03-20T11:05:36.941Z"
   },
   {
    "duration": 9,
    "start_time": "2022-03-20T11:05:36.991Z"
   },
   {
    "duration": 14,
    "start_time": "2022-03-20T11:05:37.002Z"
   },
   {
    "duration": 13,
    "start_time": "2022-03-20T11:05:37.018Z"
   },
   {
    "duration": 11,
    "start_time": "2022-03-20T11:05:37.036Z"
   },
   {
    "duration": 35,
    "start_time": "2022-03-20T11:05:37.049Z"
   },
   {
    "duration": 14,
    "start_time": "2022-03-20T11:05:37.086Z"
   },
   {
    "duration": 8,
    "start_time": "2022-03-20T11:05:37.102Z"
   },
   {
    "duration": 7,
    "start_time": "2022-03-20T11:05:37.113Z"
   },
   {
    "duration": 14,
    "start_time": "2022-03-20T11:05:37.122Z"
   },
   {
    "duration": 50,
    "start_time": "2022-03-20T11:05:37.183Z"
   },
   {
    "duration": 8,
    "start_time": "2022-03-20T11:05:37.235Z"
   },
   {
    "duration": 37,
    "start_time": "2022-03-20T11:05:37.245Z"
   },
   {
    "duration": 9,
    "start_time": "2022-03-20T11:05:37.285Z"
   },
   {
    "duration": 26,
    "start_time": "2022-03-20T11:12:31.121Z"
   },
   {
    "duration": 29,
    "start_time": "2022-03-20T11:14:57.776Z"
   },
   {
    "duration": 24,
    "start_time": "2022-03-20T11:15:06.270Z"
   },
   {
    "duration": 57,
    "start_time": "2022-03-20T11:20:55.985Z"
   },
   {
    "duration": 57,
    "start_time": "2022-03-20T11:21:08.038Z"
   },
   {
    "duration": 56,
    "start_time": "2022-03-20T11:21:14.101Z"
   },
   {
    "duration": 87,
    "start_time": "2022-03-20T11:22:27.611Z"
   },
   {
    "duration": 8,
    "start_time": "2022-03-20T11:22:35.412Z"
   },
   {
    "duration": 10,
    "start_time": "2022-03-20T11:28:08.233Z"
   },
   {
    "duration": 22,
    "start_time": "2022-03-20T11:29:29.733Z"
   },
   {
    "duration": 16,
    "start_time": "2022-03-20T11:32:01.123Z"
   },
   {
    "duration": 10,
    "start_time": "2022-03-20T11:32:05.799Z"
   },
   {
    "duration": 10,
    "start_time": "2022-03-20T11:32:10.144Z"
   },
   {
    "duration": 159,
    "start_time": "2022-03-20T11:33:17.855Z"
   },
   {
    "duration": 7,
    "start_time": "2022-03-20T11:44:08.308Z"
   },
   {
    "duration": 14,
    "start_time": "2022-03-20T11:44:30.202Z"
   },
   {
    "duration": 7,
    "start_time": "2022-03-20T11:44:36.799Z"
   },
   {
    "duration": 9,
    "start_time": "2022-03-20T11:48:05.962Z"
   },
   {
    "duration": 2857,
    "start_time": "2022-03-20T11:57:19.752Z"
   },
   {
    "duration": 10,
    "start_time": "2022-03-20T11:57:30.679Z"
   },
   {
    "duration": 11,
    "start_time": "2022-03-20T11:59:10.432Z"
   },
   {
    "duration": 11,
    "start_time": "2022-03-20T11:59:33.660Z"
   },
   {
    "duration": 119,
    "start_time": "2022-03-20T15:44:15.648Z"
   },
   {
    "duration": 43,
    "start_time": "2022-03-20T16:04:13.976Z"
   },
   {
    "duration": 457,
    "start_time": "2022-03-20T16:04:47.397Z"
   },
   {
    "duration": 26,
    "start_time": "2022-03-20T16:04:47.855Z"
   },
   {
    "duration": 11,
    "start_time": "2022-03-20T16:04:47.882Z"
   },
   {
    "duration": 4,
    "start_time": "2022-03-20T16:04:47.895Z"
   },
   {
    "duration": 7,
    "start_time": "2022-03-20T16:04:47.901Z"
   },
   {
    "duration": 31,
    "start_time": "2022-03-20T16:04:47.910Z"
   },
   {
    "duration": 32,
    "start_time": "2022-03-20T16:04:47.943Z"
   },
   {
    "duration": 6,
    "start_time": "2022-03-20T16:04:47.977Z"
   },
   {
    "duration": 17,
    "start_time": "2022-03-20T16:04:47.984Z"
   },
   {
    "duration": 42,
    "start_time": "2022-03-20T16:04:48.004Z"
   },
   {
    "duration": 6,
    "start_time": "2022-03-20T16:04:48.047Z"
   },
   {
    "duration": 4,
    "start_time": "2022-03-20T16:04:48.055Z"
   },
   {
    "duration": 7,
    "start_time": "2022-03-20T16:04:48.061Z"
   },
   {
    "duration": 15,
    "start_time": "2022-03-20T16:04:48.070Z"
   },
   {
    "duration": 4,
    "start_time": "2022-03-20T16:04:48.086Z"
   },
   {
    "duration": 13,
    "start_time": "2022-03-20T16:04:48.091Z"
   },
   {
    "duration": 6,
    "start_time": "2022-03-20T16:04:48.138Z"
   },
   {
    "duration": 6,
    "start_time": "2022-03-20T16:04:48.145Z"
   },
   {
    "duration": 10,
    "start_time": "2022-03-20T16:04:48.153Z"
   },
   {
    "duration": 30,
    "start_time": "2022-03-20T16:04:48.164Z"
   },
   {
    "duration": 5,
    "start_time": "2022-03-20T16:04:48.195Z"
   },
   {
    "duration": 6,
    "start_time": "2022-03-20T16:04:48.238Z"
   },
   {
    "duration": 8,
    "start_time": "2022-03-20T16:04:48.246Z"
   },
   {
    "duration": 20,
    "start_time": "2022-03-20T16:04:48.255Z"
   },
   {
    "duration": 19,
    "start_time": "2022-03-20T16:04:48.277Z"
   },
   {
    "duration": 55,
    "start_time": "2022-03-20T16:04:48.298Z"
   },
   {
    "duration": 7,
    "start_time": "2022-03-20T16:04:48.355Z"
   },
   {
    "duration": 12,
    "start_time": "2022-03-20T16:04:48.367Z"
   },
   {
    "duration": 10,
    "start_time": "2022-03-20T16:04:48.381Z"
   },
   {
    "duration": 46,
    "start_time": "2022-03-20T16:04:48.393Z"
   },
   {
    "duration": 10,
    "start_time": "2022-03-20T16:04:48.441Z"
   },
   {
    "duration": 9,
    "start_time": "2022-03-20T16:04:48.453Z"
   },
   {
    "duration": 10,
    "start_time": "2022-03-20T16:04:48.464Z"
   },
   {
    "duration": 15,
    "start_time": "2022-03-20T16:04:48.477Z"
   },
   {
    "duration": 5,
    "start_time": "2022-03-20T16:04:53.119Z"
   },
   {
    "duration": 5,
    "start_time": "2022-03-20T16:04:59.206Z"
   },
   {
    "duration": 11,
    "start_time": "2022-03-20T16:05:12.127Z"
   },
   {
    "duration": 6,
    "start_time": "2022-03-20T16:06:18.997Z"
   },
   {
    "duration": 457,
    "start_time": "2022-03-20T16:06:30.085Z"
   },
   {
    "duration": 30,
    "start_time": "2022-03-20T16:06:30.545Z"
   },
   {
    "duration": 7,
    "start_time": "2022-03-20T16:06:30.576Z"
   },
   {
    "duration": 11,
    "start_time": "2022-03-20T16:06:30.585Z"
   },
   {
    "duration": 24,
    "start_time": "2022-03-20T16:06:30.598Z"
   },
   {
    "duration": 20,
    "start_time": "2022-03-20T16:06:30.624Z"
   },
   {
    "duration": 57,
    "start_time": "2022-03-20T16:06:30.646Z"
   },
   {
    "duration": 8,
    "start_time": "2022-03-20T16:06:30.706Z"
   },
   {
    "duration": 9,
    "start_time": "2022-03-20T16:06:30.717Z"
   },
   {
    "duration": 22,
    "start_time": "2022-03-20T16:06:30.736Z"
   },
   {
    "duration": 8,
    "start_time": "2022-03-20T16:06:30.760Z"
   },
   {
    "duration": 9,
    "start_time": "2022-03-20T16:06:30.770Z"
   },
   {
    "duration": 22,
    "start_time": "2022-03-20T16:06:30.781Z"
   },
   {
    "duration": 33,
    "start_time": "2022-03-20T16:06:30.805Z"
   },
   {
    "duration": 11,
    "start_time": "2022-03-20T16:06:30.840Z"
   },
   {
    "duration": 41,
    "start_time": "2022-03-20T16:06:30.853Z"
   },
   {
    "duration": 5,
    "start_time": "2022-03-20T16:06:30.896Z"
   },
   {
    "duration": 8,
    "start_time": "2022-03-20T16:06:30.903Z"
   },
   {
    "duration": 20,
    "start_time": "2022-03-20T16:06:30.912Z"
   },
   {
    "duration": 34,
    "start_time": "2022-03-20T16:06:30.933Z"
   },
   {
    "duration": 5,
    "start_time": "2022-03-20T16:06:30.969Z"
   },
   {
    "duration": 17,
    "start_time": "2022-03-20T16:06:30.975Z"
   },
   {
    "duration": 28,
    "start_time": "2022-03-20T16:06:30.994Z"
   },
   {
    "duration": 42,
    "start_time": "2022-03-20T16:06:31.024Z"
   },
   {
    "duration": 20,
    "start_time": "2022-03-20T16:06:31.068Z"
   },
   {
    "duration": 17,
    "start_time": "2022-03-20T16:06:31.090Z"
   },
   {
    "duration": 8,
    "start_time": "2022-03-20T16:06:31.108Z"
   },
   {
    "duration": 11,
    "start_time": "2022-03-20T16:06:31.140Z"
   },
   {
    "duration": 23,
    "start_time": "2022-03-20T16:06:31.153Z"
   },
   {
    "duration": 22,
    "start_time": "2022-03-20T16:06:31.178Z"
   },
   {
    "duration": 28,
    "start_time": "2022-03-20T16:06:31.202Z"
   },
   {
    "duration": 19,
    "start_time": "2022-03-20T16:06:31.231Z"
   },
   {
    "duration": 25,
    "start_time": "2022-03-20T16:06:31.252Z"
   },
   {
    "duration": 80,
    "start_time": "2022-03-20T16:06:31.278Z"
   },
   {
    "duration": 108,
    "start_time": "2022-03-20T16:08:58.024Z"
   },
   {
    "duration": 5,
    "start_time": "2022-03-20T16:15:59.581Z"
   },
   {
    "duration": 71,
    "start_time": "2022-03-20T16:16:08.305Z"
   },
   {
    "duration": 11,
    "start_time": "2022-03-20T16:16:24.632Z"
   },
   {
    "duration": 438,
    "start_time": "2022-03-20T16:16:40.295Z"
   },
   {
    "duration": 27,
    "start_time": "2022-03-20T16:16:40.735Z"
   },
   {
    "duration": 7,
    "start_time": "2022-03-20T16:16:40.763Z"
   },
   {
    "duration": 5,
    "start_time": "2022-03-20T16:16:40.771Z"
   },
   {
    "duration": 6,
    "start_time": "2022-03-20T16:16:40.778Z"
   },
   {
    "duration": 4,
    "start_time": "2022-03-20T16:16:40.785Z"
   },
   {
    "duration": 68,
    "start_time": "2022-03-20T16:16:40.791Z"
   },
   {
    "duration": 8,
    "start_time": "2022-03-20T16:16:40.861Z"
   },
   {
    "duration": 8,
    "start_time": "2022-03-20T16:16:40.871Z"
   },
   {
    "duration": 14,
    "start_time": "2022-03-20T16:16:40.881Z"
   },
   {
    "duration": 42,
    "start_time": "2022-03-20T16:16:40.897Z"
   },
   {
    "duration": 6,
    "start_time": "2022-03-20T16:16:40.940Z"
   },
   {
    "duration": 5,
    "start_time": "2022-03-20T16:16:40.948Z"
   },
   {
    "duration": 5,
    "start_time": "2022-03-20T16:16:40.956Z"
   },
   {
    "duration": 3,
    "start_time": "2022-03-20T16:16:40.963Z"
   },
   {
    "duration": 9,
    "start_time": "2022-03-20T16:16:40.968Z"
   },
   {
    "duration": 4,
    "start_time": "2022-03-20T16:16:40.979Z"
   },
   {
    "duration": 4,
    "start_time": "2022-03-20T16:16:40.985Z"
   },
   {
    "duration": 11,
    "start_time": "2022-03-20T16:16:41.039Z"
   },
   {
    "duration": 32,
    "start_time": "2022-03-20T16:16:41.052Z"
   },
   {
    "duration": 4,
    "start_time": "2022-03-20T16:16:41.086Z"
   },
   {
    "duration": 6,
    "start_time": "2022-03-20T16:16:41.092Z"
   },
   {
    "duration": 43,
    "start_time": "2022-03-20T16:16:41.100Z"
   },
   {
    "duration": 19,
    "start_time": "2022-03-20T16:16:41.145Z"
   },
   {
    "duration": 16,
    "start_time": "2022-03-20T16:16:41.166Z"
   },
   {
    "duration": 16,
    "start_time": "2022-03-20T16:16:41.184Z"
   },
   {
    "duration": 37,
    "start_time": "2022-03-20T16:16:41.201Z"
   },
   {
    "duration": 12,
    "start_time": "2022-03-20T16:16:41.240Z"
   },
   {
    "duration": 26,
    "start_time": "2022-03-20T16:16:41.254Z"
   },
   {
    "duration": 19,
    "start_time": "2022-03-20T16:16:41.282Z"
   },
   {
    "duration": 10,
    "start_time": "2022-03-20T16:16:41.303Z"
   },
   {
    "duration": 8,
    "start_time": "2022-03-20T16:16:41.315Z"
   },
   {
    "duration": 13,
    "start_time": "2022-03-20T16:16:41.325Z"
   },
   {
    "duration": 7,
    "start_time": "2022-03-20T16:16:41.339Z"
   },
   {
    "duration": 12,
    "start_time": "2022-03-20T16:16:41.347Z"
   },
   {
    "duration": 14,
    "start_time": "2022-03-20T16:16:47.911Z"
   },
   {
    "duration": 11,
    "start_time": "2022-03-20T16:16:59.454Z"
   },
   {
    "duration": 10,
    "start_time": "2022-03-20T16:18:08.358Z"
   },
   {
    "duration": 7,
    "start_time": "2022-03-20T16:20:18.508Z"
   },
   {
    "duration": 10,
    "start_time": "2022-03-20T16:20:22.458Z"
   },
   {
    "duration": 4,
    "start_time": "2022-03-20T16:42:40.290Z"
   },
   {
    "duration": 491,
    "start_time": "2022-03-20T16:42:47.107Z"
   },
   {
    "duration": 26,
    "start_time": "2022-03-20T16:42:47.600Z"
   },
   {
    "duration": 10,
    "start_time": "2022-03-20T16:42:47.628Z"
   },
   {
    "duration": 6,
    "start_time": "2022-03-20T16:42:47.640Z"
   },
   {
    "duration": 4,
    "start_time": "2022-03-20T16:42:47.648Z"
   },
   {
    "duration": 5,
    "start_time": "2022-03-20T16:42:47.653Z"
   },
   {
    "duration": 31,
    "start_time": "2022-03-20T16:42:47.659Z"
   },
   {
    "duration": 47,
    "start_time": "2022-03-20T16:42:47.692Z"
   },
   {
    "duration": 7,
    "start_time": "2022-03-20T16:42:47.741Z"
   },
   {
    "duration": 15,
    "start_time": "2022-03-20T16:42:47.751Z"
   },
   {
    "duration": 7,
    "start_time": "2022-03-20T16:42:47.767Z"
   },
   {
    "duration": 6,
    "start_time": "2022-03-20T16:42:47.775Z"
   },
   {
    "duration": 6,
    "start_time": "2022-03-20T16:42:47.782Z"
   },
   {
    "duration": 50,
    "start_time": "2022-03-20T16:42:47.789Z"
   },
   {
    "duration": 7,
    "start_time": "2022-03-20T16:42:47.840Z"
   },
   {
    "duration": 14,
    "start_time": "2022-03-20T16:42:47.848Z"
   },
   {
    "duration": 5,
    "start_time": "2022-03-20T16:42:47.863Z"
   },
   {
    "duration": 9,
    "start_time": "2022-03-20T16:42:47.869Z"
   },
   {
    "duration": 14,
    "start_time": "2022-03-20T16:42:47.879Z"
   },
   {
    "duration": 57,
    "start_time": "2022-03-20T16:42:47.895Z"
   },
   {
    "duration": 4,
    "start_time": "2022-03-20T16:42:47.954Z"
   },
   {
    "duration": 9,
    "start_time": "2022-03-20T16:42:47.960Z"
   },
   {
    "duration": 6,
    "start_time": "2022-03-20T16:42:47.970Z"
   },
   {
    "duration": 17,
    "start_time": "2022-03-20T16:42:47.977Z"
   },
   {
    "duration": 48,
    "start_time": "2022-03-20T16:42:47.996Z"
   },
   {
    "duration": 17,
    "start_time": "2022-03-20T16:42:48.046Z"
   },
   {
    "duration": 7,
    "start_time": "2022-03-20T16:42:48.065Z"
   },
   {
    "duration": 11,
    "start_time": "2022-03-20T16:42:48.075Z"
   },
   {
    "duration": 8,
    "start_time": "2022-03-20T16:42:48.088Z"
   },
   {
    "duration": 44,
    "start_time": "2022-03-20T16:42:48.098Z"
   },
   {
    "duration": 9,
    "start_time": "2022-03-20T16:42:48.144Z"
   },
   {
    "duration": 9,
    "start_time": "2022-03-20T16:42:48.155Z"
   },
   {
    "duration": 9,
    "start_time": "2022-03-20T16:42:48.166Z"
   },
   {
    "duration": 7,
    "start_time": "2022-03-20T16:42:48.176Z"
   },
   {
    "duration": 6,
    "start_time": "2022-03-20T16:42:48.184Z"
   },
   {
    "duration": 8,
    "start_time": "2022-03-20T16:42:48.191Z"
   },
   {
    "duration": 41,
    "start_time": "2022-03-20T16:42:48.201Z"
   },
   {
    "duration": 11,
    "start_time": "2022-03-20T16:42:48.243Z"
   },
   {
    "duration": 5,
    "start_time": "2022-03-20T16:42:48.255Z"
   },
   {
    "duration": 3,
    "start_time": "2022-03-20T16:44:07.230Z"
   },
   {
    "duration": 3,
    "start_time": "2022-03-20T16:44:35.784Z"
   },
   {
    "duration": 3,
    "start_time": "2022-03-20T16:44:42.337Z"
   },
   {
    "duration": 4,
    "start_time": "2022-03-20T16:44:47.575Z"
   },
   {
    "duration": 3,
    "start_time": "2022-03-20T16:45:57.929Z"
   },
   {
    "duration": 4,
    "start_time": "2022-03-20T16:46:23.088Z"
   },
   {
    "duration": 4,
    "start_time": "2022-03-20T16:46:39.628Z"
   },
   {
    "duration": 3,
    "start_time": "2022-03-20T16:46:54.751Z"
   },
   {
    "duration": 4,
    "start_time": "2022-03-20T16:47:06.663Z"
   },
   {
    "duration": 4,
    "start_time": "2022-03-20T16:47:13.105Z"
   },
   {
    "duration": 134,
    "start_time": "2022-03-20T16:57:59.932Z"
   },
   {
    "duration": 9,
    "start_time": "2022-03-20T17:03:53.216Z"
   },
   {
    "duration": 16,
    "start_time": "2022-03-20T17:04:07.930Z"
   },
   {
    "duration": 10,
    "start_time": "2022-03-20T17:04:16.304Z"
   },
   {
    "duration": 12,
    "start_time": "2022-03-20T17:04:38.690Z"
   },
   {
    "duration": 111,
    "start_time": "2022-03-20T17:04:59.129Z"
   },
   {
    "duration": 9,
    "start_time": "2022-03-20T17:10:18.017Z"
   },
   {
    "duration": 7,
    "start_time": "2022-03-20T17:10:52.525Z"
   },
   {
    "duration": 7,
    "start_time": "2022-03-20T17:10:59.413Z"
   },
   {
    "duration": 9,
    "start_time": "2022-03-20T17:14:37.274Z"
   },
   {
    "duration": 5,
    "start_time": "2022-03-20T17:15:37.512Z"
   },
   {
    "duration": 67,
    "start_time": "2022-03-20T17:15:55.938Z"
   },
   {
    "duration": 8,
    "start_time": "2022-03-20T17:16:03.726Z"
   },
   {
    "duration": 3,
    "start_time": "2022-03-20T17:55:59.165Z"
   },
   {
    "duration": 3,
    "start_time": "2022-03-20T18:50:10.683Z"
   },
   {
    "duration": 3,
    "start_time": "2022-03-20T18:51:35.552Z"
   },
   {
    "duration": 112,
    "start_time": "2022-03-20T18:51:55.972Z"
   },
   {
    "duration": 10,
    "start_time": "2022-03-20T18:52:10.061Z"
   },
   {
    "duration": 485,
    "start_time": "2022-03-20T18:52:18.634Z"
   },
   {
    "duration": 27,
    "start_time": "2022-03-20T18:52:19.121Z"
   },
   {
    "duration": 7,
    "start_time": "2022-03-20T18:52:19.149Z"
   },
   {
    "duration": 6,
    "start_time": "2022-03-20T18:52:19.157Z"
   },
   {
    "duration": 5,
    "start_time": "2022-03-20T18:52:19.164Z"
   },
   {
    "duration": 5,
    "start_time": "2022-03-20T18:52:19.171Z"
   },
   {
    "duration": 30,
    "start_time": "2022-03-20T18:52:19.178Z"
   },
   {
    "duration": 32,
    "start_time": "2022-03-20T18:52:19.210Z"
   },
   {
    "duration": 10,
    "start_time": "2022-03-20T18:52:19.244Z"
   },
   {
    "duration": 14,
    "start_time": "2022-03-20T18:52:19.256Z"
   },
   {
    "duration": 5,
    "start_time": "2022-03-20T18:52:19.272Z"
   },
   {
    "duration": 5,
    "start_time": "2022-03-20T18:52:19.279Z"
   },
   {
    "duration": 6,
    "start_time": "2022-03-20T18:52:19.286Z"
   },
   {
    "duration": 45,
    "start_time": "2022-03-20T18:52:19.293Z"
   },
   {
    "duration": 4,
    "start_time": "2022-03-20T18:52:19.340Z"
   },
   {
    "duration": 11,
    "start_time": "2022-03-20T18:52:19.345Z"
   },
   {
    "duration": 4,
    "start_time": "2022-03-20T18:52:19.358Z"
   },
   {
    "duration": 5,
    "start_time": "2022-03-20T18:52:19.363Z"
   },
   {
    "duration": 10,
    "start_time": "2022-03-20T18:52:19.369Z"
   },
   {
    "duration": 57,
    "start_time": "2022-03-20T18:52:19.381Z"
   },
   {
    "duration": 5,
    "start_time": "2022-03-20T18:52:19.440Z"
   },
   {
    "duration": 7,
    "start_time": "2022-03-20T18:52:19.447Z"
   },
   {
    "duration": 5,
    "start_time": "2022-03-20T18:52:19.456Z"
   },
   {
    "duration": 19,
    "start_time": "2022-03-20T18:52:19.462Z"
   },
   {
    "duration": 17,
    "start_time": "2022-03-20T18:52:19.483Z"
   },
   {
    "duration": 45,
    "start_time": "2022-03-20T18:52:19.502Z"
   },
   {
    "duration": 7,
    "start_time": "2022-03-20T18:52:19.549Z"
   },
   {
    "duration": 16,
    "start_time": "2022-03-20T18:52:19.559Z"
   },
   {
    "duration": 20,
    "start_time": "2022-03-20T18:52:19.576Z"
   },
   {
    "duration": 24,
    "start_time": "2022-03-20T18:52:19.597Z"
   },
   {
    "duration": 19,
    "start_time": "2022-03-20T18:52:19.623Z"
   },
   {
    "duration": 17,
    "start_time": "2022-03-20T18:52:19.644Z"
   },
   {
    "duration": 25,
    "start_time": "2022-03-20T18:52:19.662Z"
   },
   {
    "duration": 18,
    "start_time": "2022-03-20T18:52:19.689Z"
   },
   {
    "duration": 14,
    "start_time": "2022-03-20T18:52:19.709Z"
   },
   {
    "duration": 21,
    "start_time": "2022-03-20T18:52:19.725Z"
   },
   {
    "duration": 14,
    "start_time": "2022-03-20T18:52:19.748Z"
   },
   {
    "duration": 15,
    "start_time": "2022-03-20T18:52:19.763Z"
   },
   {
    "duration": 8,
    "start_time": "2022-03-20T18:52:19.779Z"
   },
   {
    "duration": 66,
    "start_time": "2022-03-20T18:52:19.788Z"
   },
   {
    "duration": 0,
    "start_time": "2022-03-20T18:52:19.856Z"
   },
   {
    "duration": 0,
    "start_time": "2022-03-20T18:52:19.857Z"
   },
   {
    "duration": 0,
    "start_time": "2022-03-20T18:52:19.858Z"
   },
   {
    "duration": 0,
    "start_time": "2022-03-20T18:52:19.860Z"
   },
   {
    "duration": 0,
    "start_time": "2022-03-20T18:52:19.861Z"
   },
   {
    "duration": 0,
    "start_time": "2022-03-20T18:52:19.862Z"
   },
   {
    "duration": 0,
    "start_time": "2022-03-20T18:52:19.863Z"
   },
   {
    "duration": 0,
    "start_time": "2022-03-20T18:52:19.864Z"
   },
   {
    "duration": 0,
    "start_time": "2022-03-20T18:52:19.865Z"
   },
   {
    "duration": 0,
    "start_time": "2022-03-20T18:52:19.866Z"
   },
   {
    "duration": 0,
    "start_time": "2022-03-20T18:52:19.867Z"
   },
   {
    "duration": 7,
    "start_time": "2022-03-20T18:52:24.398Z"
   },
   {
    "duration": 432,
    "start_time": "2022-03-20T18:53:05.396Z"
   },
   {
    "duration": 26,
    "start_time": "2022-03-20T18:53:05.830Z"
   },
   {
    "duration": 6,
    "start_time": "2022-03-20T18:53:05.858Z"
   },
   {
    "duration": 8,
    "start_time": "2022-03-20T18:53:05.866Z"
   },
   {
    "duration": 10,
    "start_time": "2022-03-20T18:53:05.875Z"
   },
   {
    "duration": 10,
    "start_time": "2022-03-20T18:53:05.886Z"
   },
   {
    "duration": 47,
    "start_time": "2022-03-20T18:53:05.897Z"
   },
   {
    "duration": 7,
    "start_time": "2022-03-20T18:53:05.945Z"
   },
   {
    "duration": 28,
    "start_time": "2022-03-20T18:53:05.953Z"
   },
   {
    "duration": 19,
    "start_time": "2022-03-20T18:53:05.982Z"
   },
   {
    "duration": 7,
    "start_time": "2022-03-20T18:53:06.002Z"
   },
   {
    "duration": 12,
    "start_time": "2022-03-20T18:53:06.010Z"
   },
   {
    "duration": 9,
    "start_time": "2022-03-20T18:53:06.024Z"
   },
   {
    "duration": 5,
    "start_time": "2022-03-20T18:53:06.039Z"
   },
   {
    "duration": 9,
    "start_time": "2022-03-20T18:53:06.046Z"
   },
   {
    "duration": 17,
    "start_time": "2022-03-20T18:53:06.056Z"
   },
   {
    "duration": 5,
    "start_time": "2022-03-20T18:53:06.074Z"
   },
   {
    "duration": 6,
    "start_time": "2022-03-20T18:53:06.081Z"
   },
   {
    "duration": 11,
    "start_time": "2022-03-20T18:53:06.088Z"
   },
   {
    "duration": 49,
    "start_time": "2022-03-20T18:53:06.100Z"
   },
   {
    "duration": 4,
    "start_time": "2022-03-20T18:53:06.151Z"
   },
   {
    "duration": 8,
    "start_time": "2022-03-20T18:53:06.156Z"
   },
   {
    "duration": 10,
    "start_time": "2022-03-20T18:53:06.165Z"
   },
   {
    "duration": 24,
    "start_time": "2022-03-20T18:53:06.177Z"
   },
   {
    "duration": 36,
    "start_time": "2022-03-20T18:53:06.202Z"
   },
   {
    "duration": 18,
    "start_time": "2022-03-20T18:53:06.240Z"
   },
   {
    "duration": 8,
    "start_time": "2022-03-20T18:53:06.260Z"
   },
   {
    "duration": 22,
    "start_time": "2022-03-20T18:53:06.269Z"
   },
   {
    "duration": 15,
    "start_time": "2022-03-20T18:53:06.293Z"
   },
   {
    "duration": 20,
    "start_time": "2022-03-20T18:53:06.309Z"
   },
   {
    "duration": 9,
    "start_time": "2022-03-20T18:53:06.331Z"
   },
   {
    "duration": 8,
    "start_time": "2022-03-20T18:53:06.342Z"
   },
   {
    "duration": 9,
    "start_time": "2022-03-20T18:53:06.351Z"
   },
   {
    "duration": 9,
    "start_time": "2022-03-20T18:53:06.361Z"
   },
   {
    "duration": 8,
    "start_time": "2022-03-20T18:53:06.372Z"
   },
   {
    "duration": 9,
    "start_time": "2022-03-20T18:53:06.382Z"
   },
   {
    "duration": 12,
    "start_time": "2022-03-20T18:53:06.392Z"
   },
   {
    "duration": 12,
    "start_time": "2022-03-20T18:53:06.405Z"
   },
   {
    "duration": 23,
    "start_time": "2022-03-20T18:53:06.419Z"
   },
   {
    "duration": 8,
    "start_time": "2022-03-20T18:53:06.443Z"
   },
   {
    "duration": 8,
    "start_time": "2022-03-20T18:53:06.455Z"
   },
   {
    "duration": 8,
    "start_time": "2022-03-20T18:53:06.464Z"
   },
   {
    "duration": 6,
    "start_time": "2022-03-20T18:53:06.474Z"
   },
   {
    "duration": 5,
    "start_time": "2022-03-20T18:53:06.482Z"
   },
   {
    "duration": 11,
    "start_time": "2022-03-20T18:53:06.488Z"
   },
   {
    "duration": 21,
    "start_time": "2022-03-20T18:53:06.500Z"
   },
   {
    "duration": 19,
    "start_time": "2022-03-20T18:53:06.522Z"
   },
   {
    "duration": 10,
    "start_time": "2022-03-20T18:53:06.542Z"
   },
   {
    "duration": 4,
    "start_time": "2022-03-20T18:53:06.554Z"
   },
   {
    "duration": 81,
    "start_time": "2022-03-20T18:53:06.560Z"
   },
   {
    "duration": 3,
    "start_time": "2022-03-20T19:04:21.039Z"
   },
   {
    "duration": 10,
    "start_time": "2022-03-20T19:04:24.022Z"
   },
   {
    "duration": 4,
    "start_time": "2022-03-20T19:13:27.250Z"
   },
   {
    "duration": 10,
    "start_time": "2022-03-20T19:13:29.791Z"
   },
   {
    "duration": 7,
    "start_time": "2022-03-20T19:14:55.559Z"
   },
   {
    "duration": 10,
    "start_time": "2022-03-20T19:15:04.960Z"
   },
   {
    "duration": 11,
    "start_time": "2022-03-20T19:15:16.034Z"
   },
   {
    "duration": 3,
    "start_time": "2022-03-20T19:31:24.852Z"
   },
   {
    "duration": 2,
    "start_time": "2022-03-20T19:39:01.729Z"
   },
   {
    "duration": 123,
    "start_time": "2022-03-20T19:43:49.320Z"
   },
   {
    "duration": 130,
    "start_time": "2022-03-20T19:44:34.750Z"
   },
   {
    "duration": 3,
    "start_time": "2022-03-20T19:47:47.141Z"
   },
   {
    "duration": 468,
    "start_time": "2022-03-20T19:48:46.886Z"
   },
   {
    "duration": 445,
    "start_time": "2022-03-20T19:49:48.174Z"
   },
   {
    "duration": 32,
    "start_time": "2022-03-20T19:49:48.622Z"
   },
   {
    "duration": 8,
    "start_time": "2022-03-20T19:49:48.656Z"
   },
   {
    "duration": 5,
    "start_time": "2022-03-20T19:49:48.667Z"
   },
   {
    "duration": 7,
    "start_time": "2022-03-20T19:49:48.674Z"
   },
   {
    "duration": 5,
    "start_time": "2022-03-20T19:49:48.683Z"
   },
   {
    "duration": 67,
    "start_time": "2022-03-20T19:49:48.689Z"
   },
   {
    "duration": 7,
    "start_time": "2022-03-20T19:49:48.759Z"
   },
   {
    "duration": 10,
    "start_time": "2022-03-20T19:49:48.769Z"
   },
   {
    "duration": 15,
    "start_time": "2022-03-20T19:49:48.783Z"
   },
   {
    "duration": 38,
    "start_time": "2022-03-20T19:49:48.800Z"
   },
   {
    "duration": 5,
    "start_time": "2022-03-20T19:49:48.839Z"
   },
   {
    "duration": 7,
    "start_time": "2022-03-20T19:49:48.846Z"
   },
   {
    "duration": 8,
    "start_time": "2022-03-20T19:49:48.854Z"
   },
   {
    "duration": 5,
    "start_time": "2022-03-20T19:49:48.863Z"
   },
   {
    "duration": 9,
    "start_time": "2022-03-20T19:49:48.870Z"
   },
   {
    "duration": 4,
    "start_time": "2022-03-20T19:49:48.881Z"
   },
   {
    "duration": 7,
    "start_time": "2022-03-20T19:49:48.887Z"
   },
   {
    "duration": 45,
    "start_time": "2022-03-20T19:49:48.895Z"
   },
   {
    "duration": 29,
    "start_time": "2022-03-20T19:49:48.941Z"
   },
   {
    "duration": 8,
    "start_time": "2022-03-20T19:49:48.971Z"
   },
   {
    "duration": 6,
    "start_time": "2022-03-20T19:49:48.981Z"
   },
   {
    "duration": 10,
    "start_time": "2022-03-20T19:49:48.988Z"
   },
   {
    "duration": 23,
    "start_time": "2022-03-20T19:49:48.999Z"
   },
   {
    "duration": 20,
    "start_time": "2022-03-20T19:49:49.037Z"
   },
   {
    "duration": 16,
    "start_time": "2022-03-20T19:49:49.059Z"
   },
   {
    "duration": 7,
    "start_time": "2022-03-20T19:49:49.076Z"
   },
   {
    "duration": 14,
    "start_time": "2022-03-20T19:49:49.086Z"
   },
   {
    "duration": 9,
    "start_time": "2022-03-20T19:49:49.102Z"
   },
   {
    "duration": 31,
    "start_time": "2022-03-20T19:49:49.112Z"
   },
   {
    "duration": 8,
    "start_time": "2022-03-20T19:49:49.145Z"
   },
   {
    "duration": 9,
    "start_time": "2022-03-20T19:49:49.154Z"
   },
   {
    "duration": 10,
    "start_time": "2022-03-20T19:49:49.164Z"
   },
   {
    "duration": 7,
    "start_time": "2022-03-20T19:49:49.176Z"
   },
   {
    "duration": 6,
    "start_time": "2022-03-20T19:49:49.185Z"
   },
   {
    "duration": 9,
    "start_time": "2022-03-20T19:49:49.192Z"
   },
   {
    "duration": 8,
    "start_time": "2022-03-20T19:49:49.202Z"
   },
   {
    "duration": 9,
    "start_time": "2022-03-20T19:49:49.238Z"
   },
   {
    "duration": 5,
    "start_time": "2022-03-20T19:49:49.248Z"
   },
   {
    "duration": 7,
    "start_time": "2022-03-20T19:49:49.254Z"
   },
   {
    "duration": 4,
    "start_time": "2022-03-20T19:49:49.263Z"
   },
   {
    "duration": 5,
    "start_time": "2022-03-20T19:49:49.268Z"
   },
   {
    "duration": 5,
    "start_time": "2022-03-20T19:49:49.275Z"
   },
   {
    "duration": 7,
    "start_time": "2022-03-20T19:49:49.281Z"
   },
   {
    "duration": 12,
    "start_time": "2022-03-20T19:49:49.289Z"
   },
   {
    "duration": 42,
    "start_time": "2022-03-20T19:49:49.303Z"
   },
   {
    "duration": 8,
    "start_time": "2022-03-20T19:49:49.347Z"
   },
   {
    "duration": 10,
    "start_time": "2022-03-20T19:49:49.356Z"
   },
   {
    "duration": 5,
    "start_time": "2022-03-20T19:49:49.367Z"
   },
   {
    "duration": 7,
    "start_time": "2022-03-20T19:49:49.373Z"
   },
   {
    "duration": 4,
    "start_time": "2022-03-20T19:49:49.382Z"
   },
   {
    "duration": 571,
    "start_time": "2022-03-20T19:49:49.388Z"
   },
   {
    "duration": 540,
    "start_time": "2022-03-20T19:49:56.903Z"
   },
   {
    "duration": 141,
    "start_time": "2022-03-20T19:50:56.885Z"
   },
   {
    "duration": 136,
    "start_time": "2022-03-20T19:51:13.812Z"
   },
   {
    "duration": 130,
    "start_time": "2022-03-20T19:52:40.695Z"
   },
   {
    "duration": 19,
    "start_time": "2022-03-20T19:52:53.966Z"
   },
   {
    "duration": 16,
    "start_time": "2022-03-20T20:13:28.948Z"
   },
   {
    "duration": 6,
    "start_time": "2022-03-20T20:35:01.542Z"
   },
   {
    "duration": 6,
    "start_time": "2022-03-20T20:35:27.384Z"
   },
   {
    "duration": 18,
    "start_time": "2022-03-20T21:08:25.716Z"
   },
   {
    "duration": 14,
    "start_time": "2022-03-20T21:09:06.773Z"
   },
   {
    "duration": 17,
    "start_time": "2022-03-20T21:09:31.602Z"
   },
   {
    "duration": 10,
    "start_time": "2022-03-20T21:10:30.401Z"
   },
   {
    "duration": 17,
    "start_time": "2022-03-20T21:10:33.316Z"
   },
   {
    "duration": 18,
    "start_time": "2022-03-20T21:11:04.245Z"
   },
   {
    "duration": 15,
    "start_time": "2022-03-20T21:11:42.167Z"
   },
   {
    "duration": 18,
    "start_time": "2022-03-20T21:12:52.351Z"
   },
   {
    "duration": 8,
    "start_time": "2022-03-20T21:14:39.921Z"
   },
   {
    "duration": 6,
    "start_time": "2022-03-20T21:14:54.113Z"
   },
   {
    "duration": 9,
    "start_time": "2022-03-20T21:19:46.073Z"
   },
   {
    "duration": 7,
    "start_time": "2022-03-20T21:20:14.029Z"
   },
   {
    "duration": 6,
    "start_time": "2022-03-20T21:22:07.586Z"
   },
   {
    "duration": 8,
    "start_time": "2022-03-20T21:22:12.690Z"
   },
   {
    "duration": 125,
    "start_time": "2022-03-20T21:23:09.140Z"
   },
   {
    "duration": 19,
    "start_time": "2022-03-20T21:24:01.415Z"
   },
   {
    "duration": 9,
    "start_time": "2022-03-20T21:24:35.771Z"
   },
   {
    "duration": 10,
    "start_time": "2022-03-20T21:25:01.134Z"
   },
   {
    "duration": 10,
    "start_time": "2022-03-20T21:25:42.434Z"
   },
   {
    "duration": 18,
    "start_time": "2022-03-20T21:28:43.631Z"
   },
   {
    "duration": 15,
    "start_time": "2022-03-20T21:28:50.677Z"
   },
   {
    "duration": 21,
    "start_time": "2022-03-20T21:30:20.291Z"
   },
   {
    "duration": 13,
    "start_time": "2022-03-20T21:30:50.437Z"
   },
   {
    "duration": 146,
    "start_time": "2022-03-20T21:33:21.997Z"
   },
   {
    "duration": 11,
    "start_time": "2022-03-20T21:37:32.827Z"
   },
   {
    "duration": 436,
    "start_time": "2022-03-20T21:38:05.895Z"
   },
   {
    "duration": 28,
    "start_time": "2022-03-20T21:38:06.333Z"
   },
   {
    "duration": 8,
    "start_time": "2022-03-20T21:38:06.362Z"
   },
   {
    "duration": 11,
    "start_time": "2022-03-20T21:38:06.372Z"
   },
   {
    "duration": 4,
    "start_time": "2022-03-20T21:38:06.385Z"
   },
   {
    "duration": 6,
    "start_time": "2022-03-20T21:38:06.391Z"
   },
   {
    "duration": 60,
    "start_time": "2022-03-20T21:38:06.398Z"
   },
   {
    "duration": 6,
    "start_time": "2022-03-20T21:38:06.460Z"
   },
   {
    "duration": 28,
    "start_time": "2022-03-20T21:38:06.468Z"
   },
   {
    "duration": 14,
    "start_time": "2022-03-20T21:38:06.499Z"
   },
   {
    "duration": 6,
    "start_time": "2022-03-20T21:38:06.515Z"
   },
   {
    "duration": 5,
    "start_time": "2022-03-20T21:38:06.522Z"
   },
   {
    "duration": 6,
    "start_time": "2022-03-20T21:38:06.537Z"
   },
   {
    "duration": 10,
    "start_time": "2022-03-20T21:38:06.544Z"
   },
   {
    "duration": 7,
    "start_time": "2022-03-20T21:38:06.556Z"
   },
   {
    "duration": 11,
    "start_time": "2022-03-20T21:38:06.564Z"
   },
   {
    "duration": 6,
    "start_time": "2022-03-20T21:38:06.577Z"
   },
   {
    "duration": 7,
    "start_time": "2022-03-20T21:38:06.585Z"
   },
   {
    "duration": 19,
    "start_time": "2022-03-20T21:38:06.594Z"
   },
   {
    "duration": 51,
    "start_time": "2022-03-20T21:38:06.615Z"
   },
   {
    "duration": 5,
    "start_time": "2022-03-20T21:38:06.668Z"
   },
   {
    "duration": 6,
    "start_time": "2022-03-20T21:38:06.674Z"
   },
   {
    "duration": 9,
    "start_time": "2022-03-20T21:38:06.681Z"
   },
   {
    "duration": 18,
    "start_time": "2022-03-20T21:38:06.692Z"
   },
   {
    "duration": 21,
    "start_time": "2022-03-20T21:38:06.737Z"
   },
   {
    "duration": 18,
    "start_time": "2022-03-20T21:38:06.760Z"
   },
   {
    "duration": 7,
    "start_time": "2022-03-20T21:38:06.780Z"
   },
   {
    "duration": 12,
    "start_time": "2022-03-20T21:38:06.791Z"
   },
   {
    "duration": 37,
    "start_time": "2022-03-20T21:38:06.804Z"
   },
   {
    "duration": 7,
    "start_time": "2022-03-20T21:38:06.843Z"
   },
   {
    "duration": 8,
    "start_time": "2022-03-20T21:38:06.852Z"
   },
   {
    "duration": 15,
    "start_time": "2022-03-20T21:38:06.862Z"
   },
   {
    "duration": 10,
    "start_time": "2022-03-20T21:38:06.878Z"
   },
   {
    "duration": 6,
    "start_time": "2022-03-20T21:38:06.890Z"
   },
   {
    "duration": 8,
    "start_time": "2022-03-20T21:38:06.898Z"
   },
   {
    "duration": 11,
    "start_time": "2022-03-20T21:38:06.907Z"
   },
   {
    "duration": 7,
    "start_time": "2022-03-20T21:38:06.938Z"
   },
   {
    "duration": 13,
    "start_time": "2022-03-20T21:38:06.947Z"
   },
   {
    "duration": 7,
    "start_time": "2022-03-20T21:38:06.962Z"
   },
   {
    "duration": 9,
    "start_time": "2022-03-20T21:38:06.970Z"
   },
   {
    "duration": 10,
    "start_time": "2022-03-20T21:38:06.981Z"
   },
   {
    "duration": 9,
    "start_time": "2022-03-20T21:38:06.993Z"
   },
   {
    "duration": 9,
    "start_time": "2022-03-20T21:38:07.004Z"
   },
   {
    "duration": 24,
    "start_time": "2022-03-20T21:38:07.015Z"
   },
   {
    "duration": 11,
    "start_time": "2022-03-20T21:38:07.040Z"
   },
   {
    "duration": 15,
    "start_time": "2022-03-20T21:38:07.052Z"
   },
   {
    "duration": 9,
    "start_time": "2022-03-20T21:38:07.069Z"
   },
   {
    "duration": 14,
    "start_time": "2022-03-20T21:38:07.080Z"
   },
   {
    "duration": 5,
    "start_time": "2022-03-20T21:38:07.096Z"
   },
   {
    "duration": 148,
    "start_time": "2022-03-20T21:38:07.103Z"
   },
   {
    "duration": 18,
    "start_time": "2022-03-20T21:38:07.253Z"
   },
   {
    "duration": 15,
    "start_time": "2022-03-20T21:38:07.273Z"
   },
   {
    "duration": 13,
    "start_time": "2022-03-20T21:38:07.289Z"
   },
   {
    "duration": 34,
    "start_time": "2022-03-20T21:38:07.304Z"
   },
   {
    "duration": 18,
    "start_time": "2022-03-20T21:38:07.340Z"
   },
   {
    "duration": 7,
    "start_time": "2022-03-20T21:38:07.360Z"
   },
   {
    "duration": 608,
    "start_time": "2022-03-21T11:34:00.072Z"
   },
   {
    "duration": 69,
    "start_time": "2022-03-21T11:34:00.684Z"
   },
   {
    "duration": 12,
    "start_time": "2022-03-21T11:34:00.769Z"
   },
   {
    "duration": 10,
    "start_time": "2022-03-21T11:34:00.784Z"
   },
   {
    "duration": 9,
    "start_time": "2022-03-21T11:34:00.796Z"
   },
   {
    "duration": 62,
    "start_time": "2022-03-21T11:34:00.807Z"
   },
   {
    "duration": 55,
    "start_time": "2022-03-21T11:34:00.871Z"
   },
   {
    "duration": 44,
    "start_time": "2022-03-21T11:34:00.929Z"
   },
   {
    "duration": 15,
    "start_time": "2022-03-21T11:34:00.975Z"
   },
   {
    "duration": 26,
    "start_time": "2022-03-21T11:34:00.993Z"
   },
   {
    "duration": 50,
    "start_time": "2022-03-21T11:34:01.021Z"
   },
   {
    "duration": 8,
    "start_time": "2022-03-21T11:34:01.073Z"
   },
   {
    "duration": 20,
    "start_time": "2022-03-21T11:34:01.084Z"
   },
   {
    "duration": 29,
    "start_time": "2022-03-21T11:34:01.106Z"
   },
   {
    "duration": 31,
    "start_time": "2022-03-21T11:34:01.137Z"
   },
   {
    "duration": 28,
    "start_time": "2022-03-21T11:34:01.170Z"
   },
   {
    "duration": 24,
    "start_time": "2022-03-21T11:34:01.200Z"
   },
   {
    "duration": 26,
    "start_time": "2022-03-21T11:34:01.227Z"
   },
   {
    "duration": 35,
    "start_time": "2022-03-21T11:34:01.256Z"
   },
   {
    "duration": 52,
    "start_time": "2022-03-21T11:34:01.294Z"
   },
   {
    "duration": 21,
    "start_time": "2022-03-21T11:34:01.348Z"
   },
   {
    "duration": 16,
    "start_time": "2022-03-21T11:34:01.371Z"
   },
   {
    "duration": 36,
    "start_time": "2022-03-21T11:34:01.389Z"
   },
   {
    "duration": 44,
    "start_time": "2022-03-21T11:34:01.428Z"
   },
   {
    "duration": 38,
    "start_time": "2022-03-21T11:34:01.475Z"
   },
   {
    "duration": 26,
    "start_time": "2022-03-21T11:34:01.515Z"
   },
   {
    "duration": 11,
    "start_time": "2022-03-21T11:34:01.569Z"
   },
   {
    "duration": 24,
    "start_time": "2022-03-21T11:34:01.589Z"
   },
   {
    "duration": 53,
    "start_time": "2022-03-21T11:34:01.616Z"
   },
   {
    "duration": 16,
    "start_time": "2022-03-21T11:34:01.672Z"
   },
   {
    "duration": 16,
    "start_time": "2022-03-21T11:34:01.691Z"
   },
   {
    "duration": 64,
    "start_time": "2022-03-21T11:34:01.710Z"
   },
   {
    "duration": 19,
    "start_time": "2022-03-21T11:34:01.776Z"
   },
   {
    "duration": 18,
    "start_time": "2022-03-21T11:34:01.798Z"
   },
   {
    "duration": 10,
    "start_time": "2022-03-21T11:34:01.818Z"
   },
   {
    "duration": 41,
    "start_time": "2022-03-21T11:34:01.830Z"
   },
   {
    "duration": 22,
    "start_time": "2022-03-21T11:34:01.873Z"
   },
   {
    "duration": 23,
    "start_time": "2022-03-21T11:34:01.897Z"
   },
   {
    "duration": 21,
    "start_time": "2022-03-21T11:34:01.923Z"
   },
   {
    "duration": 37,
    "start_time": "2022-03-21T11:34:01.946Z"
   },
   {
    "duration": 29,
    "start_time": "2022-03-21T11:34:01.985Z"
   },
   {
    "duration": 24,
    "start_time": "2022-03-21T11:34:02.017Z"
   },
   {
    "duration": 51,
    "start_time": "2022-03-21T11:34:02.045Z"
   },
   {
    "duration": 15,
    "start_time": "2022-03-21T11:34:02.098Z"
   },
   {
    "duration": 30,
    "start_time": "2022-03-21T11:34:02.115Z"
   },
   {
    "duration": 30,
    "start_time": "2022-03-21T11:34:02.147Z"
   },
   {
    "duration": 22,
    "start_time": "2022-03-21T11:34:02.180Z"
   },
   {
    "duration": 19,
    "start_time": "2022-03-21T11:34:02.204Z"
   },
   {
    "duration": 9,
    "start_time": "2022-03-21T11:34:02.226Z"
   },
   {
    "duration": 281,
    "start_time": "2022-03-21T11:34:02.237Z"
   },
   {
    "duration": 48,
    "start_time": "2022-03-21T11:34:02.521Z"
   },
   {
    "duration": 22,
    "start_time": "2022-03-21T11:34:02.572Z"
   },
   {
    "duration": 15,
    "start_time": "2022-03-21T11:34:02.597Z"
   },
   {
    "duration": 55,
    "start_time": "2022-03-21T11:34:02.614Z"
   },
   {
    "duration": 623,
    "start_time": "2022-03-21T11:35:26.430Z"
   },
   {
    "duration": 44,
    "start_time": "2022-03-21T11:35:27.055Z"
   },
   {
    "duration": 9,
    "start_time": "2022-03-21T11:35:27.101Z"
   },
   {
    "duration": 7,
    "start_time": "2022-03-21T11:35:27.113Z"
   },
   {
    "duration": 47,
    "start_time": "2022-03-21T11:35:27.122Z"
   },
   {
    "duration": 6,
    "start_time": "2022-03-21T11:35:27.171Z"
   },
   {
    "duration": 90,
    "start_time": "2022-03-21T11:35:27.179Z"
   },
   {
    "duration": 12,
    "start_time": "2022-03-21T11:35:27.272Z"
   },
   {
    "duration": 11,
    "start_time": "2022-03-21T11:35:27.287Z"
   },
   {
    "duration": 68,
    "start_time": "2022-03-21T11:35:27.304Z"
   },
   {
    "duration": 10,
    "start_time": "2022-03-21T11:35:27.375Z"
   },
   {
    "duration": 18,
    "start_time": "2022-03-21T11:35:27.387Z"
   },
   {
    "duration": 14,
    "start_time": "2022-03-21T11:35:27.407Z"
   },
   {
    "duration": 47,
    "start_time": "2022-03-21T11:35:27.423Z"
   },
   {
    "duration": 6,
    "start_time": "2022-03-21T11:35:27.473Z"
   },
   {
    "duration": 18,
    "start_time": "2022-03-21T11:35:27.481Z"
   },
   {
    "duration": 17,
    "start_time": "2022-03-21T11:35:27.502Z"
   },
   {
    "duration": 46,
    "start_time": "2022-03-21T11:35:27.523Z"
   },
   {
    "duration": 23,
    "start_time": "2022-03-21T11:35:27.572Z"
   },
   {
    "duration": 78,
    "start_time": "2022-03-21T11:35:27.598Z"
   },
   {
    "duration": 9,
    "start_time": "2022-03-21T11:35:27.679Z"
   },
   {
    "duration": 17,
    "start_time": "2022-03-21T11:35:27.690Z"
   },
   {
    "duration": 21,
    "start_time": "2022-03-21T11:35:27.709Z"
   },
   {
    "duration": 57,
    "start_time": "2022-03-21T11:35:27.732Z"
   },
   {
    "duration": 37,
    "start_time": "2022-03-21T11:35:27.792Z"
   },
   {
    "duration": 58,
    "start_time": "2022-03-21T11:35:27.832Z"
   },
   {
    "duration": 12,
    "start_time": "2022-03-21T11:35:27.894Z"
   },
   {
    "duration": 54,
    "start_time": "2022-03-21T11:35:27.916Z"
   },
   {
    "duration": 15,
    "start_time": "2022-03-21T11:35:27.973Z"
   },
   {
    "duration": 24,
    "start_time": "2022-03-21T11:35:27.991Z"
   },
   {
    "duration": 17,
    "start_time": "2022-03-21T11:35:28.017Z"
   },
   {
    "duration": 40,
    "start_time": "2022-03-21T11:35:28.036Z"
   },
   {
    "duration": 22,
    "start_time": "2022-03-21T11:35:28.078Z"
   },
   {
    "duration": 18,
    "start_time": "2022-03-21T11:35:28.102Z"
   },
   {
    "duration": 15,
    "start_time": "2022-03-21T11:35:28.121Z"
   },
   {
    "duration": 31,
    "start_time": "2022-03-21T11:35:28.139Z"
   },
   {
    "duration": 14,
    "start_time": "2022-03-21T11:35:28.172Z"
   },
   {
    "duration": 24,
    "start_time": "2022-03-21T11:35:28.188Z"
   },
   {
    "duration": 13,
    "start_time": "2022-03-21T11:35:28.215Z"
   },
   {
    "duration": 7,
    "start_time": "2022-03-21T11:35:28.268Z"
   },
   {
    "duration": 22,
    "start_time": "2022-03-21T11:35:28.277Z"
   },
   {
    "duration": 16,
    "start_time": "2022-03-21T11:35:28.301Z"
   },
   {
    "duration": 13,
    "start_time": "2022-03-21T11:35:28.319Z"
   },
   {
    "duration": 36,
    "start_time": "2022-03-21T11:35:28.334Z"
   },
   {
    "duration": 29,
    "start_time": "2022-03-21T11:35:28.372Z"
   },
   {
    "duration": 27,
    "start_time": "2022-03-21T11:35:28.403Z"
   },
   {
    "duration": 24,
    "start_time": "2022-03-21T11:35:28.432Z"
   },
   {
    "duration": 16,
    "start_time": "2022-03-21T11:35:28.458Z"
   },
   {
    "duration": 6,
    "start_time": "2022-03-21T11:35:28.477Z"
   },
   {
    "duration": 284,
    "start_time": "2022-03-21T11:35:28.486Z"
   },
   {
    "duration": 37,
    "start_time": "2022-03-21T11:35:28.772Z"
   },
   {
    "duration": 21,
    "start_time": "2022-03-21T11:35:28.812Z"
   },
   {
    "duration": 44,
    "start_time": "2022-03-21T11:35:28.835Z"
   },
   {
    "duration": 14,
    "start_time": "2022-03-21T11:35:28.881Z"
   },
   {
    "duration": 16,
    "start_time": "2022-03-21T11:45:24.819Z"
   },
   {
    "duration": 20,
    "start_time": "2022-03-21T11:45:34.018Z"
   },
   {
    "duration": 94,
    "start_time": "2022-03-21T11:45:47.244Z"
   },
   {
    "duration": 10,
    "start_time": "2022-03-21T11:55:21.582Z"
   },
   {
    "duration": 21,
    "start_time": "2022-03-21T11:55:35.683Z"
   },
   {
    "duration": 109,
    "start_time": "2022-03-21T11:57:09.930Z"
   },
   {
    "duration": 15,
    "start_time": "2022-03-21T11:57:32.397Z"
   },
   {
    "duration": 20,
    "start_time": "2022-03-21T11:57:56.191Z"
   },
   {
    "duration": 101,
    "start_time": "2022-03-21T11:58:28.911Z"
   },
   {
    "duration": 36,
    "start_time": "2022-03-21T11:59:00.915Z"
   },
   {
    "duration": 42,
    "start_time": "2022-03-21T12:00:33.611Z"
   },
   {
    "duration": 103,
    "start_time": "2022-03-21T12:04:41.548Z"
   },
   {
    "duration": 10,
    "start_time": "2022-03-21T12:11:45.552Z"
   },
   {
    "duration": 16,
    "start_time": "2022-03-21T12:12:26.069Z"
   },
   {
    "duration": 9,
    "start_time": "2022-03-21T12:15:34.277Z"
   },
   {
    "duration": 14,
    "start_time": "2022-03-21T12:16:15.087Z"
   },
   {
    "duration": 11,
    "start_time": "2022-03-21T12:16:23.520Z"
   },
   {
    "duration": 15,
    "start_time": "2022-03-21T12:16:44.724Z"
   },
   {
    "duration": 672,
    "start_time": "2022-03-21T12:31:45.353Z"
   },
   {
    "duration": 73,
    "start_time": "2022-03-21T12:31:46.028Z"
   },
   {
    "duration": 10,
    "start_time": "2022-03-21T12:31:46.104Z"
   },
   {
    "duration": 7,
    "start_time": "2022-03-21T12:31:46.118Z"
   },
   {
    "duration": 44,
    "start_time": "2022-03-21T12:31:46.127Z"
   },
   {
    "duration": 8,
    "start_time": "2022-03-21T12:31:46.173Z"
   },
   {
    "duration": 102,
    "start_time": "2022-03-21T12:31:46.184Z"
   },
   {
    "duration": 8,
    "start_time": "2022-03-21T12:31:46.290Z"
   },
   {
    "duration": 12,
    "start_time": "2022-03-21T12:31:46.300Z"
   },
   {
    "duration": 76,
    "start_time": "2022-03-21T12:31:46.316Z"
   },
   {
    "duration": 12,
    "start_time": "2022-03-21T12:31:46.395Z"
   },
   {
    "duration": 8,
    "start_time": "2022-03-21T12:31:46.410Z"
   },
   {
    "duration": 50,
    "start_time": "2022-03-21T12:31:46.421Z"
   },
   {
    "duration": 28,
    "start_time": "2022-03-21T12:31:46.474Z"
   },
   {
    "duration": 8,
    "start_time": "2022-03-21T12:31:46.505Z"
   },
   {
    "duration": 54,
    "start_time": "2022-03-21T12:31:46.516Z"
   },
   {
    "duration": 11,
    "start_time": "2022-03-21T12:31:46.573Z"
   },
   {
    "duration": 16,
    "start_time": "2022-03-21T12:31:46.589Z"
   },
   {
    "duration": 16,
    "start_time": "2022-03-21T12:31:46.608Z"
   },
   {
    "duration": 88,
    "start_time": "2022-03-21T12:31:46.626Z"
   },
   {
    "duration": 9,
    "start_time": "2022-03-21T12:31:46.717Z"
   },
   {
    "duration": 39,
    "start_time": "2022-03-21T12:31:46.729Z"
   },
   {
    "duration": 24,
    "start_time": "2022-03-21T12:31:46.771Z"
   },
   {
    "duration": 28,
    "start_time": "2022-03-21T12:31:46.798Z"
   },
   {
    "duration": 68,
    "start_time": "2022-03-21T12:31:46.828Z"
   },
   {
    "duration": 27,
    "start_time": "2022-03-21T12:31:46.899Z"
   },
   {
    "duration": 9,
    "start_time": "2022-03-21T12:31:46.928Z"
   },
   {
    "duration": 25,
    "start_time": "2022-03-21T12:31:46.968Z"
   },
   {
    "duration": 15,
    "start_time": "2022-03-21T12:31:46.995Z"
   },
   {
    "duration": 9,
    "start_time": "2022-03-21T12:31:47.012Z"
   },
   {
    "duration": 53,
    "start_time": "2022-03-21T12:31:47.024Z"
   },
   {
    "duration": 23,
    "start_time": "2022-03-21T12:31:47.080Z"
   },
   {
    "duration": 15,
    "start_time": "2022-03-21T12:31:47.107Z"
   },
   {
    "duration": 11,
    "start_time": "2022-03-21T12:31:47.124Z"
   },
   {
    "duration": 31,
    "start_time": "2022-03-21T12:31:47.137Z"
   },
   {
    "duration": 8,
    "start_time": "2022-03-21T12:31:47.171Z"
   },
   {
    "duration": 25,
    "start_time": "2022-03-21T12:31:47.182Z"
   },
   {
    "duration": 19,
    "start_time": "2022-03-21T12:31:47.210Z"
   },
   {
    "duration": 49,
    "start_time": "2022-03-21T12:31:47.231Z"
   },
   {
    "duration": 14,
    "start_time": "2022-03-21T12:31:47.282Z"
   },
   {
    "duration": 10,
    "start_time": "2022-03-21T12:31:47.298Z"
   },
   {
    "duration": 5,
    "start_time": "2022-03-21T12:31:47.310Z"
   },
   {
    "duration": 52,
    "start_time": "2022-03-21T12:31:47.318Z"
   },
   {
    "duration": 19,
    "start_time": "2022-03-21T12:31:47.373Z"
   },
   {
    "duration": 6,
    "start_time": "2022-03-21T12:31:47.395Z"
   },
   {
    "duration": 19,
    "start_time": "2022-03-21T12:31:47.404Z"
   },
   {
    "duration": 57,
    "start_time": "2022-03-21T12:31:47.425Z"
   },
   {
    "duration": 17,
    "start_time": "2022-03-21T12:31:47.485Z"
   },
   {
    "duration": 14,
    "start_time": "2022-03-21T12:31:47.504Z"
   },
   {
    "duration": 6,
    "start_time": "2022-03-21T12:31:47.521Z"
   },
   {
    "duration": 254,
    "start_time": "2022-03-21T12:31:47.569Z"
   },
   {
    "duration": 42,
    "start_time": "2022-03-21T12:31:47.826Z"
   },
   {
    "duration": 28,
    "start_time": "2022-03-21T12:31:47.871Z"
   },
   {
    "duration": 68,
    "start_time": "2022-03-21T12:31:47.902Z"
   },
   {
    "duration": 12,
    "start_time": "2022-03-21T12:31:47.973Z"
   },
   {
    "duration": 21,
    "start_time": "2022-03-21T12:31:47.988Z"
   },
   {
    "duration": 14,
    "start_time": "2022-03-21T12:31:48.012Z"
   },
   {
    "duration": 107,
    "start_time": "2022-03-21T12:31:59.305Z"
   },
   {
    "duration": 14,
    "start_time": "2022-03-21T12:43:04.024Z"
   },
   {
    "duration": 855,
    "start_time": "2022-03-21T12:43:20.534Z"
   },
   {
    "duration": 84,
    "start_time": "2022-03-21T12:43:21.393Z"
   },
   {
    "duration": 17,
    "start_time": "2022-03-21T12:43:21.480Z"
   },
   {
    "duration": 10,
    "start_time": "2022-03-21T12:43:21.502Z"
   },
   {
    "duration": 8,
    "start_time": "2022-03-21T12:43:21.514Z"
   },
   {
    "duration": 7,
    "start_time": "2022-03-21T12:43:21.568Z"
   },
   {
    "duration": 65,
    "start_time": "2022-03-21T12:43:21.577Z"
   },
   {
    "duration": 29,
    "start_time": "2022-03-21T12:43:21.645Z"
   },
   {
    "duration": 25,
    "start_time": "2022-03-21T12:43:21.676Z"
   },
   {
    "duration": 37,
    "start_time": "2022-03-21T12:43:21.705Z"
   },
   {
    "duration": 23,
    "start_time": "2022-03-21T12:43:21.745Z"
   },
   {
    "duration": 16,
    "start_time": "2022-03-21T12:43:21.771Z"
   },
   {
    "duration": 29,
    "start_time": "2022-03-21T12:43:21.790Z"
   },
   {
    "duration": 17,
    "start_time": "2022-03-21T12:43:21.821Z"
   },
   {
    "duration": 22,
    "start_time": "2022-03-21T12:43:21.840Z"
   },
   {
    "duration": 29,
    "start_time": "2022-03-21T12:43:21.865Z"
   },
   {
    "duration": 8,
    "start_time": "2022-03-21T12:43:21.896Z"
   },
   {
    "duration": 24,
    "start_time": "2022-03-21T12:43:21.906Z"
   },
   {
    "duration": 23,
    "start_time": "2022-03-21T12:43:21.932Z"
   },
   {
    "duration": 51,
    "start_time": "2022-03-21T12:43:21.958Z"
   },
   {
    "duration": 7,
    "start_time": "2022-03-21T12:43:22.012Z"
   },
   {
    "duration": 21,
    "start_time": "2022-03-21T12:43:22.021Z"
   },
   {
    "duration": 8,
    "start_time": "2022-03-21T12:43:22.067Z"
   },
   {
    "duration": 40,
    "start_time": "2022-03-21T12:43:22.077Z"
   },
   {
    "duration": 53,
    "start_time": "2022-03-21T12:43:22.119Z"
   },
   {
    "duration": 24,
    "start_time": "2022-03-21T12:43:22.174Z"
   },
   {
    "duration": 10,
    "start_time": "2022-03-21T12:43:22.200Z"
   },
   {
    "duration": 51,
    "start_time": "2022-03-21T12:43:22.216Z"
   },
   {
    "duration": 12,
    "start_time": "2022-03-21T12:43:22.270Z"
   },
   {
    "duration": 26,
    "start_time": "2022-03-21T12:43:22.284Z"
   },
   {
    "duration": 30,
    "start_time": "2022-03-21T12:43:22.313Z"
   },
   {
    "duration": 30,
    "start_time": "2022-03-21T12:43:22.346Z"
   },
   {
    "duration": 28,
    "start_time": "2022-03-21T12:43:22.378Z"
   },
   {
    "duration": 12,
    "start_time": "2022-03-21T12:43:22.408Z"
   },
   {
    "duration": 16,
    "start_time": "2022-03-21T12:43:22.423Z"
   },
   {
    "duration": 32,
    "start_time": "2022-03-21T12:43:22.441Z"
   },
   {
    "duration": 15,
    "start_time": "2022-03-21T12:43:22.476Z"
   },
   {
    "duration": 20,
    "start_time": "2022-03-21T12:43:22.494Z"
   },
   {
    "duration": 56,
    "start_time": "2022-03-21T12:43:22.518Z"
   },
   {
    "duration": 8,
    "start_time": "2022-03-21T12:43:22.577Z"
   },
   {
    "duration": 12,
    "start_time": "2022-03-21T12:43:22.589Z"
   },
   {
    "duration": 7,
    "start_time": "2022-03-21T12:43:22.604Z"
   },
   {
    "duration": 54,
    "start_time": "2022-03-21T12:43:22.614Z"
   },
   {
    "duration": 6,
    "start_time": "2022-03-21T12:43:22.670Z"
   },
   {
    "duration": 8,
    "start_time": "2022-03-21T12:43:22.679Z"
   },
   {
    "duration": 18,
    "start_time": "2022-03-21T12:43:22.691Z"
   },
   {
    "duration": 67,
    "start_time": "2022-03-21T12:43:22.712Z"
   },
   {
    "duration": 15,
    "start_time": "2022-03-21T12:43:22.782Z"
   },
   {
    "duration": 15,
    "start_time": "2022-03-21T12:43:22.800Z"
   },
   {
    "duration": 6,
    "start_time": "2022-03-21T12:43:22.817Z"
   },
   {
    "duration": 248,
    "start_time": "2022-03-21T12:43:22.867Z"
   },
   {
    "duration": 50,
    "start_time": "2022-03-21T12:43:23.117Z"
   },
   {
    "duration": 22,
    "start_time": "2022-03-21T12:43:23.170Z"
   },
   {
    "duration": 33,
    "start_time": "2022-03-21T12:43:23.194Z"
   },
   {
    "duration": 43,
    "start_time": "2022-03-21T12:43:23.230Z"
   },
   {
    "duration": 24,
    "start_time": "2022-03-21T12:43:23.275Z"
   },
   {
    "duration": 16,
    "start_time": "2022-03-21T12:43:23.301Z"
   },
   {
    "duration": 9,
    "start_time": "2022-03-21T12:44:35.598Z"
   },
   {
    "duration": 12,
    "start_time": "2022-03-21T12:44:47.172Z"
   },
   {
    "duration": 13,
    "start_time": "2022-03-21T12:46:36.941Z"
   },
   {
    "duration": 805,
    "start_time": "2022-03-21T12:46:44.508Z"
   },
   {
    "duration": 67,
    "start_time": "2022-03-21T12:46:45.317Z"
   },
   {
    "duration": 9,
    "start_time": "2022-03-21T12:46:45.386Z"
   },
   {
    "duration": 7,
    "start_time": "2022-03-21T12:46:45.399Z"
   },
   {
    "duration": 16,
    "start_time": "2022-03-21T12:46:45.408Z"
   },
   {
    "duration": 47,
    "start_time": "2022-03-21T12:46:45.426Z"
   },
   {
    "duration": 72,
    "start_time": "2022-03-21T12:46:45.477Z"
   },
   {
    "duration": 12,
    "start_time": "2022-03-21T12:46:45.568Z"
   },
   {
    "duration": 10,
    "start_time": "2022-03-21T12:46:45.583Z"
   },
   {
    "duration": 22,
    "start_time": "2022-03-21T12:46:45.596Z"
   },
   {
    "duration": 10,
    "start_time": "2022-03-21T12:46:45.667Z"
   },
   {
    "duration": 5,
    "start_time": "2022-03-21T12:46:45.680Z"
   },
   {
    "duration": 8,
    "start_time": "2022-03-21T12:46:45.688Z"
   },
   {
    "duration": 8,
    "start_time": "2022-03-21T12:46:45.698Z"
   },
   {
    "duration": 61,
    "start_time": "2022-03-21T12:46:45.709Z"
   },
   {
    "duration": 18,
    "start_time": "2022-03-21T12:46:45.772Z"
   },
   {
    "duration": 7,
    "start_time": "2022-03-21T12:46:45.792Z"
   },
   {
    "duration": 14,
    "start_time": "2022-03-21T12:46:45.801Z"
   },
   {
    "duration": 62,
    "start_time": "2022-03-21T12:46:45.817Z"
   },
   {
    "duration": 88,
    "start_time": "2022-03-21T12:46:45.881Z"
   },
   {
    "duration": 8,
    "start_time": "2022-03-21T12:46:45.971Z"
   },
   {
    "duration": 7,
    "start_time": "2022-03-21T12:46:45.982Z"
   },
   {
    "duration": 8,
    "start_time": "2022-03-21T12:46:45.991Z"
   },
   {
    "duration": 82,
    "start_time": "2022-03-21T12:46:46.002Z"
   },
   {
    "duration": 38,
    "start_time": "2022-03-21T12:46:46.087Z"
   },
   {
    "duration": 64,
    "start_time": "2022-03-21T12:46:46.128Z"
   },
   {
    "duration": 14,
    "start_time": "2022-03-21T12:46:46.195Z"
   },
   {
    "duration": 17,
    "start_time": "2022-03-21T12:46:46.214Z"
   },
   {
    "duration": 11,
    "start_time": "2022-03-21T12:46:46.267Z"
   },
   {
    "duration": 11,
    "start_time": "2022-03-21T12:46:46.280Z"
   },
   {
    "duration": 9,
    "start_time": "2022-03-21T12:46:46.293Z"
   },
   {
    "duration": 16,
    "start_time": "2022-03-21T12:46:46.304Z"
   },
   {
    "duration": 73,
    "start_time": "2022-03-21T12:46:46.323Z"
   },
   {
    "duration": 9,
    "start_time": "2022-03-21T12:46:46.399Z"
   },
   {
    "duration": 23,
    "start_time": "2022-03-21T12:46:46.410Z"
   },
   {
    "duration": 35,
    "start_time": "2022-03-21T12:46:46.435Z"
   },
   {
    "duration": 13,
    "start_time": "2022-03-21T12:46:46.473Z"
   },
   {
    "duration": 17,
    "start_time": "2022-03-21T12:46:46.489Z"
   },
   {
    "duration": 67,
    "start_time": "2022-03-21T12:46:46.508Z"
   },
   {
    "duration": 9,
    "start_time": "2022-03-21T12:46:46.579Z"
   },
   {
    "duration": 9,
    "start_time": "2022-03-21T12:46:46.591Z"
   },
   {
    "duration": 10,
    "start_time": "2022-03-21T12:46:46.602Z"
   },
   {
    "duration": 55,
    "start_time": "2022-03-21T12:46:46.615Z"
   },
   {
    "duration": 6,
    "start_time": "2022-03-21T12:46:46.672Z"
   },
   {
    "duration": 6,
    "start_time": "2022-03-21T12:46:46.681Z"
   },
   {
    "duration": 17,
    "start_time": "2022-03-21T12:46:46.689Z"
   },
   {
    "duration": 61,
    "start_time": "2022-03-21T12:46:46.708Z"
   },
   {
    "duration": 10,
    "start_time": "2022-03-21T12:46:46.771Z"
   },
   {
    "duration": 13,
    "start_time": "2022-03-21T12:46:46.783Z"
   },
   {
    "duration": 7,
    "start_time": "2022-03-21T12:46:46.799Z"
   },
   {
    "duration": 278,
    "start_time": "2022-03-21T12:46:46.809Z"
   },
   {
    "duration": 34,
    "start_time": "2022-03-21T12:46:47.089Z"
   },
   {
    "duration": 51,
    "start_time": "2022-03-21T12:46:47.127Z"
   },
   {
    "duration": 30,
    "start_time": "2022-03-21T12:46:47.181Z"
   },
   {
    "duration": 10,
    "start_time": "2022-03-21T12:46:47.213Z"
   },
   {
    "duration": 45,
    "start_time": "2022-03-21T12:46:47.225Z"
   },
   {
    "duration": 19,
    "start_time": "2022-03-21T12:46:47.273Z"
   },
   {
    "duration": 11,
    "start_time": "2022-03-21T12:47:38.321Z"
   },
   {
    "duration": 605,
    "start_time": "2022-03-21T12:47:59.869Z"
   },
   {
    "duration": 44,
    "start_time": "2022-03-21T12:48:00.477Z"
   },
   {
    "duration": 44,
    "start_time": "2022-03-21T12:48:00.523Z"
   },
   {
    "duration": 7,
    "start_time": "2022-03-21T12:48:00.571Z"
   },
   {
    "duration": 16,
    "start_time": "2022-03-21T12:48:00.581Z"
   },
   {
    "duration": 10,
    "start_time": "2022-03-21T12:48:00.600Z"
   },
   {
    "duration": 97,
    "start_time": "2022-03-21T12:48:00.612Z"
   },
   {
    "duration": 9,
    "start_time": "2022-03-21T12:48:00.711Z"
   },
   {
    "duration": 48,
    "start_time": "2022-03-21T12:48:00.722Z"
   },
   {
    "duration": 21,
    "start_time": "2022-03-21T12:48:00.774Z"
   },
   {
    "duration": 9,
    "start_time": "2022-03-21T12:48:00.797Z"
   },
   {
    "duration": 10,
    "start_time": "2022-03-21T12:48:00.808Z"
   },
   {
    "duration": 53,
    "start_time": "2022-03-21T12:48:00.821Z"
   },
   {
    "duration": 19,
    "start_time": "2022-03-21T12:48:00.876Z"
   },
   {
    "duration": 16,
    "start_time": "2022-03-21T12:48:00.898Z"
   },
   {
    "duration": 51,
    "start_time": "2022-03-21T12:48:00.917Z"
   },
   {
    "duration": 11,
    "start_time": "2022-03-21T12:48:00.971Z"
   },
   {
    "duration": 18,
    "start_time": "2022-03-21T12:48:00.985Z"
   },
   {
    "duration": 17,
    "start_time": "2022-03-21T12:48:01.006Z"
   },
   {
    "duration": 87,
    "start_time": "2022-03-21T12:48:01.025Z"
   },
   {
    "duration": 9,
    "start_time": "2022-03-21T12:48:01.115Z"
   },
   {
    "duration": 31,
    "start_time": "2022-03-21T12:48:01.127Z"
   },
   {
    "duration": 14,
    "start_time": "2022-03-21T12:48:01.161Z"
   },
   {
    "duration": 57,
    "start_time": "2022-03-21T12:48:01.178Z"
   },
   {
    "duration": 51,
    "start_time": "2022-03-21T12:48:01.237Z"
   },
   {
    "duration": 36,
    "start_time": "2022-03-21T12:48:01.291Z"
   },
   {
    "duration": 14,
    "start_time": "2022-03-21T12:48:01.330Z"
   },
   {
    "duration": 20,
    "start_time": "2022-03-21T12:48:01.373Z"
   },
   {
    "duration": 31,
    "start_time": "2022-03-21T12:48:01.396Z"
   },
   {
    "duration": 40,
    "start_time": "2022-03-21T12:48:01.430Z"
   },
   {
    "duration": 15,
    "start_time": "2022-03-21T12:48:01.473Z"
   },
   {
    "duration": 21,
    "start_time": "2022-03-21T12:48:01.491Z"
   },
   {
    "duration": 31,
    "start_time": "2022-03-21T12:48:01.516Z"
   },
   {
    "duration": 25,
    "start_time": "2022-03-21T12:48:01.550Z"
   },
   {
    "duration": 34,
    "start_time": "2022-03-21T12:48:01.578Z"
   },
   {
    "duration": 16,
    "start_time": "2022-03-21T12:48:01.614Z"
   },
   {
    "duration": 31,
    "start_time": "2022-03-21T12:48:01.632Z"
   },
   {
    "duration": 33,
    "start_time": "2022-03-21T12:48:01.665Z"
   },
   {
    "duration": 41,
    "start_time": "2022-03-21T12:48:01.701Z"
   },
   {
    "duration": 10,
    "start_time": "2022-03-21T12:48:01.745Z"
   },
   {
    "duration": 11,
    "start_time": "2022-03-21T12:48:01.758Z"
   },
   {
    "duration": 12,
    "start_time": "2022-03-21T12:48:01.772Z"
   },
   {
    "duration": 14,
    "start_time": "2022-03-21T12:48:01.787Z"
   },
   {
    "duration": 17,
    "start_time": "2022-03-21T12:48:01.803Z"
   },
   {
    "duration": 17,
    "start_time": "2022-03-21T12:48:01.823Z"
   },
   {
    "duration": 33,
    "start_time": "2022-03-21T12:48:01.843Z"
   },
   {
    "duration": 17,
    "start_time": "2022-03-21T12:48:01.879Z"
   },
   {
    "duration": 17,
    "start_time": "2022-03-21T12:48:01.899Z"
   },
   {
    "duration": 53,
    "start_time": "2022-03-21T12:48:01.918Z"
   },
   {
    "duration": 6,
    "start_time": "2022-03-21T12:48:01.975Z"
   },
   {
    "duration": 266,
    "start_time": "2022-03-21T12:48:01.984Z"
   },
   {
    "duration": 36,
    "start_time": "2022-03-21T12:48:02.252Z"
   },
   {
    "duration": 32,
    "start_time": "2022-03-21T12:48:02.290Z"
   },
   {
    "duration": 57,
    "start_time": "2022-03-21T12:48:02.324Z"
   },
   {
    "duration": 10,
    "start_time": "2022-03-21T12:48:02.384Z"
   },
   {
    "duration": 19,
    "start_time": "2022-03-21T12:48:02.397Z"
   },
   {
    "duration": 63,
    "start_time": "2022-03-21T12:48:02.419Z"
   },
   {
    "duration": 13,
    "start_time": "2022-03-21T12:49:10.689Z"
   },
   {
    "duration": 9,
    "start_time": "2022-03-21T12:49:15.342Z"
   },
   {
    "duration": 621,
    "start_time": "2022-03-21T12:49:21.987Z"
   },
   {
    "duration": 71,
    "start_time": "2022-03-21T12:49:22.611Z"
   },
   {
    "duration": 10,
    "start_time": "2022-03-21T12:49:22.685Z"
   },
   {
    "duration": 7,
    "start_time": "2022-03-21T12:49:22.699Z"
   },
   {
    "duration": 8,
    "start_time": "2022-03-21T12:49:22.708Z"
   },
   {
    "duration": 8,
    "start_time": "2022-03-21T12:49:22.767Z"
   },
   {
    "duration": 52,
    "start_time": "2022-03-21T12:49:22.777Z"
   },
   {
    "duration": 41,
    "start_time": "2022-03-21T12:49:22.831Z"
   },
   {
    "duration": 12,
    "start_time": "2022-03-21T12:49:22.877Z"
   },
   {
    "duration": 22,
    "start_time": "2022-03-21T12:49:22.893Z"
   },
   {
    "duration": 54,
    "start_time": "2022-03-21T12:49:22.919Z"
   },
   {
    "duration": 6,
    "start_time": "2022-03-21T12:49:22.975Z"
   },
   {
    "duration": 9,
    "start_time": "2022-03-21T12:49:22.984Z"
   },
   {
    "duration": 8,
    "start_time": "2022-03-21T12:49:22.996Z"
   },
   {
    "duration": 6,
    "start_time": "2022-03-21T12:49:23.007Z"
   },
   {
    "duration": 69,
    "start_time": "2022-03-21T12:49:23.016Z"
   },
   {
    "duration": 13,
    "start_time": "2022-03-21T12:49:23.088Z"
   },
   {
    "duration": 8,
    "start_time": "2022-03-21T12:49:23.104Z"
   },
   {
    "duration": 58,
    "start_time": "2022-03-21T12:49:23.115Z"
   },
   {
    "duration": 49,
    "start_time": "2022-03-21T12:49:23.175Z"
   },
   {
    "duration": 6,
    "start_time": "2022-03-21T12:49:23.226Z"
   },
   {
    "duration": 45,
    "start_time": "2022-03-21T12:49:23.234Z"
   },
   {
    "duration": 12,
    "start_time": "2022-03-21T12:49:23.282Z"
   },
   {
    "duration": 30,
    "start_time": "2022-03-21T12:49:23.297Z"
   },
   {
    "duration": 64,
    "start_time": "2022-03-21T12:49:23.330Z"
   },
   {
    "duration": 26,
    "start_time": "2022-03-21T12:49:23.397Z"
   },
   {
    "duration": 9,
    "start_time": "2022-03-21T12:49:23.426Z"
   },
   {
    "duration": 36,
    "start_time": "2022-03-21T12:49:23.472Z"
   },
   {
    "duration": 15,
    "start_time": "2022-03-21T12:49:23.510Z"
   },
   {
    "duration": 11,
    "start_time": "2022-03-21T12:49:23.527Z"
   },
   {
    "duration": 10,
    "start_time": "2022-03-21T12:49:23.568Z"
   },
   {
    "duration": 20,
    "start_time": "2022-03-21T12:49:23.586Z"
   },
   {
    "duration": 10,
    "start_time": "2022-03-21T12:49:23.608Z"
   },
   {
    "duration": 54,
    "start_time": "2022-03-21T12:49:23.621Z"
   },
   {
    "duration": 21,
    "start_time": "2022-03-21T12:49:23.678Z"
   },
   {
    "duration": 6,
    "start_time": "2022-03-21T12:49:23.701Z"
   },
   {
    "duration": 15,
    "start_time": "2022-03-21T12:49:23.710Z"
   },
   {
    "duration": 10,
    "start_time": "2022-03-21T12:49:23.768Z"
   },
   {
    "duration": 19,
    "start_time": "2022-03-21T12:49:23.780Z"
   },
   {
    "duration": 14,
    "start_time": "2022-03-21T12:49:23.801Z"
   },
   {
    "duration": 12,
    "start_time": "2022-03-21T12:49:23.817Z"
   },
   {
    "duration": 25,
    "start_time": "2022-03-21T12:49:23.868Z"
   },
   {
    "duration": 8,
    "start_time": "2022-03-21T12:49:23.896Z"
   },
   {
    "duration": 6,
    "start_time": "2022-03-21T12:49:23.908Z"
   },
   {
    "duration": 6,
    "start_time": "2022-03-21T12:49:23.917Z"
   },
   {
    "duration": 59,
    "start_time": "2022-03-21T12:49:23.925Z"
   },
   {
    "duration": 16,
    "start_time": "2022-03-21T12:49:23.986Z"
   },
   {
    "duration": 9,
    "start_time": "2022-03-21T12:49:24.005Z"
   },
   {
    "duration": 53,
    "start_time": "2022-03-21T12:49:24.017Z"
   },
   {
    "duration": 5,
    "start_time": "2022-03-21T12:49:24.072Z"
   },
   {
    "duration": 273,
    "start_time": "2022-03-21T12:49:24.080Z"
   },
   {
    "duration": 42,
    "start_time": "2022-03-21T12:49:24.355Z"
   },
   {
    "duration": 21,
    "start_time": "2022-03-21T12:49:24.399Z"
   },
   {
    "duration": 71,
    "start_time": "2022-03-21T12:49:24.423Z"
   },
   {
    "duration": 10,
    "start_time": "2022-03-21T12:49:24.496Z"
   },
   {
    "duration": 17,
    "start_time": "2022-03-21T12:49:24.508Z"
   },
   {
    "duration": 47,
    "start_time": "2022-03-21T12:49:24.528Z"
   },
   {
    "duration": 10,
    "start_time": "2022-03-21T12:50:32.620Z"
   },
   {
    "duration": 15,
    "start_time": "2022-03-21T12:51:14.267Z"
   },
   {
    "duration": 11,
    "start_time": "2022-03-21T12:53:44.239Z"
   },
   {
    "duration": 16,
    "start_time": "2022-03-21T12:53:51.449Z"
   },
   {
    "duration": 96,
    "start_time": "2022-03-21T12:59:31.377Z"
   },
   {
    "duration": 861,
    "start_time": "2022-03-21T12:59:49.038Z"
   },
   {
    "duration": 43,
    "start_time": "2022-03-21T12:59:49.903Z"
   },
   {
    "duration": 9,
    "start_time": "2022-03-21T12:59:49.967Z"
   },
   {
    "duration": 10,
    "start_time": "2022-03-21T12:59:49.979Z"
   },
   {
    "duration": 9,
    "start_time": "2022-03-21T12:59:49.991Z"
   },
   {
    "duration": 10,
    "start_time": "2022-03-21T12:59:50.002Z"
   },
   {
    "duration": 46,
    "start_time": "2022-03-21T12:59:50.069Z"
   },
   {
    "duration": 50,
    "start_time": "2022-03-21T12:59:50.117Z"
   },
   {
    "duration": 10,
    "start_time": "2022-03-21T12:59:50.171Z"
   },
   {
    "duration": 25,
    "start_time": "2022-03-21T12:59:50.185Z"
   },
   {
    "duration": 58,
    "start_time": "2022-03-21T12:59:50.213Z"
   },
   {
    "duration": 8,
    "start_time": "2022-03-21T12:59:50.273Z"
   },
   {
    "duration": 8,
    "start_time": "2022-03-21T12:59:50.283Z"
   },
   {
    "duration": 7,
    "start_time": "2022-03-21T12:59:50.294Z"
   },
   {
    "duration": 6,
    "start_time": "2022-03-21T12:59:50.303Z"
   },
   {
    "duration": 67,
    "start_time": "2022-03-21T12:59:50.311Z"
   },
   {
    "duration": 11,
    "start_time": "2022-03-21T12:59:50.381Z"
   },
   {
    "duration": 10,
    "start_time": "2022-03-21T12:59:50.394Z"
   },
   {
    "duration": 63,
    "start_time": "2022-03-21T12:59:50.407Z"
   },
   {
    "duration": 45,
    "start_time": "2022-03-21T12:59:50.472Z"
   },
   {
    "duration": 50,
    "start_time": "2022-03-21T12:59:50.520Z"
   },
   {
    "duration": 12,
    "start_time": "2022-03-21T12:59:50.572Z"
   },
   {
    "duration": 7,
    "start_time": "2022-03-21T12:59:50.586Z"
   },
   {
    "duration": 74,
    "start_time": "2022-03-21T12:59:50.596Z"
   },
   {
    "duration": 29,
    "start_time": "2022-03-21T12:59:50.672Z"
   },
   {
    "duration": 25,
    "start_time": "2022-03-21T12:59:50.703Z"
   },
   {
    "duration": 43,
    "start_time": "2022-03-21T12:59:50.730Z"
   },
   {
    "duration": 15,
    "start_time": "2022-03-21T12:59:50.780Z"
   },
   {
    "duration": 11,
    "start_time": "2022-03-21T12:59:50.797Z"
   },
   {
    "duration": 61,
    "start_time": "2022-03-21T12:59:50.810Z"
   },
   {
    "duration": 10,
    "start_time": "2022-03-21T12:59:50.873Z"
   },
   {
    "duration": 12,
    "start_time": "2022-03-21T12:59:50.885Z"
   },
   {
    "duration": 69,
    "start_time": "2022-03-21T12:59:50.900Z"
   },
   {
    "duration": 7,
    "start_time": "2022-03-21T12:59:50.972Z"
   },
   {
    "duration": 22,
    "start_time": "2022-03-21T12:59:50.981Z"
   },
   {
    "duration": 6,
    "start_time": "2022-03-21T12:59:51.005Z"
   },
   {
    "duration": 60,
    "start_time": "2022-03-21T12:59:51.013Z"
   },
   {
    "duration": 15,
    "start_time": "2022-03-21T12:59:51.075Z"
   },
   {
    "duration": 17,
    "start_time": "2022-03-21T12:59:51.092Z"
   },
   {
    "duration": 7,
    "start_time": "2022-03-21T12:59:51.111Z"
   },
   {
    "duration": 5,
    "start_time": "2022-03-21T12:59:51.168Z"
   },
   {
    "duration": 11,
    "start_time": "2022-03-21T12:59:51.175Z"
   },
   {
    "duration": 8,
    "start_time": "2022-03-21T12:59:51.188Z"
   },
   {
    "duration": 7,
    "start_time": "2022-03-21T12:59:51.198Z"
   },
   {
    "duration": 7,
    "start_time": "2022-03-21T12:59:51.208Z"
   },
   {
    "duration": 63,
    "start_time": "2022-03-21T12:59:51.218Z"
   },
   {
    "duration": 24,
    "start_time": "2022-03-21T12:59:51.283Z"
   },
   {
    "duration": 60,
    "start_time": "2022-03-21T12:59:51.309Z"
   },
   {
    "duration": 23,
    "start_time": "2022-03-21T12:59:51.371Z"
   },
   {
    "duration": 18,
    "start_time": "2022-03-21T12:59:51.397Z"
   },
   {
    "duration": 252,
    "start_time": "2022-03-21T12:59:51.418Z"
   },
   {
    "duration": 32,
    "start_time": "2022-03-21T12:59:51.672Z"
   },
   {
    "duration": 29,
    "start_time": "2022-03-21T12:59:51.706Z"
   },
   {
    "duration": 45,
    "start_time": "2022-03-21T12:59:51.767Z"
   },
   {
    "duration": 13,
    "start_time": "2022-03-21T12:59:51.815Z"
   },
   {
    "duration": 43,
    "start_time": "2022-03-21T12:59:51.842Z"
   },
   {
    "duration": 13,
    "start_time": "2022-03-21T12:59:51.887Z"
   },
   {
    "duration": 9,
    "start_time": "2022-03-21T12:59:58.409Z"
   },
   {
    "duration": 22,
    "start_time": "2022-03-21T13:00:07.800Z"
   },
   {
    "duration": 15,
    "start_time": "2022-03-21T13:00:53.553Z"
   },
   {
    "duration": 22,
    "start_time": "2022-03-21T13:01:29.918Z"
   },
   {
    "duration": 17,
    "start_time": "2022-03-21T13:01:45.039Z"
   },
   {
    "duration": 16,
    "start_time": "2022-03-21T13:02:16.076Z"
   },
   {
    "duration": 97,
    "start_time": "2022-03-21T13:10:32.114Z"
   },
   {
    "duration": 8,
    "start_time": "2022-03-21T13:18:06.346Z"
   },
   {
    "duration": 10,
    "start_time": "2022-03-21T13:18:15.309Z"
   },
   {
    "duration": 7,
    "start_time": "2022-03-21T13:18:42.605Z"
   },
   {
    "duration": 99,
    "start_time": "2022-03-21T13:19:03.651Z"
   },
   {
    "duration": 7,
    "start_time": "2022-03-21T13:19:08.491Z"
   },
   {
    "duration": 8,
    "start_time": "2022-03-21T13:22:35.917Z"
   },
   {
    "duration": 17,
    "start_time": "2022-03-21T13:33:47.974Z"
   },
   {
    "duration": 18,
    "start_time": "2022-03-21T13:36:56.141Z"
   },
   {
    "duration": 22,
    "start_time": "2022-03-21T13:37:47.017Z"
   },
   {
    "duration": 7,
    "start_time": "2022-03-21T13:44:59.219Z"
   },
   {
    "duration": 8,
    "start_time": "2022-03-21T13:45:04.710Z"
   },
   {
    "duration": 16,
    "start_time": "2022-03-21T14:07:47.495Z"
   },
   {
    "duration": 32,
    "start_time": "2022-03-21T14:08:42.590Z"
   },
   {
    "duration": 589,
    "start_time": "2022-03-21T15:23:50.303Z"
   },
   {
    "duration": 47,
    "start_time": "2022-03-21T15:23:50.896Z"
   },
   {
    "duration": 31,
    "start_time": "2022-03-21T15:23:50.945Z"
   },
   {
    "duration": 19,
    "start_time": "2022-03-21T15:23:50.979Z"
   },
   {
    "duration": 9,
    "start_time": "2022-03-21T15:23:51.000Z"
   },
   {
    "duration": 9,
    "start_time": "2022-03-21T15:23:51.012Z"
   },
   {
    "duration": 92,
    "start_time": "2022-03-21T15:23:51.023Z"
   },
   {
    "duration": 13,
    "start_time": "2022-03-21T15:23:51.118Z"
   },
   {
    "duration": 13,
    "start_time": "2022-03-21T15:23:51.169Z"
   },
   {
    "duration": 21,
    "start_time": "2022-03-21T15:23:51.188Z"
   },
   {
    "duration": 8,
    "start_time": "2022-03-21T15:23:51.211Z"
   },
   {
    "duration": 6,
    "start_time": "2022-03-21T15:23:51.269Z"
   },
   {
    "duration": 10,
    "start_time": "2022-03-21T15:23:51.277Z"
   },
   {
    "duration": 9,
    "start_time": "2022-03-21T15:23:51.290Z"
   },
   {
    "duration": 5,
    "start_time": "2022-03-21T15:23:51.302Z"
   },
   {
    "duration": 66,
    "start_time": "2022-03-21T15:23:51.309Z"
   },
   {
    "duration": 8,
    "start_time": "2022-03-21T15:23:51.378Z"
   },
   {
    "duration": 6,
    "start_time": "2022-03-21T15:23:51.388Z"
   },
   {
    "duration": 13,
    "start_time": "2022-03-21T15:23:51.397Z"
   },
   {
    "duration": 97,
    "start_time": "2022-03-21T15:23:51.412Z"
   },
   {
    "duration": 6,
    "start_time": "2022-03-21T15:23:51.511Z"
   },
   {
    "duration": 8,
    "start_time": "2022-03-21T15:23:51.520Z"
   },
   {
    "duration": 39,
    "start_time": "2022-03-21T15:23:51.530Z"
   },
   {
    "duration": 25,
    "start_time": "2022-03-21T15:23:51.572Z"
   },
   {
    "duration": 28,
    "start_time": "2022-03-21T15:23:51.600Z"
   },
   {
    "duration": 25,
    "start_time": "2022-03-21T15:23:51.667Z"
   },
   {
    "duration": 10,
    "start_time": "2022-03-21T15:23:51.694Z"
   },
   {
    "duration": 15,
    "start_time": "2022-03-21T15:23:51.710Z"
   },
   {
    "duration": 48,
    "start_time": "2022-03-21T15:23:51.727Z"
   },
   {
    "duration": 13,
    "start_time": "2022-03-21T15:23:51.777Z"
   },
   {
    "duration": 11,
    "start_time": "2022-03-21T15:23:51.792Z"
   },
   {
    "duration": 11,
    "start_time": "2022-03-21T15:23:51.805Z"
   },
   {
    "duration": 51,
    "start_time": "2022-03-21T15:23:51.819Z"
   },
   {
    "duration": 9,
    "start_time": "2022-03-21T15:23:51.873Z"
   },
   {
    "duration": 18,
    "start_time": "2022-03-21T15:23:51.885Z"
   },
   {
    "duration": 8,
    "start_time": "2022-03-21T15:23:51.905Z"
   },
   {
    "duration": 63,
    "start_time": "2022-03-21T15:23:51.915Z"
   },
   {
    "duration": 10,
    "start_time": "2022-03-21T15:23:51.980Z"
   },
   {
    "duration": 19,
    "start_time": "2022-03-21T15:23:51.992Z"
   },
   {
    "duration": 12,
    "start_time": "2022-03-21T15:23:52.013Z"
   },
   {
    "duration": 6,
    "start_time": "2022-03-21T15:23:52.068Z"
   },
   {
    "duration": 6,
    "start_time": "2022-03-21T15:23:52.076Z"
   },
   {
    "duration": 11,
    "start_time": "2022-03-21T15:23:52.086Z"
   },
   {
    "duration": 8,
    "start_time": "2022-03-21T15:23:52.100Z"
   },
   {
    "duration": 6,
    "start_time": "2022-03-21T15:23:52.111Z"
   },
   {
    "duration": 13,
    "start_time": "2022-03-21T15:23:52.169Z"
   },
   {
    "duration": 16,
    "start_time": "2022-03-21T15:23:52.184Z"
   },
   {
    "duration": 10,
    "start_time": "2022-03-21T15:23:52.202Z"
   },
   {
    "duration": 60,
    "start_time": "2022-03-21T15:23:52.215Z"
   },
   {
    "duration": 8,
    "start_time": "2022-03-21T15:23:52.277Z"
   },
   {
    "duration": 261,
    "start_time": "2022-03-21T15:23:52.287Z"
   },
   {
    "duration": 36,
    "start_time": "2022-03-21T15:23:52.550Z"
   },
   {
    "duration": 23,
    "start_time": "2022-03-21T15:23:52.588Z"
   },
   {
    "duration": 7,
    "start_time": "2022-03-21T15:23:52.613Z"
   },
   {
    "duration": 72,
    "start_time": "2022-03-21T15:23:52.623Z"
   },
   {
    "duration": 15,
    "start_time": "2022-03-21T15:23:52.697Z"
   },
   {
    "duration": 15,
    "start_time": "2022-03-21T15:23:52.714Z"
   },
   {
    "duration": 16,
    "start_time": "2022-03-21T15:23:52.767Z"
   },
   {
    "duration": 106,
    "start_time": "2022-03-21T15:23:52.785Z"
   },
   {
    "duration": 0,
    "start_time": "2022-03-21T15:23:52.893Z"
   },
   {
    "duration": 33,
    "start_time": "2022-03-21T15:39:32.870Z"
   },
   {
    "duration": 605,
    "start_time": "2022-03-21T15:40:50.160Z"
   },
   {
    "duration": 63,
    "start_time": "2022-03-21T15:40:50.768Z"
   },
   {
    "duration": 8,
    "start_time": "2022-03-21T15:40:50.838Z"
   },
   {
    "duration": 19,
    "start_time": "2022-03-21T15:40:50.849Z"
   },
   {
    "duration": 9,
    "start_time": "2022-03-21T15:40:50.871Z"
   },
   {
    "duration": 46,
    "start_time": "2022-03-21T15:40:50.882Z"
   },
   {
    "duration": 43,
    "start_time": "2022-03-21T15:40:50.931Z"
   },
   {
    "duration": 11,
    "start_time": "2022-03-21T15:40:50.977Z"
   },
   {
    "duration": 22,
    "start_time": "2022-03-21T15:40:50.994Z"
   },
   {
    "duration": 10,
    "start_time": "2022-03-21T15:40:51.069Z"
   },
   {
    "duration": 10,
    "start_time": "2022-03-21T15:40:51.081Z"
   },
   {
    "duration": 11,
    "start_time": "2022-03-21T15:40:51.093Z"
   },
   {
    "duration": 8,
    "start_time": "2022-03-21T15:40:51.106Z"
   },
   {
    "duration": 55,
    "start_time": "2022-03-21T15:40:51.116Z"
   },
   {
    "duration": 16,
    "start_time": "2022-03-21T15:40:51.174Z"
   },
   {
    "duration": 6,
    "start_time": "2022-03-21T15:40:51.192Z"
   },
   {
    "duration": 5,
    "start_time": "2022-03-21T15:40:51.201Z"
   },
   {
    "duration": 61,
    "start_time": "2022-03-21T15:40:51.208Z"
   },
   {
    "duration": 45,
    "start_time": "2022-03-21T15:40:51.271Z"
   },
   {
    "duration": 6,
    "start_time": "2022-03-21T15:40:51.318Z"
   },
   {
    "duration": 7,
    "start_time": "2022-03-21T15:40:51.327Z"
   },
   {
    "duration": 9,
    "start_time": "2022-03-21T15:40:51.367Z"
   },
   {
    "duration": 28,
    "start_time": "2022-03-21T15:40:51.378Z"
   },
   {
    "duration": 60,
    "start_time": "2022-03-21T15:40:51.408Z"
   },
   {
    "duration": 25,
    "start_time": "2022-03-21T15:40:51.470Z"
   },
   {
    "duration": 10,
    "start_time": "2022-03-21T15:40:51.497Z"
   },
   {
    "duration": 16,
    "start_time": "2022-03-21T15:40:51.513Z"
   },
   {
    "duration": 11,
    "start_time": "2022-03-21T15:40:51.568Z"
   },
   {
    "duration": 10,
    "start_time": "2022-03-21T15:40:51.581Z"
   },
   {
    "duration": 13,
    "start_time": "2022-03-21T15:40:51.594Z"
   },
   {
    "duration": 59,
    "start_time": "2022-03-21T15:40:51.609Z"
   },
   {
    "duration": 10,
    "start_time": "2022-03-21T15:40:51.672Z"
   },
   {
    "duration": 13,
    "start_time": "2022-03-21T15:40:51.684Z"
   },
   {
    "duration": 15,
    "start_time": "2022-03-21T15:40:51.699Z"
   },
   {
    "duration": 5,
    "start_time": "2022-03-21T15:40:51.716Z"
   },
   {
    "duration": 47,
    "start_time": "2022-03-21T15:40:51.723Z"
   },
   {
    "duration": 10,
    "start_time": "2022-03-21T15:40:51.772Z"
   },
   {
    "duration": 13,
    "start_time": "2022-03-21T15:40:51.785Z"
   },
   {
    "duration": 5,
    "start_time": "2022-03-21T15:40:51.800Z"
   },
   {
    "duration": 11,
    "start_time": "2022-03-21T15:40:51.807Z"
   },
   {
    "duration": 5,
    "start_time": "2022-03-21T15:40:51.869Z"
   },
   {
    "duration": 7,
    "start_time": "2022-03-21T15:40:51.876Z"
   },
   {
    "duration": 9,
    "start_time": "2022-03-21T15:40:51.885Z"
   },
   {
    "duration": 6,
    "start_time": "2022-03-21T15:40:51.896Z"
   },
   {
    "duration": 14,
    "start_time": "2022-03-21T15:40:51.904Z"
   },
   {
    "duration": 18,
    "start_time": "2022-03-21T15:40:51.968Z"
   },
   {
    "duration": 11,
    "start_time": "2022-03-21T15:40:51.988Z"
   },
   {
    "duration": 5,
    "start_time": "2022-03-21T15:40:52.002Z"
   },
   {
    "duration": 261,
    "start_time": "2022-03-21T15:40:52.009Z"
   },
   {
    "duration": 32,
    "start_time": "2022-03-21T15:40:52.272Z"
   },
   {
    "duration": 8,
    "start_time": "2022-03-21T15:40:52.306Z"
   },
   {
    "duration": 67,
    "start_time": "2022-03-21T15:40:52.317Z"
   },
   {
    "duration": 16,
    "start_time": "2022-03-21T15:40:52.387Z"
   },
   {
    "duration": 19,
    "start_time": "2022-03-21T15:40:52.405Z"
   },
   {
    "duration": 18,
    "start_time": "2022-03-21T15:40:52.468Z"
   },
   {
    "duration": 29,
    "start_time": "2022-03-21T15:40:52.488Z"
   },
   {
    "duration": 637,
    "start_time": "2022-03-21T15:41:49.529Z"
   },
   {
    "duration": 50,
    "start_time": "2022-03-21T15:41:50.169Z"
   },
   {
    "duration": 10,
    "start_time": "2022-03-21T15:41:50.221Z"
   },
   {
    "duration": 39,
    "start_time": "2022-03-21T15:41:50.233Z"
   },
   {
    "duration": 8,
    "start_time": "2022-03-21T15:41:50.276Z"
   },
   {
    "duration": 88,
    "start_time": "2022-03-21T15:41:50.286Z"
   },
   {
    "duration": 10,
    "start_time": "2022-03-21T15:41:50.376Z"
   },
   {
    "duration": 15,
    "start_time": "2022-03-21T15:41:50.388Z"
   },
   {
    "duration": 64,
    "start_time": "2022-03-21T15:41:50.405Z"
   },
   {
    "duration": 9,
    "start_time": "2022-03-21T15:41:50.471Z"
   },
   {
    "duration": 6,
    "start_time": "2022-03-21T15:41:50.482Z"
   },
   {
    "duration": 12,
    "start_time": "2022-03-21T15:41:50.490Z"
   },
   {
    "duration": 8,
    "start_time": "2022-03-21T15:41:50.504Z"
   },
   {
    "duration": 8,
    "start_time": "2022-03-21T15:41:50.567Z"
   },
   {
    "duration": 16,
    "start_time": "2022-03-21T15:41:50.577Z"
   },
   {
    "duration": 8,
    "start_time": "2022-03-21T15:41:50.595Z"
   },
   {
    "duration": 64,
    "start_time": "2022-03-21T15:41:50.605Z"
   },
   {
    "duration": 13,
    "start_time": "2022-03-21T15:41:50.672Z"
   },
   {
    "duration": 47,
    "start_time": "2022-03-21T15:41:50.688Z"
   },
   {
    "duration": 32,
    "start_time": "2022-03-21T15:41:50.738Z"
   },
   {
    "duration": 10,
    "start_time": "2022-03-21T15:41:50.773Z"
   },
   {
    "duration": 7,
    "start_time": "2022-03-21T15:41:50.786Z"
   },
   {
    "duration": 88,
    "start_time": "2022-03-21T15:41:50.796Z"
   },
   {
    "duration": 34,
    "start_time": "2022-03-21T15:41:50.887Z"
   },
   {
    "duration": 59,
    "start_time": "2022-03-21T15:41:50.923Z"
   },
   {
    "duration": 12,
    "start_time": "2022-03-21T15:41:50.985Z"
   },
   {
    "duration": 22,
    "start_time": "2022-03-21T15:41:50.999Z"
   },
   {
    "duration": 47,
    "start_time": "2022-03-21T15:41:51.023Z"
   },
   {
    "duration": 12,
    "start_time": "2022-03-21T15:41:51.073Z"
   },
   {
    "duration": 11,
    "start_time": "2022-03-21T15:41:51.087Z"
   },
   {
    "duration": 10,
    "start_time": "2022-03-21T15:41:51.100Z"
   },
   {
    "duration": 62,
    "start_time": "2022-03-21T15:41:51.112Z"
   },
   {
    "duration": 15,
    "start_time": "2022-03-21T15:41:51.176Z"
   },
   {
    "duration": 26,
    "start_time": "2022-03-21T15:41:51.193Z"
   },
   {
    "duration": 8,
    "start_time": "2022-03-21T15:41:51.222Z"
   },
   {
    "duration": 42,
    "start_time": "2022-03-21T15:41:51.232Z"
   },
   {
    "duration": 13,
    "start_time": "2022-03-21T15:41:51.277Z"
   },
   {
    "duration": 34,
    "start_time": "2022-03-21T15:41:51.292Z"
   },
   {
    "duration": 23,
    "start_time": "2022-03-21T15:41:51.329Z"
   },
   {
    "duration": 15,
    "start_time": "2022-03-21T15:41:51.354Z"
   },
   {
    "duration": 14,
    "start_time": "2022-03-21T15:41:51.375Z"
   },
   {
    "duration": 17,
    "start_time": "2022-03-21T15:41:51.392Z"
   },
   {
    "duration": 16,
    "start_time": "2022-03-21T15:41:51.412Z"
   },
   {
    "duration": 19,
    "start_time": "2022-03-21T15:41:51.431Z"
   },
   {
    "duration": 15,
    "start_time": "2022-03-21T15:41:51.469Z"
   },
   {
    "duration": 25,
    "start_time": "2022-03-21T15:41:51.487Z"
   },
   {
    "duration": 22,
    "start_time": "2022-03-21T15:41:51.514Z"
   },
   {
    "duration": 28,
    "start_time": "2022-03-21T15:41:51.539Z"
   },
   {
    "duration": 265,
    "start_time": "2022-03-21T15:41:51.570Z"
   },
   {
    "duration": 38,
    "start_time": "2022-03-21T15:41:51.838Z"
   },
   {
    "duration": 13,
    "start_time": "2022-03-21T15:41:51.879Z"
   },
   {
    "duration": 74,
    "start_time": "2022-03-21T15:41:51.895Z"
   },
   {
    "duration": 19,
    "start_time": "2022-03-21T15:41:51.972Z"
   },
   {
    "duration": 21,
    "start_time": "2022-03-21T15:41:51.994Z"
   },
   {
    "duration": 53,
    "start_time": "2022-03-21T15:41:52.018Z"
   },
   {
    "duration": 32,
    "start_time": "2022-03-21T15:41:52.073Z"
   },
   {
    "duration": 1055,
    "start_time": "2022-04-20T14:09:38.323Z"
   },
   {
    "duration": 1037,
    "start_time": "2022-04-20T14:09:39.380Z"
   },
   {
    "duration": 11,
    "start_time": "2022-04-20T14:09:40.419Z"
   },
   {
    "duration": 26,
    "start_time": "2022-04-20T14:09:40.432Z"
   },
   {
    "duration": 17,
    "start_time": "2022-04-20T14:09:40.460Z"
   },
   {
    "duration": 20,
    "start_time": "2022-04-20T14:09:40.479Z"
   },
   {
    "duration": 9,
    "start_time": "2022-04-20T14:09:40.500Z"
   },
   {
    "duration": 104,
    "start_time": "2022-04-20T14:09:40.510Z"
   },
   {
    "duration": 14,
    "start_time": "2022-04-20T14:09:40.616Z"
   },
   {
    "duration": 24,
    "start_time": "2022-04-20T14:09:40.633Z"
   },
   {
    "duration": 13,
    "start_time": "2022-04-20T14:09:40.659Z"
   },
   {
    "duration": 8,
    "start_time": "2022-04-20T14:09:40.673Z"
   },
   {
    "duration": 11,
    "start_time": "2022-04-20T14:09:40.682Z"
   },
   {
    "duration": 7,
    "start_time": "2022-04-20T14:09:40.694Z"
   },
   {
    "duration": 7,
    "start_time": "2022-04-20T14:09:40.702Z"
   },
   {
    "duration": 8,
    "start_time": "2022-04-20T14:09:40.710Z"
   },
   {
    "duration": 8,
    "start_time": "2022-04-20T14:09:40.747Z"
   },
   {
    "duration": 4,
    "start_time": "2022-04-20T14:09:40.756Z"
   },
   {
    "duration": 11,
    "start_time": "2022-04-20T14:09:40.762Z"
   },
   {
    "duration": 347,
    "start_time": "2022-04-20T14:09:40.775Z"
   },
   {
    "duration": 43,
    "start_time": "2022-04-20T14:09:41.124Z"
   },
   {
    "duration": 51,
    "start_time": "2022-04-20T14:09:41.168Z"
   },
   {
    "duration": 28,
    "start_time": "2022-04-20T14:09:41.221Z"
   },
   {
    "duration": 25,
    "start_time": "2022-04-20T14:09:41.251Z"
   },
   {
    "duration": 38,
    "start_time": "2022-04-20T14:09:41.277Z"
   },
   {
    "duration": 48,
    "start_time": "2022-04-20T14:09:41.317Z"
   },
   {
    "duration": 23,
    "start_time": "2022-04-20T14:09:41.366Z"
   },
   {
    "duration": 3,
    "start_time": "2022-04-20T14:09:41.394Z"
   },
   {
    "duration": 6,
    "start_time": "2022-04-20T14:09:41.399Z"
   },
   {
    "duration": 7,
    "start_time": "2022-04-20T14:09:41.407Z"
   },
   {
    "duration": 48,
    "start_time": "2022-04-20T14:09:41.416Z"
   },
   {
    "duration": 4,
    "start_time": "2022-04-20T14:09:41.465Z"
   },
   {
    "duration": 5,
    "start_time": "2022-04-20T14:09:41.470Z"
   },
   {
    "duration": 13,
    "start_time": "2022-04-20T14:09:41.477Z"
   },
   {
    "duration": 20,
    "start_time": "2022-04-20T14:09:41.491Z"
   },
   {
    "duration": 50,
    "start_time": "2022-04-20T14:09:41.513Z"
   },
   {
    "duration": 4,
    "start_time": "2022-04-20T14:09:41.565Z"
   },
   {
    "duration": 28,
    "start_time": "2022-04-20T14:09:41.570Z"
   },
   {
    "duration": 9,
    "start_time": "2022-04-20T14:09:41.599Z"
   },
   {
    "duration": 10,
    "start_time": "2022-04-20T14:09:41.609Z"
   },
   {
    "duration": 41,
    "start_time": "2022-04-20T14:09:41.620Z"
   },
   {
    "duration": 11,
    "start_time": "2022-04-20T14:09:41.663Z"
   },
   {
    "duration": 16,
    "start_time": "2022-04-20T14:09:41.676Z"
   },
   {
    "duration": 3,
    "start_time": "2022-04-20T14:09:41.693Z"
   },
   {
    "duration": 683,
    "start_time": "2022-04-20T14:09:41.697Z"
   },
   {
    "duration": 11,
    "start_time": "2022-04-20T14:09:42.381Z"
   },
   {
    "duration": 20,
    "start_time": "2022-04-20T14:09:42.393Z"
   },
   {
    "duration": 585,
    "start_time": "2022-04-20T14:09:42.414Z"
   },
   {
    "duration": 11,
    "start_time": "2022-04-20T14:09:43.000Z"
   },
   {
    "duration": 16,
    "start_time": "2022-04-20T14:09:43.012Z"
   },
   {
    "duration": 647,
    "start_time": "2022-04-20T14:09:43.030Z"
   },
   {
    "duration": 10,
    "start_time": "2022-04-20T14:09:43.679Z"
   },
   {
    "duration": 7,
    "start_time": "2022-04-20T14:09:43.691Z"
   },
   {
    "duration": 5,
    "start_time": "2022-04-20T14:09:43.699Z"
   },
   {
    "duration": 5,
    "start_time": "2022-04-20T14:09:43.705Z"
   },
   {
    "duration": 4,
    "start_time": "2022-04-20T14:09:43.711Z"
   },
   {
    "duration": 4,
    "start_time": "2022-04-20T14:09:43.716Z"
   },
   {
    "duration": 7,
    "start_time": "2022-04-20T14:09:43.748Z"
   },
   {
    "duration": 18,
    "start_time": "2022-04-20T14:09:43.758Z"
   },
   {
    "duration": 4,
    "start_time": "2022-04-20T14:09:43.777Z"
   },
   {
    "duration": 6,
    "start_time": "2022-04-20T14:09:43.782Z"
   },
   {
    "duration": 5,
    "start_time": "2022-04-20T14:09:43.789Z"
   },
   {
    "duration": 5,
    "start_time": "2022-04-20T14:09:43.795Z"
   },
   {
    "duration": 5,
    "start_time": "2022-04-20T14:09:43.801Z"
   },
   {
    "duration": 6,
    "start_time": "2022-04-20T14:09:43.808Z"
   },
   {
    "duration": 9,
    "start_time": "2022-04-20T14:09:43.856Z"
   },
   {
    "duration": 5,
    "start_time": "2022-04-20T14:09:43.866Z"
   },
   {
    "duration": 10,
    "start_time": "2022-04-20T14:09:43.872Z"
   },
   {
    "duration": 4,
    "start_time": "2022-04-20T14:09:43.883Z"
   },
   {
    "duration": 5,
    "start_time": "2022-04-20T14:09:43.888Z"
   },
   {
    "duration": 5,
    "start_time": "2022-04-20T14:09:43.894Z"
   },
   {
    "duration": 5,
    "start_time": "2022-04-20T14:09:43.900Z"
   },
   {
    "duration": 5,
    "start_time": "2022-04-20T14:09:43.906Z"
   },
   {
    "duration": 4,
    "start_time": "2022-04-20T14:09:43.913Z"
   },
   {
    "duration": 37,
    "start_time": "2022-04-20T14:09:43.918Z"
   },
   {
    "duration": 5,
    "start_time": "2022-04-20T14:20:23.213Z"
   },
   {
    "duration": 9,
    "start_time": "2022-04-20T14:22:35.649Z"
   },
   {
    "duration": 127,
    "start_time": "2022-04-20T14:29:31.093Z"
   },
   {
    "duration": 133,
    "start_time": "2022-04-20T14:29:48.238Z"
   },
   {
    "duration": 142,
    "start_time": "2022-04-20T14:30:04.138Z"
   },
   {
    "duration": 143,
    "start_time": "2022-04-20T14:30:21.534Z"
   },
   {
    "duration": 182,
    "start_time": "2022-04-20T14:30:47.242Z"
   },
   {
    "duration": 9,
    "start_time": "2022-04-20T14:34:24.617Z"
   },
   {
    "duration": 10,
    "start_time": "2022-04-20T14:41:57.216Z"
   },
   {
    "duration": 10,
    "start_time": "2022-04-20T14:42:06.774Z"
   },
   {
    "duration": 76,
    "start_time": "2022-04-20T19:28:22.442Z"
   },
   {
    "duration": 1897,
    "start_time": "2022-04-20T19:28:29.612Z"
   },
   {
    "duration": 528,
    "start_time": "2022-04-20T19:28:31.512Z"
   },
   {
    "duration": 20,
    "start_time": "2022-04-20T19:28:32.042Z"
   },
   {
    "duration": 49,
    "start_time": "2022-04-20T19:28:32.064Z"
   },
   {
    "duration": 26,
    "start_time": "2022-04-20T19:28:32.123Z"
   },
   {
    "duration": 29,
    "start_time": "2022-04-20T19:28:32.151Z"
   },
   {
    "duration": 46,
    "start_time": "2022-04-20T19:28:32.183Z"
   },
   {
    "duration": 133,
    "start_time": "2022-04-20T19:28:32.232Z"
   },
   {
    "duration": 23,
    "start_time": "2022-04-20T19:28:32.367Z"
   },
   {
    "duration": 41,
    "start_time": "2022-04-20T19:28:32.393Z"
   },
   {
    "duration": 17,
    "start_time": "2022-04-20T19:28:32.438Z"
   },
   {
    "duration": 15,
    "start_time": "2022-04-20T19:28:32.458Z"
   },
   {
    "duration": 58,
    "start_time": "2022-04-20T19:28:32.476Z"
   },
   {
    "duration": 11,
    "start_time": "2022-04-20T19:28:32.543Z"
   },
   {
    "duration": 27,
    "start_time": "2022-04-20T19:28:32.557Z"
   },
   {
    "duration": 36,
    "start_time": "2022-04-20T19:28:32.588Z"
   },
   {
    "duration": 8,
    "start_time": "2022-04-20T19:28:32.627Z"
   },
   {
    "duration": 5,
    "start_time": "2022-04-20T19:28:32.637Z"
   },
   {
    "duration": 20,
    "start_time": "2022-04-20T19:28:32.644Z"
   },
   {
    "duration": 589,
    "start_time": "2022-04-20T19:28:32.666Z"
   },
   {
    "duration": 42,
    "start_time": "2022-04-20T19:28:33.257Z"
   },
   {
    "duration": 74,
    "start_time": "2022-04-20T19:28:33.301Z"
   },
   {
    "duration": 14,
    "start_time": "2022-04-20T19:28:33.377Z"
   },
   {
    "duration": 53,
    "start_time": "2022-04-20T19:28:33.393Z"
   },
   {
    "duration": 37,
    "start_time": "2022-04-20T19:28:33.448Z"
   },
   {
    "duration": 57,
    "start_time": "2022-04-20T19:28:33.487Z"
   },
   {
    "duration": 37,
    "start_time": "2022-04-20T19:28:33.546Z"
   },
   {
    "duration": 5,
    "start_time": "2022-04-20T19:28:33.585Z"
   },
   {
    "duration": 32,
    "start_time": "2022-04-20T19:28:33.593Z"
   },
   {
    "duration": 21,
    "start_time": "2022-04-20T19:28:33.628Z"
   },
   {
    "duration": 41,
    "start_time": "2022-04-20T19:28:33.651Z"
   },
   {
    "duration": 5,
    "start_time": "2022-04-20T19:28:33.695Z"
   },
   {
    "duration": 23,
    "start_time": "2022-04-20T19:28:33.702Z"
   },
   {
    "duration": 24,
    "start_time": "2022-04-20T19:28:33.727Z"
   },
   {
    "duration": 41,
    "start_time": "2022-04-20T19:28:33.754Z"
   },
   {
    "duration": 55,
    "start_time": "2022-04-20T19:28:33.797Z"
   },
   {
    "duration": 7,
    "start_time": "2022-04-20T19:28:33.854Z"
   },
   {
    "duration": 68,
    "start_time": "2022-04-20T19:28:33.863Z"
   },
   {
    "duration": 15,
    "start_time": "2022-04-20T19:28:33.933Z"
   },
   {
    "duration": 19,
    "start_time": "2022-04-20T19:28:33.951Z"
   },
   {
    "duration": 13,
    "start_time": "2022-04-20T19:28:33.977Z"
   },
   {
    "duration": 43,
    "start_time": "2022-04-20T19:28:33.993Z"
   },
   {
    "duration": 31,
    "start_time": "2022-04-20T19:28:34.038Z"
   },
   {
    "duration": 6,
    "start_time": "2022-04-20T19:28:34.072Z"
   },
   {
    "duration": 1320,
    "start_time": "2022-04-20T19:28:34.080Z"
   },
   {
    "duration": 26,
    "start_time": "2022-04-20T19:28:35.403Z"
   },
   {
    "duration": 36,
    "start_time": "2022-04-20T19:28:35.432Z"
   },
   {
    "duration": 1034,
    "start_time": "2022-04-20T19:28:35.471Z"
   },
   {
    "duration": 23,
    "start_time": "2022-04-20T19:28:36.507Z"
   },
   {
    "duration": 20,
    "start_time": "2022-04-20T19:28:36.532Z"
   },
   {
    "duration": 29,
    "start_time": "2022-04-20T19:28:36.554Z"
   },
   {
    "duration": 1215,
    "start_time": "2022-04-20T19:28:36.585Z"
   },
   {
    "duration": 35,
    "start_time": "2022-04-20T19:28:37.802Z"
   },
   {
    "duration": 14,
    "start_time": "2022-04-20T19:28:37.840Z"
   },
   {
    "duration": 10,
    "start_time": "2022-04-20T19:28:37.856Z"
   },
   {
    "duration": 9,
    "start_time": "2022-04-20T19:28:37.868Z"
   },
   {
    "duration": 9,
    "start_time": "2022-04-20T19:28:37.879Z"
   },
   {
    "duration": 49,
    "start_time": "2022-04-20T19:28:37.890Z"
   },
   {
    "duration": 11,
    "start_time": "2022-04-20T19:28:37.942Z"
   },
   {
    "duration": 30,
    "start_time": "2022-04-20T19:28:37.955Z"
   },
   {
    "duration": 6,
    "start_time": "2022-04-20T19:28:37.988Z"
   },
   {
    "duration": 38,
    "start_time": "2022-04-20T19:28:37.996Z"
   },
   {
    "duration": 11,
    "start_time": "2022-04-20T19:28:38.037Z"
   },
   {
    "duration": 10,
    "start_time": "2022-04-20T19:28:38.049Z"
   },
   {
    "duration": 11,
    "start_time": "2022-04-20T19:28:38.061Z"
   },
   {
    "duration": 19,
    "start_time": "2022-04-20T19:28:38.075Z"
   },
   {
    "duration": 35,
    "start_time": "2022-04-20T19:28:38.096Z"
   },
   {
    "duration": 7,
    "start_time": "2022-04-20T19:28:38.134Z"
   },
   {
    "duration": 13,
    "start_time": "2022-04-20T19:28:38.143Z"
   },
   {
    "duration": 21,
    "start_time": "2022-04-20T19:28:38.158Z"
   },
   {
    "duration": 11,
    "start_time": "2022-04-20T19:28:38.182Z"
   },
   {
    "duration": 45,
    "start_time": "2022-04-20T19:28:38.195Z"
   },
   {
    "duration": 40,
    "start_time": "2022-04-20T19:28:38.243Z"
   },
   {
    "duration": 13,
    "start_time": "2022-04-20T19:28:38.285Z"
   },
   {
    "duration": 13,
    "start_time": "2022-04-20T19:28:38.300Z"
   },
   {
    "duration": 26,
    "start_time": "2022-04-20T19:28:38.316Z"
   },
   {
    "duration": 19,
    "start_time": "2022-04-20T19:28:38.345Z"
   },
   {
    "duration": 73,
    "start_time": "2022-04-20T19:28:38.366Z"
   },
   {
    "duration": 8,
    "start_time": "2022-04-20T19:55:25.412Z"
   },
   {
    "duration": 144,
    "start_time": "2022-04-20T19:56:03.247Z"
   },
   {
    "duration": 22,
    "start_time": "2022-04-20T19:56:09.103Z"
   },
   {
    "duration": 25,
    "start_time": "2022-04-20T19:57:49.773Z"
   },
   {
    "duration": 17,
    "start_time": "2022-04-20T19:58:00.613Z"
   },
   {
    "duration": 20,
    "start_time": "2022-04-20T20:04:59.287Z"
   },
   {
    "duration": 17,
    "start_time": "2022-04-20T20:05:28.266Z"
   },
   {
    "duration": 18,
    "start_time": "2022-04-20T20:07:43.732Z"
   },
   {
    "duration": 15,
    "start_time": "2022-04-20T20:09:47.340Z"
   },
   {
    "duration": 16,
    "start_time": "2022-04-20T20:11:33.044Z"
   },
   {
    "duration": 19,
    "start_time": "2022-04-20T20:11:38.379Z"
   },
   {
    "duration": 2065,
    "start_time": "2022-04-20T20:14:53.008Z"
   },
   {
    "duration": 796,
    "start_time": "2022-04-20T20:14:55.077Z"
   },
   {
    "duration": 25,
    "start_time": "2022-04-20T20:14:55.876Z"
   },
   {
    "duration": 65,
    "start_time": "2022-04-20T20:14:55.906Z"
   },
   {
    "duration": 58,
    "start_time": "2022-04-20T20:14:55.974Z"
   },
   {
    "duration": 45,
    "start_time": "2022-04-20T20:14:56.035Z"
   },
   {
    "duration": 45,
    "start_time": "2022-04-20T20:14:56.083Z"
   },
   {
    "duration": 209,
    "start_time": "2022-04-20T20:14:56.131Z"
   },
   {
    "duration": 32,
    "start_time": "2022-04-20T20:14:56.342Z"
   },
   {
    "duration": 21,
    "start_time": "2022-04-20T20:14:56.380Z"
   },
   {
    "duration": 19,
    "start_time": "2022-04-20T20:14:56.425Z"
   },
   {
    "duration": 13,
    "start_time": "2022-04-20T20:14:56.447Z"
   },
   {
    "duration": 24,
    "start_time": "2022-04-20T20:14:56.462Z"
   },
   {
    "duration": 35,
    "start_time": "2022-04-20T20:14:56.489Z"
   },
   {
    "duration": 20,
    "start_time": "2022-04-20T20:14:56.527Z"
   },
   {
    "duration": 23,
    "start_time": "2022-04-20T20:14:56.549Z"
   },
   {
    "duration": 18,
    "start_time": "2022-04-20T20:14:56.574Z"
   },
   {
    "duration": 8,
    "start_time": "2022-04-20T20:14:56.594Z"
   },
   {
    "duration": 30,
    "start_time": "2022-04-20T20:14:56.604Z"
   },
   {
    "duration": 609,
    "start_time": "2022-04-20T20:14:56.636Z"
   },
   {
    "duration": 40,
    "start_time": "2022-04-20T20:14:57.248Z"
   },
   {
    "duration": 78,
    "start_time": "2022-04-20T20:14:57.290Z"
   },
   {
    "duration": 18,
    "start_time": "2022-04-20T20:14:57.371Z"
   },
   {
    "duration": 63,
    "start_time": "2022-04-20T20:14:57.392Z"
   },
   {
    "duration": 68,
    "start_time": "2022-04-20T20:14:57.458Z"
   },
   {
    "duration": 44,
    "start_time": "2022-04-20T20:14:57.529Z"
   },
   {
    "duration": 76,
    "start_time": "2022-04-20T20:14:57.576Z"
   },
   {
    "duration": 7,
    "start_time": "2022-04-20T20:14:57.663Z"
   },
   {
    "duration": 9,
    "start_time": "2022-04-20T20:14:57.673Z"
   },
   {
    "duration": 41,
    "start_time": "2022-04-20T20:14:57.684Z"
   },
   {
    "duration": 40,
    "start_time": "2022-04-20T20:14:57.728Z"
   },
   {
    "duration": 8,
    "start_time": "2022-04-20T20:14:57.770Z"
   },
   {
    "duration": 10,
    "start_time": "2022-04-20T20:14:57.780Z"
   },
   {
    "duration": 53,
    "start_time": "2022-04-20T20:14:57.793Z"
   },
   {
    "duration": 42,
    "start_time": "2022-04-20T20:14:57.848Z"
   },
   {
    "duration": 53,
    "start_time": "2022-04-20T20:14:57.892Z"
   },
   {
    "duration": 11,
    "start_time": "2022-04-20T20:14:57.947Z"
   },
   {
    "duration": 66,
    "start_time": "2022-04-20T20:14:57.960Z"
   },
   {
    "duration": 16,
    "start_time": "2022-04-20T20:14:58.028Z"
   },
   {
    "duration": 21,
    "start_time": "2022-04-20T20:14:58.046Z"
   },
   {
    "duration": 18,
    "start_time": "2022-04-20T20:14:58.069Z"
   },
   {
    "duration": 52,
    "start_time": "2022-04-20T20:14:58.089Z"
   },
   {
    "duration": 30,
    "start_time": "2022-04-20T20:14:58.143Z"
   },
   {
    "duration": 6,
    "start_time": "2022-04-20T20:14:58.176Z"
   },
   {
    "duration": 1215,
    "start_time": "2022-04-20T20:14:58.184Z"
   },
   {
    "duration": 30,
    "start_time": "2022-04-20T20:14:59.401Z"
   },
   {
    "duration": 19,
    "start_time": "2022-04-20T20:14:59.433Z"
   },
   {
    "duration": 37,
    "start_time": "2022-04-20T20:14:59.454Z"
   },
   {
    "duration": 1067,
    "start_time": "2022-04-20T20:14:59.493Z"
   },
   {
    "duration": 20,
    "start_time": "2022-04-20T20:15:00.562Z"
   },
   {
    "duration": 42,
    "start_time": "2022-04-20T20:15:00.584Z"
   },
   {
    "duration": 42,
    "start_time": "2022-04-20T20:15:00.630Z"
   },
   {
    "duration": 1548,
    "start_time": "2022-04-20T20:15:00.676Z"
   },
   {
    "duration": 16,
    "start_time": "2022-04-20T20:15:02.227Z"
   },
   {
    "duration": 26,
    "start_time": "2022-04-20T20:15:02.245Z"
   },
   {
    "duration": 13,
    "start_time": "2022-04-20T20:15:02.273Z"
   },
   {
    "duration": 41,
    "start_time": "2022-04-20T20:15:02.288Z"
   },
   {
    "duration": 15,
    "start_time": "2022-04-20T20:15:02.332Z"
   },
   {
    "duration": 13,
    "start_time": "2022-04-20T20:15:02.349Z"
   },
   {
    "duration": 28,
    "start_time": "2022-04-20T20:15:02.364Z"
   },
   {
    "duration": 20,
    "start_time": "2022-04-20T20:15:02.394Z"
   },
   {
    "duration": 38,
    "start_time": "2022-04-20T20:15:02.417Z"
   },
   {
    "duration": 6,
    "start_time": "2022-04-20T20:15:02.458Z"
   },
   {
    "duration": 15,
    "start_time": "2022-04-20T20:15:02.466Z"
   },
   {
    "duration": 20,
    "start_time": "2022-04-20T20:15:02.485Z"
   },
   {
    "duration": 17,
    "start_time": "2022-04-20T20:15:02.523Z"
   },
   {
    "duration": 10,
    "start_time": "2022-04-20T20:15:02.543Z"
   },
   {
    "duration": 13,
    "start_time": "2022-04-20T20:15:02.555Z"
   },
   {
    "duration": 13,
    "start_time": "2022-04-20T20:15:02.570Z"
   },
   {
    "duration": 13,
    "start_time": "2022-04-20T20:15:02.585Z"
   },
   {
    "duration": 36,
    "start_time": "2022-04-20T20:15:02.600Z"
   },
   {
    "duration": 13,
    "start_time": "2022-04-20T20:15:02.638Z"
   },
   {
    "duration": 14,
    "start_time": "2022-04-20T20:15:02.653Z"
   },
   {
    "duration": 18,
    "start_time": "2022-04-20T20:15:02.670Z"
   },
   {
    "duration": 16,
    "start_time": "2022-04-20T20:15:02.691Z"
   },
   {
    "duration": 20,
    "start_time": "2022-04-20T20:15:02.710Z"
   },
   {
    "duration": 28,
    "start_time": "2022-04-20T20:15:02.733Z"
   },
   {
    "duration": 16,
    "start_time": "2022-04-20T20:15:02.763Z"
   },
   {
    "duration": 32,
    "start_time": "2022-04-20T20:15:02.781Z"
   },
   {
    "duration": 1514,
    "start_time": "2022-04-21T06:09:01.055Z"
   },
   {
    "duration": 456,
    "start_time": "2022-04-21T06:09:02.571Z"
   },
   {
    "duration": 13,
    "start_time": "2022-04-21T06:09:03.029Z"
   },
   {
    "duration": 39,
    "start_time": "2022-04-21T06:09:03.044Z"
   },
   {
    "duration": 21,
    "start_time": "2022-04-21T06:09:03.084Z"
   },
   {
    "duration": 36,
    "start_time": "2022-04-21T06:09:03.107Z"
   },
   {
    "duration": 11,
    "start_time": "2022-04-21T06:09:03.145Z"
   },
   {
    "duration": 99,
    "start_time": "2022-04-21T06:09:03.158Z"
   },
   {
    "duration": 17,
    "start_time": "2022-04-21T06:09:03.259Z"
   },
   {
    "duration": 13,
    "start_time": "2022-04-21T06:09:03.279Z"
   },
   {
    "duration": 17,
    "start_time": "2022-04-21T06:09:03.293Z"
   },
   {
    "duration": 9,
    "start_time": "2022-04-21T06:09:03.334Z"
   },
   {
    "duration": 26,
    "start_time": "2022-04-21T06:09:03.344Z"
   },
   {
    "duration": 12,
    "start_time": "2022-04-21T06:09:03.371Z"
   },
   {
    "duration": 14,
    "start_time": "2022-04-21T06:09:03.385Z"
   },
   {
    "duration": 13,
    "start_time": "2022-04-21T06:09:03.401Z"
   },
   {
    "duration": 23,
    "start_time": "2022-04-21T06:09:03.416Z"
   },
   {
    "duration": 7,
    "start_time": "2022-04-21T06:09:03.441Z"
   },
   {
    "duration": 16,
    "start_time": "2022-04-21T06:09:03.450Z"
   },
   {
    "duration": 413,
    "start_time": "2022-04-21T06:09:03.468Z"
   },
   {
    "duration": 31,
    "start_time": "2022-04-21T06:09:03.883Z"
   },
   {
    "duration": 53,
    "start_time": "2022-04-21T06:09:03.916Z"
   },
   {
    "duration": 10,
    "start_time": "2022-04-21T06:09:03.971Z"
   },
   {
    "duration": 21,
    "start_time": "2022-04-21T06:09:03.983Z"
   },
   {
    "duration": 29,
    "start_time": "2022-04-21T06:09:04.034Z"
   },
   {
    "duration": 25,
    "start_time": "2022-04-21T06:09:04.065Z"
   },
   {
    "duration": 52,
    "start_time": "2022-04-21T06:09:04.091Z"
   },
   {
    "duration": 4,
    "start_time": "2022-04-21T06:09:04.148Z"
   },
   {
    "duration": 9,
    "start_time": "2022-04-21T06:09:04.153Z"
   },
   {
    "duration": 11,
    "start_time": "2022-04-21T06:09:04.164Z"
   },
   {
    "duration": 31,
    "start_time": "2022-04-21T06:09:04.177Z"
   },
   {
    "duration": 23,
    "start_time": "2022-04-21T06:09:04.210Z"
   },
   {
    "duration": 16,
    "start_time": "2022-04-21T06:09:04.235Z"
   },
   {
    "duration": 26,
    "start_time": "2022-04-21T06:09:04.253Z"
   },
   {
    "duration": 38,
    "start_time": "2022-04-21T06:09:04.281Z"
   },
   {
    "duration": 25,
    "start_time": "2022-04-21T06:09:04.321Z"
   },
   {
    "duration": 8,
    "start_time": "2022-04-21T06:09:04.348Z"
   },
   {
    "duration": 38,
    "start_time": "2022-04-21T06:09:04.357Z"
   },
   {
    "duration": 17,
    "start_time": "2022-04-21T06:09:04.396Z"
   },
   {
    "duration": 25,
    "start_time": "2022-04-21T06:09:04.415Z"
   },
   {
    "duration": 10,
    "start_time": "2022-04-21T06:09:04.442Z"
   },
   {
    "duration": 30,
    "start_time": "2022-04-21T06:09:04.453Z"
   },
   {
    "duration": 26,
    "start_time": "2022-04-21T06:09:04.485Z"
   },
   {
    "duration": 4,
    "start_time": "2022-04-21T06:09:04.512Z"
   },
   {
    "duration": 873,
    "start_time": "2022-04-21T06:09:04.518Z"
   },
   {
    "duration": 12,
    "start_time": "2022-04-21T06:09:05.393Z"
   },
   {
    "duration": 30,
    "start_time": "2022-04-21T06:09:05.407Z"
   },
   {
    "duration": 26,
    "start_time": "2022-04-21T06:09:05.439Z"
   },
   {
    "duration": 736,
    "start_time": "2022-04-21T06:09:05.467Z"
   },
   {
    "duration": 13,
    "start_time": "2022-04-21T06:09:06.205Z"
   },
   {
    "duration": 24,
    "start_time": "2022-04-21T06:09:06.220Z"
   },
   {
    "duration": 22,
    "start_time": "2022-04-21T06:09:06.245Z"
   },
   {
    "duration": 828,
    "start_time": "2022-04-21T06:09:06.269Z"
   },
   {
    "duration": 11,
    "start_time": "2022-04-21T06:09:07.099Z"
   },
   {
    "duration": 32,
    "start_time": "2022-04-21T06:09:07.113Z"
   },
   {
    "duration": 8,
    "start_time": "2022-04-21T06:09:07.147Z"
   },
   {
    "duration": 10,
    "start_time": "2022-04-21T06:09:07.157Z"
   },
   {
    "duration": 8,
    "start_time": "2022-04-21T06:09:07.168Z"
   },
   {
    "duration": 10,
    "start_time": "2022-04-21T06:09:07.178Z"
   },
   {
    "duration": 8,
    "start_time": "2022-04-21T06:09:07.190Z"
   },
   {
    "duration": 35,
    "start_time": "2022-04-21T06:09:07.200Z"
   },
   {
    "duration": 19,
    "start_time": "2022-04-21T06:09:07.237Z"
   },
   {
    "duration": 4,
    "start_time": "2022-04-21T06:09:07.258Z"
   },
   {
    "duration": 7,
    "start_time": "2022-04-21T06:09:07.263Z"
   },
   {
    "duration": 9,
    "start_time": "2022-04-21T06:09:07.272Z"
   },
   {
    "duration": 6,
    "start_time": "2022-04-21T06:09:07.283Z"
   },
   {
    "duration": 7,
    "start_time": "2022-04-21T06:09:07.291Z"
   },
   {
    "duration": 5,
    "start_time": "2022-04-21T06:09:07.333Z"
   },
   {
    "duration": 11,
    "start_time": "2022-04-21T06:09:07.340Z"
   },
   {
    "duration": 8,
    "start_time": "2022-04-21T06:09:07.353Z"
   },
   {
    "duration": 6,
    "start_time": "2022-04-21T06:09:07.363Z"
   },
   {
    "duration": 7,
    "start_time": "2022-04-21T06:09:07.371Z"
   },
   {
    "duration": 6,
    "start_time": "2022-04-21T06:09:07.380Z"
   },
   {
    "duration": 7,
    "start_time": "2022-04-21T06:09:07.387Z"
   },
   {
    "duration": 39,
    "start_time": "2022-04-21T06:09:07.395Z"
   },
   {
    "duration": 5,
    "start_time": "2022-04-21T06:09:07.436Z"
   },
   {
    "duration": 8,
    "start_time": "2022-04-21T06:09:07.443Z"
   },
   {
    "duration": 8,
    "start_time": "2022-04-21T06:09:07.453Z"
   },
   {
    "duration": 15,
    "start_time": "2022-04-21T06:09:07.462Z"
   },
   {
    "duration": 167,
    "start_time": "2022-04-21T06:11:11.977Z"
   },
   {
    "duration": 7,
    "start_time": "2022-04-21T06:11:21.987Z"
   },
   {
    "duration": 107,
    "start_time": "2022-04-21T06:11:28.411Z"
   },
   {
    "duration": 9,
    "start_time": "2022-04-21T06:11:33.622Z"
   },
   {
    "duration": 21,
    "start_time": "2022-04-21T06:26:01.830Z"
   },
   {
    "duration": 309,
    "start_time": "2022-04-21T06:27:32.606Z"
   },
   {
    "duration": 319,
    "start_time": "2022-04-21T06:28:10.556Z"
   },
   {
    "duration": 323,
    "start_time": "2022-04-21T06:29:36.218Z"
   },
   {
    "duration": 315,
    "start_time": "2022-04-21T06:30:00.790Z"
   },
   {
    "duration": 10,
    "start_time": "2022-04-21T06:41:08.109Z"
   },
   {
    "duration": 14,
    "start_time": "2022-04-21T06:41:14.696Z"
   },
   {
    "duration": 1245,
    "start_time": "2022-04-21T06:41:49.758Z"
   },
   {
    "duration": 436,
    "start_time": "2022-04-21T06:41:51.005Z"
   },
   {
    "duration": 13,
    "start_time": "2022-04-21T06:41:51.443Z"
   },
   {
    "duration": 30,
    "start_time": "2022-04-21T06:41:51.458Z"
   },
   {
    "duration": 20,
    "start_time": "2022-04-21T06:41:51.490Z"
   },
   {
    "duration": 41,
    "start_time": "2022-04-21T06:41:51.512Z"
   },
   {
    "duration": 12,
    "start_time": "2022-04-21T06:41:51.555Z"
   },
   {
    "duration": 103,
    "start_time": "2022-04-21T06:41:51.568Z"
   },
   {
    "duration": 15,
    "start_time": "2022-04-21T06:41:51.673Z"
   },
   {
    "duration": 9,
    "start_time": "2022-04-21T06:41:51.691Z"
   },
   {
    "duration": 35,
    "start_time": "2022-04-21T06:41:51.702Z"
   },
   {
    "duration": 9,
    "start_time": "2022-04-21T06:41:51.739Z"
   },
   {
    "duration": 15,
    "start_time": "2022-04-21T06:41:51.750Z"
   },
   {
    "duration": 9,
    "start_time": "2022-04-21T06:41:51.767Z"
   },
   {
    "duration": 12,
    "start_time": "2022-04-21T06:41:51.778Z"
   },
   {
    "duration": 13,
    "start_time": "2022-04-21T06:41:51.792Z"
   },
   {
    "duration": 6,
    "start_time": "2022-04-21T06:41:51.833Z"
   },
   {
    "duration": 6,
    "start_time": "2022-04-21T06:41:51.840Z"
   },
   {
    "duration": 13,
    "start_time": "2022-04-21T06:41:51.848Z"
   },
   {
    "duration": 416,
    "start_time": "2022-04-21T06:41:51.863Z"
   },
   {
    "duration": 32,
    "start_time": "2022-04-21T06:41:52.281Z"
   },
   {
    "duration": 56,
    "start_time": "2022-04-21T06:41:52.315Z"
   },
   {
    "duration": 11,
    "start_time": "2022-04-21T06:41:52.373Z"
   },
   {
    "duration": 23,
    "start_time": "2022-04-21T06:41:52.386Z"
   },
   {
    "duration": 30,
    "start_time": "2022-04-21T06:41:52.434Z"
   },
   {
    "duration": 25,
    "start_time": "2022-04-21T06:41:52.466Z"
   },
   {
    "duration": 60,
    "start_time": "2022-04-21T06:41:52.493Z"
   },
   {
    "duration": 4,
    "start_time": "2022-04-21T06:41:52.559Z"
   },
   {
    "duration": 9,
    "start_time": "2022-04-21T06:41:52.565Z"
   },
   {
    "duration": 11,
    "start_time": "2022-04-21T06:41:52.575Z"
   },
   {
    "duration": 22,
    "start_time": "2022-04-21T06:41:52.587Z"
   },
   {
    "duration": 25,
    "start_time": "2022-04-21T06:41:52.611Z"
   },
   {
    "duration": 6,
    "start_time": "2022-04-21T06:41:52.638Z"
   },
   {
    "duration": 16,
    "start_time": "2022-04-21T06:41:52.645Z"
   },
   {
    "duration": 25,
    "start_time": "2022-04-21T06:41:52.663Z"
   },
   {
    "duration": 49,
    "start_time": "2022-04-21T06:41:52.689Z"
   },
   {
    "duration": 5,
    "start_time": "2022-04-21T06:41:52.740Z"
   },
   {
    "duration": 37,
    "start_time": "2022-04-21T06:41:52.747Z"
   },
   {
    "duration": 56,
    "start_time": "2022-04-21T06:41:52.786Z"
   },
   {
    "duration": 14,
    "start_time": "2022-04-21T06:41:52.845Z"
   },
   {
    "duration": 15,
    "start_time": "2022-04-21T06:41:52.861Z"
   },
   {
    "duration": 13,
    "start_time": "2022-04-21T06:41:52.878Z"
   },
   {
    "duration": 41,
    "start_time": "2022-04-21T06:41:52.893Z"
   },
   {
    "duration": 20,
    "start_time": "2022-04-21T06:41:52.935Z"
   },
   {
    "duration": 4,
    "start_time": "2022-04-21T06:41:52.957Z"
   },
   {
    "duration": 820,
    "start_time": "2022-04-21T06:41:52.963Z"
   },
   {
    "duration": 331,
    "start_time": "2022-04-21T06:41:53.785Z"
   },
   {
    "duration": 21,
    "start_time": "2022-04-21T06:41:54.118Z"
   },
   {
    "duration": 13,
    "start_time": "2022-04-21T06:41:54.140Z"
   },
   {
    "duration": 28,
    "start_time": "2022-04-21T06:41:54.155Z"
   },
   {
    "duration": 848,
    "start_time": "2022-04-21T06:41:54.185Z"
   },
   {
    "duration": 14,
    "start_time": "2022-04-21T06:41:55.035Z"
   },
   {
    "duration": 14,
    "start_time": "2022-04-21T06:41:55.051Z"
   },
   {
    "duration": 22,
    "start_time": "2022-04-21T06:41:55.066Z"
   },
   {
    "duration": 743,
    "start_time": "2022-04-21T06:41:55.090Z"
   },
   {
    "duration": 11,
    "start_time": "2022-04-21T06:41:55.835Z"
   },
   {
    "duration": 13,
    "start_time": "2022-04-21T06:41:55.848Z"
   },
   {
    "duration": 9,
    "start_time": "2022-04-21T06:41:55.863Z"
   },
   {
    "duration": 6,
    "start_time": "2022-04-21T06:41:55.874Z"
   },
   {
    "duration": 7,
    "start_time": "2022-04-21T06:41:55.882Z"
   },
   {
    "duration": 6,
    "start_time": "2022-04-21T06:41:55.891Z"
   },
   {
    "duration": 13,
    "start_time": "2022-04-21T06:41:55.934Z"
   },
   {
    "duration": 9,
    "start_time": "2022-04-21T06:41:55.949Z"
   },
   {
    "duration": 27,
    "start_time": "2022-04-21T06:41:55.960Z"
   },
   {
    "duration": 5,
    "start_time": "2022-04-21T06:41:55.989Z"
   },
   {
    "duration": 7,
    "start_time": "2022-04-21T06:41:55.996Z"
   },
   {
    "duration": 29,
    "start_time": "2022-04-21T06:41:56.005Z"
   },
   {
    "duration": 5,
    "start_time": "2022-04-21T06:41:56.036Z"
   },
   {
    "duration": 6,
    "start_time": "2022-04-21T06:41:56.043Z"
   },
   {
    "duration": 12,
    "start_time": "2022-04-21T06:41:56.051Z"
   },
   {
    "duration": 9,
    "start_time": "2022-04-21T06:41:56.065Z"
   },
   {
    "duration": 8,
    "start_time": "2022-04-21T06:41:56.076Z"
   },
   {
    "duration": 8,
    "start_time": "2022-04-21T06:41:56.086Z"
   },
   {
    "duration": 11,
    "start_time": "2022-04-21T06:41:56.095Z"
   },
   {
    "duration": 31,
    "start_time": "2022-04-21T06:41:56.107Z"
   },
   {
    "duration": 7,
    "start_time": "2022-04-21T06:41:56.140Z"
   },
   {
    "duration": 10,
    "start_time": "2022-04-21T06:41:56.150Z"
   },
   {
    "duration": 8,
    "start_time": "2022-04-21T06:41:56.162Z"
   },
   {
    "duration": 10,
    "start_time": "2022-04-21T06:41:56.173Z"
   },
   {
    "duration": 7,
    "start_time": "2022-04-21T06:41:56.185Z"
   },
   {
    "duration": 45,
    "start_time": "2022-04-21T06:41:56.194Z"
   },
   {
    "duration": 45,
    "start_time": "2022-04-21T10:25:25.084Z"
   },
   {
    "duration": 1720,
    "start_time": "2022-04-21T10:25:35.499Z"
   },
   {
    "duration": 402,
    "start_time": "2022-04-21T10:25:37.221Z"
   },
   {
    "duration": 12,
    "start_time": "2022-04-21T10:25:37.624Z"
   },
   {
    "duration": 29,
    "start_time": "2022-04-21T10:25:37.638Z"
   },
   {
    "duration": 18,
    "start_time": "2022-04-21T10:25:37.669Z"
   },
   {
    "duration": 25,
    "start_time": "2022-04-21T10:25:37.688Z"
   },
   {
    "duration": 9,
    "start_time": "2022-04-21T10:25:37.715Z"
   },
   {
    "duration": 91,
    "start_time": "2022-04-21T10:25:37.726Z"
   },
   {
    "duration": 15,
    "start_time": "2022-04-21T10:25:37.818Z"
   },
   {
    "duration": 8,
    "start_time": "2022-04-21T10:25:37.836Z"
   },
   {
    "duration": 17,
    "start_time": "2022-04-21T10:25:37.846Z"
   },
   {
    "duration": 9,
    "start_time": "2022-04-21T10:25:37.864Z"
   },
   {
    "duration": 38,
    "start_time": "2022-04-21T10:25:37.875Z"
   },
   {
    "duration": 9,
    "start_time": "2022-04-21T10:25:37.914Z"
   },
   {
    "duration": 13,
    "start_time": "2022-04-21T10:25:37.925Z"
   },
   {
    "duration": 10,
    "start_time": "2022-04-21T10:25:37.940Z"
   },
   {
    "duration": 8,
    "start_time": "2022-04-21T10:25:37.952Z"
   },
   {
    "duration": 4,
    "start_time": "2022-04-21T10:25:37.961Z"
   },
   {
    "duration": 35,
    "start_time": "2022-04-21T10:25:37.966Z"
   },
   {
    "duration": 446,
    "start_time": "2022-04-21T10:25:38.004Z"
   },
   {
    "duration": 26,
    "start_time": "2022-04-21T10:25:38.451Z"
   },
   {
    "duration": 60,
    "start_time": "2022-04-21T10:25:38.478Z"
   },
   {
    "duration": 11,
    "start_time": "2022-04-21T10:25:38.539Z"
   },
   {
    "duration": 25,
    "start_time": "2022-04-21T10:25:38.551Z"
   },
   {
    "duration": 54,
    "start_time": "2022-04-21T10:25:38.577Z"
   },
   {
    "duration": 26,
    "start_time": "2022-04-21T10:25:38.633Z"
   },
   {
    "duration": 52,
    "start_time": "2022-04-21T10:25:38.661Z"
   },
   {
    "duration": 4,
    "start_time": "2022-04-21T10:25:38.719Z"
   },
   {
    "duration": 6,
    "start_time": "2022-04-21T10:25:38.725Z"
   },
   {
    "duration": 11,
    "start_time": "2022-04-21T10:25:38.733Z"
   },
   {
    "duration": 26,
    "start_time": "2022-04-21T10:25:38.746Z"
   },
   {
    "duration": 27,
    "start_time": "2022-04-21T10:25:38.774Z"
   },
   {
    "duration": 7,
    "start_time": "2022-04-21T10:25:38.802Z"
   },
   {
    "duration": 17,
    "start_time": "2022-04-21T10:25:38.811Z"
   },
   {
    "duration": 20,
    "start_time": "2022-04-21T10:25:38.830Z"
   },
   {
    "duration": 21,
    "start_time": "2022-04-21T10:25:38.852Z"
   },
   {
    "duration": 28,
    "start_time": "2022-04-21T10:25:38.874Z"
   },
   {
    "duration": 27,
    "start_time": "2022-04-21T10:25:38.904Z"
   },
   {
    "duration": 23,
    "start_time": "2022-04-21T10:25:38.933Z"
   },
   {
    "duration": 9,
    "start_time": "2022-04-21T10:25:38.958Z"
   },
   {
    "duration": 34,
    "start_time": "2022-04-21T10:25:38.969Z"
   },
   {
    "duration": 8,
    "start_time": "2022-04-21T10:25:39.005Z"
   },
   {
    "duration": 14,
    "start_time": "2022-04-21T10:25:39.016Z"
   },
   {
    "duration": 19,
    "start_time": "2022-04-21T10:25:39.032Z"
   },
   {
    "duration": 4,
    "start_time": "2022-04-21T10:25:39.053Z"
   },
   {
    "duration": 996,
    "start_time": "2022-04-21T10:25:39.059Z"
   },
   {
    "duration": 261,
    "start_time": "2022-04-21T10:25:40.057Z"
   },
   {
    "duration": 10,
    "start_time": "2022-04-21T10:25:40.320Z"
   },
   {
    "duration": 12,
    "start_time": "2022-04-21T10:25:40.332Z"
   },
   {
    "duration": 20,
    "start_time": "2022-04-21T10:25:40.346Z"
   },
   {
    "duration": 641,
    "start_time": "2022-04-21T10:25:40.401Z"
   },
   {
    "duration": 12,
    "start_time": "2022-04-21T10:25:41.044Z"
   },
   {
    "duration": 12,
    "start_time": "2022-04-21T10:25:41.058Z"
   },
   {
    "duration": 38,
    "start_time": "2022-04-21T10:25:41.071Z"
   },
   {
    "duration": 563,
    "start_time": "2022-04-21T10:25:41.111Z"
   },
   {
    "duration": 9,
    "start_time": "2022-04-21T10:25:41.676Z"
   },
   {
    "duration": 11,
    "start_time": "2022-04-21T10:25:41.699Z"
   },
   {
    "duration": 10,
    "start_time": "2022-04-21T10:25:41.712Z"
   },
   {
    "duration": 5,
    "start_time": "2022-04-21T10:25:41.724Z"
   },
   {
    "duration": 7,
    "start_time": "2022-04-21T10:25:41.730Z"
   },
   {
    "duration": 6,
    "start_time": "2022-04-21T10:25:41.739Z"
   },
   {
    "duration": 5,
    "start_time": "2022-04-21T10:25:41.747Z"
   },
   {
    "duration": 6,
    "start_time": "2022-04-21T10:25:41.754Z"
   },
   {
    "duration": 52,
    "start_time": "2022-04-21T10:25:41.762Z"
   },
   {
    "duration": 4,
    "start_time": "2022-04-21T10:25:41.816Z"
   },
   {
    "duration": 6,
    "start_time": "2022-04-21T10:25:41.821Z"
   },
   {
    "duration": 4,
    "start_time": "2022-04-21T10:25:41.829Z"
   },
   {
    "duration": 4,
    "start_time": "2022-04-21T10:25:41.835Z"
   },
   {
    "duration": 5,
    "start_time": "2022-04-21T10:25:41.841Z"
   },
   {
    "duration": 8,
    "start_time": "2022-04-21T10:25:41.848Z"
   },
   {
    "duration": 48,
    "start_time": "2022-04-21T10:25:41.858Z"
   },
   {
    "duration": 8,
    "start_time": "2022-04-21T10:25:41.907Z"
   },
   {
    "duration": 6,
    "start_time": "2022-04-21T10:25:41.917Z"
   },
   {
    "duration": 7,
    "start_time": "2022-04-21T10:25:41.925Z"
   },
   {
    "duration": 12,
    "start_time": "2022-04-21T10:25:41.933Z"
   },
   {
    "duration": 5,
    "start_time": "2022-04-21T10:25:41.947Z"
   },
   {
    "duration": 6,
    "start_time": "2022-04-21T10:25:41.953Z"
   },
   {
    "duration": 8,
    "start_time": "2022-04-21T10:25:41.960Z"
   },
   {
    "duration": 6,
    "start_time": "2022-04-21T10:25:41.970Z"
   },
   {
    "duration": 25,
    "start_time": "2022-04-21T10:25:41.978Z"
   },
   {
    "duration": 11,
    "start_time": "2022-04-21T10:25:42.004Z"
   },
   {
    "duration": 26,
    "start_time": "2022-04-21T10:26:29.992Z"
   },
   {
    "duration": 181,
    "start_time": "2022-04-21T10:26:48.928Z"
   },
   {
    "duration": 22,
    "start_time": "2022-04-21T10:26:53.301Z"
   },
   {
    "duration": 4,
    "start_time": "2022-04-21T10:30:02.409Z"
   },
   {
    "duration": 4,
    "start_time": "2022-04-21T10:30:16.600Z"
   },
   {
    "duration": 7,
    "start_time": "2022-04-21T10:31:22.019Z"
   },
   {
    "duration": 5,
    "start_time": "2022-04-21T10:31:51.159Z"
   },
   {
    "duration": 5,
    "start_time": "2022-04-21T10:32:13.082Z"
   },
   {
    "duration": 4,
    "start_time": "2022-04-21T10:32:27.312Z"
   },
   {
    "duration": 16,
    "start_time": "2022-04-21T10:32:58.618Z"
   },
   {
    "duration": 4,
    "start_time": "2022-04-21T10:33:02.084Z"
   },
   {
    "duration": 5,
    "start_time": "2022-04-21T10:33:04.014Z"
   },
   {
    "duration": 3132,
    "start_time": "2022-04-21T10:33:05.947Z"
   },
   {
    "duration": 10,
    "start_time": "2022-04-21T10:34:30.515Z"
   },
   {
    "duration": 8,
    "start_time": "2022-04-21T10:34:39.752Z"
   },
   {
    "duration": 3,
    "start_time": "2022-04-21T10:34:44.795Z"
   },
   {
    "duration": 9,
    "start_time": "2022-04-21T10:34:47.189Z"
   },
   {
    "duration": 8,
    "start_time": "2022-04-21T10:34:50.263Z"
   },
   {
    "duration": 17,
    "start_time": "2022-04-21T10:34:54.853Z"
   },
   {
    "duration": 5,
    "start_time": "2022-04-21T10:34:57.706Z"
   },
   {
    "duration": 1263,
    "start_time": "2022-04-21T10:35:05.237Z"
   },
   {
    "duration": 410,
    "start_time": "2022-04-21T10:35:06.503Z"
   },
   {
    "duration": 11,
    "start_time": "2022-04-21T10:35:06.916Z"
   },
   {
    "duration": 23,
    "start_time": "2022-04-21T10:35:06.930Z"
   },
   {
    "duration": 18,
    "start_time": "2022-04-21T10:35:06.955Z"
   },
   {
    "duration": 42,
    "start_time": "2022-04-21T10:35:06.974Z"
   },
   {
    "duration": 11,
    "start_time": "2022-04-21T10:35:07.017Z"
   },
   {
    "duration": 90,
    "start_time": "2022-04-21T10:35:07.029Z"
   },
   {
    "duration": 13,
    "start_time": "2022-04-21T10:35:07.121Z"
   },
   {
    "duration": 8,
    "start_time": "2022-04-21T10:35:07.136Z"
   },
   {
    "duration": 14,
    "start_time": "2022-04-21T10:35:07.146Z"
   },
   {
    "duration": 7,
    "start_time": "2022-04-21T10:35:07.161Z"
   },
   {
    "duration": 12,
    "start_time": "2022-04-21T10:35:07.170Z"
   },
   {
    "duration": 10,
    "start_time": "2022-04-21T10:35:07.203Z"
   },
   {
    "duration": 10,
    "start_time": "2022-04-21T10:35:07.215Z"
   },
   {
    "duration": 10,
    "start_time": "2022-04-21T10:35:07.226Z"
   },
   {
    "duration": 6,
    "start_time": "2022-04-21T10:35:07.238Z"
   },
   {
    "duration": 3,
    "start_time": "2022-04-21T10:35:07.246Z"
   },
   {
    "duration": 12,
    "start_time": "2022-04-21T10:35:07.250Z"
   },
   {
    "duration": 413,
    "start_time": "2022-04-21T10:35:07.263Z"
   },
   {
    "duration": 42,
    "start_time": "2022-04-21T10:35:07.677Z"
   },
   {
    "duration": 35,
    "start_time": "2022-04-21T10:35:07.721Z"
   },
   {
    "duration": 7,
    "start_time": "2022-04-21T10:35:07.758Z"
   },
   {
    "duration": 39,
    "start_time": "2022-04-21T10:35:07.766Z"
   },
   {
    "duration": 26,
    "start_time": "2022-04-21T10:35:07.808Z"
   },
   {
    "duration": 23,
    "start_time": "2022-04-21T10:35:07.835Z"
   },
   {
    "duration": 42,
    "start_time": "2022-04-21T10:35:07.860Z"
   },
   {
    "duration": 4,
    "start_time": "2022-04-21T10:35:07.906Z"
   },
   {
    "duration": 9,
    "start_time": "2022-04-21T10:35:07.911Z"
   },
   {
    "duration": 10,
    "start_time": "2022-04-21T10:35:07.922Z"
   },
   {
    "duration": 18,
    "start_time": "2022-04-21T10:35:07.933Z"
   },
   {
    "duration": 4,
    "start_time": "2022-04-21T10:35:07.953Z"
   },
   {
    "duration": 5,
    "start_time": "2022-04-21T10:35:07.959Z"
   },
   {
    "duration": 6,
    "start_time": "2022-04-21T10:35:07.966Z"
   },
   {
    "duration": 4,
    "start_time": "2022-04-21T10:35:07.999Z"
   },
   {
    "duration": 22,
    "start_time": "2022-04-21T10:35:08.005Z"
   },
   {
    "duration": 16,
    "start_time": "2022-04-21T10:35:08.029Z"
   },
   {
    "duration": 19,
    "start_time": "2022-04-21T10:35:08.046Z"
   },
   {
    "duration": 20,
    "start_time": "2022-04-21T10:35:08.066Z"
   },
   {
    "duration": 13,
    "start_time": "2022-04-21T10:35:08.088Z"
   },
   {
    "duration": 37,
    "start_time": "2022-04-21T10:35:08.103Z"
   },
   {
    "duration": 12,
    "start_time": "2022-04-21T10:35:08.142Z"
   },
   {
    "duration": 8,
    "start_time": "2022-04-21T10:35:08.156Z"
   },
   {
    "duration": 14,
    "start_time": "2022-04-21T10:35:08.165Z"
   },
   {
    "duration": 9,
    "start_time": "2022-04-21T10:35:08.180Z"
   },
   {
    "duration": 25,
    "start_time": "2022-04-21T10:35:08.190Z"
   },
   {
    "duration": 18,
    "start_time": "2022-04-21T10:35:08.217Z"
   },
   {
    "duration": 4,
    "start_time": "2022-04-21T10:35:08.236Z"
   },
   {
    "duration": 703,
    "start_time": "2022-04-21T10:35:08.241Z"
   },
   {
    "duration": 270,
    "start_time": "2022-04-21T10:35:08.945Z"
   },
   {
    "duration": 9,
    "start_time": "2022-04-21T10:35:09.217Z"
   },
   {
    "duration": 9,
    "start_time": "2022-04-21T10:35:09.228Z"
   },
   {
    "duration": 19,
    "start_time": "2022-04-21T10:35:09.238Z"
   },
   {
    "duration": 680,
    "start_time": "2022-04-21T10:35:09.258Z"
   },
   {
    "duration": 12,
    "start_time": "2022-04-21T10:35:09.940Z"
   },
   {
    "duration": 11,
    "start_time": "2022-04-21T10:35:09.954Z"
   },
   {
    "duration": 49,
    "start_time": "2022-04-21T10:35:09.967Z"
   },
   {
    "duration": 575,
    "start_time": "2022-04-21T10:35:10.018Z"
   },
   {
    "duration": 10,
    "start_time": "2022-04-21T10:35:10.600Z"
   },
   {
    "duration": 18,
    "start_time": "2022-04-21T10:35:10.611Z"
   },
   {
    "duration": 7,
    "start_time": "2022-04-21T10:35:10.630Z"
   },
   {
    "duration": 6,
    "start_time": "2022-04-21T10:35:10.639Z"
   },
   {
    "duration": 7,
    "start_time": "2022-04-21T10:35:10.647Z"
   },
   {
    "duration": 7,
    "start_time": "2022-04-21T10:35:10.655Z"
   },
   {
    "duration": 8,
    "start_time": "2022-04-21T10:35:10.663Z"
   },
   {
    "duration": 29,
    "start_time": "2022-04-21T10:35:10.672Z"
   },
   {
    "duration": 22,
    "start_time": "2022-04-21T10:35:10.703Z"
   },
   {
    "duration": 4,
    "start_time": "2022-04-21T10:35:10.727Z"
   },
   {
    "duration": 6,
    "start_time": "2022-04-21T10:35:10.733Z"
   },
   {
    "duration": 4,
    "start_time": "2022-04-21T10:35:10.741Z"
   },
   {
    "duration": 5,
    "start_time": "2022-04-21T10:35:10.747Z"
   },
   {
    "duration": 6,
    "start_time": "2022-04-21T10:35:10.754Z"
   },
   {
    "duration": 6,
    "start_time": "2022-04-21T10:35:10.801Z"
   },
   {
    "duration": 14,
    "start_time": "2022-04-21T10:35:10.809Z"
   },
   {
    "duration": 5,
    "start_time": "2022-04-21T10:35:10.825Z"
   },
   {
    "duration": 8,
    "start_time": "2022-04-21T10:35:10.831Z"
   },
   {
    "duration": 5,
    "start_time": "2022-04-21T10:35:10.840Z"
   },
   {
    "duration": 6,
    "start_time": "2022-04-21T10:35:10.847Z"
   },
   {
    "duration": 12,
    "start_time": "2022-04-21T10:35:10.854Z"
   },
   {
    "duration": 5,
    "start_time": "2022-04-21T10:35:10.867Z"
   },
   {
    "duration": 6,
    "start_time": "2022-04-21T10:35:10.873Z"
   },
   {
    "duration": 6,
    "start_time": "2022-04-21T10:35:10.909Z"
   },
   {
    "duration": 9,
    "start_time": "2022-04-21T10:35:10.917Z"
   },
   {
    "duration": 15,
    "start_time": "2022-04-21T10:35:10.927Z"
   },
   {
    "duration": 10,
    "start_time": "2022-04-21T10:42:12.138Z"
   },
   {
    "duration": 11,
    "start_time": "2022-04-21T10:42:35.088Z"
   },
   {
    "duration": 23,
    "start_time": "2022-04-21T10:43:11.683Z"
   },
   {
    "duration": 1427,
    "start_time": "2022-04-21T10:43:37.209Z"
   },
   {
    "duration": 393,
    "start_time": "2022-04-21T10:43:38.638Z"
   },
   {
    "duration": 11,
    "start_time": "2022-04-21T10:43:39.034Z"
   },
   {
    "duration": 25,
    "start_time": "2022-04-21T10:43:39.048Z"
   },
   {
    "duration": 28,
    "start_time": "2022-04-21T10:43:39.075Z"
   },
   {
    "duration": 34,
    "start_time": "2022-04-21T10:43:39.105Z"
   },
   {
    "duration": 14,
    "start_time": "2022-04-21T10:43:39.142Z"
   },
   {
    "duration": 98,
    "start_time": "2022-04-21T10:43:39.158Z"
   },
   {
    "duration": 15,
    "start_time": "2022-04-21T10:43:39.257Z"
   },
   {
    "duration": 9,
    "start_time": "2022-04-21T10:43:39.274Z"
   },
   {
    "duration": 11,
    "start_time": "2022-04-21T10:43:39.300Z"
   },
   {
    "duration": 8,
    "start_time": "2022-04-21T10:43:39.312Z"
   },
   {
    "duration": 13,
    "start_time": "2022-04-21T10:43:39.322Z"
   },
   {
    "duration": 8,
    "start_time": "2022-04-21T10:43:39.336Z"
   },
   {
    "duration": 13,
    "start_time": "2022-04-21T10:43:39.346Z"
   },
   {
    "duration": 45,
    "start_time": "2022-04-21T10:43:39.362Z"
   },
   {
    "duration": 12,
    "start_time": "2022-04-21T10:43:39.409Z"
   },
   {
    "duration": 3,
    "start_time": "2022-04-21T10:43:39.424Z"
   },
   {
    "duration": 13,
    "start_time": "2022-04-21T10:43:39.429Z"
   },
   {
    "duration": 544,
    "start_time": "2022-04-21T10:43:39.445Z"
   },
   {
    "duration": 38,
    "start_time": "2022-04-21T10:43:40.000Z"
   },
   {
    "duration": 73,
    "start_time": "2022-04-21T10:43:40.039Z"
   },
   {
    "duration": 10,
    "start_time": "2022-04-21T10:43:40.114Z"
   },
   {
    "duration": 19,
    "start_time": "2022-04-21T10:43:40.127Z"
   },
   {
    "duration": 58,
    "start_time": "2022-04-21T10:43:40.148Z"
   },
   {
    "duration": 30,
    "start_time": "2022-04-21T10:43:40.208Z"
   },
   {
    "duration": 31,
    "start_time": "2022-04-21T10:43:40.241Z"
   },
   {
    "duration": 23,
    "start_time": "2022-04-21T10:43:40.278Z"
   },
   {
    "duration": 7,
    "start_time": "2022-04-21T10:43:40.303Z"
   },
   {
    "duration": 9,
    "start_time": "2022-04-21T10:43:40.312Z"
   },
   {
    "duration": 25,
    "start_time": "2022-04-21T10:43:40.323Z"
   },
   {
    "duration": 5,
    "start_time": "2022-04-21T10:43:40.349Z"
   },
   {
    "duration": 5,
    "start_time": "2022-04-21T10:43:40.355Z"
   },
   {
    "duration": 49,
    "start_time": "2022-04-21T10:43:40.362Z"
   },
   {
    "duration": 22,
    "start_time": "2022-04-21T10:43:40.413Z"
   },
   {
    "duration": 21,
    "start_time": "2022-04-21T10:43:40.437Z"
   },
   {
    "duration": 4,
    "start_time": "2022-04-21T10:43:40.460Z"
   },
   {
    "duration": 58,
    "start_time": "2022-04-21T10:43:40.465Z"
   },
   {
    "duration": 9,
    "start_time": "2022-04-21T10:43:40.525Z"
   },
   {
    "duration": 11,
    "start_time": "2022-04-21T10:43:40.536Z"
   },
   {
    "duration": 10,
    "start_time": "2022-04-21T10:43:40.549Z"
   },
   {
    "duration": 11,
    "start_time": "2022-04-21T10:43:40.561Z"
   },
   {
    "duration": 35,
    "start_time": "2022-04-21T10:43:40.573Z"
   },
   {
    "duration": 28,
    "start_time": "2022-04-21T10:43:40.611Z"
   },
   {
    "duration": 5,
    "start_time": "2022-04-21T10:43:40.641Z"
   },
   {
    "duration": 730,
    "start_time": "2022-04-21T10:43:40.648Z"
   },
   {
    "duration": 272,
    "start_time": "2022-04-21T10:43:41.381Z"
   },
   {
    "duration": 11,
    "start_time": "2022-04-21T10:43:41.655Z"
   },
   {
    "duration": 12,
    "start_time": "2022-04-21T10:43:41.667Z"
   },
   {
    "duration": 40,
    "start_time": "2022-04-21T10:43:41.681Z"
   },
   {
    "duration": 766,
    "start_time": "2022-04-21T10:43:41.722Z"
   },
   {
    "duration": 17,
    "start_time": "2022-04-21T10:43:42.490Z"
   },
   {
    "duration": 11,
    "start_time": "2022-04-21T10:43:42.509Z"
   },
   {
    "duration": 24,
    "start_time": "2022-04-21T10:43:42.522Z"
   },
   {
    "duration": 597,
    "start_time": "2022-04-21T10:43:42.548Z"
   },
   {
    "duration": 9,
    "start_time": "2022-04-21T10:43:43.147Z"
   },
   {
    "duration": 11,
    "start_time": "2022-04-21T10:43:43.158Z"
   },
   {
    "duration": 30,
    "start_time": "2022-04-21T10:43:43.170Z"
   },
   {
    "duration": 8,
    "start_time": "2022-04-21T10:43:43.202Z"
   },
   {
    "duration": 6,
    "start_time": "2022-04-21T10:43:43.211Z"
   },
   {
    "duration": 4,
    "start_time": "2022-04-21T10:43:43.219Z"
   },
   {
    "duration": 6,
    "start_time": "2022-04-21T10:43:43.225Z"
   },
   {
    "duration": 6,
    "start_time": "2022-04-21T10:43:43.232Z"
   },
   {
    "duration": 17,
    "start_time": "2022-04-21T10:43:43.239Z"
   },
   {
    "duration": 5,
    "start_time": "2022-04-21T10:43:43.257Z"
   },
   {
    "duration": 5,
    "start_time": "2022-04-21T10:43:43.301Z"
   },
   {
    "duration": 5,
    "start_time": "2022-04-21T10:43:43.308Z"
   },
   {
    "duration": 10,
    "start_time": "2022-04-21T10:43:43.315Z"
   },
   {
    "duration": 5,
    "start_time": "2022-04-21T10:43:43.327Z"
   },
   {
    "duration": 12,
    "start_time": "2022-04-21T10:43:43.334Z"
   },
   {
    "duration": 4,
    "start_time": "2022-04-21T10:43:43.348Z"
   },
   {
    "duration": 6,
    "start_time": "2022-04-21T10:43:43.354Z"
   },
   {
    "duration": 7,
    "start_time": "2022-04-21T10:43:43.362Z"
   },
   {
    "duration": 33,
    "start_time": "2022-04-21T10:43:43.370Z"
   },
   {
    "duration": 6,
    "start_time": "2022-04-21T10:43:43.405Z"
   },
   {
    "duration": 5,
    "start_time": "2022-04-21T10:43:43.413Z"
   },
   {
    "duration": 7,
    "start_time": "2022-04-21T10:43:43.419Z"
   },
   {
    "duration": 8,
    "start_time": "2022-04-21T10:43:43.428Z"
   },
   {
    "duration": 7,
    "start_time": "2022-04-21T10:43:43.438Z"
   },
   {
    "duration": 8,
    "start_time": "2022-04-21T10:43:43.447Z"
   },
   {
    "duration": 44,
    "start_time": "2022-04-21T10:43:43.457Z"
   },
   {
    "duration": 10,
    "start_time": "2022-04-21T10:44:29.874Z"
   },
   {
    "duration": 221,
    "start_time": "2022-04-21T10:50:09.132Z"
   },
   {
    "duration": 1273,
    "start_time": "2022-04-21T10:50:46.043Z"
   },
   {
    "duration": 460,
    "start_time": "2022-04-21T10:50:47.319Z"
   },
   {
    "duration": 12,
    "start_time": "2022-04-21T10:50:47.780Z"
   },
   {
    "duration": 30,
    "start_time": "2022-04-21T10:50:47.795Z"
   },
   {
    "duration": 19,
    "start_time": "2022-04-21T10:50:47.827Z"
   },
   {
    "duration": 31,
    "start_time": "2022-04-21T10:50:47.848Z"
   },
   {
    "duration": 11,
    "start_time": "2022-04-21T10:50:47.900Z"
   },
   {
    "duration": 102,
    "start_time": "2022-04-21T10:50:47.912Z"
   },
   {
    "duration": 15,
    "start_time": "2022-04-21T10:50:48.016Z"
   },
   {
    "duration": 10,
    "start_time": "2022-04-21T10:50:48.036Z"
   },
   {
    "duration": 14,
    "start_time": "2022-04-21T10:50:48.048Z"
   },
   {
    "duration": 36,
    "start_time": "2022-04-21T10:50:48.064Z"
   },
   {
    "duration": 12,
    "start_time": "2022-04-21T10:50:48.102Z"
   },
   {
    "duration": 12,
    "start_time": "2022-04-21T10:50:48.117Z"
   },
   {
    "duration": 15,
    "start_time": "2022-04-21T10:50:48.130Z"
   },
   {
    "duration": 9,
    "start_time": "2022-04-21T10:50:48.146Z"
   },
   {
    "duration": 9,
    "start_time": "2022-04-21T10:50:48.156Z"
   },
   {
    "duration": 3,
    "start_time": "2022-04-21T10:50:48.166Z"
   },
   {
    "duration": 35,
    "start_time": "2022-04-21T10:50:48.171Z"
   },
   {
    "duration": 352,
    "start_time": "2022-04-21T10:50:48.208Z"
   },
   {
    "duration": 39,
    "start_time": "2022-04-21T10:50:48.562Z"
   },
   {
    "duration": 36,
    "start_time": "2022-04-21T10:50:48.603Z"
   },
   {
    "duration": 11,
    "start_time": "2022-04-21T10:50:48.641Z"
   },
   {
    "duration": 31,
    "start_time": "2022-04-21T10:50:48.653Z"
   },
   {
    "duration": 43,
    "start_time": "2022-04-21T10:50:48.701Z"
   },
   {
    "duration": 29,
    "start_time": "2022-04-21T10:50:48.746Z"
   },
   {
    "duration": 55,
    "start_time": "2022-04-21T10:50:48.777Z"
   },
   {
    "duration": 4,
    "start_time": "2022-04-21T10:50:48.839Z"
   },
   {
    "duration": 7,
    "start_time": "2022-04-21T10:50:48.845Z"
   },
   {
    "duration": 9,
    "start_time": "2022-04-21T10:50:48.854Z"
   },
   {
    "duration": 46,
    "start_time": "2022-04-21T10:50:48.866Z"
   },
   {
    "duration": 5,
    "start_time": "2022-04-21T10:50:48.914Z"
   },
   {
    "duration": 9,
    "start_time": "2022-04-21T10:50:48.921Z"
   },
   {
    "duration": 24,
    "start_time": "2022-04-21T10:50:48.931Z"
   },
   {
    "duration": 33,
    "start_time": "2022-04-21T10:50:48.957Z"
   },
   {
    "duration": 22,
    "start_time": "2022-04-21T10:50:48.991Z"
   },
   {
    "duration": 4,
    "start_time": "2022-04-21T10:50:49.014Z"
   },
   {
    "duration": 32,
    "start_time": "2022-04-21T10:50:49.019Z"
   },
   {
    "duration": 12,
    "start_time": "2022-04-21T10:50:49.052Z"
   },
   {
    "duration": 8,
    "start_time": "2022-04-21T10:50:49.066Z"
   },
   {
    "duration": 27,
    "start_time": "2022-04-21T10:50:49.076Z"
   },
   {
    "duration": 11,
    "start_time": "2022-04-21T10:50:49.105Z"
   },
   {
    "duration": 12,
    "start_time": "2022-04-21T10:50:49.118Z"
   },
   {
    "duration": 22,
    "start_time": "2022-04-21T10:50:49.132Z"
   },
   {
    "duration": 3,
    "start_time": "2022-04-21T10:50:49.156Z"
   },
   {
    "duration": 925,
    "start_time": "2022-04-21T10:50:49.161Z"
   },
   {
    "duration": 250,
    "start_time": "2022-04-21T10:50:50.089Z"
   },
   {
    "duration": 289,
    "start_time": "2022-04-21T10:50:50.340Z"
   },
   {
    "duration": 11,
    "start_time": "2022-04-21T10:50:50.631Z"
   },
   {
    "duration": 13,
    "start_time": "2022-04-21T10:50:50.644Z"
   },
   {
    "duration": 49,
    "start_time": "2022-04-21T10:50:50.659Z"
   },
   {
    "duration": 720,
    "start_time": "2022-04-21T10:50:50.710Z"
   },
   {
    "duration": 20,
    "start_time": "2022-04-21T10:50:51.432Z"
   },
   {
    "duration": 14,
    "start_time": "2022-04-21T10:50:51.454Z"
   },
   {
    "duration": 44,
    "start_time": "2022-04-21T10:50:51.469Z"
   },
   {
    "duration": 707,
    "start_time": "2022-04-21T10:50:51.515Z"
   },
   {
    "duration": 13,
    "start_time": "2022-04-21T10:50:52.224Z"
   },
   {
    "duration": 19,
    "start_time": "2022-04-21T10:50:52.239Z"
   },
   {
    "duration": 8,
    "start_time": "2022-04-21T10:50:52.260Z"
   },
   {
    "duration": 32,
    "start_time": "2022-04-21T10:50:52.270Z"
   },
   {
    "duration": 14,
    "start_time": "2022-04-21T10:50:52.303Z"
   },
   {
    "duration": 8,
    "start_time": "2022-04-21T10:50:52.319Z"
   },
   {
    "duration": 14,
    "start_time": "2022-04-21T10:50:52.329Z"
   },
   {
    "duration": 9,
    "start_time": "2022-04-21T10:50:52.345Z"
   },
   {
    "duration": 85,
    "start_time": "2022-04-21T10:50:52.356Z"
   },
   {
    "duration": 9,
    "start_time": "2022-04-21T10:50:52.443Z"
   },
   {
    "duration": 15,
    "start_time": "2022-04-21T10:50:52.453Z"
   },
   {
    "duration": 5,
    "start_time": "2022-04-21T10:50:52.470Z"
   },
   {
    "duration": 11,
    "start_time": "2022-04-21T10:50:52.478Z"
   },
   {
    "duration": 104,
    "start_time": "2022-04-21T10:50:52.491Z"
   },
   {
    "duration": 25,
    "start_time": "2022-04-21T10:50:52.597Z"
   },
   {
    "duration": 18,
    "start_time": "2022-04-21T10:50:52.623Z"
   },
   {
    "duration": 8,
    "start_time": "2022-04-21T10:50:52.643Z"
   },
   {
    "duration": 12,
    "start_time": "2022-04-21T10:50:52.654Z"
   },
   {
    "duration": 5,
    "start_time": "2022-04-21T10:50:52.668Z"
   },
   {
    "duration": 8,
    "start_time": "2022-04-21T10:50:52.676Z"
   },
   {
    "duration": 10,
    "start_time": "2022-04-21T10:50:52.685Z"
   },
   {
    "duration": 6,
    "start_time": "2022-04-21T10:50:52.697Z"
   },
   {
    "duration": 9,
    "start_time": "2022-04-21T10:50:52.705Z"
   },
   {
    "duration": 8,
    "start_time": "2022-04-21T10:50:52.716Z"
   },
   {
    "duration": 32,
    "start_time": "2022-04-21T10:50:52.725Z"
   },
   {
    "duration": 35,
    "start_time": "2022-04-21T10:50:52.764Z"
   },
   {
    "duration": 385,
    "start_time": "2022-04-21T10:52:14.782Z"
   },
   {
    "duration": 373,
    "start_time": "2022-04-21T10:56:32.445Z"
   },
   {
    "duration": 364,
    "start_time": "2022-04-21T10:56:49.252Z"
   },
   {
    "duration": 252,
    "start_time": "2022-04-21T10:57:07.673Z"
   },
   {
    "duration": 1138,
    "start_time": "2022-04-21T11:05:39.883Z"
   },
   {
    "duration": 384,
    "start_time": "2022-04-21T11:05:41.023Z"
   },
   {
    "duration": 12,
    "start_time": "2022-04-21T11:05:41.408Z"
   },
   {
    "duration": 24,
    "start_time": "2022-04-21T11:05:41.422Z"
   },
   {
    "duration": 17,
    "start_time": "2022-04-21T11:05:41.448Z"
   },
   {
    "duration": 36,
    "start_time": "2022-04-21T11:05:41.467Z"
   },
   {
    "duration": 9,
    "start_time": "2022-04-21T11:05:41.505Z"
   },
   {
    "duration": 87,
    "start_time": "2022-04-21T11:05:41.516Z"
   },
   {
    "duration": 14,
    "start_time": "2022-04-21T11:05:41.605Z"
   },
   {
    "duration": 10,
    "start_time": "2022-04-21T11:05:41.622Z"
   },
   {
    "duration": 11,
    "start_time": "2022-04-21T11:05:41.634Z"
   },
   {
    "duration": 7,
    "start_time": "2022-04-21T11:05:41.647Z"
   },
   {
    "duration": 12,
    "start_time": "2022-04-21T11:05:41.656Z"
   },
   {
    "duration": 35,
    "start_time": "2022-04-21T11:05:41.670Z"
   },
   {
    "duration": 10,
    "start_time": "2022-04-21T11:05:41.706Z"
   },
   {
    "duration": 8,
    "start_time": "2022-04-21T11:05:41.717Z"
   },
   {
    "duration": 7,
    "start_time": "2022-04-21T11:05:41.727Z"
   },
   {
    "duration": 3,
    "start_time": "2022-04-21T11:05:41.735Z"
   },
   {
    "duration": 10,
    "start_time": "2022-04-21T11:05:41.739Z"
   },
   {
    "duration": 355,
    "start_time": "2022-04-21T11:05:41.751Z"
   },
   {
    "duration": 25,
    "start_time": "2022-04-21T11:05:42.108Z"
   },
   {
    "duration": 35,
    "start_time": "2022-04-21T11:05:42.134Z"
   },
   {
    "duration": 8,
    "start_time": "2022-04-21T11:05:42.170Z"
   },
   {
    "duration": 18,
    "start_time": "2022-04-21T11:05:42.200Z"
   },
   {
    "duration": 24,
    "start_time": "2022-04-21T11:05:42.219Z"
   },
   {
    "duration": 20,
    "start_time": "2022-04-21T11:05:42.245Z"
   },
   {
    "duration": 47,
    "start_time": "2022-04-21T11:05:42.266Z"
   },
   {
    "duration": 3,
    "start_time": "2022-04-21T11:05:42.317Z"
   },
   {
    "duration": 6,
    "start_time": "2022-04-21T11:05:42.321Z"
   },
   {
    "duration": 9,
    "start_time": "2022-04-21T11:05:42.328Z"
   },
   {
    "duration": 17,
    "start_time": "2022-04-21T11:05:42.338Z"
   },
   {
    "duration": 3,
    "start_time": "2022-04-21T11:05:42.357Z"
   },
   {
    "duration": 5,
    "start_time": "2022-04-21T11:05:42.361Z"
   },
   {
    "duration": 34,
    "start_time": "2022-04-21T11:05:42.367Z"
   },
   {
    "duration": 19,
    "start_time": "2022-04-21T11:05:42.403Z"
   },
   {
    "duration": 20,
    "start_time": "2022-04-21T11:05:42.424Z"
   },
   {
    "duration": 5,
    "start_time": "2022-04-21T11:05:42.446Z"
   },
   {
    "duration": 50,
    "start_time": "2022-04-21T11:05:42.453Z"
   },
   {
    "duration": 10,
    "start_time": "2022-04-21T11:05:42.505Z"
   },
   {
    "duration": 9,
    "start_time": "2022-04-21T11:05:42.517Z"
   },
   {
    "duration": 10,
    "start_time": "2022-04-21T11:05:42.528Z"
   },
   {
    "duration": 9,
    "start_time": "2022-04-21T11:05:42.540Z"
   },
   {
    "duration": 11,
    "start_time": "2022-04-21T11:05:42.550Z"
   },
   {
    "duration": 18,
    "start_time": "2022-04-21T11:05:42.599Z"
   },
   {
    "duration": 3,
    "start_time": "2022-04-21T11:05:42.619Z"
   },
   {
    "duration": 654,
    "start_time": "2022-04-21T11:05:42.624Z"
   },
   {
    "duration": 261,
    "start_time": "2022-04-21T11:05:43.279Z"
   },
   {
    "duration": 252,
    "start_time": "2022-04-21T11:05:43.541Z"
   },
   {
    "duration": 10,
    "start_time": "2022-04-21T11:05:43.800Z"
   },
   {
    "duration": 11,
    "start_time": "2022-04-21T11:05:43.812Z"
   },
   {
    "duration": 19,
    "start_time": "2022-04-21T11:05:43.825Z"
   },
   {
    "duration": 628,
    "start_time": "2022-04-21T11:05:43.846Z"
   },
   {
    "duration": 248,
    "start_time": "2022-04-21T11:05:44.476Z"
   },
   {
    "duration": 11,
    "start_time": "2022-04-21T11:05:44.725Z"
   },
   {
    "duration": 10,
    "start_time": "2022-04-21T11:05:44.738Z"
   },
   {
    "duration": 18,
    "start_time": "2022-04-21T11:05:44.750Z"
   },
   {
    "duration": 609,
    "start_time": "2022-04-21T11:05:44.770Z"
   },
   {
    "duration": 256,
    "start_time": "2022-04-21T11:05:45.381Z"
   },
   {
    "duration": 9,
    "start_time": "2022-04-21T11:05:45.638Z"
   },
   {
    "duration": 11,
    "start_time": "2022-04-21T11:05:45.648Z"
   },
   {
    "duration": 6,
    "start_time": "2022-04-21T11:05:45.661Z"
   },
   {
    "duration": 31,
    "start_time": "2022-04-21T11:05:45.669Z"
   },
   {
    "duration": 5,
    "start_time": "2022-04-21T11:05:45.702Z"
   },
   {
    "duration": 6,
    "start_time": "2022-04-21T11:05:45.709Z"
   },
   {
    "duration": 6,
    "start_time": "2022-04-21T11:05:45.716Z"
   },
   {
    "duration": 7,
    "start_time": "2022-04-21T11:05:45.724Z"
   },
   {
    "duration": 123,
    "start_time": "2022-04-21T11:05:45.732Z"
   },
   {
    "duration": 4,
    "start_time": "2022-04-21T11:05:45.857Z"
   },
   {
    "duration": 6,
    "start_time": "2022-04-21T11:05:45.863Z"
   },
   {
    "duration": 8,
    "start_time": "2022-04-21T11:05:45.870Z"
   },
   {
    "duration": 23,
    "start_time": "2022-04-21T11:05:45.879Z"
   },
   {
    "duration": 7,
    "start_time": "2022-04-21T11:05:45.903Z"
   },
   {
    "duration": 5,
    "start_time": "2022-04-21T11:05:45.911Z"
   },
   {
    "duration": 6,
    "start_time": "2022-04-21T11:05:45.918Z"
   },
   {
    "duration": 5,
    "start_time": "2022-04-21T11:05:45.925Z"
   },
   {
    "duration": 5,
    "start_time": "2022-04-21T11:05:45.931Z"
   },
   {
    "duration": 5,
    "start_time": "2022-04-21T11:05:45.937Z"
   },
   {
    "duration": 6,
    "start_time": "2022-04-21T11:05:45.943Z"
   },
   {
    "duration": 5,
    "start_time": "2022-04-21T11:05:45.951Z"
   },
   {
    "duration": 6,
    "start_time": "2022-04-21T11:05:45.957Z"
   },
   {
    "duration": 39,
    "start_time": "2022-04-21T11:05:45.964Z"
   },
   {
    "duration": 4,
    "start_time": "2022-04-21T11:05:46.008Z"
   },
   {
    "duration": 8,
    "start_time": "2022-04-21T11:05:46.014Z"
   },
   {
    "duration": 9,
    "start_time": "2022-04-21T11:05:46.023Z"
   },
   {
    "duration": 10,
    "start_time": "2022-04-21T11:08:53.841Z"
   },
   {
    "duration": 1151,
    "start_time": "2022-04-21T11:12:39.782Z"
   },
   {
    "duration": 452,
    "start_time": "2022-04-21T11:12:40.935Z"
   },
   {
    "duration": 12,
    "start_time": "2022-04-21T11:12:41.389Z"
   },
   {
    "duration": 50,
    "start_time": "2022-04-21T11:12:41.404Z"
   },
   {
    "duration": 17,
    "start_time": "2022-04-21T11:12:41.456Z"
   },
   {
    "duration": 20,
    "start_time": "2022-04-21T11:12:41.475Z"
   },
   {
    "duration": 13,
    "start_time": "2022-04-21T11:12:41.497Z"
   },
   {
    "duration": 97,
    "start_time": "2022-04-21T11:12:41.513Z"
   },
   {
    "duration": 17,
    "start_time": "2022-04-21T11:12:41.612Z"
   },
   {
    "duration": 8,
    "start_time": "2022-04-21T11:12:41.631Z"
   },
   {
    "duration": 13,
    "start_time": "2022-04-21T11:12:41.640Z"
   },
   {
    "duration": 7,
    "start_time": "2022-04-21T11:12:41.654Z"
   },
   {
    "duration": 12,
    "start_time": "2022-04-21T11:12:41.662Z"
   },
   {
    "duration": 31,
    "start_time": "2022-04-21T11:12:41.676Z"
   },
   {
    "duration": 9,
    "start_time": "2022-04-21T11:12:41.709Z"
   },
   {
    "duration": 14,
    "start_time": "2022-04-21T11:12:41.721Z"
   },
   {
    "duration": 6,
    "start_time": "2022-04-21T11:12:41.737Z"
   },
   {
    "duration": 3,
    "start_time": "2022-04-21T11:12:41.745Z"
   },
   {
    "duration": 9,
    "start_time": "2022-04-21T11:12:41.749Z"
   },
   {
    "duration": 355,
    "start_time": "2022-04-21T11:12:41.760Z"
   },
   {
    "duration": 29,
    "start_time": "2022-04-21T11:12:42.117Z"
   },
   {
    "duration": 35,
    "start_time": "2022-04-21T11:12:42.148Z"
   },
   {
    "duration": 28,
    "start_time": "2022-04-21T11:12:42.184Z"
   },
   {
    "duration": 32,
    "start_time": "2022-04-21T11:12:42.214Z"
   },
   {
    "duration": 23,
    "start_time": "2022-04-21T11:12:42.248Z"
   },
   {
    "duration": 20,
    "start_time": "2022-04-21T11:12:42.273Z"
   },
   {
    "duration": 32,
    "start_time": "2022-04-21T11:12:42.294Z"
   },
   {
    "duration": 8,
    "start_time": "2022-04-21T11:12:42.332Z"
   },
   {
    "duration": 12,
    "start_time": "2022-04-21T11:12:42.341Z"
   },
   {
    "duration": 9,
    "start_time": "2022-04-21T11:12:42.355Z"
   },
   {
    "duration": 17,
    "start_time": "2022-04-21T11:12:42.366Z"
   },
   {
    "duration": 3,
    "start_time": "2022-04-21T11:12:42.385Z"
   },
   {
    "duration": 16,
    "start_time": "2022-04-21T11:12:42.390Z"
   },
   {
    "duration": 32,
    "start_time": "2022-04-21T11:12:42.409Z"
   },
   {
    "duration": 22,
    "start_time": "2022-04-21T11:12:42.443Z"
   },
   {
    "duration": 19,
    "start_time": "2022-04-21T11:12:42.466Z"
   },
   {
    "duration": 4,
    "start_time": "2022-04-21T11:12:42.486Z"
   },
   {
    "duration": 35,
    "start_time": "2022-04-21T11:12:42.491Z"
   },
   {
    "duration": 11,
    "start_time": "2022-04-21T11:12:42.528Z"
   },
   {
    "duration": 9,
    "start_time": "2022-04-21T11:12:42.540Z"
   },
   {
    "duration": 10,
    "start_time": "2022-04-21T11:12:42.551Z"
   },
   {
    "duration": 9,
    "start_time": "2022-04-21T11:12:42.562Z"
   },
   {
    "duration": 38,
    "start_time": "2022-04-21T11:12:42.572Z"
   },
   {
    "duration": 19,
    "start_time": "2022-04-21T11:12:42.614Z"
   },
   {
    "duration": 12,
    "start_time": "2022-04-21T11:12:42.635Z"
   },
   {
    "duration": 683,
    "start_time": "2022-04-21T11:12:42.648Z"
   },
   {
    "duration": 262,
    "start_time": "2022-04-21T11:12:43.332Z"
   },
   {
    "duration": 264,
    "start_time": "2022-04-21T11:12:43.599Z"
   },
   {
    "duration": 9,
    "start_time": "2022-04-21T11:12:43.865Z"
   },
   {
    "duration": 33,
    "start_time": "2022-04-21T11:12:43.876Z"
   },
   {
    "duration": 23,
    "start_time": "2022-04-21T11:12:43.911Z"
   },
   {
    "duration": 682,
    "start_time": "2022-04-21T11:12:43.935Z"
   },
   {
    "duration": 264,
    "start_time": "2022-04-21T11:12:44.618Z"
   },
   {
    "duration": 35,
    "start_time": "2022-04-21T11:12:44.883Z"
   },
   {
    "duration": 13,
    "start_time": "2022-04-21T11:12:44.919Z"
   },
   {
    "duration": 17,
    "start_time": "2022-04-21T11:12:44.934Z"
   },
   {
    "duration": 662,
    "start_time": "2022-04-21T11:12:44.953Z"
   },
   {
    "duration": 256,
    "start_time": "2022-04-21T11:12:45.617Z"
   },
   {
    "duration": 8,
    "start_time": "2022-04-21T11:12:45.875Z"
   },
   {
    "duration": 18,
    "start_time": "2022-04-21T11:12:45.902Z"
   },
   {
    "duration": 25,
    "start_time": "2022-04-21T11:12:45.921Z"
   },
   {
    "duration": 6,
    "start_time": "2022-04-21T11:12:45.947Z"
   },
   {
    "duration": 5,
    "start_time": "2022-04-21T11:12:45.954Z"
   },
   {
    "duration": 5,
    "start_time": "2022-04-21T11:12:45.961Z"
   },
   {
    "duration": 9,
    "start_time": "2022-04-21T11:12:45.967Z"
   },
   {
    "duration": 8,
    "start_time": "2022-04-21T11:12:45.978Z"
   },
   {
    "duration": 122,
    "start_time": "2022-04-21T11:12:45.988Z"
   },
   {
    "duration": 9,
    "start_time": "2022-04-21T11:12:46.112Z"
   },
   {
    "duration": 20,
    "start_time": "2022-04-21T11:12:46.123Z"
   },
   {
    "duration": 8,
    "start_time": "2022-04-21T11:12:46.145Z"
   },
   {
    "duration": 5,
    "start_time": "2022-04-21T11:12:46.155Z"
   },
   {
    "duration": 12,
    "start_time": "2022-04-21T11:12:46.161Z"
   },
   {
    "duration": 9,
    "start_time": "2022-04-21T11:12:46.175Z"
   },
   {
    "duration": 9,
    "start_time": "2022-04-21T11:12:46.186Z"
   },
   {
    "duration": 14,
    "start_time": "2022-04-21T11:12:46.197Z"
   },
   {
    "duration": 24,
    "start_time": "2022-04-21T11:12:46.213Z"
   },
   {
    "duration": 6,
    "start_time": "2022-04-21T11:12:46.239Z"
   },
   {
    "duration": 6,
    "start_time": "2022-04-21T11:12:46.246Z"
   },
   {
    "duration": 6,
    "start_time": "2022-04-21T11:12:46.254Z"
   },
   {
    "duration": 6,
    "start_time": "2022-04-21T11:12:46.262Z"
   },
   {
    "duration": 8,
    "start_time": "2022-04-21T11:12:46.270Z"
   },
   {
    "duration": 4,
    "start_time": "2022-04-21T11:12:46.285Z"
   },
   {
    "duration": 13,
    "start_time": "2022-04-21T11:12:46.291Z"
   },
   {
    "duration": 37,
    "start_time": "2022-04-21T11:12:46.305Z"
   },
   {
    "duration": 1538,
    "start_time": "2022-05-04T09:52:38.121Z"
   },
   {
    "duration": 56,
    "start_time": "2022-05-04T09:52:39.661Z"
   },
   {
    "duration": 21,
    "start_time": "2022-05-04T09:52:39.719Z"
   },
   {
    "duration": 48,
    "start_time": "2022-05-04T09:52:39.743Z"
   },
   {
    "duration": 57,
    "start_time": "2022-05-04T09:52:39.793Z"
   },
   {
    "duration": 5,
    "start_time": "2022-05-04T09:52:39.853Z"
   },
   {
    "duration": 7,
    "start_time": "2022-05-04T09:52:39.881Z"
   },
   {
    "duration": 35,
    "start_time": "2022-05-04T09:52:39.893Z"
   },
   {
    "duration": 13,
    "start_time": "2022-05-04T09:52:39.930Z"
   },
   {
    "duration": 7,
    "start_time": "2022-05-04T09:52:39.948Z"
   },
   {
    "duration": 175,
    "start_time": "2022-05-04T09:52:39.987Z"
   },
   {
    "duration": 282,
    "start_time": "2022-05-04T09:52:40.165Z"
   },
   {
    "duration": 0,
    "start_time": "2022-05-04T09:52:40.452Z"
   },
   {
    "duration": 0,
    "start_time": "2022-05-04T09:52:40.453Z"
   },
   {
    "duration": 0,
    "start_time": "2022-05-04T09:52:40.455Z"
   },
   {
    "duration": 0,
    "start_time": "2022-05-04T09:52:40.458Z"
   },
   {
    "duration": 0,
    "start_time": "2022-05-04T09:52:40.460Z"
   },
   {
    "duration": 1,
    "start_time": "2022-05-04T09:52:40.461Z"
   },
   {
    "duration": 0,
    "start_time": "2022-05-04T09:52:40.464Z"
   },
   {
    "duration": 0,
    "start_time": "2022-05-04T09:52:40.482Z"
   },
   {
    "duration": 0,
    "start_time": "2022-05-04T09:52:40.483Z"
   },
   {
    "duration": 0,
    "start_time": "2022-05-04T09:52:40.484Z"
   },
   {
    "duration": 0,
    "start_time": "2022-05-04T09:52:40.486Z"
   },
   {
    "duration": 0,
    "start_time": "2022-05-04T09:52:40.488Z"
   },
   {
    "duration": 0,
    "start_time": "2022-05-04T09:52:40.489Z"
   },
   {
    "duration": 0,
    "start_time": "2022-05-04T09:52:40.491Z"
   },
   {
    "duration": 0,
    "start_time": "2022-05-04T09:52:40.498Z"
   },
   {
    "duration": 0,
    "start_time": "2022-05-04T09:52:40.501Z"
   },
   {
    "duration": 0,
    "start_time": "2022-05-04T09:52:40.502Z"
   },
   {
    "duration": 0,
    "start_time": "2022-05-04T09:52:40.503Z"
   },
   {
    "duration": 0,
    "start_time": "2022-05-04T09:52:40.505Z"
   },
   {
    "duration": 0,
    "start_time": "2022-05-04T09:52:40.506Z"
   },
   {
    "duration": 0,
    "start_time": "2022-05-04T09:52:40.507Z"
   },
   {
    "duration": 0,
    "start_time": "2022-05-04T09:52:40.509Z"
   },
   {
    "duration": 0,
    "start_time": "2022-05-04T09:52:40.511Z"
   },
   {
    "duration": 0,
    "start_time": "2022-05-04T09:52:40.512Z"
   },
   {
    "duration": 0,
    "start_time": "2022-05-04T09:52:40.513Z"
   },
   {
    "duration": 0,
    "start_time": "2022-05-04T09:52:40.515Z"
   },
   {
    "duration": 0,
    "start_time": "2022-05-04T09:52:40.516Z"
   },
   {
    "duration": 0,
    "start_time": "2022-05-04T09:52:40.517Z"
   },
   {
    "duration": 0,
    "start_time": "2022-05-04T09:52:40.519Z"
   },
   {
    "duration": 0,
    "start_time": "2022-05-04T09:52:40.521Z"
   },
   {
    "duration": 0,
    "start_time": "2022-05-04T09:52:40.523Z"
   },
   {
    "duration": 0,
    "start_time": "2022-05-04T09:52:40.524Z"
   },
   {
    "duration": 0,
    "start_time": "2022-05-04T09:52:40.583Z"
   },
   {
    "duration": 0,
    "start_time": "2022-05-04T09:52:40.584Z"
   },
   {
    "duration": 0,
    "start_time": "2022-05-04T09:52:40.585Z"
   },
   {
    "duration": 0,
    "start_time": "2022-05-04T09:52:40.586Z"
   },
   {
    "duration": 0,
    "start_time": "2022-05-04T09:52:40.587Z"
   },
   {
    "duration": 0,
    "start_time": "2022-05-04T09:52:40.589Z"
   },
   {
    "duration": 0,
    "start_time": "2022-05-04T09:52:40.590Z"
   },
   {
    "duration": 24,
    "start_time": "2022-05-04T10:28:38.073Z"
   },
   {
    "duration": 26,
    "start_time": "2022-05-04T10:28:49.505Z"
   },
   {
    "duration": 4961,
    "start_time": "2022-05-04T10:44:19.646Z"
   },
   {
    "duration": 2032,
    "start_time": "2022-05-04T10:44:41.367Z"
   },
   {
    "duration": 74,
    "start_time": "2022-05-04T10:44:43.402Z"
   },
   {
    "duration": 30,
    "start_time": "2022-05-04T10:44:43.479Z"
   },
   {
    "duration": 27,
    "start_time": "2022-05-04T10:44:43.513Z"
   },
   {
    "duration": 67,
    "start_time": "2022-05-04T10:44:43.542Z"
   },
   {
    "duration": 5,
    "start_time": "2022-05-04T10:44:43.611Z"
   },
   {
    "duration": 14,
    "start_time": "2022-05-04T10:44:43.618Z"
   },
   {
    "duration": 52,
    "start_time": "2022-05-04T10:44:43.635Z"
   },
   {
    "duration": 12,
    "start_time": "2022-05-04T10:44:43.690Z"
   },
   {
    "duration": 11,
    "start_time": "2022-05-04T10:44:43.708Z"
   },
   {
    "duration": 178,
    "start_time": "2022-05-04T10:44:43.721Z"
   },
   {
    "duration": 285,
    "start_time": "2022-05-04T10:44:43.902Z"
   },
   {
    "duration": 1,
    "start_time": "2022-05-04T10:44:44.191Z"
   },
   {
    "duration": 0,
    "start_time": "2022-05-04T10:44:44.194Z"
   },
   {
    "duration": 0,
    "start_time": "2022-05-04T10:44:44.197Z"
   },
   {
    "duration": 0,
    "start_time": "2022-05-04T10:44:44.199Z"
   },
   {
    "duration": 0,
    "start_time": "2022-05-04T10:44:44.202Z"
   },
   {
    "duration": 0,
    "start_time": "2022-05-04T10:44:44.204Z"
   },
   {
    "duration": 0,
    "start_time": "2022-05-04T10:44:44.206Z"
   },
   {
    "duration": 0,
    "start_time": "2022-05-04T10:44:44.208Z"
   },
   {
    "duration": 1,
    "start_time": "2022-05-04T10:44:44.210Z"
   },
   {
    "duration": 0,
    "start_time": "2022-05-04T10:44:44.212Z"
   },
   {
    "duration": 0,
    "start_time": "2022-05-04T10:44:44.214Z"
   },
   {
    "duration": 0,
    "start_time": "2022-05-04T10:44:44.216Z"
   },
   {
    "duration": 0,
    "start_time": "2022-05-04T10:44:44.218Z"
   },
   {
    "duration": 0,
    "start_time": "2022-05-04T10:44:44.220Z"
   },
   {
    "duration": 0,
    "start_time": "2022-05-04T10:44:44.222Z"
   },
   {
    "duration": 0,
    "start_time": "2022-05-04T10:44:44.224Z"
   },
   {
    "duration": 0,
    "start_time": "2022-05-04T10:44:44.226Z"
   },
   {
    "duration": 0,
    "start_time": "2022-05-04T10:44:44.283Z"
   },
   {
    "duration": 1,
    "start_time": "2022-05-04T10:44:44.284Z"
   },
   {
    "duration": 0,
    "start_time": "2022-05-04T10:44:44.286Z"
   },
   {
    "duration": 0,
    "start_time": "2022-05-04T10:44:44.288Z"
   },
   {
    "duration": 0,
    "start_time": "2022-05-04T10:44:44.290Z"
   },
   {
    "duration": 0,
    "start_time": "2022-05-04T10:44:44.291Z"
   },
   {
    "duration": 0,
    "start_time": "2022-05-04T10:44:44.293Z"
   },
   {
    "duration": 0,
    "start_time": "2022-05-04T10:44:44.294Z"
   },
   {
    "duration": 0,
    "start_time": "2022-05-04T10:44:44.296Z"
   },
   {
    "duration": 0,
    "start_time": "2022-05-04T10:44:44.297Z"
   },
   {
    "duration": 0,
    "start_time": "2022-05-04T10:44:44.299Z"
   },
   {
    "duration": 0,
    "start_time": "2022-05-04T10:44:44.301Z"
   },
   {
    "duration": 0,
    "start_time": "2022-05-04T10:44:44.302Z"
   },
   {
    "duration": 0,
    "start_time": "2022-05-04T10:44:44.304Z"
   },
   {
    "duration": 0,
    "start_time": "2022-05-04T10:44:44.305Z"
   },
   {
    "duration": 0,
    "start_time": "2022-05-04T10:44:44.307Z"
   },
   {
    "duration": 0,
    "start_time": "2022-05-04T10:44:44.308Z"
   },
   {
    "duration": 0,
    "start_time": "2022-05-04T10:44:44.309Z"
   },
   {
    "duration": 0,
    "start_time": "2022-05-04T10:44:44.311Z"
   },
   {
    "duration": 0,
    "start_time": "2022-05-04T10:44:44.312Z"
   },
   {
    "duration": 0,
    "start_time": "2022-05-04T10:44:44.314Z"
   },
   {
    "duration": 0,
    "start_time": "2022-05-04T10:44:44.315Z"
   },
   {
    "duration": 11,
    "start_time": "2022-05-04T10:45:42.759Z"
   },
   {
    "duration": 10,
    "start_time": "2022-05-04T11:05:13.976Z"
   },
   {
    "duration": 5,
    "start_time": "2022-05-04T11:05:20.487Z"
   },
   {
    "duration": 1873,
    "start_time": "2022-05-04T11:08:46.230Z"
   },
   {
    "duration": 55,
    "start_time": "2022-05-04T11:08:48.105Z"
   },
   {
    "duration": 29,
    "start_time": "2022-05-04T11:08:48.162Z"
   },
   {
    "duration": 33,
    "start_time": "2022-05-04T11:08:48.194Z"
   },
   {
    "duration": 78,
    "start_time": "2022-05-04T11:08:48.229Z"
   },
   {
    "duration": 5,
    "start_time": "2022-05-04T11:08:48.310Z"
   },
   {
    "duration": 8,
    "start_time": "2022-05-04T11:08:48.318Z"
   },
   {
    "duration": 54,
    "start_time": "2022-05-04T11:08:48.328Z"
   },
   {
    "duration": 18,
    "start_time": "2022-05-04T11:08:48.385Z"
   },
   {
    "duration": 7,
    "start_time": "2022-05-04T11:08:48.407Z"
   },
   {
    "duration": 187,
    "start_time": "2022-05-04T11:08:48.416Z"
   },
   {
    "duration": 10,
    "start_time": "2022-05-04T11:08:48.606Z"
   },
   {
    "duration": 8,
    "start_time": "2022-05-04T11:08:48.618Z"
   },
   {
    "duration": 14,
    "start_time": "2022-05-04T11:08:48.628Z"
   },
   {
    "duration": 64,
    "start_time": "2022-05-04T11:08:48.645Z"
   },
   {
    "duration": 25,
    "start_time": "2022-05-04T11:08:48.712Z"
   },
   {
    "duration": 585,
    "start_time": "2022-05-04T11:08:48.739Z"
   },
   {
    "duration": 305,
    "start_time": "2022-05-04T11:08:49.327Z"
   },
   {
    "duration": 191,
    "start_time": "2022-05-04T11:08:49.635Z"
   },
   {
    "duration": 24,
    "start_time": "2022-05-04T11:08:49.829Z"
   },
   {
    "duration": 28,
    "start_time": "2022-05-04T11:08:49.855Z"
   },
   {
    "duration": 1089,
    "start_time": "2022-05-04T11:08:49.885Z"
   },
   {
    "duration": 26,
    "start_time": "2022-05-04T11:08:50.977Z"
   },
   {
    "duration": 23,
    "start_time": "2022-05-04T11:08:51.005Z"
   },
   {
    "duration": 5,
    "start_time": "2022-05-04T11:08:51.030Z"
   },
   {
    "duration": 1269,
    "start_time": "2022-05-04T11:08:51.037Z"
   },
   {
    "duration": 6,
    "start_time": "2022-05-04T11:08:52.308Z"
   },
   {
    "duration": 425,
    "start_time": "2022-05-04T11:08:52.319Z"
   },
   {
    "duration": 11,
    "start_time": "2022-05-04T11:08:52.748Z"
   },
   {
    "duration": 505,
    "start_time": "2022-05-04T11:08:52.761Z"
   },
   {
    "duration": 6,
    "start_time": "2022-05-04T11:08:53.268Z"
   },
   {
    "duration": 542,
    "start_time": "2022-05-04T11:08:53.283Z"
   },
   {
    "duration": 15,
    "start_time": "2022-05-04T11:08:53.828Z"
   },
   {
    "duration": 7,
    "start_time": "2022-05-04T11:08:53.845Z"
   },
   {
    "duration": 323,
    "start_time": "2022-05-04T11:08:53.882Z"
   },
   {
    "duration": 4030,
    "start_time": "2022-05-04T11:08:54.207Z"
   },
   {
    "duration": 20,
    "start_time": "2022-05-04T11:08:58.239Z"
   },
   {
    "duration": 352,
    "start_time": "2022-05-04T11:08:58.261Z"
   },
   {
    "duration": 12,
    "start_time": "2022-05-04T11:08:58.615Z"
   },
   {
    "duration": 1337,
    "start_time": "2022-05-04T11:08:58.629Z"
   },
   {
    "duration": 1339,
    "start_time": "2022-05-04T11:08:59.968Z"
   },
   {
    "duration": 27,
    "start_time": "2022-05-04T11:09:01.309Z"
   },
   {
    "duration": 1360,
    "start_time": "2022-05-04T11:09:01.339Z"
   },
   {
    "duration": 5,
    "start_time": "2022-05-04T11:09:02.701Z"
   },
   {
    "duration": 23,
    "start_time": "2022-05-04T11:09:02.709Z"
   },
   {
    "duration": 8,
    "start_time": "2022-05-04T11:09:02.734Z"
   },
   {
    "duration": 16,
    "start_time": "2022-05-04T11:09:02.744Z"
   },
   {
    "duration": 21,
    "start_time": "2022-05-04T11:09:02.762Z"
   },
   {
    "duration": 20,
    "start_time": "2022-05-04T11:09:02.786Z"
   },
   {
    "duration": 9,
    "start_time": "2022-05-04T11:09:02.809Z"
   },
   {
    "duration": 11,
    "start_time": "2022-05-04T11:09:02.820Z"
   },
   {
    "duration": 35,
    "start_time": "2022-05-04T11:52:33.032Z"
   },
   {
    "duration": 7,
    "start_time": "2022-05-04T11:53:28.370Z"
   },
   {
    "duration": 11,
    "start_time": "2022-05-04T11:53:31.230Z"
   },
   {
    "duration": 11,
    "start_time": "2022-05-04T11:53:33.939Z"
   },
   {
    "duration": 8,
    "start_time": "2022-05-04T11:53:36.643Z"
   },
   {
    "duration": 2102,
    "start_time": "2022-05-04T11:57:41.003Z"
   },
   {
    "duration": 54,
    "start_time": "2022-05-04T11:57:43.108Z"
   },
   {
    "duration": 22,
    "start_time": "2022-05-04T11:57:43.164Z"
   },
   {
    "duration": 28,
    "start_time": "2022-05-04T11:57:43.190Z"
   },
   {
    "duration": 66,
    "start_time": "2022-05-04T11:57:43.220Z"
   },
   {
    "duration": 5,
    "start_time": "2022-05-04T11:57:43.288Z"
   },
   {
    "duration": 11,
    "start_time": "2022-05-04T11:57:43.295Z"
   },
   {
    "duration": 32,
    "start_time": "2022-05-04T11:57:43.308Z"
   },
   {
    "duration": 11,
    "start_time": "2022-05-04T11:57:43.343Z"
   },
   {
    "duration": 6,
    "start_time": "2022-05-04T11:57:43.384Z"
   },
   {
    "duration": 158,
    "start_time": "2022-05-04T11:57:43.393Z"
   },
   {
    "duration": 11,
    "start_time": "2022-05-04T11:57:43.581Z"
   },
   {
    "duration": 13,
    "start_time": "2022-05-04T11:57:43.595Z"
   },
   {
    "duration": 13,
    "start_time": "2022-05-04T11:57:43.610Z"
   },
   {
    "duration": 25,
    "start_time": "2022-05-04T11:57:43.625Z"
   },
   {
    "duration": 50,
    "start_time": "2022-05-04T11:57:43.652Z"
   },
   {
    "duration": 567,
    "start_time": "2022-05-04T11:57:43.705Z"
   },
   {
    "duration": 294,
    "start_time": "2022-05-04T11:57:44.275Z"
   },
   {
    "duration": 183,
    "start_time": "2022-05-04T11:57:44.571Z"
   },
   {
    "duration": 32,
    "start_time": "2022-05-04T11:57:44.756Z"
   },
   {
    "duration": 12,
    "start_time": "2022-05-04T11:57:44.791Z"
   },
   {
    "duration": 1081,
    "start_time": "2022-05-04T11:57:44.805Z"
   },
   {
    "duration": 28,
    "start_time": "2022-05-04T11:57:45.889Z"
   },
   {
    "duration": 24,
    "start_time": "2022-05-04T11:57:45.920Z"
   },
   {
    "duration": 6,
    "start_time": "2022-05-04T11:57:45.946Z"
   },
   {
    "duration": 1244,
    "start_time": "2022-05-04T11:57:45.981Z"
   },
   {
    "duration": 9,
    "start_time": "2022-05-04T11:57:47.227Z"
   },
   {
    "duration": 429,
    "start_time": "2022-05-04T11:57:47.243Z"
   },
   {
    "duration": 12,
    "start_time": "2022-05-04T11:57:47.682Z"
   },
   {
    "duration": 490,
    "start_time": "2022-05-04T11:57:47.696Z"
   },
   {
    "duration": 8,
    "start_time": "2022-05-04T11:57:48.189Z"
   },
   {
    "duration": 549,
    "start_time": "2022-05-04T11:57:48.199Z"
   },
   {
    "duration": 16,
    "start_time": "2022-05-04T11:57:48.751Z"
   },
   {
    "duration": 10,
    "start_time": "2022-05-04T11:57:48.782Z"
   },
   {
    "duration": 396,
    "start_time": "2022-05-04T11:57:48.794Z"
   },
   {
    "duration": 4759,
    "start_time": "2022-05-04T11:57:49.193Z"
   },
   {
    "duration": 34,
    "start_time": "2022-05-04T11:57:53.955Z"
   },
   {
    "duration": 343,
    "start_time": "2022-05-04T11:57:53.991Z"
   },
   {
    "duration": 12,
    "start_time": "2022-05-04T11:57:54.336Z"
   },
   {
    "duration": 1128,
    "start_time": "2022-05-04T11:57:54.350Z"
   },
   {
    "duration": 1138,
    "start_time": "2022-05-04T11:57:55.482Z"
   },
   {
    "duration": 28,
    "start_time": "2022-05-04T11:57:56.623Z"
   },
   {
    "duration": 1356,
    "start_time": "2022-05-04T11:57:56.653Z"
   },
   {
    "duration": 4,
    "start_time": "2022-05-04T11:57:58.011Z"
   },
   {
    "duration": 15,
    "start_time": "2022-05-04T11:57:58.018Z"
   },
   {
    "duration": 5,
    "start_time": "2022-05-04T11:57:58.035Z"
   },
   {
    "duration": 40,
    "start_time": "2022-05-04T11:57:58.043Z"
   },
   {
    "duration": 6,
    "start_time": "2022-05-04T11:57:58.086Z"
   },
   {
    "duration": 13,
    "start_time": "2022-05-04T11:57:58.094Z"
   },
   {
    "duration": 10,
    "start_time": "2022-05-04T11:57:58.109Z"
   },
   {
    "duration": 6,
    "start_time": "2022-05-04T11:57:58.121Z"
   },
   {
    "duration": 1412,
    "start_time": "2022-05-05T12:15:01.484Z"
   },
   {
    "duration": 39,
    "start_time": "2022-05-05T12:15:02.898Z"
   },
   {
    "duration": 17,
    "start_time": "2022-05-05T12:15:02.939Z"
   },
   {
    "duration": 28,
    "start_time": "2022-05-05T12:15:02.959Z"
   },
   {
    "duration": 29,
    "start_time": "2022-05-05T12:15:02.989Z"
   },
   {
    "duration": 3,
    "start_time": "2022-05-05T12:15:03.021Z"
   },
   {
    "duration": 9,
    "start_time": "2022-05-05T12:15:03.026Z"
   },
   {
    "duration": 46,
    "start_time": "2022-05-05T12:15:03.037Z"
   },
   {
    "duration": 8,
    "start_time": "2022-05-05T12:15:03.085Z"
   },
   {
    "duration": 7,
    "start_time": "2022-05-05T12:15:03.095Z"
   },
   {
    "duration": 109,
    "start_time": "2022-05-05T12:15:03.103Z"
   },
   {
    "duration": 7,
    "start_time": "2022-05-05T12:15:03.214Z"
   },
   {
    "duration": 15,
    "start_time": "2022-05-05T12:15:03.223Z"
   },
   {
    "duration": 17,
    "start_time": "2022-05-05T12:15:03.240Z"
   },
   {
    "duration": 29,
    "start_time": "2022-05-05T12:15:03.259Z"
   },
   {
    "duration": 15,
    "start_time": "2022-05-05T12:15:03.290Z"
   },
   {
    "duration": 357,
    "start_time": "2022-05-05T12:15:03.307Z"
   },
   {
    "duration": 186,
    "start_time": "2022-05-05T12:15:03.666Z"
   },
   {
    "duration": 110,
    "start_time": "2022-05-05T12:15:03.854Z"
   },
   {
    "duration": 21,
    "start_time": "2022-05-05T12:15:03.965Z"
   },
   {
    "duration": 5,
    "start_time": "2022-05-05T12:15:03.988Z"
   },
   {
    "duration": 707,
    "start_time": "2022-05-05T12:15:03.995Z"
   },
   {
    "duration": 20,
    "start_time": "2022-05-05T12:15:04.703Z"
   },
   {
    "duration": 16,
    "start_time": "2022-05-05T12:15:04.724Z"
   },
   {
    "duration": 4,
    "start_time": "2022-05-05T12:15:04.742Z"
   },
   {
    "duration": 808,
    "start_time": "2022-05-05T12:15:04.747Z"
   },
   {
    "duration": 5,
    "start_time": "2022-05-05T12:15:05.557Z"
   },
   {
    "duration": 247,
    "start_time": "2022-05-05T12:15:05.575Z"
   },
   {
    "duration": 8,
    "start_time": "2022-05-05T12:15:05.824Z"
   },
   {
    "duration": 301,
    "start_time": "2022-05-05T12:15:05.834Z"
   },
   {
    "duration": 5,
    "start_time": "2022-05-05T12:15:06.136Z"
   },
   {
    "duration": 340,
    "start_time": "2022-05-05T12:15:06.143Z"
   },
   {
    "duration": 12,
    "start_time": "2022-05-05T12:15:06.485Z"
   },
   {
    "duration": 7,
    "start_time": "2022-05-05T12:15:06.498Z"
   },
   {
    "duration": 299,
    "start_time": "2022-05-05T12:15:06.507Z"
   },
   {
    "duration": 2600,
    "start_time": "2022-05-05T12:15:06.807Z"
   },
   {
    "duration": 15,
    "start_time": "2022-05-05T12:15:09.408Z"
   },
   {
    "duration": 211,
    "start_time": "2022-05-05T12:15:09.425Z"
   },
   {
    "duration": 8,
    "start_time": "2022-05-05T12:15:09.638Z"
   },
   {
    "duration": 653,
    "start_time": "2022-05-05T12:15:09.648Z"
   },
   {
    "duration": 662,
    "start_time": "2022-05-05T12:15:10.303Z"
   },
   {
    "duration": 24,
    "start_time": "2022-05-05T12:15:10.966Z"
   },
   {
    "duration": 811,
    "start_time": "2022-05-05T12:15:10.992Z"
   },
   {
    "duration": 3,
    "start_time": "2022-05-05T12:15:11.804Z"
   },
   {
    "duration": 26,
    "start_time": "2022-05-05T12:15:11.809Z"
   },
   {
    "duration": 11,
    "start_time": "2022-05-05T12:15:11.837Z"
   },
   {
    "duration": 13,
    "start_time": "2022-05-05T12:15:11.849Z"
   },
   {
    "duration": 8,
    "start_time": "2022-05-05T12:15:11.864Z"
   },
   {
    "duration": 15,
    "start_time": "2022-05-05T12:15:11.874Z"
   },
   {
    "duration": 5,
    "start_time": "2022-05-05T12:15:11.891Z"
   },
   {
    "duration": 12,
    "start_time": "2022-05-05T12:15:11.898Z"
   },
   {
    "duration": 197,
    "start_time": "2022-05-05T12:16:43.370Z"
   },
   {
    "duration": 1212,
    "start_time": "2022-05-05T12:16:51.555Z"
   },
   {
    "duration": 38,
    "start_time": "2022-05-05T12:16:52.769Z"
   },
   {
    "duration": 14,
    "start_time": "2022-05-05T12:16:52.809Z"
   },
   {
    "duration": 18,
    "start_time": "2022-05-05T12:16:52.825Z"
   },
   {
    "duration": 50,
    "start_time": "2022-05-05T12:16:52.845Z"
   },
   {
    "duration": 3,
    "start_time": "2022-05-05T12:16:52.898Z"
   },
   {
    "duration": 7,
    "start_time": "2022-05-05T12:16:52.903Z"
   },
   {
    "duration": 21,
    "start_time": "2022-05-05T12:16:52.912Z"
   },
   {
    "duration": 8,
    "start_time": "2022-05-05T12:16:52.935Z"
   },
   {
    "duration": 6,
    "start_time": "2022-05-05T12:16:52.973Z"
   },
   {
    "duration": 112,
    "start_time": "2022-05-05T12:16:52.981Z"
   },
   {
    "duration": 7,
    "start_time": "2022-05-05T12:16:53.095Z"
   },
   {
    "duration": 17,
    "start_time": "2022-05-05T12:16:53.104Z"
   },
   {
    "duration": 11,
    "start_time": "2022-05-05T12:16:53.123Z"
   },
   {
    "duration": 19,
    "start_time": "2022-05-05T12:16:53.135Z"
   },
   {
    "duration": 33,
    "start_time": "2022-05-05T12:16:53.155Z"
   },
   {
    "duration": 356,
    "start_time": "2022-05-05T12:16:53.189Z"
   },
   {
    "duration": 177,
    "start_time": "2022-05-05T12:16:53.547Z"
   },
   {
    "duration": 109,
    "start_time": "2022-05-05T12:16:53.725Z"
   },
   {
    "duration": 16,
    "start_time": "2022-05-05T12:16:53.836Z"
   },
   {
    "duration": 22,
    "start_time": "2022-05-05T12:16:53.853Z"
   },
   {
    "duration": 661,
    "start_time": "2022-05-05T12:16:53.877Z"
   },
   {
    "duration": 19,
    "start_time": "2022-05-05T12:16:54.539Z"
   },
   {
    "duration": 20,
    "start_time": "2022-05-05T12:16:54.560Z"
   },
   {
    "duration": 7,
    "start_time": "2022-05-05T12:16:54.582Z"
   },
   {
    "duration": 783,
    "start_time": "2022-05-05T12:16:54.590Z"
   },
   {
    "duration": 5,
    "start_time": "2022-05-05T12:16:55.375Z"
   },
   {
    "duration": 250,
    "start_time": "2022-05-05T12:16:55.384Z"
   },
   {
    "duration": 8,
    "start_time": "2022-05-05T12:16:55.636Z"
   },
   {
    "duration": 285,
    "start_time": "2022-05-05T12:16:55.645Z"
   },
   {
    "duration": 5,
    "start_time": "2022-05-05T12:16:55.932Z"
   },
   {
    "duration": 321,
    "start_time": "2022-05-05T12:16:55.938Z"
   },
   {
    "duration": 15,
    "start_time": "2022-05-05T12:16:56.261Z"
   },
   {
    "duration": 8,
    "start_time": "2022-05-05T12:16:56.277Z"
   },
   {
    "duration": 239,
    "start_time": "2022-05-05T12:16:56.286Z"
   },
   {
    "duration": 2592,
    "start_time": "2022-05-05T12:16:56.527Z"
   },
   {
    "duration": 15,
    "start_time": "2022-05-05T12:16:59.121Z"
   },
   {
    "duration": 205,
    "start_time": "2022-05-05T12:16:59.138Z"
   },
   {
    "duration": 7,
    "start_time": "2022-05-05T12:16:59.344Z"
   },
   {
    "duration": 651,
    "start_time": "2022-05-05T12:16:59.353Z"
   },
   {
    "duration": 673,
    "start_time": "2022-05-05T12:17:00.006Z"
   },
   {
    "duration": 20,
    "start_time": "2022-05-05T12:17:00.681Z"
   },
   {
    "duration": 815,
    "start_time": "2022-05-05T12:17:00.703Z"
   },
   {
    "duration": 4,
    "start_time": "2022-05-05T12:17:01.520Z"
   },
   {
    "duration": 19,
    "start_time": "2022-05-05T12:17:01.526Z"
   },
   {
    "duration": 9,
    "start_time": "2022-05-05T12:17:01.547Z"
   },
   {
    "duration": 20,
    "start_time": "2022-05-05T12:17:01.558Z"
   },
   {
    "duration": 8,
    "start_time": "2022-05-05T12:17:01.579Z"
   },
   {
    "duration": 11,
    "start_time": "2022-05-05T12:17:01.588Z"
   },
   {
    "duration": 9,
    "start_time": "2022-05-05T12:17:01.601Z"
   },
   {
    "duration": 9,
    "start_time": "2022-05-05T12:17:01.612Z"
   },
   {
    "duration": 14,
    "start_time": "2022-05-05T13:23:29.697Z"
   },
   {
    "duration": 14,
    "start_time": "2022-05-05T13:23:52.393Z"
   },
   {
    "duration": 128,
    "start_time": "2022-05-05T13:24:11.287Z"
   },
   {
    "duration": 110,
    "start_time": "2022-05-05T13:24:20.475Z"
   },
   {
    "duration": 15,
    "start_time": "2022-05-05T13:24:29.786Z"
   },
   {
    "duration": 150,
    "start_time": "2022-05-05T13:24:58.725Z"
   },
   {
    "duration": 118,
    "start_time": "2022-05-05T13:25:10.859Z"
   },
   {
    "duration": 24,
    "start_time": "2022-05-05T13:25:16.727Z"
   },
   {
    "duration": 15,
    "start_time": "2022-05-05T13:26:20.077Z"
   },
   {
    "duration": 20,
    "start_time": "2022-05-05T13:26:48.560Z"
   },
   {
    "duration": 14,
    "start_time": "2022-05-05T13:27:14.513Z"
   },
   {
    "duration": 1194,
    "start_time": "2022-05-05T13:29:36.361Z"
   },
   {
    "duration": 42,
    "start_time": "2022-05-05T13:29:37.557Z"
   },
   {
    "duration": 15,
    "start_time": "2022-05-05T13:29:37.600Z"
   },
   {
    "duration": 16,
    "start_time": "2022-05-05T13:29:37.617Z"
   },
   {
    "duration": 40,
    "start_time": "2022-05-05T13:29:37.635Z"
   },
   {
    "duration": 3,
    "start_time": "2022-05-05T13:29:37.676Z"
   },
   {
    "duration": 9,
    "start_time": "2022-05-05T13:29:37.681Z"
   },
   {
    "duration": 20,
    "start_time": "2022-05-05T13:29:37.692Z"
   },
   {
    "duration": 7,
    "start_time": "2022-05-05T13:29:37.714Z"
   },
   {
    "duration": 16,
    "start_time": "2022-05-05T13:29:37.723Z"
   },
   {
    "duration": 93,
    "start_time": "2022-05-05T13:29:37.740Z"
   },
   {
    "duration": 7,
    "start_time": "2022-05-05T13:29:37.835Z"
   },
   {
    "duration": 6,
    "start_time": "2022-05-05T13:29:37.872Z"
   },
   {
    "duration": 9,
    "start_time": "2022-05-05T13:29:37.880Z"
   },
   {
    "duration": 18,
    "start_time": "2022-05-05T13:29:37.890Z"
   },
   {
    "duration": 16,
    "start_time": "2022-05-05T13:29:37.910Z"
   },
   {
    "duration": 362,
    "start_time": "2022-05-05T13:29:37.927Z"
   },
   {
    "duration": 174,
    "start_time": "2022-05-05T13:29:38.291Z"
   },
   {
    "duration": 119,
    "start_time": "2022-05-05T13:29:38.467Z"
   },
   {
    "duration": 17,
    "start_time": "2022-05-05T13:29:38.588Z"
   },
   {
    "duration": 5,
    "start_time": "2022-05-05T13:29:38.607Z"
   },
   {
    "duration": 691,
    "start_time": "2022-05-05T13:29:38.614Z"
   },
   {
    "duration": 18,
    "start_time": "2022-05-05T13:29:39.307Z"
   },
   {
    "duration": 16,
    "start_time": "2022-05-05T13:29:39.327Z"
   },
   {
    "duration": 4,
    "start_time": "2022-05-05T13:29:39.345Z"
   },
   {
    "duration": 778,
    "start_time": "2022-05-05T13:29:39.351Z"
   },
   {
    "duration": 5,
    "start_time": "2022-05-05T13:29:40.131Z"
   },
   {
    "duration": 252,
    "start_time": "2022-05-05T13:29:40.139Z"
   },
   {
    "duration": 7,
    "start_time": "2022-05-05T13:29:40.393Z"
   },
   {
    "duration": 289,
    "start_time": "2022-05-05T13:29:40.402Z"
   },
   {
    "duration": 5,
    "start_time": "2022-05-05T13:29:40.693Z"
   },
   {
    "duration": 331,
    "start_time": "2022-05-05T13:29:40.699Z"
   },
   {
    "duration": 15,
    "start_time": "2022-05-05T13:29:41.033Z"
   },
   {
    "duration": 22,
    "start_time": "2022-05-05T13:29:41.050Z"
   },
   {
    "duration": 245,
    "start_time": "2022-05-05T13:29:41.074Z"
   },
   {
    "duration": 2594,
    "start_time": "2022-05-05T13:29:41.320Z"
   },
   {
    "duration": 117,
    "start_time": "2022-05-05T13:29:43.916Z"
   },
   {
    "duration": 0,
    "start_time": "2022-05-05T13:29:44.034Z"
   },
   {
    "duration": 0,
    "start_time": "2022-05-05T13:29:44.035Z"
   },
   {
    "duration": 0,
    "start_time": "2022-05-05T13:29:44.036Z"
   },
   {
    "duration": 0,
    "start_time": "2022-05-05T13:29:44.037Z"
   },
   {
    "duration": 0,
    "start_time": "2022-05-05T13:29:44.038Z"
   },
   {
    "duration": 0,
    "start_time": "2022-05-05T13:29:44.038Z"
   },
   {
    "duration": 0,
    "start_time": "2022-05-05T13:29:44.039Z"
   },
   {
    "duration": 0,
    "start_time": "2022-05-05T13:29:44.040Z"
   },
   {
    "duration": 0,
    "start_time": "2022-05-05T13:29:44.041Z"
   },
   {
    "duration": 0,
    "start_time": "2022-05-05T13:29:44.042Z"
   },
   {
    "duration": 0,
    "start_time": "2022-05-05T13:29:44.043Z"
   },
   {
    "duration": 0,
    "start_time": "2022-05-05T13:29:44.045Z"
   },
   {
    "duration": 1,
    "start_time": "2022-05-05T13:29:44.045Z"
   },
   {
    "duration": 0,
    "start_time": "2022-05-05T13:29:44.047Z"
   },
   {
    "duration": 17,
    "start_time": "2022-05-05T13:30:23.972Z"
   },
   {
    "duration": 26,
    "start_time": "2022-05-05T13:30:30.833Z"
   },
   {
    "duration": 18,
    "start_time": "2022-05-05T13:30:42.091Z"
   },
   {
    "duration": 15,
    "start_time": "2022-05-05T13:31:13.279Z"
   },
   {
    "duration": 18,
    "start_time": "2022-05-05T13:32:47.999Z"
   },
   {
    "duration": 1144,
    "start_time": "2022-05-05T13:33:19.023Z"
   },
   {
    "duration": 38,
    "start_time": "2022-05-05T13:33:20.169Z"
   },
   {
    "duration": 16,
    "start_time": "2022-05-05T13:33:20.209Z"
   },
   {
    "duration": 19,
    "start_time": "2022-05-05T13:33:20.227Z"
   },
   {
    "duration": 44,
    "start_time": "2022-05-05T13:33:20.248Z"
   },
   {
    "duration": 3,
    "start_time": "2022-05-05T13:33:20.294Z"
   },
   {
    "duration": 16,
    "start_time": "2022-05-05T13:33:20.298Z"
   },
   {
    "duration": 26,
    "start_time": "2022-05-05T13:33:20.315Z"
   },
   {
    "duration": 8,
    "start_time": "2022-05-05T13:33:20.343Z"
   },
   {
    "duration": 19,
    "start_time": "2022-05-05T13:33:20.354Z"
   },
   {
    "duration": 110,
    "start_time": "2022-05-05T13:33:20.375Z"
   },
   {
    "duration": 8,
    "start_time": "2022-05-05T13:33:20.487Z"
   },
   {
    "duration": 9,
    "start_time": "2022-05-05T13:33:20.496Z"
   },
   {
    "duration": 11,
    "start_time": "2022-05-05T13:33:20.507Z"
   },
   {
    "duration": 26,
    "start_time": "2022-05-05T13:33:20.520Z"
   },
   {
    "duration": 28,
    "start_time": "2022-05-05T13:33:20.548Z"
   },
   {
    "duration": 337,
    "start_time": "2022-05-05T13:33:20.578Z"
   },
   {
    "duration": 168,
    "start_time": "2022-05-05T13:33:20.916Z"
   },
   {
    "duration": 109,
    "start_time": "2022-05-05T13:33:21.085Z"
   },
   {
    "duration": 15,
    "start_time": "2022-05-05T13:33:21.196Z"
   },
   {
    "duration": 6,
    "start_time": "2022-05-05T13:33:21.213Z"
   },
   {
    "duration": 685,
    "start_time": "2022-05-05T13:33:21.220Z"
   },
   {
    "duration": 20,
    "start_time": "2022-05-05T13:33:21.907Z"
   },
   {
    "duration": 17,
    "start_time": "2022-05-05T13:33:21.928Z"
   },
   {
    "duration": 3,
    "start_time": "2022-05-05T13:33:21.946Z"
   },
   {
    "duration": 774,
    "start_time": "2022-05-05T13:33:21.951Z"
   },
   {
    "duration": 5,
    "start_time": "2022-05-05T13:33:22.727Z"
   },
   {
    "duration": 251,
    "start_time": "2022-05-05T13:33:22.736Z"
   },
   {
    "duration": 7,
    "start_time": "2022-05-05T13:33:22.989Z"
   },
   {
    "duration": 299,
    "start_time": "2022-05-05T13:33:22.998Z"
   },
   {
    "duration": 4,
    "start_time": "2022-05-05T13:33:23.299Z"
   },
   {
    "duration": 332,
    "start_time": "2022-05-05T13:33:23.305Z"
   },
   {
    "duration": 13,
    "start_time": "2022-05-05T13:33:23.639Z"
   },
   {
    "duration": 20,
    "start_time": "2022-05-05T13:33:23.654Z"
   },
   {
    "duration": 248,
    "start_time": "2022-05-05T13:33:23.676Z"
   },
   {
    "duration": 2616,
    "start_time": "2022-05-05T13:33:23.925Z"
   },
   {
    "duration": 15,
    "start_time": "2022-05-05T13:33:26.543Z"
   },
   {
    "duration": 29,
    "start_time": "2022-05-05T13:33:26.560Z"
   },
   {
    "duration": 211,
    "start_time": "2022-05-05T13:33:26.591Z"
   },
   {
    "duration": 8,
    "start_time": "2022-05-05T13:33:26.804Z"
   },
   {
    "duration": 679,
    "start_time": "2022-05-05T13:33:26.813Z"
   },
   {
    "duration": 697,
    "start_time": "2022-05-05T13:33:27.494Z"
   },
   {
    "duration": 19,
    "start_time": "2022-05-05T13:33:28.193Z"
   },
   {
    "duration": 756,
    "start_time": "2022-05-05T13:33:28.214Z"
   },
   {
    "duration": 2,
    "start_time": "2022-05-05T13:33:28.974Z"
   },
   {
    "duration": 17,
    "start_time": "2022-05-05T13:33:28.978Z"
   },
   {
    "duration": 3,
    "start_time": "2022-05-05T13:33:28.997Z"
   },
   {
    "duration": 11,
    "start_time": "2022-05-05T13:33:29.002Z"
   },
   {
    "duration": 5,
    "start_time": "2022-05-05T13:33:29.014Z"
   },
   {
    "duration": 10,
    "start_time": "2022-05-05T13:33:29.021Z"
   },
   {
    "duration": 8,
    "start_time": "2022-05-05T13:33:29.032Z"
   },
   {
    "duration": 34,
    "start_time": "2022-05-05T13:33:29.041Z"
   },
   {
    "duration": 2222,
    "start_time": "2022-05-11T07:43:59.116Z"
   },
   {
    "duration": 24,
    "start_time": "2022-05-11T07:44:01.340Z"
   },
   {
    "duration": 17,
    "start_time": "2022-05-11T07:44:01.366Z"
   },
   {
    "duration": 30,
    "start_time": "2022-05-11T07:44:01.385Z"
   },
   {
    "duration": 31,
    "start_time": "2022-05-11T07:44:01.418Z"
   },
   {
    "duration": 8,
    "start_time": "2022-05-11T07:44:01.451Z"
   },
   {
    "duration": 11,
    "start_time": "2022-05-11T07:44:01.461Z"
   },
   {
    "duration": 5,
    "start_time": "2022-05-11T07:44:01.494Z"
   },
   {
    "duration": 14,
    "start_time": "2022-05-11T07:44:01.501Z"
   },
   {
    "duration": 10,
    "start_time": "2022-05-11T07:44:01.517Z"
   },
   {
    "duration": 477,
    "start_time": "2022-05-11T07:44:01.529Z"
   },
   {
    "duration": 7,
    "start_time": "2022-05-11T07:44:02.008Z"
   },
   {
    "duration": 1098,
    "start_time": "2022-05-11T07:44:02.017Z"
   },
   {
    "duration": 2875,
    "start_time": "2022-05-11T07:44:03.119Z"
   },
   {
    "duration": 986,
    "start_time": "2022-05-11T07:44:05.996Z"
   },
   {
    "duration": 1892,
    "start_time": "2022-05-11T07:44:06.985Z"
   },
   {
    "duration": 366,
    "start_time": "2022-05-11T07:44:08.879Z"
   },
   {
    "duration": 14,
    "start_time": "2022-05-11T07:44:09.248Z"
   },
   {
    "duration": 347,
    "start_time": "2022-05-11T07:44:09.265Z"
   },
   {
    "duration": 426,
    "start_time": "2022-05-11T07:44:09.614Z"
   },
   {
    "duration": 16,
    "start_time": "2022-05-11T07:44:10.043Z"
   },
   {
    "duration": 32,
    "start_time": "2022-05-11T07:44:10.061Z"
   },
   {
    "duration": 13,
    "start_time": "2022-05-11T07:44:10.095Z"
   },
   {
    "duration": 170,
    "start_time": "2022-05-11T07:44:10.111Z"
   },
   {
    "duration": 17,
    "start_time": "2022-05-11T07:44:10.284Z"
   },
   {
    "duration": 158,
    "start_time": "2022-05-11T07:44:10.304Z"
   },
   {
    "duration": 12,
    "start_time": "2022-05-11T07:44:10.464Z"
   },
   {
    "duration": 356,
    "start_time": "2022-05-11T07:44:10.492Z"
   },
   {
    "duration": 354,
    "start_time": "2022-05-11T07:44:10.851Z"
   },
   {
    "duration": 155,
    "start_time": "2022-05-11T07:44:11.208Z"
   },
   {
    "duration": 12,
    "start_time": "2022-05-11T07:44:11.365Z"
   },
   {
    "duration": 7,
    "start_time": "2022-05-11T07:44:11.394Z"
   },
   {
    "duration": 14,
    "start_time": "2022-05-11T07:44:11.403Z"
   },
   {
    "duration": 397,
    "start_time": "2022-05-11T07:44:11.420Z"
   },
   {
    "duration": 6,
    "start_time": "2022-05-11T07:44:11.820Z"
   },
   {
    "duration": 27,
    "start_time": "2022-05-11T07:44:11.829Z"
   },
   {
    "duration": 38,
    "start_time": "2022-05-11T07:44:11.859Z"
   },
   {
    "duration": 338,
    "start_time": "2022-05-11T07:44:11.900Z"
   },
   {
    "duration": 164,
    "start_time": "2022-05-11T07:45:21.222Z"
   },
   {
    "duration": 6888,
    "start_time": "2022-05-11T07:45:39.182Z"
   },
   {
    "duration": 14,
    "start_time": "2022-05-11T07:46:52.850Z"
   },
   {
    "duration": 6939,
    "start_time": "2022-05-11T07:47:21.766Z"
   },
   {
    "duration": 32130,
    "start_time": "2022-05-11T07:49:54.515Z"
   },
   {
    "duration": 34263,
    "start_time": "2022-05-11T07:51:26.336Z"
   },
   {
    "duration": 34521,
    "start_time": "2022-05-11T07:53:06.227Z"
   },
   {
    "duration": 233,
    "start_time": "2022-05-11T07:55:21.648Z"
   },
   {
    "duration": 32130,
    "start_time": "2022-05-11T07:55:38.227Z"
   },
   {
    "duration": 8,
    "start_time": "2022-05-11T08:23:02.534Z"
   },
   {
    "duration": 5,
    "start_time": "2022-05-11T08:23:08.273Z"
   },
   {
    "duration": 9,
    "start_time": "2022-05-11T08:23:12.621Z"
   },
   {
    "duration": 423,
    "start_time": "2022-05-11T08:37:52.173Z"
   },
   {
    "duration": 3180,
    "start_time": "2022-05-11T08:41:51.529Z"
   },
   {
    "duration": 3275,
    "start_time": "2022-05-11T08:42:10.756Z"
   },
   {
    "duration": 3125,
    "start_time": "2022-05-11T08:42:38.113Z"
   },
   {
    "duration": 3213,
    "start_time": "2022-05-11T08:42:45.043Z"
   },
   {
    "duration": 4,
    "start_time": "2022-05-11T08:42:51.995Z"
   },
   {
    "duration": 21,
    "start_time": "2022-05-11T08:42:54.401Z"
   },
   {
    "duration": 488,
    "start_time": "2022-05-11T08:43:05.025Z"
   },
   {
    "duration": 450,
    "start_time": "2022-05-11T08:43:31.537Z"
   },
   {
    "duration": 610,
    "start_time": "2022-05-11T08:43:41.455Z"
   },
   {
    "duration": 620,
    "start_time": "2022-05-11T08:43:47.346Z"
   },
   {
    "duration": 701,
    "start_time": "2022-05-11T08:43:55.481Z"
   },
   {
    "duration": 743,
    "start_time": "2022-05-11T08:45:26.440Z"
   },
   {
    "duration": 695,
    "start_time": "2022-05-11T08:45:39.586Z"
   },
   {
    "duration": 691,
    "start_time": "2022-05-11T08:46:45.675Z"
   },
   {
    "duration": 683,
    "start_time": "2022-05-11T08:47:04.588Z"
   },
   {
    "duration": 835,
    "start_time": "2022-05-11T08:47:11.501Z"
   },
   {
    "duration": 733,
    "start_time": "2022-05-11T08:47:19.516Z"
   },
   {
    "duration": 756,
    "start_time": "2022-05-11T08:47:26.398Z"
   },
   {
    "duration": 724,
    "start_time": "2022-05-11T08:47:34.601Z"
   },
   {
    "duration": 530,
    "start_time": "2022-05-11T08:48:14.275Z"
   },
   {
    "duration": 521,
    "start_time": "2022-05-11T08:49:02.586Z"
   },
   {
    "duration": 704,
    "start_time": "2022-05-11T08:49:21.477Z"
   },
   {
    "duration": 1026,
    "start_time": "2022-05-11T08:49:57.395Z"
   },
   {
    "duration": 768,
    "start_time": "2022-05-11T08:50:06.307Z"
   },
   {
    "duration": 774,
    "start_time": "2022-05-11T08:50:12.013Z"
   },
   {
    "duration": 754,
    "start_time": "2022-05-11T08:50:20.841Z"
   },
   {
    "duration": 789,
    "start_time": "2022-05-11T08:50:29.551Z"
   },
   {
    "duration": 890,
    "start_time": "2022-05-11T08:50:39.329Z"
   },
   {
    "duration": 757,
    "start_time": "2022-05-11T08:50:50.908Z"
   },
   {
    "duration": 23,
    "start_time": "2022-05-11T08:52:06.746Z"
   },
   {
    "duration": 773,
    "start_time": "2022-05-11T08:52:13.008Z"
   },
   {
    "duration": 893,
    "start_time": "2022-05-11T08:53:04.431Z"
   },
   {
    "duration": 765,
    "start_time": "2022-05-11T08:53:13.516Z"
   },
   {
    "duration": 791,
    "start_time": "2022-05-11T08:53:21.140Z"
   },
   {
    "duration": 910,
    "start_time": "2022-05-11T08:54:22.271Z"
   },
   {
    "duration": 749,
    "start_time": "2022-05-11T08:54:27.963Z"
   },
   {
    "duration": 793,
    "start_time": "2022-05-11T08:55:05.203Z"
   },
   {
    "duration": 778,
    "start_time": "2022-05-11T08:55:14.058Z"
   },
   {
    "duration": 7029,
    "start_time": "2022-05-11T08:55:44.572Z"
   },
   {
    "duration": 4775,
    "start_time": "2022-05-11T08:56:29.722Z"
   },
   {
    "duration": 32231,
    "start_time": "2022-05-11T08:57:05.317Z"
   },
   {
    "duration": 1070,
    "start_time": "2022-05-11T08:58:59.611Z"
   },
   {
    "duration": 832,
    "start_time": "2022-05-11T08:59:05.033Z"
   },
   {
    "duration": 24,
    "start_time": "2022-05-11T08:59:33.564Z"
   },
   {
    "duration": 22,
    "start_time": "2022-05-11T09:01:08.556Z"
   },
   {
    "duration": 767,
    "start_time": "2022-05-11T09:01:15.653Z"
   },
   {
    "duration": 830,
    "start_time": "2022-05-11T09:01:26.246Z"
   },
   {
    "duration": 838,
    "start_time": "2022-05-11T09:01:35.458Z"
   },
   {
    "duration": 840,
    "start_time": "2022-05-11T09:01:41.529Z"
   },
   {
    "duration": 1074,
    "start_time": "2022-05-11T09:01:47.819Z"
   },
   {
    "duration": 791,
    "start_time": "2022-05-11T09:01:53.585Z"
   },
   {
    "duration": 951,
    "start_time": "2022-05-11T09:02:00.378Z"
   },
   {
    "duration": 811,
    "start_time": "2022-05-11T09:08:56.760Z"
   },
   {
    "duration": 818,
    "start_time": "2022-05-11T09:09:03.351Z"
   },
   {
    "duration": 12,
    "start_time": "2022-05-11T09:57:08.597Z"
   },
   {
    "duration": 32858,
    "start_time": "2022-05-11T09:57:33.731Z"
   },
   {
    "duration": 18,
    "start_time": "2022-05-11T10:07:31.624Z"
   },
   {
    "duration": 27,
    "start_time": "2022-05-11T10:09:27.786Z"
   },
   {
    "duration": 32,
    "start_time": "2022-05-11T10:10:39.240Z"
   },
   {
    "duration": 6,
    "start_time": "2022-05-11T10:11:04.700Z"
   },
   {
    "duration": 27,
    "start_time": "2022-05-11T10:11:20.527Z"
   },
   {
    "duration": 27,
    "start_time": "2022-05-11T10:11:24.273Z"
   },
   {
    "duration": 5,
    "start_time": "2022-05-11T10:11:26.571Z"
   },
   {
    "duration": 4,
    "start_time": "2022-05-11T10:11:36.522Z"
   },
   {
    "duration": 14,
    "start_time": "2022-05-11T10:12:00.897Z"
   },
   {
    "duration": 11,
    "start_time": "2022-05-11T10:12:41.033Z"
   },
   {
    "duration": 11,
    "start_time": "2022-05-11T10:16:11.454Z"
   },
   {
    "duration": 14,
    "start_time": "2022-05-11T10:16:32.212Z"
   },
   {
    "duration": 14,
    "start_time": "2022-05-11T10:16:54.140Z"
   },
   {
    "duration": 15,
    "start_time": "2022-05-11T10:17:15.328Z"
   },
   {
    "duration": 17,
    "start_time": "2022-05-11T10:17:24.798Z"
   },
   {
    "duration": 18,
    "start_time": "2022-05-11T10:17:32.483Z"
   },
   {
    "duration": 20,
    "start_time": "2022-05-11T10:20:40.593Z"
   },
   {
    "duration": 4,
    "start_time": "2022-05-11T10:21:26.516Z"
   },
   {
    "duration": 19,
    "start_time": "2022-05-11T10:26:00.705Z"
   },
   {
    "duration": 2097,
    "start_time": "2022-05-11T10:32:33.558Z"
   },
   {
    "duration": 22,
    "start_time": "2022-05-11T10:32:35.658Z"
   },
   {
    "duration": 23,
    "start_time": "2022-05-11T10:32:35.682Z"
   },
   {
    "duration": 18,
    "start_time": "2022-05-11T10:32:35.707Z"
   },
   {
    "duration": 30,
    "start_time": "2022-05-11T10:32:35.728Z"
   },
   {
    "duration": 32720,
    "start_time": "2022-05-11T10:32:35.760Z"
   },
   {
    "duration": 795,
    "start_time": "2022-05-11T10:33:08.482Z"
   },
   {
    "duration": 16,
    "start_time": "2022-05-11T10:33:09.279Z"
   },
   {
    "duration": 12,
    "start_time": "2022-05-11T10:33:09.297Z"
   },
   {
    "duration": 11,
    "start_time": "2022-05-11T10:33:09.311Z"
   },
   {
    "duration": 9,
    "start_time": "2022-05-11T10:33:09.324Z"
   },
   {
    "duration": 6,
    "start_time": "2022-05-11T10:33:09.336Z"
   },
   {
    "duration": 11,
    "start_time": "2022-05-11T10:33:09.345Z"
   },
   {
    "duration": 354,
    "start_time": "2022-05-11T10:33:09.393Z"
   },
   {
    "duration": 6,
    "start_time": "2022-05-11T10:33:09.749Z"
   },
   {
    "duration": 765,
    "start_time": "2022-05-11T10:33:09.757Z"
   },
   {
    "duration": 2426,
    "start_time": "2022-05-11T10:33:10.524Z"
   },
   {
    "duration": 881,
    "start_time": "2022-05-11T10:33:12.952Z"
   },
   {
    "duration": 1723,
    "start_time": "2022-05-11T10:33:13.835Z"
   },
   {
    "duration": 352,
    "start_time": "2022-05-11T10:33:15.560Z"
   },
   {
    "duration": 14,
    "start_time": "2022-05-11T10:33:15.914Z"
   },
   {
    "duration": 325,
    "start_time": "2022-05-11T10:33:15.930Z"
   },
   {
    "duration": 315,
    "start_time": "2022-05-11T10:33:16.257Z"
   },
   {
    "duration": 20,
    "start_time": "2022-05-11T10:33:16.574Z"
   },
   {
    "duration": 14,
    "start_time": "2022-05-11T10:33:16.597Z"
   },
   {
    "duration": 10,
    "start_time": "2022-05-11T10:33:16.614Z"
   },
   {
    "duration": 167,
    "start_time": "2022-05-11T10:33:16.626Z"
   },
   {
    "duration": 11,
    "start_time": "2022-05-11T10:33:16.795Z"
   },
   {
    "duration": 158,
    "start_time": "2022-05-11T10:33:16.808Z"
   },
   {
    "duration": 12,
    "start_time": "2022-05-11T10:33:16.969Z"
   },
   {
    "duration": 355,
    "start_time": "2022-05-11T10:33:16.992Z"
   },
   {
    "duration": 337,
    "start_time": "2022-05-11T10:33:17.350Z"
   },
   {
    "duration": 159,
    "start_time": "2022-05-11T10:33:17.694Z"
   },
   {
    "duration": 37,
    "start_time": "2022-05-11T10:33:17.856Z"
   },
   {
    "duration": 6,
    "start_time": "2022-05-11T10:33:17.895Z"
   },
   {
    "duration": 23,
    "start_time": "2022-05-11T10:33:17.904Z"
   },
   {
    "duration": 11,
    "start_time": "2022-05-11T10:33:17.929Z"
   },
   {
    "duration": 6,
    "start_time": "2022-05-11T10:33:17.943Z"
   },
   {
    "duration": 45,
    "start_time": "2022-05-11T10:33:17.951Z"
   },
   {
    "duration": 316,
    "start_time": "2022-05-11T10:33:17.998Z"
   },
   {
    "duration": 5,
    "start_time": "2022-05-11T10:33:18.322Z"
   },
   {
    "duration": 27,
    "start_time": "2022-05-11T10:33:18.329Z"
   },
   {
    "duration": 38,
    "start_time": "2022-05-11T10:33:18.358Z"
   },
   {
    "duration": 346,
    "start_time": "2022-05-11T10:33:18.398Z"
   },
   {
    "duration": 3046,
    "start_time": "2022-05-12T08:20:22.763Z"
   },
   {
    "duration": 64,
    "start_time": "2022-05-12T08:20:29.646Z"
   },
   {
    "duration": 11,
    "start_time": "2022-05-12T08:20:29.821Z"
   },
   {
    "duration": 12,
    "start_time": "2022-05-12T08:20:29.900Z"
   },
   {
    "duration": 22,
    "start_time": "2022-05-12T08:20:30.000Z"
   },
   {
    "duration": 28144,
    "start_time": "2022-05-12T08:20:30.404Z"
   },
   {
    "duration": 515,
    "start_time": "2022-05-12T08:20:58.550Z"
   },
   {
    "duration": 10,
    "start_time": "2022-05-12T08:20:59.066Z"
   },
   {
    "duration": 26,
    "start_time": "2022-05-12T08:20:59.079Z"
   },
   {
    "duration": 6,
    "start_time": "2022-05-12T08:20:59.107Z"
   },
   {
    "duration": 4,
    "start_time": "2022-05-12T08:20:59.115Z"
   },
   {
    "duration": 5,
    "start_time": "2022-05-12T08:20:59.121Z"
   },
   {
    "duration": 7,
    "start_time": "2022-05-12T08:20:59.128Z"
   },
   {
    "duration": 265,
    "start_time": "2022-05-12T08:20:59.136Z"
   },
   {
    "duration": 5,
    "start_time": "2022-05-12T08:20:59.404Z"
   },
   {
    "duration": 504,
    "start_time": "2022-05-12T08:20:59.411Z"
   },
   {
    "duration": 1769,
    "start_time": "2022-05-12T08:20:59.917Z"
   },
   {
    "duration": 590,
    "start_time": "2022-05-12T08:21:01.688Z"
   },
   {
    "duration": 1119,
    "start_time": "2022-05-12T08:21:02.279Z"
   },
   {
    "duration": 208,
    "start_time": "2022-05-12T08:21:03.405Z"
   },
   {
    "duration": 9,
    "start_time": "2022-05-12T08:21:03.614Z"
   },
   {
    "duration": 208,
    "start_time": "2022-05-12T08:21:03.625Z"
   },
   {
    "duration": 268,
    "start_time": "2022-05-12T08:21:03.836Z"
   },
   {
    "duration": 132,
    "start_time": "2022-05-12T08:22:02.176Z"
   },
   {
    "duration": 393890,
    "start_time": "2022-05-12T08:22:31.937Z"
   },
   {
    "duration": 0,
    "start_time": "2022-05-12T08:29:05.830Z"
   },
   {
    "duration": 14092,
    "start_time": "2022-05-12T08:30:02.146Z"
   },
   {
    "duration": 0,
    "start_time": "2022-05-12T08:30:16.240Z"
   },
   {
    "duration": 35200,
    "start_time": "2022-05-12T08:30:18.327Z"
   },
   {
    "duration": 3,
    "start_time": "2022-05-12T08:30:53.529Z"
   },
   {
    "duration": 2436,
    "start_time": "2022-05-12T10:37:40.883Z"
   },
   {
    "duration": 16,
    "start_time": "2022-05-12T10:37:43.322Z"
   },
   {
    "duration": 17,
    "start_time": "2022-05-12T10:37:43.340Z"
   },
   {
    "duration": 49,
    "start_time": "2022-05-12T10:37:43.360Z"
   },
   {
    "duration": 33,
    "start_time": "2022-05-12T10:37:43.412Z"
   },
   {
    "duration": 39271,
    "start_time": "2022-05-12T10:37:43.448Z"
   },
   {
    "duration": 1176,
    "start_time": "2022-05-12T10:38:22.723Z"
   },
   {
    "duration": 14,
    "start_time": "2022-05-12T10:38:23.903Z"
   },
   {
    "duration": 12,
    "start_time": "2022-05-12T10:38:23.920Z"
   },
   {
    "duration": 8,
    "start_time": "2022-05-12T10:38:23.936Z"
   },
   {
    "duration": 43,
    "start_time": "2022-05-12T10:38:23.947Z"
   },
   {
    "duration": 27,
    "start_time": "2022-05-12T10:38:23.996Z"
   },
   {
    "duration": 15,
    "start_time": "2022-05-12T10:38:24.026Z"
   },
   {
    "duration": 548,
    "start_time": "2022-05-12T10:38:24.044Z"
   },
   {
    "duration": 7,
    "start_time": "2022-05-12T10:38:24.595Z"
   },
   {
    "duration": 976,
    "start_time": "2022-05-12T10:38:24.605Z"
   },
   {
    "duration": 3782,
    "start_time": "2022-05-12T10:38:25.585Z"
   },
   {
    "duration": 1501,
    "start_time": "2022-05-12T10:38:29.370Z"
   },
   {
    "duration": 2919,
    "start_time": "2022-05-12T10:38:30.882Z"
   },
   {
    "duration": 480,
    "start_time": "2022-05-12T10:38:33.807Z"
   },
   {
    "duration": 16,
    "start_time": "2022-05-12T10:38:34.291Z"
   },
   {
    "duration": 476,
    "start_time": "2022-05-12T10:38:34.309Z"
   },
   {
    "duration": 436,
    "start_time": "2022-05-12T10:38:34.788Z"
   },
   {
    "duration": 64220,
    "start_time": "2022-05-12T10:38:35.227Z"
   },
   {
    "duration": 5,
    "start_time": "2022-05-12T10:39:39.450Z"
   },
   {
    "duration": 38,
    "start_time": "2022-05-12T10:39:39.458Z"
   },
   {
    "duration": 19,
    "start_time": "2022-05-12T10:39:39.498Z"
   },
   {
    "duration": 14,
    "start_time": "2022-05-12T10:39:39.525Z"
   },
   {
    "duration": 352,
    "start_time": "2022-05-12T10:39:39.544Z"
   },
   {
    "duration": 16,
    "start_time": "2022-05-12T10:39:39.898Z"
   },
   {
    "duration": 261,
    "start_time": "2022-05-12T10:39:39.917Z"
   },
   {
    "duration": 13,
    "start_time": "2022-05-12T10:39:40.182Z"
   },
   {
    "duration": 367,
    "start_time": "2022-05-12T10:39:40.198Z"
   },
   {
    "duration": 353,
    "start_time": "2022-05-12T10:39:40.568Z"
   },
   {
    "duration": 171,
    "start_time": "2022-05-12T10:39:40.924Z"
   },
   {
    "duration": 19,
    "start_time": "2022-05-12T10:39:41.098Z"
   },
   {
    "duration": 8,
    "start_time": "2022-05-12T10:39:41.122Z"
   },
   {
    "duration": 54,
    "start_time": "2022-05-12T10:39:41.134Z"
   },
   {
    "duration": 12,
    "start_time": "2022-05-12T10:39:41.191Z"
   },
   {
    "duration": 21,
    "start_time": "2022-05-12T10:39:41.206Z"
   },
   {
    "duration": 16,
    "start_time": "2022-05-12T10:39:41.233Z"
   },
   {
    "duration": 380,
    "start_time": "2022-05-12T10:39:41.252Z"
   },
   {
    "duration": 5,
    "start_time": "2022-05-12T10:39:41.635Z"
   },
   {
    "duration": 50,
    "start_time": "2022-05-12T10:39:41.643Z"
   },
   {
    "duration": 12,
    "start_time": "2022-05-12T10:39:41.696Z"
   },
   {
    "duration": 380,
    "start_time": "2022-05-12T10:39:41.712Z"
   }
  ],
  "kernelspec": {
   "display_name": "Python 3 (ipykernel)",
   "language": "python",
   "name": "python3"
  },
  "language_info": {
   "codemirror_mode": {
    "name": "ipython",
    "version": 3
   },
   "file_extension": ".py",
   "mimetype": "text/x-python",
   "name": "python",
   "nbconvert_exporter": "python",
   "pygments_lexer": "ipython3",
   "version": "3.8.10"
  },
  "toc": {
   "base_numbering": 1,
   "nav_menu": {
    "height": "143px",
    "width": "219px"
   },
   "number_sections": true,
   "sideBar": true,
   "skip_h1_title": true,
   "title_cell": "Table of Contents",
   "title_sidebar": "Contents",
   "toc_cell": false,
   "toc_position": {
    "height": "calc(100% - 180px)",
    "left": "10px",
    "top": "150px",
    "width": "321.275px"
   },
   "toc_section_display": true,
   "toc_window_display": true
  }
 },
 "nbformat": 4,
 "nbformat_minor": 5
}
