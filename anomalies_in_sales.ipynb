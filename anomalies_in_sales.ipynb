{
 "cells": [
  {
   "cell_type": "markdown",
   "id": "24cfce62",
   "metadata": {},
   "source": [
    "# Поиск аномалий в данных офисных товаров"
   ]
  },
  {
   "cell_type": "markdown",
   "id": "9758d538",
   "metadata": {},
   "source": [
    "## Получение и изучение данных"
   ]
  },
  {
   "cell_type": "markdown",
   "id": "1cf96b80",
   "metadata": {},
   "source": [
    "**Заказчик интернет-магазин офисных товаров**\n",
    "\n",
    "В датасете содержится информация о 9994 продажах.\n",
    "\n",
    "Ключевые признаки для поиска аномалий:\n",
    "- `Sales` - продажи;\n",
    "- `Profit` - прибыль.\n",
    "\n",
    "**Цель: выявление явных аномалий для дальнейшего анализа.**"
   ]
  },
  {
   "cell_type": "markdown",
   "id": "74f84e8e",
   "metadata": {},
   "source": [
    "### Импорт библиотек и базовые настройки"
   ]
  },
  {
   "cell_type": "code",
   "execution_count": 1,
   "id": "fa7b5ace",
   "metadata": {},
   "outputs": [],
   "source": [
    "import pandas as pd\n",
    "import numpy as np\n",
    "from sklearn.cluster import KMeans\n",
    "from sklearn.ensemble import IsolationForest\n",
    "from pyod.models.knn import KNN\n",
    "\n",
    "%matplotlib inline\n",
    "import matplotlib.pyplot as plt\n",
    "plt.rcParams['font.size'] = '13'\n",
    "\n",
    "import seaborn as sns\n",
    "sns.set_style('darkgrid')\n",
    "sns.set_palette('Set2')\n",
    "\n",
    "import warnings\n",
    "warnings.filterwarnings(\"ignore\")"
   ]
  },
  {
   "cell_type": "markdown",
   "id": "a69d8593",
   "metadata": {},
   "source": [
    "### Чтение данных"
   ]
  },
  {
   "cell_type": "code",
   "execution_count": 2,
   "id": "892c2030",
   "metadata": {},
   "outputs": [],
   "source": [
    "df = pd.read_csv('https://code.s3.yandex.net/datasets/sales.csv')"
   ]
  },
  {
   "cell_type": "code",
   "execution_count": 3,
   "id": "52887ccd",
   "metadata": {},
   "outputs": [
    {
     "data": {
      "text/html": [
       "<div>\n",
       "<style scoped>\n",
       "    .dataframe tbody tr th:only-of-type {\n",
       "        vertical-align: middle;\n",
       "    }\n",
       "\n",
       "    .dataframe tbody tr th {\n",
       "        vertical-align: top;\n",
       "    }\n",
       "\n",
       "    .dataframe thead th {\n",
       "        text-align: right;\n",
       "    }\n",
       "</style>\n",
       "<table border=\"1\" class=\"dataframe\">\n",
       "  <thead>\n",
       "    <tr style=\"text-align: right;\">\n",
       "      <th></th>\n",
       "      <th>Sales</th>\n",
       "      <th>Profit</th>\n",
       "    </tr>\n",
       "  </thead>\n",
       "  <tbody>\n",
       "    <tr>\n",
       "      <th>0</th>\n",
       "      <td>261.9600</td>\n",
       "      <td>41.9136</td>\n",
       "    </tr>\n",
       "    <tr>\n",
       "      <th>1</th>\n",
       "      <td>731.9400</td>\n",
       "      <td>219.5820</td>\n",
       "    </tr>\n",
       "    <tr>\n",
       "      <th>2</th>\n",
       "      <td>14.6200</td>\n",
       "      <td>6.8714</td>\n",
       "    </tr>\n",
       "    <tr>\n",
       "      <th>3</th>\n",
       "      <td>957.5775</td>\n",
       "      <td>-383.0310</td>\n",
       "    </tr>\n",
       "    <tr>\n",
       "      <th>4</th>\n",
       "      <td>22.3680</td>\n",
       "      <td>2.5164</td>\n",
       "    </tr>\n",
       "  </tbody>\n",
       "</table>\n",
       "</div>"
      ],
      "text/plain": [
       "      Sales    Profit\n",
       "0  261.9600   41.9136\n",
       "1  731.9400  219.5820\n",
       "2   14.6200    6.8714\n",
       "3  957.5775 -383.0310\n",
       "4   22.3680    2.5164"
      ]
     },
     "execution_count": 3,
     "metadata": {},
     "output_type": "execute_result"
    }
   ],
   "source": [
    "df[['Sales', 'Profit']].head()"
   ]
  },
  {
   "cell_type": "code",
   "execution_count": 4,
   "id": "71d98ee8",
   "metadata": {},
   "outputs": [
    {
     "data": {
      "text/html": [
       "<div>\n",
       "<style scoped>\n",
       "    .dataframe tbody tr th:only-of-type {\n",
       "        vertical-align: middle;\n",
       "    }\n",
       "\n",
       "    .dataframe tbody tr th {\n",
       "        vertical-align: top;\n",
       "    }\n",
       "\n",
       "    .dataframe thead th {\n",
       "        text-align: right;\n",
       "    }\n",
       "</style>\n",
       "<table border=\"1\" class=\"dataframe\">\n",
       "  <thead>\n",
       "    <tr style=\"text-align: right;\">\n",
       "      <th></th>\n",
       "      <th>Sales</th>\n",
       "      <th>Profit</th>\n",
       "    </tr>\n",
       "  </thead>\n",
       "  <tbody>\n",
       "    <tr>\n",
       "      <th>count</th>\n",
       "      <td>9994.000000</td>\n",
       "      <td>9994.000000</td>\n",
       "    </tr>\n",
       "    <tr>\n",
       "      <th>mean</th>\n",
       "      <td>229.858001</td>\n",
       "      <td>28.656896</td>\n",
       "    </tr>\n",
       "    <tr>\n",
       "      <th>std</th>\n",
       "      <td>623.245101</td>\n",
       "      <td>234.260108</td>\n",
       "    </tr>\n",
       "    <tr>\n",
       "      <th>min</th>\n",
       "      <td>0.444000</td>\n",
       "      <td>-6599.978000</td>\n",
       "    </tr>\n",
       "    <tr>\n",
       "      <th>25%</th>\n",
       "      <td>17.280000</td>\n",
       "      <td>1.728750</td>\n",
       "    </tr>\n",
       "    <tr>\n",
       "      <th>50%</th>\n",
       "      <td>54.490000</td>\n",
       "      <td>8.666500</td>\n",
       "    </tr>\n",
       "    <tr>\n",
       "      <th>75%</th>\n",
       "      <td>209.940000</td>\n",
       "      <td>29.364000</td>\n",
       "    </tr>\n",
       "    <tr>\n",
       "      <th>max</th>\n",
       "      <td>22638.480000</td>\n",
       "      <td>8399.976000</td>\n",
       "    </tr>\n",
       "  </tbody>\n",
       "</table>\n",
       "</div>"
      ],
      "text/plain": [
       "              Sales       Profit\n",
       "count   9994.000000  9994.000000\n",
       "mean     229.858001    28.656896\n",
       "std      623.245101   234.260108\n",
       "min        0.444000 -6599.978000\n",
       "25%       17.280000     1.728750\n",
       "50%       54.490000     8.666500\n",
       "75%      209.940000    29.364000\n",
       "max    22638.480000  8399.976000"
      ]
     },
     "execution_count": 4,
     "metadata": {},
     "output_type": "execute_result"
    }
   ],
   "source": [
    "df[['Sales', 'Profit']].describe()"
   ]
  },
  {
   "cell_type": "markdown",
   "id": "618dc0ae",
   "metadata": {},
   "source": [
    "- При вызове базовых методотов для изучения данных наблюдаются предполагаемые аномалии, наличие которых может негативно сказаться на машинном обучении.\n",
    "- Далее проведем более детальное выявление аномалий."
   ]
  },
  {
   "cell_type": "markdown",
   "id": "2199091a",
   "metadata": {},
   "source": [
    "## Диаграмма размаха"
   ]
  },
  {
   "cell_type": "markdown",
   "id": "80c98039",
   "metadata": {},
   "source": [
    "Построим ящик с усами для признака 'Sales' - «продажи»."
   ]
  },
  {
   "cell_type": "code",
   "execution_count": 5,
   "id": "6e736180",
   "metadata": {
    "scrolled": true
   },
   "outputs": [
    {
     "data": {
      "image/png": "[encoded data removed]",
      "text/plain": [
       "<Figure size 432x288 with 1 Axes>"
      ]
     },
     "metadata": {},
     "output_type": "display_data"
    }
   ],
   "source": [
    "boxplot_sales = plt.boxplot(df['Sales'].values)\n",
    "plt.ylabel('Сумма продаж')\n",
    "plt.title(\"Выбросы в сумме продаж\")\n",
    "plt.show() "
   ]
  },
  {
   "cell_type": "markdown",
   "id": "8002372a",
   "metadata": {},
   "source": [
    "- Средний чек бо́льшей части покупок — 500–1000 $.\n",
    "- Продажи от 5 до 20 тысяч долларов — аномалии (они отмечены кругами)."
   ]
  },
  {
   "cell_type": "markdown",
   "id": "1e552fd7",
   "metadata": {},
   "source": [
    "---"
   ]
  },
  {
   "cell_type": "markdown",
   "id": "2cff03b2",
   "metadata": {},
   "source": [
    "Диаграмма даёт информацию обо всех выбросах. Она хранится в записи `\"fliers\"` (на англ. синоним «аномалии») внутри объекта *boxplot*. Вызовом функции `get_data()` из объектов получим числа. Нужные значения отделены индексами."
   ]
  },
  {
   "cell_type": "code",
   "execution_count": 6,
   "id": "ead7502d",
   "metadata": {
    "scrolled": true
   },
   "outputs": [
    {
     "name": "stdout",
     "output_type": "stream",
     "text": [
      "Выбросов в продажах:  1167\n"
     ]
    }
   ],
   "source": [
    "outliers_sales = list(boxplot_sales[\"fliers\"][0].get_data()[1])\n",
    "print(\"Выбросов в продажах: \", len(outliers_sales))"
   ]
  },
  {
   "cell_type": "markdown",
   "id": "1894c877",
   "metadata": {},
   "source": [
    "- Найдем в датасете аномалии по признаку `'Profit'`. Из ящика с усами возьмем список аномалий и запишем результат в переменной outliers.\n",
    "- Отфильтруем исходный датафрейм и сохраним список объектов с аномалиями в переменной `df_outliers_profit`.\n",
    "- Выведем количество аномалий (уже в прекоде)."
   ]
  },
  {
   "cell_type": "code",
   "execution_count": 7,
   "id": "aaac75ab",
   "metadata": {},
   "outputs": [
    {
     "name": "stdout",
     "output_type": "stream",
     "text": [
      "Количество аномалий:  1881\n"
     ]
    },
    {
     "data": {
      "image/png": "[encoded data removed]",
      "text/plain": [
       "<Figure size 432x288 with 1 Axes>"
      ]
     },
     "metadata": {},
     "output_type": "display_data"
    }
   ],
   "source": [
    "boxplot_profit = plt.boxplot(df['Profit'].values)\n",
    "outliers_profit = list(boxplot_profit[\"fliers\"][0].get_data()[1])\n",
    "df_outliers_profit = df[df['Profit'].isin(outliers_profit)]\n",
    "print(\"Количество аномалий: \", len(df_outliers_profit))"
   ]
  },
  {
   "cell_type": "markdown",
   "id": "0395b48a",
   "metadata": {},
   "source": [
    "Почти 20% заказов - выбросы.\n",
    "\n",
    "Перепроверим другим алгоритмом."
   ]
  },
  {
   "cell_type": "markdown",
   "id": "c1b22b87",
   "metadata": {},
   "source": [
    "## Изоляционный лес"
   ]
  },
  {
   "cell_type": "markdown",
   "id": "e946e8ba",
   "metadata": {},
   "source": [
    "Обучим модель изоляционного леса и вычислим количество аномалий по признакам:\n",
    "- продаж `df['Sales']`;\n",
    "- прибыли `df['Profit']`.\n",
    "\n",
    "Определим количество аномалий."
   ]
  },
  {
   "cell_type": "code",
   "execution_count": 8,
   "id": "54f6a48d",
   "metadata": {},
   "outputs": [
    {
     "name": "stdout",
     "output_type": "stream",
     "text": [
      "Количество аномалий:  1117\n"
     ]
    }
   ],
   "source": [
    "data = df[['Sales', 'Profit']]                        # объединим данные о продажах и прибыли.\n",
    " \n",
    "isolation_forest = IsolationForest(n_estimators=100,  # количество деревьев в параметре n_estimators\n",
    "                                   random_state=2007) # псевдослучайность \n",
    "estimator = isolation_forest.fit_predict(data)        # обучим модель и получим классификацию\n",
    "outliers = list(estimator[estimator==-1])             # определим выбросы (только оценки, равные -1)\n",
    "\n",
    "print(\"Количество аномалий: \", len(outliers))"
   ]
  },
  {
   "cell_type": "markdown",
   "id": "4966fd42",
   "metadata": {},
   "source": [
    "- Изоляционный лес показал аномальных случаев почти в два раза меньше."
   ]
  },
  {
   "cell_type": "markdown",
   "id": "936f6047",
   "metadata": {},
   "source": [
    "## Метод ближайших соседей (KNN)"
   ]
  },
  {
   "cell_type": "markdown",
   "id": "2dfa4072",
   "metadata": {},
   "source": [
    "- Моделью KNN и изоляционным лесом найдем выбросы в данных с переменными 'Sales' и 'Profit'.\n",
    "- Выясним, сколько аномалий совпало.\n",
    "- Напечатаем на экране два варианта количества выбросов и число совпавших аномалий."
   ]
  },
  {
   "cell_type": "code",
   "execution_count": 9,
   "id": "5e085716",
   "metadata": {},
   "outputs": [
    {
     "name": "stdout",
     "output_type": "stream",
     "text": [
      "Количество аномалий (KNN):  1000\n",
      "Количество аномалий (изоляционный лес):  1101\n",
      "Совпало:  894\n"
     ]
    }
   ],
   "source": [
    "model = KNN()\n",
    "estimation_knn = model.fit_predict(data) == 1                 # «1» означает аномалию\n",
    "outliers_knn = estimation_knn.sum() \n",
    "print(\"Количество аномалий (KNN): \", outliers_knn)\n",
    "\n",
    "isolation_forest = IsolationForest(n_estimators=100)\n",
    "estimation_iforest = isolation_forest.fit_predict(data) == -1 # «-1» означает аномалию\n",
    "outliers_iforest =  estimation_iforest.sum()\n",
    "print(\"Количество аномалий (изоляционный лес): \", outliers_iforest)\n",
    "\n",
    "print(\"Совпало: \", (estimation_knn & estimation_iforest).sum())"
   ]
  },
  {
   "cell_type": "markdown",
   "id": "a2ca1bfc",
   "metadata": {},
   "source": [
    "Большая часть совпала - это самые явные аномалии."
   ]
  }
 ],
 "metadata": {
  "kernelspec": {
   "display_name": "Python 3 (ipykernel)",
   "language": "python",
   "name": "python3"
  },
  "language_info": {
   "codemirror_mode": {
    "name": "ipython",
    "version": 3
   },
   "file_extension": ".py",
   "mimetype": "text/x-python",
   "name": "python",
   "nbconvert_exporter": "python",
   "pygments_lexer": "ipython3",
   "version": "3.8.10"
  },
  "toc": {
   "base_numbering": 1,
   "nav_menu": {},
   "number_sections": true,
   "sideBar": true,
   "skip_h1_title": true,
   "title_cell": "Table of Contents",
   "title_sidebar": "Contents",
   "toc_cell": false,
   "toc_position": {},
   "toc_section_display": true,
   "toc_window_display": true
  }
 },
 "nbformat": 4,
 "nbformat_minor": 5
}
