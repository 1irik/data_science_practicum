{
 "cells": [
  {
   "cell_type": "markdown",
   "id": "4dbf8ada",
   "metadata": {},
   "source": [
    "# Анализ тарифов компании \"Мегалайн\""
   ]
  },
  {
   "cell_type": "markdown",
   "id": "3733dfa8",
   "metadata": {},
   "source": [
    "## Получение и изучение данных"
   ]
  },
  {
   "cell_type": "markdown",
   "id": "74cdd1ca",
   "metadata": {},
   "source": [
    "### Поставленная задача и исходные данные"
   ]
  },
  {
   "cell_type": "markdown",
   "id": "a2ea9e22",
   "metadata": {},
   "source": [
    "Заказчик проекта - федеральный оператор сотовой связи компания «Мегалайн».\n",
    "\n",
    "Клиентам предлагают два тарифных плана: «Смарт» и «Ультра». Чтобы скорректировать рекламный бюджет, коммерческий департамент хочет понять, какой тариф приносит больше денег.\n",
    "\n",
    "В распоряжении данные 500 пользователей «Мегалайна»: кто они, откуда, каким тарифом пользуются, сколько звонков и сообщений каждый отправил за 2018 год.\n",
    "\n",
    "Задача: выполнить предварительный анализ поведения клиентов на небольшой выборке и сделать вывод — какой тариф лучше."
   ]
  },
  {
   "cell_type": "markdown",
   "id": "7ed06448",
   "metadata": {},
   "source": [
    "**Описание тарифов**\n",
    "\n",
    "Тариф «Смарт»:\n",
    "1. Ежемесячная плата: 550 рублей\n",
    "2. Включено 500 минут разговора, 50 сообщений и 15 Гб интернет-трафика\n",
    "3. Стоимость услуг сверх тарифного пакета:\n",
    "    - минута разговора: 3 рубля\n",
    "    - сообщение: 3 рубля\n",
    "    - 1 Гб интернет-трафика: 200 рублей\n",
    "    \n",
    "Тариф «Ультра»:\n",
    "1. Ежемесячная плата: 1950 рублей\n",
    "2. Включено 3000 минут разговора, 1000 сообщений и 30 Гб интернет-трафика\n",
    "3. Стоимость услуг сверх тарифного пакета:\n",
    "    - минута разговора: 1 рубль\n",
    "    - сообщение: 1 рубль\n",
    "    - 1 Гб интернет-трафика: 150 рублей"
   ]
  },
  {
   "cell_type": "markdown",
   "id": "56d06e64",
   "metadata": {},
   "source": [
    "**Примечание:**\n",
    "\n",
    "*«Мегалайн» всегда округляет секунды до минут, а мегабайты — до гигабайт. Каждый звонок округляется отдельно: даже если он длился всего 1 секунду, будет засчитан как 1 минута.*\n",
    "\n",
    "*Для веб-трафика отдельные сессии не считаются. Вместо этого общая сумма за месяц округляется в бо́льшую сторону. Если абонент использует 1025 мегабайт в этом месяце, с него возьмут плату за 2 гигабайта.*"
   ]
  },
  {
   "cell_type": "markdown",
   "id": "6664da8d",
   "metadata": {},
   "source": [
    "**Описание данных**\n",
    "\n",
    "Таблица <ins>**users**</ins> (информация о пользователях):\n",
    "- `user_id` — уникальный идентификатор пользователя\n",
    "- `first_name` — имя пользователя\n",
    "- `last_name` — фамилия пользователя\n",
    "- `age` — возраст пользователя (годы)\n",
    "- `reg_date` — дата подключения тарифа (день, месяц, год)\n",
    "- `churn_date` — дата прекращения пользования тарифом (если значение пропущено, то тариф ещё действовал на момент выгрузки данных)\n",
    "- `city` — город проживания пользователя\n",
    "- `tariff` — название тарифного плана\n",
    "\n",
    "Таблица <ins>**calls**</ins> (информация о звонках):\n",
    "- `id` — уникальный номер звонка\n",
    "- `call_date` — дата звонка\n",
    "- `duration` — длительность звонка в минутах\n",
    "- `user_id` — идентификатор пользователя, сделавшего звонок\n",
    "\n",
    "Таблица <ins>**messages**</ins> (информация о сообщениях):\n",
    "- `id` — уникальный номер сообщения\n",
    "- `message_date` — дата сообщения\n",
    "- `user_id` — идентификатор пользователя, отправившего сообщение\n",
    "\n",
    "Таблица <ins>**internet**</ins> (информация об интернет-сессиях):\n",
    "- `id` — уникальный номер сессии\n",
    "- `mb_used` — объём потраченного за сессию интернет-трафика (в мегабайтах)\n",
    "- `session_date` — дата интернет-сессии\n",
    "- `user_id` — идентификатор пользователя\n",
    "\n",
    "Таблица <ins>**tariffs**</ins> (информация о тарифах):\n",
    "- `tariff_name` — название тарифа\n",
    "- `rub_monthly_fee` — ежемесячная абонентская плата в рублях\n",
    "- `minutes_included` — количество минут разговора в месяц, включённых в абонентскую плату\n",
    "- `messages_included` — количество сообщений в месяц, включённых в абонентскую плату\n",
    "- `mb_per_month_included` — объём интернет-трафика, включённого в абонентскую плату (в мегабайтах)\n",
    "- `rub_per_minute` — стоимость минуты разговора сверх тарифного пакета (например, если в тарифе 100 минут разговора в месяц, то со 101 минуты будет взиматься плата)\n",
    "- `rub_per_message` — стоимость отправки сообщения сверх тарифного пакета\n",
    "- `rub_per_gb` — стоимость дополнительного гигабайта интернет-трафика сверх тарифного пакета (1 гигабайт = 1024 мегабайта)"
   ]
  },
  {
   "cell_type": "markdown",
   "id": "83cd17d2",
   "metadata": {},
   "source": [
    "### Обзор данных"
   ]
  },
  {
   "cell_type": "markdown",
   "id": "886f8848",
   "metadata": {},
   "source": [
    "<ins>Импорт библиотек</ins>"
   ]
  },
  {
   "cell_type": "code",
   "execution_count": 1,
   "id": "035df753",
   "metadata": {},
   "outputs": [],
   "source": [
    "import pandas as pd\n",
    "import matplotlib.pyplot as plt\n",
    "import math\n",
    "import numpy as np\n",
    "from scipy import stats as st\n",
    "pd.set_option('display.max_columns', None)"
   ]
  },
  {
   "cell_type": "markdown",
   "id": "438dc335",
   "metadata": {},
   "source": [
    "<ins>Открытие файлов с данными</ins>"
   ]
  },
  {
   "cell_type": "code",
   "execution_count": 2,
   "id": "c83d3b52",
   "metadata": {},
   "outputs": [],
   "source": [
    "users = pd.read_csv('https://code.s3.yandex.net/datasets/megaline_tariff_users.csv')\n",
    "calls = pd.read_csv('https://code.s3.yandex.net/datasets/megaline_tariff_calls.csv')\n",
    "messages = pd.read_csv('https://code.s3.yandex.net/datasets/megaline_tariff_messages.csv')\n",
    "internet = pd.read_csv('https://code.s3.yandex.net/datasets/megaline_tariff_internet.csv')\n",
    "tariffs = pd.read_csv('https://code.s3.yandex.net/datasets/megaline_tariff_tariffs.csv')"
   ]
  },
  {
   "cell_type": "markdown",
   "id": "b8d7618e",
   "metadata": {},
   "source": [
    "<ins>Изучение общей информации о данных</ins>"
   ]
  },
  {
   "cell_type": "markdown",
   "id": "1522dd40",
   "metadata": {},
   "source": [
    "**Примечание:**\n",
    "- при анализе методами .head() и .describe() не выявлено ничего критичного на этой стадии, поэтому в коде данного раздела они не приведены.\n",
    "\n",
    "P.s. Однако, в следующих шагах метод head() активно используется. "
   ]
  },
  {
   "cell_type": "markdown",
   "id": "fb1b4670",
   "metadata": {},
   "source": [
    "Таблица **users**"
   ]
  },
  {
   "cell_type": "code",
   "execution_count": 3,
   "id": "a9cc6233",
   "metadata": {
    "scrolled": true
   },
   "outputs": [
    {
     "name": "stdout",
     "output_type": "stream",
     "text": [
      "<class 'pandas.core.frame.DataFrame'>\n",
      "RangeIndex: 500 entries, 0 to 499\n",
      "Data columns (total 8 columns):\n",
      " #   Column      Non-Null Count  Dtype \n",
      "---  ------      --------------  ----- \n",
      " 0   user_id     500 non-null    int64 \n",
      " 1   age         500 non-null    int64 \n",
      " 2   churn_date  38 non-null     object\n",
      " 3   city        500 non-null    object\n",
      " 4   first_name  500 non-null    object\n",
      " 5   last_name   500 non-null    object\n",
      " 6   reg_date    500 non-null    object\n",
      " 7   tariff      500 non-null    object\n",
      "dtypes: int64(2), object(6)\n",
      "memory usage: 31.4+ KB\n"
     ]
    }
   ],
   "source": [
    "users.info()"
   ]
  },
  {
   "cell_type": "markdown",
   "id": "796d72e0",
   "metadata": {},
   "source": [
    "Наблюдения:\n",
    "- `churn_date` (дата прекращения пользования тарифом) тип `object` - для корректного анализа необходимо поменять тип на `datetime64`, замена типа следует из наименования столбца, есть пропуски значений, однако в исходных данных указано - если значение пропущено, то тариф ещё действовал на момент выгрузки данных\n",
    "- `reg_date` (дата подключения тарифа) тип `object` - для корректного анализа необходимо поменять тип на `datetime64`, замена типа следует из наименования столбца"
   ]
  },
  {
   "cell_type": "markdown",
   "id": "ab81fdb4",
   "metadata": {},
   "source": [
    "Таблица **calls**"
   ]
  },
  {
   "cell_type": "code",
   "execution_count": 4,
   "id": "d43cd60d",
   "metadata": {
    "scrolled": true
   },
   "outputs": [
    {
     "name": "stdout",
     "output_type": "stream",
     "text": [
      "<class 'pandas.core.frame.DataFrame'>\n",
      "RangeIndex: 202607 entries, 0 to 202606\n",
      "Data columns (total 4 columns):\n",
      " #   Column     Non-Null Count   Dtype  \n",
      "---  ------     --------------   -----  \n",
      " 0   id         202607 non-null  object \n",
      " 1   call_date  202607 non-null  object \n",
      " 2   duration   202607 non-null  float64\n",
      " 3   user_id    202607 non-null  int64  \n",
      "dtypes: float64(1), int64(1), object(2)\n",
      "memory usage: 6.2+ MB\n"
     ]
    }
   ],
   "source": [
    "calls.info()"
   ]
  },
  {
   "cell_type": "markdown",
   "id": "4d3ffe2a",
   "metadata": {},
   "source": [
    "Наблюдения:\n",
    "- `call_date` (дата звонка) тип `object` - для корректного анализа необходимо поменять тип на `datetime64`, замена типа следует из наименования столбца"
   ]
  },
  {
   "cell_type": "markdown",
   "id": "3844fb47",
   "metadata": {},
   "source": [
    "Таблица **messages**"
   ]
  },
  {
   "cell_type": "code",
   "execution_count": 5,
   "id": "ff52bf6a",
   "metadata": {
    "scrolled": true
   },
   "outputs": [
    {
     "name": "stdout",
     "output_type": "stream",
     "text": [
      "<class 'pandas.core.frame.DataFrame'>\n",
      "RangeIndex: 123036 entries, 0 to 123035\n",
      "Data columns (total 3 columns):\n",
      " #   Column        Non-Null Count   Dtype \n",
      "---  ------        --------------   ----- \n",
      " 0   id            123036 non-null  object\n",
      " 1   message_date  123036 non-null  object\n",
      " 2   user_id       123036 non-null  int64 \n",
      "dtypes: int64(1), object(2)\n",
      "memory usage: 2.8+ MB\n"
     ]
    }
   ],
   "source": [
    "messages.info()"
   ]
  },
  {
   "cell_type": "markdown",
   "id": "38de8760",
   "metadata": {},
   "source": [
    "Наблюдения:\n",
    "- `message_date` (дата сообщения) тип `object` - для корректного анализа необходимо поменять тип на `datetime64`, замена типа следует из наименования столбца"
   ]
  },
  {
   "cell_type": "markdown",
   "id": "0d61690e",
   "metadata": {},
   "source": [
    "Таблица **internet**"
   ]
  },
  {
   "cell_type": "code",
   "execution_count": 6,
   "id": "562f5a41",
   "metadata": {
    "scrolled": false
   },
   "outputs": [
    {
     "name": "stdout",
     "output_type": "stream",
     "text": [
      "<class 'pandas.core.frame.DataFrame'>\n",
      "RangeIndex: 149396 entries, 0 to 149395\n",
      "Data columns (total 5 columns):\n",
      " #   Column        Non-Null Count   Dtype  \n",
      "---  ------        --------------   -----  \n",
      " 0   Unnamed: 0    149396 non-null  int64  \n",
      " 1   id            149396 non-null  object \n",
      " 2   mb_used       149396 non-null  float64\n",
      " 3   session_date  149396 non-null  object \n",
      " 4   user_id       149396 non-null  int64  \n",
      "dtypes: float64(1), int64(2), object(2)\n",
      "memory usage: 5.7+ MB\n"
     ]
    }
   ],
   "source": [
    "internet.info()"
   ]
  },
  {
   "cell_type": "markdown",
   "id": "355559b9",
   "metadata": {},
   "source": [
    "Наблюдения:\n",
    "- `session_date` (дата интернет-сессии) тип `object` - для корректного анализа необходимо поменять тип на `datetime64`, замена типа следует из наименования столбца\n",
    "- столбца `Unnamed: 0` не было в исходных данных"
   ]
  },
  {
   "cell_type": "markdown",
   "id": "a16ac5d8",
   "metadata": {},
   "source": [
    "Таблица **tariffs**"
   ]
  },
  {
   "cell_type": "markdown",
   "id": "7db87d70",
   "metadata": {},
   "source": [
    "<ins>Получение общей информации о данных</ins>"
   ]
  },
  {
   "cell_type": "code",
   "execution_count": 7,
   "id": "b9d28969",
   "metadata": {
    "scrolled": false
   },
   "outputs": [
    {
     "name": "stdout",
     "output_type": "stream",
     "text": [
      "<class 'pandas.core.frame.DataFrame'>\n",
      "RangeIndex: 2 entries, 0 to 1\n",
      "Data columns (total 8 columns):\n",
      " #   Column                 Non-Null Count  Dtype \n",
      "---  ------                 --------------  ----- \n",
      " 0   messages_included      2 non-null      int64 \n",
      " 1   mb_per_month_included  2 non-null      int64 \n",
      " 2   minutes_included       2 non-null      int64 \n",
      " 3   rub_monthly_fee        2 non-null      int64 \n",
      " 4   rub_per_gb             2 non-null      int64 \n",
      " 5   rub_per_message        2 non-null      int64 \n",
      " 6   rub_per_minute         2 non-null      int64 \n",
      " 7   tariff_name            2 non-null      object\n",
      "dtypes: int64(7), object(1)\n",
      "memory usage: 256.0+ bytes\n"
     ]
    }
   ],
   "source": [
    "tariffs.info()"
   ]
  },
  {
   "cell_type": "markdown",
   "id": "e78262bd",
   "metadata": {},
   "source": [
    "Наблюдения:\n",
    "- не выявлено ничего критичного. "
   ]
  },
  {
   "cell_type": "markdown",
   "id": "8a6eed5d",
   "metadata": {},
   "source": [
    "## Подготовка данных"
   ]
  },
  {
   "cell_type": "markdown",
   "id": "2256a125",
   "metadata": {},
   "source": [
    "### Приведение данных к нужным типам"
   ]
  },
  {
   "cell_type": "markdown",
   "id": "e8cdd1b2",
   "metadata": {},
   "source": [
    "Таблица **users**:\n",
    "- `churn_date` (дата прекращения пользования тарифом), `reg_date` (дата подключения тарифа) тип `object` - необходимо поменять тип на `datetime64`\n",
    "\n",
    "Таблица **calls**:\n",
    "- `call_date` (дата звонка) тип `object` - необходимо поменять тип на `datetime64`\n",
    "\n",
    "Таблица **messages**\n",
    "- `message_date` (дата сообщения) тип `object` - необходимо поменять тип на `datetime64`\n",
    "\n",
    "Таблица **internet**\n",
    "- `session_date` (дата интернет-сессии) тип `object` - необходимо поменять тип на `datetime64`"
   ]
  },
  {
   "cell_type": "code",
   "execution_count": 8,
   "id": "edce20be",
   "metadata": {},
   "outputs": [],
   "source": [
    "users['churn_date'] = pd.to_datetime(users['churn_date'], format='%Y-%m-%d')\n",
    "users['reg_date'] = pd.to_datetime(users['reg_date'], format='%Y-%m-%d')\n",
    "calls['call_date'] = pd.to_datetime(calls['call_date'], format='%Y-%m-%d')\n",
    "messages['message_date'] = pd.to_datetime(messages['message_date'], format='%Y-%m-%d')\n",
    "internet['session_date'] = pd.to_datetime(internet['session_date'], format='%Y-%m-%d')"
   ]
  },
  {
   "cell_type": "markdown",
   "id": "4289f185",
   "metadata": {},
   "source": [
    "### Поиск и исправление ошибок в данных"
   ]
  },
  {
   "cell_type": "markdown",
   "id": "8c60f51e",
   "metadata": {},
   "source": [
    "Из анализа методом .info() было видно, в таблице **users** в столбце `churn_date` (дата прекращения пользования тарифом) есть пропуски значений, однако в исходных данных указано - если значение пропущено, то тариф ещё действовал на момент выгрузки данных. Пропуски оставляем без изменений.\n",
    "\n",
    "Из анализа методом .info() было видно, в таблице **internet** столбца `Unnamed: 0` не было в исходных данных. Далее примем решение, что с ним делать."
   ]
  },
  {
   "cell_type": "markdown",
   "id": "8aacb58d",
   "metadata": {},
   "source": [
    "Выведем несколько строк из каждой таблицы на экран:"
   ]
  },
  {
   "cell_type": "code",
   "execution_count": 9,
   "id": "07de5de1",
   "metadata": {
    "scrolled": true
   },
   "outputs": [
    {
     "data": {
      "text/html": [
       "<div>\n",
       "<style scoped>\n",
       "    .dataframe tbody tr th:only-of-type {\n",
       "        vertical-align: middle;\n",
       "    }\n",
       "\n",
       "    .dataframe tbody tr th {\n",
       "        vertical-align: top;\n",
       "    }\n",
       "\n",
       "    .dataframe thead th {\n",
       "        text-align: right;\n",
       "    }\n",
       "</style>\n",
       "<table border=\"1\" class=\"dataframe\">\n",
       "  <thead>\n",
       "    <tr style=\"text-align: right;\">\n",
       "      <th></th>\n",
       "      <th>user_id</th>\n",
       "      <th>age</th>\n",
       "      <th>churn_date</th>\n",
       "      <th>city</th>\n",
       "      <th>first_name</th>\n",
       "      <th>last_name</th>\n",
       "      <th>reg_date</th>\n",
       "      <th>tariff</th>\n",
       "    </tr>\n",
       "  </thead>\n",
       "  <tbody>\n",
       "    <tr>\n",
       "      <th>0</th>\n",
       "      <td>1000</td>\n",
       "      <td>52</td>\n",
       "      <td>NaT</td>\n",
       "      <td>Краснодар</td>\n",
       "      <td>Рафаил</td>\n",
       "      <td>Верещагин</td>\n",
       "      <td>2018-05-25</td>\n",
       "      <td>ultra</td>\n",
       "    </tr>\n",
       "    <tr>\n",
       "      <th>1</th>\n",
       "      <td>1001</td>\n",
       "      <td>41</td>\n",
       "      <td>NaT</td>\n",
       "      <td>Москва</td>\n",
       "      <td>Иван</td>\n",
       "      <td>Ежов</td>\n",
       "      <td>2018-11-01</td>\n",
       "      <td>smart</td>\n",
       "    </tr>\n",
       "    <tr>\n",
       "      <th>2</th>\n",
       "      <td>1002</td>\n",
       "      <td>59</td>\n",
       "      <td>NaT</td>\n",
       "      <td>Стерлитамак</td>\n",
       "      <td>Евгений</td>\n",
       "      <td>Абрамович</td>\n",
       "      <td>2018-06-17</td>\n",
       "      <td>smart</td>\n",
       "    </tr>\n",
       "    <tr>\n",
       "      <th>3</th>\n",
       "      <td>1003</td>\n",
       "      <td>23</td>\n",
       "      <td>NaT</td>\n",
       "      <td>Москва</td>\n",
       "      <td>Белла</td>\n",
       "      <td>Белякова</td>\n",
       "      <td>2018-08-17</td>\n",
       "      <td>ultra</td>\n",
       "    </tr>\n",
       "    <tr>\n",
       "      <th>4</th>\n",
       "      <td>1004</td>\n",
       "      <td>68</td>\n",
       "      <td>NaT</td>\n",
       "      <td>Новокузнецк</td>\n",
       "      <td>Татьяна</td>\n",
       "      <td>Авдеенко</td>\n",
       "      <td>2018-05-14</td>\n",
       "      <td>ultra</td>\n",
       "    </tr>\n",
       "    <tr>\n",
       "      <th>5</th>\n",
       "      <td>1005</td>\n",
       "      <td>67</td>\n",
       "      <td>NaT</td>\n",
       "      <td>Набережные Челны</td>\n",
       "      <td>Афанасий</td>\n",
       "      <td>Горлов</td>\n",
       "      <td>2018-01-25</td>\n",
       "      <td>smart</td>\n",
       "    </tr>\n",
       "    <tr>\n",
       "      <th>6</th>\n",
       "      <td>1006</td>\n",
       "      <td>21</td>\n",
       "      <td>NaT</td>\n",
       "      <td>Ульяновск</td>\n",
       "      <td>Леонид</td>\n",
       "      <td>Ермолаев</td>\n",
       "      <td>2018-02-26</td>\n",
       "      <td>smart</td>\n",
       "    </tr>\n",
       "    <tr>\n",
       "      <th>7</th>\n",
       "      <td>1007</td>\n",
       "      <td>65</td>\n",
       "      <td>NaT</td>\n",
       "      <td>Москва</td>\n",
       "      <td>Юна</td>\n",
       "      <td>Березина</td>\n",
       "      <td>2018-04-19</td>\n",
       "      <td>smart</td>\n",
       "    </tr>\n",
       "    <tr>\n",
       "      <th>8</th>\n",
       "      <td>1008</td>\n",
       "      <td>63</td>\n",
       "      <td>NaT</td>\n",
       "      <td>Челябинск</td>\n",
       "      <td>Рустэм</td>\n",
       "      <td>Пономарёв</td>\n",
       "      <td>2018-12-19</td>\n",
       "      <td>smart</td>\n",
       "    </tr>\n",
       "    <tr>\n",
       "      <th>9</th>\n",
       "      <td>1009</td>\n",
       "      <td>24</td>\n",
       "      <td>NaT</td>\n",
       "      <td>Пермь</td>\n",
       "      <td>Василиса</td>\n",
       "      <td>Блинова</td>\n",
       "      <td>2018-03-22</td>\n",
       "      <td>smart</td>\n",
       "    </tr>\n",
       "  </tbody>\n",
       "</table>\n",
       "</div>"
      ],
      "text/plain": [
       "   user_id  age churn_date              city first_name  last_name   reg_date  \\\n",
       "0     1000   52        NaT         Краснодар     Рафаил  Верещагин 2018-05-25   \n",
       "1     1001   41        NaT            Москва       Иван       Ежов 2018-11-01   \n",
       "2     1002   59        NaT       Стерлитамак    Евгений  Абрамович 2018-06-17   \n",
       "3     1003   23        NaT            Москва      Белла   Белякова 2018-08-17   \n",
       "4     1004   68        NaT       Новокузнецк    Татьяна   Авдеенко 2018-05-14   \n",
       "5     1005   67        NaT  Набережные Челны   Афанасий     Горлов 2018-01-25   \n",
       "6     1006   21        NaT         Ульяновск     Леонид   Ермолаев 2018-02-26   \n",
       "7     1007   65        NaT            Москва        Юна   Березина 2018-04-19   \n",
       "8     1008   63        NaT         Челябинск     Рустэм  Пономарёв 2018-12-19   \n",
       "9     1009   24        NaT             Пермь   Василиса    Блинова 2018-03-22   \n",
       "\n",
       "  tariff  \n",
       "0  ultra  \n",
       "1  smart  \n",
       "2  smart  \n",
       "3  ultra  \n",
       "4  ultra  \n",
       "5  smart  \n",
       "6  smart  \n",
       "7  smart  \n",
       "8  smart  \n",
       "9  smart  "
      ]
     },
     "execution_count": 9,
     "metadata": {},
     "output_type": "execute_result"
    }
   ],
   "source": [
    "users.head(10)"
   ]
  },
  {
   "cell_type": "markdown",
   "id": "192afdc7",
   "metadata": {},
   "source": [
    "В **users** при анализе данным методом ошибок не выявлено, кроме пропусков о которых сказано выше."
   ]
  },
  {
   "cell_type": "code",
   "execution_count": 10,
   "id": "39e6f96a",
   "metadata": {
    "scrolled": false
   },
   "outputs": [
    {
     "data": {
      "text/html": [
       "<div>\n",
       "<style scoped>\n",
       "    .dataframe tbody tr th:only-of-type {\n",
       "        vertical-align: middle;\n",
       "    }\n",
       "\n",
       "    .dataframe tbody tr th {\n",
       "        vertical-align: top;\n",
       "    }\n",
       "\n",
       "    .dataframe thead th {\n",
       "        text-align: right;\n",
       "    }\n",
       "</style>\n",
       "<table border=\"1\" class=\"dataframe\">\n",
       "  <thead>\n",
       "    <tr style=\"text-align: right;\">\n",
       "      <th></th>\n",
       "      <th>id</th>\n",
       "      <th>call_date</th>\n",
       "      <th>duration</th>\n",
       "      <th>user_id</th>\n",
       "    </tr>\n",
       "  </thead>\n",
       "  <tbody>\n",
       "    <tr>\n",
       "      <th>0</th>\n",
       "      <td>1000_0</td>\n",
       "      <td>2018-07-25</td>\n",
       "      <td>0.00</td>\n",
       "      <td>1000</td>\n",
       "    </tr>\n",
       "    <tr>\n",
       "      <th>1</th>\n",
       "      <td>1000_1</td>\n",
       "      <td>2018-08-17</td>\n",
       "      <td>0.00</td>\n",
       "      <td>1000</td>\n",
       "    </tr>\n",
       "    <tr>\n",
       "      <th>2</th>\n",
       "      <td>1000_2</td>\n",
       "      <td>2018-06-11</td>\n",
       "      <td>2.85</td>\n",
       "      <td>1000</td>\n",
       "    </tr>\n",
       "    <tr>\n",
       "      <th>3</th>\n",
       "      <td>1000_3</td>\n",
       "      <td>2018-09-21</td>\n",
       "      <td>13.80</td>\n",
       "      <td>1000</td>\n",
       "    </tr>\n",
       "    <tr>\n",
       "      <th>4</th>\n",
       "      <td>1000_4</td>\n",
       "      <td>2018-12-15</td>\n",
       "      <td>5.18</td>\n",
       "      <td>1000</td>\n",
       "    </tr>\n",
       "    <tr>\n",
       "      <th>5</th>\n",
       "      <td>1000_5</td>\n",
       "      <td>2018-11-02</td>\n",
       "      <td>0.00</td>\n",
       "      <td>1000</td>\n",
       "    </tr>\n",
       "    <tr>\n",
       "      <th>6</th>\n",
       "      <td>1000_6</td>\n",
       "      <td>2018-10-18</td>\n",
       "      <td>0.00</td>\n",
       "      <td>1000</td>\n",
       "    </tr>\n",
       "    <tr>\n",
       "      <th>7</th>\n",
       "      <td>1000_7</td>\n",
       "      <td>2018-08-22</td>\n",
       "      <td>18.31</td>\n",
       "      <td>1000</td>\n",
       "    </tr>\n",
       "    <tr>\n",
       "      <th>8</th>\n",
       "      <td>1000_8</td>\n",
       "      <td>2018-09-15</td>\n",
       "      <td>18.44</td>\n",
       "      <td>1000</td>\n",
       "    </tr>\n",
       "    <tr>\n",
       "      <th>9</th>\n",
       "      <td>1000_9</td>\n",
       "      <td>2018-08-15</td>\n",
       "      <td>0.00</td>\n",
       "      <td>1000</td>\n",
       "    </tr>\n",
       "  </tbody>\n",
       "</table>\n",
       "</div>"
      ],
      "text/plain": [
       "       id  call_date  duration  user_id\n",
       "0  1000_0 2018-07-25      0.00     1000\n",
       "1  1000_1 2018-08-17      0.00     1000\n",
       "2  1000_2 2018-06-11      2.85     1000\n",
       "3  1000_3 2018-09-21     13.80     1000\n",
       "4  1000_4 2018-12-15      5.18     1000\n",
       "5  1000_5 2018-11-02      0.00     1000\n",
       "6  1000_6 2018-10-18      0.00     1000\n",
       "7  1000_7 2018-08-22     18.31     1000\n",
       "8  1000_8 2018-09-15     18.44     1000\n",
       "9  1000_9 2018-08-15      0.00     1000"
      ]
     },
     "execution_count": 10,
     "metadata": {},
     "output_type": "execute_result"
    }
   ],
   "source": [
    "calls.head(10)"
   ]
  },
  {
   "cell_type": "markdown",
   "id": "73183bd7",
   "metadata": {},
   "source": [
    "В **calls** при анализе данным методом выявлено следующее.\n",
    "- В столбце `duration` имеются нулевые значения, о которых в исходных данных сказано: \"в данных вы найдёте звонки с нулевой продолжительностью. Это не ошибка: нулями обозначены пропущенные звонки, поэтому их не нужно удалять\". Следовательно, оставляем без изменений.\n",
    "- Минуты в столбце `duration` представлены до второго знака после запятой. В исходных данных на этот счёт сказано: \"«Мегалайн» всегда округляет секунды до минут, а мегабайты — до гигабайт. Каждый звонок округляется отдельно: даже если он длился всего 1 секунду, будет засчитан как 1 минута.\" Необходимо применить округление до целых в большую сторону."
   ]
  },
  {
   "cell_type": "markdown",
   "id": "b5286754",
   "metadata": {},
   "source": [
    "Округлим значения в столбце `duration` до целых в большую сторону."
   ]
  },
  {
   "cell_type": "code",
   "execution_count": 11,
   "id": "a5d1cc07",
   "metadata": {},
   "outputs": [
    {
     "data": {
      "text/html": [
       "<div>\n",
       "<style scoped>\n",
       "    .dataframe tbody tr th:only-of-type {\n",
       "        vertical-align: middle;\n",
       "    }\n",
       "\n",
       "    .dataframe tbody tr th {\n",
       "        vertical-align: top;\n",
       "    }\n",
       "\n",
       "    .dataframe thead th {\n",
       "        text-align: right;\n",
       "    }\n",
       "</style>\n",
       "<table border=\"1\" class=\"dataframe\">\n",
       "  <thead>\n",
       "    <tr style=\"text-align: right;\">\n",
       "      <th></th>\n",
       "      <th>id</th>\n",
       "      <th>call_date</th>\n",
       "      <th>duration</th>\n",
       "      <th>user_id</th>\n",
       "    </tr>\n",
       "  </thead>\n",
       "  <tbody>\n",
       "    <tr>\n",
       "      <th>0</th>\n",
       "      <td>1000_0</td>\n",
       "      <td>2018-07-25</td>\n",
       "      <td>0.0</td>\n",
       "      <td>1000</td>\n",
       "    </tr>\n",
       "    <tr>\n",
       "      <th>1</th>\n",
       "      <td>1000_1</td>\n",
       "      <td>2018-08-17</td>\n",
       "      <td>0.0</td>\n",
       "      <td>1000</td>\n",
       "    </tr>\n",
       "    <tr>\n",
       "      <th>2</th>\n",
       "      <td>1000_2</td>\n",
       "      <td>2018-06-11</td>\n",
       "      <td>3.0</td>\n",
       "      <td>1000</td>\n",
       "    </tr>\n",
       "    <tr>\n",
       "      <th>3</th>\n",
       "      <td>1000_3</td>\n",
       "      <td>2018-09-21</td>\n",
       "      <td>14.0</td>\n",
       "      <td>1000</td>\n",
       "    </tr>\n",
       "  </tbody>\n",
       "</table>\n",
       "</div>"
      ],
      "text/plain": [
       "       id  call_date  duration  user_id\n",
       "0  1000_0 2018-07-25       0.0     1000\n",
       "1  1000_1 2018-08-17       0.0     1000\n",
       "2  1000_2 2018-06-11       3.0     1000\n",
       "3  1000_3 2018-09-21      14.0     1000"
      ]
     },
     "execution_count": 11,
     "metadata": {},
     "output_type": "execute_result"
    }
   ],
   "source": [
    "calls['duration'] = np.ceil(calls['duration'])\n",
    "calls.head(4)"
   ]
  },
  {
   "cell_type": "markdown",
   "id": "5f84613a",
   "metadata": {},
   "source": [
    "Иных ошибок в **calls** при анализе данным методом ошибок не выявлено."
   ]
  },
  {
   "cell_type": "code",
   "execution_count": 12,
   "id": "beefa3a2",
   "metadata": {
    "scrolled": true
   },
   "outputs": [
    {
     "data": {
      "text/html": [
       "<div>\n",
       "<style scoped>\n",
       "    .dataframe tbody tr th:only-of-type {\n",
       "        vertical-align: middle;\n",
       "    }\n",
       "\n",
       "    .dataframe tbody tr th {\n",
       "        vertical-align: top;\n",
       "    }\n",
       "\n",
       "    .dataframe thead th {\n",
       "        text-align: right;\n",
       "    }\n",
       "</style>\n",
       "<table border=\"1\" class=\"dataframe\">\n",
       "  <thead>\n",
       "    <tr style=\"text-align: right;\">\n",
       "      <th></th>\n",
       "      <th>id</th>\n",
       "      <th>message_date</th>\n",
       "      <th>user_id</th>\n",
       "    </tr>\n",
       "  </thead>\n",
       "  <tbody>\n",
       "    <tr>\n",
       "      <th>0</th>\n",
       "      <td>1000_0</td>\n",
       "      <td>2018-06-27</td>\n",
       "      <td>1000</td>\n",
       "    </tr>\n",
       "    <tr>\n",
       "      <th>1</th>\n",
       "      <td>1000_1</td>\n",
       "      <td>2018-10-08</td>\n",
       "      <td>1000</td>\n",
       "    </tr>\n",
       "    <tr>\n",
       "      <th>2</th>\n",
       "      <td>1000_2</td>\n",
       "      <td>2018-08-04</td>\n",
       "      <td>1000</td>\n",
       "    </tr>\n",
       "    <tr>\n",
       "      <th>3</th>\n",
       "      <td>1000_3</td>\n",
       "      <td>2018-06-16</td>\n",
       "      <td>1000</td>\n",
       "    </tr>\n",
       "    <tr>\n",
       "      <th>4</th>\n",
       "      <td>1000_4</td>\n",
       "      <td>2018-12-05</td>\n",
       "      <td>1000</td>\n",
       "    </tr>\n",
       "    <tr>\n",
       "      <th>5</th>\n",
       "      <td>1000_5</td>\n",
       "      <td>2018-06-20</td>\n",
       "      <td>1000</td>\n",
       "    </tr>\n",
       "    <tr>\n",
       "      <th>6</th>\n",
       "      <td>1000_6</td>\n",
       "      <td>2018-11-19</td>\n",
       "      <td>1000</td>\n",
       "    </tr>\n",
       "    <tr>\n",
       "      <th>7</th>\n",
       "      <td>1000_7</td>\n",
       "      <td>2018-10-29</td>\n",
       "      <td>1000</td>\n",
       "    </tr>\n",
       "    <tr>\n",
       "      <th>8</th>\n",
       "      <td>1000_8</td>\n",
       "      <td>2018-06-25</td>\n",
       "      <td>1000</td>\n",
       "    </tr>\n",
       "    <tr>\n",
       "      <th>9</th>\n",
       "      <td>1000_9</td>\n",
       "      <td>2018-12-18</td>\n",
       "      <td>1000</td>\n",
       "    </tr>\n",
       "    <tr>\n",
       "      <th>10</th>\n",
       "      <td>1000_10</td>\n",
       "      <td>2018-05-30</td>\n",
       "      <td>1000</td>\n",
       "    </tr>\n",
       "    <tr>\n",
       "      <th>11</th>\n",
       "      <td>1000_11</td>\n",
       "      <td>2018-07-06</td>\n",
       "      <td>1000</td>\n",
       "    </tr>\n",
       "    <tr>\n",
       "      <th>12</th>\n",
       "      <td>1000_12</td>\n",
       "      <td>2018-08-20</td>\n",
       "      <td>1000</td>\n",
       "    </tr>\n",
       "    <tr>\n",
       "      <th>13</th>\n",
       "      <td>1000_13</td>\n",
       "      <td>2018-10-30</td>\n",
       "      <td>1000</td>\n",
       "    </tr>\n",
       "    <tr>\n",
       "      <th>14</th>\n",
       "      <td>1000_14</td>\n",
       "      <td>2018-09-14</td>\n",
       "      <td>1000</td>\n",
       "    </tr>\n",
       "    <tr>\n",
       "      <th>15</th>\n",
       "      <td>1000_15</td>\n",
       "      <td>2018-08-28</td>\n",
       "      <td>1000</td>\n",
       "    </tr>\n",
       "    <tr>\n",
       "      <th>16</th>\n",
       "      <td>1000_16</td>\n",
       "      <td>2018-06-25</td>\n",
       "      <td>1000</td>\n",
       "    </tr>\n",
       "    <tr>\n",
       "      <th>17</th>\n",
       "      <td>1000_17</td>\n",
       "      <td>2018-06-29</td>\n",
       "      <td>1000</td>\n",
       "    </tr>\n",
       "    <tr>\n",
       "      <th>18</th>\n",
       "      <td>1000_18</td>\n",
       "      <td>2018-07-07</td>\n",
       "      <td>1000</td>\n",
       "    </tr>\n",
       "    <tr>\n",
       "      <th>19</th>\n",
       "      <td>1000_19</td>\n",
       "      <td>2018-05-29</td>\n",
       "      <td>1000</td>\n",
       "    </tr>\n",
       "  </tbody>\n",
       "</table>\n",
       "</div>"
      ],
      "text/plain": [
       "         id message_date  user_id\n",
       "0    1000_0   2018-06-27     1000\n",
       "1    1000_1   2018-10-08     1000\n",
       "2    1000_2   2018-08-04     1000\n",
       "3    1000_3   2018-06-16     1000\n",
       "4    1000_4   2018-12-05     1000\n",
       "5    1000_5   2018-06-20     1000\n",
       "6    1000_6   2018-11-19     1000\n",
       "7    1000_7   2018-10-29     1000\n",
       "8    1000_8   2018-06-25     1000\n",
       "9    1000_9   2018-12-18     1000\n",
       "10  1000_10   2018-05-30     1000\n",
       "11  1000_11   2018-07-06     1000\n",
       "12  1000_12   2018-08-20     1000\n",
       "13  1000_13   2018-10-30     1000\n",
       "14  1000_14   2018-09-14     1000\n",
       "15  1000_15   2018-08-28     1000\n",
       "16  1000_16   2018-06-25     1000\n",
       "17  1000_17   2018-06-29     1000\n",
       "18  1000_18   2018-07-07     1000\n",
       "19  1000_19   2018-05-29     1000"
      ]
     },
     "execution_count": 12,
     "metadata": {},
     "output_type": "execute_result"
    }
   ],
   "source": [
    "messages.head(20)"
   ]
  },
  {
   "cell_type": "markdown",
   "id": "8da9401a",
   "metadata": {},
   "source": [
    "В **messages** при анализе данным методом ошибок не выявлено."
   ]
  },
  {
   "cell_type": "code",
   "execution_count": 13,
   "id": "21053fde",
   "metadata": {
    "scrolled": true
   },
   "outputs": [
    {
     "data": {
      "text/html": [
       "<div>\n",
       "<style scoped>\n",
       "    .dataframe tbody tr th:only-of-type {\n",
       "        vertical-align: middle;\n",
       "    }\n",
       "\n",
       "    .dataframe tbody tr th {\n",
       "        vertical-align: top;\n",
       "    }\n",
       "\n",
       "    .dataframe thead th {\n",
       "        text-align: right;\n",
       "    }\n",
       "</style>\n",
       "<table border=\"1\" class=\"dataframe\">\n",
       "  <thead>\n",
       "    <tr style=\"text-align: right;\">\n",
       "      <th></th>\n",
       "      <th>Unnamed: 0</th>\n",
       "      <th>id</th>\n",
       "      <th>mb_used</th>\n",
       "      <th>session_date</th>\n",
       "      <th>user_id</th>\n",
       "    </tr>\n",
       "  </thead>\n",
       "  <tbody>\n",
       "    <tr>\n",
       "      <th>0</th>\n",
       "      <td>0</td>\n",
       "      <td>1000_0</td>\n",
       "      <td>112.95</td>\n",
       "      <td>2018-11-25</td>\n",
       "      <td>1000</td>\n",
       "    </tr>\n",
       "    <tr>\n",
       "      <th>1</th>\n",
       "      <td>1</td>\n",
       "      <td>1000_1</td>\n",
       "      <td>1052.81</td>\n",
       "      <td>2018-09-07</td>\n",
       "      <td>1000</td>\n",
       "    </tr>\n",
       "    <tr>\n",
       "      <th>2</th>\n",
       "      <td>2</td>\n",
       "      <td>1000_2</td>\n",
       "      <td>1197.26</td>\n",
       "      <td>2018-06-25</td>\n",
       "      <td>1000</td>\n",
       "    </tr>\n",
       "    <tr>\n",
       "      <th>3</th>\n",
       "      <td>3</td>\n",
       "      <td>1000_3</td>\n",
       "      <td>550.27</td>\n",
       "      <td>2018-08-22</td>\n",
       "      <td>1000</td>\n",
       "    </tr>\n",
       "    <tr>\n",
       "      <th>4</th>\n",
       "      <td>4</td>\n",
       "      <td>1000_4</td>\n",
       "      <td>302.56</td>\n",
       "      <td>2018-09-24</td>\n",
       "      <td>1000</td>\n",
       "    </tr>\n",
       "    <tr>\n",
       "      <th>5</th>\n",
       "      <td>5</td>\n",
       "      <td>1000_5</td>\n",
       "      <td>399.97</td>\n",
       "      <td>2018-10-02</td>\n",
       "      <td>1000</td>\n",
       "    </tr>\n",
       "    <tr>\n",
       "      <th>6</th>\n",
       "      <td>6</td>\n",
       "      <td>1000_6</td>\n",
       "      <td>540.08</td>\n",
       "      <td>2018-09-07</td>\n",
       "      <td>1000</td>\n",
       "    </tr>\n",
       "    <tr>\n",
       "      <th>7</th>\n",
       "      <td>7</td>\n",
       "      <td>1000_7</td>\n",
       "      <td>415.70</td>\n",
       "      <td>2018-07-11</td>\n",
       "      <td>1000</td>\n",
       "    </tr>\n",
       "    <tr>\n",
       "      <th>8</th>\n",
       "      <td>8</td>\n",
       "      <td>1000_8</td>\n",
       "      <td>505.40</td>\n",
       "      <td>2018-10-08</td>\n",
       "      <td>1000</td>\n",
       "    </tr>\n",
       "    <tr>\n",
       "      <th>9</th>\n",
       "      <td>9</td>\n",
       "      <td>1000_9</td>\n",
       "      <td>345.54</td>\n",
       "      <td>2018-09-03</td>\n",
       "      <td>1000</td>\n",
       "    </tr>\n",
       "    <tr>\n",
       "      <th>10</th>\n",
       "      <td>10</td>\n",
       "      <td>1000_10</td>\n",
       "      <td>385.14</td>\n",
       "      <td>2018-09-27</td>\n",
       "      <td>1000</td>\n",
       "    </tr>\n",
       "    <tr>\n",
       "      <th>11</th>\n",
       "      <td>11</td>\n",
       "      <td>1000_11</td>\n",
       "      <td>0.00</td>\n",
       "      <td>2018-08-28</td>\n",
       "      <td>1000</td>\n",
       "    </tr>\n",
       "    <tr>\n",
       "      <th>12</th>\n",
       "      <td>12</td>\n",
       "      <td>1000_12</td>\n",
       "      <td>375.87</td>\n",
       "      <td>2018-06-20</td>\n",
       "      <td>1000</td>\n",
       "    </tr>\n",
       "    <tr>\n",
       "      <th>13</th>\n",
       "      <td>13</td>\n",
       "      <td>1000_13</td>\n",
       "      <td>393.83</td>\n",
       "      <td>2018-08-09</td>\n",
       "      <td>1000</td>\n",
       "    </tr>\n",
       "    <tr>\n",
       "      <th>14</th>\n",
       "      <td>14</td>\n",
       "      <td>1000_14</td>\n",
       "      <td>180.64</td>\n",
       "      <td>2018-08-11</td>\n",
       "      <td>1000</td>\n",
       "    </tr>\n",
       "    <tr>\n",
       "      <th>15</th>\n",
       "      <td>15</td>\n",
       "      <td>1000_15</td>\n",
       "      <td>337.71</td>\n",
       "      <td>2018-07-21</td>\n",
       "      <td>1000</td>\n",
       "    </tr>\n",
       "    <tr>\n",
       "      <th>16</th>\n",
       "      <td>16</td>\n",
       "      <td>1000_16</td>\n",
       "      <td>459.28</td>\n",
       "      <td>2018-06-09</td>\n",
       "      <td>1000</td>\n",
       "    </tr>\n",
       "    <tr>\n",
       "      <th>17</th>\n",
       "      <td>17</td>\n",
       "      <td>1000_17</td>\n",
       "      <td>204.14</td>\n",
       "      <td>2018-06-03</td>\n",
       "      <td>1000</td>\n",
       "    </tr>\n",
       "    <tr>\n",
       "      <th>18</th>\n",
       "      <td>18</td>\n",
       "      <td>1000_18</td>\n",
       "      <td>658.10</td>\n",
       "      <td>2018-11-01</td>\n",
       "      <td>1000</td>\n",
       "    </tr>\n",
       "    <tr>\n",
       "      <th>19</th>\n",
       "      <td>19</td>\n",
       "      <td>1000_19</td>\n",
       "      <td>452.73</td>\n",
       "      <td>2018-11-28</td>\n",
       "      <td>1000</td>\n",
       "    </tr>\n",
       "  </tbody>\n",
       "</table>\n",
       "</div>"
      ],
      "text/plain": [
       "    Unnamed: 0       id  mb_used session_date  user_id\n",
       "0            0   1000_0   112.95   2018-11-25     1000\n",
       "1            1   1000_1  1052.81   2018-09-07     1000\n",
       "2            2   1000_2  1197.26   2018-06-25     1000\n",
       "3            3   1000_3   550.27   2018-08-22     1000\n",
       "4            4   1000_4   302.56   2018-09-24     1000\n",
       "5            5   1000_5   399.97   2018-10-02     1000\n",
       "6            6   1000_6   540.08   2018-09-07     1000\n",
       "7            7   1000_7   415.70   2018-07-11     1000\n",
       "8            8   1000_8   505.40   2018-10-08     1000\n",
       "9            9   1000_9   345.54   2018-09-03     1000\n",
       "10          10  1000_10   385.14   2018-09-27     1000\n",
       "11          11  1000_11     0.00   2018-08-28     1000\n",
       "12          12  1000_12   375.87   2018-06-20     1000\n",
       "13          13  1000_13   393.83   2018-08-09     1000\n",
       "14          14  1000_14   180.64   2018-08-11     1000\n",
       "15          15  1000_15   337.71   2018-07-21     1000\n",
       "16          16  1000_16   459.28   2018-06-09     1000\n",
       "17          17  1000_17   204.14   2018-06-03     1000\n",
       "18          18  1000_18   658.10   2018-11-01     1000\n",
       "19          19  1000_19   452.73   2018-11-28     1000"
      ]
     },
     "execution_count": 13,
     "metadata": {},
     "output_type": "execute_result"
    }
   ],
   "source": [
    "internet.head(20)"
   ]
  },
  {
   "cell_type": "markdown",
   "id": "8b6c2403",
   "metadata": {},
   "source": [
    "В **internet** при анализе данным методом виден столбец, не указанный в описании данных `Unnamed: 0`, повторяющий индексы. Для анализа он не нужен. Удалим его:"
   ]
  },
  {
   "cell_type": "code",
   "execution_count": 14,
   "id": "0590e310",
   "metadata": {},
   "outputs": [],
   "source": [
    "internet.drop(columns = ['Unnamed: 0'], axis = 1, inplace=True)"
   ]
  },
  {
   "cell_type": "code",
   "execution_count": 15,
   "id": "e1659054",
   "metadata": {},
   "outputs": [
    {
     "data": {
      "text/html": [
       "<div>\n",
       "<style scoped>\n",
       "    .dataframe tbody tr th:only-of-type {\n",
       "        vertical-align: middle;\n",
       "    }\n",
       "\n",
       "    .dataframe tbody tr th {\n",
       "        vertical-align: top;\n",
       "    }\n",
       "\n",
       "    .dataframe thead th {\n",
       "        text-align: right;\n",
       "    }\n",
       "</style>\n",
       "<table border=\"1\" class=\"dataframe\">\n",
       "  <thead>\n",
       "    <tr style=\"text-align: right;\">\n",
       "      <th></th>\n",
       "      <th>id</th>\n",
       "      <th>mb_used</th>\n",
       "      <th>session_date</th>\n",
       "      <th>user_id</th>\n",
       "    </tr>\n",
       "  </thead>\n",
       "  <tbody>\n",
       "    <tr>\n",
       "      <th>0</th>\n",
       "      <td>1000_0</td>\n",
       "      <td>112.95</td>\n",
       "      <td>2018-11-25</td>\n",
       "      <td>1000</td>\n",
       "    </tr>\n",
       "  </tbody>\n",
       "</table>\n",
       "</div>"
      ],
      "text/plain": [
       "       id  mb_used session_date  user_id\n",
       "0  1000_0   112.95   2018-11-25     1000"
      ]
     },
     "execution_count": 15,
     "metadata": {},
     "output_type": "execute_result"
    }
   ],
   "source": [
    "internet.head(1)"
   ]
  },
  {
   "cell_type": "markdown",
   "id": "9e64ad90",
   "metadata": {},
   "source": [
    "Также в **internet** обнаружено следующее.\n",
    "- Мегабайты в столбце `mb_used` представлены до второго знака после запятой. В исходных данных на этот счёт сказано: \"«Мегалайн» всегда округляет секунды до минут, а мегабайты — до гигабайт. Для веб-трафика отдельные сессии не считаются. Вместо этого общая сумма за месяц округляется в бо́льшую сторону. Если абонент использует 1025 мегабайт в этом месяце, с него возьмут плату за 2 гигабайта.\" На данном этапе оставим значения в этом столбце без изменений."
   ]
  },
  {
   "cell_type": "markdown",
   "id": "79301f37",
   "metadata": {},
   "source": [
    "Иных ошибок в **internet** не обнаружено."
   ]
  },
  {
   "cell_type": "code",
   "execution_count": 16,
   "id": "214ed1fd",
   "metadata": {
    "scrolled": false
   },
   "outputs": [
    {
     "data": {
      "text/html": [
       "<div>\n",
       "<style scoped>\n",
       "    .dataframe tbody tr th:only-of-type {\n",
       "        vertical-align: middle;\n",
       "    }\n",
       "\n",
       "    .dataframe tbody tr th {\n",
       "        vertical-align: top;\n",
       "    }\n",
       "\n",
       "    .dataframe thead th {\n",
       "        text-align: right;\n",
       "    }\n",
       "</style>\n",
       "<table border=\"1\" class=\"dataframe\">\n",
       "  <thead>\n",
       "    <tr style=\"text-align: right;\">\n",
       "      <th></th>\n",
       "      <th>messages_included</th>\n",
       "      <th>mb_per_month_included</th>\n",
       "      <th>minutes_included</th>\n",
       "      <th>rub_monthly_fee</th>\n",
       "      <th>rub_per_gb</th>\n",
       "      <th>rub_per_message</th>\n",
       "      <th>rub_per_minute</th>\n",
       "      <th>tariff_name</th>\n",
       "    </tr>\n",
       "  </thead>\n",
       "  <tbody>\n",
       "    <tr>\n",
       "      <th>0</th>\n",
       "      <td>50</td>\n",
       "      <td>15360</td>\n",
       "      <td>500</td>\n",
       "      <td>550</td>\n",
       "      <td>200</td>\n",
       "      <td>3</td>\n",
       "      <td>3</td>\n",
       "      <td>smart</td>\n",
       "    </tr>\n",
       "    <tr>\n",
       "      <th>1</th>\n",
       "      <td>1000</td>\n",
       "      <td>30720</td>\n",
       "      <td>3000</td>\n",
       "      <td>1950</td>\n",
       "      <td>150</td>\n",
       "      <td>1</td>\n",
       "      <td>1</td>\n",
       "      <td>ultra</td>\n",
       "    </tr>\n",
       "  </tbody>\n",
       "</table>\n",
       "</div>"
      ],
      "text/plain": [
       "   messages_included  mb_per_month_included  minutes_included  \\\n",
       "0                 50                  15360               500   \n",
       "1               1000                  30720              3000   \n",
       "\n",
       "   rub_monthly_fee  rub_per_gb  rub_per_message  rub_per_minute tariff_name  \n",
       "0              550         200                3               3       smart  \n",
       "1             1950         150                1               1       ultra  "
      ]
     },
     "execution_count": 16,
     "metadata": {},
     "output_type": "execute_result"
    }
   ],
   "source": [
    "tariffs.head()"
   ]
  },
  {
   "cell_type": "markdown",
   "id": "84662969",
   "metadata": {},
   "source": [
    "В таблице **tariffs** в столбце `mb_per_month_included` указан объем интернет-трафика, включённого в абонентскую плату в мегабайтах, однако в описании тарифов он указан в гигабайтах, а также в столбце `rub_per_gb ` указаны значения в гигабайтах. Для удобства дальнейших расчётов переведём значения в столбце `mb_per_month_included` в гигабайты."
   ]
  },
  {
   "cell_type": "code",
   "execution_count": 17,
   "id": "8a5e66f0",
   "metadata": {},
   "outputs": [],
   "source": [
    "tariffs['mb_per_month_included'] = tariffs['mb_per_month_included']/1024"
   ]
  },
  {
   "cell_type": "markdown",
   "id": "f5a07e7a",
   "metadata": {},
   "source": [
    "Для порядка переименуем столбец `mb_per_month_included` на `gb_per_month_included`."
   ]
  },
  {
   "cell_type": "code",
   "execution_count": 18,
   "id": "c1fe6896",
   "metadata": {},
   "outputs": [],
   "source": [
    "tariffs = tariffs.rename(columns={'mb_per_month_included':'gb_per_month_included'})"
   ]
  },
  {
   "cell_type": "code",
   "execution_count": 19,
   "id": "b437ca22",
   "metadata": {},
   "outputs": [
    {
     "data": {
      "text/html": [
       "<div>\n",
       "<style scoped>\n",
       "    .dataframe tbody tr th:only-of-type {\n",
       "        vertical-align: middle;\n",
       "    }\n",
       "\n",
       "    .dataframe tbody tr th {\n",
       "        vertical-align: top;\n",
       "    }\n",
       "\n",
       "    .dataframe thead th {\n",
       "        text-align: right;\n",
       "    }\n",
       "</style>\n",
       "<table border=\"1\" class=\"dataframe\">\n",
       "  <thead>\n",
       "    <tr style=\"text-align: right;\">\n",
       "      <th></th>\n",
       "      <th>messages_included</th>\n",
       "      <th>gb_per_month_included</th>\n",
       "      <th>minutes_included</th>\n",
       "      <th>rub_monthly_fee</th>\n",
       "      <th>rub_per_gb</th>\n",
       "      <th>rub_per_message</th>\n",
       "      <th>rub_per_minute</th>\n",
       "      <th>tariff_name</th>\n",
       "    </tr>\n",
       "  </thead>\n",
       "  <tbody>\n",
       "    <tr>\n",
       "      <th>0</th>\n",
       "      <td>50</td>\n",
       "      <td>15.0</td>\n",
       "      <td>500</td>\n",
       "      <td>550</td>\n",
       "      <td>200</td>\n",
       "      <td>3</td>\n",
       "      <td>3</td>\n",
       "      <td>smart</td>\n",
       "    </tr>\n",
       "    <tr>\n",
       "      <th>1</th>\n",
       "      <td>1000</td>\n",
       "      <td>30.0</td>\n",
       "      <td>3000</td>\n",
       "      <td>1950</td>\n",
       "      <td>150</td>\n",
       "      <td>1</td>\n",
       "      <td>1</td>\n",
       "      <td>ultra</td>\n",
       "    </tr>\n",
       "  </tbody>\n",
       "</table>\n",
       "</div>"
      ],
      "text/plain": [
       "   messages_included  gb_per_month_included  minutes_included  \\\n",
       "0                 50                   15.0               500   \n",
       "1               1000                   30.0              3000   \n",
       "\n",
       "   rub_monthly_fee  rub_per_gb  rub_per_message  rub_per_minute tariff_name  \n",
       "0              550         200                3               3       smart  \n",
       "1             1950         150                1               1       ultra  "
      ]
     },
     "execution_count": 19,
     "metadata": {},
     "output_type": "execute_result"
    }
   ],
   "source": [
    "tariffs.head()"
   ]
  },
  {
   "cell_type": "markdown",
   "id": "6cad7d8d",
   "metadata": {},
   "source": [
    "Иных ошибок в **tariffs** при анализе данным методом ошибок не выявлено."
   ]
  },
  {
   "cell_type": "markdown",
   "id": "ed0ead11",
   "metadata": {},
   "source": [
    "Проверим четыре первых таблицы на наличие явных дубликатов. В пятой - очевидно их нет."
   ]
  },
  {
   "cell_type": "code",
   "execution_count": 20,
   "id": "e7a0e8c4",
   "metadata": {},
   "outputs": [
    {
     "name": "stdout",
     "output_type": "stream",
     "text": [
      "Количество дубликатов в таблице users: 0\n",
      "Количество дубликатов в таблице calls: 0\n",
      "Количество дубликатов в таблице messages: 0\n",
      "Количество дубликатов в таблице internet: 0\n"
     ]
    }
   ],
   "source": [
    "users.duplicated().sum()\n",
    "calls.duplicated().sum()\n",
    "messages.duplicated().sum()\n",
    "internet.duplicated().sum()\n",
    "print (f'Количество дубликатов в таблице users: {users.duplicated().sum()}')\n",
    "print (f'Количество дубликатов в таблице calls: {calls.duplicated().sum()}')\n",
    "print (f'Количество дубликатов в таблице messages: {messages.duplicated().sum()}')\n",
    "print (f'Количество дубликатов в таблице internet: {internet.duplicated().sum()}')"
   ]
  },
  {
   "cell_type": "markdown",
   "id": "227486a8",
   "metadata": {},
   "source": [
    "Ошибки найдены и исправлены."
   ]
  },
  {
   "cell_type": "markdown",
   "id": "244a702a",
   "metadata": {},
   "source": [
    "### Расчёты для каждого пользователя"
   ]
  },
  {
   "cell_type": "markdown",
   "id": "b5d4ea68",
   "metadata": {},
   "source": [
    "####  <ins>**Расчёт кол-ва сделанных звонков и израсходованных минут разговора по месяцам для каждого пользователя**</ins>"
   ]
  },
  {
   "cell_type": "markdown",
   "id": "8ec01753",
   "metadata": {},
   "source": [
    "Добавим столбец `month` (месяц) в таблицу **calls**, значения для данного столбца получим из значений столбца `call_date` (дата звонка):"
   ]
  },
  {
   "cell_type": "code",
   "execution_count": 21,
   "id": "6580ebfb",
   "metadata": {},
   "outputs": [
    {
     "data": {
      "text/html": [
       "<div>\n",
       "<style scoped>\n",
       "    .dataframe tbody tr th:only-of-type {\n",
       "        vertical-align: middle;\n",
       "    }\n",
       "\n",
       "    .dataframe tbody tr th {\n",
       "        vertical-align: top;\n",
       "    }\n",
       "\n",
       "    .dataframe thead th {\n",
       "        text-align: right;\n",
       "    }\n",
       "</style>\n",
       "<table border=\"1\" class=\"dataframe\">\n",
       "  <thead>\n",
       "    <tr style=\"text-align: right;\">\n",
       "      <th></th>\n",
       "      <th>id</th>\n",
       "      <th>call_date</th>\n",
       "      <th>duration</th>\n",
       "      <th>user_id</th>\n",
       "      <th>month</th>\n",
       "    </tr>\n",
       "  </thead>\n",
       "  <tbody>\n",
       "    <tr>\n",
       "      <th>0</th>\n",
       "      <td>1000_0</td>\n",
       "      <td>2018-07-25</td>\n",
       "      <td>0.0</td>\n",
       "      <td>1000</td>\n",
       "      <td>7</td>\n",
       "    </tr>\n",
       "  </tbody>\n",
       "</table>\n",
       "</div>"
      ],
      "text/plain": [
       "       id  call_date  duration  user_id  month\n",
       "0  1000_0 2018-07-25       0.0     1000      7"
      ]
     },
     "execution_count": 21,
     "metadata": {},
     "output_type": "execute_result"
    }
   ],
   "source": [
    "calls['month'] = calls['call_date'].dt.month\n",
    "calls.head(1)"
   ]
  },
  {
   "cell_type": "markdown",
   "id": "4c2ebf17",
   "metadata": {},
   "source": [
    "Создадим новую таблицу <ins>**calls_min_month**</ins> с информацией о кол-ве сделанных звонков и израсходованных минут разговора по месяцам для каждого пользователя."
   ]
  },
  {
   "cell_type": "code",
   "execution_count": 22,
   "id": "5197e4cf",
   "metadata": {
    "scrolled": true
   },
   "outputs": [
    {
     "data": {
      "text/html": [
       "<div>\n",
       "<style scoped>\n",
       "    .dataframe tbody tr th:only-of-type {\n",
       "        vertical-align: middle;\n",
       "    }\n",
       "\n",
       "    .dataframe tbody tr th {\n",
       "        vertical-align: top;\n",
       "    }\n",
       "\n",
       "    .dataframe thead th {\n",
       "        text-align: right;\n",
       "    }\n",
       "</style>\n",
       "<table border=\"1\" class=\"dataframe\">\n",
       "  <thead>\n",
       "    <tr style=\"text-align: right;\">\n",
       "      <th></th>\n",
       "      <th></th>\n",
       "      <th>month_duration</th>\n",
       "      <th>month_calls</th>\n",
       "    </tr>\n",
       "    <tr>\n",
       "      <th>user_id</th>\n",
       "      <th>month</th>\n",
       "      <th></th>\n",
       "      <th></th>\n",
       "    </tr>\n",
       "  </thead>\n",
       "  <tbody>\n",
       "    <tr>\n",
       "      <th rowspan=\"3\" valign=\"top\">1000</th>\n",
       "      <th>5</th>\n",
       "      <td>159.0</td>\n",
       "      <td>22</td>\n",
       "    </tr>\n",
       "    <tr>\n",
       "      <th>6</th>\n",
       "      <td>172.0</td>\n",
       "      <td>43</td>\n",
       "    </tr>\n",
       "    <tr>\n",
       "      <th>7</th>\n",
       "      <td>340.0</td>\n",
       "      <td>47</td>\n",
       "    </tr>\n",
       "  </tbody>\n",
       "</table>\n",
       "</div>"
      ],
      "text/plain": [
       "               month_duration  month_calls\n",
       "user_id month                             \n",
       "1000    5               159.0           22\n",
       "        6               172.0           43\n",
       "        7               340.0           47"
      ]
     },
     "execution_count": 22,
     "metadata": {},
     "output_type": "execute_result"
    }
   ],
   "source": [
    "calls_min_month = (\n",
    "                  calls.pivot_table(index=['user_id','month'],\n",
    "                  aggfunc={'id':'count','duration':'sum'})\n",
    "                  .rename(columns={'id': 'month_calls', 'duration': 'month_duration'}).fillna(0)\n",
    "                  )\n",
    "calls_min_month.head(3)"
   ]
  },
  {
   "cell_type": "markdown",
   "id": "07533c66",
   "metadata": {},
   "source": [
    "Красиво, но для удобства дальнейшей работы с данными сбросим индексы:"
   ]
  },
  {
   "cell_type": "code",
   "execution_count": 23,
   "id": "30631157",
   "metadata": {},
   "outputs": [
    {
     "data": {
      "text/html": [
       "<div>\n",
       "<style scoped>\n",
       "    .dataframe tbody tr th:only-of-type {\n",
       "        vertical-align: middle;\n",
       "    }\n",
       "\n",
       "    .dataframe tbody tr th {\n",
       "        vertical-align: top;\n",
       "    }\n",
       "\n",
       "    .dataframe thead th {\n",
       "        text-align: right;\n",
       "    }\n",
       "</style>\n",
       "<table border=\"1\" class=\"dataframe\">\n",
       "  <thead>\n",
       "    <tr style=\"text-align: right;\">\n",
       "      <th></th>\n",
       "      <th>user_id</th>\n",
       "      <th>month</th>\n",
       "      <th>month_duration</th>\n",
       "      <th>month_calls</th>\n",
       "    </tr>\n",
       "  </thead>\n",
       "  <tbody>\n",
       "    <tr>\n",
       "      <th>0</th>\n",
       "      <td>1000</td>\n",
       "      <td>5</td>\n",
       "      <td>159.0</td>\n",
       "      <td>22</td>\n",
       "    </tr>\n",
       "    <tr>\n",
       "      <th>1</th>\n",
       "      <td>1000</td>\n",
       "      <td>6</td>\n",
       "      <td>172.0</td>\n",
       "      <td>43</td>\n",
       "    </tr>\n",
       "    <tr>\n",
       "      <th>2</th>\n",
       "      <td>1000</td>\n",
       "      <td>7</td>\n",
       "      <td>340.0</td>\n",
       "      <td>47</td>\n",
       "    </tr>\n",
       "  </tbody>\n",
       "</table>\n",
       "</div>"
      ],
      "text/plain": [
       "   user_id  month  month_duration  month_calls\n",
       "0     1000      5           159.0           22\n",
       "1     1000      6           172.0           43\n",
       "2     1000      7           340.0           47"
      ]
     },
     "execution_count": 23,
     "metadata": {},
     "output_type": "execute_result"
    }
   ],
   "source": [
    "calls_min_month = calls_min_month.reset_index()\n",
    "calls_min_month.head(3)"
   ]
  },
  {
   "cell_type": "markdown",
   "id": "e595d53d",
   "metadata": {},
   "source": [
    "Создана новая таблица <ins>**calls_min_month**</ins> с информацией о кол-ве сделанных звонков и израсходованных минут разговора по месяцам для каждого пользователя:\n",
    "- `user_id` — идентификатор пользователя, сделавшего звонок\n",
    "- `month` - месяц\n",
    "- `month_duration` — израсходованные минуты разговора в месяц\n",
    "- `month_calls` - кол-во сделанных звонков в месяц"
   ]
  },
  {
   "cell_type": "markdown",
   "id": "5a08c890",
   "metadata": {},
   "source": [
    "#### <ins>**Расчёт кол-ва отправленных сообщений по месяцам для каждого пользователя**</ins>"
   ]
  },
  {
   "cell_type": "markdown",
   "id": "91bf5424",
   "metadata": {},
   "source": [
    "Добавим столбец `month` (месяц) в таблицу **messages**, значения для данного столбца получим из значений столбца `message_date ` (дата сообщения):"
   ]
  },
  {
   "cell_type": "code",
   "execution_count": 24,
   "id": "865ff917",
   "metadata": {
    "scrolled": true
   },
   "outputs": [
    {
     "data": {
      "text/html": [
       "<div>\n",
       "<style scoped>\n",
       "    .dataframe tbody tr th:only-of-type {\n",
       "        vertical-align: middle;\n",
       "    }\n",
       "\n",
       "    .dataframe tbody tr th {\n",
       "        vertical-align: top;\n",
       "    }\n",
       "\n",
       "    .dataframe thead th {\n",
       "        text-align: right;\n",
       "    }\n",
       "</style>\n",
       "<table border=\"1\" class=\"dataframe\">\n",
       "  <thead>\n",
       "    <tr style=\"text-align: right;\">\n",
       "      <th></th>\n",
       "      <th>id</th>\n",
       "      <th>message_date</th>\n",
       "      <th>user_id</th>\n",
       "      <th>month</th>\n",
       "    </tr>\n",
       "  </thead>\n",
       "  <tbody>\n",
       "    <tr>\n",
       "      <th>0</th>\n",
       "      <td>1000_0</td>\n",
       "      <td>2018-06-27</td>\n",
       "      <td>1000</td>\n",
       "      <td>6</td>\n",
       "    </tr>\n",
       "  </tbody>\n",
       "</table>\n",
       "</div>"
      ],
      "text/plain": [
       "       id message_date  user_id  month\n",
       "0  1000_0   2018-06-27     1000      6"
      ]
     },
     "execution_count": 24,
     "metadata": {},
     "output_type": "execute_result"
    }
   ],
   "source": [
    "messages['month'] = messages['message_date'].dt.month\n",
    "messages.head(1)"
   ]
  },
  {
   "cell_type": "markdown",
   "id": "c2e1d3e9",
   "metadata": {},
   "source": [
    "Создадим новую таблицу <ins>**messages_month**</ins> с информацией о кол-ве отправленных сообщений по месяцам для каждого пользователя."
   ]
  },
  {
   "cell_type": "code",
   "execution_count": 25,
   "id": "316ba0ad",
   "metadata": {
    "scrolled": true
   },
   "outputs": [
    {
     "data": {
      "text/html": [
       "<div>\n",
       "<style scoped>\n",
       "    .dataframe tbody tr th:only-of-type {\n",
       "        vertical-align: middle;\n",
       "    }\n",
       "\n",
       "    .dataframe tbody tr th {\n",
       "        vertical-align: top;\n",
       "    }\n",
       "\n",
       "    .dataframe thead th {\n",
       "        text-align: right;\n",
       "    }\n",
       "</style>\n",
       "<table border=\"1\" class=\"dataframe\">\n",
       "  <thead>\n",
       "    <tr style=\"text-align: right;\">\n",
       "      <th></th>\n",
       "      <th>user_id</th>\n",
       "      <th>month</th>\n",
       "      <th>month_messages</th>\n",
       "    </tr>\n",
       "  </thead>\n",
       "  <tbody>\n",
       "    <tr>\n",
       "      <th>0</th>\n",
       "      <td>1000</td>\n",
       "      <td>5</td>\n",
       "      <td>22</td>\n",
       "    </tr>\n",
       "    <tr>\n",
       "      <th>1</th>\n",
       "      <td>1000</td>\n",
       "      <td>6</td>\n",
       "      <td>60</td>\n",
       "    </tr>\n",
       "    <tr>\n",
       "      <th>2</th>\n",
       "      <td>1000</td>\n",
       "      <td>7</td>\n",
       "      <td>75</td>\n",
       "    </tr>\n",
       "    <tr>\n",
       "      <th>3</th>\n",
       "      <td>1000</td>\n",
       "      <td>8</td>\n",
       "      <td>81</td>\n",
       "    </tr>\n",
       "    <tr>\n",
       "      <th>4</th>\n",
       "      <td>1000</td>\n",
       "      <td>9</td>\n",
       "      <td>57</td>\n",
       "    </tr>\n",
       "  </tbody>\n",
       "</table>\n",
       "</div>"
      ],
      "text/plain": [
       "   user_id  month  month_messages\n",
       "0     1000      5              22\n",
       "1     1000      6              60\n",
       "2     1000      7              75\n",
       "3     1000      8              81\n",
       "4     1000      9              57"
      ]
     },
     "execution_count": 25,
     "metadata": {},
     "output_type": "execute_result"
    }
   ],
   "source": [
    "messages_month = (\n",
    "                  messages.pivot_table(index=['user_id','month'],\n",
    "                  aggfunc={'id':'count'})\n",
    "                  .rename(columns={'id': 'month_messages'})\n",
    "                 ).fillna(0).reset_index()\n",
    "messages_month.head()"
   ]
  },
  {
   "cell_type": "markdown",
   "id": "5fd4c9d4",
   "metadata": {},
   "source": [
    "Создана новая таблица <ins>**messages_month**</ins> с информацией о кол-ве отправленных сообщений по месяцам для каждого пользователя:\n",
    "- `user_id` — идентификатор пользователя, отправившего сообщение\n",
    "- `month` - месяц\n",
    "- `month_messages` - кол-во отправленных сообщений в месяц"
   ]
  },
  {
   "cell_type": "markdown",
   "id": "7b0eea53",
   "metadata": {},
   "source": [
    "#### <ins>**Расчёт объема израсходованного интернет-трафика по месяцам для каждого пользователя**</ins>"
   ]
  },
  {
   "cell_type": "markdown",
   "id": "f0c73f85",
   "metadata": {},
   "source": [
    "Добавим столбец `month` (месяц) в таблицу **internet**, значения для данного столбца получим из значений столбца `session_date ` (дата интернет-сессии):"
   ]
  },
  {
   "cell_type": "code",
   "execution_count": 26,
   "id": "b6299344",
   "metadata": {},
   "outputs": [
    {
     "data": {
      "text/html": [
       "<div>\n",
       "<style scoped>\n",
       "    .dataframe tbody tr th:only-of-type {\n",
       "        vertical-align: middle;\n",
       "    }\n",
       "\n",
       "    .dataframe tbody tr th {\n",
       "        vertical-align: top;\n",
       "    }\n",
       "\n",
       "    .dataframe thead th {\n",
       "        text-align: right;\n",
       "    }\n",
       "</style>\n",
       "<table border=\"1\" class=\"dataframe\">\n",
       "  <thead>\n",
       "    <tr style=\"text-align: right;\">\n",
       "      <th></th>\n",
       "      <th>id</th>\n",
       "      <th>mb_used</th>\n",
       "      <th>session_date</th>\n",
       "      <th>user_id</th>\n",
       "      <th>month</th>\n",
       "    </tr>\n",
       "  </thead>\n",
       "  <tbody>\n",
       "    <tr>\n",
       "      <th>0</th>\n",
       "      <td>1000_0</td>\n",
       "      <td>112.95</td>\n",
       "      <td>2018-11-25</td>\n",
       "      <td>1000</td>\n",
       "      <td>11</td>\n",
       "    </tr>\n",
       "    <tr>\n",
       "      <th>1</th>\n",
       "      <td>1000_1</td>\n",
       "      <td>1052.81</td>\n",
       "      <td>2018-09-07</td>\n",
       "      <td>1000</td>\n",
       "      <td>9</td>\n",
       "    </tr>\n",
       "    <tr>\n",
       "      <th>2</th>\n",
       "      <td>1000_2</td>\n",
       "      <td>1197.26</td>\n",
       "      <td>2018-06-25</td>\n",
       "      <td>1000</td>\n",
       "      <td>6</td>\n",
       "    </tr>\n",
       "  </tbody>\n",
       "</table>\n",
       "</div>"
      ],
      "text/plain": [
       "       id  mb_used session_date  user_id  month\n",
       "0  1000_0   112.95   2018-11-25     1000     11\n",
       "1  1000_1  1052.81   2018-09-07     1000      9\n",
       "2  1000_2  1197.26   2018-06-25     1000      6"
      ]
     },
     "execution_count": 26,
     "metadata": {},
     "output_type": "execute_result"
    }
   ],
   "source": [
    "internet['month'] = internet['session_date'].dt.month\n",
    "internet.head(3)"
   ]
  },
  {
   "cell_type": "markdown",
   "id": "254dd628",
   "metadata": {},
   "source": [
    "Создадим новую таблицу <ins>**internet_month**</ins> с информацией об объеме израсходованного интернет-трафика по месяцам для каждого пользователя."
   ]
  },
  {
   "cell_type": "code",
   "execution_count": 27,
   "id": "1a49b551",
   "metadata": {
    "scrolled": false
   },
   "outputs": [
    {
     "data": {
      "text/html": [
       "<div>\n",
       "<style scoped>\n",
       "    .dataframe tbody tr th:only-of-type {\n",
       "        vertical-align: middle;\n",
       "    }\n",
       "\n",
       "    .dataframe tbody tr th {\n",
       "        vertical-align: top;\n",
       "    }\n",
       "\n",
       "    .dataframe thead th {\n",
       "        text-align: right;\n",
       "    }\n",
       "</style>\n",
       "<table border=\"1\" class=\"dataframe\">\n",
       "  <thead>\n",
       "    <tr style=\"text-align: right;\">\n",
       "      <th></th>\n",
       "      <th>user_id</th>\n",
       "      <th>month</th>\n",
       "      <th>month_mb_used</th>\n",
       "    </tr>\n",
       "  </thead>\n",
       "  <tbody>\n",
       "    <tr>\n",
       "      <th>0</th>\n",
       "      <td>1000</td>\n",
       "      <td>5</td>\n",
       "      <td>2253.49</td>\n",
       "    </tr>\n",
       "    <tr>\n",
       "      <th>1</th>\n",
       "      <td>1000</td>\n",
       "      <td>6</td>\n",
       "      <td>23233.77</td>\n",
       "    </tr>\n",
       "    <tr>\n",
       "      <th>2</th>\n",
       "      <td>1000</td>\n",
       "      <td>7</td>\n",
       "      <td>14003.64</td>\n",
       "    </tr>\n",
       "  </tbody>\n",
       "</table>\n",
       "</div>"
      ],
      "text/plain": [
       "   user_id  month  month_mb_used\n",
       "0     1000      5        2253.49\n",
       "1     1000      6       23233.77\n",
       "2     1000      7       14003.64"
      ]
     },
     "execution_count": 27,
     "metadata": {},
     "output_type": "execute_result"
    }
   ],
   "source": [
    "internet_month = (\n",
    "                  internet.pivot_table(index=['user_id','month'],\n",
    "                  aggfunc={'mb_used':'sum'})\n",
    "                  .rename(columns={'mb_used': 'month_mb_used'})\n",
    "                 ).fillna(0).reset_index()\n",
    "internet_month.head(3)"
   ]
  },
  {
   "cell_type": "markdown",
   "id": "a30b39ee",
   "metadata": {},
   "source": [
    "Мегабайты в столбце `month_mb_used` представлены до второго знака после запятой. В исходных данных на этот счёт сказано: \"«Мегалайн» всегда округляет секунды до минут, а мегабайты — до гигабайт. Для веб-трафика отдельные сессии не считаются. Вместо этого общая сумма за месяц округляется в бо́льшую сторону. Если абонент использует 1025 мегабайт в этом месяце, с него возьмут плату за 2 гигабайта.\""
   ]
  },
  {
   "cell_type": "markdown",
   "id": "e8e4bfc3",
   "metadata": {},
   "source": [
    "Переведём значения в столбце `month_mb_used` из мегабайт и гигабайты и округлим  до целых в большую сторону."
   ]
  },
  {
   "cell_type": "code",
   "execution_count": 28,
   "id": "bacab9b8",
   "metadata": {
    "scrolled": true
   },
   "outputs": [],
   "source": [
    "internet_month['month_mb_used'] = np.ceil(internet_month['month_mb_used']/1024)"
   ]
  },
  {
   "cell_type": "markdown",
   "id": "d7ed0f1a",
   "metadata": {},
   "source": [
    "Для порядка переименуем столбец `month_mb_used` в `month_gb_used`."
   ]
  },
  {
   "cell_type": "code",
   "execution_count": 29,
   "id": "97d6bf4c",
   "metadata": {},
   "outputs": [],
   "source": [
    "internet_month = internet_month.rename(columns={'month_mb_used': 'month_gb_used'})"
   ]
  },
  {
   "cell_type": "code",
   "execution_count": 30,
   "id": "981dff52",
   "metadata": {},
   "outputs": [
    {
     "data": {
      "text/html": [
       "<div>\n",
       "<style scoped>\n",
       "    .dataframe tbody tr th:only-of-type {\n",
       "        vertical-align: middle;\n",
       "    }\n",
       "\n",
       "    .dataframe tbody tr th {\n",
       "        vertical-align: top;\n",
       "    }\n",
       "\n",
       "    .dataframe thead th {\n",
       "        text-align: right;\n",
       "    }\n",
       "</style>\n",
       "<table border=\"1\" class=\"dataframe\">\n",
       "  <thead>\n",
       "    <tr style=\"text-align: right;\">\n",
       "      <th></th>\n",
       "      <th>user_id</th>\n",
       "      <th>month</th>\n",
       "      <th>month_gb_used</th>\n",
       "    </tr>\n",
       "  </thead>\n",
       "  <tbody>\n",
       "    <tr>\n",
       "      <th>0</th>\n",
       "      <td>1000</td>\n",
       "      <td>5</td>\n",
       "      <td>3.0</td>\n",
       "    </tr>\n",
       "    <tr>\n",
       "      <th>1</th>\n",
       "      <td>1000</td>\n",
       "      <td>6</td>\n",
       "      <td>23.0</td>\n",
       "    </tr>\n",
       "    <tr>\n",
       "      <th>2</th>\n",
       "      <td>1000</td>\n",
       "      <td>7</td>\n",
       "      <td>14.0</td>\n",
       "    </tr>\n",
       "  </tbody>\n",
       "</table>\n",
       "</div>"
      ],
      "text/plain": [
       "   user_id  month  month_gb_used\n",
       "0     1000      5            3.0\n",
       "1     1000      6           23.0\n",
       "2     1000      7           14.0"
      ]
     },
     "execution_count": 30,
     "metadata": {},
     "output_type": "execute_result"
    }
   ],
   "source": [
    "internet_month.head(3)"
   ]
  },
  {
   "cell_type": "markdown",
   "id": "a49ed4a5",
   "metadata": {},
   "source": [
    "Создана новая таблица <ins>**internet_month**</ins> с информацией об объеме израсходованного интернет-трафика по месяцам для каждого пользователя:\n",
    "- `user_id` — идентификатор пользователя, сделавшего звонок\n",
    "- `month` - месяц\n",
    "- `month_gb_used` - объеме израсходованного интернет-трафика по месяцам (Гб)"
   ]
  },
  {
   "cell_type": "markdown",
   "id": "af7f6b8f",
   "metadata": {},
   "source": [
    "#### <ins>**Расчёт помесячной выручки с каждого пользователя**</ins>"
   ]
  },
  {
   "cell_type": "markdown",
   "id": "838ec3b6",
   "metadata": {},
   "source": [
    "Создадим новую таблицу <ins>**revenue_month**</ins> с информацией о помесячную выручке с каждого пользователя."
   ]
  },
  {
   "cell_type": "markdown",
   "id": "d26b5d10",
   "metadata": {},
   "source": [
    "Для наглядности хода мыслей разобьём задачу на несколько этапов"
   ]
  },
  {
   "cell_type": "markdown",
   "id": "08a9113e",
   "metadata": {},
   "source": [
    "Cоздадим таблицу **traffic_month**, к которой потом добавим необходимые данные из других таблиц,\n",
    "\n",
    "в ней объединим таблицы\n",
    "- **internet_month**,\n",
    "- **calls_min_month**,\n",
    "- **messages_month**\n",
    "\n",
    "по столбцам `user_id` и `month` с типом слияния `outer ` (объединение данных)."
   ]
  },
  {
   "cell_type": "code",
   "execution_count": 31,
   "id": "66b490c6",
   "metadata": {},
   "outputs": [
    {
     "data": {
      "text/html": [
       "<div>\n",
       "<style scoped>\n",
       "    .dataframe tbody tr th:only-of-type {\n",
       "        vertical-align: middle;\n",
       "    }\n",
       "\n",
       "    .dataframe tbody tr th {\n",
       "        vertical-align: top;\n",
       "    }\n",
       "\n",
       "    .dataframe thead th {\n",
       "        text-align: right;\n",
       "    }\n",
       "</style>\n",
       "<table border=\"1\" class=\"dataframe\">\n",
       "  <thead>\n",
       "    <tr style=\"text-align: right;\">\n",
       "      <th></th>\n",
       "      <th>user_id</th>\n",
       "      <th>month</th>\n",
       "      <th>month_gb_used</th>\n",
       "      <th>month_duration</th>\n",
       "      <th>month_calls</th>\n",
       "      <th>month_messages</th>\n",
       "    </tr>\n",
       "  </thead>\n",
       "  <tbody>\n",
       "    <tr>\n",
       "      <th>0</th>\n",
       "      <td>1000</td>\n",
       "      <td>5</td>\n",
       "      <td>3.0</td>\n",
       "      <td>159.0</td>\n",
       "      <td>22.0</td>\n",
       "      <td>22.0</td>\n",
       "    </tr>\n",
       "    <tr>\n",
       "      <th>1</th>\n",
       "      <td>1000</td>\n",
       "      <td>6</td>\n",
       "      <td>23.0</td>\n",
       "      <td>172.0</td>\n",
       "      <td>43.0</td>\n",
       "      <td>60.0</td>\n",
       "    </tr>\n",
       "    <tr>\n",
       "      <th>2</th>\n",
       "      <td>1000</td>\n",
       "      <td>7</td>\n",
       "      <td>14.0</td>\n",
       "      <td>340.0</td>\n",
       "      <td>47.0</td>\n",
       "      <td>75.0</td>\n",
       "    </tr>\n",
       "  </tbody>\n",
       "</table>\n",
       "</div>"
      ],
      "text/plain": [
       "   user_id  month  month_gb_used  month_duration  month_calls  month_messages\n",
       "0     1000      5            3.0           159.0         22.0            22.0\n",
       "1     1000      6           23.0           172.0         43.0            60.0\n",
       "2     1000      7           14.0           340.0         47.0            75.0"
      ]
     },
     "execution_count": 31,
     "metadata": {},
     "output_type": "execute_result"
    }
   ],
   "source": [
    "traffic_month=(\n",
    "              internet_month.merge(calls_min_month, on=['user_id','month'], how='outer')\n",
    "              .merge(messages_month, on=['user_id','month'], how='outer').fillna(0)\n",
    "              )\n",
    "traffic_month.head(3)"
   ]
  },
  {
   "cell_type": "markdown",
   "id": "b5211db5",
   "metadata": {},
   "source": [
    "Выделим в отдельную таблицу <ins>**users_tariff**</ins> следующие данные:\n",
    "- `user_id` — уникальный идентификатор пользователя\n",
    "- `tariff` — название тарифного плана\n",
    "- `city` - город (данный столбец понадобится позже при проверке гипотез)"
   ]
  },
  {
   "cell_type": "code",
   "execution_count": 32,
   "id": "548f4667",
   "metadata": {},
   "outputs": [],
   "source": [
    "users_tariff = users[['user_id','tariff', 'city']]"
   ]
  },
  {
   "cell_type": "markdown",
   "id": "ef91668a",
   "metadata": {},
   "source": [
    "Переименуем в таблице **tariffs** столбец `tariff_name` в `tariff` для возможности объединения по данному столбцу с таблицей **users_tariff**."
   ]
  },
  {
   "cell_type": "code",
   "execution_count": 33,
   "id": "b3c81d7e",
   "metadata": {},
   "outputs": [],
   "source": [
    "tariffs = tariffs.rename(columns={'tariff_name':'tariff'})"
   ]
  },
  {
   "cell_type": "markdown",
   "id": "bd566ebe",
   "metadata": {},
   "source": [
    "Объединим таблицы **users_tariff** и **tariffs** в таблицу **users_revenue** по столбцу `tariff` с типом слияния `outer ` (объединение данных):"
   ]
  },
  {
   "cell_type": "code",
   "execution_count": 34,
   "id": "49e4a5ee",
   "metadata": {
    "scrolled": false
   },
   "outputs": [
    {
     "data": {
      "text/html": [
       "<div>\n",
       "<style scoped>\n",
       "    .dataframe tbody tr th:only-of-type {\n",
       "        vertical-align: middle;\n",
       "    }\n",
       "\n",
       "    .dataframe tbody tr th {\n",
       "        vertical-align: top;\n",
       "    }\n",
       "\n",
       "    .dataframe thead th {\n",
       "        text-align: right;\n",
       "    }\n",
       "</style>\n",
       "<table border=\"1\" class=\"dataframe\">\n",
       "  <thead>\n",
       "    <tr style=\"text-align: right;\">\n",
       "      <th></th>\n",
       "      <th>user_id</th>\n",
       "      <th>tariff</th>\n",
       "      <th>city</th>\n",
       "      <th>messages_included</th>\n",
       "      <th>gb_per_month_included</th>\n",
       "      <th>minutes_included</th>\n",
       "      <th>rub_monthly_fee</th>\n",
       "      <th>rub_per_gb</th>\n",
       "      <th>rub_per_message</th>\n",
       "      <th>rub_per_minute</th>\n",
       "    </tr>\n",
       "  </thead>\n",
       "  <tbody>\n",
       "    <tr>\n",
       "      <th>0</th>\n",
       "      <td>1000</td>\n",
       "      <td>ultra</td>\n",
       "      <td>Краснодар</td>\n",
       "      <td>1000</td>\n",
       "      <td>30.0</td>\n",
       "      <td>3000</td>\n",
       "      <td>1950</td>\n",
       "      <td>150</td>\n",
       "      <td>1</td>\n",
       "      <td>1</td>\n",
       "    </tr>\n",
       "    <tr>\n",
       "      <th>1</th>\n",
       "      <td>1003</td>\n",
       "      <td>ultra</td>\n",
       "      <td>Москва</td>\n",
       "      <td>1000</td>\n",
       "      <td>30.0</td>\n",
       "      <td>3000</td>\n",
       "      <td>1950</td>\n",
       "      <td>150</td>\n",
       "      <td>1</td>\n",
       "      <td>1</td>\n",
       "    </tr>\n",
       "    <tr>\n",
       "      <th>2</th>\n",
       "      <td>1004</td>\n",
       "      <td>ultra</td>\n",
       "      <td>Новокузнецк</td>\n",
       "      <td>1000</td>\n",
       "      <td>30.0</td>\n",
       "      <td>3000</td>\n",
       "      <td>1950</td>\n",
       "      <td>150</td>\n",
       "      <td>1</td>\n",
       "      <td>1</td>\n",
       "    </tr>\n",
       "  </tbody>\n",
       "</table>\n",
       "</div>"
      ],
      "text/plain": [
       "   user_id tariff         city  messages_included  gb_per_month_included  \\\n",
       "0     1000  ultra    Краснодар               1000                   30.0   \n",
       "1     1003  ultra       Москва               1000                   30.0   \n",
       "2     1004  ultra  Новокузнецк               1000                   30.0   \n",
       "\n",
       "   minutes_included  rub_monthly_fee  rub_per_gb  rub_per_message  \\\n",
       "0              3000             1950         150                1   \n",
       "1              3000             1950         150                1   \n",
       "2              3000             1950         150                1   \n",
       "\n",
       "   rub_per_minute  \n",
       "0               1  \n",
       "1               1  \n",
       "2               1  "
      ]
     },
     "execution_count": 34,
     "metadata": {},
     "output_type": "execute_result"
    }
   ],
   "source": [
    "users_revenue = users_tariff.merge(tariffs, on='tariff', how='outer')\n",
    "users_revenue.head(3)"
   ]
  },
  {
   "cell_type": "markdown",
   "id": "2536a848",
   "metadata": {},
   "source": [
    "Объединим таблицы **traffic_month** и **users_revenue** в таблицу <ins>**revenue_month_sup**</ins> (sup - означает support, вспомогательная таблица для вычислений)\n",
    "- по столбцу `user_id` с типом слияния `outer ` (объединение данных),\n",
    "- заменив все пропуски нулями, так как пропуски означают, что траффика (разговоров, смс, интернета) не было, и замена на ноль логична,\n",
    "- отсортировав по столбцу `user_id`,\n",
    "- перезаписав индексы."
   ]
  },
  {
   "cell_type": "code",
   "execution_count": 35,
   "id": "6c7b90dc",
   "metadata": {},
   "outputs": [
    {
     "data": {
      "text/html": [
       "<div>\n",
       "<style scoped>\n",
       "    .dataframe tbody tr th:only-of-type {\n",
       "        vertical-align: middle;\n",
       "    }\n",
       "\n",
       "    .dataframe tbody tr th {\n",
       "        vertical-align: top;\n",
       "    }\n",
       "\n",
       "    .dataframe thead th {\n",
       "        text-align: right;\n",
       "    }\n",
       "</style>\n",
       "<table border=\"1\" class=\"dataframe\">\n",
       "  <thead>\n",
       "    <tr style=\"text-align: right;\">\n",
       "      <th></th>\n",
       "      <th>user_id</th>\n",
       "      <th>tariff</th>\n",
       "      <th>city</th>\n",
       "      <th>messages_included</th>\n",
       "      <th>gb_per_month_included</th>\n",
       "      <th>minutes_included</th>\n",
       "      <th>rub_monthly_fee</th>\n",
       "      <th>rub_per_gb</th>\n",
       "      <th>rub_per_message</th>\n",
       "      <th>rub_per_minute</th>\n",
       "      <th>month</th>\n",
       "      <th>month_gb_used</th>\n",
       "      <th>month_duration</th>\n",
       "      <th>month_calls</th>\n",
       "      <th>month_messages</th>\n",
       "    </tr>\n",
       "  </thead>\n",
       "  <tbody>\n",
       "    <tr>\n",
       "      <th>0</th>\n",
       "      <td>1000</td>\n",
       "      <td>ultra</td>\n",
       "      <td>Краснодар</td>\n",
       "      <td>1000</td>\n",
       "      <td>30.0</td>\n",
       "      <td>3000</td>\n",
       "      <td>1950</td>\n",
       "      <td>150</td>\n",
       "      <td>1</td>\n",
       "      <td>1</td>\n",
       "      <td>5.0</td>\n",
       "      <td>3.0</td>\n",
       "      <td>159.0</td>\n",
       "      <td>22.0</td>\n",
       "      <td>22.0</td>\n",
       "    </tr>\n",
       "    <tr>\n",
       "      <th>1</th>\n",
       "      <td>1000</td>\n",
       "      <td>ultra</td>\n",
       "      <td>Краснодар</td>\n",
       "      <td>1000</td>\n",
       "      <td>30.0</td>\n",
       "      <td>3000</td>\n",
       "      <td>1950</td>\n",
       "      <td>150</td>\n",
       "      <td>1</td>\n",
       "      <td>1</td>\n",
       "      <td>6.0</td>\n",
       "      <td>23.0</td>\n",
       "      <td>172.0</td>\n",
       "      <td>43.0</td>\n",
       "      <td>60.0</td>\n",
       "    </tr>\n",
       "    <tr>\n",
       "      <th>2</th>\n",
       "      <td>1000</td>\n",
       "      <td>ultra</td>\n",
       "      <td>Краснодар</td>\n",
       "      <td>1000</td>\n",
       "      <td>30.0</td>\n",
       "      <td>3000</td>\n",
       "      <td>1950</td>\n",
       "      <td>150</td>\n",
       "      <td>1</td>\n",
       "      <td>1</td>\n",
       "      <td>7.0</td>\n",
       "      <td>14.0</td>\n",
       "      <td>340.0</td>\n",
       "      <td>47.0</td>\n",
       "      <td>75.0</td>\n",
       "    </tr>\n",
       "    <tr>\n",
       "      <th>3</th>\n",
       "      <td>1000</td>\n",
       "      <td>ultra</td>\n",
       "      <td>Краснодар</td>\n",
       "      <td>1000</td>\n",
       "      <td>30.0</td>\n",
       "      <td>3000</td>\n",
       "      <td>1950</td>\n",
       "      <td>150</td>\n",
       "      <td>1</td>\n",
       "      <td>1</td>\n",
       "      <td>8.0</td>\n",
       "      <td>14.0</td>\n",
       "      <td>408.0</td>\n",
       "      <td>52.0</td>\n",
       "      <td>81.0</td>\n",
       "    </tr>\n",
       "    <tr>\n",
       "      <th>4</th>\n",
       "      <td>1000</td>\n",
       "      <td>ultra</td>\n",
       "      <td>Краснодар</td>\n",
       "      <td>1000</td>\n",
       "      <td>30.0</td>\n",
       "      <td>3000</td>\n",
       "      <td>1950</td>\n",
       "      <td>150</td>\n",
       "      <td>1</td>\n",
       "      <td>1</td>\n",
       "      <td>9.0</td>\n",
       "      <td>15.0</td>\n",
       "      <td>466.0</td>\n",
       "      <td>58.0</td>\n",
       "      <td>57.0</td>\n",
       "    </tr>\n",
       "    <tr>\n",
       "      <th>5</th>\n",
       "      <td>1000</td>\n",
       "      <td>ultra</td>\n",
       "      <td>Краснодар</td>\n",
       "      <td>1000</td>\n",
       "      <td>30.0</td>\n",
       "      <td>3000</td>\n",
       "      <td>1950</td>\n",
       "      <td>150</td>\n",
       "      <td>1</td>\n",
       "      <td>1</td>\n",
       "      <td>10.0</td>\n",
       "      <td>15.0</td>\n",
       "      <td>350.0</td>\n",
       "      <td>57.0</td>\n",
       "      <td>73.0</td>\n",
       "    </tr>\n",
       "    <tr>\n",
       "      <th>6</th>\n",
       "      <td>1000</td>\n",
       "      <td>ultra</td>\n",
       "      <td>Краснодар</td>\n",
       "      <td>1000</td>\n",
       "      <td>30.0</td>\n",
       "      <td>3000</td>\n",
       "      <td>1950</td>\n",
       "      <td>150</td>\n",
       "      <td>1</td>\n",
       "      <td>1</td>\n",
       "      <td>11.0</td>\n",
       "      <td>15.0</td>\n",
       "      <td>338.0</td>\n",
       "      <td>43.0</td>\n",
       "      <td>58.0</td>\n",
       "    </tr>\n",
       "    <tr>\n",
       "      <th>7</th>\n",
       "      <td>1000</td>\n",
       "      <td>ultra</td>\n",
       "      <td>Краснодар</td>\n",
       "      <td>1000</td>\n",
       "      <td>30.0</td>\n",
       "      <td>3000</td>\n",
       "      <td>1950</td>\n",
       "      <td>150</td>\n",
       "      <td>1</td>\n",
       "      <td>1</td>\n",
       "      <td>12.0</td>\n",
       "      <td>10.0</td>\n",
       "      <td>333.0</td>\n",
       "      <td>46.0</td>\n",
       "      <td>70.0</td>\n",
       "    </tr>\n",
       "    <tr>\n",
       "      <th>8</th>\n",
       "      <td>1001</td>\n",
       "      <td>smart</td>\n",
       "      <td>Москва</td>\n",
       "      <td>50</td>\n",
       "      <td>15.0</td>\n",
       "      <td>500</td>\n",
       "      <td>550</td>\n",
       "      <td>200</td>\n",
       "      <td>3</td>\n",
       "      <td>3</td>\n",
       "      <td>12.0</td>\n",
       "      <td>14.0</td>\n",
       "      <td>414.0</td>\n",
       "      <td>63.0</td>\n",
       "      <td>0.0</td>\n",
       "    </tr>\n",
       "    <tr>\n",
       "      <th>9</th>\n",
       "      <td>1001</td>\n",
       "      <td>smart</td>\n",
       "      <td>Москва</td>\n",
       "      <td>50</td>\n",
       "      <td>15.0</td>\n",
       "      <td>500</td>\n",
       "      <td>550</td>\n",
       "      <td>200</td>\n",
       "      <td>3</td>\n",
       "      <td>3</td>\n",
       "      <td>11.0</td>\n",
       "      <td>18.0</td>\n",
       "      <td>430.0</td>\n",
       "      <td>59.0</td>\n",
       "      <td>0.0</td>\n",
       "    </tr>\n",
       "  </tbody>\n",
       "</table>\n",
       "</div>"
      ],
      "text/plain": [
       "   user_id tariff       city  messages_included  gb_per_month_included  \\\n",
       "0     1000  ultra  Краснодар               1000                   30.0   \n",
       "1     1000  ultra  Краснодар               1000                   30.0   \n",
       "2     1000  ultra  Краснодар               1000                   30.0   \n",
       "3     1000  ultra  Краснодар               1000                   30.0   \n",
       "4     1000  ultra  Краснодар               1000                   30.0   \n",
       "5     1000  ultra  Краснодар               1000                   30.0   \n",
       "6     1000  ultra  Краснодар               1000                   30.0   \n",
       "7     1000  ultra  Краснодар               1000                   30.0   \n",
       "8     1001  smart     Москва                 50                   15.0   \n",
       "9     1001  smart     Москва                 50                   15.0   \n",
       "\n",
       "   minutes_included  rub_monthly_fee  rub_per_gb  rub_per_message  \\\n",
       "0              3000             1950         150                1   \n",
       "1              3000             1950         150                1   \n",
       "2              3000             1950         150                1   \n",
       "3              3000             1950         150                1   \n",
       "4              3000             1950         150                1   \n",
       "5              3000             1950         150                1   \n",
       "6              3000             1950         150                1   \n",
       "7              3000             1950         150                1   \n",
       "8               500              550         200                3   \n",
       "9               500              550         200                3   \n",
       "\n",
       "   rub_per_minute  month  month_gb_used  month_duration  month_calls  \\\n",
       "0               1    5.0            3.0           159.0         22.0   \n",
       "1               1    6.0           23.0           172.0         43.0   \n",
       "2               1    7.0           14.0           340.0         47.0   \n",
       "3               1    8.0           14.0           408.0         52.0   \n",
       "4               1    9.0           15.0           466.0         58.0   \n",
       "5               1   10.0           15.0           350.0         57.0   \n",
       "6               1   11.0           15.0           338.0         43.0   \n",
       "7               1   12.0           10.0           333.0         46.0   \n",
       "8               3   12.0           14.0           414.0         63.0   \n",
       "9               3   11.0           18.0           430.0         59.0   \n",
       "\n",
       "   month_messages  \n",
       "0            22.0  \n",
       "1            60.0  \n",
       "2            75.0  \n",
       "3            81.0  \n",
       "4            57.0  \n",
       "5            73.0  \n",
       "6            58.0  \n",
       "7            70.0  \n",
       "8             0.0  \n",
       "9             0.0  "
      ]
     },
     "execution_count": 35,
     "metadata": {},
     "output_type": "execute_result"
    }
   ],
   "source": [
    "revenue_month_sup = (\n",
    "                     users_revenue.merge(traffic_month, on='user_id', how='outer')\n",
    "                     .sort_values(by='user_id')\n",
    "                     .reset_index(drop=True)\n",
    "                     .fillna(0)\n",
    "                    )\n",
    "revenue_month_sup.head(10)"
   ]
  },
  {
   "cell_type": "markdown",
   "id": "1220c57c",
   "metadata": {},
   "source": [
    "В таблице **revenue_month_sup** создадим новые столбцы `revenue_minutes`, `revenue_messages`, `revenue_gb_used` (превышение бесплатного лимита на звонки, сообщения, интернет-траффик соответственно):\n",
    "- `revenue_minutes`: из суммарного количества минут разговора в месяц `month_duration` вычтем бесплатный лимит `minutes_included`\n",
    "- `revenue_messages`: из суммарного количества сообщений в месяц `month_messages` вычтем бесплатный лимит `messages_included`\n",
    "- `revenue_gb_used`: из суммарного количества мнтернет-трафика в месяц `month_gb_used` вычтем бесплатный лимит `gb_per_month_included`.\n",
    "\n",
    "В случае если превышения нет, то принимаем значение ноль.\n",
    "\n",
    "Результаты вычислений умножим на значение из тарифного плана (`rub_per_minute`, `rub_per_message`, `rub_per_gb` соответственно)."
   ]
  },
  {
   "cell_type": "markdown",
   "id": "4e073bec",
   "metadata": {},
   "source": [
    "*Примечание. За неимением информации в исходных данных примем, что неиспользованные за предыдущий месяц звонки, смс, интернет на следующий месяц не переносятся. Представим, что нам это подтвердил заказчик при обращении.*"
   ]
  },
  {
   "cell_type": "code",
   "execution_count": 36,
   "id": "f40cd6a6",
   "metadata": {
    "scrolled": true
   },
   "outputs": [
    {
     "data": {
      "text/html": [
       "<div>\n",
       "<style scoped>\n",
       "    .dataframe tbody tr th:only-of-type {\n",
       "        vertical-align: middle;\n",
       "    }\n",
       "\n",
       "    .dataframe tbody tr th {\n",
       "        vertical-align: top;\n",
       "    }\n",
       "\n",
       "    .dataframe thead th {\n",
       "        text-align: right;\n",
       "    }\n",
       "</style>\n",
       "<table border=\"1\" class=\"dataframe\">\n",
       "  <thead>\n",
       "    <tr style=\"text-align: right;\">\n",
       "      <th></th>\n",
       "      <th>user_id</th>\n",
       "      <th>tariff</th>\n",
       "      <th>city</th>\n",
       "      <th>messages_included</th>\n",
       "      <th>gb_per_month_included</th>\n",
       "      <th>minutes_included</th>\n",
       "      <th>rub_monthly_fee</th>\n",
       "      <th>rub_per_gb</th>\n",
       "      <th>rub_per_message</th>\n",
       "      <th>rub_per_minute</th>\n",
       "      <th>month</th>\n",
       "      <th>month_gb_used</th>\n",
       "      <th>month_duration</th>\n",
       "      <th>month_calls</th>\n",
       "      <th>month_messages</th>\n",
       "      <th>revenue_minutes</th>\n",
       "      <th>revenue_messages</th>\n",
       "      <th>revenue_gb_used</th>\n",
       "    </tr>\n",
       "  </thead>\n",
       "  <tbody>\n",
       "    <tr>\n",
       "      <th>0</th>\n",
       "      <td>1000</td>\n",
       "      <td>ultra</td>\n",
       "      <td>Краснодар</td>\n",
       "      <td>1000</td>\n",
       "      <td>30.0</td>\n",
       "      <td>3000</td>\n",
       "      <td>1950</td>\n",
       "      <td>150</td>\n",
       "      <td>1</td>\n",
       "      <td>1</td>\n",
       "      <td>5.0</td>\n",
       "      <td>3.0</td>\n",
       "      <td>159.0</td>\n",
       "      <td>22.0</td>\n",
       "      <td>22.0</td>\n",
       "      <td>0.0</td>\n",
       "      <td>0.0</td>\n",
       "      <td>0.0</td>\n",
       "    </tr>\n",
       "    <tr>\n",
       "      <th>1</th>\n",
       "      <td>1000</td>\n",
       "      <td>ultra</td>\n",
       "      <td>Краснодар</td>\n",
       "      <td>1000</td>\n",
       "      <td>30.0</td>\n",
       "      <td>3000</td>\n",
       "      <td>1950</td>\n",
       "      <td>150</td>\n",
       "      <td>1</td>\n",
       "      <td>1</td>\n",
       "      <td>6.0</td>\n",
       "      <td>23.0</td>\n",
       "      <td>172.0</td>\n",
       "      <td>43.0</td>\n",
       "      <td>60.0</td>\n",
       "      <td>0.0</td>\n",
       "      <td>0.0</td>\n",
       "      <td>0.0</td>\n",
       "    </tr>\n",
       "    <tr>\n",
       "      <th>2</th>\n",
       "      <td>1000</td>\n",
       "      <td>ultra</td>\n",
       "      <td>Краснодар</td>\n",
       "      <td>1000</td>\n",
       "      <td>30.0</td>\n",
       "      <td>3000</td>\n",
       "      <td>1950</td>\n",
       "      <td>150</td>\n",
       "      <td>1</td>\n",
       "      <td>1</td>\n",
       "      <td>7.0</td>\n",
       "      <td>14.0</td>\n",
       "      <td>340.0</td>\n",
       "      <td>47.0</td>\n",
       "      <td>75.0</td>\n",
       "      <td>0.0</td>\n",
       "      <td>0.0</td>\n",
       "      <td>0.0</td>\n",
       "    </tr>\n",
       "  </tbody>\n",
       "</table>\n",
       "</div>"
      ],
      "text/plain": [
       "   user_id tariff       city  messages_included  gb_per_month_included  \\\n",
       "0     1000  ultra  Краснодар               1000                   30.0   \n",
       "1     1000  ultra  Краснодар               1000                   30.0   \n",
       "2     1000  ultra  Краснодар               1000                   30.0   \n",
       "\n",
       "   minutes_included  rub_monthly_fee  rub_per_gb  rub_per_message  \\\n",
       "0              3000             1950         150                1   \n",
       "1              3000             1950         150                1   \n",
       "2              3000             1950         150                1   \n",
       "\n",
       "   rub_per_minute  month  month_gb_used  month_duration  month_calls  \\\n",
       "0               1    5.0            3.0           159.0         22.0   \n",
       "1               1    6.0           23.0           172.0         43.0   \n",
       "2               1    7.0           14.0           340.0         47.0   \n",
       "\n",
       "   month_messages  revenue_minutes  revenue_messages  revenue_gb_used  \n",
       "0            22.0              0.0               0.0              0.0  \n",
       "1            60.0              0.0               0.0              0.0  \n",
       "2            75.0              0.0               0.0              0.0  "
      ]
     },
     "execution_count": 36,
     "metadata": {},
     "output_type": "execute_result"
    }
   ],
   "source": [
    "def above_limit(revenue_df, new_col, traf, inc, plan):    \n",
    "    revenue_df[new_col] = (revenue_df[traf] - revenue_df[inc])*revenue_df[plan]    \n",
    "    revenue_df.loc[revenue_df[new_col] < 0, new_col] = 0\n",
    "    return revenue_df.head(3)\n",
    "above_limit(revenue_month_sup, 'revenue_minutes', 'month_duration', 'minutes_included', 'rub_per_minute')\n",
    "above_limit(revenue_month_sup, 'revenue_messages', 'month_messages', 'messages_included', 'rub_per_message')\n",
    "above_limit(revenue_month_sup, 'revenue_gb_used', 'month_gb_used', 'gb_per_month_included', 'rub_per_gb')"
   ]
  },
  {
   "cell_type": "markdown",
   "id": "e698dcf0",
   "metadata": {},
   "source": [
    "Сложим значения в столбцах `revenue_minutes`, `revenue_messages`, `revenue_gb_used` между собой и прибавим абонентскую плату `rub_monthly_fee`, соответствующую тарифному плану. Результаты сохраним в новый столбец `revenue`."
   ]
  },
  {
   "cell_type": "code",
   "execution_count": 37,
   "id": "e76a1265",
   "metadata": {},
   "outputs": [],
   "source": [
    "revenue_month_sup['revenue'] = (\n",
    "        revenue_month_sup['revenue_minutes']+\n",
    "        revenue_month_sup['revenue_messages']+\n",
    "        revenue_month_sup['revenue_gb_used']+\n",
    "        revenue_month_sup['rub_monthly_fee'])"
   ]
  },
  {
   "cell_type": "code",
   "execution_count": 38,
   "id": "7ae070c0",
   "metadata": {
    "scrolled": false
   },
   "outputs": [
    {
     "data": {
      "text/html": [
       "<div>\n",
       "<style scoped>\n",
       "    .dataframe tbody tr th:only-of-type {\n",
       "        vertical-align: middle;\n",
       "    }\n",
       "\n",
       "    .dataframe tbody tr th {\n",
       "        vertical-align: top;\n",
       "    }\n",
       "\n",
       "    .dataframe thead th {\n",
       "        text-align: right;\n",
       "    }\n",
       "</style>\n",
       "<table border=\"1\" class=\"dataframe\">\n",
       "  <thead>\n",
       "    <tr style=\"text-align: right;\">\n",
       "      <th></th>\n",
       "      <th>user_id</th>\n",
       "      <th>tariff</th>\n",
       "      <th>city</th>\n",
       "      <th>messages_included</th>\n",
       "      <th>gb_per_month_included</th>\n",
       "      <th>minutes_included</th>\n",
       "      <th>rub_monthly_fee</th>\n",
       "      <th>rub_per_gb</th>\n",
       "      <th>rub_per_message</th>\n",
       "      <th>rub_per_minute</th>\n",
       "      <th>month</th>\n",
       "      <th>month_gb_used</th>\n",
       "      <th>month_duration</th>\n",
       "      <th>month_calls</th>\n",
       "      <th>month_messages</th>\n",
       "      <th>revenue_minutes</th>\n",
       "      <th>revenue_messages</th>\n",
       "      <th>revenue_gb_used</th>\n",
       "      <th>revenue</th>\n",
       "    </tr>\n",
       "  </thead>\n",
       "  <tbody>\n",
       "    <tr>\n",
       "      <th>0</th>\n",
       "      <td>1000</td>\n",
       "      <td>ultra</td>\n",
       "      <td>Краснодар</td>\n",
       "      <td>1000</td>\n",
       "      <td>30.0</td>\n",
       "      <td>3000</td>\n",
       "      <td>1950</td>\n",
       "      <td>150</td>\n",
       "      <td>1</td>\n",
       "      <td>1</td>\n",
       "      <td>5.0</td>\n",
       "      <td>3.0</td>\n",
       "      <td>159.0</td>\n",
       "      <td>22.0</td>\n",
       "      <td>22.0</td>\n",
       "      <td>0.0</td>\n",
       "      <td>0.0</td>\n",
       "      <td>0.0</td>\n",
       "      <td>1950.0</td>\n",
       "    </tr>\n",
       "    <tr>\n",
       "      <th>1</th>\n",
       "      <td>1000</td>\n",
       "      <td>ultra</td>\n",
       "      <td>Краснодар</td>\n",
       "      <td>1000</td>\n",
       "      <td>30.0</td>\n",
       "      <td>3000</td>\n",
       "      <td>1950</td>\n",
       "      <td>150</td>\n",
       "      <td>1</td>\n",
       "      <td>1</td>\n",
       "      <td>6.0</td>\n",
       "      <td>23.0</td>\n",
       "      <td>172.0</td>\n",
       "      <td>43.0</td>\n",
       "      <td>60.0</td>\n",
       "      <td>0.0</td>\n",
       "      <td>0.0</td>\n",
       "      <td>0.0</td>\n",
       "      <td>1950.0</td>\n",
       "    </tr>\n",
       "    <tr>\n",
       "      <th>2</th>\n",
       "      <td>1000</td>\n",
       "      <td>ultra</td>\n",
       "      <td>Краснодар</td>\n",
       "      <td>1000</td>\n",
       "      <td>30.0</td>\n",
       "      <td>3000</td>\n",
       "      <td>1950</td>\n",
       "      <td>150</td>\n",
       "      <td>1</td>\n",
       "      <td>1</td>\n",
       "      <td>7.0</td>\n",
       "      <td>14.0</td>\n",
       "      <td>340.0</td>\n",
       "      <td>47.0</td>\n",
       "      <td>75.0</td>\n",
       "      <td>0.0</td>\n",
       "      <td>0.0</td>\n",
       "      <td>0.0</td>\n",
       "      <td>1950.0</td>\n",
       "    </tr>\n",
       "    <tr>\n",
       "      <th>3</th>\n",
       "      <td>1000</td>\n",
       "      <td>ultra</td>\n",
       "      <td>Краснодар</td>\n",
       "      <td>1000</td>\n",
       "      <td>30.0</td>\n",
       "      <td>3000</td>\n",
       "      <td>1950</td>\n",
       "      <td>150</td>\n",
       "      <td>1</td>\n",
       "      <td>1</td>\n",
       "      <td>8.0</td>\n",
       "      <td>14.0</td>\n",
       "      <td>408.0</td>\n",
       "      <td>52.0</td>\n",
       "      <td>81.0</td>\n",
       "      <td>0.0</td>\n",
       "      <td>0.0</td>\n",
       "      <td>0.0</td>\n",
       "      <td>1950.0</td>\n",
       "    </tr>\n",
       "    <tr>\n",
       "      <th>4</th>\n",
       "      <td>1000</td>\n",
       "      <td>ultra</td>\n",
       "      <td>Краснодар</td>\n",
       "      <td>1000</td>\n",
       "      <td>30.0</td>\n",
       "      <td>3000</td>\n",
       "      <td>1950</td>\n",
       "      <td>150</td>\n",
       "      <td>1</td>\n",
       "      <td>1</td>\n",
       "      <td>9.0</td>\n",
       "      <td>15.0</td>\n",
       "      <td>466.0</td>\n",
       "      <td>58.0</td>\n",
       "      <td>57.0</td>\n",
       "      <td>0.0</td>\n",
       "      <td>0.0</td>\n",
       "      <td>0.0</td>\n",
       "      <td>1950.0</td>\n",
       "    </tr>\n",
       "    <tr>\n",
       "      <th>5</th>\n",
       "      <td>1000</td>\n",
       "      <td>ultra</td>\n",
       "      <td>Краснодар</td>\n",
       "      <td>1000</td>\n",
       "      <td>30.0</td>\n",
       "      <td>3000</td>\n",
       "      <td>1950</td>\n",
       "      <td>150</td>\n",
       "      <td>1</td>\n",
       "      <td>1</td>\n",
       "      <td>10.0</td>\n",
       "      <td>15.0</td>\n",
       "      <td>350.0</td>\n",
       "      <td>57.0</td>\n",
       "      <td>73.0</td>\n",
       "      <td>0.0</td>\n",
       "      <td>0.0</td>\n",
       "      <td>0.0</td>\n",
       "      <td>1950.0</td>\n",
       "    </tr>\n",
       "    <tr>\n",
       "      <th>6</th>\n",
       "      <td>1000</td>\n",
       "      <td>ultra</td>\n",
       "      <td>Краснодар</td>\n",
       "      <td>1000</td>\n",
       "      <td>30.0</td>\n",
       "      <td>3000</td>\n",
       "      <td>1950</td>\n",
       "      <td>150</td>\n",
       "      <td>1</td>\n",
       "      <td>1</td>\n",
       "      <td>11.0</td>\n",
       "      <td>15.0</td>\n",
       "      <td>338.0</td>\n",
       "      <td>43.0</td>\n",
       "      <td>58.0</td>\n",
       "      <td>0.0</td>\n",
       "      <td>0.0</td>\n",
       "      <td>0.0</td>\n",
       "      <td>1950.0</td>\n",
       "    </tr>\n",
       "    <tr>\n",
       "      <th>7</th>\n",
       "      <td>1000</td>\n",
       "      <td>ultra</td>\n",
       "      <td>Краснодар</td>\n",
       "      <td>1000</td>\n",
       "      <td>30.0</td>\n",
       "      <td>3000</td>\n",
       "      <td>1950</td>\n",
       "      <td>150</td>\n",
       "      <td>1</td>\n",
       "      <td>1</td>\n",
       "      <td>12.0</td>\n",
       "      <td>10.0</td>\n",
       "      <td>333.0</td>\n",
       "      <td>46.0</td>\n",
       "      <td>70.0</td>\n",
       "      <td>0.0</td>\n",
       "      <td>0.0</td>\n",
       "      <td>0.0</td>\n",
       "      <td>1950.0</td>\n",
       "    </tr>\n",
       "    <tr>\n",
       "      <th>8</th>\n",
       "      <td>1001</td>\n",
       "      <td>smart</td>\n",
       "      <td>Москва</td>\n",
       "      <td>50</td>\n",
       "      <td>15.0</td>\n",
       "      <td>500</td>\n",
       "      <td>550</td>\n",
       "      <td>200</td>\n",
       "      <td>3</td>\n",
       "      <td>3</td>\n",
       "      <td>12.0</td>\n",
       "      <td>14.0</td>\n",
       "      <td>414.0</td>\n",
       "      <td>63.0</td>\n",
       "      <td>0.0</td>\n",
       "      <td>0.0</td>\n",
       "      <td>0.0</td>\n",
       "      <td>0.0</td>\n",
       "      <td>550.0</td>\n",
       "    </tr>\n",
       "    <tr>\n",
       "      <th>9</th>\n",
       "      <td>1001</td>\n",
       "      <td>smart</td>\n",
       "      <td>Москва</td>\n",
       "      <td>50</td>\n",
       "      <td>15.0</td>\n",
       "      <td>500</td>\n",
       "      <td>550</td>\n",
       "      <td>200</td>\n",
       "      <td>3</td>\n",
       "      <td>3</td>\n",
       "      <td>11.0</td>\n",
       "      <td>18.0</td>\n",
       "      <td>430.0</td>\n",
       "      <td>59.0</td>\n",
       "      <td>0.0</td>\n",
       "      <td>0.0</td>\n",
       "      <td>0.0</td>\n",
       "      <td>600.0</td>\n",
       "      <td>1150.0</td>\n",
       "    </tr>\n",
       "    <tr>\n",
       "      <th>10</th>\n",
       "      <td>1002</td>\n",
       "      <td>smart</td>\n",
       "      <td>Стерлитамак</td>\n",
       "      <td>50</td>\n",
       "      <td>15.0</td>\n",
       "      <td>500</td>\n",
       "      <td>550</td>\n",
       "      <td>200</td>\n",
       "      <td>3</td>\n",
       "      <td>3</td>\n",
       "      <td>8.0</td>\n",
       "      <td>20.0</td>\n",
       "      <td>289.0</td>\n",
       "      <td>42.0</td>\n",
       "      <td>13.0</td>\n",
       "      <td>0.0</td>\n",
       "      <td>0.0</td>\n",
       "      <td>1000.0</td>\n",
       "      <td>1550.0</td>\n",
       "    </tr>\n",
       "    <tr>\n",
       "      <th>11</th>\n",
       "      <td>1002</td>\n",
       "      <td>smart</td>\n",
       "      <td>Стерлитамак</td>\n",
       "      <td>50</td>\n",
       "      <td>15.0</td>\n",
       "      <td>500</td>\n",
       "      <td>550</td>\n",
       "      <td>200</td>\n",
       "      <td>3</td>\n",
       "      <td>3</td>\n",
       "      <td>12.0</td>\n",
       "      <td>18.0</td>\n",
       "      <td>236.0</td>\n",
       "      <td>33.0</td>\n",
       "      <td>12.0</td>\n",
       "      <td>0.0</td>\n",
       "      <td>0.0</td>\n",
       "      <td>600.0</td>\n",
       "      <td>1150.0</td>\n",
       "    </tr>\n",
       "    <tr>\n",
       "      <th>12</th>\n",
       "      <td>1002</td>\n",
       "      <td>smart</td>\n",
       "      <td>Стерлитамак</td>\n",
       "      <td>50</td>\n",
       "      <td>15.0</td>\n",
       "      <td>500</td>\n",
       "      <td>550</td>\n",
       "      <td>200</td>\n",
       "      <td>3</td>\n",
       "      <td>3</td>\n",
       "      <td>11.0</td>\n",
       "      <td>19.0</td>\n",
       "      <td>243.0</td>\n",
       "      <td>32.0</td>\n",
       "      <td>16.0</td>\n",
       "      <td>0.0</td>\n",
       "      <td>0.0</td>\n",
       "      <td>800.0</td>\n",
       "      <td>1350.0</td>\n",
       "    </tr>\n",
       "    <tr>\n",
       "      <th>13</th>\n",
       "      <td>1002</td>\n",
       "      <td>smart</td>\n",
       "      <td>Стерлитамак</td>\n",
       "      <td>50</td>\n",
       "      <td>15.0</td>\n",
       "      <td>500</td>\n",
       "      <td>550</td>\n",
       "      <td>200</td>\n",
       "      <td>3</td>\n",
       "      <td>3</td>\n",
       "      <td>10.0</td>\n",
       "      <td>14.0</td>\n",
       "      <td>212.0</td>\n",
       "      <td>33.0</td>\n",
       "      <td>10.0</td>\n",
       "      <td>0.0</td>\n",
       "      <td>0.0</td>\n",
       "      <td>0.0</td>\n",
       "      <td>550.0</td>\n",
       "    </tr>\n",
       "    <tr>\n",
       "      <th>14</th>\n",
       "      <td>1002</td>\n",
       "      <td>smart</td>\n",
       "      <td>Стерлитамак</td>\n",
       "      <td>50</td>\n",
       "      <td>15.0</td>\n",
       "      <td>500</td>\n",
       "      <td>550</td>\n",
       "      <td>200</td>\n",
       "      <td>3</td>\n",
       "      <td>3</td>\n",
       "      <td>9.0</td>\n",
       "      <td>17.0</td>\n",
       "      <td>206.0</td>\n",
       "      <td>36.0</td>\n",
       "      <td>4.0</td>\n",
       "      <td>0.0</td>\n",
       "      <td>0.0</td>\n",
       "      <td>400.0</td>\n",
       "      <td>950.0</td>\n",
       "    </tr>\n",
       "    <tr>\n",
       "      <th>15</th>\n",
       "      <td>1002</td>\n",
       "      <td>smart</td>\n",
       "      <td>Стерлитамак</td>\n",
       "      <td>50</td>\n",
       "      <td>15.0</td>\n",
       "      <td>500</td>\n",
       "      <td>550</td>\n",
       "      <td>200</td>\n",
       "      <td>3</td>\n",
       "      <td>3</td>\n",
       "      <td>7.0</td>\n",
       "      <td>18.0</td>\n",
       "      <td>214.0</td>\n",
       "      <td>26.0</td>\n",
       "      <td>11.0</td>\n",
       "      <td>0.0</td>\n",
       "      <td>0.0</td>\n",
       "      <td>600.0</td>\n",
       "      <td>1150.0</td>\n",
       "    </tr>\n",
       "    <tr>\n",
       "      <th>16</th>\n",
       "      <td>1002</td>\n",
       "      <td>smart</td>\n",
       "      <td>Стерлитамак</td>\n",
       "      <td>50</td>\n",
       "      <td>15.0</td>\n",
       "      <td>500</td>\n",
       "      <td>550</td>\n",
       "      <td>200</td>\n",
       "      <td>3</td>\n",
       "      <td>3</td>\n",
       "      <td>6.0</td>\n",
       "      <td>11.0</td>\n",
       "      <td>117.0</td>\n",
       "      <td>15.0</td>\n",
       "      <td>4.0</td>\n",
       "      <td>0.0</td>\n",
       "      <td>0.0</td>\n",
       "      <td>0.0</td>\n",
       "      <td>550.0</td>\n",
       "    </tr>\n",
       "    <tr>\n",
       "      <th>17</th>\n",
       "      <td>1003</td>\n",
       "      <td>ultra</td>\n",
       "      <td>Москва</td>\n",
       "      <td>1000</td>\n",
       "      <td>30.0</td>\n",
       "      <td>3000</td>\n",
       "      <td>1950</td>\n",
       "      <td>150</td>\n",
       "      <td>1</td>\n",
       "      <td>1</td>\n",
       "      <td>9.0</td>\n",
       "      <td>13.0</td>\n",
       "      <td>961.0</td>\n",
       "      <td>134.0</td>\n",
       "      <td>91.0</td>\n",
       "      <td>0.0</td>\n",
       "      <td>0.0</td>\n",
       "      <td>0.0</td>\n",
       "      <td>1950.0</td>\n",
       "    </tr>\n",
       "    <tr>\n",
       "      <th>18</th>\n",
       "      <td>1003</td>\n",
       "      <td>ultra</td>\n",
       "      <td>Москва</td>\n",
       "      <td>1000</td>\n",
       "      <td>30.0</td>\n",
       "      <td>3000</td>\n",
       "      <td>1950</td>\n",
       "      <td>150</td>\n",
       "      <td>1</td>\n",
       "      <td>1</td>\n",
       "      <td>8.0</td>\n",
       "      <td>9.0</td>\n",
       "      <td>380.0</td>\n",
       "      <td>55.0</td>\n",
       "      <td>37.0</td>\n",
       "      <td>0.0</td>\n",
       "      <td>0.0</td>\n",
       "      <td>0.0</td>\n",
       "      <td>1950.0</td>\n",
       "    </tr>\n",
       "    <tr>\n",
       "      <th>19</th>\n",
       "      <td>1003</td>\n",
       "      <td>ultra</td>\n",
       "      <td>Москва</td>\n",
       "      <td>1000</td>\n",
       "      <td>30.0</td>\n",
       "      <td>3000</td>\n",
       "      <td>1950</td>\n",
       "      <td>150</td>\n",
       "      <td>1</td>\n",
       "      <td>1</td>\n",
       "      <td>10.0</td>\n",
       "      <td>15.0</td>\n",
       "      <td>855.0</td>\n",
       "      <td>108.0</td>\n",
       "      <td>83.0</td>\n",
       "      <td>0.0</td>\n",
       "      <td>0.0</td>\n",
       "      <td>0.0</td>\n",
       "      <td>1950.0</td>\n",
       "    </tr>\n",
       "  </tbody>\n",
       "</table>\n",
       "</div>"
      ],
      "text/plain": [
       "    user_id tariff         city  messages_included  gb_per_month_included  \\\n",
       "0      1000  ultra    Краснодар               1000                   30.0   \n",
       "1      1000  ultra    Краснодар               1000                   30.0   \n",
       "2      1000  ultra    Краснодар               1000                   30.0   \n",
       "3      1000  ultra    Краснодар               1000                   30.0   \n",
       "4      1000  ultra    Краснодар               1000                   30.0   \n",
       "5      1000  ultra    Краснодар               1000                   30.0   \n",
       "6      1000  ultra    Краснодар               1000                   30.0   \n",
       "7      1000  ultra    Краснодар               1000                   30.0   \n",
       "8      1001  smart       Москва                 50                   15.0   \n",
       "9      1001  smart       Москва                 50                   15.0   \n",
       "10     1002  smart  Стерлитамак                 50                   15.0   \n",
       "11     1002  smart  Стерлитамак                 50                   15.0   \n",
       "12     1002  smart  Стерлитамак                 50                   15.0   \n",
       "13     1002  smart  Стерлитамак                 50                   15.0   \n",
       "14     1002  smart  Стерлитамак                 50                   15.0   \n",
       "15     1002  smart  Стерлитамак                 50                   15.0   \n",
       "16     1002  smart  Стерлитамак                 50                   15.0   \n",
       "17     1003  ultra       Москва               1000                   30.0   \n",
       "18     1003  ultra       Москва               1000                   30.0   \n",
       "19     1003  ultra       Москва               1000                   30.0   \n",
       "\n",
       "    minutes_included  rub_monthly_fee  rub_per_gb  rub_per_message  \\\n",
       "0               3000             1950         150                1   \n",
       "1               3000             1950         150                1   \n",
       "2               3000             1950         150                1   \n",
       "3               3000             1950         150                1   \n",
       "4               3000             1950         150                1   \n",
       "5               3000             1950         150                1   \n",
       "6               3000             1950         150                1   \n",
       "7               3000             1950         150                1   \n",
       "8                500              550         200                3   \n",
       "9                500              550         200                3   \n",
       "10               500              550         200                3   \n",
       "11               500              550         200                3   \n",
       "12               500              550         200                3   \n",
       "13               500              550         200                3   \n",
       "14               500              550         200                3   \n",
       "15               500              550         200                3   \n",
       "16               500              550         200                3   \n",
       "17              3000             1950         150                1   \n",
       "18              3000             1950         150                1   \n",
       "19              3000             1950         150                1   \n",
       "\n",
       "    rub_per_minute  month  month_gb_used  month_duration  month_calls  \\\n",
       "0                1    5.0            3.0           159.0         22.0   \n",
       "1                1    6.0           23.0           172.0         43.0   \n",
       "2                1    7.0           14.0           340.0         47.0   \n",
       "3                1    8.0           14.0           408.0         52.0   \n",
       "4                1    9.0           15.0           466.0         58.0   \n",
       "5                1   10.0           15.0           350.0         57.0   \n",
       "6                1   11.0           15.0           338.0         43.0   \n",
       "7                1   12.0           10.0           333.0         46.0   \n",
       "8                3   12.0           14.0           414.0         63.0   \n",
       "9                3   11.0           18.0           430.0         59.0   \n",
       "10               3    8.0           20.0           289.0         42.0   \n",
       "11               3   12.0           18.0           236.0         33.0   \n",
       "12               3   11.0           19.0           243.0         32.0   \n",
       "13               3   10.0           14.0           212.0         33.0   \n",
       "14               3    9.0           17.0           206.0         36.0   \n",
       "15               3    7.0           18.0           214.0         26.0   \n",
       "16               3    6.0           11.0           117.0         15.0   \n",
       "17               1    9.0           13.0           961.0        134.0   \n",
       "18               1    8.0            9.0           380.0         55.0   \n",
       "19               1   10.0           15.0           855.0        108.0   \n",
       "\n",
       "    month_messages  revenue_minutes  revenue_messages  revenue_gb_used  \\\n",
       "0             22.0              0.0               0.0              0.0   \n",
       "1             60.0              0.0               0.0              0.0   \n",
       "2             75.0              0.0               0.0              0.0   \n",
       "3             81.0              0.0               0.0              0.0   \n",
       "4             57.0              0.0               0.0              0.0   \n",
       "5             73.0              0.0               0.0              0.0   \n",
       "6             58.0              0.0               0.0              0.0   \n",
       "7             70.0              0.0               0.0              0.0   \n",
       "8              0.0              0.0               0.0              0.0   \n",
       "9              0.0              0.0               0.0            600.0   \n",
       "10            13.0              0.0               0.0           1000.0   \n",
       "11            12.0              0.0               0.0            600.0   \n",
       "12            16.0              0.0               0.0            800.0   \n",
       "13            10.0              0.0               0.0              0.0   \n",
       "14             4.0              0.0               0.0            400.0   \n",
       "15            11.0              0.0               0.0            600.0   \n",
       "16             4.0              0.0               0.0              0.0   \n",
       "17            91.0              0.0               0.0              0.0   \n",
       "18            37.0              0.0               0.0              0.0   \n",
       "19            83.0              0.0               0.0              0.0   \n",
       "\n",
       "    revenue  \n",
       "0    1950.0  \n",
       "1    1950.0  \n",
       "2    1950.0  \n",
       "3    1950.0  \n",
       "4    1950.0  \n",
       "5    1950.0  \n",
       "6    1950.0  \n",
       "7    1950.0  \n",
       "8     550.0  \n",
       "9    1150.0  \n",
       "10   1550.0  \n",
       "11   1150.0  \n",
       "12   1350.0  \n",
       "13    550.0  \n",
       "14    950.0  \n",
       "15   1150.0  \n",
       "16    550.0  \n",
       "17   1950.0  \n",
       "18   1950.0  \n",
       "19   1950.0  "
      ]
     },
     "execution_count": 38,
     "metadata": {},
     "output_type": "execute_result"
    }
   ],
   "source": [
    "revenue_month_sup.head(20)"
   ]
  },
  {
   "cell_type": "markdown",
   "id": "a4a77d25",
   "metadata": {},
   "source": [
    "Создадим новую таблицу <ins>**revenue_month**</ins> с информацией о помесячную выручке с каждого пользователя."
   ]
  },
  {
   "cell_type": "code",
   "execution_count": 39,
   "id": "12ab6863",
   "metadata": {},
   "outputs": [
    {
     "data": {
      "text/html": [
       "<div>\n",
       "<style scoped>\n",
       "    .dataframe tbody tr th:only-of-type {\n",
       "        vertical-align: middle;\n",
       "    }\n",
       "\n",
       "    .dataframe tbody tr th {\n",
       "        vertical-align: top;\n",
       "    }\n",
       "\n",
       "    .dataframe thead th {\n",
       "        text-align: right;\n",
       "    }\n",
       "</style>\n",
       "<table border=\"1\" class=\"dataframe\">\n",
       "  <thead>\n",
       "    <tr style=\"text-align: right;\">\n",
       "      <th></th>\n",
       "      <th>user_id</th>\n",
       "      <th>month</th>\n",
       "      <th>revenue</th>\n",
       "    </tr>\n",
       "  </thead>\n",
       "  <tbody>\n",
       "    <tr>\n",
       "      <th>0</th>\n",
       "      <td>1000</td>\n",
       "      <td>5.0</td>\n",
       "      <td>1950.0</td>\n",
       "    </tr>\n",
       "    <tr>\n",
       "      <th>1</th>\n",
       "      <td>1000</td>\n",
       "      <td>6.0</td>\n",
       "      <td>1950.0</td>\n",
       "    </tr>\n",
       "    <tr>\n",
       "      <th>2</th>\n",
       "      <td>1000</td>\n",
       "      <td>7.0</td>\n",
       "      <td>1950.0</td>\n",
       "    </tr>\n",
       "    <tr>\n",
       "      <th>3</th>\n",
       "      <td>1000</td>\n",
       "      <td>8.0</td>\n",
       "      <td>1950.0</td>\n",
       "    </tr>\n",
       "    <tr>\n",
       "      <th>4</th>\n",
       "      <td>1000</td>\n",
       "      <td>9.0</td>\n",
       "      <td>1950.0</td>\n",
       "    </tr>\n",
       "    <tr>\n",
       "      <th>5</th>\n",
       "      <td>1000</td>\n",
       "      <td>10.0</td>\n",
       "      <td>1950.0</td>\n",
       "    </tr>\n",
       "    <tr>\n",
       "      <th>6</th>\n",
       "      <td>1000</td>\n",
       "      <td>11.0</td>\n",
       "      <td>1950.0</td>\n",
       "    </tr>\n",
       "    <tr>\n",
       "      <th>7</th>\n",
       "      <td>1000</td>\n",
       "      <td>12.0</td>\n",
       "      <td>1950.0</td>\n",
       "    </tr>\n",
       "    <tr>\n",
       "      <th>8</th>\n",
       "      <td>1001</td>\n",
       "      <td>12.0</td>\n",
       "      <td>550.0</td>\n",
       "    </tr>\n",
       "    <tr>\n",
       "      <th>9</th>\n",
       "      <td>1001</td>\n",
       "      <td>11.0</td>\n",
       "      <td>1150.0</td>\n",
       "    </tr>\n",
       "  </tbody>\n",
       "</table>\n",
       "</div>"
      ],
      "text/plain": [
       "   user_id  month  revenue\n",
       "0     1000    5.0   1950.0\n",
       "1     1000    6.0   1950.0\n",
       "2     1000    7.0   1950.0\n",
       "3     1000    8.0   1950.0\n",
       "4     1000    9.0   1950.0\n",
       "5     1000   10.0   1950.0\n",
       "6     1000   11.0   1950.0\n",
       "7     1000   12.0   1950.0\n",
       "8     1001   12.0    550.0\n",
       "9     1001   11.0   1150.0"
      ]
     },
     "execution_count": 39,
     "metadata": {},
     "output_type": "execute_result"
    }
   ],
   "source": [
    "revenue_month = revenue_month_sup.loc[:,['user_id','month','revenue']]\n",
    "revenue_month.head(10)"
   ]
  },
  {
   "cell_type": "markdown",
   "id": "97637dd4",
   "metadata": {},
   "source": [
    "Таблица <ins>**revenue_month**</ins>:\n",
    "- `user_id` — уникальный идентификатор пользователя\n",
    "- `month` - месяц\n",
    "- `revenue` - помесячная выручка с пользователя"
   ]
  },
  {
   "cell_type": "markdown",
   "id": "2055ed1c",
   "metadata": {},
   "source": [
    "Помесячная выручка с каждого пользователя посчитана в новой таблице <ins>**revenue_month**</ins> в столбце `revenue`."
   ]
  },
  {
   "cell_type": "markdown",
   "id": "bbc32801",
   "metadata": {},
   "source": [
    "## Анализ данных"
   ]
  },
  {
   "cell_type": "markdown",
   "id": "3ea22d0e",
   "metadata": {},
   "source": [
    "*Примечание. Ранее была создана таблица <ins>**revenue_month_sup**</ins>, откуда можно было делать срезы столбцов, однако есть риск подхватить пропущенные значения, поэтому ниже формируются отдельные таблицы без NaN. Таблицей <ins>**revenue_month_sup**</ins> осознанно не пользуемся.*"
   ]
  },
  {
   "cell_type": "markdown",
   "id": "d4eee27f",
   "metadata": {},
   "source": [
    "### Минуты разговора, требуемые пользователям каждого тарифа в месяц."
   ]
  },
  {
   "cell_type": "markdown",
   "id": "936b34a6",
   "metadata": {},
   "source": [
    "Объединим таблицы **calls_min_month** и **users_tariff** в таблицу **user_duration** по столбцу `user_id` с типом слияния `left` (попадут все значения левого датафрейма):"
   ]
  },
  {
   "cell_type": "code",
   "execution_count": 40,
   "id": "ba043f8c",
   "metadata": {
    "scrolled": true
   },
   "outputs": [
    {
     "data": {
      "text/html": [
       "<div>\n",
       "<style scoped>\n",
       "    .dataframe tbody tr th:only-of-type {\n",
       "        vertical-align: middle;\n",
       "    }\n",
       "\n",
       "    .dataframe tbody tr th {\n",
       "        vertical-align: top;\n",
       "    }\n",
       "\n",
       "    .dataframe thead th {\n",
       "        text-align: right;\n",
       "    }\n",
       "</style>\n",
       "<table border=\"1\" class=\"dataframe\">\n",
       "  <thead>\n",
       "    <tr style=\"text-align: right;\">\n",
       "      <th></th>\n",
       "      <th>user_id</th>\n",
       "      <th>month</th>\n",
       "      <th>month_duration</th>\n",
       "      <th>month_calls</th>\n",
       "      <th>tariff</th>\n",
       "      <th>city</th>\n",
       "    </tr>\n",
       "  </thead>\n",
       "  <tbody>\n",
       "    <tr>\n",
       "      <th>0</th>\n",
       "      <td>1000</td>\n",
       "      <td>5</td>\n",
       "      <td>159.0</td>\n",
       "      <td>22</td>\n",
       "      <td>ultra</td>\n",
       "      <td>Краснодар</td>\n",
       "    </tr>\n",
       "    <tr>\n",
       "      <th>1</th>\n",
       "      <td>1000</td>\n",
       "      <td>6</td>\n",
       "      <td>172.0</td>\n",
       "      <td>43</td>\n",
       "      <td>ultra</td>\n",
       "      <td>Краснодар</td>\n",
       "    </tr>\n",
       "    <tr>\n",
       "      <th>2</th>\n",
       "      <td>1000</td>\n",
       "      <td>7</td>\n",
       "      <td>340.0</td>\n",
       "      <td>47</td>\n",
       "      <td>ultra</td>\n",
       "      <td>Краснодар</td>\n",
       "    </tr>\n",
       "  </tbody>\n",
       "</table>\n",
       "</div>"
      ],
      "text/plain": [
       "   user_id  month  month_duration  month_calls tariff       city\n",
       "0     1000      5           159.0           22  ultra  Краснодар\n",
       "1     1000      6           172.0           43  ultra  Краснодар\n",
       "2     1000      7           340.0           47  ultra  Краснодар"
      ]
     },
     "execution_count": 40,
     "metadata": {},
     "output_type": "execute_result"
    }
   ],
   "source": [
    "user_duration = calls_min_month.merge(users_tariff, on='user_id', how='left')\n",
    "user_duration.head(3)"
   ]
  },
  {
   "cell_type": "markdown",
   "id": "2ff942d5",
   "metadata": {},
   "source": [
    "Посчитаем среднее, дисперсию, стандартное отклонение и медиану\n",
    "- минут разговора пользователей для каждого тарифа в месяц - значения в столбцах `month_duration` в новой таблице <ins>**duration_stat**</ins>."
   ]
  },
  {
   "cell_type": "code",
   "execution_count": 41,
   "id": "38e3984a",
   "metadata": {
    "scrolled": false
   },
   "outputs": [
    {
     "data": {
      "text/html": [
       "<div>\n",
       "<style scoped>\n",
       "    .dataframe tbody tr th:only-of-type {\n",
       "        vertical-align: middle;\n",
       "    }\n",
       "\n",
       "    .dataframe tbody tr th {\n",
       "        vertical-align: top;\n",
       "    }\n",
       "\n",
       "    .dataframe thead th {\n",
       "        text-align: right;\n",
       "    }\n",
       "</style>\n",
       "<table border=\"1\" class=\"dataframe\">\n",
       "  <thead>\n",
       "    <tr style=\"text-align: right;\">\n",
       "      <th></th>\n",
       "      <th>tariff</th>\n",
       "      <th>mean</th>\n",
       "      <th>median</th>\n",
       "      <th>std</th>\n",
       "      <th>var</th>\n",
       "    </tr>\n",
       "  </thead>\n",
       "  <tbody>\n",
       "    <tr>\n",
       "      <th>0</th>\n",
       "      <td>smart</td>\n",
       "      <td>419.062978</td>\n",
       "      <td>423.0</td>\n",
       "      <td>189.325618</td>\n",
       "      <td>35844.189551</td>\n",
       "    </tr>\n",
       "    <tr>\n",
       "      <th>1</th>\n",
       "      <td>ultra</td>\n",
       "      <td>545.451104</td>\n",
       "      <td>528.0</td>\n",
       "      <td>306.925754</td>\n",
       "      <td>94203.418396</td>\n",
       "    </tr>\n",
       "  </tbody>\n",
       "</table>\n",
       "</div>"
      ],
      "text/plain": [
       "  tariff        mean  median         std           var\n",
       "0  smart  419.062978   423.0  189.325618  35844.189551\n",
       "1  ultra  545.451104   528.0  306.925754  94203.418396"
      ]
     },
     "execution_count": 41,
     "metadata": {},
     "output_type": "execute_result"
    }
   ],
   "source": [
    "duration_stat = user_duration.pivot_table(index='tariff',\n",
    "                                          values='month_duration',\n",
    "                                          aggfunc = {'mean','var','std', 'median'}).reset_index()\n",
    "duration_stat"
   ]
  },
  {
   "cell_type": "markdown",
   "id": "f6587c07",
   "metadata": {},
   "source": [
    "**Построим гистограммы**"
   ]
  },
  {
   "cell_type": "code",
   "execution_count": 42,
   "id": "c582df55",
   "metadata": {},
   "outputs": [
    {
     "data": {
      "image/png": "[encoded data removed]",
      "text/plain": [
       "<Figure size 1080x432 with 1 Axes>"
      ]
     },
     "metadata": {
      "needs_background": "light"
     },
     "output_type": "display_data"
    },
    {
     "name": "stdout",
     "output_type": "stream",
     "text": [
      "Среднее Smart: 418.0\n",
      "Среднее Ultra: 526.0\n",
      "Дисперсия Smart: 36265.12415310986\n",
      "Дисперсия Ultra: 100950.00623331097\n",
      "Стандартное отклонение Smart 190.43404147659592\n",
      "Стандартное отклонение Ultra 317.72630711559117\n"
     ]
    }
   ],
   "source": [
    "plt.figure(figsize = (15,6))\n",
    "\n",
    "revenue_month_sup.query('tariff == \"smart\"')['month_duration'].hist(bins = 30, alpha = .5)\n",
    "revenue_month_sup.query('tariff == \"ultra\"')['month_duration'].hist(bins = 30, alpha = .5)\n",
    "\n",
    "plt.title('Продолжительность звонков')\n",
    "plt.legend(['Smart', 'Ultra'])\n",
    "plt.xlabel('Продолжительность звонков, мин')\n",
    "plt.show()\n",
    "\n",
    "print('Среднее Smart:', np.round(revenue_month_sup.query('tariff == \"smart\"')['month_duration'].mean()))\n",
    "print('Среднее Ultra:', np.round(revenue_month_sup.query('tariff == \"ultra\"')['month_duration'].mean()))\n",
    "print('Дисперсия Smart:', np.var(revenue_month_sup.query('tariff == \"smart\"')['month_duration']))\n",
    "print('Дисперсия Ultra:', np.var(revenue_month_sup.query('tariff == \"ultra\"')['month_duration']))\n",
    "print('Стандартное отклонение Smart', np.std(revenue_month_sup.query('tariff == \"smart\"')['month_duration']))\n",
    "print('Стандартное отклонение Ultra', np.std(revenue_month_sup.query('tariff == \"ultra\"')['month_duration']))"
   ]
  },
  {
   "cell_type": "code",
   "execution_count": 43,
   "id": "a9b07e6d",
   "metadata": {},
   "outputs": [
    {
     "data": {
      "text/html": [
       "<div>\n",
       "<style scoped>\n",
       "    .dataframe tbody tr th:only-of-type {\n",
       "        vertical-align: middle;\n",
       "    }\n",
       "\n",
       "    .dataframe tbody tr th {\n",
       "        vertical-align: top;\n",
       "    }\n",
       "\n",
       "    .dataframe thead th {\n",
       "        text-align: right;\n",
       "    }\n",
       "</style>\n",
       "<table border=\"1\" class=\"dataframe\">\n",
       "  <thead>\n",
       "    <tr style=\"text-align: right;\">\n",
       "      <th></th>\n",
       "      <th>user_id</th>\n",
       "      <th>month</th>\n",
       "      <th>month_duration</th>\n",
       "      <th>month_calls</th>\n",
       "      <th>tariff</th>\n",
       "      <th>city</th>\n",
       "    </tr>\n",
       "  </thead>\n",
       "  <tbody>\n",
       "    <tr>\n",
       "      <th>1605</th>\n",
       "      <td>1257</td>\n",
       "      <td>7</td>\n",
       "      <td>0.0</td>\n",
       "      <td>1</td>\n",
       "      <td>ultra</td>\n",
       "      <td>Санкт-Петербург</td>\n",
       "    </tr>\n",
       "    <tr>\n",
       "      <th>1606</th>\n",
       "      <td>1257</td>\n",
       "      <td>8</td>\n",
       "      <td>0.0</td>\n",
       "      <td>2</td>\n",
       "      <td>ultra</td>\n",
       "      <td>Санкт-Петербург</td>\n",
       "    </tr>\n",
       "    <tr>\n",
       "      <th>1493</th>\n",
       "      <td>1240</td>\n",
       "      <td>2</td>\n",
       "      <td>0.0</td>\n",
       "      <td>2</td>\n",
       "      <td>ultra</td>\n",
       "      <td>Воронеж</td>\n",
       "    </tr>\n",
       "    <tr>\n",
       "      <th>1607</th>\n",
       "      <td>1257</td>\n",
       "      <td>9</td>\n",
       "      <td>0.0</td>\n",
       "      <td>1</td>\n",
       "      <td>ultra</td>\n",
       "      <td>Санкт-Петербург</td>\n",
       "    </tr>\n",
       "    <tr>\n",
       "      <th>2318</th>\n",
       "      <td>1373</td>\n",
       "      <td>1</td>\n",
       "      <td>0.0</td>\n",
       "      <td>2</td>\n",
       "      <td>smart</td>\n",
       "      <td>Улан-Удэ</td>\n",
       "    </tr>\n",
       "    <tr>\n",
       "      <th>2321</th>\n",
       "      <td>1373</td>\n",
       "      <td>4</td>\n",
       "      <td>0.0</td>\n",
       "      <td>1</td>\n",
       "      <td>smart</td>\n",
       "      <td>Улан-Удэ</td>\n",
       "    </tr>\n",
       "    <tr>\n",
       "      <th>327</th>\n",
       "      <td>1053</td>\n",
       "      <td>9</td>\n",
       "      <td>1.0</td>\n",
       "      <td>2</td>\n",
       "      <td>ultra</td>\n",
       "      <td>Ростов-на-Дону</td>\n",
       "    </tr>\n",
       "    <tr>\n",
       "      <th>2690</th>\n",
       "      <td>1424</td>\n",
       "      <td>6</td>\n",
       "      <td>1.0</td>\n",
       "      <td>1</td>\n",
       "      <td>ultra</td>\n",
       "      <td>Москва</td>\n",
       "    </tr>\n",
       "    <tr>\n",
       "      <th>2319</th>\n",
       "      <td>1373</td>\n",
       "      <td>2</td>\n",
       "      <td>2.0</td>\n",
       "      <td>1</td>\n",
       "      <td>smart</td>\n",
       "      <td>Улан-Удэ</td>\n",
       "    </tr>\n",
       "    <tr>\n",
       "      <th>2350</th>\n",
       "      <td>1376</td>\n",
       "      <td>5</td>\n",
       "      <td>2.0</td>\n",
       "      <td>1</td>\n",
       "      <td>smart</td>\n",
       "      <td>Самара</td>\n",
       "    </tr>\n",
       "  </tbody>\n",
       "</table>\n",
       "</div>"
      ],
      "text/plain": [
       "      user_id  month  month_duration  month_calls tariff             city\n",
       "1605     1257      7             0.0            1  ultra  Санкт-Петербург\n",
       "1606     1257      8             0.0            2  ultra  Санкт-Петербург\n",
       "1493     1240      2             0.0            2  ultra          Воронеж\n",
       "1607     1257      9             0.0            1  ultra  Санкт-Петербург\n",
       "2318     1373      1             0.0            2  smart         Улан-Удэ\n",
       "2321     1373      4             0.0            1  smart         Улан-Удэ\n",
       "327      1053      9             1.0            2  ultra   Ростов-на-Дону\n",
       "2690     1424      6             1.0            1  ultra           Москва\n",
       "2319     1373      2             2.0            1  smart         Улан-Удэ\n",
       "2350     1376      5             2.0            1  smart           Самара"
      ]
     },
     "execution_count": 43,
     "metadata": {},
     "output_type": "execute_result"
    }
   ],
   "source": [
    "user_duration.sort_values(by='month_duration').head(10)"
   ]
  },
  {
   "cell_type": "markdown",
   "id": "3e716bb5",
   "metadata": {},
   "source": [
    "Опишем распределения.\n",
    "\n",
    "Тариф `smart`:\n",
    "- датасет близок к нормальному распределению данных, есть незначительная скошенность влево, это можно оценить и по расчитанным ранее значениям - медиана больше среднего.\n",
    "\n",
    "Тариф `ultra`:\n",
    "- датасет ассиметричен со скошенным вправо набором данных, это можно оценить и по расчитанным ранее значениям - медиана меньше среднего."
   ]
  },
  {
   "cell_type": "markdown",
   "id": "a5812961",
   "metadata": {},
   "source": [
    "### Сообщения, требуемые пользователям каждого тарифа в месяц."
   ]
  },
  {
   "cell_type": "markdown",
   "id": "d51029d6",
   "metadata": {},
   "source": [
    "Объединим таблицы **messages_month** и **users_tariff** в таблицу **user_messages** по столбцу `user_id` с типом слияния `left` (попадут все значения левого датафрейма):"
   ]
  },
  {
   "cell_type": "code",
   "execution_count": 44,
   "id": "d7a13612",
   "metadata": {
    "scrolled": true
   },
   "outputs": [
    {
     "data": {
      "text/html": [
       "<div>\n",
       "<style scoped>\n",
       "    .dataframe tbody tr th:only-of-type {\n",
       "        vertical-align: middle;\n",
       "    }\n",
       "\n",
       "    .dataframe tbody tr th {\n",
       "        vertical-align: top;\n",
       "    }\n",
       "\n",
       "    .dataframe thead th {\n",
       "        text-align: right;\n",
       "    }\n",
       "</style>\n",
       "<table border=\"1\" class=\"dataframe\">\n",
       "  <thead>\n",
       "    <tr style=\"text-align: right;\">\n",
       "      <th></th>\n",
       "      <th>user_id</th>\n",
       "      <th>month</th>\n",
       "      <th>month_messages</th>\n",
       "      <th>tariff</th>\n",
       "      <th>city</th>\n",
       "    </tr>\n",
       "  </thead>\n",
       "  <tbody>\n",
       "    <tr>\n",
       "      <th>0</th>\n",
       "      <td>1000</td>\n",
       "      <td>5</td>\n",
       "      <td>22</td>\n",
       "      <td>ultra</td>\n",
       "      <td>Краснодар</td>\n",
       "    </tr>\n",
       "    <tr>\n",
       "      <th>1</th>\n",
       "      <td>1000</td>\n",
       "      <td>6</td>\n",
       "      <td>60</td>\n",
       "      <td>ultra</td>\n",
       "      <td>Краснодар</td>\n",
       "    </tr>\n",
       "    <tr>\n",
       "      <th>2</th>\n",
       "      <td>1000</td>\n",
       "      <td>7</td>\n",
       "      <td>75</td>\n",
       "      <td>ultra</td>\n",
       "      <td>Краснодар</td>\n",
       "    </tr>\n",
       "  </tbody>\n",
       "</table>\n",
       "</div>"
      ],
      "text/plain": [
       "   user_id  month  month_messages tariff       city\n",
       "0     1000      5              22  ultra  Краснодар\n",
       "1     1000      6              60  ultra  Краснодар\n",
       "2     1000      7              75  ultra  Краснодар"
      ]
     },
     "execution_count": 44,
     "metadata": {},
     "output_type": "execute_result"
    }
   ],
   "source": [
    "user_messages = messages_month.merge(users_tariff, on='user_id', how='left')\n",
    "user_messages.head(3)"
   ]
  },
  {
   "cell_type": "markdown",
   "id": "820ca937",
   "metadata": {},
   "source": [
    "Посчитаем среднее, дисперсию, стандартное отклонение и медиану\n",
    "- сообщений пользователей для каждого тарифа в месяц - значения в столбцах `month_messages` в новой таблице <ins>**messages_stat**</ins>."
   ]
  },
  {
   "cell_type": "code",
   "execution_count": 45,
   "id": "d5bb4738",
   "metadata": {
    "scrolled": false
   },
   "outputs": [
    {
     "data": {
      "text/html": [
       "<div>\n",
       "<style scoped>\n",
       "    .dataframe tbody tr th:only-of-type {\n",
       "        vertical-align: middle;\n",
       "    }\n",
       "\n",
       "    .dataframe tbody tr th {\n",
       "        vertical-align: top;\n",
       "    }\n",
       "\n",
       "    .dataframe thead th {\n",
       "        text-align: right;\n",
       "    }\n",
       "</style>\n",
       "<table border=\"1\" class=\"dataframe\">\n",
       "  <thead>\n",
       "    <tr style=\"text-align: right;\">\n",
       "      <th></th>\n",
       "      <th>tariff</th>\n",
       "      <th>mean</th>\n",
       "      <th>median</th>\n",
       "      <th>std</th>\n",
       "      <th>var</th>\n",
       "    </tr>\n",
       "  </thead>\n",
       "  <tbody>\n",
       "    <tr>\n",
       "      <th>0</th>\n",
       "      <td>smart</td>\n",
       "      <td>38.716441</td>\n",
       "      <td>34.0</td>\n",
       "      <td>26.787949</td>\n",
       "      <td>717.594201</td>\n",
       "    </tr>\n",
       "    <tr>\n",
       "      <th>1</th>\n",
       "      <td>ultra</td>\n",
       "      <td>61.161006</td>\n",
       "      <td>51.0</td>\n",
       "      <td>45.931026</td>\n",
       "      <td>2109.659183</td>\n",
       "    </tr>\n",
       "  </tbody>\n",
       "</table>\n",
       "</div>"
      ],
      "text/plain": [
       "  tariff       mean  median        std          var\n",
       "0  smart  38.716441    34.0  26.787949   717.594201\n",
       "1  ultra  61.161006    51.0  45.931026  2109.659183"
      ]
     },
     "execution_count": 45,
     "metadata": {},
     "output_type": "execute_result"
    }
   ],
   "source": [
    "messages_stat = user_messages.pivot_table(index='tariff',\n",
    "                                          values='month_messages',\n",
    "                                          aggfunc = {'mean','var','std', 'median'}).reset_index()\n",
    "messages_stat"
   ]
  },
  {
   "cell_type": "markdown",
   "id": "32b15f25",
   "metadata": {},
   "source": [
    "**Построим гистограммы**"
   ]
  },
  {
   "cell_type": "code",
   "execution_count": 46,
   "id": "4380a8b8",
   "metadata": {},
   "outputs": [
    {
     "data": {
      "image/png": "[encoded data removed]",
      "text/plain": [
       "<Figure size 1080x432 with 1 Axes>"
      ]
     },
     "metadata": {
      "needs_background": "light"
     },
     "output_type": "display_data"
    },
    {
     "name": "stdout",
     "output_type": "stream",
     "text": [
      "Среднее Smart: 33.0\n",
      "Среднее Ultra: 49.0\n",
      "Дисперсия Smart: 796.5978766916687\n",
      "Дисперсия Ultra: 2283.099557085197\n",
      "Стандартное отклонение Smart 28.224065559229214\n",
      "Стандартное отклонение Ultra 47.78179106192229\n"
     ]
    }
   ],
   "source": [
    "plt.figure(figsize = (15,6))\n",
    "\n",
    "revenue_month_sup.query('tariff == \"smart\"')['month_messages'].hist(bins = 30, alpha = .5)\n",
    "revenue_month_sup.query('tariff == \"ultra\"')['month_messages'].hist(bins = 30, alpha = .5)\n",
    "\n",
    "plt.title('Количество сообщений')\n",
    "plt.legend(['Smart', 'Ultra'])\n",
    "plt.xlabel('Количество сообщений, шт.')\n",
    "plt.show()\n",
    "\n",
    "print('Среднее Smart:', np.round(revenue_month_sup.query('tariff == \"smart\"')['month_messages'].mean()))\n",
    "print('Среднее Ultra:', np.round(revenue_month_sup.query('tariff == \"ultra\"')['month_messages'].mean()))\n",
    "print('Дисперсия Smart:', np.var(revenue_month_sup.query('tariff == \"smart\"')['month_messages']))\n",
    "print('Дисперсия Ultra:', np.var(revenue_month_sup.query('tariff == \"ultra\"')['month_messages']))\n",
    "print('Стандартное отклонение Smart', np.std(revenue_month_sup.query('tariff == \"smart\"')['month_messages']))\n",
    "print('Стандартное отклонение Ultra', np.std(revenue_month_sup.query('tariff == \"ultra\"')['month_messages']))"
   ]
  },
  {
   "cell_type": "markdown",
   "id": "5a059fac",
   "metadata": {},
   "source": [
    "Опишем распределения.\n",
    "\n",
    "Тариф `smart`:\n",
    "- датасет ассиметричен со скошенным вправо набором данных, это можно оценить и по расчитанным ранее значениям - медиана меньше среднего.\n",
    "\n",
    "Тариф `ultra`:\n",
    "- датасет ассиметричен со скошенным вправо набором данных, это можно оценить и по расчитанным ранее значениям - медиана меньше среднего."
   ]
  },
  {
   "cell_type": "markdown",
   "id": "b640cbdf",
   "metadata": {},
   "source": [
    "### Объём интернет-трафика, требуемый пользователям каждого тарифа в месяц."
   ]
  },
  {
   "cell_type": "markdown",
   "id": "3cc23c3e",
   "metadata": {},
   "source": [
    "Объединим таблицы **internet_month** и **users_tariff** в таблицу **user_internet** по столбцу `user_id` с типом слияния `left` (попадут все значения левого датафрейма):"
   ]
  },
  {
   "cell_type": "code",
   "execution_count": 47,
   "id": "2d0a0621",
   "metadata": {},
   "outputs": [
    {
     "data": {
      "text/html": [
       "<div>\n",
       "<style scoped>\n",
       "    .dataframe tbody tr th:only-of-type {\n",
       "        vertical-align: middle;\n",
       "    }\n",
       "\n",
       "    .dataframe tbody tr th {\n",
       "        vertical-align: top;\n",
       "    }\n",
       "\n",
       "    .dataframe thead th {\n",
       "        text-align: right;\n",
       "    }\n",
       "</style>\n",
       "<table border=\"1\" class=\"dataframe\">\n",
       "  <thead>\n",
       "    <tr style=\"text-align: right;\">\n",
       "      <th></th>\n",
       "      <th>user_id</th>\n",
       "      <th>month</th>\n",
       "      <th>month_gb_used</th>\n",
       "      <th>tariff</th>\n",
       "      <th>city</th>\n",
       "    </tr>\n",
       "  </thead>\n",
       "  <tbody>\n",
       "    <tr>\n",
       "      <th>0</th>\n",
       "      <td>1000</td>\n",
       "      <td>5</td>\n",
       "      <td>3.0</td>\n",
       "      <td>ultra</td>\n",
       "      <td>Краснодар</td>\n",
       "    </tr>\n",
       "    <tr>\n",
       "      <th>1</th>\n",
       "      <td>1000</td>\n",
       "      <td>6</td>\n",
       "      <td>23.0</td>\n",
       "      <td>ultra</td>\n",
       "      <td>Краснодар</td>\n",
       "    </tr>\n",
       "    <tr>\n",
       "      <th>2</th>\n",
       "      <td>1000</td>\n",
       "      <td>7</td>\n",
       "      <td>14.0</td>\n",
       "      <td>ultra</td>\n",
       "      <td>Краснодар</td>\n",
       "    </tr>\n",
       "  </tbody>\n",
       "</table>\n",
       "</div>"
      ],
      "text/plain": [
       "   user_id  month  month_gb_used tariff       city\n",
       "0     1000      5            3.0  ultra  Краснодар\n",
       "1     1000      6           23.0  ultra  Краснодар\n",
       "2     1000      7           14.0  ultra  Краснодар"
      ]
     },
     "execution_count": 47,
     "metadata": {},
     "output_type": "execute_result"
    }
   ],
   "source": [
    "user_internet = internet_month.merge(users_tariff, on='user_id', how='left')\n",
    "user_internet.head(3)"
   ]
  },
  {
   "cell_type": "markdown",
   "id": "e29698a4",
   "metadata": {},
   "source": [
    "Посчитаем среднее, дисперсию, стандартное отклонение и медиану\n",
    "- объёма интернет-трафика пользователей для каждого тарифа в месяц - значения в столбцах `month_gb_used` в новой таблице <ins>**internet_stat**</ins>."
   ]
  },
  {
   "cell_type": "code",
   "execution_count": 48,
   "id": "36f5b121",
   "metadata": {},
   "outputs": [
    {
     "data": {
      "text/html": [
       "<div>\n",
       "<style scoped>\n",
       "    .dataframe tbody tr th:only-of-type {\n",
       "        vertical-align: middle;\n",
       "    }\n",
       "\n",
       "    .dataframe tbody tr th {\n",
       "        vertical-align: top;\n",
       "    }\n",
       "\n",
       "    .dataframe thead th {\n",
       "        text-align: right;\n",
       "    }\n",
       "</style>\n",
       "<table border=\"1\" class=\"dataframe\">\n",
       "  <thead>\n",
       "    <tr style=\"text-align: right;\">\n",
       "      <th></th>\n",
       "      <th>tariff</th>\n",
       "      <th>mean</th>\n",
       "      <th>median</th>\n",
       "      <th>std</th>\n",
       "      <th>var</th>\n",
       "    </tr>\n",
       "  </thead>\n",
       "  <tbody>\n",
       "    <tr>\n",
       "      <th>0</th>\n",
       "      <td>smart</td>\n",
       "      <td>16.336176</td>\n",
       "      <td>17.0</td>\n",
       "      <td>5.737923</td>\n",
       "      <td>32.923756</td>\n",
       "    </tr>\n",
       "    <tr>\n",
       "      <th>1</th>\n",
       "      <td>ultra</td>\n",
       "      <td>19.694359</td>\n",
       "      <td>19.0</td>\n",
       "      <td>9.702924</td>\n",
       "      <td>94.146734</td>\n",
       "    </tr>\n",
       "  </tbody>\n",
       "</table>\n",
       "</div>"
      ],
      "text/plain": [
       "  tariff       mean  median       std        var\n",
       "0  smart  16.336176    17.0  5.737923  32.923756\n",
       "1  ultra  19.694359    19.0  9.702924  94.146734"
      ]
     },
     "execution_count": 48,
     "metadata": {},
     "output_type": "execute_result"
    }
   ],
   "source": [
    "internet_stat = user_internet.pivot_table(index='tariff',\n",
    "                                          values='month_gb_used',\n",
    "                                          aggfunc = {'mean','var','std', 'median'}).reset_index()\n",
    "internet_stat"
   ]
  },
  {
   "cell_type": "markdown",
   "id": "d6a9881b",
   "metadata": {},
   "source": [
    "**Построим гистограммы**"
   ]
  },
  {
   "cell_type": "code",
   "execution_count": 49,
   "id": "18cf4a5e",
   "metadata": {},
   "outputs": [
    {
     "data": {
      "image/png": "[encoded data removed]",
      "text/plain": [
       "<Figure size 1080x432 with 1 Axes>"
      ]
     },
     "metadata": {
      "needs_background": "light"
     },
     "output_type": "display_data"
    },
    {
     "name": "stdout",
     "output_type": "stream",
     "text": [
      "Среднее Smart: 16.0\n",
      "Среднее Ultra: 19.0\n",
      "Дисперсия Smart: 33.11859498481772\n",
      "Дисперсия Ultra: 97.27978308900676\n",
      "Стандартное отклонение Smart 5.754875757548352\n",
      "Стандартное отклонение Ultra 9.863051408616238\n"
     ]
    }
   ],
   "source": [
    "plt.figure(figsize = (15,6))\n",
    "\n",
    "revenue_month_sup.query('tariff == \"smart\"')['month_gb_used'].hist(bins = 30, alpha = .5)\n",
    "revenue_month_sup.query('tariff == \"ultra\"')['month_gb_used'].hist(bins = 30, alpha = .5)\n",
    "\n",
    "plt.title('Интернет трафик')\n",
    "plt.legend(['Smart', 'Ultra'])\n",
    "plt.xlabel('Интернет трафик, Гб')\n",
    "plt.show()\n",
    "\n",
    "print('Среднее Smart:', np.round(revenue_month_sup.query('tariff == \"smart\"')['month_gb_used'].mean()))\n",
    "print('Среднее Ultra:', np.round(revenue_month_sup.query('tariff == \"ultra\"')['month_gb_used'].mean()))\n",
    "print('Дисперсия Smart:', np.var(revenue_month_sup.query('tariff == \"smart\"')['month_gb_used']))\n",
    "print('Дисперсия Ultra:', np.var(revenue_month_sup.query('tariff == \"ultra\"')['month_gb_used']))\n",
    "print('Стандартное отклонение Smart', np.std(revenue_month_sup.query('tariff == \"smart\"')['month_gb_used']))\n",
    "print('Стандартное отклонение Ultra', np.std(revenue_month_sup.query('tariff == \"ultra\"')['month_gb_used']))"
   ]
  },
  {
   "cell_type": "markdown",
   "id": "24ed6611",
   "metadata": {},
   "source": [
    "Опишем распределения.\n",
    "\n",
    "Тариф `smart`:\n",
    "- датасет близок к нормальному распределению данных, есть незначительная скошенность влево, это можно оценить и по расчитанным ранее значениям - медиана чуть больше среднего.\n",
    "\n",
    "Тариф `ultra`:\n",
    "- датасет близок к нормальному распределению данных, есть незначительная скошенность вправо, это можно оценить и по расчитанным ранее значениям - медиана чуть меньше среднего."
   ]
  },
  {
   "cell_type": "markdown",
   "id": "51fe6deb",
   "metadata": {},
   "source": [
    "<ins>Опишем поведение клиентов оператора, исходя из выборки.</ins>\n",
    "\n",
    "Пользователям тарифа `smart` в месяц требуется:\n",
    "- от 0 до 1000 минут разговора, в среднем 418 минут\n",
    "- от 0 до 140 сообщений, в среднем 33\n",
    "- от 0 до 40Гб интернета, в среднем 16Гб\n",
    "\n",
    "Пользователям тарифа `ultra` в месяц требуется:\n",
    "- от 0 до 1500 минут разговора, в среднем 526 минут\n",
    "- от 0 до 200 сообщений, в среднем 49\n",
    "- от 0 до 50Гб интернета, в среднем 19Гб"
   ]
  },
  {
   "cell_type": "markdown",
   "id": "5f396818",
   "metadata": {},
   "source": [
    "<ins>Отличия тарифов:</ins>\n",
    "- пользователи тарифа `ultra` разговаривают больше, в среднем на 108 мин в месяц\n",
    "- пользователи тарифа `ultra` пишут больше сообщений, в среднем на 16 шт в месяц\n",
    "- пользователи тарифа `ultra` тратят больше интернета, в среднем на 4 Гб в месяц"
   ]
  },
  {
   "cell_type": "markdown",
   "id": "73d1fea7",
   "metadata": {},
   "source": [
    "## Проверка гипотез"
   ]
  },
  {
   "cell_type": "markdown",
   "id": "d500cd93",
   "metadata": {},
   "source": [
    "### Cредняя выручка пользователей тарифов «Ультра» и «Смарт» различаются"
   ]
  },
  {
   "cell_type": "markdown",
   "id": "ce21b5af",
   "metadata": {},
   "source": [
    "Объединим таблицы **revenue_month** и **users_tariff** в таблицу **user_revenue** по столбцу `user_id` с типом слияния `left` (попадут все значения левого датафрейма):"
   ]
  },
  {
   "cell_type": "code",
   "execution_count": 50,
   "id": "a6d5b85e",
   "metadata": {},
   "outputs": [
    {
     "data": {
      "text/html": [
       "<div>\n",
       "<style scoped>\n",
       "    .dataframe tbody tr th:only-of-type {\n",
       "        vertical-align: middle;\n",
       "    }\n",
       "\n",
       "    .dataframe tbody tr th {\n",
       "        vertical-align: top;\n",
       "    }\n",
       "\n",
       "    .dataframe thead th {\n",
       "        text-align: right;\n",
       "    }\n",
       "</style>\n",
       "<table border=\"1\" class=\"dataframe\">\n",
       "  <thead>\n",
       "    <tr style=\"text-align: right;\">\n",
       "      <th></th>\n",
       "      <th>user_id</th>\n",
       "      <th>month</th>\n",
       "      <th>revenue</th>\n",
       "      <th>tariff</th>\n",
       "      <th>city</th>\n",
       "    </tr>\n",
       "  </thead>\n",
       "  <tbody>\n",
       "    <tr>\n",
       "      <th>0</th>\n",
       "      <td>1000</td>\n",
       "      <td>5.0</td>\n",
       "      <td>1950.0</td>\n",
       "      <td>ultra</td>\n",
       "      <td>Краснодар</td>\n",
       "    </tr>\n",
       "    <tr>\n",
       "      <th>1</th>\n",
       "      <td>1000</td>\n",
       "      <td>6.0</td>\n",
       "      <td>1950.0</td>\n",
       "      <td>ultra</td>\n",
       "      <td>Краснодар</td>\n",
       "    </tr>\n",
       "    <tr>\n",
       "      <th>2</th>\n",
       "      <td>1000</td>\n",
       "      <td>7.0</td>\n",
       "      <td>1950.0</td>\n",
       "      <td>ultra</td>\n",
       "      <td>Краснодар</td>\n",
       "    </tr>\n",
       "  </tbody>\n",
       "</table>\n",
       "</div>"
      ],
      "text/plain": [
       "   user_id  month  revenue tariff       city\n",
       "0     1000    5.0   1950.0  ultra  Краснодар\n",
       "1     1000    6.0   1950.0  ultra  Краснодар\n",
       "2     1000    7.0   1950.0  ultra  Краснодар"
      ]
     },
     "execution_count": 50,
     "metadata": {},
     "output_type": "execute_result"
    }
   ],
   "source": [
    "user_revenue = revenue_month.merge(users_tariff, on='user_id', how='left')\n",
    "user_revenue.head(3)"
   ]
  },
  {
   "cell_type": "markdown",
   "id": "416a6cf3",
   "metadata": {},
   "source": [
    "Таблица <ins>**user_revenue**</ins>:\n",
    "- `user_id` — уникальный идентификатор пользователя\n",
    "- `month` - месяц\n",
    "- `revenue` - помесячная выручка с пользователя\n",
    "- `tariff` - тариф\n",
    "- `city` - город"
   ]
  },
  {
   "cell_type": "markdown",
   "id": "c99ab388",
   "metadata": {},
   "source": [
    "Для наглядности выделим данные в столбце `revenue` в отдельные подвыборки (`user_revenue_smart` и `user_revenue_ultra`) по тарифам."
   ]
  },
  {
   "cell_type": "code",
   "execution_count": 51,
   "id": "753fc880",
   "metadata": {},
   "outputs": [],
   "source": [
    "user_revenue_smart = user_revenue.query('tariff == \"smart\"')['revenue']\n",
    "user_revenue_ultra = user_revenue.query('tariff == \"ultra\"')['revenue']"
   ]
  },
  {
   "cell_type": "markdown",
   "id": "684d659f",
   "metadata": {},
   "source": [
    "<ins>**Нулевая гипотеза H₀:**</ins>\n",
    "- Cредние выручки пользователей тарифов «Ультра» и «Смарт» равны.\n",
    "\n",
    "Это гипотеза о равенстве средних двух генеральных совокупностей по взятым из них выборкам, независящих друг от друга.\n",
    "\n",
    "<ins>**Альтернативная гипотеза H₁:**</ins>\n",
    "- Cредние выручки пользователей тарифов «Ультра» и «Смарт» не равны."
   ]
  },
  {
   "cell_type": "markdown",
   "id": "3af283b2",
   "metadata": {},
   "source": [
    "Проверим дисперсии двух выборок"
   ]
  },
  {
   "cell_type": "code",
   "execution_count": 52,
   "id": "928c62cf",
   "metadata": {},
   "outputs": [
    {
     "data": {
      "text/plain": [
       "669730.763894807"
      ]
     },
     "execution_count": 52,
     "metadata": {},
     "output_type": "execute_result"
    }
   ],
   "source": [
    "np.var(user_revenue_smart, ddof=1)"
   ]
  },
  {
   "cell_type": "code",
   "execution_count": 53,
   "id": "4b1fd059",
   "metadata": {
    "scrolled": true
   },
   "outputs": [
    {
     "data": {
      "text/plain": [
       "141387.7148093615"
      ]
     },
     "execution_count": 53,
     "metadata": {},
     "output_type": "execute_result"
    }
   ],
   "source": [
    "np.var(user_revenue_ultra, ddof=1)"
   ]
  },
  {
   "cell_type": "markdown",
   "id": "e05d76c1",
   "metadata": {},
   "source": [
    "Проверим размер двух выборок"
   ]
  },
  {
   "cell_type": "code",
   "execution_count": 54,
   "id": "cf16d557",
   "metadata": {},
   "outputs": [
    {
     "data": {
      "text/plain": [
       "2230"
      ]
     },
     "execution_count": 54,
     "metadata": {},
     "output_type": "execute_result"
    }
   ],
   "source": [
    "len(user_revenue_smart)"
   ]
  },
  {
   "cell_type": "code",
   "execution_count": 55,
   "id": "1e1f2684",
   "metadata": {},
   "outputs": [
    {
     "data": {
      "text/plain": [
       "986"
      ]
     },
     "execution_count": 55,
     "metadata": {},
     "output_type": "execute_result"
    }
   ],
   "source": [
    "len(user_revenue_ultra)"
   ]
  },
  {
   "cell_type": "markdown",
   "id": "054b1bce",
   "metadata": {},
   "source": [
    "- Для проверки нулевой гипотезы применим метод `scipy.stats.ttest_ind()`.\n",
    "- Видим, что дисперсии не равны, выборки разные по размеру, поэтому используем дополнительный параметр `equal_var = False`.\n",
    "- Критический уровень статистической значимости примем 0,05 - стандартная величина, значение считаю достаточным, т.к. анализируем не судебные дела и не медицину.\n",
    "- Если p-value окажется меньше уровня статистической значимости - отвегнем гипотезу."
   ]
  },
  {
   "cell_type": "code",
   "execution_count": 56,
   "id": "b39d33cb",
   "metadata": {},
   "outputs": [
    {
     "name": "stdout",
     "output_type": "stream",
     "text": [
      "p-значение: 1.927011394420941e-250\n",
      "Отвергаем нулевую гипотезу\n"
     ]
    }
   ],
   "source": [
    "alpha = .05\n",
    "\n",
    "results = st.ttest_ind(\n",
    "    user_revenue_smart, \n",
    "    user_revenue_ultra,\n",
    "    equal_var = False)\n",
    "\n",
    "print('p-значение:', results.pvalue)\n",
    "\n",
    "if results.pvalue < alpha:\n",
    "    print(\"Отвергаем нулевую гипотезу\")\n",
    "else:\n",
    "    print(\"Не получилось отвергнуть нулевую гипотезу\")"
   ]
  },
  {
   "cell_type": "markdown",
   "id": "d40b480b",
   "metadata": {},
   "source": [
    "Итог.\n",
    "- Отвергаем нулевую гипотезу, т.к. вероятность получить наблюдаемый или еще более далекий от предполагаемого результат при условии, что нулевая гипотеза верна, ниже критического уровня статистической значимости, причём радикально.\n",
    "- Принимаем, что средние выручки пользователей тарифов «Ультра» и «Смарт» не равны."
   ]
  },
  {
   "cell_type": "markdown",
   "id": "44125ac6",
   "metadata": {},
   "source": [
    "### Средняя выручка пользователей из Москвы отличается от выручки пользователей из других регионов"
   ]
  },
  {
   "cell_type": "markdown",
   "id": "151346b9",
   "metadata": {},
   "source": [
    "Данное задание можно прочесть двояко:\n",
    "- исследуем пользователей всех тарифов, однако это противоречит исходным данным от заказчика, где делается акцент на сравнение тарифов.\n",
    "- исследуем пользователей с учётом тарифа\n",
    "\n",
    "Отработаем два варианта на выбор заказчика."
   ]
  },
  {
   "cell_type": "markdown",
   "id": "b3598a07",
   "metadata": {},
   "source": [
    "Работаем с таблицей `user_revenue`. По исходным данным необходимо исследовать тарифы, поэтому в данном разделе будет проверятся гипотеза в рамках тарифов `smart` и `ultra`. Для наглядности выделим данные в столбце `revenue` в отдельные подвыборки (`moscow`,`moscow_smart`, `moscow_ultra` и `not_moscow`,`not_moscow_smart`, `not_moscow_ultra`) по принадлежности к Москве и не Москве."
   ]
  },
  {
   "cell_type": "code",
   "execution_count": 57,
   "id": "97371e9b",
   "metadata": {},
   "outputs": [],
   "source": [
    "moscow = user_revenue.query('city == \"Москва\"')['revenue']\n",
    "not_moscow = user_revenue.query('city != \"Москва\"')['revenue']\n",
    "moscow_smart = user_revenue.query('city == \"Москва\" and tariff == \"smart\"')['revenue']\n",
    "moscow_ultra = user_revenue.query('city == \"Москва\" and tariff == \"ultra\"')['revenue']\n",
    "not_moscow_smart = user_revenue.query('city != \"Москва\" and tariff == \"smart\"')['revenue']\n",
    "not_moscow_ultra = user_revenue.query('city != \"Москва\" and tariff == \"ultra\"')['revenue']"
   ]
  },
  {
   "cell_type": "markdown",
   "id": "603629fa",
   "metadata": {},
   "source": [
    "#### Вариант 1. Гипотеза для всех тарифов"
   ]
  },
  {
   "cell_type": "markdown",
   "id": "9518e53d",
   "metadata": {},
   "source": [
    "<ins>**Нулевая гипотеза H₀:**</ins>\n",
    "- Cредние выручки пользователей из Москвы и из других регионов равны.\n",
    "\n",
    "Это гипотеза о равенстве средних двух генеральных совокупностей по взятым из них выборкам, независящих друг от друга.\n",
    "\n",
    "Парная выборка означает, что измеряется некоторая переменная дважды для одних и тех же единиц. В нашем примере это пара измерений выручки пользователей в рамках тарифа — из Москвы и не из Москвы.\n",
    "\n",
    "<ins>**Альтернативная гипотеза H₁:**</ins>\n",
    "- Cредние выручки пользователей из Москвы и из других регионов не равны."
   ]
  },
  {
   "cell_type": "markdown",
   "id": "b3d22bda",
   "metadata": {},
   "source": [
    "Проверим дисперсии выборок"
   ]
  },
  {
   "cell_type": "code",
   "execution_count": 58,
   "id": "ce3f4869",
   "metadata": {},
   "outputs": [
    {
     "data": {
      "text/plain": [
       "565636.467011886"
      ]
     },
     "execution_count": 58,
     "metadata": {},
     "output_type": "execute_result"
    }
   ],
   "source": [
    "np.var(moscow, ddof=1)"
   ]
  },
  {
   "cell_type": "code",
   "execution_count": 59,
   "id": "7729ee70",
   "metadata": {},
   "outputs": [
    {
     "data": {
      "text/plain": [
       "654069.5749627769"
      ]
     },
     "execution_count": 59,
     "metadata": {},
     "output_type": "execute_result"
    }
   ],
   "source": [
    "np.var(not_moscow, ddof=1)"
   ]
  },
  {
   "cell_type": "markdown",
   "id": "eb549303",
   "metadata": {},
   "source": [
    "Проверим размеры выборок"
   ]
  },
  {
   "cell_type": "code",
   "execution_count": 60,
   "id": "c4ded411",
   "metadata": {},
   "outputs": [
    {
     "data": {
      "text/plain": [
       "611"
      ]
     },
     "execution_count": 60,
     "metadata": {},
     "output_type": "execute_result"
    }
   ],
   "source": [
    "len(moscow)"
   ]
  },
  {
   "cell_type": "code",
   "execution_count": 61,
   "id": "28a75eff",
   "metadata": {},
   "outputs": [
    {
     "data": {
      "text/plain": [
       "2605"
      ]
     },
     "execution_count": 61,
     "metadata": {},
     "output_type": "execute_result"
    }
   ],
   "source": [
    "len(not_moscow)"
   ]
  },
  {
   "cell_type": "markdown",
   "id": "45c1beb3",
   "metadata": {},
   "source": [
    "- Для проверки нулевой гипотезы применим метод `scipy.stats.ttest_ind()`.\n",
    "- Видим, что дисперсии близки, фактом, что выборки разные по размеру принебрежем, дополнительный параметр `equal_var` не задаём, т.к. считаем, что дисперсии равны.\n",
    "- Критический уровень статистической значимости примем 0,05 - стандартная величина, значение считаю достаточным, т.к. анализируем не судебные дела и не медицину.\n",
    "- Если p-value окажется меньше уровня статистической значимости - отвегнем гипотезу."
   ]
  },
  {
   "cell_type": "code",
   "execution_count": 62,
   "id": "81ac9e5b",
   "metadata": {},
   "outputs": [
    {
     "name": "stdout",
     "output_type": "stream",
     "text": [
      "p-значение: 0.5400751614511182\n",
      "Не получилось отвергнуть нулевую гипотезу\n"
     ]
    }
   ],
   "source": [
    "alpha = .05\n",
    "\n",
    "results = st.ttest_ind(\n",
    "                       moscow, \n",
    "                       not_moscow,\n",
    "                       )\n",
    "\n",
    "print('p-значение:', results.pvalue)\n",
    "\n",
    "if results.pvalue < alpha:\n",
    "    print(\"Отвергаем нулевую гипотезу\")\n",
    "else:\n",
    "    print(\"Не получилось отвергнуть нулевую гипотезу\")"
   ]
  },
  {
   "cell_type": "markdown",
   "id": "57eb59a8",
   "metadata": {},
   "source": [
    "Итог.\n",
    "- Не получилось отвергнуть нулевую гипотезу, т.к. вероятность получить наблюдаемый или еще более далекий от предполагаемого результат при условии, что нулевая гипотеза верна, гораздо выше критического уровня статистической значимости.\n",
    "- Принимаем, что средние выручки пользователей из Москвы и из других регионов равны."
   ]
  },
  {
   "cell_type": "markdown",
   "id": "07298d62",
   "metadata": {},
   "source": [
    "#### Вариант 2. Гипотеза с учётом тарифа"
   ]
  },
  {
   "cell_type": "markdown",
   "id": "9239cebd",
   "metadata": {},
   "source": [
    "<ins>Для каждого тарифа:</ins>\n",
    "\n",
    "<ins>**Нулевая гипотеза H₀:**</ins>\n",
    "- Cредние выручки пользователей из Москвы и из других регионов равны.\n",
    "\n",
    "Это гипотеза о равенстве средних двух генеральных совокупностей по взятым из них выборкам, независящих друг от друга.\n",
    "\n",
    "Парная выборка означает, что измеряется некоторая переменная дважды для одних и тех же единиц. В нашем примере это пара измерений выручки пользователей в рамках тарифа — из Москвы и не из Москвы.\n",
    "\n",
    "<ins>**Альтернативная гипотеза H₁:**</ins>\n",
    "- Cредние выручки пользователей из Москвы и из других регионов не равны."
   ]
  },
  {
   "cell_type": "markdown",
   "id": "ebe62f0f",
   "metadata": {},
   "source": [
    "Проверим дисперсии выборок"
   ]
  },
  {
   "cell_type": "code",
   "execution_count": 63,
   "id": "05a93eca",
   "metadata": {},
   "outputs": [
    {
     "data": {
      "text/plain": [
       "567691.7523719803"
      ]
     },
     "execution_count": 63,
     "metadata": {},
     "output_type": "execute_result"
    }
   ],
   "source": [
    "np.var(moscow_smart, ddof=1)"
   ]
  },
  {
   "cell_type": "code",
   "execution_count": 64,
   "id": "8b05593b",
   "metadata": {},
   "outputs": [
    {
     "data": {
      "text/plain": [
       "690769.5296911099"
      ]
     },
     "execution_count": 64,
     "metadata": {},
     "output_type": "execute_result"
    }
   ],
   "source": [
    "np.var(not_moscow_smart, ddof=1)"
   ]
  },
  {
   "cell_type": "code",
   "execution_count": 65,
   "id": "0b134391",
   "metadata": {},
   "outputs": [
    {
     "data": {
      "text/plain": [
       "122568.75"
      ]
     },
     "execution_count": 65,
     "metadata": {},
     "output_type": "execute_result"
    }
   ],
   "source": [
    "np.var(moscow_ultra, ddof=1)"
   ]
  },
  {
   "cell_type": "code",
   "execution_count": 66,
   "id": "4690d994",
   "metadata": {},
   "outputs": [
    {
     "data": {
      "text/plain": [
       "147114.34919427347"
      ]
     },
     "execution_count": 66,
     "metadata": {},
     "output_type": "execute_result"
    }
   ],
   "source": [
    "np.var(not_moscow_ultra, ddof=1)"
   ]
  },
  {
   "cell_type": "markdown",
   "id": "5110701f",
   "metadata": {},
   "source": [
    "Проверим размеры выборок"
   ]
  },
  {
   "cell_type": "code",
   "execution_count": 67,
   "id": "d0e687d2",
   "metadata": {},
   "outputs": [
    {
     "data": {
      "text/plain": [
       "386"
      ]
     },
     "execution_count": 67,
     "metadata": {},
     "output_type": "execute_result"
    }
   ],
   "source": [
    "len(moscow_smart)"
   ]
  },
  {
   "cell_type": "code",
   "execution_count": 68,
   "id": "3aeb7032",
   "metadata": {},
   "outputs": [
    {
     "data": {
      "text/plain": [
       "1844"
      ]
     },
     "execution_count": 68,
     "metadata": {},
     "output_type": "execute_result"
    }
   ],
   "source": [
    "len(not_moscow_smart)"
   ]
  },
  {
   "cell_type": "code",
   "execution_count": 69,
   "id": "8705372b",
   "metadata": {
    "scrolled": true
   },
   "outputs": [
    {
     "data": {
      "text/plain": [
       "225"
      ]
     },
     "execution_count": 69,
     "metadata": {},
     "output_type": "execute_result"
    }
   ],
   "source": [
    "len(moscow_ultra)"
   ]
  },
  {
   "cell_type": "code",
   "execution_count": 70,
   "id": "5d91b59f",
   "metadata": {
    "scrolled": true
   },
   "outputs": [
    {
     "data": {
      "text/plain": [
       "761"
      ]
     },
     "execution_count": 70,
     "metadata": {},
     "output_type": "execute_result"
    }
   ],
   "source": [
    "len(not_moscow_ultra)"
   ]
  },
  {
   "cell_type": "markdown",
   "id": "a06ea491",
   "metadata": {},
   "source": [
    "- Для проверки нулевой гипотезы применим метод `scipy.stats.ttest_ind()`.\n",
    "- Видим, что дисперсии не равны, выборки разные по размеру, поэтому используем дополнительный параметр `equal_var = False`.\n",
    "- Критический уровень статистической значимости примем 0,05 - стандартная величина, значение считаю достаточным, т.к. анализируем не судебные дела и не медицину.\n",
    "- Если p-value окажется меньше уровня статистической значимости - отвегнем гипотезу."
   ]
  },
  {
   "cell_type": "code",
   "execution_count": 71,
   "id": "a145831e",
   "metadata": {},
   "outputs": [
    {
     "name": "stdout",
     "output_type": "stream",
     "text": [
      "p-значение для тарифа smart: 0.15741281346674896\n",
      "Не получилось отвергнуть нулевую гипотезу для тарифа smart\n"
     ]
    }
   ],
   "source": [
    "alpha = .05\n",
    "\n",
    "results = st.ttest_ind(\n",
    "                       moscow_smart, \n",
    "                       not_moscow_smart,\n",
    "                       equal_var = False\n",
    "                       )\n",
    "\n",
    "print('p-значение для тарифа smart:', results.pvalue)\n",
    "\n",
    "if results.pvalue < alpha:\n",
    "    print(\"Отвергаем нулевую гипотезу для тарифа smart\")\n",
    "else:\n",
    "    print(\"Не получилось отвергнуть нулевую гипотезу для тарифа smart\")"
   ]
  },
  {
   "cell_type": "code",
   "execution_count": 72,
   "id": "6747ceaa",
   "metadata": {},
   "outputs": [
    {
     "name": "stdout",
     "output_type": "stream",
     "text": [
      "p-значение для тарифа ultra: 0.8499417228125278\n",
      "Не получилось отвергнуть нулевую гипотезу для тарифа ultra\n"
     ]
    }
   ],
   "source": [
    "alpha = .05\n",
    "\n",
    "results = st.ttest_ind(\n",
    "                       moscow_ultra, \n",
    "                       not_moscow_ultra,\n",
    "                       equal_var = False\n",
    "                       )\n",
    "\n",
    "print('p-значение для тарифа ultra:', results.pvalue)\n",
    "\n",
    "if results.pvalue < alpha:\n",
    "    print(\"Отвергаем нулевую гипотезу для тарифа ultra\")\n",
    "else:\n",
    "    print(\"Не получилось отвергнуть нулевую гипотезу для тарифа ultra\")"
   ]
  },
  {
   "cell_type": "markdown",
   "id": "96c86263",
   "metadata": {},
   "source": [
    "Итог.\n",
    "- Отвергаем нулевую гипотезу, т.к. вероятность получить наблюдаемый или еще более далекий от предполагаемого результат при условии, что нулевая гипотеза верна, ниже критического уровня статистической значимости, причём радикально.\n",
    "- Принимаем, что <ins>*для каждого тарифа*</ins> средние выручки пользователей из Москвы и из других регионов не равны."
   ]
  },
  {
   "cell_type": "markdown",
   "id": "9d161357",
   "metadata": {},
   "source": [
    "## Общий вывод"
   ]
  },
  {
   "cell_type": "markdown",
   "id": "32dfc179",
   "metadata": {},
   "source": [
    "Выполнен предварительный анализ поведения клиентов федерального оператора сотовой связи компании «Мегалайн» на небольшой выборке.\n",
    "\n",
    "Исследованы два тарифных плана: «Смарт» и «Ультра».\n",
    "\n",
    "Пользователям тарифа `smart` в месяц требуется:\n",
    "- от 0 до 1000 минут разговора, в среднем 418 минут\n",
    "- от 0 до 140 сообщений, в среднем 33\n",
    "- от 0 до 40Гб интернета, в среднем 16Гб\n",
    "\n",
    "Пользователям тарифа `ultra` в месяц требуется:\n",
    "- от 0 до 1500 минут разговора, в среднем 526 минут\n",
    "- от 0 до 200 сообщений, в среднем 49\n",
    "- от 0 до 50Гб интернета, в среднем 19Гб\n",
    "\n",
    "Отличия тарифов:\n",
    "- пользователи тарифа `ultra` разговаривают больше, в среднем на 108 мин в месяц\n",
    "- пользователи тарифа `ultra` пишут больше сообщений, в среднем на 16 шт в месяц\n",
    "- пользователи тарифа `ultra` тратят больше интернета, в среднем на 4 Гб в месяц\n",
    "\n",
    "Средние выручки пользователей тарифов «Ультра» и «Смарт» не равны.\n",
    "\n",
    "Средние выручки пользователей из Москвы и из других регионов равны, если не сравнивать потарифно. Однако <ins>*для каждого тарифа*</ins> средние выручки пользователей из Москвы и из других регионов не равны.\n",
    "\n",
    "Как сказано в исходных данных - главный показатель наибольшей успешности тарифа - бо́льшая прибыль по сравнению с другим.\n",
    "\n",
    "Так как средние выручки пользователей тарифов «Ультра» и «Смарт» не равны, посчитаем средние выручки и определим, какой тариф приносит бо́льшую прибыль."
   ]
  },
  {
   "cell_type": "code",
   "execution_count": 73,
   "id": "23c0a27f",
   "metadata": {},
   "outputs": [
    {
     "name": "stdout",
     "output_type": "stream",
     "text": [
      "Средняя выручка тарифа smart: 1290.0\n",
      "Средняя выручка тарифа ultra: 2070.0\n",
      "Тариф ultra приносит бо́льшую прибыль\n"
     ]
    }
   ],
   "source": [
    "print (f'Средняя выручка тарифа smart: {user_revenue_smart.mean().round()}')\n",
    "print (f'Средняя выручка тарифа ultra: {user_revenue_ultra.mean().round()}')\n",
    "if user_revenue_smart.mean() > user_revenue_ultra.mean():\n",
    "    print ('Тариф smart приносит бо́льшую прибыль')\n",
    "else:\n",
    "    print ('Тариф ultra приносит бо́льшую прибыль')"
   ]
  },
  {
   "cell_type": "markdown",
   "id": "9d9a6742",
   "metadata": {},
   "source": [
    "Тариф «Ультра» лучше. Однако, это нельзя утверждать однозначно по данному анализу т.к. количество пользователей тарифа «Смарт» в два раза больше. Но это уже тема другого анализа."
   ]
  }
 ],
 "metadata": {
  "ExecuteTimeLog": [
   {
    "duration": 677,
    "start_time": "2022-03-16T19:20:12.083Z"
   },
   {
    "duration": 571,
    "start_time": "2022-03-16T19:20:43.005Z"
   },
   {
    "duration": 943,
    "start_time": "2022-03-16T19:51:27.639Z"
   },
   {
    "duration": 2,
    "start_time": "2022-03-16T19:52:50.636Z"
   },
   {
    "duration": 52,
    "start_time": "2022-03-16T20:02:08.739Z"
   },
   {
    "duration": 59,
    "start_time": "2022-03-16T20:02:31.043Z"
   },
   {
    "duration": 636,
    "start_time": "2022-03-16T20:04:56.545Z"
   },
   {
    "duration": 25,
    "start_time": "2022-03-16T20:33:06.664Z"
   },
   {
    "duration": 318,
    "start_time": "2022-03-16T20:44:13.238Z"
   },
   {
    "duration": 4594,
    "start_time": "2022-03-16T20:44:33.562Z"
   },
   {
    "duration": 7071,
    "start_time": "2022-03-16T20:44:52.962Z"
   },
   {
    "duration": 5,
    "start_time": "2022-03-16T20:45:17.596Z"
   },
   {
    "duration": 7,
    "start_time": "2022-03-16T20:47:43.159Z"
   },
   {
    "duration": 7,
    "start_time": "2022-03-16T20:49:34.886Z"
   },
   {
    "duration": 310,
    "start_time": "2022-03-16T20:53:13.985Z"
   },
   {
    "duration": 297,
    "start_time": "2022-03-16T20:53:28.960Z"
   },
   {
    "duration": 12,
    "start_time": "2022-03-16T20:56:35.991Z"
   },
   {
    "duration": 4,
    "start_time": "2022-03-16T21:01:40.112Z"
   },
   {
    "duration": 5,
    "start_time": "2022-03-16T21:06:08.551Z"
   },
   {
    "duration": 5,
    "start_time": "2022-03-16T21:06:27.055Z"
   },
   {
    "duration": 8,
    "start_time": "2022-03-17T14:53:14.279Z"
   },
   {
    "duration": 486,
    "start_time": "2022-03-17T14:53:44.015Z"
   },
   {
    "duration": 20,
    "start_time": "2022-03-17T14:53:44.503Z"
   },
   {
    "duration": 10,
    "start_time": "2022-03-17T14:53:44.524Z"
   },
   {
    "duration": 0,
    "start_time": "2022-03-17T14:53:44.536Z"
   },
   {
    "duration": 0,
    "start_time": "2022-03-17T14:53:44.537Z"
   },
   {
    "duration": 5,
    "start_time": "2022-03-17T14:53:54.793Z"
   },
   {
    "duration": 6,
    "start_time": "2022-03-17T15:01:07.101Z"
   },
   {
    "duration": 6,
    "start_time": "2022-03-17T15:01:15.668Z"
   },
   {
    "duration": 7,
    "start_time": "2022-03-17T15:02:51.528Z"
   },
   {
    "duration": 9,
    "start_time": "2022-03-17T16:06:14.030Z"
   },
   {
    "duration": 9,
    "start_time": "2022-03-17T16:06:17.326Z"
   },
   {
    "duration": 8,
    "start_time": "2022-03-17T16:06:32.189Z"
   },
   {
    "duration": 12,
    "start_time": "2022-03-17T16:10:23.760Z"
   },
   {
    "duration": 15,
    "start_time": "2022-03-17T16:11:04.259Z"
   },
   {
    "duration": 14,
    "start_time": "2022-03-17T16:11:35.299Z"
   },
   {
    "duration": 17,
    "start_time": "2022-03-17T16:26:19.219Z"
   },
   {
    "duration": 19,
    "start_time": "2022-03-17T16:26:49.399Z"
   },
   {
    "duration": 418,
    "start_time": "2022-03-17T16:33:11.687Z"
   },
   {
    "duration": 20,
    "start_time": "2022-03-17T16:33:12.108Z"
   },
   {
    "duration": 9,
    "start_time": "2022-03-17T16:33:12.130Z"
   },
   {
    "duration": 124,
    "start_time": "2022-03-17T17:06:52.311Z"
   },
   {
    "duration": 5,
    "start_time": "2022-03-17T17:07:01.544Z"
   },
   {
    "duration": 5,
    "start_time": "2022-03-17T17:08:24.885Z"
   },
   {
    "duration": 5,
    "start_time": "2022-03-17T17:08:26.605Z"
   },
   {
    "duration": 5,
    "start_time": "2022-03-17T17:08:28.017Z"
   },
   {
    "duration": 7,
    "start_time": "2022-03-17T17:10:35.493Z"
   },
   {
    "duration": 16,
    "start_time": "2022-03-17T17:11:32.821Z"
   },
   {
    "duration": 5,
    "start_time": "2022-03-17T17:14:32.044Z"
   },
   {
    "duration": 14,
    "start_time": "2022-03-17T17:14:38.579Z"
   },
   {
    "duration": 64,
    "start_time": "2022-03-17T17:18:18.618Z"
   },
   {
    "duration": 6,
    "start_time": "2022-03-17T17:18:27.209Z"
   },
   {
    "duration": 7,
    "start_time": "2022-03-17T17:19:52.681Z"
   },
   {
    "duration": 21,
    "start_time": "2022-03-17T17:32:57.180Z"
   },
   {
    "duration": 6,
    "start_time": "2022-03-17T17:51:13.142Z"
   },
   {
    "duration": 14,
    "start_time": "2022-03-17T17:51:42.535Z"
   },
   {
    "duration": 19,
    "start_time": "2022-03-17T17:51:51.078Z"
   },
   {
    "duration": 5,
    "start_time": "2022-03-17T18:04:00.838Z"
   },
   {
    "duration": 12,
    "start_time": "2022-03-17T18:04:20.250Z"
   },
   {
    "duration": 3,
    "start_time": "2022-03-17T18:10:17.660Z"
   },
   {
    "duration": 5,
    "start_time": "2022-03-17T18:10:26.095Z"
   },
   {
    "duration": 7,
    "start_time": "2022-03-17T19:01:42.251Z"
   },
   {
    "duration": 7,
    "start_time": "2022-03-17T19:01:49.251Z"
   },
   {
    "duration": 7,
    "start_time": "2022-03-17T19:02:07.310Z"
   },
   {
    "duration": 8,
    "start_time": "2022-03-17T19:02:46.931Z"
   },
   {
    "duration": 8,
    "start_time": "2022-03-17T19:03:00.717Z"
   },
   {
    "duration": 2207,
    "start_time": "2022-03-17T19:17:50.100Z"
   },
   {
    "duration": 11,
    "start_time": "2022-03-17T19:18:07.980Z"
   },
   {
    "duration": 4,
    "start_time": "2022-03-17T19:19:10.696Z"
   },
   {
    "duration": 20,
    "start_time": "2022-03-17T19:20:37.755Z"
   },
   {
    "duration": 21,
    "start_time": "2022-03-17T19:20:56.060Z"
   },
   {
    "duration": 3,
    "start_time": "2022-03-17T19:22:28.631Z"
   },
   {
    "duration": 4,
    "start_time": "2022-03-17T19:22:36.373Z"
   },
   {
    "duration": 81,
    "start_time": "2022-03-18T17:13:13.679Z"
   },
   {
    "duration": 10,
    "start_time": "2022-03-18T17:13:19.715Z"
   },
   {
    "duration": 9,
    "start_time": "2022-03-18T17:15:07.647Z"
   },
   {
    "duration": 641,
    "start_time": "2022-03-18T17:15:19.068Z"
   },
   {
    "duration": 46,
    "start_time": "2022-03-18T17:15:19.712Z"
   },
   {
    "duration": 42,
    "start_time": "2022-03-18T17:15:19.760Z"
   },
   {
    "duration": 28,
    "start_time": "2022-03-18T17:15:19.805Z"
   },
   {
    "duration": 35,
    "start_time": "2022-03-18T17:15:19.837Z"
   },
   {
    "duration": 49,
    "start_time": "2022-03-18T17:15:19.876Z"
   },
   {
    "duration": 36,
    "start_time": "2022-03-18T17:15:19.928Z"
   },
   {
    "duration": 57,
    "start_time": "2022-03-18T17:15:32.615Z"
   },
   {
    "duration": 172,
    "start_time": "2022-03-18T17:16:57.439Z"
   },
   {
    "duration": 658,
    "start_time": "2022-03-18T17:47:15.017Z"
   },
   {
    "duration": 61,
    "start_time": "2022-03-18T17:47:15.679Z"
   },
   {
    "duration": 67,
    "start_time": "2022-03-18T17:47:15.743Z"
   },
   {
    "duration": 10,
    "start_time": "2022-03-18T17:47:15.814Z"
   },
   {
    "duration": 11,
    "start_time": "2022-03-18T17:47:15.830Z"
   },
   {
    "duration": 80,
    "start_time": "2022-03-18T17:47:15.843Z"
   },
   {
    "duration": 5,
    "start_time": "2022-03-18T17:47:15.926Z"
   },
   {
    "duration": 174,
    "start_time": "2022-03-18T18:03:58.733Z"
   },
   {
    "duration": 6,
    "start_time": "2022-03-18T19:43:52.517Z"
   },
   {
    "duration": 9,
    "start_time": "2022-03-18T19:45:28.187Z"
   },
   {
    "duration": 2623,
    "start_time": "2022-03-18T19:45:40.116Z"
   },
   {
    "duration": 9,
    "start_time": "2022-03-18T19:45:50.707Z"
   },
   {
    "duration": 6,
    "start_time": "2022-03-18T19:46:39.081Z"
   },
   {
    "duration": 134,
    "start_time": "2022-03-18T19:46:51.730Z"
   },
   {
    "duration": 6,
    "start_time": "2022-03-18T19:47:46.659Z"
   },
   {
    "duration": 6,
    "start_time": "2022-03-18T19:47:59.657Z"
   },
   {
    "duration": 554,
    "start_time": "2022-03-18T19:48:53.023Z"
   },
   {
    "duration": 46,
    "start_time": "2022-03-18T19:48:53.580Z"
   },
   {
    "duration": 75,
    "start_time": "2022-03-18T19:48:53.629Z"
   },
   {
    "duration": 10,
    "start_time": "2022-03-18T19:48:53.707Z"
   },
   {
    "duration": 11,
    "start_time": "2022-03-18T19:48:53.720Z"
   },
   {
    "duration": 53,
    "start_time": "2022-03-18T19:48:53.733Z"
   },
   {
    "duration": 6,
    "start_time": "2022-03-18T19:48:53.789Z"
   },
   {
    "duration": 7,
    "start_time": "2022-03-18T19:48:53.797Z"
   },
   {
    "duration": 10,
    "start_time": "2022-03-18T19:50:51.412Z"
   },
   {
    "duration": 104,
    "start_time": "2022-03-18T20:10:56.323Z"
   },
   {
    "duration": 555,
    "start_time": "2022-03-18T20:13:13.307Z"
   },
   {
    "duration": 49,
    "start_time": "2022-03-18T20:13:13.865Z"
   },
   {
    "duration": 45,
    "start_time": "2022-03-18T20:13:13.917Z"
   },
   {
    "duration": 24,
    "start_time": "2022-03-18T20:13:13.965Z"
   },
   {
    "duration": 18,
    "start_time": "2022-03-18T20:13:13.992Z"
   },
   {
    "duration": 28,
    "start_time": "2022-03-18T20:13:14.012Z"
   },
   {
    "duration": 19,
    "start_time": "2022-03-18T20:13:14.042Z"
   },
   {
    "duration": 47,
    "start_time": "2022-03-18T20:13:14.064Z"
   },
   {
    "duration": 111,
    "start_time": "2022-03-18T20:13:14.113Z"
   },
   {
    "duration": 487,
    "start_time": "2022-03-19T09:04:14.719Z"
   },
   {
    "duration": 28,
    "start_time": "2022-03-19T09:04:15.208Z"
   },
   {
    "duration": 31,
    "start_time": "2022-03-19T09:04:15.237Z"
   },
   {
    "duration": 6,
    "start_time": "2022-03-19T09:04:15.270Z"
   },
   {
    "duration": 32,
    "start_time": "2022-03-19T09:04:15.278Z"
   },
   {
    "duration": 15,
    "start_time": "2022-03-19T09:04:15.311Z"
   },
   {
    "duration": 3,
    "start_time": "2022-03-19T09:04:15.328Z"
   },
   {
    "duration": 5,
    "start_time": "2022-03-19T09:04:15.333Z"
   },
   {
    "duration": 63,
    "start_time": "2022-03-19T09:04:15.339Z"
   },
   {
    "duration": 2,
    "start_time": "2022-03-19T09:15:07.990Z"
   },
   {
    "duration": 68,
    "start_time": "2022-03-19T09:15:28.174Z"
   },
   {
    "duration": 4,
    "start_time": "2022-03-19T09:15:37.942Z"
   },
   {
    "duration": 68,
    "start_time": "2022-03-19T09:16:43.797Z"
   },
   {
    "duration": 4,
    "start_time": "2022-03-19T09:17:09.922Z"
   },
   {
    "duration": 4,
    "start_time": "2022-03-19T09:17:30.224Z"
   },
   {
    "duration": 5,
    "start_time": "2022-03-19T09:24:00.729Z"
   },
   {
    "duration": 5,
    "start_time": "2022-03-19T09:24:28.062Z"
   },
   {
    "duration": 15,
    "start_time": "2022-03-19T09:25:04.122Z"
   },
   {
    "duration": 13,
    "start_time": "2022-03-19T09:25:23.178Z"
   },
   {
    "duration": 15,
    "start_time": "2022-03-19T09:25:36.798Z"
   },
   {
    "duration": 5,
    "start_time": "2022-03-19T09:29:20.402Z"
   },
   {
    "duration": 5,
    "start_time": "2022-03-19T09:29:47.472Z"
   },
   {
    "duration": 11,
    "start_time": "2022-03-19T09:30:27.203Z"
   },
   {
    "duration": 17,
    "start_time": "2022-03-19T09:30:55.509Z"
   },
   {
    "duration": 23,
    "start_time": "2022-03-19T09:31:03.511Z"
   },
   {
    "duration": 17,
    "start_time": "2022-03-19T09:31:18.222Z"
   },
   {
    "duration": 17,
    "start_time": "2022-03-19T09:31:37.690Z"
   },
   {
    "duration": 37,
    "start_time": "2022-03-19T09:32:03.978Z"
   },
   {
    "duration": 1306,
    "start_time": "2022-03-19T09:48:29.923Z"
   },
   {
    "duration": 1275,
    "start_time": "2022-03-19T09:48:44.016Z"
   },
   {
    "duration": 514,
    "start_time": "2022-03-19T09:48:58.406Z"
   },
   {
    "duration": 28,
    "start_time": "2022-03-19T09:48:58.922Z"
   },
   {
    "duration": 31,
    "start_time": "2022-03-19T09:48:58.951Z"
   },
   {
    "duration": 26,
    "start_time": "2022-03-19T09:48:58.986Z"
   },
   {
    "duration": 10,
    "start_time": "2022-03-19T09:48:59.014Z"
   },
   {
    "duration": 16,
    "start_time": "2022-03-19T09:48:59.026Z"
   },
   {
    "duration": 4,
    "start_time": "2022-03-19T09:48:59.044Z"
   },
   {
    "duration": 6,
    "start_time": "2022-03-19T09:48:59.049Z"
   },
   {
    "duration": 1526,
    "start_time": "2022-03-19T09:48:59.057Z"
   },
   {
    "duration": 0,
    "start_time": "2022-03-19T09:49:00.585Z"
   },
   {
    "duration": 5,
    "start_time": "2022-03-19T09:49:11.089Z"
   },
   {
    "duration": 8,
    "start_time": "2022-03-19T09:53:21.147Z"
   },
   {
    "duration": 32,
    "start_time": "2022-03-19T09:54:03.970Z"
   },
   {
    "duration": 33,
    "start_time": "2022-03-19T09:57:13.623Z"
   },
   {
    "duration": 33,
    "start_time": "2022-03-19T09:57:26.024Z"
   },
   {
    "duration": 7,
    "start_time": "2022-03-19T09:58:23.949Z"
   },
   {
    "duration": 5,
    "start_time": "2022-03-19T09:58:54.347Z"
   },
   {
    "duration": 494,
    "start_time": "2022-03-19T09:59:59.703Z"
   },
   {
    "duration": 30,
    "start_time": "2022-03-19T10:00:00.199Z"
   },
   {
    "duration": 32,
    "start_time": "2022-03-19T10:00:00.231Z"
   },
   {
    "duration": 7,
    "start_time": "2022-03-19T10:00:00.266Z"
   },
   {
    "duration": 16,
    "start_time": "2022-03-19T10:00:00.274Z"
   },
   {
    "duration": 15,
    "start_time": "2022-03-19T10:00:00.309Z"
   },
   {
    "duration": 4,
    "start_time": "2022-03-19T10:00:00.326Z"
   },
   {
    "duration": 29,
    "start_time": "2022-03-19T10:00:00.331Z"
   },
   {
    "duration": 14,
    "start_time": "2022-03-19T10:00:00.362Z"
   },
   {
    "duration": 4,
    "start_time": "2022-03-19T10:00:00.378Z"
   },
   {
    "duration": 36,
    "start_time": "2022-03-19T10:00:00.384Z"
   },
   {
    "duration": 6,
    "start_time": "2022-03-19T10:06:04.751Z"
   },
   {
    "duration": 8,
    "start_time": "2022-03-19T10:06:38.679Z"
   },
   {
    "duration": 32,
    "start_time": "2022-03-19T10:07:05.330Z"
   },
   {
    "duration": 74,
    "start_time": "2022-03-19T10:09:01.147Z"
   },
   {
    "duration": 31,
    "start_time": "2022-03-19T10:09:07.153Z"
   },
   {
    "duration": 5,
    "start_time": "2022-03-19T10:12:33.883Z"
   },
   {
    "duration": 42,
    "start_time": "2022-03-19T10:12:37.532Z"
   },
   {
    "duration": 58,
    "start_time": "2022-03-19T10:15:27.970Z"
   },
   {
    "duration": 6,
    "start_time": "2022-03-19T10:15:33.385Z"
   },
   {
    "duration": 5,
    "start_time": "2022-03-19T10:15:57.260Z"
   },
   {
    "duration": 6,
    "start_time": "2022-03-19T10:16:30.068Z"
   },
   {
    "duration": 6,
    "start_time": "2022-03-19T10:16:36.574Z"
   },
   {
    "duration": 60,
    "start_time": "2022-03-19T10:17:59.380Z"
   },
   {
    "duration": 16,
    "start_time": "2022-03-19T10:19:38.327Z"
   },
   {
    "duration": 5,
    "start_time": "2022-03-19T10:27:58.136Z"
   },
   {
    "duration": 6,
    "start_time": "2022-03-19T10:28:46.689Z"
   },
   {
    "duration": 17,
    "start_time": "2022-03-19T10:29:30.378Z"
   },
   {
    "duration": 3,
    "start_time": "2022-03-19T10:30:44.195Z"
   },
   {
    "duration": 8,
    "start_time": "2022-03-19T10:31:30.622Z"
   },
   {
    "duration": 5,
    "start_time": "2022-03-19T10:31:44.083Z"
   },
   {
    "duration": 5,
    "start_time": "2022-03-19T10:33:09.462Z"
   },
   {
    "duration": 6,
    "start_time": "2022-03-19T10:33:41.551Z"
   },
   {
    "duration": 31,
    "start_time": "2022-03-19T10:34:18.962Z"
   },
   {
    "duration": 6,
    "start_time": "2022-03-19T10:44:16.071Z"
   },
   {
    "duration": 5,
    "start_time": "2022-03-19T10:44:35.846Z"
   },
   {
    "duration": 6,
    "start_time": "2022-03-19T10:44:55.163Z"
   },
   {
    "duration": 6,
    "start_time": "2022-03-19T10:45:38.075Z"
   },
   {
    "duration": 4,
    "start_time": "2022-03-19T10:46:42.420Z"
   },
   {
    "duration": 7,
    "start_time": "2022-03-19T10:46:55.783Z"
   },
   {
    "duration": 4,
    "start_time": "2022-03-19T10:47:05.168Z"
   },
   {
    "duration": 5,
    "start_time": "2022-03-19T10:50:05.951Z"
   },
   {
    "duration": 6,
    "start_time": "2022-03-19T11:04:33.012Z"
   },
   {
    "duration": 5,
    "start_time": "2022-03-19T11:06:00.015Z"
   },
   {
    "duration": 11,
    "start_time": "2022-03-19T11:06:30.979Z"
   },
   {
    "duration": 6,
    "start_time": "2022-03-19T11:06:34.613Z"
   },
   {
    "duration": 5,
    "start_time": "2022-03-19T11:14:33.661Z"
   },
   {
    "duration": 3,
    "start_time": "2022-03-19T11:15:01.745Z"
   },
   {
    "duration": 73,
    "start_time": "2022-03-19T11:15:41.418Z"
   },
   {
    "duration": 5,
    "start_time": "2022-03-19T11:16:10.774Z"
   },
   {
    "duration": 5,
    "start_time": "2022-03-19T11:16:23.757Z"
   },
   {
    "duration": 3,
    "start_time": "2022-03-19T11:16:41.162Z"
   },
   {
    "duration": 4,
    "start_time": "2022-03-19T11:16:46.630Z"
   },
   {
    "duration": 3,
    "start_time": "2022-03-19T11:16:59.447Z"
   },
   {
    "duration": 6,
    "start_time": "2022-03-19T11:19:07.424Z"
   },
   {
    "duration": 7,
    "start_time": "2022-03-19T11:19:15.262Z"
   },
   {
    "duration": 6,
    "start_time": "2022-03-19T11:19:25.821Z"
   },
   {
    "duration": 4,
    "start_time": "2022-03-19T11:19:31.229Z"
   },
   {
    "duration": 6,
    "start_time": "2022-03-19T11:20:43.831Z"
   },
   {
    "duration": 7,
    "start_time": "2022-03-19T11:21:38.158Z"
   },
   {
    "duration": 8,
    "start_time": "2022-03-19T11:21:56.064Z"
   },
   {
    "duration": 21,
    "start_time": "2022-03-19T11:22:36.532Z"
   },
   {
    "duration": 3,
    "start_time": "2022-03-19T11:24:02.677Z"
   },
   {
    "duration": 6,
    "start_time": "2022-03-19T11:24:08.931Z"
   },
   {
    "duration": 9,
    "start_time": "2022-03-19T11:25:06.173Z"
   },
   {
    "duration": 4,
    "start_time": "2022-03-19T11:26:56.455Z"
   },
   {
    "duration": 4,
    "start_time": "2022-03-19T11:28:42.870Z"
   },
   {
    "duration": 7,
    "start_time": "2022-03-19T11:29:07.006Z"
   },
   {
    "duration": 66,
    "start_time": "2022-03-19T11:30:14.150Z"
   },
   {
    "duration": 8,
    "start_time": "2022-03-19T11:39:50.248Z"
   },
   {
    "duration": 6,
    "start_time": "2022-03-19T11:39:57.318Z"
   },
   {
    "duration": 7,
    "start_time": "2022-03-19T11:46:28.507Z"
   },
   {
    "duration": 4,
    "start_time": "2022-03-19T11:49:05.499Z"
   },
   {
    "duration": 5,
    "start_time": "2022-03-19T11:49:10.678Z"
   },
   {
    "duration": 1025,
    "start_time": "2022-03-19T12:00:52.420Z"
   },
   {
    "duration": 484,
    "start_time": "2022-03-19T12:03:28.654Z"
   },
   {
    "duration": 28,
    "start_time": "2022-03-19T12:03:29.139Z"
   },
   {
    "duration": 46,
    "start_time": "2022-03-19T12:03:29.169Z"
   },
   {
    "duration": 8,
    "start_time": "2022-03-19T12:03:29.218Z"
   },
   {
    "duration": 12,
    "start_time": "2022-03-19T12:03:29.227Z"
   },
   {
    "duration": 18,
    "start_time": "2022-03-19T12:03:29.241Z"
   },
   {
    "duration": 4,
    "start_time": "2022-03-19T12:03:29.261Z"
   },
   {
    "duration": 6,
    "start_time": "2022-03-19T12:03:29.266Z"
   },
   {
    "duration": 42,
    "start_time": "2022-03-19T12:03:29.273Z"
   },
   {
    "duration": 5,
    "start_time": "2022-03-19T12:03:29.319Z"
   },
   {
    "duration": 9,
    "start_time": "2022-03-19T12:03:29.327Z"
   },
   {
    "duration": 7,
    "start_time": "2022-03-19T12:03:29.338Z"
   },
   {
    "duration": 6,
    "start_time": "2022-03-19T12:03:29.347Z"
   },
   {
    "duration": 5,
    "start_time": "2022-03-19T12:03:29.354Z"
   },
   {
    "duration": 7,
    "start_time": "2022-03-19T12:03:29.361Z"
   },
   {
    "duration": 902,
    "start_time": "2022-03-19T12:03:29.409Z"
   },
   {
    "duration": 5,
    "start_time": "2022-03-19T12:03:30.313Z"
   },
   {
    "duration": 60,
    "start_time": "2022-03-19T12:03:30.320Z"
   },
   {
    "duration": 5,
    "start_time": "2022-03-19T12:03:30.382Z"
   },
   {
    "duration": 13,
    "start_time": "2022-03-19T12:03:30.388Z"
   },
   {
    "duration": 16,
    "start_time": "2022-03-19T12:03:30.403Z"
   },
   {
    "duration": 106,
    "start_time": "2022-03-19T12:04:36.686Z"
   },
   {
    "duration": 8,
    "start_time": "2022-03-19T12:04:54.153Z"
   },
   {
    "duration": 8,
    "start_time": "2022-03-19T12:05:13.382Z"
   },
   {
    "duration": 12,
    "start_time": "2022-03-19T12:05:21.115Z"
   },
   {
    "duration": 1177,
    "start_time": "2022-03-19T12:06:40.326Z"
   },
   {
    "duration": 98,
    "start_time": "2022-03-19T16:45:39.759Z"
   },
   {
    "duration": 871,
    "start_time": "2022-03-19T16:45:54.389Z"
   },
   {
    "duration": 76,
    "start_time": "2022-03-19T16:45:55.264Z"
   },
   {
    "duration": 102,
    "start_time": "2022-03-19T16:45:55.343Z"
   },
   {
    "duration": 13,
    "start_time": "2022-03-19T16:45:55.448Z"
   },
   {
    "duration": 12,
    "start_time": "2022-03-19T16:45:55.486Z"
   },
   {
    "duration": 50,
    "start_time": "2022-03-19T16:45:55.500Z"
   },
   {
    "duration": 7,
    "start_time": "2022-03-19T16:45:55.564Z"
   },
   {
    "duration": 27,
    "start_time": "2022-03-19T16:45:55.585Z"
   },
   {
    "duration": 48,
    "start_time": "2022-03-19T16:45:55.615Z"
   },
   {
    "duration": 21,
    "start_time": "2022-03-19T16:45:55.670Z"
   },
   {
    "duration": 41,
    "start_time": "2022-03-19T16:45:55.693Z"
   },
   {
    "duration": 30,
    "start_time": "2022-03-19T16:45:55.736Z"
   },
   {
    "duration": 29,
    "start_time": "2022-03-19T16:45:55.770Z"
   },
   {
    "duration": 12,
    "start_time": "2022-03-19T16:45:55.805Z"
   },
   {
    "duration": 28,
    "start_time": "2022-03-19T16:45:55.821Z"
   },
   {
    "duration": 41,
    "start_time": "2022-03-19T16:45:55.853Z"
   },
   {
    "duration": 157,
    "start_time": "2022-03-19T16:45:55.897Z"
   },
   {
    "duration": 0,
    "start_time": "2022-03-19T16:45:56.057Z"
   },
   {
    "duration": 0,
    "start_time": "2022-03-19T16:45:56.060Z"
   },
   {
    "duration": 0,
    "start_time": "2022-03-19T16:45:56.062Z"
   },
   {
    "duration": 0,
    "start_time": "2022-03-19T16:45:56.065Z"
   },
   {
    "duration": 0,
    "start_time": "2022-03-19T16:45:56.066Z"
   },
   {
    "duration": 4,
    "start_time": "2022-03-19T16:48:48.901Z"
   },
   {
    "duration": 775,
    "start_time": "2022-03-19T16:48:56.587Z"
   },
   {
    "duration": 54,
    "start_time": "2022-03-19T16:48:57.366Z"
   },
   {
    "duration": 73,
    "start_time": "2022-03-19T16:48:57.422Z"
   },
   {
    "duration": 9,
    "start_time": "2022-03-19T16:48:57.500Z"
   },
   {
    "duration": 11,
    "start_time": "2022-03-19T16:48:57.511Z"
   },
   {
    "duration": 69,
    "start_time": "2022-03-19T16:48:57.524Z"
   },
   {
    "duration": 6,
    "start_time": "2022-03-19T16:48:57.595Z"
   },
   {
    "duration": 8,
    "start_time": "2022-03-19T16:48:57.603Z"
   },
   {
    "duration": 15,
    "start_time": "2022-03-19T16:48:57.613Z"
   },
   {
    "duration": 5,
    "start_time": "2022-03-19T16:48:57.632Z"
   },
   {
    "duration": 11,
    "start_time": "2022-03-19T16:48:57.684Z"
   },
   {
    "duration": 10,
    "start_time": "2022-03-19T16:48:57.697Z"
   },
   {
    "duration": 8,
    "start_time": "2022-03-19T16:48:57.709Z"
   },
   {
    "duration": 6,
    "start_time": "2022-03-19T16:48:57.720Z"
   },
   {
    "duration": 61,
    "start_time": "2022-03-19T16:48:57.728Z"
   },
   {
    "duration": 14,
    "start_time": "2022-03-19T16:48:57.792Z"
   },
   {
    "duration": 5,
    "start_time": "2022-03-19T16:48:57.808Z"
   },
   {
    "duration": 91,
    "start_time": "2022-03-19T16:48:57.815Z"
   },
   {
    "duration": 7,
    "start_time": "2022-03-19T16:48:57.908Z"
   },
   {
    "duration": 11,
    "start_time": "2022-03-19T16:48:57.918Z"
   },
   {
    "duration": 8,
    "start_time": "2022-03-19T16:48:57.931Z"
   },
   {
    "duration": 6,
    "start_time": "2022-03-19T16:49:13.497Z"
   },
   {
    "duration": 6,
    "start_time": "2022-03-19T17:02:25.443Z"
   },
   {
    "duration": 6,
    "start_time": "2022-03-19T17:05:16.013Z"
   },
   {
    "duration": 14,
    "start_time": "2022-03-19T17:05:38.087Z"
   },
   {
    "duration": 642,
    "start_time": "2022-03-19T17:06:44.860Z"
   },
   {
    "duration": 46,
    "start_time": "2022-03-19T17:06:45.505Z"
   },
   {
    "duration": 72,
    "start_time": "2022-03-19T17:06:45.554Z"
   },
   {
    "duration": 11,
    "start_time": "2022-03-19T17:06:45.631Z"
   },
   {
    "duration": 46,
    "start_time": "2022-03-19T17:06:45.645Z"
   },
   {
    "duration": 22,
    "start_time": "2022-03-19T17:06:45.693Z"
   },
   {
    "duration": 6,
    "start_time": "2022-03-19T17:06:45.718Z"
   },
   {
    "duration": 10,
    "start_time": "2022-03-19T17:06:45.727Z"
   },
   {
    "duration": 53,
    "start_time": "2022-03-19T17:06:45.739Z"
   },
   {
    "duration": 6,
    "start_time": "2022-03-19T17:06:45.797Z"
   },
   {
    "duration": 10,
    "start_time": "2022-03-19T17:06:45.806Z"
   },
   {
    "duration": 9,
    "start_time": "2022-03-19T17:06:45.818Z"
   },
   {
    "duration": 14,
    "start_time": "2022-03-19T17:06:45.885Z"
   },
   {
    "duration": 134,
    "start_time": "2022-03-19T17:06:45.902Z"
   },
   {
    "duration": 0,
    "start_time": "2022-03-19T17:06:46.038Z"
   },
   {
    "duration": 0,
    "start_time": "2022-03-19T17:06:46.040Z"
   },
   {
    "duration": 0,
    "start_time": "2022-03-19T17:06:46.042Z"
   },
   {
    "duration": 0,
    "start_time": "2022-03-19T17:06:46.043Z"
   },
   {
    "duration": 0,
    "start_time": "2022-03-19T17:06:46.045Z"
   },
   {
    "duration": 0,
    "start_time": "2022-03-19T17:06:46.046Z"
   },
   {
    "duration": 645,
    "start_time": "2022-03-19T17:07:17.038Z"
   },
   {
    "duration": 45,
    "start_time": "2022-03-19T17:07:17.686Z"
   },
   {
    "duration": 82,
    "start_time": "2022-03-19T17:07:17.733Z"
   },
   {
    "duration": 12,
    "start_time": "2022-03-19T17:07:17.818Z"
   },
   {
    "duration": 17,
    "start_time": "2022-03-19T17:07:17.835Z"
   },
   {
    "duration": 22,
    "start_time": "2022-03-19T17:07:17.885Z"
   },
   {
    "duration": 13,
    "start_time": "2022-03-19T17:07:17.910Z"
   },
   {
    "duration": 24,
    "start_time": "2022-03-19T17:07:17.925Z"
   },
   {
    "duration": 38,
    "start_time": "2022-03-19T17:07:17.952Z"
   },
   {
    "duration": 14,
    "start_time": "2022-03-19T17:07:17.993Z"
   },
   {
    "duration": 22,
    "start_time": "2022-03-19T17:07:18.010Z"
   },
   {
    "duration": 13,
    "start_time": "2022-03-19T17:07:18.035Z"
   },
   {
    "duration": 40,
    "start_time": "2022-03-19T17:07:18.051Z"
   },
   {
    "duration": 114,
    "start_time": "2022-03-19T17:07:18.095Z"
   },
   {
    "duration": 0,
    "start_time": "2022-03-19T17:07:18.212Z"
   },
   {
    "duration": 0,
    "start_time": "2022-03-19T17:07:18.213Z"
   },
   {
    "duration": 0,
    "start_time": "2022-03-19T17:07:18.215Z"
   },
   {
    "duration": 0,
    "start_time": "2022-03-19T17:07:18.217Z"
   },
   {
    "duration": 0,
    "start_time": "2022-03-19T17:07:18.218Z"
   },
   {
    "duration": 0,
    "start_time": "2022-03-19T17:07:18.219Z"
   },
   {
    "duration": 16,
    "start_time": "2022-03-19T17:09:01.094Z"
   },
   {
    "duration": 8,
    "start_time": "2022-03-19T17:09:19.970Z"
   },
   {
    "duration": 6,
    "start_time": "2022-03-19T17:11:08.691Z"
   },
   {
    "duration": 14,
    "start_time": "2022-03-19T17:11:58.564Z"
   },
   {
    "duration": 44,
    "start_time": "2022-03-19T17:13:07.970Z"
   },
   {
    "duration": 95,
    "start_time": "2022-03-19T17:13:44.820Z"
   },
   {
    "duration": 601,
    "start_time": "2022-03-20T08:41:06.870Z"
   },
   {
    "duration": 43,
    "start_time": "2022-03-20T08:41:07.474Z"
   },
   {
    "duration": 64,
    "start_time": "2022-03-20T08:41:07.520Z"
   },
   {
    "duration": 9,
    "start_time": "2022-03-20T08:41:07.587Z"
   },
   {
    "duration": 22,
    "start_time": "2022-03-20T08:41:07.599Z"
   },
   {
    "duration": 39,
    "start_time": "2022-03-20T08:41:07.624Z"
   },
   {
    "duration": 28,
    "start_time": "2022-03-20T08:41:07.665Z"
   },
   {
    "duration": 18,
    "start_time": "2022-03-20T08:41:07.695Z"
   },
   {
    "duration": 40,
    "start_time": "2022-03-20T08:41:07.716Z"
   },
   {
    "duration": 7,
    "start_time": "2022-03-20T08:41:07.759Z"
   },
   {
    "duration": 28,
    "start_time": "2022-03-20T08:41:07.768Z"
   },
   {
    "duration": 12,
    "start_time": "2022-03-20T08:41:07.799Z"
   },
   {
    "duration": 24,
    "start_time": "2022-03-20T08:41:07.813Z"
   },
   {
    "duration": 9,
    "start_time": "2022-03-20T08:41:07.840Z"
   },
   {
    "duration": 18,
    "start_time": "2022-03-20T08:41:07.851Z"
   },
   {
    "duration": 31,
    "start_time": "2022-03-20T08:41:07.871Z"
   },
   {
    "duration": 43,
    "start_time": "2022-03-20T08:41:07.905Z"
   },
   {
    "duration": 7,
    "start_time": "2022-03-20T08:41:07.951Z"
   },
   {
    "duration": 24,
    "start_time": "2022-03-20T08:41:07.960Z"
   },
   {
    "duration": 8,
    "start_time": "2022-03-20T08:41:07.986Z"
   },
   {
    "duration": 8,
    "start_time": "2022-03-20T08:41:29.835Z"
   },
   {
    "duration": 603,
    "start_time": "2022-03-20T08:42:18.362Z"
   },
   {
    "duration": 45,
    "start_time": "2022-03-20T08:42:18.968Z"
   },
   {
    "duration": 43,
    "start_time": "2022-03-20T08:42:19.016Z"
   },
   {
    "duration": 10,
    "start_time": "2022-03-20T08:42:19.082Z"
   },
   {
    "duration": 13,
    "start_time": "2022-03-20T08:42:19.094Z"
   },
   {
    "duration": 20,
    "start_time": "2022-03-20T08:42:19.110Z"
   },
   {
    "duration": 6,
    "start_time": "2022-03-20T08:42:19.132Z"
   },
   {
    "duration": 8,
    "start_time": "2022-03-20T08:42:19.183Z"
   },
   {
    "duration": 21,
    "start_time": "2022-03-20T08:42:19.193Z"
   },
   {
    "duration": 8,
    "start_time": "2022-03-20T08:42:19.218Z"
   },
   {
    "duration": 7,
    "start_time": "2022-03-20T08:42:19.228Z"
   },
   {
    "duration": 7,
    "start_time": "2022-03-20T08:42:19.237Z"
   },
   {
    "duration": 13,
    "start_time": "2022-03-20T08:42:19.281Z"
   },
   {
    "duration": 9,
    "start_time": "2022-03-20T08:42:19.296Z"
   },
   {
    "duration": 4,
    "start_time": "2022-03-20T08:42:19.308Z"
   },
   {
    "duration": 14,
    "start_time": "2022-03-20T08:42:19.315Z"
   },
   {
    "duration": 81,
    "start_time": "2022-03-20T08:42:19.331Z"
   },
   {
    "duration": 8,
    "start_time": "2022-03-20T08:42:19.414Z"
   },
   {
    "duration": 6,
    "start_time": "2022-03-20T08:42:19.425Z"
   },
   {
    "duration": 7,
    "start_time": "2022-03-20T08:42:19.433Z"
   },
   {
    "duration": 9,
    "start_time": "2022-03-20T08:43:03.388Z"
   },
   {
    "duration": 8,
    "start_time": "2022-03-20T08:43:12.726Z"
   },
   {
    "duration": 9,
    "start_time": "2022-03-20T08:44:09.819Z"
   },
   {
    "duration": 45,
    "start_time": "2022-03-20T08:45:39.367Z"
   },
   {
    "duration": 9,
    "start_time": "2022-03-20T08:46:17.807Z"
   },
   {
    "duration": 15,
    "start_time": "2022-03-20T08:46:19.710Z"
   },
   {
    "duration": 6,
    "start_time": "2022-03-20T08:46:22.667Z"
   },
   {
    "duration": 8,
    "start_time": "2022-03-20T08:46:24.084Z"
   },
   {
    "duration": 567,
    "start_time": "2022-03-20T08:46:50.507Z"
   },
   {
    "duration": 45,
    "start_time": "2022-03-20T08:46:51.077Z"
   },
   {
    "duration": 60,
    "start_time": "2022-03-20T08:46:51.125Z"
   },
   {
    "duration": 9,
    "start_time": "2022-03-20T08:46:51.187Z"
   },
   {
    "duration": 12,
    "start_time": "2022-03-20T08:46:51.199Z"
   },
   {
    "duration": 20,
    "start_time": "2022-03-20T08:46:51.214Z"
   },
   {
    "duration": 47,
    "start_time": "2022-03-20T08:46:51.236Z"
   },
   {
    "duration": 6,
    "start_time": "2022-03-20T08:46:51.285Z"
   },
   {
    "duration": 13,
    "start_time": "2022-03-20T08:46:51.293Z"
   },
   {
    "duration": 7,
    "start_time": "2022-03-20T08:46:51.309Z"
   },
   {
    "duration": 8,
    "start_time": "2022-03-20T08:46:51.319Z"
   },
   {
    "duration": 53,
    "start_time": "2022-03-20T08:46:51.329Z"
   },
   {
    "duration": 46,
    "start_time": "2022-03-20T08:46:51.386Z"
   },
   {
    "duration": 45,
    "start_time": "2022-03-20T08:46:51.438Z"
   },
   {
    "duration": 9,
    "start_time": "2022-03-20T08:46:51.485Z"
   },
   {
    "duration": 11,
    "start_time": "2022-03-20T08:46:51.496Z"
   },
   {
    "duration": 14,
    "start_time": "2022-03-20T08:46:51.509Z"
   },
   {
    "duration": 71,
    "start_time": "2022-03-20T08:46:51.525Z"
   },
   {
    "duration": 6,
    "start_time": "2022-03-20T08:46:51.598Z"
   },
   {
    "duration": 8,
    "start_time": "2022-03-20T08:46:51.606Z"
   },
   {
    "duration": 8,
    "start_time": "2022-03-20T08:46:51.617Z"
   },
   {
    "duration": 11,
    "start_time": "2022-03-20T08:47:42.393Z"
   },
   {
    "duration": 10,
    "start_time": "2022-03-20T08:49:00.732Z"
   },
   {
    "duration": 610,
    "start_time": "2022-03-20T08:49:06.963Z"
   },
   {
    "duration": 44,
    "start_time": "2022-03-20T08:49:07.577Z"
   },
   {
    "duration": 60,
    "start_time": "2022-03-20T08:49:07.623Z"
   },
   {
    "duration": 9,
    "start_time": "2022-03-20T08:49:07.686Z"
   },
   {
    "duration": 27,
    "start_time": "2022-03-20T08:49:07.697Z"
   },
   {
    "duration": 39,
    "start_time": "2022-03-20T08:49:07.726Z"
   },
   {
    "duration": 18,
    "start_time": "2022-03-20T08:49:07.768Z"
   },
   {
    "duration": 32,
    "start_time": "2022-03-20T08:49:07.789Z"
   },
   {
    "duration": 61,
    "start_time": "2022-03-20T08:49:07.824Z"
   },
   {
    "duration": 19,
    "start_time": "2022-03-20T08:49:07.887Z"
   },
   {
    "duration": 23,
    "start_time": "2022-03-20T08:49:07.909Z"
   },
   {
    "duration": 24,
    "start_time": "2022-03-20T08:49:07.934Z"
   },
   {
    "duration": 15,
    "start_time": "2022-03-20T08:49:07.960Z"
   },
   {
    "duration": 13,
    "start_time": "2022-03-20T08:49:07.980Z"
   },
   {
    "duration": 38,
    "start_time": "2022-03-20T08:49:07.996Z"
   },
   {
    "duration": 19,
    "start_time": "2022-03-20T08:49:08.036Z"
   },
   {
    "duration": 28,
    "start_time": "2022-03-20T08:49:08.057Z"
   },
   {
    "duration": 23,
    "start_time": "2022-03-20T08:49:08.087Z"
   },
   {
    "duration": 53,
    "start_time": "2022-03-20T08:49:08.112Z"
   },
   {
    "duration": 15,
    "start_time": "2022-03-20T08:49:08.167Z"
   },
   {
    "duration": 21,
    "start_time": "2022-03-20T08:49:08.184Z"
   },
   {
    "duration": 31,
    "start_time": "2022-03-20T08:49:08.207Z"
   },
   {
    "duration": 92,
    "start_time": "2022-03-20T08:58:53.846Z"
   },
   {
    "duration": 8,
    "start_time": "2022-03-20T08:59:00.277Z"
   },
   {
    "duration": 8,
    "start_time": "2022-03-20T08:59:02.802Z"
   },
   {
    "duration": 6,
    "start_time": "2022-03-20T09:02:18.093Z"
   },
   {
    "duration": 585,
    "start_time": "2022-03-20T09:03:14.890Z"
   },
   {
    "duration": 48,
    "start_time": "2022-03-20T09:03:15.478Z"
   },
   {
    "duration": 65,
    "start_time": "2022-03-20T09:03:15.529Z"
   },
   {
    "duration": 9,
    "start_time": "2022-03-20T09:03:15.597Z"
   },
   {
    "duration": 13,
    "start_time": "2022-03-20T09:03:15.608Z"
   },
   {
    "duration": 20,
    "start_time": "2022-03-20T09:03:15.623Z"
   },
   {
    "duration": 39,
    "start_time": "2022-03-20T09:03:15.646Z"
   },
   {
    "duration": 9,
    "start_time": "2022-03-20T09:03:15.687Z"
   },
   {
    "duration": 11,
    "start_time": "2022-03-20T09:03:15.699Z"
   },
   {
    "duration": 4,
    "start_time": "2022-03-20T09:03:15.717Z"
   },
   {
    "duration": 10,
    "start_time": "2022-03-20T09:03:15.724Z"
   },
   {
    "duration": 7,
    "start_time": "2022-03-20T09:03:15.782Z"
   },
   {
    "duration": 10,
    "start_time": "2022-03-20T09:03:15.792Z"
   },
   {
    "duration": 8,
    "start_time": "2022-03-20T09:03:15.804Z"
   },
   {
    "duration": 152,
    "start_time": "2022-03-20T09:03:15.814Z"
   },
   {
    "duration": 0,
    "start_time": "2022-03-20T09:03:15.968Z"
   },
   {
    "duration": 0,
    "start_time": "2022-03-20T09:03:15.970Z"
   },
   {
    "duration": 0,
    "start_time": "2022-03-20T09:03:15.971Z"
   },
   {
    "duration": 0,
    "start_time": "2022-03-20T09:03:15.973Z"
   },
   {
    "duration": 0,
    "start_time": "2022-03-20T09:03:15.975Z"
   },
   {
    "duration": 0,
    "start_time": "2022-03-20T09:03:15.976Z"
   },
   {
    "duration": 0,
    "start_time": "2022-03-20T09:03:15.978Z"
   },
   {
    "duration": 0,
    "start_time": "2022-03-20T09:03:15.979Z"
   },
   {
    "duration": 7,
    "start_time": "2022-03-20T09:06:03.611Z"
   },
   {
    "duration": 8,
    "start_time": "2022-03-20T09:06:06.931Z"
   },
   {
    "duration": 6,
    "start_time": "2022-03-20T09:06:09.399Z"
   },
   {
    "duration": 8,
    "start_time": "2022-03-20T09:06:11.380Z"
   },
   {
    "duration": 7,
    "start_time": "2022-03-20T09:06:27.314Z"
   },
   {
    "duration": 655,
    "start_time": "2022-03-20T09:07:55.652Z"
   },
   {
    "duration": 45,
    "start_time": "2022-03-20T09:07:56.311Z"
   },
   {
    "duration": 69,
    "start_time": "2022-03-20T09:07:56.359Z"
   },
   {
    "duration": 11,
    "start_time": "2022-03-20T09:07:56.431Z"
   },
   {
    "duration": 11,
    "start_time": "2022-03-20T09:07:56.482Z"
   },
   {
    "duration": 23,
    "start_time": "2022-03-20T09:07:56.496Z"
   },
   {
    "duration": 7,
    "start_time": "2022-03-20T09:07:56.522Z"
   },
   {
    "duration": 12,
    "start_time": "2022-03-20T09:07:56.532Z"
   },
   {
    "duration": 12,
    "start_time": "2022-03-20T09:07:56.583Z"
   },
   {
    "duration": 8,
    "start_time": "2022-03-20T09:07:56.598Z"
   },
   {
    "duration": 14,
    "start_time": "2022-03-20T09:07:56.608Z"
   },
   {
    "duration": 10,
    "start_time": "2022-03-20T09:07:56.624Z"
   },
   {
    "duration": 49,
    "start_time": "2022-03-20T09:07:56.636Z"
   },
   {
    "duration": 9,
    "start_time": "2022-03-20T09:07:56.689Z"
   },
   {
    "duration": 166,
    "start_time": "2022-03-20T09:07:56.700Z"
   },
   {
    "duration": 0,
    "start_time": "2022-03-20T09:07:56.869Z"
   },
   {
    "duration": 0,
    "start_time": "2022-03-20T09:07:56.872Z"
   },
   {
    "duration": 0,
    "start_time": "2022-03-20T09:07:56.874Z"
   },
   {
    "duration": 1,
    "start_time": "2022-03-20T09:07:56.876Z"
   },
   {
    "duration": 0,
    "start_time": "2022-03-20T09:07:56.879Z"
   },
   {
    "duration": 0,
    "start_time": "2022-03-20T09:07:56.880Z"
   },
   {
    "duration": 0,
    "start_time": "2022-03-20T09:07:56.883Z"
   },
   {
    "duration": 0,
    "start_time": "2022-03-20T09:07:56.885Z"
   },
   {
    "duration": 6,
    "start_time": "2022-03-20T09:29:12.332Z"
   },
   {
    "duration": 7,
    "start_time": "2022-03-20T09:30:58.331Z"
   },
   {
    "duration": 600,
    "start_time": "2022-03-20T09:31:08.749Z"
   },
   {
    "duration": 54,
    "start_time": "2022-03-20T09:31:09.352Z"
   },
   {
    "duration": 44,
    "start_time": "2022-03-20T09:31:09.408Z"
   },
   {
    "duration": 30,
    "start_time": "2022-03-20T09:31:09.455Z"
   },
   {
    "duration": 10,
    "start_time": "2022-03-20T09:31:09.487Z"
   },
   {
    "duration": 22,
    "start_time": "2022-03-20T09:31:09.499Z"
   },
   {
    "duration": 10,
    "start_time": "2022-03-20T09:31:09.523Z"
   },
   {
    "duration": 6,
    "start_time": "2022-03-20T09:31:09.535Z"
   },
   {
    "duration": 7,
    "start_time": "2022-03-20T09:31:09.583Z"
   },
   {
    "duration": 10,
    "start_time": "2022-03-20T09:31:09.596Z"
   },
   {
    "duration": 6,
    "start_time": "2022-03-20T09:31:09.609Z"
   },
   {
    "duration": 12,
    "start_time": "2022-03-20T09:31:09.617Z"
   },
   {
    "duration": 9,
    "start_time": "2022-03-20T09:31:09.631Z"
   },
   {
    "duration": 7,
    "start_time": "2022-03-20T09:31:09.683Z"
   },
   {
    "duration": 8,
    "start_time": "2022-03-20T09:31:09.692Z"
   },
   {
    "duration": 9,
    "start_time": "2022-03-20T09:31:09.702Z"
   },
   {
    "duration": 137,
    "start_time": "2022-03-20T09:31:09.713Z"
   },
   {
    "duration": 0,
    "start_time": "2022-03-20T09:31:09.853Z"
   },
   {
    "duration": 0,
    "start_time": "2022-03-20T09:31:09.854Z"
   },
   {
    "duration": 0,
    "start_time": "2022-03-20T09:31:09.856Z"
   },
   {
    "duration": 0,
    "start_time": "2022-03-20T09:31:09.858Z"
   },
   {
    "duration": 0,
    "start_time": "2022-03-20T09:31:09.859Z"
   },
   {
    "duration": 0,
    "start_time": "2022-03-20T09:31:09.860Z"
   },
   {
    "duration": 0,
    "start_time": "2022-03-20T09:31:09.862Z"
   },
   {
    "duration": 0,
    "start_time": "2022-03-20T09:31:09.863Z"
   },
   {
    "duration": 791,
    "start_time": "2022-03-20T09:32:13.197Z"
   },
   {
    "duration": 43,
    "start_time": "2022-03-20T09:32:13.991Z"
   },
   {
    "duration": 60,
    "start_time": "2022-03-20T09:32:14.037Z"
   },
   {
    "duration": 9,
    "start_time": "2022-03-20T09:32:14.099Z"
   },
   {
    "duration": 8,
    "start_time": "2022-03-20T09:32:14.111Z"
   },
   {
    "duration": 11,
    "start_time": "2022-03-20T09:32:14.122Z"
   },
   {
    "duration": 59,
    "start_time": "2022-03-20T09:32:14.136Z"
   },
   {
    "duration": 6,
    "start_time": "2022-03-20T09:32:14.197Z"
   },
   {
    "duration": 11,
    "start_time": "2022-03-20T09:32:14.205Z"
   },
   {
    "duration": 10,
    "start_time": "2022-03-20T09:32:14.218Z"
   },
   {
    "duration": 6,
    "start_time": "2022-03-20T09:32:14.230Z"
   },
   {
    "duration": 47,
    "start_time": "2022-03-20T09:32:14.238Z"
   },
   {
    "duration": 9,
    "start_time": "2022-03-20T09:32:14.287Z"
   },
   {
    "duration": 7,
    "start_time": "2022-03-20T09:32:14.300Z"
   },
   {
    "duration": 7,
    "start_time": "2022-03-20T09:32:14.309Z"
   },
   {
    "duration": 10,
    "start_time": "2022-03-20T09:32:14.319Z"
   },
   {
    "duration": 152,
    "start_time": "2022-03-20T09:32:14.332Z"
   },
   {
    "duration": 0,
    "start_time": "2022-03-20T09:32:14.486Z"
   },
   {
    "duration": 0,
    "start_time": "2022-03-20T09:32:14.488Z"
   },
   {
    "duration": 0,
    "start_time": "2022-03-20T09:32:14.490Z"
   },
   {
    "duration": 0,
    "start_time": "2022-03-20T09:32:14.491Z"
   },
   {
    "duration": 0,
    "start_time": "2022-03-20T09:32:14.494Z"
   },
   {
    "duration": 0,
    "start_time": "2022-03-20T09:32:14.497Z"
   },
   {
    "duration": 0,
    "start_time": "2022-03-20T09:32:14.499Z"
   },
   {
    "duration": 0,
    "start_time": "2022-03-20T09:32:14.502Z"
   },
   {
    "duration": 8,
    "start_time": "2022-03-20T10:21:26.331Z"
   },
   {
    "duration": 8,
    "start_time": "2022-03-20T10:21:48.251Z"
   },
   {
    "duration": 8,
    "start_time": "2022-03-20T10:25:23.214Z"
   },
   {
    "duration": 9,
    "start_time": "2022-03-20T10:25:41.009Z"
   },
   {
    "duration": 10,
    "start_time": "2022-03-20T10:25:58.032Z"
   },
   {
    "duration": 8,
    "start_time": "2022-03-20T10:26:03.176Z"
   },
   {
    "duration": 617,
    "start_time": "2022-03-20T10:26:54.441Z"
   },
   {
    "duration": 49,
    "start_time": "2022-03-20T10:26:55.061Z"
   },
   {
    "duration": 9,
    "start_time": "2022-03-20T10:26:55.113Z"
   },
   {
    "duration": 6,
    "start_time": "2022-03-20T10:26:55.125Z"
   },
   {
    "duration": 72,
    "start_time": "2022-03-20T10:26:55.133Z"
   },
   {
    "duration": 10,
    "start_time": "2022-03-20T10:26:55.207Z"
   },
   {
    "duration": 13,
    "start_time": "2022-03-20T10:26:55.219Z"
   },
   {
    "duration": 48,
    "start_time": "2022-03-20T10:26:55.235Z"
   },
   {
    "duration": 5,
    "start_time": "2022-03-20T10:26:55.285Z"
   },
   {
    "duration": 9,
    "start_time": "2022-03-20T10:26:55.294Z"
   },
   {
    "duration": 7,
    "start_time": "2022-03-20T10:26:55.306Z"
   },
   {
    "duration": 6,
    "start_time": "2022-03-20T10:26:55.315Z"
   },
   {
    "duration": 8,
    "start_time": "2022-03-20T10:26:55.323Z"
   },
   {
    "duration": 54,
    "start_time": "2022-03-20T10:26:55.333Z"
   },
   {
    "duration": 182,
    "start_time": "2022-03-20T10:26:55.389Z"
   },
   {
    "duration": 0,
    "start_time": "2022-03-20T10:26:55.573Z"
   },
   {
    "duration": 0,
    "start_time": "2022-03-20T10:26:55.574Z"
   },
   {
    "duration": 0,
    "start_time": "2022-03-20T10:26:55.576Z"
   },
   {
    "duration": 0,
    "start_time": "2022-03-20T10:26:55.578Z"
   },
   {
    "duration": 0,
    "start_time": "2022-03-20T10:26:55.579Z"
   },
   {
    "duration": 0,
    "start_time": "2022-03-20T10:26:55.581Z"
   },
   {
    "duration": 0,
    "start_time": "2022-03-20T10:26:55.582Z"
   },
   {
    "duration": 1,
    "start_time": "2022-03-20T10:26:55.583Z"
   },
   {
    "duration": 7,
    "start_time": "2022-03-20T10:30:51.667Z"
   },
   {
    "duration": 5,
    "start_time": "2022-03-20T10:31:26.013Z"
   },
   {
    "duration": 8,
    "start_time": "2022-03-20T10:31:58.644Z"
   },
   {
    "duration": 8,
    "start_time": "2022-03-20T10:33:35.020Z"
   },
   {
    "duration": 596,
    "start_time": "2022-03-20T10:33:44.970Z"
   },
   {
    "duration": 42,
    "start_time": "2022-03-20T10:33:45.569Z"
   },
   {
    "duration": 158,
    "start_time": "2022-03-20T10:33:45.613Z"
   },
   {
    "duration": 0,
    "start_time": "2022-03-20T10:33:45.774Z"
   },
   {
    "duration": 0,
    "start_time": "2022-03-20T10:33:45.776Z"
   },
   {
    "duration": 0,
    "start_time": "2022-03-20T10:33:45.778Z"
   },
   {
    "duration": 0,
    "start_time": "2022-03-20T10:33:45.780Z"
   },
   {
    "duration": 0,
    "start_time": "2022-03-20T10:33:45.781Z"
   },
   {
    "duration": 0,
    "start_time": "2022-03-20T10:33:45.783Z"
   },
   {
    "duration": 0,
    "start_time": "2022-03-20T10:33:45.784Z"
   },
   {
    "duration": 0,
    "start_time": "2022-03-20T10:33:45.786Z"
   },
   {
    "duration": 0,
    "start_time": "2022-03-20T10:33:45.787Z"
   },
   {
    "duration": 0,
    "start_time": "2022-03-20T10:33:45.789Z"
   },
   {
    "duration": 0,
    "start_time": "2022-03-20T10:33:45.790Z"
   },
   {
    "duration": 0,
    "start_time": "2022-03-20T10:33:45.792Z"
   },
   {
    "duration": 0,
    "start_time": "2022-03-20T10:33:45.794Z"
   },
   {
    "duration": 0,
    "start_time": "2022-03-20T10:33:45.796Z"
   },
   {
    "duration": 0,
    "start_time": "2022-03-20T10:33:45.797Z"
   },
   {
    "duration": 0,
    "start_time": "2022-03-20T10:33:45.798Z"
   },
   {
    "duration": 0,
    "start_time": "2022-03-20T10:33:45.800Z"
   },
   {
    "duration": 0,
    "start_time": "2022-03-20T10:33:45.801Z"
   },
   {
    "duration": 0,
    "start_time": "2022-03-20T10:33:45.803Z"
   },
   {
    "duration": 0,
    "start_time": "2022-03-20T10:33:45.805Z"
   },
   {
    "duration": 0,
    "start_time": "2022-03-20T10:33:45.806Z"
   },
   {
    "duration": 0,
    "start_time": "2022-03-20T10:33:45.807Z"
   },
   {
    "duration": 11,
    "start_time": "2022-03-20T10:34:04.856Z"
   },
   {
    "duration": 627,
    "start_time": "2022-03-20T10:34:13.564Z"
   },
   {
    "duration": 47,
    "start_time": "2022-03-20T10:34:14.195Z"
   },
   {
    "duration": 149,
    "start_time": "2022-03-20T10:34:14.244Z"
   },
   {
    "duration": 0,
    "start_time": "2022-03-20T10:34:14.397Z"
   },
   {
    "duration": 1,
    "start_time": "2022-03-20T10:34:14.398Z"
   },
   {
    "duration": 0,
    "start_time": "2022-03-20T10:34:14.400Z"
   },
   {
    "duration": 0,
    "start_time": "2022-03-20T10:34:14.402Z"
   },
   {
    "duration": 0,
    "start_time": "2022-03-20T10:34:14.403Z"
   },
   {
    "duration": 0,
    "start_time": "2022-03-20T10:34:14.405Z"
   },
   {
    "duration": 0,
    "start_time": "2022-03-20T10:34:14.406Z"
   },
   {
    "duration": 0,
    "start_time": "2022-03-20T10:34:14.408Z"
   },
   {
    "duration": 0,
    "start_time": "2022-03-20T10:34:14.409Z"
   },
   {
    "duration": 0,
    "start_time": "2022-03-20T10:34:14.411Z"
   },
   {
    "duration": 0,
    "start_time": "2022-03-20T10:34:14.412Z"
   },
   {
    "duration": 0,
    "start_time": "2022-03-20T10:34:14.414Z"
   },
   {
    "duration": 0,
    "start_time": "2022-03-20T10:34:14.416Z"
   },
   {
    "duration": 0,
    "start_time": "2022-03-20T10:34:14.418Z"
   },
   {
    "duration": 0,
    "start_time": "2022-03-20T10:34:14.419Z"
   },
   {
    "duration": 0,
    "start_time": "2022-03-20T10:34:14.420Z"
   },
   {
    "duration": 0,
    "start_time": "2022-03-20T10:34:14.421Z"
   },
   {
    "duration": 0,
    "start_time": "2022-03-20T10:34:14.423Z"
   },
   {
    "duration": 0,
    "start_time": "2022-03-20T10:34:14.425Z"
   },
   {
    "duration": 0,
    "start_time": "2022-03-20T10:34:14.426Z"
   },
   {
    "duration": 0,
    "start_time": "2022-03-20T10:34:14.427Z"
   },
   {
    "duration": 0,
    "start_time": "2022-03-20T10:34:14.429Z"
   },
   {
    "duration": 10,
    "start_time": "2022-03-20T10:34:38.944Z"
   },
   {
    "duration": 8,
    "start_time": "2022-03-20T10:34:49.963Z"
   },
   {
    "duration": 9,
    "start_time": "2022-03-20T10:35:20.139Z"
   },
   {
    "duration": 6,
    "start_time": "2022-03-20T10:36:15.275Z"
   },
   {
    "duration": 6,
    "start_time": "2022-03-20T10:36:37.725Z"
   },
   {
    "duration": 6,
    "start_time": "2022-03-20T10:36:44.696Z"
   },
   {
    "duration": 8,
    "start_time": "2022-03-20T10:45:51.798Z"
   },
   {
    "duration": 9,
    "start_time": "2022-03-20T10:46:30.836Z"
   },
   {
    "duration": 560,
    "start_time": "2022-03-20T10:49:41.299Z"
   },
   {
    "duration": 46,
    "start_time": "2022-03-20T10:49:41.862Z"
   },
   {
    "duration": 9,
    "start_time": "2022-03-20T10:49:41.910Z"
   },
   {
    "duration": 8,
    "start_time": "2022-03-20T10:49:41.922Z"
   },
   {
    "duration": 7,
    "start_time": "2022-03-20T10:49:41.935Z"
   },
   {
    "duration": 5,
    "start_time": "2022-03-20T10:49:41.983Z"
   },
   {
    "duration": 45,
    "start_time": "2022-03-20T10:49:41.990Z"
   },
   {
    "duration": 10,
    "start_time": "2022-03-20T10:49:42.037Z"
   },
   {
    "duration": 41,
    "start_time": "2022-03-20T10:49:42.049Z"
   },
   {
    "duration": 21,
    "start_time": "2022-03-20T10:49:42.092Z"
   },
   {
    "duration": 8,
    "start_time": "2022-03-20T10:49:42.115Z"
   },
   {
    "duration": 6,
    "start_time": "2022-03-20T10:49:42.125Z"
   },
   {
    "duration": 49,
    "start_time": "2022-03-20T10:49:42.133Z"
   },
   {
    "duration": 12,
    "start_time": "2022-03-20T10:49:42.187Z"
   },
   {
    "duration": 5,
    "start_time": "2022-03-20T10:49:42.201Z"
   },
   {
    "duration": 8,
    "start_time": "2022-03-20T10:49:42.208Z"
   },
   {
    "duration": 7,
    "start_time": "2022-03-20T10:49:42.218Z"
   },
   {
    "duration": 147,
    "start_time": "2022-03-20T10:49:42.228Z"
   },
   {
    "duration": 0,
    "start_time": "2022-03-20T10:49:42.377Z"
   },
   {
    "duration": 0,
    "start_time": "2022-03-20T10:49:42.379Z"
   },
   {
    "duration": 1,
    "start_time": "2022-03-20T10:49:42.380Z"
   },
   {
    "duration": 0,
    "start_time": "2022-03-20T10:49:42.383Z"
   },
   {
    "duration": 0,
    "start_time": "2022-03-20T10:49:42.385Z"
   },
   {
    "duration": 0,
    "start_time": "2022-03-20T10:49:42.386Z"
   },
   {
    "duration": 0,
    "start_time": "2022-03-20T10:49:42.388Z"
   },
   {
    "duration": 0,
    "start_time": "2022-03-20T10:49:42.391Z"
   },
   {
    "duration": 550,
    "start_time": "2022-03-20T10:51:21.123Z"
   },
   {
    "duration": 44,
    "start_time": "2022-03-20T10:51:21.676Z"
   },
   {
    "duration": 8,
    "start_time": "2022-03-20T10:51:21.723Z"
   },
   {
    "duration": 6,
    "start_time": "2022-03-20T10:51:21.734Z"
   },
   {
    "duration": 41,
    "start_time": "2022-03-20T10:51:21.742Z"
   },
   {
    "duration": 6,
    "start_time": "2022-03-20T10:51:21.786Z"
   },
   {
    "duration": 45,
    "start_time": "2022-03-20T10:51:21.795Z"
   },
   {
    "duration": 31,
    "start_time": "2022-03-20T10:51:21.852Z"
   },
   {
    "duration": 11,
    "start_time": "2022-03-20T10:51:21.886Z"
   },
   {
    "duration": 20,
    "start_time": "2022-03-20T10:51:21.901Z"
   },
   {
    "duration": 8,
    "start_time": "2022-03-20T10:51:21.923Z"
   },
   {
    "duration": 50,
    "start_time": "2022-03-20T10:51:21.933Z"
   },
   {
    "duration": 7,
    "start_time": "2022-03-20T10:51:21.985Z"
   },
   {
    "duration": 10,
    "start_time": "2022-03-20T10:51:21.995Z"
   },
   {
    "duration": 5,
    "start_time": "2022-03-20T10:51:22.007Z"
   },
   {
    "duration": 9,
    "start_time": "2022-03-20T10:51:22.015Z"
   },
   {
    "duration": 56,
    "start_time": "2022-03-20T10:51:22.027Z"
   },
   {
    "duration": 146,
    "start_time": "2022-03-20T10:51:22.086Z"
   },
   {
    "duration": 0,
    "start_time": "2022-03-20T10:51:22.234Z"
   },
   {
    "duration": 0,
    "start_time": "2022-03-20T10:51:22.236Z"
   },
   {
    "duration": 0,
    "start_time": "2022-03-20T10:51:22.238Z"
   },
   {
    "duration": 0,
    "start_time": "2022-03-20T10:51:22.240Z"
   },
   {
    "duration": 0,
    "start_time": "2022-03-20T10:51:22.242Z"
   },
   {
    "duration": 0,
    "start_time": "2022-03-20T10:51:22.243Z"
   },
   {
    "duration": 0,
    "start_time": "2022-03-20T10:51:22.245Z"
   },
   {
    "duration": 0,
    "start_time": "2022-03-20T10:51:22.246Z"
   },
   {
    "duration": 9,
    "start_time": "2022-03-20T10:55:02.911Z"
   },
   {
    "duration": 595,
    "start_time": "2022-03-20T10:55:10.348Z"
   },
   {
    "duration": 54,
    "start_time": "2022-03-20T10:55:10.946Z"
   },
   {
    "duration": 10,
    "start_time": "2022-03-20T10:55:11.002Z"
   },
   {
    "duration": 38,
    "start_time": "2022-03-20T10:55:11.015Z"
   },
   {
    "duration": 44,
    "start_time": "2022-03-20T10:55:11.058Z"
   },
   {
    "duration": 26,
    "start_time": "2022-03-20T10:55:11.105Z"
   },
   {
    "duration": 75,
    "start_time": "2022-03-20T10:55:11.134Z"
   },
   {
    "duration": 11,
    "start_time": "2022-03-20T10:55:11.211Z"
   },
   {
    "duration": 33,
    "start_time": "2022-03-20T10:55:11.225Z"
   },
   {
    "duration": 33,
    "start_time": "2022-03-20T10:55:11.260Z"
   },
   {
    "duration": 28,
    "start_time": "2022-03-20T10:55:11.295Z"
   },
   {
    "duration": 32,
    "start_time": "2022-03-20T10:55:11.325Z"
   },
   {
    "duration": 43,
    "start_time": "2022-03-20T10:55:11.359Z"
   },
   {
    "duration": 28,
    "start_time": "2022-03-20T10:55:11.406Z"
   },
   {
    "duration": 36,
    "start_time": "2022-03-20T10:55:11.436Z"
   },
   {
    "duration": 51,
    "start_time": "2022-03-20T10:55:11.474Z"
   },
   {
    "duration": 31,
    "start_time": "2022-03-20T10:55:11.528Z"
   },
   {
    "duration": 149,
    "start_time": "2022-03-20T10:55:11.561Z"
   },
   {
    "duration": 0,
    "start_time": "2022-03-20T10:55:11.712Z"
   },
   {
    "duration": 0,
    "start_time": "2022-03-20T10:55:11.714Z"
   },
   {
    "duration": 0,
    "start_time": "2022-03-20T10:55:11.716Z"
   },
   {
    "duration": 1,
    "start_time": "2022-03-20T10:55:11.717Z"
   },
   {
    "duration": 0,
    "start_time": "2022-03-20T10:55:11.719Z"
   },
   {
    "duration": 0,
    "start_time": "2022-03-20T10:55:11.720Z"
   },
   {
    "duration": 0,
    "start_time": "2022-03-20T10:55:11.722Z"
   },
   {
    "duration": 0,
    "start_time": "2022-03-20T10:55:11.723Z"
   },
   {
    "duration": 8,
    "start_time": "2022-03-20T11:05:10.688Z"
   },
   {
    "duration": 13,
    "start_time": "2022-03-20T11:05:14.503Z"
   },
   {
    "duration": 8,
    "start_time": "2022-03-20T11:05:24.722Z"
   },
   {
    "duration": 580,
    "start_time": "2022-03-20T11:05:36.130Z"
   },
   {
    "duration": 45,
    "start_time": "2022-03-20T11:05:36.714Z"
   },
   {
    "duration": 9,
    "start_time": "2022-03-20T11:05:36.782Z"
   },
   {
    "duration": 17,
    "start_time": "2022-03-20T11:05:36.793Z"
   },
   {
    "duration": 8,
    "start_time": "2022-03-20T11:05:36.813Z"
   },
   {
    "duration": 7,
    "start_time": "2022-03-20T11:05:36.823Z"
   },
   {
    "duration": 79,
    "start_time": "2022-03-20T11:05:36.833Z"
   },
   {
    "duration": 10,
    "start_time": "2022-03-20T11:05:36.915Z"
   },
   {
    "duration": 12,
    "start_time": "2022-03-20T11:05:36.927Z"
   },
   {
    "duration": 48,
    "start_time": "2022-03-20T11:05:36.941Z"
   },
   {
    "duration": 9,
    "start_time": "2022-03-20T11:05:36.991Z"
   },
   {
    "duration": 14,
    "start_time": "2022-03-20T11:05:37.002Z"
   },
   {
    "duration": 13,
    "start_time": "2022-03-20T11:05:37.018Z"
   },
   {
    "duration": 11,
    "start_time": "2022-03-20T11:05:37.036Z"
   },
   {
    "duration": 35,
    "start_time": "2022-03-20T11:05:37.049Z"
   },
   {
    "duration": 14,
    "start_time": "2022-03-20T11:05:37.086Z"
   },
   {
    "duration": 8,
    "start_time": "2022-03-20T11:05:37.102Z"
   },
   {
    "duration": 7,
    "start_time": "2022-03-20T11:05:37.113Z"
   },
   {
    "duration": 14,
    "start_time": "2022-03-20T11:05:37.122Z"
   },
   {
    "duration": 50,
    "start_time": "2022-03-20T11:05:37.183Z"
   },
   {
    "duration": 8,
    "start_time": "2022-03-20T11:05:37.235Z"
   },
   {
    "duration": 37,
    "start_time": "2022-03-20T11:05:37.245Z"
   },
   {
    "duration": 9,
    "start_time": "2022-03-20T11:05:37.285Z"
   },
   {
    "duration": 26,
    "start_time": "2022-03-20T11:12:31.121Z"
   },
   {
    "duration": 29,
    "start_time": "2022-03-20T11:14:57.776Z"
   },
   {
    "duration": 24,
    "start_time": "2022-03-20T11:15:06.270Z"
   },
   {
    "duration": 57,
    "start_time": "2022-03-20T11:20:55.985Z"
   },
   {
    "duration": 57,
    "start_time": "2022-03-20T11:21:08.038Z"
   },
   {
    "duration": 56,
    "start_time": "2022-03-20T11:21:14.101Z"
   },
   {
    "duration": 87,
    "start_time": "2022-03-20T11:22:27.611Z"
   },
   {
    "duration": 8,
    "start_time": "2022-03-20T11:22:35.412Z"
   },
   {
    "duration": 10,
    "start_time": "2022-03-20T11:28:08.233Z"
   },
   {
    "duration": 22,
    "start_time": "2022-03-20T11:29:29.733Z"
   },
   {
    "duration": 16,
    "start_time": "2022-03-20T11:32:01.123Z"
   },
   {
    "duration": 10,
    "start_time": "2022-03-20T11:32:05.799Z"
   },
   {
    "duration": 10,
    "start_time": "2022-03-20T11:32:10.144Z"
   },
   {
    "duration": 159,
    "start_time": "2022-03-20T11:33:17.855Z"
   },
   {
    "duration": 7,
    "start_time": "2022-03-20T11:44:08.308Z"
   },
   {
    "duration": 14,
    "start_time": "2022-03-20T11:44:30.202Z"
   },
   {
    "duration": 7,
    "start_time": "2022-03-20T11:44:36.799Z"
   },
   {
    "duration": 9,
    "start_time": "2022-03-20T11:48:05.962Z"
   },
   {
    "duration": 2857,
    "start_time": "2022-03-20T11:57:19.752Z"
   },
   {
    "duration": 10,
    "start_time": "2022-03-20T11:57:30.679Z"
   },
   {
    "duration": 11,
    "start_time": "2022-03-20T11:59:10.432Z"
   },
   {
    "duration": 11,
    "start_time": "2022-03-20T11:59:33.660Z"
   },
   {
    "duration": 119,
    "start_time": "2022-03-20T15:44:15.648Z"
   },
   {
    "duration": 43,
    "start_time": "2022-03-20T16:04:13.976Z"
   },
   {
    "duration": 457,
    "start_time": "2022-03-20T16:04:47.397Z"
   },
   {
    "duration": 26,
    "start_time": "2022-03-20T16:04:47.855Z"
   },
   {
    "duration": 11,
    "start_time": "2022-03-20T16:04:47.882Z"
   },
   {
    "duration": 4,
    "start_time": "2022-03-20T16:04:47.895Z"
   },
   {
    "duration": 7,
    "start_time": "2022-03-20T16:04:47.901Z"
   },
   {
    "duration": 31,
    "start_time": "2022-03-20T16:04:47.910Z"
   },
   {
    "duration": 32,
    "start_time": "2022-03-20T16:04:47.943Z"
   },
   {
    "duration": 6,
    "start_time": "2022-03-20T16:04:47.977Z"
   },
   {
    "duration": 17,
    "start_time": "2022-03-20T16:04:47.984Z"
   },
   {
    "duration": 42,
    "start_time": "2022-03-20T16:04:48.004Z"
   },
   {
    "duration": 6,
    "start_time": "2022-03-20T16:04:48.047Z"
   },
   {
    "duration": 4,
    "start_time": "2022-03-20T16:04:48.055Z"
   },
   {
    "duration": 7,
    "start_time": "2022-03-20T16:04:48.061Z"
   },
   {
    "duration": 15,
    "start_time": "2022-03-20T16:04:48.070Z"
   },
   {
    "duration": 4,
    "start_time": "2022-03-20T16:04:48.086Z"
   },
   {
    "duration": 13,
    "start_time": "2022-03-20T16:04:48.091Z"
   },
   {
    "duration": 6,
    "start_time": "2022-03-20T16:04:48.138Z"
   },
   {
    "duration": 6,
    "start_time": "2022-03-20T16:04:48.145Z"
   },
   {
    "duration": 10,
    "start_time": "2022-03-20T16:04:48.153Z"
   },
   {
    "duration": 30,
    "start_time": "2022-03-20T16:04:48.164Z"
   },
   {
    "duration": 5,
    "start_time": "2022-03-20T16:04:48.195Z"
   },
   {
    "duration": 6,
    "start_time": "2022-03-20T16:04:48.238Z"
   },
   {
    "duration": 8,
    "start_time": "2022-03-20T16:04:48.246Z"
   },
   {
    "duration": 20,
    "start_time": "2022-03-20T16:04:48.255Z"
   },
   {
    "duration": 19,
    "start_time": "2022-03-20T16:04:48.277Z"
   },
   {
    "duration": 55,
    "start_time": "2022-03-20T16:04:48.298Z"
   },
   {
    "duration": 7,
    "start_time": "2022-03-20T16:04:48.355Z"
   },
   {
    "duration": 12,
    "start_time": "2022-03-20T16:04:48.367Z"
   },
   {
    "duration": 10,
    "start_time": "2022-03-20T16:04:48.381Z"
   },
   {
    "duration": 46,
    "start_time": "2022-03-20T16:04:48.393Z"
   },
   {
    "duration": 10,
    "start_time": "2022-03-20T16:04:48.441Z"
   },
   {
    "duration": 9,
    "start_time": "2022-03-20T16:04:48.453Z"
   },
   {
    "duration": 10,
    "start_time": "2022-03-20T16:04:48.464Z"
   },
   {
    "duration": 15,
    "start_time": "2022-03-20T16:04:48.477Z"
   },
   {
    "duration": 5,
    "start_time": "2022-03-20T16:04:53.119Z"
   },
   {
    "duration": 5,
    "start_time": "2022-03-20T16:04:59.206Z"
   },
   {
    "duration": 11,
    "start_time": "2022-03-20T16:05:12.127Z"
   },
   {
    "duration": 6,
    "start_time": "2022-03-20T16:06:18.997Z"
   },
   {
    "duration": 457,
    "start_time": "2022-03-20T16:06:30.085Z"
   },
   {
    "duration": 30,
    "start_time": "2022-03-20T16:06:30.545Z"
   },
   {
    "duration": 7,
    "start_time": "2022-03-20T16:06:30.576Z"
   },
   {
    "duration": 11,
    "start_time": "2022-03-20T16:06:30.585Z"
   },
   {
    "duration": 24,
    "start_time": "2022-03-20T16:06:30.598Z"
   },
   {
    "duration": 20,
    "start_time": "2022-03-20T16:06:30.624Z"
   },
   {
    "duration": 57,
    "start_time": "2022-03-20T16:06:30.646Z"
   },
   {
    "duration": 8,
    "start_time": "2022-03-20T16:06:30.706Z"
   },
   {
    "duration": 9,
    "start_time": "2022-03-20T16:06:30.717Z"
   },
   {
    "duration": 22,
    "start_time": "2022-03-20T16:06:30.736Z"
   },
   {
    "duration": 8,
    "start_time": "2022-03-20T16:06:30.760Z"
   },
   {
    "duration": 9,
    "start_time": "2022-03-20T16:06:30.770Z"
   },
   {
    "duration": 22,
    "start_time": "2022-03-20T16:06:30.781Z"
   },
   {
    "duration": 33,
    "start_time": "2022-03-20T16:06:30.805Z"
   },
   {
    "duration": 11,
    "start_time": "2022-03-20T16:06:30.840Z"
   },
   {
    "duration": 41,
    "start_time": "2022-03-20T16:06:30.853Z"
   },
   {
    "duration": 5,
    "start_time": "2022-03-20T16:06:30.896Z"
   },
   {
    "duration": 8,
    "start_time": "2022-03-20T16:06:30.903Z"
   },
   {
    "duration": 20,
    "start_time": "2022-03-20T16:06:30.912Z"
   },
   {
    "duration": 34,
    "start_time": "2022-03-20T16:06:30.933Z"
   },
   {
    "duration": 5,
    "start_time": "2022-03-20T16:06:30.969Z"
   },
   {
    "duration": 17,
    "start_time": "2022-03-20T16:06:30.975Z"
   },
   {
    "duration": 28,
    "start_time": "2022-03-20T16:06:30.994Z"
   },
   {
    "duration": 42,
    "start_time": "2022-03-20T16:06:31.024Z"
   },
   {
    "duration": 20,
    "start_time": "2022-03-20T16:06:31.068Z"
   },
   {
    "duration": 17,
    "start_time": "2022-03-20T16:06:31.090Z"
   },
   {
    "duration": 8,
    "start_time": "2022-03-20T16:06:31.108Z"
   },
   {
    "duration": 11,
    "start_time": "2022-03-20T16:06:31.140Z"
   },
   {
    "duration": 23,
    "start_time": "2022-03-20T16:06:31.153Z"
   },
   {
    "duration": 22,
    "start_time": "2022-03-20T16:06:31.178Z"
   },
   {
    "duration": 28,
    "start_time": "2022-03-20T16:06:31.202Z"
   },
   {
    "duration": 19,
    "start_time": "2022-03-20T16:06:31.231Z"
   },
   {
    "duration": 25,
    "start_time": "2022-03-20T16:06:31.252Z"
   },
   {
    "duration": 80,
    "start_time": "2022-03-20T16:06:31.278Z"
   },
   {
    "duration": 108,
    "start_time": "2022-03-20T16:08:58.024Z"
   },
   {
    "duration": 5,
    "start_time": "2022-03-20T16:15:59.581Z"
   },
   {
    "duration": 71,
    "start_time": "2022-03-20T16:16:08.305Z"
   },
   {
    "duration": 11,
    "start_time": "2022-03-20T16:16:24.632Z"
   },
   {
    "duration": 438,
    "start_time": "2022-03-20T16:16:40.295Z"
   },
   {
    "duration": 27,
    "start_time": "2022-03-20T16:16:40.735Z"
   },
   {
    "duration": 7,
    "start_time": "2022-03-20T16:16:40.763Z"
   },
   {
    "duration": 5,
    "start_time": "2022-03-20T16:16:40.771Z"
   },
   {
    "duration": 6,
    "start_time": "2022-03-20T16:16:40.778Z"
   },
   {
    "duration": 4,
    "start_time": "2022-03-20T16:16:40.785Z"
   },
   {
    "duration": 68,
    "start_time": "2022-03-20T16:16:40.791Z"
   },
   {
    "duration": 8,
    "start_time": "2022-03-20T16:16:40.861Z"
   },
   {
    "duration": 8,
    "start_time": "2022-03-20T16:16:40.871Z"
   },
   {
    "duration": 14,
    "start_time": "2022-03-20T16:16:40.881Z"
   },
   {
    "duration": 42,
    "start_time": "2022-03-20T16:16:40.897Z"
   },
   {
    "duration": 6,
    "start_time": "2022-03-20T16:16:40.940Z"
   },
   {
    "duration": 5,
    "start_time": "2022-03-20T16:16:40.948Z"
   },
   {
    "duration": 5,
    "start_time": "2022-03-20T16:16:40.956Z"
   },
   {
    "duration": 3,
    "start_time": "2022-03-20T16:16:40.963Z"
   },
   {
    "duration": 9,
    "start_time": "2022-03-20T16:16:40.968Z"
   },
   {
    "duration": 4,
    "start_time": "2022-03-20T16:16:40.979Z"
   },
   {
    "duration": 4,
    "start_time": "2022-03-20T16:16:40.985Z"
   },
   {
    "duration": 11,
    "start_time": "2022-03-20T16:16:41.039Z"
   },
   {
    "duration": 32,
    "start_time": "2022-03-20T16:16:41.052Z"
   },
   {
    "duration": 4,
    "start_time": "2022-03-20T16:16:41.086Z"
   },
   {
    "duration": 6,
    "start_time": "2022-03-20T16:16:41.092Z"
   },
   {
    "duration": 43,
    "start_time": "2022-03-20T16:16:41.100Z"
   },
   {
    "duration": 19,
    "start_time": "2022-03-20T16:16:41.145Z"
   },
   {
    "duration": 16,
    "start_time": "2022-03-20T16:16:41.166Z"
   },
   {
    "duration": 16,
    "start_time": "2022-03-20T16:16:41.184Z"
   },
   {
    "duration": 37,
    "start_time": "2022-03-20T16:16:41.201Z"
   },
   {
    "duration": 12,
    "start_time": "2022-03-20T16:16:41.240Z"
   },
   {
    "duration": 26,
    "start_time": "2022-03-20T16:16:41.254Z"
   },
   {
    "duration": 19,
    "start_time": "2022-03-20T16:16:41.282Z"
   },
   {
    "duration": 10,
    "start_time": "2022-03-20T16:16:41.303Z"
   },
   {
    "duration": 8,
    "start_time": "2022-03-20T16:16:41.315Z"
   },
   {
    "duration": 13,
    "start_time": "2022-03-20T16:16:41.325Z"
   },
   {
    "duration": 7,
    "start_time": "2022-03-20T16:16:41.339Z"
   },
   {
    "duration": 12,
    "start_time": "2022-03-20T16:16:41.347Z"
   },
   {
    "duration": 14,
    "start_time": "2022-03-20T16:16:47.911Z"
   },
   {
    "duration": 11,
    "start_time": "2022-03-20T16:16:59.454Z"
   },
   {
    "duration": 10,
    "start_time": "2022-03-20T16:18:08.358Z"
   },
   {
    "duration": 7,
    "start_time": "2022-03-20T16:20:18.508Z"
   },
   {
    "duration": 10,
    "start_time": "2022-03-20T16:20:22.458Z"
   },
   {
    "duration": 4,
    "start_time": "2022-03-20T16:42:40.290Z"
   },
   {
    "duration": 491,
    "start_time": "2022-03-20T16:42:47.107Z"
   },
   {
    "duration": 26,
    "start_time": "2022-03-20T16:42:47.600Z"
   },
   {
    "duration": 10,
    "start_time": "2022-03-20T16:42:47.628Z"
   },
   {
    "duration": 6,
    "start_time": "2022-03-20T16:42:47.640Z"
   },
   {
    "duration": 4,
    "start_time": "2022-03-20T16:42:47.648Z"
   },
   {
    "duration": 5,
    "start_time": "2022-03-20T16:42:47.653Z"
   },
   {
    "duration": 31,
    "start_time": "2022-03-20T16:42:47.659Z"
   },
   {
    "duration": 47,
    "start_time": "2022-03-20T16:42:47.692Z"
   },
   {
    "duration": 7,
    "start_time": "2022-03-20T16:42:47.741Z"
   },
   {
    "duration": 15,
    "start_time": "2022-03-20T16:42:47.751Z"
   },
   {
    "duration": 7,
    "start_time": "2022-03-20T16:42:47.767Z"
   },
   {
    "duration": 6,
    "start_time": "2022-03-20T16:42:47.775Z"
   },
   {
    "duration": 6,
    "start_time": "2022-03-20T16:42:47.782Z"
   },
   {
    "duration": 50,
    "start_time": "2022-03-20T16:42:47.789Z"
   },
   {
    "duration": 7,
    "start_time": "2022-03-20T16:42:47.840Z"
   },
   {
    "duration": 14,
    "start_time": "2022-03-20T16:42:47.848Z"
   },
   {
    "duration": 5,
    "start_time": "2022-03-20T16:42:47.863Z"
   },
   {
    "duration": 9,
    "start_time": "2022-03-20T16:42:47.869Z"
   },
   {
    "duration": 14,
    "start_time": "2022-03-20T16:42:47.879Z"
   },
   {
    "duration": 57,
    "start_time": "2022-03-20T16:42:47.895Z"
   },
   {
    "duration": 4,
    "start_time": "2022-03-20T16:42:47.954Z"
   },
   {
    "duration": 9,
    "start_time": "2022-03-20T16:42:47.960Z"
   },
   {
    "duration": 6,
    "start_time": "2022-03-20T16:42:47.970Z"
   },
   {
    "duration": 17,
    "start_time": "2022-03-20T16:42:47.977Z"
   },
   {
    "duration": 48,
    "start_time": "2022-03-20T16:42:47.996Z"
   },
   {
    "duration": 17,
    "start_time": "2022-03-20T16:42:48.046Z"
   },
   {
    "duration": 7,
    "start_time": "2022-03-20T16:42:48.065Z"
   },
   {
    "duration": 11,
    "start_time": "2022-03-20T16:42:48.075Z"
   },
   {
    "duration": 8,
    "start_time": "2022-03-20T16:42:48.088Z"
   },
   {
    "duration": 44,
    "start_time": "2022-03-20T16:42:48.098Z"
   },
   {
    "duration": 9,
    "start_time": "2022-03-20T16:42:48.144Z"
   },
   {
    "duration": 9,
    "start_time": "2022-03-20T16:42:48.155Z"
   },
   {
    "duration": 9,
    "start_time": "2022-03-20T16:42:48.166Z"
   },
   {
    "duration": 7,
    "start_time": "2022-03-20T16:42:48.176Z"
   },
   {
    "duration": 6,
    "start_time": "2022-03-20T16:42:48.184Z"
   },
   {
    "duration": 8,
    "start_time": "2022-03-20T16:42:48.191Z"
   },
   {
    "duration": 41,
    "start_time": "2022-03-20T16:42:48.201Z"
   },
   {
    "duration": 11,
    "start_time": "2022-03-20T16:42:48.243Z"
   },
   {
    "duration": 5,
    "start_time": "2022-03-20T16:42:48.255Z"
   },
   {
    "duration": 3,
    "start_time": "2022-03-20T16:44:07.230Z"
   },
   {
    "duration": 3,
    "start_time": "2022-03-20T16:44:35.784Z"
   },
   {
    "duration": 3,
    "start_time": "2022-03-20T16:44:42.337Z"
   },
   {
    "duration": 4,
    "start_time": "2022-03-20T16:44:47.575Z"
   },
   {
    "duration": 3,
    "start_time": "2022-03-20T16:45:57.929Z"
   },
   {
    "duration": 4,
    "start_time": "2022-03-20T16:46:23.088Z"
   },
   {
    "duration": 4,
    "start_time": "2022-03-20T16:46:39.628Z"
   },
   {
    "duration": 3,
    "start_time": "2022-03-20T16:46:54.751Z"
   },
   {
    "duration": 4,
    "start_time": "2022-03-20T16:47:06.663Z"
   },
   {
    "duration": 4,
    "start_time": "2022-03-20T16:47:13.105Z"
   },
   {
    "duration": 134,
    "start_time": "2022-03-20T16:57:59.932Z"
   },
   {
    "duration": 9,
    "start_time": "2022-03-20T17:03:53.216Z"
   },
   {
    "duration": 16,
    "start_time": "2022-03-20T17:04:07.930Z"
   },
   {
    "duration": 10,
    "start_time": "2022-03-20T17:04:16.304Z"
   },
   {
    "duration": 12,
    "start_time": "2022-03-20T17:04:38.690Z"
   },
   {
    "duration": 111,
    "start_time": "2022-03-20T17:04:59.129Z"
   },
   {
    "duration": 9,
    "start_time": "2022-03-20T17:10:18.017Z"
   },
   {
    "duration": 7,
    "start_time": "2022-03-20T17:10:52.525Z"
   },
   {
    "duration": 7,
    "start_time": "2022-03-20T17:10:59.413Z"
   },
   {
    "duration": 9,
    "start_time": "2022-03-20T17:14:37.274Z"
   },
   {
    "duration": 5,
    "start_time": "2022-03-20T17:15:37.512Z"
   },
   {
    "duration": 67,
    "start_time": "2022-03-20T17:15:55.938Z"
   },
   {
    "duration": 8,
    "start_time": "2022-03-20T17:16:03.726Z"
   },
   {
    "duration": 3,
    "start_time": "2022-03-20T17:55:59.165Z"
   },
   {
    "duration": 3,
    "start_time": "2022-03-20T18:50:10.683Z"
   },
   {
    "duration": 3,
    "start_time": "2022-03-20T18:51:35.552Z"
   },
   {
    "duration": 112,
    "start_time": "2022-03-20T18:51:55.972Z"
   },
   {
    "duration": 10,
    "start_time": "2022-03-20T18:52:10.061Z"
   },
   {
    "duration": 485,
    "start_time": "2022-03-20T18:52:18.634Z"
   },
   {
    "duration": 27,
    "start_time": "2022-03-20T18:52:19.121Z"
   },
   {
    "duration": 7,
    "start_time": "2022-03-20T18:52:19.149Z"
   },
   {
    "duration": 6,
    "start_time": "2022-03-20T18:52:19.157Z"
   },
   {
    "duration": 5,
    "start_time": "2022-03-20T18:52:19.164Z"
   },
   {
    "duration": 5,
    "start_time": "2022-03-20T18:52:19.171Z"
   },
   {
    "duration": 30,
    "start_time": "2022-03-20T18:52:19.178Z"
   },
   {
    "duration": 32,
    "start_time": "2022-03-20T18:52:19.210Z"
   },
   {
    "duration": 10,
    "start_time": "2022-03-20T18:52:19.244Z"
   },
   {
    "duration": 14,
    "start_time": "2022-03-20T18:52:19.256Z"
   },
   {
    "duration": 5,
    "start_time": "2022-03-20T18:52:19.272Z"
   },
   {
    "duration": 5,
    "start_time": "2022-03-20T18:52:19.279Z"
   },
   {
    "duration": 6,
    "start_time": "2022-03-20T18:52:19.286Z"
   },
   {
    "duration": 45,
    "start_time": "2022-03-20T18:52:19.293Z"
   },
   {
    "duration": 4,
    "start_time": "2022-03-20T18:52:19.340Z"
   },
   {
    "duration": 11,
    "start_time": "2022-03-20T18:52:19.345Z"
   },
   {
    "duration": 4,
    "start_time": "2022-03-20T18:52:19.358Z"
   },
   {
    "duration": 5,
    "start_time": "2022-03-20T18:52:19.363Z"
   },
   {
    "duration": 10,
    "start_time": "2022-03-20T18:52:19.369Z"
   },
   {
    "duration": 57,
    "start_time": "2022-03-20T18:52:19.381Z"
   },
   {
    "duration": 5,
    "start_time": "2022-03-20T18:52:19.440Z"
   },
   {
    "duration": 7,
    "start_time": "2022-03-20T18:52:19.447Z"
   },
   {
    "duration": 5,
    "start_time": "2022-03-20T18:52:19.456Z"
   },
   {
    "duration": 19,
    "start_time": "2022-03-20T18:52:19.462Z"
   },
   {
    "duration": 17,
    "start_time": "2022-03-20T18:52:19.483Z"
   },
   {
    "duration": 45,
    "start_time": "2022-03-20T18:52:19.502Z"
   },
   {
    "duration": 7,
    "start_time": "2022-03-20T18:52:19.549Z"
   },
   {
    "duration": 16,
    "start_time": "2022-03-20T18:52:19.559Z"
   },
   {
    "duration": 20,
    "start_time": "2022-03-20T18:52:19.576Z"
   },
   {
    "duration": 24,
    "start_time": "2022-03-20T18:52:19.597Z"
   },
   {
    "duration": 19,
    "start_time": "2022-03-20T18:52:19.623Z"
   },
   {
    "duration": 17,
    "start_time": "2022-03-20T18:52:19.644Z"
   },
   {
    "duration": 25,
    "start_time": "2022-03-20T18:52:19.662Z"
   },
   {
    "duration": 18,
    "start_time": "2022-03-20T18:52:19.689Z"
   },
   {
    "duration": 14,
    "start_time": "2022-03-20T18:52:19.709Z"
   },
   {
    "duration": 21,
    "start_time": "2022-03-20T18:52:19.725Z"
   },
   {
    "duration": 14,
    "start_time": "2022-03-20T18:52:19.748Z"
   },
   {
    "duration": 15,
    "start_time": "2022-03-20T18:52:19.763Z"
   },
   {
    "duration": 8,
    "start_time": "2022-03-20T18:52:19.779Z"
   },
   {
    "duration": 66,
    "start_time": "2022-03-20T18:52:19.788Z"
   },
   {
    "duration": 0,
    "start_time": "2022-03-20T18:52:19.856Z"
   },
   {
    "duration": 0,
    "start_time": "2022-03-20T18:52:19.857Z"
   },
   {
    "duration": 0,
    "start_time": "2022-03-20T18:52:19.858Z"
   },
   {
    "duration": 0,
    "start_time": "2022-03-20T18:52:19.860Z"
   },
   {
    "duration": 0,
    "start_time": "2022-03-20T18:52:19.861Z"
   },
   {
    "duration": 0,
    "start_time": "2022-03-20T18:52:19.862Z"
   },
   {
    "duration": 0,
    "start_time": "2022-03-20T18:52:19.863Z"
   },
   {
    "duration": 0,
    "start_time": "2022-03-20T18:52:19.864Z"
   },
   {
    "duration": 0,
    "start_time": "2022-03-20T18:52:19.865Z"
   },
   {
    "duration": 0,
    "start_time": "2022-03-20T18:52:19.866Z"
   },
   {
    "duration": 0,
    "start_time": "2022-03-20T18:52:19.867Z"
   },
   {
    "duration": 7,
    "start_time": "2022-03-20T18:52:24.398Z"
   },
   {
    "duration": 432,
    "start_time": "2022-03-20T18:53:05.396Z"
   },
   {
    "duration": 26,
    "start_time": "2022-03-20T18:53:05.830Z"
   },
   {
    "duration": 6,
    "start_time": "2022-03-20T18:53:05.858Z"
   },
   {
    "duration": 8,
    "start_time": "2022-03-20T18:53:05.866Z"
   },
   {
    "duration": 10,
    "start_time": "2022-03-20T18:53:05.875Z"
   },
   {
    "duration": 10,
    "start_time": "2022-03-20T18:53:05.886Z"
   },
   {
    "duration": 47,
    "start_time": "2022-03-20T18:53:05.897Z"
   },
   {
    "duration": 7,
    "start_time": "2022-03-20T18:53:05.945Z"
   },
   {
    "duration": 28,
    "start_time": "2022-03-20T18:53:05.953Z"
   },
   {
    "duration": 19,
    "start_time": "2022-03-20T18:53:05.982Z"
   },
   {
    "duration": 7,
    "start_time": "2022-03-20T18:53:06.002Z"
   },
   {
    "duration": 12,
    "start_time": "2022-03-20T18:53:06.010Z"
   },
   {
    "duration": 9,
    "start_time": "2022-03-20T18:53:06.024Z"
   },
   {
    "duration": 5,
    "start_time": "2022-03-20T18:53:06.039Z"
   },
   {
    "duration": 9,
    "start_time": "2022-03-20T18:53:06.046Z"
   },
   {
    "duration": 17,
    "start_time": "2022-03-20T18:53:06.056Z"
   },
   {
    "duration": 5,
    "start_time": "2022-03-20T18:53:06.074Z"
   },
   {
    "duration": 6,
    "start_time": "2022-03-20T18:53:06.081Z"
   },
   {
    "duration": 11,
    "start_time": "2022-03-20T18:53:06.088Z"
   },
   {
    "duration": 49,
    "start_time": "2022-03-20T18:53:06.100Z"
   },
   {
    "duration": 4,
    "start_time": "2022-03-20T18:53:06.151Z"
   },
   {
    "duration": 8,
    "start_time": "2022-03-20T18:53:06.156Z"
   },
   {
    "duration": 10,
    "start_time": "2022-03-20T18:53:06.165Z"
   },
   {
    "duration": 24,
    "start_time": "2022-03-20T18:53:06.177Z"
   },
   {
    "duration": 36,
    "start_time": "2022-03-20T18:53:06.202Z"
   },
   {
    "duration": 18,
    "start_time": "2022-03-20T18:53:06.240Z"
   },
   {
    "duration": 8,
    "start_time": "2022-03-20T18:53:06.260Z"
   },
   {
    "duration": 22,
    "start_time": "2022-03-20T18:53:06.269Z"
   },
   {
    "duration": 15,
    "start_time": "2022-03-20T18:53:06.293Z"
   },
   {
    "duration": 20,
    "start_time": "2022-03-20T18:53:06.309Z"
   },
   {
    "duration": 9,
    "start_time": "2022-03-20T18:53:06.331Z"
   },
   {
    "duration": 8,
    "start_time": "2022-03-20T18:53:06.342Z"
   },
   {
    "duration": 9,
    "start_time": "2022-03-20T18:53:06.351Z"
   },
   {
    "duration": 9,
    "start_time": "2022-03-20T18:53:06.361Z"
   },
   {
    "duration": 8,
    "start_time": "2022-03-20T18:53:06.372Z"
   },
   {
    "duration": 9,
    "start_time": "2022-03-20T18:53:06.382Z"
   },
   {
    "duration": 12,
    "start_time": "2022-03-20T18:53:06.392Z"
   },
   {
    "duration": 12,
    "start_time": "2022-03-20T18:53:06.405Z"
   },
   {
    "duration": 23,
    "start_time": "2022-03-20T18:53:06.419Z"
   },
   {
    "duration": 8,
    "start_time": "2022-03-20T18:53:06.443Z"
   },
   {
    "duration": 8,
    "start_time": "2022-03-20T18:53:06.455Z"
   },
   {
    "duration": 8,
    "start_time": "2022-03-20T18:53:06.464Z"
   },
   {
    "duration": 6,
    "start_time": "2022-03-20T18:53:06.474Z"
   },
   {
    "duration": 5,
    "start_time": "2022-03-20T18:53:06.482Z"
   },
   {
    "duration": 11,
    "start_time": "2022-03-20T18:53:06.488Z"
   },
   {
    "duration": 21,
    "start_time": "2022-03-20T18:53:06.500Z"
   },
   {
    "duration": 19,
    "start_time": "2022-03-20T18:53:06.522Z"
   },
   {
    "duration": 10,
    "start_time": "2022-03-20T18:53:06.542Z"
   },
   {
    "duration": 4,
    "start_time": "2022-03-20T18:53:06.554Z"
   },
   {
    "duration": 81,
    "start_time": "2022-03-20T18:53:06.560Z"
   },
   {
    "duration": 3,
    "start_time": "2022-03-20T19:04:21.039Z"
   },
   {
    "duration": 10,
    "start_time": "2022-03-20T19:04:24.022Z"
   },
   {
    "duration": 4,
    "start_time": "2022-03-20T19:13:27.250Z"
   },
   {
    "duration": 10,
    "start_time": "2022-03-20T19:13:29.791Z"
   },
   {
    "duration": 7,
    "start_time": "2022-03-20T19:14:55.559Z"
   },
   {
    "duration": 10,
    "start_time": "2022-03-20T19:15:04.960Z"
   },
   {
    "duration": 11,
    "start_time": "2022-03-20T19:15:16.034Z"
   },
   {
    "duration": 3,
    "start_time": "2022-03-20T19:31:24.852Z"
   },
   {
    "duration": 2,
    "start_time": "2022-03-20T19:39:01.729Z"
   },
   {
    "duration": 123,
    "start_time": "2022-03-20T19:43:49.320Z"
   },
   {
    "duration": 130,
    "start_time": "2022-03-20T19:44:34.750Z"
   },
   {
    "duration": 3,
    "start_time": "2022-03-20T19:47:47.141Z"
   },
   {
    "duration": 468,
    "start_time": "2022-03-20T19:48:46.886Z"
   },
   {
    "duration": 445,
    "start_time": "2022-03-20T19:49:48.174Z"
   },
   {
    "duration": 32,
    "start_time": "2022-03-20T19:49:48.622Z"
   },
   {
    "duration": 8,
    "start_time": "2022-03-20T19:49:48.656Z"
   },
   {
    "duration": 5,
    "start_time": "2022-03-20T19:49:48.667Z"
   },
   {
    "duration": 7,
    "start_time": "2022-03-20T19:49:48.674Z"
   },
   {
    "duration": 5,
    "start_time": "2022-03-20T19:49:48.683Z"
   },
   {
    "duration": 67,
    "start_time": "2022-03-20T19:49:48.689Z"
   },
   {
    "duration": 7,
    "start_time": "2022-03-20T19:49:48.759Z"
   },
   {
    "duration": 10,
    "start_time": "2022-03-20T19:49:48.769Z"
   },
   {
    "duration": 15,
    "start_time": "2022-03-20T19:49:48.783Z"
   },
   {
    "duration": 38,
    "start_time": "2022-03-20T19:49:48.800Z"
   },
   {
    "duration": 5,
    "start_time": "2022-03-20T19:49:48.839Z"
   },
   {
    "duration": 7,
    "start_time": "2022-03-20T19:49:48.846Z"
   },
   {
    "duration": 8,
    "start_time": "2022-03-20T19:49:48.854Z"
   },
   {
    "duration": 5,
    "start_time": "2022-03-20T19:49:48.863Z"
   },
   {
    "duration": 9,
    "start_time": "2022-03-20T19:49:48.870Z"
   },
   {
    "duration": 4,
    "start_time": "2022-03-20T19:49:48.881Z"
   },
   {
    "duration": 7,
    "start_time": "2022-03-20T19:49:48.887Z"
   },
   {
    "duration": 45,
    "start_time": "2022-03-20T19:49:48.895Z"
   },
   {
    "duration": 29,
    "start_time": "2022-03-20T19:49:48.941Z"
   },
   {
    "duration": 8,
    "start_time": "2022-03-20T19:49:48.971Z"
   },
   {
    "duration": 6,
    "start_time": "2022-03-20T19:49:48.981Z"
   },
   {
    "duration": 10,
    "start_time": "2022-03-20T19:49:48.988Z"
   },
   {
    "duration": 23,
    "start_time": "2022-03-20T19:49:48.999Z"
   },
   {
    "duration": 20,
    "start_time": "2022-03-20T19:49:49.037Z"
   },
   {
    "duration": 16,
    "start_time": "2022-03-20T19:49:49.059Z"
   },
   {
    "duration": 7,
    "start_time": "2022-03-20T19:49:49.076Z"
   },
   {
    "duration": 14,
    "start_time": "2022-03-20T19:49:49.086Z"
   },
   {
    "duration": 9,
    "start_time": "2022-03-20T19:49:49.102Z"
   },
   {
    "duration": 31,
    "start_time": "2022-03-20T19:49:49.112Z"
   },
   {
    "duration": 8,
    "start_time": "2022-03-20T19:49:49.145Z"
   },
   {
    "duration": 9,
    "start_time": "2022-03-20T19:49:49.154Z"
   },
   {
    "duration": 10,
    "start_time": "2022-03-20T19:49:49.164Z"
   },
   {
    "duration": 7,
    "start_time": "2022-03-20T19:49:49.176Z"
   },
   {
    "duration": 6,
    "start_time": "2022-03-20T19:49:49.185Z"
   },
   {
    "duration": 9,
    "start_time": "2022-03-20T19:49:49.192Z"
   },
   {
    "duration": 8,
    "start_time": "2022-03-20T19:49:49.202Z"
   },
   {
    "duration": 9,
    "start_time": "2022-03-20T19:49:49.238Z"
   },
   {
    "duration": 5,
    "start_time": "2022-03-20T19:49:49.248Z"
   },
   {
    "duration": 7,
    "start_time": "2022-03-20T19:49:49.254Z"
   },
   {
    "duration": 4,
    "start_time": "2022-03-20T19:49:49.263Z"
   },
   {
    "duration": 5,
    "start_time": "2022-03-20T19:49:49.268Z"
   },
   {
    "duration": 5,
    "start_time": "2022-03-20T19:49:49.275Z"
   },
   {
    "duration": 7,
    "start_time": "2022-03-20T19:49:49.281Z"
   },
   {
    "duration": 12,
    "start_time": "2022-03-20T19:49:49.289Z"
   },
   {
    "duration": 42,
    "start_time": "2022-03-20T19:49:49.303Z"
   },
   {
    "duration": 8,
    "start_time": "2022-03-20T19:49:49.347Z"
   },
   {
    "duration": 10,
    "start_time": "2022-03-20T19:49:49.356Z"
   },
   {
    "duration": 5,
    "start_time": "2022-03-20T19:49:49.367Z"
   },
   {
    "duration": 7,
    "start_time": "2022-03-20T19:49:49.373Z"
   },
   {
    "duration": 4,
    "start_time": "2022-03-20T19:49:49.382Z"
   },
   {
    "duration": 571,
    "start_time": "2022-03-20T19:49:49.388Z"
   },
   {
    "duration": 540,
    "start_time": "2022-03-20T19:49:56.903Z"
   },
   {
    "duration": 141,
    "start_time": "2022-03-20T19:50:56.885Z"
   },
   {
    "duration": 136,
    "start_time": "2022-03-20T19:51:13.812Z"
   },
   {
    "duration": 130,
    "start_time": "2022-03-20T19:52:40.695Z"
   },
   {
    "duration": 19,
    "start_time": "2022-03-20T19:52:53.966Z"
   },
   {
    "duration": 16,
    "start_time": "2022-03-20T20:13:28.948Z"
   },
   {
    "duration": 6,
    "start_time": "2022-03-20T20:35:01.542Z"
   },
   {
    "duration": 6,
    "start_time": "2022-03-20T20:35:27.384Z"
   },
   {
    "duration": 18,
    "start_time": "2022-03-20T21:08:25.716Z"
   },
   {
    "duration": 14,
    "start_time": "2022-03-20T21:09:06.773Z"
   },
   {
    "duration": 17,
    "start_time": "2022-03-20T21:09:31.602Z"
   },
   {
    "duration": 10,
    "start_time": "2022-03-20T21:10:30.401Z"
   },
   {
    "duration": 17,
    "start_time": "2022-03-20T21:10:33.316Z"
   },
   {
    "duration": 18,
    "start_time": "2022-03-20T21:11:04.245Z"
   },
   {
    "duration": 15,
    "start_time": "2022-03-20T21:11:42.167Z"
   },
   {
    "duration": 18,
    "start_time": "2022-03-20T21:12:52.351Z"
   },
   {
    "duration": 8,
    "start_time": "2022-03-20T21:14:39.921Z"
   },
   {
    "duration": 6,
    "start_time": "2022-03-20T21:14:54.113Z"
   },
   {
    "duration": 9,
    "start_time": "2022-03-20T21:19:46.073Z"
   },
   {
    "duration": 7,
    "start_time": "2022-03-20T21:20:14.029Z"
   },
   {
    "duration": 6,
    "start_time": "2022-03-20T21:22:07.586Z"
   },
   {
    "duration": 8,
    "start_time": "2022-03-20T21:22:12.690Z"
   },
   {
    "duration": 125,
    "start_time": "2022-03-20T21:23:09.140Z"
   },
   {
    "duration": 19,
    "start_time": "2022-03-20T21:24:01.415Z"
   },
   {
    "duration": 9,
    "start_time": "2022-03-20T21:24:35.771Z"
   },
   {
    "duration": 10,
    "start_time": "2022-03-20T21:25:01.134Z"
   },
   {
    "duration": 10,
    "start_time": "2022-03-20T21:25:42.434Z"
   },
   {
    "duration": 18,
    "start_time": "2022-03-20T21:28:43.631Z"
   },
   {
    "duration": 15,
    "start_time": "2022-03-20T21:28:50.677Z"
   },
   {
    "duration": 21,
    "start_time": "2022-03-20T21:30:20.291Z"
   },
   {
    "duration": 13,
    "start_time": "2022-03-20T21:30:50.437Z"
   },
   {
    "duration": 146,
    "start_time": "2022-03-20T21:33:21.997Z"
   },
   {
    "duration": 11,
    "start_time": "2022-03-20T21:37:32.827Z"
   },
   {
    "duration": 436,
    "start_time": "2022-03-20T21:38:05.895Z"
   },
   {
    "duration": 28,
    "start_time": "2022-03-20T21:38:06.333Z"
   },
   {
    "duration": 8,
    "start_time": "2022-03-20T21:38:06.362Z"
   },
   {
    "duration": 11,
    "start_time": "2022-03-20T21:38:06.372Z"
   },
   {
    "duration": 4,
    "start_time": "2022-03-20T21:38:06.385Z"
   },
   {
    "duration": 6,
    "start_time": "2022-03-20T21:38:06.391Z"
   },
   {
    "duration": 60,
    "start_time": "2022-03-20T21:38:06.398Z"
   },
   {
    "duration": 6,
    "start_time": "2022-03-20T21:38:06.460Z"
   },
   {
    "duration": 28,
    "start_time": "2022-03-20T21:38:06.468Z"
   },
   {
    "duration": 14,
    "start_time": "2022-03-20T21:38:06.499Z"
   },
   {
    "duration": 6,
    "start_time": "2022-03-20T21:38:06.515Z"
   },
   {
    "duration": 5,
    "start_time": "2022-03-20T21:38:06.522Z"
   },
   {
    "duration": 6,
    "start_time": "2022-03-20T21:38:06.537Z"
   },
   {
    "duration": 10,
    "start_time": "2022-03-20T21:38:06.544Z"
   },
   {
    "duration": 7,
    "start_time": "2022-03-20T21:38:06.556Z"
   },
   {
    "duration": 11,
    "start_time": "2022-03-20T21:38:06.564Z"
   },
   {
    "duration": 6,
    "start_time": "2022-03-20T21:38:06.577Z"
   },
   {
    "duration": 7,
    "start_time": "2022-03-20T21:38:06.585Z"
   },
   {
    "duration": 19,
    "start_time": "2022-03-20T21:38:06.594Z"
   },
   {
    "duration": 51,
    "start_time": "2022-03-20T21:38:06.615Z"
   },
   {
    "duration": 5,
    "start_time": "2022-03-20T21:38:06.668Z"
   },
   {
    "duration": 6,
    "start_time": "2022-03-20T21:38:06.674Z"
   },
   {
    "duration": 9,
    "start_time": "2022-03-20T21:38:06.681Z"
   },
   {
    "duration": 18,
    "start_time": "2022-03-20T21:38:06.692Z"
   },
   {
    "duration": 21,
    "start_time": "2022-03-20T21:38:06.737Z"
   },
   {
    "duration": 18,
    "start_time": "2022-03-20T21:38:06.760Z"
   },
   {
    "duration": 7,
    "start_time": "2022-03-20T21:38:06.780Z"
   },
   {
    "duration": 12,
    "start_time": "2022-03-20T21:38:06.791Z"
   },
   {
    "duration": 37,
    "start_time": "2022-03-20T21:38:06.804Z"
   },
   {
    "duration": 7,
    "start_time": "2022-03-20T21:38:06.843Z"
   },
   {
    "duration": 8,
    "start_time": "2022-03-20T21:38:06.852Z"
   },
   {
    "duration": 15,
    "start_time": "2022-03-20T21:38:06.862Z"
   },
   {
    "duration": 10,
    "start_time": "2022-03-20T21:38:06.878Z"
   },
   {
    "duration": 6,
    "start_time": "2022-03-20T21:38:06.890Z"
   },
   {
    "duration": 8,
    "start_time": "2022-03-20T21:38:06.898Z"
   },
   {
    "duration": 11,
    "start_time": "2022-03-20T21:38:06.907Z"
   },
   {
    "duration": 7,
    "start_time": "2022-03-20T21:38:06.938Z"
   },
   {
    "duration": 13,
    "start_time": "2022-03-20T21:38:06.947Z"
   },
   {
    "duration": 7,
    "start_time": "2022-03-20T21:38:06.962Z"
   },
   {
    "duration": 9,
    "start_time": "2022-03-20T21:38:06.970Z"
   },
   {
    "duration": 10,
    "start_time": "2022-03-20T21:38:06.981Z"
   },
   {
    "duration": 9,
    "start_time": "2022-03-20T21:38:06.993Z"
   },
   {
    "duration": 9,
    "start_time": "2022-03-20T21:38:07.004Z"
   },
   {
    "duration": 24,
    "start_time": "2022-03-20T21:38:07.015Z"
   },
   {
    "duration": 11,
    "start_time": "2022-03-20T21:38:07.040Z"
   },
   {
    "duration": 15,
    "start_time": "2022-03-20T21:38:07.052Z"
   },
   {
    "duration": 9,
    "start_time": "2022-03-20T21:38:07.069Z"
   },
   {
    "duration": 14,
    "start_time": "2022-03-20T21:38:07.080Z"
   },
   {
    "duration": 5,
    "start_time": "2022-03-20T21:38:07.096Z"
   },
   {
    "duration": 148,
    "start_time": "2022-03-20T21:38:07.103Z"
   },
   {
    "duration": 18,
    "start_time": "2022-03-20T21:38:07.253Z"
   },
   {
    "duration": 15,
    "start_time": "2022-03-20T21:38:07.273Z"
   },
   {
    "duration": 13,
    "start_time": "2022-03-20T21:38:07.289Z"
   },
   {
    "duration": 34,
    "start_time": "2022-03-20T21:38:07.304Z"
   },
   {
    "duration": 18,
    "start_time": "2022-03-20T21:38:07.340Z"
   },
   {
    "duration": 7,
    "start_time": "2022-03-20T21:38:07.360Z"
   },
   {
    "duration": 608,
    "start_time": "2022-03-21T11:34:00.072Z"
   },
   {
    "duration": 69,
    "start_time": "2022-03-21T11:34:00.684Z"
   },
   {
    "duration": 12,
    "start_time": "2022-03-21T11:34:00.769Z"
   },
   {
    "duration": 10,
    "start_time": "2022-03-21T11:34:00.784Z"
   },
   {
    "duration": 9,
    "start_time": "2022-03-21T11:34:00.796Z"
   },
   {
    "duration": 62,
    "start_time": "2022-03-21T11:34:00.807Z"
   },
   {
    "duration": 55,
    "start_time": "2022-03-21T11:34:00.871Z"
   },
   {
    "duration": 44,
    "start_time": "2022-03-21T11:34:00.929Z"
   },
   {
    "duration": 15,
    "start_time": "2022-03-21T11:34:00.975Z"
   },
   {
    "duration": 26,
    "start_time": "2022-03-21T11:34:00.993Z"
   },
   {
    "duration": 50,
    "start_time": "2022-03-21T11:34:01.021Z"
   },
   {
    "duration": 8,
    "start_time": "2022-03-21T11:34:01.073Z"
   },
   {
    "duration": 20,
    "start_time": "2022-03-21T11:34:01.084Z"
   },
   {
    "duration": 29,
    "start_time": "2022-03-21T11:34:01.106Z"
   },
   {
    "duration": 31,
    "start_time": "2022-03-21T11:34:01.137Z"
   },
   {
    "duration": 28,
    "start_time": "2022-03-21T11:34:01.170Z"
   },
   {
    "duration": 24,
    "start_time": "2022-03-21T11:34:01.200Z"
   },
   {
    "duration": 26,
    "start_time": "2022-03-21T11:34:01.227Z"
   },
   {
    "duration": 35,
    "start_time": "2022-03-21T11:34:01.256Z"
   },
   {
    "duration": 52,
    "start_time": "2022-03-21T11:34:01.294Z"
   },
   {
    "duration": 21,
    "start_time": "2022-03-21T11:34:01.348Z"
   },
   {
    "duration": 16,
    "start_time": "2022-03-21T11:34:01.371Z"
   },
   {
    "duration": 36,
    "start_time": "2022-03-21T11:34:01.389Z"
   },
   {
    "duration": 44,
    "start_time": "2022-03-21T11:34:01.428Z"
   },
   {
    "duration": 38,
    "start_time": "2022-03-21T11:34:01.475Z"
   },
   {
    "duration": 26,
    "start_time": "2022-03-21T11:34:01.515Z"
   },
   {
    "duration": 11,
    "start_time": "2022-03-21T11:34:01.569Z"
   },
   {
    "duration": 24,
    "start_time": "2022-03-21T11:34:01.589Z"
   },
   {
    "duration": 53,
    "start_time": "2022-03-21T11:34:01.616Z"
   },
   {
    "duration": 16,
    "start_time": "2022-03-21T11:34:01.672Z"
   },
   {
    "duration": 16,
    "start_time": "2022-03-21T11:34:01.691Z"
   },
   {
    "duration": 64,
    "start_time": "2022-03-21T11:34:01.710Z"
   },
   {
    "duration": 19,
    "start_time": "2022-03-21T11:34:01.776Z"
   },
   {
    "duration": 18,
    "start_time": "2022-03-21T11:34:01.798Z"
   },
   {
    "duration": 10,
    "start_time": "2022-03-21T11:34:01.818Z"
   },
   {
    "duration": 41,
    "start_time": "2022-03-21T11:34:01.830Z"
   },
   {
    "duration": 22,
    "start_time": "2022-03-21T11:34:01.873Z"
   },
   {
    "duration": 23,
    "start_time": "2022-03-21T11:34:01.897Z"
   },
   {
    "duration": 21,
    "start_time": "2022-03-21T11:34:01.923Z"
   },
   {
    "duration": 37,
    "start_time": "2022-03-21T11:34:01.946Z"
   },
   {
    "duration": 29,
    "start_time": "2022-03-21T11:34:01.985Z"
   },
   {
    "duration": 24,
    "start_time": "2022-03-21T11:34:02.017Z"
   },
   {
    "duration": 51,
    "start_time": "2022-03-21T11:34:02.045Z"
   },
   {
    "duration": 15,
    "start_time": "2022-03-21T11:34:02.098Z"
   },
   {
    "duration": 30,
    "start_time": "2022-03-21T11:34:02.115Z"
   },
   {
    "duration": 30,
    "start_time": "2022-03-21T11:34:02.147Z"
   },
   {
    "duration": 22,
    "start_time": "2022-03-21T11:34:02.180Z"
   },
   {
    "duration": 19,
    "start_time": "2022-03-21T11:34:02.204Z"
   },
   {
    "duration": 9,
    "start_time": "2022-03-21T11:34:02.226Z"
   },
   {
    "duration": 281,
    "start_time": "2022-03-21T11:34:02.237Z"
   },
   {
    "duration": 48,
    "start_time": "2022-03-21T11:34:02.521Z"
   },
   {
    "duration": 22,
    "start_time": "2022-03-21T11:34:02.572Z"
   },
   {
    "duration": 15,
    "start_time": "2022-03-21T11:34:02.597Z"
   },
   {
    "duration": 55,
    "start_time": "2022-03-21T11:34:02.614Z"
   },
   {
    "duration": 623,
    "start_time": "2022-03-21T11:35:26.430Z"
   },
   {
    "duration": 44,
    "start_time": "2022-03-21T11:35:27.055Z"
   },
   {
    "duration": 9,
    "start_time": "2022-03-21T11:35:27.101Z"
   },
   {
    "duration": 7,
    "start_time": "2022-03-21T11:35:27.113Z"
   },
   {
    "duration": 47,
    "start_time": "2022-03-21T11:35:27.122Z"
   },
   {
    "duration": 6,
    "start_time": "2022-03-21T11:35:27.171Z"
   },
   {
    "duration": 90,
    "start_time": "2022-03-21T11:35:27.179Z"
   },
   {
    "duration": 12,
    "start_time": "2022-03-21T11:35:27.272Z"
   },
   {
    "duration": 11,
    "start_time": "2022-03-21T11:35:27.287Z"
   },
   {
    "duration": 68,
    "start_time": "2022-03-21T11:35:27.304Z"
   },
   {
    "duration": 10,
    "start_time": "2022-03-21T11:35:27.375Z"
   },
   {
    "duration": 18,
    "start_time": "2022-03-21T11:35:27.387Z"
   },
   {
    "duration": 14,
    "start_time": "2022-03-21T11:35:27.407Z"
   },
   {
    "duration": 47,
    "start_time": "2022-03-21T11:35:27.423Z"
   },
   {
    "duration": 6,
    "start_time": "2022-03-21T11:35:27.473Z"
   },
   {
    "duration": 18,
    "start_time": "2022-03-21T11:35:27.481Z"
   },
   {
    "duration": 17,
    "start_time": "2022-03-21T11:35:27.502Z"
   },
   {
    "duration": 46,
    "start_time": "2022-03-21T11:35:27.523Z"
   },
   {
    "duration": 23,
    "start_time": "2022-03-21T11:35:27.572Z"
   },
   {
    "duration": 78,
    "start_time": "2022-03-21T11:35:27.598Z"
   },
   {
    "duration": 9,
    "start_time": "2022-03-21T11:35:27.679Z"
   },
   {
    "duration": 17,
    "start_time": "2022-03-21T11:35:27.690Z"
   },
   {
    "duration": 21,
    "start_time": "2022-03-21T11:35:27.709Z"
   },
   {
    "duration": 57,
    "start_time": "2022-03-21T11:35:27.732Z"
   },
   {
    "duration": 37,
    "start_time": "2022-03-21T11:35:27.792Z"
   },
   {
    "duration": 58,
    "start_time": "2022-03-21T11:35:27.832Z"
   },
   {
    "duration": 12,
    "start_time": "2022-03-21T11:35:27.894Z"
   },
   {
    "duration": 54,
    "start_time": "2022-03-21T11:35:27.916Z"
   },
   {
    "duration": 15,
    "start_time": "2022-03-21T11:35:27.973Z"
   },
   {
    "duration": 24,
    "start_time": "2022-03-21T11:35:27.991Z"
   },
   {
    "duration": 17,
    "start_time": "2022-03-21T11:35:28.017Z"
   },
   {
    "duration": 40,
    "start_time": "2022-03-21T11:35:28.036Z"
   },
   {
    "duration": 22,
    "start_time": "2022-03-21T11:35:28.078Z"
   },
   {
    "duration": 18,
    "start_time": "2022-03-21T11:35:28.102Z"
   },
   {
    "duration": 15,
    "start_time": "2022-03-21T11:35:28.121Z"
   },
   {
    "duration": 31,
    "start_time": "2022-03-21T11:35:28.139Z"
   },
   {
    "duration": 14,
    "start_time": "2022-03-21T11:35:28.172Z"
   },
   {
    "duration": 24,
    "start_time": "2022-03-21T11:35:28.188Z"
   },
   {
    "duration": 13,
    "start_time": "2022-03-21T11:35:28.215Z"
   },
   {
    "duration": 7,
    "start_time": "2022-03-21T11:35:28.268Z"
   },
   {
    "duration": 22,
    "start_time": "2022-03-21T11:35:28.277Z"
   },
   {
    "duration": 16,
    "start_time": "2022-03-21T11:35:28.301Z"
   },
   {
    "duration": 13,
    "start_time": "2022-03-21T11:35:28.319Z"
   },
   {
    "duration": 36,
    "start_time": "2022-03-21T11:35:28.334Z"
   },
   {
    "duration": 29,
    "start_time": "2022-03-21T11:35:28.372Z"
   },
   {
    "duration": 27,
    "start_time": "2022-03-21T11:35:28.403Z"
   },
   {
    "duration": 24,
    "start_time": "2022-03-21T11:35:28.432Z"
   },
   {
    "duration": 16,
    "start_time": "2022-03-21T11:35:28.458Z"
   },
   {
    "duration": 6,
    "start_time": "2022-03-21T11:35:28.477Z"
   },
   {
    "duration": 284,
    "start_time": "2022-03-21T11:35:28.486Z"
   },
   {
    "duration": 37,
    "start_time": "2022-03-21T11:35:28.772Z"
   },
   {
    "duration": 21,
    "start_time": "2022-03-21T11:35:28.812Z"
   },
   {
    "duration": 44,
    "start_time": "2022-03-21T11:35:28.835Z"
   },
   {
    "duration": 14,
    "start_time": "2022-03-21T11:35:28.881Z"
   },
   {
    "duration": 16,
    "start_time": "2022-03-21T11:45:24.819Z"
   },
   {
    "duration": 20,
    "start_time": "2022-03-21T11:45:34.018Z"
   },
   {
    "duration": 94,
    "start_time": "2022-03-21T11:45:47.244Z"
   },
   {
    "duration": 10,
    "start_time": "2022-03-21T11:55:21.582Z"
   },
   {
    "duration": 21,
    "start_time": "2022-03-21T11:55:35.683Z"
   },
   {
    "duration": 109,
    "start_time": "2022-03-21T11:57:09.930Z"
   },
   {
    "duration": 15,
    "start_time": "2022-03-21T11:57:32.397Z"
   },
   {
    "duration": 20,
    "start_time": "2022-03-21T11:57:56.191Z"
   },
   {
    "duration": 101,
    "start_time": "2022-03-21T11:58:28.911Z"
   },
   {
    "duration": 36,
    "start_time": "2022-03-21T11:59:00.915Z"
   },
   {
    "duration": 42,
    "start_time": "2022-03-21T12:00:33.611Z"
   },
   {
    "duration": 103,
    "start_time": "2022-03-21T12:04:41.548Z"
   },
   {
    "duration": 10,
    "start_time": "2022-03-21T12:11:45.552Z"
   },
   {
    "duration": 16,
    "start_time": "2022-03-21T12:12:26.069Z"
   },
   {
    "duration": 9,
    "start_time": "2022-03-21T12:15:34.277Z"
   },
   {
    "duration": 14,
    "start_time": "2022-03-21T12:16:15.087Z"
   },
   {
    "duration": 11,
    "start_time": "2022-03-21T12:16:23.520Z"
   },
   {
    "duration": 15,
    "start_time": "2022-03-21T12:16:44.724Z"
   },
   {
    "duration": 672,
    "start_time": "2022-03-21T12:31:45.353Z"
   },
   {
    "duration": 73,
    "start_time": "2022-03-21T12:31:46.028Z"
   },
   {
    "duration": 10,
    "start_time": "2022-03-21T12:31:46.104Z"
   },
   {
    "duration": 7,
    "start_time": "2022-03-21T12:31:46.118Z"
   },
   {
    "duration": 44,
    "start_time": "2022-03-21T12:31:46.127Z"
   },
   {
    "duration": 8,
    "start_time": "2022-03-21T12:31:46.173Z"
   },
   {
    "duration": 102,
    "start_time": "2022-03-21T12:31:46.184Z"
   },
   {
    "duration": 8,
    "start_time": "2022-03-21T12:31:46.290Z"
   },
   {
    "duration": 12,
    "start_time": "2022-03-21T12:31:46.300Z"
   },
   {
    "duration": 76,
    "start_time": "2022-03-21T12:31:46.316Z"
   },
   {
    "duration": 12,
    "start_time": "2022-03-21T12:31:46.395Z"
   },
   {
    "duration": 8,
    "start_time": "2022-03-21T12:31:46.410Z"
   },
   {
    "duration": 50,
    "start_time": "2022-03-21T12:31:46.421Z"
   },
   {
    "duration": 28,
    "start_time": "2022-03-21T12:31:46.474Z"
   },
   {
    "duration": 8,
    "start_time": "2022-03-21T12:31:46.505Z"
   },
   {
    "duration": 54,
    "start_time": "2022-03-21T12:31:46.516Z"
   },
   {
    "duration": 11,
    "start_time": "2022-03-21T12:31:46.573Z"
   },
   {
    "duration": 16,
    "start_time": "2022-03-21T12:31:46.589Z"
   },
   {
    "duration": 16,
    "start_time": "2022-03-21T12:31:46.608Z"
   },
   {
    "duration": 88,
    "start_time": "2022-03-21T12:31:46.626Z"
   },
   {
    "duration": 9,
    "start_time": "2022-03-21T12:31:46.717Z"
   },
   {
    "duration": 39,
    "start_time": "2022-03-21T12:31:46.729Z"
   },
   {
    "duration": 24,
    "start_time": "2022-03-21T12:31:46.771Z"
   },
   {
    "duration": 28,
    "start_time": "2022-03-21T12:31:46.798Z"
   },
   {
    "duration": 68,
    "start_time": "2022-03-21T12:31:46.828Z"
   },
   {
    "duration": 27,
    "start_time": "2022-03-21T12:31:46.899Z"
   },
   {
    "duration": 9,
    "start_time": "2022-03-21T12:31:46.928Z"
   },
   {
    "duration": 25,
    "start_time": "2022-03-21T12:31:46.968Z"
   },
   {
    "duration": 15,
    "start_time": "2022-03-21T12:31:46.995Z"
   },
   {
    "duration": 9,
    "start_time": "2022-03-21T12:31:47.012Z"
   },
   {
    "duration": 53,
    "start_time": "2022-03-21T12:31:47.024Z"
   },
   {
    "duration": 23,
    "start_time": "2022-03-21T12:31:47.080Z"
   },
   {
    "duration": 15,
    "start_time": "2022-03-21T12:31:47.107Z"
   },
   {
    "duration": 11,
    "start_time": "2022-03-21T12:31:47.124Z"
   },
   {
    "duration": 31,
    "start_time": "2022-03-21T12:31:47.137Z"
   },
   {
    "duration": 8,
    "start_time": "2022-03-21T12:31:47.171Z"
   },
   {
    "duration": 25,
    "start_time": "2022-03-21T12:31:47.182Z"
   },
   {
    "duration": 19,
    "start_time": "2022-03-21T12:31:47.210Z"
   },
   {
    "duration": 49,
    "start_time": "2022-03-21T12:31:47.231Z"
   },
   {
    "duration": 14,
    "start_time": "2022-03-21T12:31:47.282Z"
   },
   {
    "duration": 10,
    "start_time": "2022-03-21T12:31:47.298Z"
   },
   {
    "duration": 5,
    "start_time": "2022-03-21T12:31:47.310Z"
   },
   {
    "duration": 52,
    "start_time": "2022-03-21T12:31:47.318Z"
   },
   {
    "duration": 19,
    "start_time": "2022-03-21T12:31:47.373Z"
   },
   {
    "duration": 6,
    "start_time": "2022-03-21T12:31:47.395Z"
   },
   {
    "duration": 19,
    "start_time": "2022-03-21T12:31:47.404Z"
   },
   {
    "duration": 57,
    "start_time": "2022-03-21T12:31:47.425Z"
   },
   {
    "duration": 17,
    "start_time": "2022-03-21T12:31:47.485Z"
   },
   {
    "duration": 14,
    "start_time": "2022-03-21T12:31:47.504Z"
   },
   {
    "duration": 6,
    "start_time": "2022-03-21T12:31:47.521Z"
   },
   {
    "duration": 254,
    "start_time": "2022-03-21T12:31:47.569Z"
   },
   {
    "duration": 42,
    "start_time": "2022-03-21T12:31:47.826Z"
   },
   {
    "duration": 28,
    "start_time": "2022-03-21T12:31:47.871Z"
   },
   {
    "duration": 68,
    "start_time": "2022-03-21T12:31:47.902Z"
   },
   {
    "duration": 12,
    "start_time": "2022-03-21T12:31:47.973Z"
   },
   {
    "duration": 21,
    "start_time": "2022-03-21T12:31:47.988Z"
   },
   {
    "duration": 14,
    "start_time": "2022-03-21T12:31:48.012Z"
   },
   {
    "duration": 107,
    "start_time": "2022-03-21T12:31:59.305Z"
   },
   {
    "duration": 14,
    "start_time": "2022-03-21T12:43:04.024Z"
   },
   {
    "duration": 855,
    "start_time": "2022-03-21T12:43:20.534Z"
   },
   {
    "duration": 84,
    "start_time": "2022-03-21T12:43:21.393Z"
   },
   {
    "duration": 17,
    "start_time": "2022-03-21T12:43:21.480Z"
   },
   {
    "duration": 10,
    "start_time": "2022-03-21T12:43:21.502Z"
   },
   {
    "duration": 8,
    "start_time": "2022-03-21T12:43:21.514Z"
   },
   {
    "duration": 7,
    "start_time": "2022-03-21T12:43:21.568Z"
   },
   {
    "duration": 65,
    "start_time": "2022-03-21T12:43:21.577Z"
   },
   {
    "duration": 29,
    "start_time": "2022-03-21T12:43:21.645Z"
   },
   {
    "duration": 25,
    "start_time": "2022-03-21T12:43:21.676Z"
   },
   {
    "duration": 37,
    "start_time": "2022-03-21T12:43:21.705Z"
   },
   {
    "duration": 23,
    "start_time": "2022-03-21T12:43:21.745Z"
   },
   {
    "duration": 16,
    "start_time": "2022-03-21T12:43:21.771Z"
   },
   {
    "duration": 29,
    "start_time": "2022-03-21T12:43:21.790Z"
   },
   {
    "duration": 17,
    "start_time": "2022-03-21T12:43:21.821Z"
   },
   {
    "duration": 22,
    "start_time": "2022-03-21T12:43:21.840Z"
   },
   {
    "duration": 29,
    "start_time": "2022-03-21T12:43:21.865Z"
   },
   {
    "duration": 8,
    "start_time": "2022-03-21T12:43:21.896Z"
   },
   {
    "duration": 24,
    "start_time": "2022-03-21T12:43:21.906Z"
   },
   {
    "duration": 23,
    "start_time": "2022-03-21T12:43:21.932Z"
   },
   {
    "duration": 51,
    "start_time": "2022-03-21T12:43:21.958Z"
   },
   {
    "duration": 7,
    "start_time": "2022-03-21T12:43:22.012Z"
   },
   {
    "duration": 21,
    "start_time": "2022-03-21T12:43:22.021Z"
   },
   {
    "duration": 8,
    "start_time": "2022-03-21T12:43:22.067Z"
   },
   {
    "duration": 40,
    "start_time": "2022-03-21T12:43:22.077Z"
   },
   {
    "duration": 53,
    "start_time": "2022-03-21T12:43:22.119Z"
   },
   {
    "duration": 24,
    "start_time": "2022-03-21T12:43:22.174Z"
   },
   {
    "duration": 10,
    "start_time": "2022-03-21T12:43:22.200Z"
   },
   {
    "duration": 51,
    "start_time": "2022-03-21T12:43:22.216Z"
   },
   {
    "duration": 12,
    "start_time": "2022-03-21T12:43:22.270Z"
   },
   {
    "duration": 26,
    "start_time": "2022-03-21T12:43:22.284Z"
   },
   {
    "duration": 30,
    "start_time": "2022-03-21T12:43:22.313Z"
   },
   {
    "duration": 30,
    "start_time": "2022-03-21T12:43:22.346Z"
   },
   {
    "duration": 28,
    "start_time": "2022-03-21T12:43:22.378Z"
   },
   {
    "duration": 12,
    "start_time": "2022-03-21T12:43:22.408Z"
   },
   {
    "duration": 16,
    "start_time": "2022-03-21T12:43:22.423Z"
   },
   {
    "duration": 32,
    "start_time": "2022-03-21T12:43:22.441Z"
   },
   {
    "duration": 15,
    "start_time": "2022-03-21T12:43:22.476Z"
   },
   {
    "duration": 20,
    "start_time": "2022-03-21T12:43:22.494Z"
   },
   {
    "duration": 56,
    "start_time": "2022-03-21T12:43:22.518Z"
   },
   {
    "duration": 8,
    "start_time": "2022-03-21T12:43:22.577Z"
   },
   {
    "duration": 12,
    "start_time": "2022-03-21T12:43:22.589Z"
   },
   {
    "duration": 7,
    "start_time": "2022-03-21T12:43:22.604Z"
   },
   {
    "duration": 54,
    "start_time": "2022-03-21T12:43:22.614Z"
   },
   {
    "duration": 6,
    "start_time": "2022-03-21T12:43:22.670Z"
   },
   {
    "duration": 8,
    "start_time": "2022-03-21T12:43:22.679Z"
   },
   {
    "duration": 18,
    "start_time": "2022-03-21T12:43:22.691Z"
   },
   {
    "duration": 67,
    "start_time": "2022-03-21T12:43:22.712Z"
   },
   {
    "duration": 15,
    "start_time": "2022-03-21T12:43:22.782Z"
   },
   {
    "duration": 15,
    "start_time": "2022-03-21T12:43:22.800Z"
   },
   {
    "duration": 6,
    "start_time": "2022-03-21T12:43:22.817Z"
   },
   {
    "duration": 248,
    "start_time": "2022-03-21T12:43:22.867Z"
   },
   {
    "duration": 50,
    "start_time": "2022-03-21T12:43:23.117Z"
   },
   {
    "duration": 22,
    "start_time": "2022-03-21T12:43:23.170Z"
   },
   {
    "duration": 33,
    "start_time": "2022-03-21T12:43:23.194Z"
   },
   {
    "duration": 43,
    "start_time": "2022-03-21T12:43:23.230Z"
   },
   {
    "duration": 24,
    "start_time": "2022-03-21T12:43:23.275Z"
   },
   {
    "duration": 16,
    "start_time": "2022-03-21T12:43:23.301Z"
   },
   {
    "duration": 9,
    "start_time": "2022-03-21T12:44:35.598Z"
   },
   {
    "duration": 12,
    "start_time": "2022-03-21T12:44:47.172Z"
   },
   {
    "duration": 13,
    "start_time": "2022-03-21T12:46:36.941Z"
   },
   {
    "duration": 805,
    "start_time": "2022-03-21T12:46:44.508Z"
   },
   {
    "duration": 67,
    "start_time": "2022-03-21T12:46:45.317Z"
   },
   {
    "duration": 9,
    "start_time": "2022-03-21T12:46:45.386Z"
   },
   {
    "duration": 7,
    "start_time": "2022-03-21T12:46:45.399Z"
   },
   {
    "duration": 16,
    "start_time": "2022-03-21T12:46:45.408Z"
   },
   {
    "duration": 47,
    "start_time": "2022-03-21T12:46:45.426Z"
   },
   {
    "duration": 72,
    "start_time": "2022-03-21T12:46:45.477Z"
   },
   {
    "duration": 12,
    "start_time": "2022-03-21T12:46:45.568Z"
   },
   {
    "duration": 10,
    "start_time": "2022-03-21T12:46:45.583Z"
   },
   {
    "duration": 22,
    "start_time": "2022-03-21T12:46:45.596Z"
   },
   {
    "duration": 10,
    "start_time": "2022-03-21T12:46:45.667Z"
   },
   {
    "duration": 5,
    "start_time": "2022-03-21T12:46:45.680Z"
   },
   {
    "duration": 8,
    "start_time": "2022-03-21T12:46:45.688Z"
   },
   {
    "duration": 8,
    "start_time": "2022-03-21T12:46:45.698Z"
   },
   {
    "duration": 61,
    "start_time": "2022-03-21T12:46:45.709Z"
   },
   {
    "duration": 18,
    "start_time": "2022-03-21T12:46:45.772Z"
   },
   {
    "duration": 7,
    "start_time": "2022-03-21T12:46:45.792Z"
   },
   {
    "duration": 14,
    "start_time": "2022-03-21T12:46:45.801Z"
   },
   {
    "duration": 62,
    "start_time": "2022-03-21T12:46:45.817Z"
   },
   {
    "duration": 88,
    "start_time": "2022-03-21T12:46:45.881Z"
   },
   {
    "duration": 8,
    "start_time": "2022-03-21T12:46:45.971Z"
   },
   {
    "duration": 7,
    "start_time": "2022-03-21T12:46:45.982Z"
   },
   {
    "duration": 8,
    "start_time": "2022-03-21T12:46:45.991Z"
   },
   {
    "duration": 82,
    "start_time": "2022-03-21T12:46:46.002Z"
   },
   {
    "duration": 38,
    "start_time": "2022-03-21T12:46:46.087Z"
   },
   {
    "duration": 64,
    "start_time": "2022-03-21T12:46:46.128Z"
   },
   {
    "duration": 14,
    "start_time": "2022-03-21T12:46:46.195Z"
   },
   {
    "duration": 17,
    "start_time": "2022-03-21T12:46:46.214Z"
   },
   {
    "duration": 11,
    "start_time": "2022-03-21T12:46:46.267Z"
   },
   {
    "duration": 11,
    "start_time": "2022-03-21T12:46:46.280Z"
   },
   {
    "duration": 9,
    "start_time": "2022-03-21T12:46:46.293Z"
   },
   {
    "duration": 16,
    "start_time": "2022-03-21T12:46:46.304Z"
   },
   {
    "duration": 73,
    "start_time": "2022-03-21T12:46:46.323Z"
   },
   {
    "duration": 9,
    "start_time": "2022-03-21T12:46:46.399Z"
   },
   {
    "duration": 23,
    "start_time": "2022-03-21T12:46:46.410Z"
   },
   {
    "duration": 35,
    "start_time": "2022-03-21T12:46:46.435Z"
   },
   {
    "duration": 13,
    "start_time": "2022-03-21T12:46:46.473Z"
   },
   {
    "duration": 17,
    "start_time": "2022-03-21T12:46:46.489Z"
   },
   {
    "duration": 67,
    "start_time": "2022-03-21T12:46:46.508Z"
   },
   {
    "duration": 9,
    "start_time": "2022-03-21T12:46:46.579Z"
   },
   {
    "duration": 9,
    "start_time": "2022-03-21T12:46:46.591Z"
   },
   {
    "duration": 10,
    "start_time": "2022-03-21T12:46:46.602Z"
   },
   {
    "duration": 55,
    "start_time": "2022-03-21T12:46:46.615Z"
   },
   {
    "duration": 6,
    "start_time": "2022-03-21T12:46:46.672Z"
   },
   {
    "duration": 6,
    "start_time": "2022-03-21T12:46:46.681Z"
   },
   {
    "duration": 17,
    "start_time": "2022-03-21T12:46:46.689Z"
   },
   {
    "duration": 61,
    "start_time": "2022-03-21T12:46:46.708Z"
   },
   {
    "duration": 10,
    "start_time": "2022-03-21T12:46:46.771Z"
   },
   {
    "duration": 13,
    "start_time": "2022-03-21T12:46:46.783Z"
   },
   {
    "duration": 7,
    "start_time": "2022-03-21T12:46:46.799Z"
   },
   {
    "duration": 278,
    "start_time": "2022-03-21T12:46:46.809Z"
   },
   {
    "duration": 34,
    "start_time": "2022-03-21T12:46:47.089Z"
   },
   {
    "duration": 51,
    "start_time": "2022-03-21T12:46:47.127Z"
   },
   {
    "duration": 30,
    "start_time": "2022-03-21T12:46:47.181Z"
   },
   {
    "duration": 10,
    "start_time": "2022-03-21T12:46:47.213Z"
   },
   {
    "duration": 45,
    "start_time": "2022-03-21T12:46:47.225Z"
   },
   {
    "duration": 19,
    "start_time": "2022-03-21T12:46:47.273Z"
   },
   {
    "duration": 11,
    "start_time": "2022-03-21T12:47:38.321Z"
   },
   {
    "duration": 605,
    "start_time": "2022-03-21T12:47:59.869Z"
   },
   {
    "duration": 44,
    "start_time": "2022-03-21T12:48:00.477Z"
   },
   {
    "duration": 44,
    "start_time": "2022-03-21T12:48:00.523Z"
   },
   {
    "duration": 7,
    "start_time": "2022-03-21T12:48:00.571Z"
   },
   {
    "duration": 16,
    "start_time": "2022-03-21T12:48:00.581Z"
   },
   {
    "duration": 10,
    "start_time": "2022-03-21T12:48:00.600Z"
   },
   {
    "duration": 97,
    "start_time": "2022-03-21T12:48:00.612Z"
   },
   {
    "duration": 9,
    "start_time": "2022-03-21T12:48:00.711Z"
   },
   {
    "duration": 48,
    "start_time": "2022-03-21T12:48:00.722Z"
   },
   {
    "duration": 21,
    "start_time": "2022-03-21T12:48:00.774Z"
   },
   {
    "duration": 9,
    "start_time": "2022-03-21T12:48:00.797Z"
   },
   {
    "duration": 10,
    "start_time": "2022-03-21T12:48:00.808Z"
   },
   {
    "duration": 53,
    "start_time": "2022-03-21T12:48:00.821Z"
   },
   {
    "duration": 19,
    "start_time": "2022-03-21T12:48:00.876Z"
   },
   {
    "duration": 16,
    "start_time": "2022-03-21T12:48:00.898Z"
   },
   {
    "duration": 51,
    "start_time": "2022-03-21T12:48:00.917Z"
   },
   {
    "duration": 11,
    "start_time": "2022-03-21T12:48:00.971Z"
   },
   {
    "duration": 18,
    "start_time": "2022-03-21T12:48:00.985Z"
   },
   {
    "duration": 17,
    "start_time": "2022-03-21T12:48:01.006Z"
   },
   {
    "duration": 87,
    "start_time": "2022-03-21T12:48:01.025Z"
   },
   {
    "duration": 9,
    "start_time": "2022-03-21T12:48:01.115Z"
   },
   {
    "duration": 31,
    "start_time": "2022-03-21T12:48:01.127Z"
   },
   {
    "duration": 14,
    "start_time": "2022-03-21T12:48:01.161Z"
   },
   {
    "duration": 57,
    "start_time": "2022-03-21T12:48:01.178Z"
   },
   {
    "duration": 51,
    "start_time": "2022-03-21T12:48:01.237Z"
   },
   {
    "duration": 36,
    "start_time": "2022-03-21T12:48:01.291Z"
   },
   {
    "duration": 14,
    "start_time": "2022-03-21T12:48:01.330Z"
   },
   {
    "duration": 20,
    "start_time": "2022-03-21T12:48:01.373Z"
   },
   {
    "duration": 31,
    "start_time": "2022-03-21T12:48:01.396Z"
   },
   {
    "duration": 40,
    "start_time": "2022-03-21T12:48:01.430Z"
   },
   {
    "duration": 15,
    "start_time": "2022-03-21T12:48:01.473Z"
   },
   {
    "duration": 21,
    "start_time": "2022-03-21T12:48:01.491Z"
   },
   {
    "duration": 31,
    "start_time": "2022-03-21T12:48:01.516Z"
   },
   {
    "duration": 25,
    "start_time": "2022-03-21T12:48:01.550Z"
   },
   {
    "duration": 34,
    "start_time": "2022-03-21T12:48:01.578Z"
   },
   {
    "duration": 16,
    "start_time": "2022-03-21T12:48:01.614Z"
   },
   {
    "duration": 31,
    "start_time": "2022-03-21T12:48:01.632Z"
   },
   {
    "duration": 33,
    "start_time": "2022-03-21T12:48:01.665Z"
   },
   {
    "duration": 41,
    "start_time": "2022-03-21T12:48:01.701Z"
   },
   {
    "duration": 10,
    "start_time": "2022-03-21T12:48:01.745Z"
   },
   {
    "duration": 11,
    "start_time": "2022-03-21T12:48:01.758Z"
   },
   {
    "duration": 12,
    "start_time": "2022-03-21T12:48:01.772Z"
   },
   {
    "duration": 14,
    "start_time": "2022-03-21T12:48:01.787Z"
   },
   {
    "duration": 17,
    "start_time": "2022-03-21T12:48:01.803Z"
   },
   {
    "duration": 17,
    "start_time": "2022-03-21T12:48:01.823Z"
   },
   {
    "duration": 33,
    "start_time": "2022-03-21T12:48:01.843Z"
   },
   {
    "duration": 17,
    "start_time": "2022-03-21T12:48:01.879Z"
   },
   {
    "duration": 17,
    "start_time": "2022-03-21T12:48:01.899Z"
   },
   {
    "duration": 53,
    "start_time": "2022-03-21T12:48:01.918Z"
   },
   {
    "duration": 6,
    "start_time": "2022-03-21T12:48:01.975Z"
   },
   {
    "duration": 266,
    "start_time": "2022-03-21T12:48:01.984Z"
   },
   {
    "duration": 36,
    "start_time": "2022-03-21T12:48:02.252Z"
   },
   {
    "duration": 32,
    "start_time": "2022-03-21T12:48:02.290Z"
   },
   {
    "duration": 57,
    "start_time": "2022-03-21T12:48:02.324Z"
   },
   {
    "duration": 10,
    "start_time": "2022-03-21T12:48:02.384Z"
   },
   {
    "duration": 19,
    "start_time": "2022-03-21T12:48:02.397Z"
   },
   {
    "duration": 63,
    "start_time": "2022-03-21T12:48:02.419Z"
   },
   {
    "duration": 13,
    "start_time": "2022-03-21T12:49:10.689Z"
   },
   {
    "duration": 9,
    "start_time": "2022-03-21T12:49:15.342Z"
   },
   {
    "duration": 621,
    "start_time": "2022-03-21T12:49:21.987Z"
   },
   {
    "duration": 71,
    "start_time": "2022-03-21T12:49:22.611Z"
   },
   {
    "duration": 10,
    "start_time": "2022-03-21T12:49:22.685Z"
   },
   {
    "duration": 7,
    "start_time": "2022-03-21T12:49:22.699Z"
   },
   {
    "duration": 8,
    "start_time": "2022-03-21T12:49:22.708Z"
   },
   {
    "duration": 8,
    "start_time": "2022-03-21T12:49:22.767Z"
   },
   {
    "duration": 52,
    "start_time": "2022-03-21T12:49:22.777Z"
   },
   {
    "duration": 41,
    "start_time": "2022-03-21T12:49:22.831Z"
   },
   {
    "duration": 12,
    "start_time": "2022-03-21T12:49:22.877Z"
   },
   {
    "duration": 22,
    "start_time": "2022-03-21T12:49:22.893Z"
   },
   {
    "duration": 54,
    "start_time": "2022-03-21T12:49:22.919Z"
   },
   {
    "duration": 6,
    "start_time": "2022-03-21T12:49:22.975Z"
   },
   {
    "duration": 9,
    "start_time": "2022-03-21T12:49:22.984Z"
   },
   {
    "duration": 8,
    "start_time": "2022-03-21T12:49:22.996Z"
   },
   {
    "duration": 6,
    "start_time": "2022-03-21T12:49:23.007Z"
   },
   {
    "duration": 69,
    "start_time": "2022-03-21T12:49:23.016Z"
   },
   {
    "duration": 13,
    "start_time": "2022-03-21T12:49:23.088Z"
   },
   {
    "duration": 8,
    "start_time": "2022-03-21T12:49:23.104Z"
   },
   {
    "duration": 58,
    "start_time": "2022-03-21T12:49:23.115Z"
   },
   {
    "duration": 49,
    "start_time": "2022-03-21T12:49:23.175Z"
   },
   {
    "duration": 6,
    "start_time": "2022-03-21T12:49:23.226Z"
   },
   {
    "duration": 45,
    "start_time": "2022-03-21T12:49:23.234Z"
   },
   {
    "duration": 12,
    "start_time": "2022-03-21T12:49:23.282Z"
   },
   {
    "duration": 30,
    "start_time": "2022-03-21T12:49:23.297Z"
   },
   {
    "duration": 64,
    "start_time": "2022-03-21T12:49:23.330Z"
   },
   {
    "duration": 26,
    "start_time": "2022-03-21T12:49:23.397Z"
   },
   {
    "duration": 9,
    "start_time": "2022-03-21T12:49:23.426Z"
   },
   {
    "duration": 36,
    "start_time": "2022-03-21T12:49:23.472Z"
   },
   {
    "duration": 15,
    "start_time": "2022-03-21T12:49:23.510Z"
   },
   {
    "duration": 11,
    "start_time": "2022-03-21T12:49:23.527Z"
   },
   {
    "duration": 10,
    "start_time": "2022-03-21T12:49:23.568Z"
   },
   {
    "duration": 20,
    "start_time": "2022-03-21T12:49:23.586Z"
   },
   {
    "duration": 10,
    "start_time": "2022-03-21T12:49:23.608Z"
   },
   {
    "duration": 54,
    "start_time": "2022-03-21T12:49:23.621Z"
   },
   {
    "duration": 21,
    "start_time": "2022-03-21T12:49:23.678Z"
   },
   {
    "duration": 6,
    "start_time": "2022-03-21T12:49:23.701Z"
   },
   {
    "duration": 15,
    "start_time": "2022-03-21T12:49:23.710Z"
   },
   {
    "duration": 10,
    "start_time": "2022-03-21T12:49:23.768Z"
   },
   {
    "duration": 19,
    "start_time": "2022-03-21T12:49:23.780Z"
   },
   {
    "duration": 14,
    "start_time": "2022-03-21T12:49:23.801Z"
   },
   {
    "duration": 12,
    "start_time": "2022-03-21T12:49:23.817Z"
   },
   {
    "duration": 25,
    "start_time": "2022-03-21T12:49:23.868Z"
   },
   {
    "duration": 8,
    "start_time": "2022-03-21T12:49:23.896Z"
   },
   {
    "duration": 6,
    "start_time": "2022-03-21T12:49:23.908Z"
   },
   {
    "duration": 6,
    "start_time": "2022-03-21T12:49:23.917Z"
   },
   {
    "duration": 59,
    "start_time": "2022-03-21T12:49:23.925Z"
   },
   {
    "duration": 16,
    "start_time": "2022-03-21T12:49:23.986Z"
   },
   {
    "duration": 9,
    "start_time": "2022-03-21T12:49:24.005Z"
   },
   {
    "duration": 53,
    "start_time": "2022-03-21T12:49:24.017Z"
   },
   {
    "duration": 5,
    "start_time": "2022-03-21T12:49:24.072Z"
   },
   {
    "duration": 273,
    "start_time": "2022-03-21T12:49:24.080Z"
   },
   {
    "duration": 42,
    "start_time": "2022-03-21T12:49:24.355Z"
   },
   {
    "duration": 21,
    "start_time": "2022-03-21T12:49:24.399Z"
   },
   {
    "duration": 71,
    "start_time": "2022-03-21T12:49:24.423Z"
   },
   {
    "duration": 10,
    "start_time": "2022-03-21T12:49:24.496Z"
   },
   {
    "duration": 17,
    "start_time": "2022-03-21T12:49:24.508Z"
   },
   {
    "duration": 47,
    "start_time": "2022-03-21T12:49:24.528Z"
   },
   {
    "duration": 10,
    "start_time": "2022-03-21T12:50:32.620Z"
   },
   {
    "duration": 15,
    "start_time": "2022-03-21T12:51:14.267Z"
   },
   {
    "duration": 11,
    "start_time": "2022-03-21T12:53:44.239Z"
   },
   {
    "duration": 16,
    "start_time": "2022-03-21T12:53:51.449Z"
   },
   {
    "duration": 96,
    "start_time": "2022-03-21T12:59:31.377Z"
   },
   {
    "duration": 861,
    "start_time": "2022-03-21T12:59:49.038Z"
   },
   {
    "duration": 43,
    "start_time": "2022-03-21T12:59:49.903Z"
   },
   {
    "duration": 9,
    "start_time": "2022-03-21T12:59:49.967Z"
   },
   {
    "duration": 10,
    "start_time": "2022-03-21T12:59:49.979Z"
   },
   {
    "duration": 9,
    "start_time": "2022-03-21T12:59:49.991Z"
   },
   {
    "duration": 10,
    "start_time": "2022-03-21T12:59:50.002Z"
   },
   {
    "duration": 46,
    "start_time": "2022-03-21T12:59:50.069Z"
   },
   {
    "duration": 50,
    "start_time": "2022-03-21T12:59:50.117Z"
   },
   {
    "duration": 10,
    "start_time": "2022-03-21T12:59:50.171Z"
   },
   {
    "duration": 25,
    "start_time": "2022-03-21T12:59:50.185Z"
   },
   {
    "duration": 58,
    "start_time": "2022-03-21T12:59:50.213Z"
   },
   {
    "duration": 8,
    "start_time": "2022-03-21T12:59:50.273Z"
   },
   {
    "duration": 8,
    "start_time": "2022-03-21T12:59:50.283Z"
   },
   {
    "duration": 7,
    "start_time": "2022-03-21T12:59:50.294Z"
   },
   {
    "duration": 6,
    "start_time": "2022-03-21T12:59:50.303Z"
   },
   {
    "duration": 67,
    "start_time": "2022-03-21T12:59:50.311Z"
   },
   {
    "duration": 11,
    "start_time": "2022-03-21T12:59:50.381Z"
   },
   {
    "duration": 10,
    "start_time": "2022-03-21T12:59:50.394Z"
   },
   {
    "duration": 63,
    "start_time": "2022-03-21T12:59:50.407Z"
   },
   {
    "duration": 45,
    "start_time": "2022-03-21T12:59:50.472Z"
   },
   {
    "duration": 50,
    "start_time": "2022-03-21T12:59:50.520Z"
   },
   {
    "duration": 12,
    "start_time": "2022-03-21T12:59:50.572Z"
   },
   {
    "duration": 7,
    "start_time": "2022-03-21T12:59:50.586Z"
   },
   {
    "duration": 74,
    "start_time": "2022-03-21T12:59:50.596Z"
   },
   {
    "duration": 29,
    "start_time": "2022-03-21T12:59:50.672Z"
   },
   {
    "duration": 25,
    "start_time": "2022-03-21T12:59:50.703Z"
   },
   {
    "duration": 43,
    "start_time": "2022-03-21T12:59:50.730Z"
   },
   {
    "duration": 15,
    "start_time": "2022-03-21T12:59:50.780Z"
   },
   {
    "duration": 11,
    "start_time": "2022-03-21T12:59:50.797Z"
   },
   {
    "duration": 61,
    "start_time": "2022-03-21T12:59:50.810Z"
   },
   {
    "duration": 10,
    "start_time": "2022-03-21T12:59:50.873Z"
   },
   {
    "duration": 12,
    "start_time": "2022-03-21T12:59:50.885Z"
   },
   {
    "duration": 69,
    "start_time": "2022-03-21T12:59:50.900Z"
   },
   {
    "duration": 7,
    "start_time": "2022-03-21T12:59:50.972Z"
   },
   {
    "duration": 22,
    "start_time": "2022-03-21T12:59:50.981Z"
   },
   {
    "duration": 6,
    "start_time": "2022-03-21T12:59:51.005Z"
   },
   {
    "duration": 60,
    "start_time": "2022-03-21T12:59:51.013Z"
   },
   {
    "duration": 15,
    "start_time": "2022-03-21T12:59:51.075Z"
   },
   {
    "duration": 17,
    "start_time": "2022-03-21T12:59:51.092Z"
   },
   {
    "duration": 7,
    "start_time": "2022-03-21T12:59:51.111Z"
   },
   {
    "duration": 5,
    "start_time": "2022-03-21T12:59:51.168Z"
   },
   {
    "duration": 11,
    "start_time": "2022-03-21T12:59:51.175Z"
   },
   {
    "duration": 8,
    "start_time": "2022-03-21T12:59:51.188Z"
   },
   {
    "duration": 7,
    "start_time": "2022-03-21T12:59:51.198Z"
   },
   {
    "duration": 7,
    "start_time": "2022-03-21T12:59:51.208Z"
   },
   {
    "duration": 63,
    "start_time": "2022-03-21T12:59:51.218Z"
   },
   {
    "duration": 24,
    "start_time": "2022-03-21T12:59:51.283Z"
   },
   {
    "duration": 60,
    "start_time": "2022-03-21T12:59:51.309Z"
   },
   {
    "duration": 23,
    "start_time": "2022-03-21T12:59:51.371Z"
   },
   {
    "duration": 18,
    "start_time": "2022-03-21T12:59:51.397Z"
   },
   {
    "duration": 252,
    "start_time": "2022-03-21T12:59:51.418Z"
   },
   {
    "duration": 32,
    "start_time": "2022-03-21T12:59:51.672Z"
   },
   {
    "duration": 29,
    "start_time": "2022-03-21T12:59:51.706Z"
   },
   {
    "duration": 45,
    "start_time": "2022-03-21T12:59:51.767Z"
   },
   {
    "duration": 13,
    "start_time": "2022-03-21T12:59:51.815Z"
   },
   {
    "duration": 43,
    "start_time": "2022-03-21T12:59:51.842Z"
   },
   {
    "duration": 13,
    "start_time": "2022-03-21T12:59:51.887Z"
   },
   {
    "duration": 9,
    "start_time": "2022-03-21T12:59:58.409Z"
   },
   {
    "duration": 22,
    "start_time": "2022-03-21T13:00:07.800Z"
   },
   {
    "duration": 15,
    "start_time": "2022-03-21T13:00:53.553Z"
   },
   {
    "duration": 22,
    "start_time": "2022-03-21T13:01:29.918Z"
   },
   {
    "duration": 17,
    "start_time": "2022-03-21T13:01:45.039Z"
   },
   {
    "duration": 16,
    "start_time": "2022-03-21T13:02:16.076Z"
   },
   {
    "duration": 97,
    "start_time": "2022-03-21T13:10:32.114Z"
   },
   {
    "duration": 8,
    "start_time": "2022-03-21T13:18:06.346Z"
   },
   {
    "duration": 10,
    "start_time": "2022-03-21T13:18:15.309Z"
   },
   {
    "duration": 7,
    "start_time": "2022-03-21T13:18:42.605Z"
   },
   {
    "duration": 99,
    "start_time": "2022-03-21T13:19:03.651Z"
   },
   {
    "duration": 7,
    "start_time": "2022-03-21T13:19:08.491Z"
   },
   {
    "duration": 8,
    "start_time": "2022-03-21T13:22:35.917Z"
   },
   {
    "duration": 17,
    "start_time": "2022-03-21T13:33:47.974Z"
   },
   {
    "duration": 18,
    "start_time": "2022-03-21T13:36:56.141Z"
   },
   {
    "duration": 22,
    "start_time": "2022-03-21T13:37:47.017Z"
   },
   {
    "duration": 7,
    "start_time": "2022-03-21T13:44:59.219Z"
   },
   {
    "duration": 8,
    "start_time": "2022-03-21T13:45:04.710Z"
   },
   {
    "duration": 16,
    "start_time": "2022-03-21T14:07:47.495Z"
   },
   {
    "duration": 32,
    "start_time": "2022-03-21T14:08:42.590Z"
   },
   {
    "duration": 589,
    "start_time": "2022-03-21T15:23:50.303Z"
   },
   {
    "duration": 47,
    "start_time": "2022-03-21T15:23:50.896Z"
   },
   {
    "duration": 31,
    "start_time": "2022-03-21T15:23:50.945Z"
   },
   {
    "duration": 19,
    "start_time": "2022-03-21T15:23:50.979Z"
   },
   {
    "duration": 9,
    "start_time": "2022-03-21T15:23:51.000Z"
   },
   {
    "duration": 9,
    "start_time": "2022-03-21T15:23:51.012Z"
   },
   {
    "duration": 92,
    "start_time": "2022-03-21T15:23:51.023Z"
   },
   {
    "duration": 13,
    "start_time": "2022-03-21T15:23:51.118Z"
   },
   {
    "duration": 13,
    "start_time": "2022-03-21T15:23:51.169Z"
   },
   {
    "duration": 21,
    "start_time": "2022-03-21T15:23:51.188Z"
   },
   {
    "duration": 8,
    "start_time": "2022-03-21T15:23:51.211Z"
   },
   {
    "duration": 6,
    "start_time": "2022-03-21T15:23:51.269Z"
   },
   {
    "duration": 10,
    "start_time": "2022-03-21T15:23:51.277Z"
   },
   {
    "duration": 9,
    "start_time": "2022-03-21T15:23:51.290Z"
   },
   {
    "duration": 5,
    "start_time": "2022-03-21T15:23:51.302Z"
   },
   {
    "duration": 66,
    "start_time": "2022-03-21T15:23:51.309Z"
   },
   {
    "duration": 8,
    "start_time": "2022-03-21T15:23:51.378Z"
   },
   {
    "duration": 6,
    "start_time": "2022-03-21T15:23:51.388Z"
   },
   {
    "duration": 13,
    "start_time": "2022-03-21T15:23:51.397Z"
   },
   {
    "duration": 97,
    "start_time": "2022-03-21T15:23:51.412Z"
   },
   {
    "duration": 6,
    "start_time": "2022-03-21T15:23:51.511Z"
   },
   {
    "duration": 8,
    "start_time": "2022-03-21T15:23:51.520Z"
   },
   {
    "duration": 39,
    "start_time": "2022-03-21T15:23:51.530Z"
   },
   {
    "duration": 25,
    "start_time": "2022-03-21T15:23:51.572Z"
   },
   {
    "duration": 28,
    "start_time": "2022-03-21T15:23:51.600Z"
   },
   {
    "duration": 25,
    "start_time": "2022-03-21T15:23:51.667Z"
   },
   {
    "duration": 10,
    "start_time": "2022-03-21T15:23:51.694Z"
   },
   {
    "duration": 15,
    "start_time": "2022-03-21T15:23:51.710Z"
   },
   {
    "duration": 48,
    "start_time": "2022-03-21T15:23:51.727Z"
   },
   {
    "duration": 13,
    "start_time": "2022-03-21T15:23:51.777Z"
   },
   {
    "duration": 11,
    "start_time": "2022-03-21T15:23:51.792Z"
   },
   {
    "duration": 11,
    "start_time": "2022-03-21T15:23:51.805Z"
   },
   {
    "duration": 51,
    "start_time": "2022-03-21T15:23:51.819Z"
   },
   {
    "duration": 9,
    "start_time": "2022-03-21T15:23:51.873Z"
   },
   {
    "duration": 18,
    "start_time": "2022-03-21T15:23:51.885Z"
   },
   {
    "duration": 8,
    "start_time": "2022-03-21T15:23:51.905Z"
   },
   {
    "duration": 63,
    "start_time": "2022-03-21T15:23:51.915Z"
   },
   {
    "duration": 10,
    "start_time": "2022-03-21T15:23:51.980Z"
   },
   {
    "duration": 19,
    "start_time": "2022-03-21T15:23:51.992Z"
   },
   {
    "duration": 12,
    "start_time": "2022-03-21T15:23:52.013Z"
   },
   {
    "duration": 6,
    "start_time": "2022-03-21T15:23:52.068Z"
   },
   {
    "duration": 6,
    "start_time": "2022-03-21T15:23:52.076Z"
   },
   {
    "duration": 11,
    "start_time": "2022-03-21T15:23:52.086Z"
   },
   {
    "duration": 8,
    "start_time": "2022-03-21T15:23:52.100Z"
   },
   {
    "duration": 6,
    "start_time": "2022-03-21T15:23:52.111Z"
   },
   {
    "duration": 13,
    "start_time": "2022-03-21T15:23:52.169Z"
   },
   {
    "duration": 16,
    "start_time": "2022-03-21T15:23:52.184Z"
   },
   {
    "duration": 10,
    "start_time": "2022-03-21T15:23:52.202Z"
   },
   {
    "duration": 60,
    "start_time": "2022-03-21T15:23:52.215Z"
   },
   {
    "duration": 8,
    "start_time": "2022-03-21T15:23:52.277Z"
   },
   {
    "duration": 261,
    "start_time": "2022-03-21T15:23:52.287Z"
   },
   {
    "duration": 36,
    "start_time": "2022-03-21T15:23:52.550Z"
   },
   {
    "duration": 23,
    "start_time": "2022-03-21T15:23:52.588Z"
   },
   {
    "duration": 7,
    "start_time": "2022-03-21T15:23:52.613Z"
   },
   {
    "duration": 72,
    "start_time": "2022-03-21T15:23:52.623Z"
   },
   {
    "duration": 15,
    "start_time": "2022-03-21T15:23:52.697Z"
   },
   {
    "duration": 15,
    "start_time": "2022-03-21T15:23:52.714Z"
   },
   {
    "duration": 16,
    "start_time": "2022-03-21T15:23:52.767Z"
   },
   {
    "duration": 106,
    "start_time": "2022-03-21T15:23:52.785Z"
   },
   {
    "duration": 0,
    "start_time": "2022-03-21T15:23:52.893Z"
   },
   {
    "duration": 33,
    "start_time": "2022-03-21T15:39:32.870Z"
   },
   {
    "duration": 605,
    "start_time": "2022-03-21T15:40:50.160Z"
   },
   {
    "duration": 63,
    "start_time": "2022-03-21T15:40:50.768Z"
   },
   {
    "duration": 8,
    "start_time": "2022-03-21T15:40:50.838Z"
   },
   {
    "duration": 19,
    "start_time": "2022-03-21T15:40:50.849Z"
   },
   {
    "duration": 9,
    "start_time": "2022-03-21T15:40:50.871Z"
   },
   {
    "duration": 46,
    "start_time": "2022-03-21T15:40:50.882Z"
   },
   {
    "duration": 43,
    "start_time": "2022-03-21T15:40:50.931Z"
   },
   {
    "duration": 11,
    "start_time": "2022-03-21T15:40:50.977Z"
   },
   {
    "duration": 22,
    "start_time": "2022-03-21T15:40:50.994Z"
   },
   {
    "duration": 10,
    "start_time": "2022-03-21T15:40:51.069Z"
   },
   {
    "duration": 10,
    "start_time": "2022-03-21T15:40:51.081Z"
   },
   {
    "duration": 11,
    "start_time": "2022-03-21T15:40:51.093Z"
   },
   {
    "duration": 8,
    "start_time": "2022-03-21T15:40:51.106Z"
   },
   {
    "duration": 55,
    "start_time": "2022-03-21T15:40:51.116Z"
   },
   {
    "duration": 16,
    "start_time": "2022-03-21T15:40:51.174Z"
   },
   {
    "duration": 6,
    "start_time": "2022-03-21T15:40:51.192Z"
   },
   {
    "duration": 5,
    "start_time": "2022-03-21T15:40:51.201Z"
   },
   {
    "duration": 61,
    "start_time": "2022-03-21T15:40:51.208Z"
   },
   {
    "duration": 45,
    "start_time": "2022-03-21T15:40:51.271Z"
   },
   {
    "duration": 6,
    "start_time": "2022-03-21T15:40:51.318Z"
   },
   {
    "duration": 7,
    "start_time": "2022-03-21T15:40:51.327Z"
   },
   {
    "duration": 9,
    "start_time": "2022-03-21T15:40:51.367Z"
   },
   {
    "duration": 28,
    "start_time": "2022-03-21T15:40:51.378Z"
   },
   {
    "duration": 60,
    "start_time": "2022-03-21T15:40:51.408Z"
   },
   {
    "duration": 25,
    "start_time": "2022-03-21T15:40:51.470Z"
   },
   {
    "duration": 10,
    "start_time": "2022-03-21T15:40:51.497Z"
   },
   {
    "duration": 16,
    "start_time": "2022-03-21T15:40:51.513Z"
   },
   {
    "duration": 11,
    "start_time": "2022-03-21T15:40:51.568Z"
   },
   {
    "duration": 10,
    "start_time": "2022-03-21T15:40:51.581Z"
   },
   {
    "duration": 13,
    "start_time": "2022-03-21T15:40:51.594Z"
   },
   {
    "duration": 59,
    "start_time": "2022-03-21T15:40:51.609Z"
   },
   {
    "duration": 10,
    "start_time": "2022-03-21T15:40:51.672Z"
   },
   {
    "duration": 13,
    "start_time": "2022-03-21T15:40:51.684Z"
   },
   {
    "duration": 15,
    "start_time": "2022-03-21T15:40:51.699Z"
   },
   {
    "duration": 5,
    "start_time": "2022-03-21T15:40:51.716Z"
   },
   {
    "duration": 47,
    "start_time": "2022-03-21T15:40:51.723Z"
   },
   {
    "duration": 10,
    "start_time": "2022-03-21T15:40:51.772Z"
   },
   {
    "duration": 13,
    "start_time": "2022-03-21T15:40:51.785Z"
   },
   {
    "duration": 5,
    "start_time": "2022-03-21T15:40:51.800Z"
   },
   {
    "duration": 11,
    "start_time": "2022-03-21T15:40:51.807Z"
   },
   {
    "duration": 5,
    "start_time": "2022-03-21T15:40:51.869Z"
   },
   {
    "duration": 7,
    "start_time": "2022-03-21T15:40:51.876Z"
   },
   {
    "duration": 9,
    "start_time": "2022-03-21T15:40:51.885Z"
   },
   {
    "duration": 6,
    "start_time": "2022-03-21T15:40:51.896Z"
   },
   {
    "duration": 14,
    "start_time": "2022-03-21T15:40:51.904Z"
   },
   {
    "duration": 18,
    "start_time": "2022-03-21T15:40:51.968Z"
   },
   {
    "duration": 11,
    "start_time": "2022-03-21T15:40:51.988Z"
   },
   {
    "duration": 5,
    "start_time": "2022-03-21T15:40:52.002Z"
   },
   {
    "duration": 261,
    "start_time": "2022-03-21T15:40:52.009Z"
   },
   {
    "duration": 32,
    "start_time": "2022-03-21T15:40:52.272Z"
   },
   {
    "duration": 8,
    "start_time": "2022-03-21T15:40:52.306Z"
   },
   {
    "duration": 67,
    "start_time": "2022-03-21T15:40:52.317Z"
   },
   {
    "duration": 16,
    "start_time": "2022-03-21T15:40:52.387Z"
   },
   {
    "duration": 19,
    "start_time": "2022-03-21T15:40:52.405Z"
   },
   {
    "duration": 18,
    "start_time": "2022-03-21T15:40:52.468Z"
   },
   {
    "duration": 29,
    "start_time": "2022-03-21T15:40:52.488Z"
   },
   {
    "duration": 637,
    "start_time": "2022-03-21T15:41:49.529Z"
   },
   {
    "duration": 50,
    "start_time": "2022-03-21T15:41:50.169Z"
   },
   {
    "duration": 10,
    "start_time": "2022-03-21T15:41:50.221Z"
   },
   {
    "duration": 39,
    "start_time": "2022-03-21T15:41:50.233Z"
   },
   {
    "duration": 8,
    "start_time": "2022-03-21T15:41:50.276Z"
   },
   {
    "duration": 88,
    "start_time": "2022-03-21T15:41:50.286Z"
   },
   {
    "duration": 10,
    "start_time": "2022-03-21T15:41:50.376Z"
   },
   {
    "duration": 15,
    "start_time": "2022-03-21T15:41:50.388Z"
   },
   {
    "duration": 64,
    "start_time": "2022-03-21T15:41:50.405Z"
   },
   {
    "duration": 9,
    "start_time": "2022-03-21T15:41:50.471Z"
   },
   {
    "duration": 6,
    "start_time": "2022-03-21T15:41:50.482Z"
   },
   {
    "duration": 12,
    "start_time": "2022-03-21T15:41:50.490Z"
   },
   {
    "duration": 8,
    "start_time": "2022-03-21T15:41:50.504Z"
   },
   {
    "duration": 8,
    "start_time": "2022-03-21T15:41:50.567Z"
   },
   {
    "duration": 16,
    "start_time": "2022-03-21T15:41:50.577Z"
   },
   {
    "duration": 8,
    "start_time": "2022-03-21T15:41:50.595Z"
   },
   {
    "duration": 64,
    "start_time": "2022-03-21T15:41:50.605Z"
   },
   {
    "duration": 13,
    "start_time": "2022-03-21T15:41:50.672Z"
   },
   {
    "duration": 47,
    "start_time": "2022-03-21T15:41:50.688Z"
   },
   {
    "duration": 32,
    "start_time": "2022-03-21T15:41:50.738Z"
   },
   {
    "duration": 10,
    "start_time": "2022-03-21T15:41:50.773Z"
   },
   {
    "duration": 7,
    "start_time": "2022-03-21T15:41:50.786Z"
   },
   {
    "duration": 88,
    "start_time": "2022-03-21T15:41:50.796Z"
   },
   {
    "duration": 34,
    "start_time": "2022-03-21T15:41:50.887Z"
   },
   {
    "duration": 59,
    "start_time": "2022-03-21T15:41:50.923Z"
   },
   {
    "duration": 12,
    "start_time": "2022-03-21T15:41:50.985Z"
   },
   {
    "duration": 22,
    "start_time": "2022-03-21T15:41:50.999Z"
   },
   {
    "duration": 47,
    "start_time": "2022-03-21T15:41:51.023Z"
   },
   {
    "duration": 12,
    "start_time": "2022-03-21T15:41:51.073Z"
   },
   {
    "duration": 11,
    "start_time": "2022-03-21T15:41:51.087Z"
   },
   {
    "duration": 10,
    "start_time": "2022-03-21T15:41:51.100Z"
   },
   {
    "duration": 62,
    "start_time": "2022-03-21T15:41:51.112Z"
   },
   {
    "duration": 15,
    "start_time": "2022-03-21T15:41:51.176Z"
   },
   {
    "duration": 26,
    "start_time": "2022-03-21T15:41:51.193Z"
   },
   {
    "duration": 8,
    "start_time": "2022-03-21T15:41:51.222Z"
   },
   {
    "duration": 42,
    "start_time": "2022-03-21T15:41:51.232Z"
   },
   {
    "duration": 13,
    "start_time": "2022-03-21T15:41:51.277Z"
   },
   {
    "duration": 34,
    "start_time": "2022-03-21T15:41:51.292Z"
   },
   {
    "duration": 23,
    "start_time": "2022-03-21T15:41:51.329Z"
   },
   {
    "duration": 15,
    "start_time": "2022-03-21T15:41:51.354Z"
   },
   {
    "duration": 14,
    "start_time": "2022-03-21T15:41:51.375Z"
   },
   {
    "duration": 17,
    "start_time": "2022-03-21T15:41:51.392Z"
   },
   {
    "duration": 16,
    "start_time": "2022-03-21T15:41:51.412Z"
   },
   {
    "duration": 19,
    "start_time": "2022-03-21T15:41:51.431Z"
   },
   {
    "duration": 15,
    "start_time": "2022-03-21T15:41:51.469Z"
   },
   {
    "duration": 25,
    "start_time": "2022-03-21T15:41:51.487Z"
   },
   {
    "duration": 22,
    "start_time": "2022-03-21T15:41:51.514Z"
   },
   {
    "duration": 28,
    "start_time": "2022-03-21T15:41:51.539Z"
   },
   {
    "duration": 265,
    "start_time": "2022-03-21T15:41:51.570Z"
   },
   {
    "duration": 38,
    "start_time": "2022-03-21T15:41:51.838Z"
   },
   {
    "duration": 13,
    "start_time": "2022-03-21T15:41:51.879Z"
   },
   {
    "duration": 74,
    "start_time": "2022-03-21T15:41:51.895Z"
   },
   {
    "duration": 19,
    "start_time": "2022-03-21T15:41:51.972Z"
   },
   {
    "duration": 21,
    "start_time": "2022-03-21T15:41:51.994Z"
   },
   {
    "duration": 53,
    "start_time": "2022-03-21T15:41:52.018Z"
   },
   {
    "duration": 32,
    "start_time": "2022-03-21T15:41:52.073Z"
   },
   {
    "duration": 1055,
    "start_time": "2022-04-20T14:09:38.323Z"
   },
   {
    "duration": 1037,
    "start_time": "2022-04-20T14:09:39.380Z"
   },
   {
    "duration": 11,
    "start_time": "2022-04-20T14:09:40.419Z"
   },
   {
    "duration": 26,
    "start_time": "2022-04-20T14:09:40.432Z"
   },
   {
    "duration": 17,
    "start_time": "2022-04-20T14:09:40.460Z"
   },
   {
    "duration": 20,
    "start_time": "2022-04-20T14:09:40.479Z"
   },
   {
    "duration": 9,
    "start_time": "2022-04-20T14:09:40.500Z"
   },
   {
    "duration": 104,
    "start_time": "2022-04-20T14:09:40.510Z"
   },
   {
    "duration": 14,
    "start_time": "2022-04-20T14:09:40.616Z"
   },
   {
    "duration": 24,
    "start_time": "2022-04-20T14:09:40.633Z"
   },
   {
    "duration": 13,
    "start_time": "2022-04-20T14:09:40.659Z"
   },
   {
    "duration": 8,
    "start_time": "2022-04-20T14:09:40.673Z"
   },
   {
    "duration": 11,
    "start_time": "2022-04-20T14:09:40.682Z"
   },
   {
    "duration": 7,
    "start_time": "2022-04-20T14:09:40.694Z"
   },
   {
    "duration": 7,
    "start_time": "2022-04-20T14:09:40.702Z"
   },
   {
    "duration": 8,
    "start_time": "2022-04-20T14:09:40.710Z"
   },
   {
    "duration": 8,
    "start_time": "2022-04-20T14:09:40.747Z"
   },
   {
    "duration": 4,
    "start_time": "2022-04-20T14:09:40.756Z"
   },
   {
    "duration": 11,
    "start_time": "2022-04-20T14:09:40.762Z"
   },
   {
    "duration": 347,
    "start_time": "2022-04-20T14:09:40.775Z"
   },
   {
    "duration": 43,
    "start_time": "2022-04-20T14:09:41.124Z"
   },
   {
    "duration": 51,
    "start_time": "2022-04-20T14:09:41.168Z"
   },
   {
    "duration": 28,
    "start_time": "2022-04-20T14:09:41.221Z"
   },
   {
    "duration": 25,
    "start_time": "2022-04-20T14:09:41.251Z"
   },
   {
    "duration": 38,
    "start_time": "2022-04-20T14:09:41.277Z"
   },
   {
    "duration": 48,
    "start_time": "2022-04-20T14:09:41.317Z"
   },
   {
    "duration": 23,
    "start_time": "2022-04-20T14:09:41.366Z"
   },
   {
    "duration": 3,
    "start_time": "2022-04-20T14:09:41.394Z"
   },
   {
    "duration": 6,
    "start_time": "2022-04-20T14:09:41.399Z"
   },
   {
    "duration": 7,
    "start_time": "2022-04-20T14:09:41.407Z"
   },
   {
    "duration": 48,
    "start_time": "2022-04-20T14:09:41.416Z"
   },
   {
    "duration": 4,
    "start_time": "2022-04-20T14:09:41.465Z"
   },
   {
    "duration": 5,
    "start_time": "2022-04-20T14:09:41.470Z"
   },
   {
    "duration": 13,
    "start_time": "2022-04-20T14:09:41.477Z"
   },
   {
    "duration": 20,
    "start_time": "2022-04-20T14:09:41.491Z"
   },
   {
    "duration": 50,
    "start_time": "2022-04-20T14:09:41.513Z"
   },
   {
    "duration": 4,
    "start_time": "2022-04-20T14:09:41.565Z"
   },
   {
    "duration": 28,
    "start_time": "2022-04-20T14:09:41.570Z"
   },
   {
    "duration": 9,
    "start_time": "2022-04-20T14:09:41.599Z"
   },
   {
    "duration": 10,
    "start_time": "2022-04-20T14:09:41.609Z"
   },
   {
    "duration": 41,
    "start_time": "2022-04-20T14:09:41.620Z"
   },
   {
    "duration": 11,
    "start_time": "2022-04-20T14:09:41.663Z"
   },
   {
    "duration": 16,
    "start_time": "2022-04-20T14:09:41.676Z"
   },
   {
    "duration": 3,
    "start_time": "2022-04-20T14:09:41.693Z"
   },
   {
    "duration": 683,
    "start_time": "2022-04-20T14:09:41.697Z"
   },
   {
    "duration": 11,
    "start_time": "2022-04-20T14:09:42.381Z"
   },
   {
    "duration": 20,
    "start_time": "2022-04-20T14:09:42.393Z"
   },
   {
    "duration": 585,
    "start_time": "2022-04-20T14:09:42.414Z"
   },
   {
    "duration": 11,
    "start_time": "2022-04-20T14:09:43.000Z"
   },
   {
    "duration": 16,
    "start_time": "2022-04-20T14:09:43.012Z"
   },
   {
    "duration": 647,
    "start_time": "2022-04-20T14:09:43.030Z"
   },
   {
    "duration": 10,
    "start_time": "2022-04-20T14:09:43.679Z"
   },
   {
    "duration": 7,
    "start_time": "2022-04-20T14:09:43.691Z"
   },
   {
    "duration": 5,
    "start_time": "2022-04-20T14:09:43.699Z"
   },
   {
    "duration": 5,
    "start_time": "2022-04-20T14:09:43.705Z"
   },
   {
    "duration": 4,
    "start_time": "2022-04-20T14:09:43.711Z"
   },
   {
    "duration": 4,
    "start_time": "2022-04-20T14:09:43.716Z"
   },
   {
    "duration": 7,
    "start_time": "2022-04-20T14:09:43.748Z"
   },
   {
    "duration": 18,
    "start_time": "2022-04-20T14:09:43.758Z"
   },
   {
    "duration": 4,
    "start_time": "2022-04-20T14:09:43.777Z"
   },
   {
    "duration": 6,
    "start_time": "2022-04-20T14:09:43.782Z"
   },
   {
    "duration": 5,
    "start_time": "2022-04-20T14:09:43.789Z"
   },
   {
    "duration": 5,
    "start_time": "2022-04-20T14:09:43.795Z"
   },
   {
    "duration": 5,
    "start_time": "2022-04-20T14:09:43.801Z"
   },
   {
    "duration": 6,
    "start_time": "2022-04-20T14:09:43.808Z"
   },
   {
    "duration": 9,
    "start_time": "2022-04-20T14:09:43.856Z"
   },
   {
    "duration": 5,
    "start_time": "2022-04-20T14:09:43.866Z"
   },
   {
    "duration": 10,
    "start_time": "2022-04-20T14:09:43.872Z"
   },
   {
    "duration": 4,
    "start_time": "2022-04-20T14:09:43.883Z"
   },
   {
    "duration": 5,
    "start_time": "2022-04-20T14:09:43.888Z"
   },
   {
    "duration": 5,
    "start_time": "2022-04-20T14:09:43.894Z"
   },
   {
    "duration": 5,
    "start_time": "2022-04-20T14:09:43.900Z"
   },
   {
    "duration": 5,
    "start_time": "2022-04-20T14:09:43.906Z"
   },
   {
    "duration": 4,
    "start_time": "2022-04-20T14:09:43.913Z"
   },
   {
    "duration": 37,
    "start_time": "2022-04-20T14:09:43.918Z"
   },
   {
    "duration": 5,
    "start_time": "2022-04-20T14:20:23.213Z"
   },
   {
    "duration": 9,
    "start_time": "2022-04-20T14:22:35.649Z"
   },
   {
    "duration": 127,
    "start_time": "2022-04-20T14:29:31.093Z"
   },
   {
    "duration": 133,
    "start_time": "2022-04-20T14:29:48.238Z"
   },
   {
    "duration": 142,
    "start_time": "2022-04-20T14:30:04.138Z"
   },
   {
    "duration": 143,
    "start_time": "2022-04-20T14:30:21.534Z"
   },
   {
    "duration": 182,
    "start_time": "2022-04-20T14:30:47.242Z"
   },
   {
    "duration": 9,
    "start_time": "2022-04-20T14:34:24.617Z"
   },
   {
    "duration": 10,
    "start_time": "2022-04-20T14:41:57.216Z"
   },
   {
    "duration": 10,
    "start_time": "2022-04-20T14:42:06.774Z"
   },
   {
    "duration": 76,
    "start_time": "2022-04-20T19:28:22.442Z"
   },
   {
    "duration": 1897,
    "start_time": "2022-04-20T19:28:29.612Z"
   },
   {
    "duration": 528,
    "start_time": "2022-04-20T19:28:31.512Z"
   },
   {
    "duration": 20,
    "start_time": "2022-04-20T19:28:32.042Z"
   },
   {
    "duration": 49,
    "start_time": "2022-04-20T19:28:32.064Z"
   },
   {
    "duration": 26,
    "start_time": "2022-04-20T19:28:32.123Z"
   },
   {
    "duration": 29,
    "start_time": "2022-04-20T19:28:32.151Z"
   },
   {
    "duration": 46,
    "start_time": "2022-04-20T19:28:32.183Z"
   },
   {
    "duration": 133,
    "start_time": "2022-04-20T19:28:32.232Z"
   },
   {
    "duration": 23,
    "start_time": "2022-04-20T19:28:32.367Z"
   },
   {
    "duration": 41,
    "start_time": "2022-04-20T19:28:32.393Z"
   },
   {
    "duration": 17,
    "start_time": "2022-04-20T19:28:32.438Z"
   },
   {
    "duration": 15,
    "start_time": "2022-04-20T19:28:32.458Z"
   },
   {
    "duration": 58,
    "start_time": "2022-04-20T19:28:32.476Z"
   },
   {
    "duration": 11,
    "start_time": "2022-04-20T19:28:32.543Z"
   },
   {
    "duration": 27,
    "start_time": "2022-04-20T19:28:32.557Z"
   },
   {
    "duration": 36,
    "start_time": "2022-04-20T19:28:32.588Z"
   },
   {
    "duration": 8,
    "start_time": "2022-04-20T19:28:32.627Z"
   },
   {
    "duration": 5,
    "start_time": "2022-04-20T19:28:32.637Z"
   },
   {
    "duration": 20,
    "start_time": "2022-04-20T19:28:32.644Z"
   },
   {
    "duration": 589,
    "start_time": "2022-04-20T19:28:32.666Z"
   },
   {
    "duration": 42,
    "start_time": "2022-04-20T19:28:33.257Z"
   },
   {
    "duration": 74,
    "start_time": "2022-04-20T19:28:33.301Z"
   },
   {
    "duration": 14,
    "start_time": "2022-04-20T19:28:33.377Z"
   },
   {
    "duration": 53,
    "start_time": "2022-04-20T19:28:33.393Z"
   },
   {
    "duration": 37,
    "start_time": "2022-04-20T19:28:33.448Z"
   },
   {
    "duration": 57,
    "start_time": "2022-04-20T19:28:33.487Z"
   },
   {
    "duration": 37,
    "start_time": "2022-04-20T19:28:33.546Z"
   },
   {
    "duration": 5,
    "start_time": "2022-04-20T19:28:33.585Z"
   },
   {
    "duration": 32,
    "start_time": "2022-04-20T19:28:33.593Z"
   },
   {
    "duration": 21,
    "start_time": "2022-04-20T19:28:33.628Z"
   },
   {
    "duration": 41,
    "start_time": "2022-04-20T19:28:33.651Z"
   },
   {
    "duration": 5,
    "start_time": "2022-04-20T19:28:33.695Z"
   },
   {
    "duration": 23,
    "start_time": "2022-04-20T19:28:33.702Z"
   },
   {
    "duration": 24,
    "start_time": "2022-04-20T19:28:33.727Z"
   },
   {
    "duration": 41,
    "start_time": "2022-04-20T19:28:33.754Z"
   },
   {
    "duration": 55,
    "start_time": "2022-04-20T19:28:33.797Z"
   },
   {
    "duration": 7,
    "start_time": "2022-04-20T19:28:33.854Z"
   },
   {
    "duration": 68,
    "start_time": "2022-04-20T19:28:33.863Z"
   },
   {
    "duration": 15,
    "start_time": "2022-04-20T19:28:33.933Z"
   },
   {
    "duration": 19,
    "start_time": "2022-04-20T19:28:33.951Z"
   },
   {
    "duration": 13,
    "start_time": "2022-04-20T19:28:33.977Z"
   },
   {
    "duration": 43,
    "start_time": "2022-04-20T19:28:33.993Z"
   },
   {
    "duration": 31,
    "start_time": "2022-04-20T19:28:34.038Z"
   },
   {
    "duration": 6,
    "start_time": "2022-04-20T19:28:34.072Z"
   },
   {
    "duration": 1320,
    "start_time": "2022-04-20T19:28:34.080Z"
   },
   {
    "duration": 26,
    "start_time": "2022-04-20T19:28:35.403Z"
   },
   {
    "duration": 36,
    "start_time": "2022-04-20T19:28:35.432Z"
   },
   {
    "duration": 1034,
    "start_time": "2022-04-20T19:28:35.471Z"
   },
   {
    "duration": 23,
    "start_time": "2022-04-20T19:28:36.507Z"
   },
   {
    "duration": 20,
    "start_time": "2022-04-20T19:28:36.532Z"
   },
   {
    "duration": 29,
    "start_time": "2022-04-20T19:28:36.554Z"
   },
   {
    "duration": 1215,
    "start_time": "2022-04-20T19:28:36.585Z"
   },
   {
    "duration": 35,
    "start_time": "2022-04-20T19:28:37.802Z"
   },
   {
    "duration": 14,
    "start_time": "2022-04-20T19:28:37.840Z"
   },
   {
    "duration": 10,
    "start_time": "2022-04-20T19:28:37.856Z"
   },
   {
    "duration": 9,
    "start_time": "2022-04-20T19:28:37.868Z"
   },
   {
    "duration": 9,
    "start_time": "2022-04-20T19:28:37.879Z"
   },
   {
    "duration": 49,
    "start_time": "2022-04-20T19:28:37.890Z"
   },
   {
    "duration": 11,
    "start_time": "2022-04-20T19:28:37.942Z"
   },
   {
    "duration": 30,
    "start_time": "2022-04-20T19:28:37.955Z"
   },
   {
    "duration": 6,
    "start_time": "2022-04-20T19:28:37.988Z"
   },
   {
    "duration": 38,
    "start_time": "2022-04-20T19:28:37.996Z"
   },
   {
    "duration": 11,
    "start_time": "2022-04-20T19:28:38.037Z"
   },
   {
    "duration": 10,
    "start_time": "2022-04-20T19:28:38.049Z"
   },
   {
    "duration": 11,
    "start_time": "2022-04-20T19:28:38.061Z"
   },
   {
    "duration": 19,
    "start_time": "2022-04-20T19:28:38.075Z"
   },
   {
    "duration": 35,
    "start_time": "2022-04-20T19:28:38.096Z"
   },
   {
    "duration": 7,
    "start_time": "2022-04-20T19:28:38.134Z"
   },
   {
    "duration": 13,
    "start_time": "2022-04-20T19:28:38.143Z"
   },
   {
    "duration": 21,
    "start_time": "2022-04-20T19:28:38.158Z"
   },
   {
    "duration": 11,
    "start_time": "2022-04-20T19:28:38.182Z"
   },
   {
    "duration": 45,
    "start_time": "2022-04-20T19:28:38.195Z"
   },
   {
    "duration": 40,
    "start_time": "2022-04-20T19:28:38.243Z"
   },
   {
    "duration": 13,
    "start_time": "2022-04-20T19:28:38.285Z"
   },
   {
    "duration": 13,
    "start_time": "2022-04-20T19:28:38.300Z"
   },
   {
    "duration": 26,
    "start_time": "2022-04-20T19:28:38.316Z"
   },
   {
    "duration": 19,
    "start_time": "2022-04-20T19:28:38.345Z"
   },
   {
    "duration": 73,
    "start_time": "2022-04-20T19:28:38.366Z"
   },
   {
    "duration": 8,
    "start_time": "2022-04-20T19:55:25.412Z"
   },
   {
    "duration": 144,
    "start_time": "2022-04-20T19:56:03.247Z"
   },
   {
    "duration": 22,
    "start_time": "2022-04-20T19:56:09.103Z"
   },
   {
    "duration": 25,
    "start_time": "2022-04-20T19:57:49.773Z"
   },
   {
    "duration": 17,
    "start_time": "2022-04-20T19:58:00.613Z"
   },
   {
    "duration": 20,
    "start_time": "2022-04-20T20:04:59.287Z"
   },
   {
    "duration": 17,
    "start_time": "2022-04-20T20:05:28.266Z"
   },
   {
    "duration": 18,
    "start_time": "2022-04-20T20:07:43.732Z"
   },
   {
    "duration": 15,
    "start_time": "2022-04-20T20:09:47.340Z"
   },
   {
    "duration": 16,
    "start_time": "2022-04-20T20:11:33.044Z"
   },
   {
    "duration": 19,
    "start_time": "2022-04-20T20:11:38.379Z"
   },
   {
    "duration": 2065,
    "start_time": "2022-04-20T20:14:53.008Z"
   },
   {
    "duration": 796,
    "start_time": "2022-04-20T20:14:55.077Z"
   },
   {
    "duration": 25,
    "start_time": "2022-04-20T20:14:55.876Z"
   },
   {
    "duration": 65,
    "start_time": "2022-04-20T20:14:55.906Z"
   },
   {
    "duration": 58,
    "start_time": "2022-04-20T20:14:55.974Z"
   },
   {
    "duration": 45,
    "start_time": "2022-04-20T20:14:56.035Z"
   },
   {
    "duration": 45,
    "start_time": "2022-04-20T20:14:56.083Z"
   },
   {
    "duration": 209,
    "start_time": "2022-04-20T20:14:56.131Z"
   },
   {
    "duration": 32,
    "start_time": "2022-04-20T20:14:56.342Z"
   },
   {
    "duration": 21,
    "start_time": "2022-04-20T20:14:56.380Z"
   },
   {
    "duration": 19,
    "start_time": "2022-04-20T20:14:56.425Z"
   },
   {
    "duration": 13,
    "start_time": "2022-04-20T20:14:56.447Z"
   },
   {
    "duration": 24,
    "start_time": "2022-04-20T20:14:56.462Z"
   },
   {
    "duration": 35,
    "start_time": "2022-04-20T20:14:56.489Z"
   },
   {
    "duration": 20,
    "start_time": "2022-04-20T20:14:56.527Z"
   },
   {
    "duration": 23,
    "start_time": "2022-04-20T20:14:56.549Z"
   },
   {
    "duration": 18,
    "start_time": "2022-04-20T20:14:56.574Z"
   },
   {
    "duration": 8,
    "start_time": "2022-04-20T20:14:56.594Z"
   },
   {
    "duration": 30,
    "start_time": "2022-04-20T20:14:56.604Z"
   },
   {
    "duration": 609,
    "start_time": "2022-04-20T20:14:56.636Z"
   },
   {
    "duration": 40,
    "start_time": "2022-04-20T20:14:57.248Z"
   },
   {
    "duration": 78,
    "start_time": "2022-04-20T20:14:57.290Z"
   },
   {
    "duration": 18,
    "start_time": "2022-04-20T20:14:57.371Z"
   },
   {
    "duration": 63,
    "start_time": "2022-04-20T20:14:57.392Z"
   },
   {
    "duration": 68,
    "start_time": "2022-04-20T20:14:57.458Z"
   },
   {
    "duration": 44,
    "start_time": "2022-04-20T20:14:57.529Z"
   },
   {
    "duration": 76,
    "start_time": "2022-04-20T20:14:57.576Z"
   },
   {
    "duration": 7,
    "start_time": "2022-04-20T20:14:57.663Z"
   },
   {
    "duration": 9,
    "start_time": "2022-04-20T20:14:57.673Z"
   },
   {
    "duration": 41,
    "start_time": "2022-04-20T20:14:57.684Z"
   },
   {
    "duration": 40,
    "start_time": "2022-04-20T20:14:57.728Z"
   },
   {
    "duration": 8,
    "start_time": "2022-04-20T20:14:57.770Z"
   },
   {
    "duration": 10,
    "start_time": "2022-04-20T20:14:57.780Z"
   },
   {
    "duration": 53,
    "start_time": "2022-04-20T20:14:57.793Z"
   },
   {
    "duration": 42,
    "start_time": "2022-04-20T20:14:57.848Z"
   },
   {
    "duration": 53,
    "start_time": "2022-04-20T20:14:57.892Z"
   },
   {
    "duration": 11,
    "start_time": "2022-04-20T20:14:57.947Z"
   },
   {
    "duration": 66,
    "start_time": "2022-04-20T20:14:57.960Z"
   },
   {
    "duration": 16,
    "start_time": "2022-04-20T20:14:58.028Z"
   },
   {
    "duration": 21,
    "start_time": "2022-04-20T20:14:58.046Z"
   },
   {
    "duration": 18,
    "start_time": "2022-04-20T20:14:58.069Z"
   },
   {
    "duration": 52,
    "start_time": "2022-04-20T20:14:58.089Z"
   },
   {
    "duration": 30,
    "start_time": "2022-04-20T20:14:58.143Z"
   },
   {
    "duration": 6,
    "start_time": "2022-04-20T20:14:58.176Z"
   },
   {
    "duration": 1215,
    "start_time": "2022-04-20T20:14:58.184Z"
   },
   {
    "duration": 30,
    "start_time": "2022-04-20T20:14:59.401Z"
   },
   {
    "duration": 19,
    "start_time": "2022-04-20T20:14:59.433Z"
   },
   {
    "duration": 37,
    "start_time": "2022-04-20T20:14:59.454Z"
   },
   {
    "duration": 1067,
    "start_time": "2022-04-20T20:14:59.493Z"
   },
   {
    "duration": 20,
    "start_time": "2022-04-20T20:15:00.562Z"
   },
   {
    "duration": 42,
    "start_time": "2022-04-20T20:15:00.584Z"
   },
   {
    "duration": 42,
    "start_time": "2022-04-20T20:15:00.630Z"
   },
   {
    "duration": 1548,
    "start_time": "2022-04-20T20:15:00.676Z"
   },
   {
    "duration": 16,
    "start_time": "2022-04-20T20:15:02.227Z"
   },
   {
    "duration": 26,
    "start_time": "2022-04-20T20:15:02.245Z"
   },
   {
    "duration": 13,
    "start_time": "2022-04-20T20:15:02.273Z"
   },
   {
    "duration": 41,
    "start_time": "2022-04-20T20:15:02.288Z"
   },
   {
    "duration": 15,
    "start_time": "2022-04-20T20:15:02.332Z"
   },
   {
    "duration": 13,
    "start_time": "2022-04-20T20:15:02.349Z"
   },
   {
    "duration": 28,
    "start_time": "2022-04-20T20:15:02.364Z"
   },
   {
    "duration": 20,
    "start_time": "2022-04-20T20:15:02.394Z"
   },
   {
    "duration": 38,
    "start_time": "2022-04-20T20:15:02.417Z"
   },
   {
    "duration": 6,
    "start_time": "2022-04-20T20:15:02.458Z"
   },
   {
    "duration": 15,
    "start_time": "2022-04-20T20:15:02.466Z"
   },
   {
    "duration": 20,
    "start_time": "2022-04-20T20:15:02.485Z"
   },
   {
    "duration": 17,
    "start_time": "2022-04-20T20:15:02.523Z"
   },
   {
    "duration": 10,
    "start_time": "2022-04-20T20:15:02.543Z"
   },
   {
    "duration": 13,
    "start_time": "2022-04-20T20:15:02.555Z"
   },
   {
    "duration": 13,
    "start_time": "2022-04-20T20:15:02.570Z"
   },
   {
    "duration": 13,
    "start_time": "2022-04-20T20:15:02.585Z"
   },
   {
    "duration": 36,
    "start_time": "2022-04-20T20:15:02.600Z"
   },
   {
    "duration": 13,
    "start_time": "2022-04-20T20:15:02.638Z"
   },
   {
    "duration": 14,
    "start_time": "2022-04-20T20:15:02.653Z"
   },
   {
    "duration": 18,
    "start_time": "2022-04-20T20:15:02.670Z"
   },
   {
    "duration": 16,
    "start_time": "2022-04-20T20:15:02.691Z"
   },
   {
    "duration": 20,
    "start_time": "2022-04-20T20:15:02.710Z"
   },
   {
    "duration": 28,
    "start_time": "2022-04-20T20:15:02.733Z"
   },
   {
    "duration": 16,
    "start_time": "2022-04-20T20:15:02.763Z"
   },
   {
    "duration": 32,
    "start_time": "2022-04-20T20:15:02.781Z"
   },
   {
    "duration": 1514,
    "start_time": "2022-04-21T06:09:01.055Z"
   },
   {
    "duration": 456,
    "start_time": "2022-04-21T06:09:02.571Z"
   },
   {
    "duration": 13,
    "start_time": "2022-04-21T06:09:03.029Z"
   },
   {
    "duration": 39,
    "start_time": "2022-04-21T06:09:03.044Z"
   },
   {
    "duration": 21,
    "start_time": "2022-04-21T06:09:03.084Z"
   },
   {
    "duration": 36,
    "start_time": "2022-04-21T06:09:03.107Z"
   },
   {
    "duration": 11,
    "start_time": "2022-04-21T06:09:03.145Z"
   },
   {
    "duration": 99,
    "start_time": "2022-04-21T06:09:03.158Z"
   },
   {
    "duration": 17,
    "start_time": "2022-04-21T06:09:03.259Z"
   },
   {
    "duration": 13,
    "start_time": "2022-04-21T06:09:03.279Z"
   },
   {
    "duration": 17,
    "start_time": "2022-04-21T06:09:03.293Z"
   },
   {
    "duration": 9,
    "start_time": "2022-04-21T06:09:03.334Z"
   },
   {
    "duration": 26,
    "start_time": "2022-04-21T06:09:03.344Z"
   },
   {
    "duration": 12,
    "start_time": "2022-04-21T06:09:03.371Z"
   },
   {
    "duration": 14,
    "start_time": "2022-04-21T06:09:03.385Z"
   },
   {
    "duration": 13,
    "start_time": "2022-04-21T06:09:03.401Z"
   },
   {
    "duration": 23,
    "start_time": "2022-04-21T06:09:03.416Z"
   },
   {
    "duration": 7,
    "start_time": "2022-04-21T06:09:03.441Z"
   },
   {
    "duration": 16,
    "start_time": "2022-04-21T06:09:03.450Z"
   },
   {
    "duration": 413,
    "start_time": "2022-04-21T06:09:03.468Z"
   },
   {
    "duration": 31,
    "start_time": "2022-04-21T06:09:03.883Z"
   },
   {
    "duration": 53,
    "start_time": "2022-04-21T06:09:03.916Z"
   },
   {
    "duration": 10,
    "start_time": "2022-04-21T06:09:03.971Z"
   },
   {
    "duration": 21,
    "start_time": "2022-04-21T06:09:03.983Z"
   },
   {
    "duration": 29,
    "start_time": "2022-04-21T06:09:04.034Z"
   },
   {
    "duration": 25,
    "start_time": "2022-04-21T06:09:04.065Z"
   },
   {
    "duration": 52,
    "start_time": "2022-04-21T06:09:04.091Z"
   },
   {
    "duration": 4,
    "start_time": "2022-04-21T06:09:04.148Z"
   },
   {
    "duration": 9,
    "start_time": "2022-04-21T06:09:04.153Z"
   },
   {
    "duration": 11,
    "start_time": "2022-04-21T06:09:04.164Z"
   },
   {
    "duration": 31,
    "start_time": "2022-04-21T06:09:04.177Z"
   },
   {
    "duration": 23,
    "start_time": "2022-04-21T06:09:04.210Z"
   },
   {
    "duration": 16,
    "start_time": "2022-04-21T06:09:04.235Z"
   },
   {
    "duration": 26,
    "start_time": "2022-04-21T06:09:04.253Z"
   },
   {
    "duration": 38,
    "start_time": "2022-04-21T06:09:04.281Z"
   },
   {
    "duration": 25,
    "start_time": "2022-04-21T06:09:04.321Z"
   },
   {
    "duration": 8,
    "start_time": "2022-04-21T06:09:04.348Z"
   },
   {
    "duration": 38,
    "start_time": "2022-04-21T06:09:04.357Z"
   },
   {
    "duration": 17,
    "start_time": "2022-04-21T06:09:04.396Z"
   },
   {
    "duration": 25,
    "start_time": "2022-04-21T06:09:04.415Z"
   },
   {
    "duration": 10,
    "start_time": "2022-04-21T06:09:04.442Z"
   },
   {
    "duration": 30,
    "start_time": "2022-04-21T06:09:04.453Z"
   },
   {
    "duration": 26,
    "start_time": "2022-04-21T06:09:04.485Z"
   },
   {
    "duration": 4,
    "start_time": "2022-04-21T06:09:04.512Z"
   },
   {
    "duration": 873,
    "start_time": "2022-04-21T06:09:04.518Z"
   },
   {
    "duration": 12,
    "start_time": "2022-04-21T06:09:05.393Z"
   },
   {
    "duration": 30,
    "start_time": "2022-04-21T06:09:05.407Z"
   },
   {
    "duration": 26,
    "start_time": "2022-04-21T06:09:05.439Z"
   },
   {
    "duration": 736,
    "start_time": "2022-04-21T06:09:05.467Z"
   },
   {
    "duration": 13,
    "start_time": "2022-04-21T06:09:06.205Z"
   },
   {
    "duration": 24,
    "start_time": "2022-04-21T06:09:06.220Z"
   },
   {
    "duration": 22,
    "start_time": "2022-04-21T06:09:06.245Z"
   },
   {
    "duration": 828,
    "start_time": "2022-04-21T06:09:06.269Z"
   },
   {
    "duration": 11,
    "start_time": "2022-04-21T06:09:07.099Z"
   },
   {
    "duration": 32,
    "start_time": "2022-04-21T06:09:07.113Z"
   },
   {
    "duration": 8,
    "start_time": "2022-04-21T06:09:07.147Z"
   },
   {
    "duration": 10,
    "start_time": "2022-04-21T06:09:07.157Z"
   },
   {
    "duration": 8,
    "start_time": "2022-04-21T06:09:07.168Z"
   },
   {
    "duration": 10,
    "start_time": "2022-04-21T06:09:07.178Z"
   },
   {
    "duration": 8,
    "start_time": "2022-04-21T06:09:07.190Z"
   },
   {
    "duration": 35,
    "start_time": "2022-04-21T06:09:07.200Z"
   },
   {
    "duration": 19,
    "start_time": "2022-04-21T06:09:07.237Z"
   },
   {
    "duration": 4,
    "start_time": "2022-04-21T06:09:07.258Z"
   },
   {
    "duration": 7,
    "start_time": "2022-04-21T06:09:07.263Z"
   },
   {
    "duration": 9,
    "start_time": "2022-04-21T06:09:07.272Z"
   },
   {
    "duration": 6,
    "start_time": "2022-04-21T06:09:07.283Z"
   },
   {
    "duration": 7,
    "start_time": "2022-04-21T06:09:07.291Z"
   },
   {
    "duration": 5,
    "start_time": "2022-04-21T06:09:07.333Z"
   },
   {
    "duration": 11,
    "start_time": "2022-04-21T06:09:07.340Z"
   },
   {
    "duration": 8,
    "start_time": "2022-04-21T06:09:07.353Z"
   },
   {
    "duration": 6,
    "start_time": "2022-04-21T06:09:07.363Z"
   },
   {
    "duration": 7,
    "start_time": "2022-04-21T06:09:07.371Z"
   },
   {
    "duration": 6,
    "start_time": "2022-04-21T06:09:07.380Z"
   },
   {
    "duration": 7,
    "start_time": "2022-04-21T06:09:07.387Z"
   },
   {
    "duration": 39,
    "start_time": "2022-04-21T06:09:07.395Z"
   },
   {
    "duration": 5,
    "start_time": "2022-04-21T06:09:07.436Z"
   },
   {
    "duration": 8,
    "start_time": "2022-04-21T06:09:07.443Z"
   },
   {
    "duration": 8,
    "start_time": "2022-04-21T06:09:07.453Z"
   },
   {
    "duration": 15,
    "start_time": "2022-04-21T06:09:07.462Z"
   },
   {
    "duration": 167,
    "start_time": "2022-04-21T06:11:11.977Z"
   },
   {
    "duration": 7,
    "start_time": "2022-04-21T06:11:21.987Z"
   },
   {
    "duration": 107,
    "start_time": "2022-04-21T06:11:28.411Z"
   },
   {
    "duration": 9,
    "start_time": "2022-04-21T06:11:33.622Z"
   },
   {
    "duration": 21,
    "start_time": "2022-04-21T06:26:01.830Z"
   },
   {
    "duration": 309,
    "start_time": "2022-04-21T06:27:32.606Z"
   },
   {
    "duration": 319,
    "start_time": "2022-04-21T06:28:10.556Z"
   },
   {
    "duration": 323,
    "start_time": "2022-04-21T06:29:36.218Z"
   },
   {
    "duration": 315,
    "start_time": "2022-04-21T06:30:00.790Z"
   },
   {
    "duration": 10,
    "start_time": "2022-04-21T06:41:08.109Z"
   },
   {
    "duration": 14,
    "start_time": "2022-04-21T06:41:14.696Z"
   },
   {
    "duration": 1245,
    "start_time": "2022-04-21T06:41:49.758Z"
   },
   {
    "duration": 436,
    "start_time": "2022-04-21T06:41:51.005Z"
   },
   {
    "duration": 13,
    "start_time": "2022-04-21T06:41:51.443Z"
   },
   {
    "duration": 30,
    "start_time": "2022-04-21T06:41:51.458Z"
   },
   {
    "duration": 20,
    "start_time": "2022-04-21T06:41:51.490Z"
   },
   {
    "duration": 41,
    "start_time": "2022-04-21T06:41:51.512Z"
   },
   {
    "duration": 12,
    "start_time": "2022-04-21T06:41:51.555Z"
   },
   {
    "duration": 103,
    "start_time": "2022-04-21T06:41:51.568Z"
   },
   {
    "duration": 15,
    "start_time": "2022-04-21T06:41:51.673Z"
   },
   {
    "duration": 9,
    "start_time": "2022-04-21T06:41:51.691Z"
   },
   {
    "duration": 35,
    "start_time": "2022-04-21T06:41:51.702Z"
   },
   {
    "duration": 9,
    "start_time": "2022-04-21T06:41:51.739Z"
   },
   {
    "duration": 15,
    "start_time": "2022-04-21T06:41:51.750Z"
   },
   {
    "duration": 9,
    "start_time": "2022-04-21T06:41:51.767Z"
   },
   {
    "duration": 12,
    "start_time": "2022-04-21T06:41:51.778Z"
   },
   {
    "duration": 13,
    "start_time": "2022-04-21T06:41:51.792Z"
   },
   {
    "duration": 6,
    "start_time": "2022-04-21T06:41:51.833Z"
   },
   {
    "duration": 6,
    "start_time": "2022-04-21T06:41:51.840Z"
   },
   {
    "duration": 13,
    "start_time": "2022-04-21T06:41:51.848Z"
   },
   {
    "duration": 416,
    "start_time": "2022-04-21T06:41:51.863Z"
   },
   {
    "duration": 32,
    "start_time": "2022-04-21T06:41:52.281Z"
   },
   {
    "duration": 56,
    "start_time": "2022-04-21T06:41:52.315Z"
   },
   {
    "duration": 11,
    "start_time": "2022-04-21T06:41:52.373Z"
   },
   {
    "duration": 23,
    "start_time": "2022-04-21T06:41:52.386Z"
   },
   {
    "duration": 30,
    "start_time": "2022-04-21T06:41:52.434Z"
   },
   {
    "duration": 25,
    "start_time": "2022-04-21T06:41:52.466Z"
   },
   {
    "duration": 60,
    "start_time": "2022-04-21T06:41:52.493Z"
   },
   {
    "duration": 4,
    "start_time": "2022-04-21T06:41:52.559Z"
   },
   {
    "duration": 9,
    "start_time": "2022-04-21T06:41:52.565Z"
   },
   {
    "duration": 11,
    "start_time": "2022-04-21T06:41:52.575Z"
   },
   {
    "duration": 22,
    "start_time": "2022-04-21T06:41:52.587Z"
   },
   {
    "duration": 25,
    "start_time": "2022-04-21T06:41:52.611Z"
   },
   {
    "duration": 6,
    "start_time": "2022-04-21T06:41:52.638Z"
   },
   {
    "duration": 16,
    "start_time": "2022-04-21T06:41:52.645Z"
   },
   {
    "duration": 25,
    "start_time": "2022-04-21T06:41:52.663Z"
   },
   {
    "duration": 49,
    "start_time": "2022-04-21T06:41:52.689Z"
   },
   {
    "duration": 5,
    "start_time": "2022-04-21T06:41:52.740Z"
   },
   {
    "duration": 37,
    "start_time": "2022-04-21T06:41:52.747Z"
   },
   {
    "duration": 56,
    "start_time": "2022-04-21T06:41:52.786Z"
   },
   {
    "duration": 14,
    "start_time": "2022-04-21T06:41:52.845Z"
   },
   {
    "duration": 15,
    "start_time": "2022-04-21T06:41:52.861Z"
   },
   {
    "duration": 13,
    "start_time": "2022-04-21T06:41:52.878Z"
   },
   {
    "duration": 41,
    "start_time": "2022-04-21T06:41:52.893Z"
   },
   {
    "duration": 20,
    "start_time": "2022-04-21T06:41:52.935Z"
   },
   {
    "duration": 4,
    "start_time": "2022-04-21T06:41:52.957Z"
   },
   {
    "duration": 820,
    "start_time": "2022-04-21T06:41:52.963Z"
   },
   {
    "duration": 331,
    "start_time": "2022-04-21T06:41:53.785Z"
   },
   {
    "duration": 21,
    "start_time": "2022-04-21T06:41:54.118Z"
   },
   {
    "duration": 13,
    "start_time": "2022-04-21T06:41:54.140Z"
   },
   {
    "duration": 28,
    "start_time": "2022-04-21T06:41:54.155Z"
   },
   {
    "duration": 848,
    "start_time": "2022-04-21T06:41:54.185Z"
   },
   {
    "duration": 14,
    "start_time": "2022-04-21T06:41:55.035Z"
   },
   {
    "duration": 14,
    "start_time": "2022-04-21T06:41:55.051Z"
   },
   {
    "duration": 22,
    "start_time": "2022-04-21T06:41:55.066Z"
   },
   {
    "duration": 743,
    "start_time": "2022-04-21T06:41:55.090Z"
   },
   {
    "duration": 11,
    "start_time": "2022-04-21T06:41:55.835Z"
   },
   {
    "duration": 13,
    "start_time": "2022-04-21T06:41:55.848Z"
   },
   {
    "duration": 9,
    "start_time": "2022-04-21T06:41:55.863Z"
   },
   {
    "duration": 6,
    "start_time": "2022-04-21T06:41:55.874Z"
   },
   {
    "duration": 7,
    "start_time": "2022-04-21T06:41:55.882Z"
   },
   {
    "duration": 6,
    "start_time": "2022-04-21T06:41:55.891Z"
   },
   {
    "duration": 13,
    "start_time": "2022-04-21T06:41:55.934Z"
   },
   {
    "duration": 9,
    "start_time": "2022-04-21T06:41:55.949Z"
   },
   {
    "duration": 27,
    "start_time": "2022-04-21T06:41:55.960Z"
   },
   {
    "duration": 5,
    "start_time": "2022-04-21T06:41:55.989Z"
   },
   {
    "duration": 7,
    "start_time": "2022-04-21T06:41:55.996Z"
   },
   {
    "duration": 29,
    "start_time": "2022-04-21T06:41:56.005Z"
   },
   {
    "duration": 5,
    "start_time": "2022-04-21T06:41:56.036Z"
   },
   {
    "duration": 6,
    "start_time": "2022-04-21T06:41:56.043Z"
   },
   {
    "duration": 12,
    "start_time": "2022-04-21T06:41:56.051Z"
   },
   {
    "duration": 9,
    "start_time": "2022-04-21T06:41:56.065Z"
   },
   {
    "duration": 8,
    "start_time": "2022-04-21T06:41:56.076Z"
   },
   {
    "duration": 8,
    "start_time": "2022-04-21T06:41:56.086Z"
   },
   {
    "duration": 11,
    "start_time": "2022-04-21T06:41:56.095Z"
   },
   {
    "duration": 31,
    "start_time": "2022-04-21T06:41:56.107Z"
   },
   {
    "duration": 7,
    "start_time": "2022-04-21T06:41:56.140Z"
   },
   {
    "duration": 10,
    "start_time": "2022-04-21T06:41:56.150Z"
   },
   {
    "duration": 8,
    "start_time": "2022-04-21T06:41:56.162Z"
   },
   {
    "duration": 10,
    "start_time": "2022-04-21T06:41:56.173Z"
   },
   {
    "duration": 7,
    "start_time": "2022-04-21T06:41:56.185Z"
   },
   {
    "duration": 45,
    "start_time": "2022-04-21T06:41:56.194Z"
   },
   {
    "duration": 45,
    "start_time": "2022-04-21T10:25:25.084Z"
   },
   {
    "duration": 1720,
    "start_time": "2022-04-21T10:25:35.499Z"
   },
   {
    "duration": 402,
    "start_time": "2022-04-21T10:25:37.221Z"
   },
   {
    "duration": 12,
    "start_time": "2022-04-21T10:25:37.624Z"
   },
   {
    "duration": 29,
    "start_time": "2022-04-21T10:25:37.638Z"
   },
   {
    "duration": 18,
    "start_time": "2022-04-21T10:25:37.669Z"
   },
   {
    "duration": 25,
    "start_time": "2022-04-21T10:25:37.688Z"
   },
   {
    "duration": 9,
    "start_time": "2022-04-21T10:25:37.715Z"
   },
   {
    "duration": 91,
    "start_time": "2022-04-21T10:25:37.726Z"
   },
   {
    "duration": 15,
    "start_time": "2022-04-21T10:25:37.818Z"
   },
   {
    "duration": 8,
    "start_time": "2022-04-21T10:25:37.836Z"
   },
   {
    "duration": 17,
    "start_time": "2022-04-21T10:25:37.846Z"
   },
   {
    "duration": 9,
    "start_time": "2022-04-21T10:25:37.864Z"
   },
   {
    "duration": 38,
    "start_time": "2022-04-21T10:25:37.875Z"
   },
   {
    "duration": 9,
    "start_time": "2022-04-21T10:25:37.914Z"
   },
   {
    "duration": 13,
    "start_time": "2022-04-21T10:25:37.925Z"
   },
   {
    "duration": 10,
    "start_time": "2022-04-21T10:25:37.940Z"
   },
   {
    "duration": 8,
    "start_time": "2022-04-21T10:25:37.952Z"
   },
   {
    "duration": 4,
    "start_time": "2022-04-21T10:25:37.961Z"
   },
   {
    "duration": 35,
    "start_time": "2022-04-21T10:25:37.966Z"
   },
   {
    "duration": 446,
    "start_time": "2022-04-21T10:25:38.004Z"
   },
   {
    "duration": 26,
    "start_time": "2022-04-21T10:25:38.451Z"
   },
   {
    "duration": 60,
    "start_time": "2022-04-21T10:25:38.478Z"
   },
   {
    "duration": 11,
    "start_time": "2022-04-21T10:25:38.539Z"
   },
   {
    "duration": 25,
    "start_time": "2022-04-21T10:25:38.551Z"
   },
   {
    "duration": 54,
    "start_time": "2022-04-21T10:25:38.577Z"
   },
   {
    "duration": 26,
    "start_time": "2022-04-21T10:25:38.633Z"
   },
   {
    "duration": 52,
    "start_time": "2022-04-21T10:25:38.661Z"
   },
   {
    "duration": 4,
    "start_time": "2022-04-21T10:25:38.719Z"
   },
   {
    "duration": 6,
    "start_time": "2022-04-21T10:25:38.725Z"
   },
   {
    "duration": 11,
    "start_time": "2022-04-21T10:25:38.733Z"
   },
   {
    "duration": 26,
    "start_time": "2022-04-21T10:25:38.746Z"
   },
   {
    "duration": 27,
    "start_time": "2022-04-21T10:25:38.774Z"
   },
   {
    "duration": 7,
    "start_time": "2022-04-21T10:25:38.802Z"
   },
   {
    "duration": 17,
    "start_time": "2022-04-21T10:25:38.811Z"
   },
   {
    "duration": 20,
    "start_time": "2022-04-21T10:25:38.830Z"
   },
   {
    "duration": 21,
    "start_time": "2022-04-21T10:25:38.852Z"
   },
   {
    "duration": 28,
    "start_time": "2022-04-21T10:25:38.874Z"
   },
   {
    "duration": 27,
    "start_time": "2022-04-21T10:25:38.904Z"
   },
   {
    "duration": 23,
    "start_time": "2022-04-21T10:25:38.933Z"
   },
   {
    "duration": 9,
    "start_time": "2022-04-21T10:25:38.958Z"
   },
   {
    "duration": 34,
    "start_time": "2022-04-21T10:25:38.969Z"
   },
   {
    "duration": 8,
    "start_time": "2022-04-21T10:25:39.005Z"
   },
   {
    "duration": 14,
    "start_time": "2022-04-21T10:25:39.016Z"
   },
   {
    "duration": 19,
    "start_time": "2022-04-21T10:25:39.032Z"
   },
   {
    "duration": 4,
    "start_time": "2022-04-21T10:25:39.053Z"
   },
   {
    "duration": 996,
    "start_time": "2022-04-21T10:25:39.059Z"
   },
   {
    "duration": 261,
    "start_time": "2022-04-21T10:25:40.057Z"
   },
   {
    "duration": 10,
    "start_time": "2022-04-21T10:25:40.320Z"
   },
   {
    "duration": 12,
    "start_time": "2022-04-21T10:25:40.332Z"
   },
   {
    "duration": 20,
    "start_time": "2022-04-21T10:25:40.346Z"
   },
   {
    "duration": 641,
    "start_time": "2022-04-21T10:25:40.401Z"
   },
   {
    "duration": 12,
    "start_time": "2022-04-21T10:25:41.044Z"
   },
   {
    "duration": 12,
    "start_time": "2022-04-21T10:25:41.058Z"
   },
   {
    "duration": 38,
    "start_time": "2022-04-21T10:25:41.071Z"
   },
   {
    "duration": 563,
    "start_time": "2022-04-21T10:25:41.111Z"
   },
   {
    "duration": 9,
    "start_time": "2022-04-21T10:25:41.676Z"
   },
   {
    "duration": 11,
    "start_time": "2022-04-21T10:25:41.699Z"
   },
   {
    "duration": 10,
    "start_time": "2022-04-21T10:25:41.712Z"
   },
   {
    "duration": 5,
    "start_time": "2022-04-21T10:25:41.724Z"
   },
   {
    "duration": 7,
    "start_time": "2022-04-21T10:25:41.730Z"
   },
   {
    "duration": 6,
    "start_time": "2022-04-21T10:25:41.739Z"
   },
   {
    "duration": 5,
    "start_time": "2022-04-21T10:25:41.747Z"
   },
   {
    "duration": 6,
    "start_time": "2022-04-21T10:25:41.754Z"
   },
   {
    "duration": 52,
    "start_time": "2022-04-21T10:25:41.762Z"
   },
   {
    "duration": 4,
    "start_time": "2022-04-21T10:25:41.816Z"
   },
   {
    "duration": 6,
    "start_time": "2022-04-21T10:25:41.821Z"
   },
   {
    "duration": 4,
    "start_time": "2022-04-21T10:25:41.829Z"
   },
   {
    "duration": 4,
    "start_time": "2022-04-21T10:25:41.835Z"
   },
   {
    "duration": 5,
    "start_time": "2022-04-21T10:25:41.841Z"
   },
   {
    "duration": 8,
    "start_time": "2022-04-21T10:25:41.848Z"
   },
   {
    "duration": 48,
    "start_time": "2022-04-21T10:25:41.858Z"
   },
   {
    "duration": 8,
    "start_time": "2022-04-21T10:25:41.907Z"
   },
   {
    "duration": 6,
    "start_time": "2022-04-21T10:25:41.917Z"
   },
   {
    "duration": 7,
    "start_time": "2022-04-21T10:25:41.925Z"
   },
   {
    "duration": 12,
    "start_time": "2022-04-21T10:25:41.933Z"
   },
   {
    "duration": 5,
    "start_time": "2022-04-21T10:25:41.947Z"
   },
   {
    "duration": 6,
    "start_time": "2022-04-21T10:25:41.953Z"
   },
   {
    "duration": 8,
    "start_time": "2022-04-21T10:25:41.960Z"
   },
   {
    "duration": 6,
    "start_time": "2022-04-21T10:25:41.970Z"
   },
   {
    "duration": 25,
    "start_time": "2022-04-21T10:25:41.978Z"
   },
   {
    "duration": 11,
    "start_time": "2022-04-21T10:25:42.004Z"
   },
   {
    "duration": 26,
    "start_time": "2022-04-21T10:26:29.992Z"
   },
   {
    "duration": 181,
    "start_time": "2022-04-21T10:26:48.928Z"
   },
   {
    "duration": 22,
    "start_time": "2022-04-21T10:26:53.301Z"
   },
   {
    "duration": 4,
    "start_time": "2022-04-21T10:30:02.409Z"
   },
   {
    "duration": 4,
    "start_time": "2022-04-21T10:30:16.600Z"
   },
   {
    "duration": 7,
    "start_time": "2022-04-21T10:31:22.019Z"
   },
   {
    "duration": 5,
    "start_time": "2022-04-21T10:31:51.159Z"
   },
   {
    "duration": 5,
    "start_time": "2022-04-21T10:32:13.082Z"
   },
   {
    "duration": 4,
    "start_time": "2022-04-21T10:32:27.312Z"
   },
   {
    "duration": 16,
    "start_time": "2022-04-21T10:32:58.618Z"
   },
   {
    "duration": 4,
    "start_time": "2022-04-21T10:33:02.084Z"
   },
   {
    "duration": 5,
    "start_time": "2022-04-21T10:33:04.014Z"
   },
   {
    "duration": 3132,
    "start_time": "2022-04-21T10:33:05.947Z"
   },
   {
    "duration": 10,
    "start_time": "2022-04-21T10:34:30.515Z"
   },
   {
    "duration": 8,
    "start_time": "2022-04-21T10:34:39.752Z"
   },
   {
    "duration": 3,
    "start_time": "2022-04-21T10:34:44.795Z"
   },
   {
    "duration": 9,
    "start_time": "2022-04-21T10:34:47.189Z"
   },
   {
    "duration": 8,
    "start_time": "2022-04-21T10:34:50.263Z"
   },
   {
    "duration": 17,
    "start_time": "2022-04-21T10:34:54.853Z"
   },
   {
    "duration": 5,
    "start_time": "2022-04-21T10:34:57.706Z"
   },
   {
    "duration": 1263,
    "start_time": "2022-04-21T10:35:05.237Z"
   },
   {
    "duration": 410,
    "start_time": "2022-04-21T10:35:06.503Z"
   },
   {
    "duration": 11,
    "start_time": "2022-04-21T10:35:06.916Z"
   },
   {
    "duration": 23,
    "start_time": "2022-04-21T10:35:06.930Z"
   },
   {
    "duration": 18,
    "start_time": "2022-04-21T10:35:06.955Z"
   },
   {
    "duration": 42,
    "start_time": "2022-04-21T10:35:06.974Z"
   },
   {
    "duration": 11,
    "start_time": "2022-04-21T10:35:07.017Z"
   },
   {
    "duration": 90,
    "start_time": "2022-04-21T10:35:07.029Z"
   },
   {
    "duration": 13,
    "start_time": "2022-04-21T10:35:07.121Z"
   },
   {
    "duration": 8,
    "start_time": "2022-04-21T10:35:07.136Z"
   },
   {
    "duration": 14,
    "start_time": "2022-04-21T10:35:07.146Z"
   },
   {
    "duration": 7,
    "start_time": "2022-04-21T10:35:07.161Z"
   },
   {
    "duration": 12,
    "start_time": "2022-04-21T10:35:07.170Z"
   },
   {
    "duration": 10,
    "start_time": "2022-04-21T10:35:07.203Z"
   },
   {
    "duration": 10,
    "start_time": "2022-04-21T10:35:07.215Z"
   },
   {
    "duration": 10,
    "start_time": "2022-04-21T10:35:07.226Z"
   },
   {
    "duration": 6,
    "start_time": "2022-04-21T10:35:07.238Z"
   },
   {
    "duration": 3,
    "start_time": "2022-04-21T10:35:07.246Z"
   },
   {
    "duration": 12,
    "start_time": "2022-04-21T10:35:07.250Z"
   },
   {
    "duration": 413,
    "start_time": "2022-04-21T10:35:07.263Z"
   },
   {
    "duration": 42,
    "start_time": "2022-04-21T10:35:07.677Z"
   },
   {
    "duration": 35,
    "start_time": "2022-04-21T10:35:07.721Z"
   },
   {
    "duration": 7,
    "start_time": "2022-04-21T10:35:07.758Z"
   },
   {
    "duration": 39,
    "start_time": "2022-04-21T10:35:07.766Z"
   },
   {
    "duration": 26,
    "start_time": "2022-04-21T10:35:07.808Z"
   },
   {
    "duration": 23,
    "start_time": "2022-04-21T10:35:07.835Z"
   },
   {
    "duration": 42,
    "start_time": "2022-04-21T10:35:07.860Z"
   },
   {
    "duration": 4,
    "start_time": "2022-04-21T10:35:07.906Z"
   },
   {
    "duration": 9,
    "start_time": "2022-04-21T10:35:07.911Z"
   },
   {
    "duration": 10,
    "start_time": "2022-04-21T10:35:07.922Z"
   },
   {
    "duration": 18,
    "start_time": "2022-04-21T10:35:07.933Z"
   },
   {
    "duration": 4,
    "start_time": "2022-04-21T10:35:07.953Z"
   },
   {
    "duration": 5,
    "start_time": "2022-04-21T10:35:07.959Z"
   },
   {
    "duration": 6,
    "start_time": "2022-04-21T10:35:07.966Z"
   },
   {
    "duration": 4,
    "start_time": "2022-04-21T10:35:07.999Z"
   },
   {
    "duration": 22,
    "start_time": "2022-04-21T10:35:08.005Z"
   },
   {
    "duration": 16,
    "start_time": "2022-04-21T10:35:08.029Z"
   },
   {
    "duration": 19,
    "start_time": "2022-04-21T10:35:08.046Z"
   },
   {
    "duration": 20,
    "start_time": "2022-04-21T10:35:08.066Z"
   },
   {
    "duration": 13,
    "start_time": "2022-04-21T10:35:08.088Z"
   },
   {
    "duration": 37,
    "start_time": "2022-04-21T10:35:08.103Z"
   },
   {
    "duration": 12,
    "start_time": "2022-04-21T10:35:08.142Z"
   },
   {
    "duration": 8,
    "start_time": "2022-04-21T10:35:08.156Z"
   },
   {
    "duration": 14,
    "start_time": "2022-04-21T10:35:08.165Z"
   },
   {
    "duration": 9,
    "start_time": "2022-04-21T10:35:08.180Z"
   },
   {
    "duration": 25,
    "start_time": "2022-04-21T10:35:08.190Z"
   },
   {
    "duration": 18,
    "start_time": "2022-04-21T10:35:08.217Z"
   },
   {
    "duration": 4,
    "start_time": "2022-04-21T10:35:08.236Z"
   },
   {
    "duration": 703,
    "start_time": "2022-04-21T10:35:08.241Z"
   },
   {
    "duration": 270,
    "start_time": "2022-04-21T10:35:08.945Z"
   },
   {
    "duration": 9,
    "start_time": "2022-04-21T10:35:09.217Z"
   },
   {
    "duration": 9,
    "start_time": "2022-04-21T10:35:09.228Z"
   },
   {
    "duration": 19,
    "start_time": "2022-04-21T10:35:09.238Z"
   },
   {
    "duration": 680,
    "start_time": "2022-04-21T10:35:09.258Z"
   },
   {
    "duration": 12,
    "start_time": "2022-04-21T10:35:09.940Z"
   },
   {
    "duration": 11,
    "start_time": "2022-04-21T10:35:09.954Z"
   },
   {
    "duration": 49,
    "start_time": "2022-04-21T10:35:09.967Z"
   },
   {
    "duration": 575,
    "start_time": "2022-04-21T10:35:10.018Z"
   },
   {
    "duration": 10,
    "start_time": "2022-04-21T10:35:10.600Z"
   },
   {
    "duration": 18,
    "start_time": "2022-04-21T10:35:10.611Z"
   },
   {
    "duration": 7,
    "start_time": "2022-04-21T10:35:10.630Z"
   },
   {
    "duration": 6,
    "start_time": "2022-04-21T10:35:10.639Z"
   },
   {
    "duration": 7,
    "start_time": "2022-04-21T10:35:10.647Z"
   },
   {
    "duration": 7,
    "start_time": "2022-04-21T10:35:10.655Z"
   },
   {
    "duration": 8,
    "start_time": "2022-04-21T10:35:10.663Z"
   },
   {
    "duration": 29,
    "start_time": "2022-04-21T10:35:10.672Z"
   },
   {
    "duration": 22,
    "start_time": "2022-04-21T10:35:10.703Z"
   },
   {
    "duration": 4,
    "start_time": "2022-04-21T10:35:10.727Z"
   },
   {
    "duration": 6,
    "start_time": "2022-04-21T10:35:10.733Z"
   },
   {
    "duration": 4,
    "start_time": "2022-04-21T10:35:10.741Z"
   },
   {
    "duration": 5,
    "start_time": "2022-04-21T10:35:10.747Z"
   },
   {
    "duration": 6,
    "start_time": "2022-04-21T10:35:10.754Z"
   },
   {
    "duration": 6,
    "start_time": "2022-04-21T10:35:10.801Z"
   },
   {
    "duration": 14,
    "start_time": "2022-04-21T10:35:10.809Z"
   },
   {
    "duration": 5,
    "start_time": "2022-04-21T10:35:10.825Z"
   },
   {
    "duration": 8,
    "start_time": "2022-04-21T10:35:10.831Z"
   },
   {
    "duration": 5,
    "start_time": "2022-04-21T10:35:10.840Z"
   },
   {
    "duration": 6,
    "start_time": "2022-04-21T10:35:10.847Z"
   },
   {
    "duration": 12,
    "start_time": "2022-04-21T10:35:10.854Z"
   },
   {
    "duration": 5,
    "start_time": "2022-04-21T10:35:10.867Z"
   },
   {
    "duration": 6,
    "start_time": "2022-04-21T10:35:10.873Z"
   },
   {
    "duration": 6,
    "start_time": "2022-04-21T10:35:10.909Z"
   },
   {
    "duration": 9,
    "start_time": "2022-04-21T10:35:10.917Z"
   },
   {
    "duration": 15,
    "start_time": "2022-04-21T10:35:10.927Z"
   },
   {
    "duration": 10,
    "start_time": "2022-04-21T10:42:12.138Z"
   },
   {
    "duration": 11,
    "start_time": "2022-04-21T10:42:35.088Z"
   },
   {
    "duration": 23,
    "start_time": "2022-04-21T10:43:11.683Z"
   },
   {
    "duration": 1427,
    "start_time": "2022-04-21T10:43:37.209Z"
   },
   {
    "duration": 393,
    "start_time": "2022-04-21T10:43:38.638Z"
   },
   {
    "duration": 11,
    "start_time": "2022-04-21T10:43:39.034Z"
   },
   {
    "duration": 25,
    "start_time": "2022-04-21T10:43:39.048Z"
   },
   {
    "duration": 28,
    "start_time": "2022-04-21T10:43:39.075Z"
   },
   {
    "duration": 34,
    "start_time": "2022-04-21T10:43:39.105Z"
   },
   {
    "duration": 14,
    "start_time": "2022-04-21T10:43:39.142Z"
   },
   {
    "duration": 98,
    "start_time": "2022-04-21T10:43:39.158Z"
   },
   {
    "duration": 15,
    "start_time": "2022-04-21T10:43:39.257Z"
   },
   {
    "duration": 9,
    "start_time": "2022-04-21T10:43:39.274Z"
   },
   {
    "duration": 11,
    "start_time": "2022-04-21T10:43:39.300Z"
   },
   {
    "duration": 8,
    "start_time": "2022-04-21T10:43:39.312Z"
   },
   {
    "duration": 13,
    "start_time": "2022-04-21T10:43:39.322Z"
   },
   {
    "duration": 8,
    "start_time": "2022-04-21T10:43:39.336Z"
   },
   {
    "duration": 13,
    "start_time": "2022-04-21T10:43:39.346Z"
   },
   {
    "duration": 45,
    "start_time": "2022-04-21T10:43:39.362Z"
   },
   {
    "duration": 12,
    "start_time": "2022-04-21T10:43:39.409Z"
   },
   {
    "duration": 3,
    "start_time": "2022-04-21T10:43:39.424Z"
   },
   {
    "duration": 13,
    "start_time": "2022-04-21T10:43:39.429Z"
   },
   {
    "duration": 544,
    "start_time": "2022-04-21T10:43:39.445Z"
   },
   {
    "duration": 38,
    "start_time": "2022-04-21T10:43:40.000Z"
   },
   {
    "duration": 73,
    "start_time": "2022-04-21T10:43:40.039Z"
   },
   {
    "duration": 10,
    "start_time": "2022-04-21T10:43:40.114Z"
   },
   {
    "duration": 19,
    "start_time": "2022-04-21T10:43:40.127Z"
   },
   {
    "duration": 58,
    "start_time": "2022-04-21T10:43:40.148Z"
   },
   {
    "duration": 30,
    "start_time": "2022-04-21T10:43:40.208Z"
   },
   {
    "duration": 31,
    "start_time": "2022-04-21T10:43:40.241Z"
   },
   {
    "duration": 23,
    "start_time": "2022-04-21T10:43:40.278Z"
   },
   {
    "duration": 7,
    "start_time": "2022-04-21T10:43:40.303Z"
   },
   {
    "duration": 9,
    "start_time": "2022-04-21T10:43:40.312Z"
   },
   {
    "duration": 25,
    "start_time": "2022-04-21T10:43:40.323Z"
   },
   {
    "duration": 5,
    "start_time": "2022-04-21T10:43:40.349Z"
   },
   {
    "duration": 5,
    "start_time": "2022-04-21T10:43:40.355Z"
   },
   {
    "duration": 49,
    "start_time": "2022-04-21T10:43:40.362Z"
   },
   {
    "duration": 22,
    "start_time": "2022-04-21T10:43:40.413Z"
   },
   {
    "duration": 21,
    "start_time": "2022-04-21T10:43:40.437Z"
   },
   {
    "duration": 4,
    "start_time": "2022-04-21T10:43:40.460Z"
   },
   {
    "duration": 58,
    "start_time": "2022-04-21T10:43:40.465Z"
   },
   {
    "duration": 9,
    "start_time": "2022-04-21T10:43:40.525Z"
   },
   {
    "duration": 11,
    "start_time": "2022-04-21T10:43:40.536Z"
   },
   {
    "duration": 10,
    "start_time": "2022-04-21T10:43:40.549Z"
   },
   {
    "duration": 11,
    "start_time": "2022-04-21T10:43:40.561Z"
   },
   {
    "duration": 35,
    "start_time": "2022-04-21T10:43:40.573Z"
   },
   {
    "duration": 28,
    "start_time": "2022-04-21T10:43:40.611Z"
   },
   {
    "duration": 5,
    "start_time": "2022-04-21T10:43:40.641Z"
   },
   {
    "duration": 730,
    "start_time": "2022-04-21T10:43:40.648Z"
   },
   {
    "duration": 272,
    "start_time": "2022-04-21T10:43:41.381Z"
   },
   {
    "duration": 11,
    "start_time": "2022-04-21T10:43:41.655Z"
   },
   {
    "duration": 12,
    "start_time": "2022-04-21T10:43:41.667Z"
   },
   {
    "duration": 40,
    "start_time": "2022-04-21T10:43:41.681Z"
   },
   {
    "duration": 766,
    "start_time": "2022-04-21T10:43:41.722Z"
   },
   {
    "duration": 17,
    "start_time": "2022-04-21T10:43:42.490Z"
   },
   {
    "duration": 11,
    "start_time": "2022-04-21T10:43:42.509Z"
   },
   {
    "duration": 24,
    "start_time": "2022-04-21T10:43:42.522Z"
   },
   {
    "duration": 597,
    "start_time": "2022-04-21T10:43:42.548Z"
   },
   {
    "duration": 9,
    "start_time": "2022-04-21T10:43:43.147Z"
   },
   {
    "duration": 11,
    "start_time": "2022-04-21T10:43:43.158Z"
   },
   {
    "duration": 30,
    "start_time": "2022-04-21T10:43:43.170Z"
   },
   {
    "duration": 8,
    "start_time": "2022-04-21T10:43:43.202Z"
   },
   {
    "duration": 6,
    "start_time": "2022-04-21T10:43:43.211Z"
   },
   {
    "duration": 4,
    "start_time": "2022-04-21T10:43:43.219Z"
   },
   {
    "duration": 6,
    "start_time": "2022-04-21T10:43:43.225Z"
   },
   {
    "duration": 6,
    "start_time": "2022-04-21T10:43:43.232Z"
   },
   {
    "duration": 17,
    "start_time": "2022-04-21T10:43:43.239Z"
   },
   {
    "duration": 5,
    "start_time": "2022-04-21T10:43:43.257Z"
   },
   {
    "duration": 5,
    "start_time": "2022-04-21T10:43:43.301Z"
   },
   {
    "duration": 5,
    "start_time": "2022-04-21T10:43:43.308Z"
   },
   {
    "duration": 10,
    "start_time": "2022-04-21T10:43:43.315Z"
   },
   {
    "duration": 5,
    "start_time": "2022-04-21T10:43:43.327Z"
   },
   {
    "duration": 12,
    "start_time": "2022-04-21T10:43:43.334Z"
   },
   {
    "duration": 4,
    "start_time": "2022-04-21T10:43:43.348Z"
   },
   {
    "duration": 6,
    "start_time": "2022-04-21T10:43:43.354Z"
   },
   {
    "duration": 7,
    "start_time": "2022-04-21T10:43:43.362Z"
   },
   {
    "duration": 33,
    "start_time": "2022-04-21T10:43:43.370Z"
   },
   {
    "duration": 6,
    "start_time": "2022-04-21T10:43:43.405Z"
   },
   {
    "duration": 5,
    "start_time": "2022-04-21T10:43:43.413Z"
   },
   {
    "duration": 7,
    "start_time": "2022-04-21T10:43:43.419Z"
   },
   {
    "duration": 8,
    "start_time": "2022-04-21T10:43:43.428Z"
   },
   {
    "duration": 7,
    "start_time": "2022-04-21T10:43:43.438Z"
   },
   {
    "duration": 8,
    "start_time": "2022-04-21T10:43:43.447Z"
   },
   {
    "duration": 44,
    "start_time": "2022-04-21T10:43:43.457Z"
   },
   {
    "duration": 10,
    "start_time": "2022-04-21T10:44:29.874Z"
   },
   {
    "duration": 221,
    "start_time": "2022-04-21T10:50:09.132Z"
   },
   {
    "duration": 1273,
    "start_time": "2022-04-21T10:50:46.043Z"
   },
   {
    "duration": 460,
    "start_time": "2022-04-21T10:50:47.319Z"
   },
   {
    "duration": 12,
    "start_time": "2022-04-21T10:50:47.780Z"
   },
   {
    "duration": 30,
    "start_time": "2022-04-21T10:50:47.795Z"
   },
   {
    "duration": 19,
    "start_time": "2022-04-21T10:50:47.827Z"
   },
   {
    "duration": 31,
    "start_time": "2022-04-21T10:50:47.848Z"
   },
   {
    "duration": 11,
    "start_time": "2022-04-21T10:50:47.900Z"
   },
   {
    "duration": 102,
    "start_time": "2022-04-21T10:50:47.912Z"
   },
   {
    "duration": 15,
    "start_time": "2022-04-21T10:50:48.016Z"
   },
   {
    "duration": 10,
    "start_time": "2022-04-21T10:50:48.036Z"
   },
   {
    "duration": 14,
    "start_time": "2022-04-21T10:50:48.048Z"
   },
   {
    "duration": 36,
    "start_time": "2022-04-21T10:50:48.064Z"
   },
   {
    "duration": 12,
    "start_time": "2022-04-21T10:50:48.102Z"
   },
   {
    "duration": 12,
    "start_time": "2022-04-21T10:50:48.117Z"
   },
   {
    "duration": 15,
    "start_time": "2022-04-21T10:50:48.130Z"
   },
   {
    "duration": 9,
    "start_time": "2022-04-21T10:50:48.146Z"
   },
   {
    "duration": 9,
    "start_time": "2022-04-21T10:50:48.156Z"
   },
   {
    "duration": 3,
    "start_time": "2022-04-21T10:50:48.166Z"
   },
   {
    "duration": 35,
    "start_time": "2022-04-21T10:50:48.171Z"
   },
   {
    "duration": 352,
    "start_time": "2022-04-21T10:50:48.208Z"
   },
   {
    "duration": 39,
    "start_time": "2022-04-21T10:50:48.562Z"
   },
   {
    "duration": 36,
    "start_time": "2022-04-21T10:50:48.603Z"
   },
   {
    "duration": 11,
    "start_time": "2022-04-21T10:50:48.641Z"
   },
   {
    "duration": 31,
    "start_time": "2022-04-21T10:50:48.653Z"
   },
   {
    "duration": 43,
    "start_time": "2022-04-21T10:50:48.701Z"
   },
   {
    "duration": 29,
    "start_time": "2022-04-21T10:50:48.746Z"
   },
   {
    "duration": 55,
    "start_time": "2022-04-21T10:50:48.777Z"
   },
   {
    "duration": 4,
    "start_time": "2022-04-21T10:50:48.839Z"
   },
   {
    "duration": 7,
    "start_time": "2022-04-21T10:50:48.845Z"
   },
   {
    "duration": 9,
    "start_time": "2022-04-21T10:50:48.854Z"
   },
   {
    "duration": 46,
    "start_time": "2022-04-21T10:50:48.866Z"
   },
   {
    "duration": 5,
    "start_time": "2022-04-21T10:50:48.914Z"
   },
   {
    "duration": 9,
    "start_time": "2022-04-21T10:50:48.921Z"
   },
   {
    "duration": 24,
    "start_time": "2022-04-21T10:50:48.931Z"
   },
   {
    "duration": 33,
    "start_time": "2022-04-21T10:50:48.957Z"
   },
   {
    "duration": 22,
    "start_time": "2022-04-21T10:50:48.991Z"
   },
   {
    "duration": 4,
    "start_time": "2022-04-21T10:50:49.014Z"
   },
   {
    "duration": 32,
    "start_time": "2022-04-21T10:50:49.019Z"
   },
   {
    "duration": 12,
    "start_time": "2022-04-21T10:50:49.052Z"
   },
   {
    "duration": 8,
    "start_time": "2022-04-21T10:50:49.066Z"
   },
   {
    "duration": 27,
    "start_time": "2022-04-21T10:50:49.076Z"
   },
   {
    "duration": 11,
    "start_time": "2022-04-21T10:50:49.105Z"
   },
   {
    "duration": 12,
    "start_time": "2022-04-21T10:50:49.118Z"
   },
   {
    "duration": 22,
    "start_time": "2022-04-21T10:50:49.132Z"
   },
   {
    "duration": 3,
    "start_time": "2022-04-21T10:50:49.156Z"
   },
   {
    "duration": 925,
    "start_time": "2022-04-21T10:50:49.161Z"
   },
   {
    "duration": 250,
    "start_time": "2022-04-21T10:50:50.089Z"
   },
   {
    "duration": 289,
    "start_time": "2022-04-21T10:50:50.340Z"
   },
   {
    "duration": 11,
    "start_time": "2022-04-21T10:50:50.631Z"
   },
   {
    "duration": 13,
    "start_time": "2022-04-21T10:50:50.644Z"
   },
   {
    "duration": 49,
    "start_time": "2022-04-21T10:50:50.659Z"
   },
   {
    "duration": 720,
    "start_time": "2022-04-21T10:50:50.710Z"
   },
   {
    "duration": 20,
    "start_time": "2022-04-21T10:50:51.432Z"
   },
   {
    "duration": 14,
    "start_time": "2022-04-21T10:50:51.454Z"
   },
   {
    "duration": 44,
    "start_time": "2022-04-21T10:50:51.469Z"
   },
   {
    "duration": 707,
    "start_time": "2022-04-21T10:50:51.515Z"
   },
   {
    "duration": 13,
    "start_time": "2022-04-21T10:50:52.224Z"
   },
   {
    "duration": 19,
    "start_time": "2022-04-21T10:50:52.239Z"
   },
   {
    "duration": 8,
    "start_time": "2022-04-21T10:50:52.260Z"
   },
   {
    "duration": 32,
    "start_time": "2022-04-21T10:50:52.270Z"
   },
   {
    "duration": 14,
    "start_time": "2022-04-21T10:50:52.303Z"
   },
   {
    "duration": 8,
    "start_time": "2022-04-21T10:50:52.319Z"
   },
   {
    "duration": 14,
    "start_time": "2022-04-21T10:50:52.329Z"
   },
   {
    "duration": 9,
    "start_time": "2022-04-21T10:50:52.345Z"
   },
   {
    "duration": 85,
    "start_time": "2022-04-21T10:50:52.356Z"
   },
   {
    "duration": 9,
    "start_time": "2022-04-21T10:50:52.443Z"
   },
   {
    "duration": 15,
    "start_time": "2022-04-21T10:50:52.453Z"
   },
   {
    "duration": 5,
    "start_time": "2022-04-21T10:50:52.470Z"
   },
   {
    "duration": 11,
    "start_time": "2022-04-21T10:50:52.478Z"
   },
   {
    "duration": 104,
    "start_time": "2022-04-21T10:50:52.491Z"
   },
   {
    "duration": 25,
    "start_time": "2022-04-21T10:50:52.597Z"
   },
   {
    "duration": 18,
    "start_time": "2022-04-21T10:50:52.623Z"
   },
   {
    "duration": 8,
    "start_time": "2022-04-21T10:50:52.643Z"
   },
   {
    "duration": 12,
    "start_time": "2022-04-21T10:50:52.654Z"
   },
   {
    "duration": 5,
    "start_time": "2022-04-21T10:50:52.668Z"
   },
   {
    "duration": 8,
    "start_time": "2022-04-21T10:50:52.676Z"
   },
   {
    "duration": 10,
    "start_time": "2022-04-21T10:50:52.685Z"
   },
   {
    "duration": 6,
    "start_time": "2022-04-21T10:50:52.697Z"
   },
   {
    "duration": 9,
    "start_time": "2022-04-21T10:50:52.705Z"
   },
   {
    "duration": 8,
    "start_time": "2022-04-21T10:50:52.716Z"
   },
   {
    "duration": 32,
    "start_time": "2022-04-21T10:50:52.725Z"
   },
   {
    "duration": 35,
    "start_time": "2022-04-21T10:50:52.764Z"
   },
   {
    "duration": 385,
    "start_time": "2022-04-21T10:52:14.782Z"
   },
   {
    "duration": 373,
    "start_time": "2022-04-21T10:56:32.445Z"
   },
   {
    "duration": 364,
    "start_time": "2022-04-21T10:56:49.252Z"
   },
   {
    "duration": 252,
    "start_time": "2022-04-21T10:57:07.673Z"
   },
   {
    "duration": 1138,
    "start_time": "2022-04-21T11:05:39.883Z"
   },
   {
    "duration": 384,
    "start_time": "2022-04-21T11:05:41.023Z"
   },
   {
    "duration": 12,
    "start_time": "2022-04-21T11:05:41.408Z"
   },
   {
    "duration": 24,
    "start_time": "2022-04-21T11:05:41.422Z"
   },
   {
    "duration": 17,
    "start_time": "2022-04-21T11:05:41.448Z"
   },
   {
    "duration": 36,
    "start_time": "2022-04-21T11:05:41.467Z"
   },
   {
    "duration": 9,
    "start_time": "2022-04-21T11:05:41.505Z"
   },
   {
    "duration": 87,
    "start_time": "2022-04-21T11:05:41.516Z"
   },
   {
    "duration": 14,
    "start_time": "2022-04-21T11:05:41.605Z"
   },
   {
    "duration": 10,
    "start_time": "2022-04-21T11:05:41.622Z"
   },
   {
    "duration": 11,
    "start_time": "2022-04-21T11:05:41.634Z"
   },
   {
    "duration": 7,
    "start_time": "2022-04-21T11:05:41.647Z"
   },
   {
    "duration": 12,
    "start_time": "2022-04-21T11:05:41.656Z"
   },
   {
    "duration": 35,
    "start_time": "2022-04-21T11:05:41.670Z"
   },
   {
    "duration": 10,
    "start_time": "2022-04-21T11:05:41.706Z"
   },
   {
    "duration": 8,
    "start_time": "2022-04-21T11:05:41.717Z"
   },
   {
    "duration": 7,
    "start_time": "2022-04-21T11:05:41.727Z"
   },
   {
    "duration": 3,
    "start_time": "2022-04-21T11:05:41.735Z"
   },
   {
    "duration": 10,
    "start_time": "2022-04-21T11:05:41.739Z"
   },
   {
    "duration": 355,
    "start_time": "2022-04-21T11:05:41.751Z"
   },
   {
    "duration": 25,
    "start_time": "2022-04-21T11:05:42.108Z"
   },
   {
    "duration": 35,
    "start_time": "2022-04-21T11:05:42.134Z"
   },
   {
    "duration": 8,
    "start_time": "2022-04-21T11:05:42.170Z"
   },
   {
    "duration": 18,
    "start_time": "2022-04-21T11:05:42.200Z"
   },
   {
    "duration": 24,
    "start_time": "2022-04-21T11:05:42.219Z"
   },
   {
    "duration": 20,
    "start_time": "2022-04-21T11:05:42.245Z"
   },
   {
    "duration": 47,
    "start_time": "2022-04-21T11:05:42.266Z"
   },
   {
    "duration": 3,
    "start_time": "2022-04-21T11:05:42.317Z"
   },
   {
    "duration": 6,
    "start_time": "2022-04-21T11:05:42.321Z"
   },
   {
    "duration": 9,
    "start_time": "2022-04-21T11:05:42.328Z"
   },
   {
    "duration": 17,
    "start_time": "2022-04-21T11:05:42.338Z"
   },
   {
    "duration": 3,
    "start_time": "2022-04-21T11:05:42.357Z"
   },
   {
    "duration": 5,
    "start_time": "2022-04-21T11:05:42.361Z"
   },
   {
    "duration": 34,
    "start_time": "2022-04-21T11:05:42.367Z"
   },
   {
    "duration": 19,
    "start_time": "2022-04-21T11:05:42.403Z"
   },
   {
    "duration": 20,
    "start_time": "2022-04-21T11:05:42.424Z"
   },
   {
    "duration": 5,
    "start_time": "2022-04-21T11:05:42.446Z"
   },
   {
    "duration": 50,
    "start_time": "2022-04-21T11:05:42.453Z"
   },
   {
    "duration": 10,
    "start_time": "2022-04-21T11:05:42.505Z"
   },
   {
    "duration": 9,
    "start_time": "2022-04-21T11:05:42.517Z"
   },
   {
    "duration": 10,
    "start_time": "2022-04-21T11:05:42.528Z"
   },
   {
    "duration": 9,
    "start_time": "2022-04-21T11:05:42.540Z"
   },
   {
    "duration": 11,
    "start_time": "2022-04-21T11:05:42.550Z"
   },
   {
    "duration": 18,
    "start_time": "2022-04-21T11:05:42.599Z"
   },
   {
    "duration": 3,
    "start_time": "2022-04-21T11:05:42.619Z"
   },
   {
    "duration": 654,
    "start_time": "2022-04-21T11:05:42.624Z"
   },
   {
    "duration": 261,
    "start_time": "2022-04-21T11:05:43.279Z"
   },
   {
    "duration": 252,
    "start_time": "2022-04-21T11:05:43.541Z"
   },
   {
    "duration": 10,
    "start_time": "2022-04-21T11:05:43.800Z"
   },
   {
    "duration": 11,
    "start_time": "2022-04-21T11:05:43.812Z"
   },
   {
    "duration": 19,
    "start_time": "2022-04-21T11:05:43.825Z"
   },
   {
    "duration": 628,
    "start_time": "2022-04-21T11:05:43.846Z"
   },
   {
    "duration": 248,
    "start_time": "2022-04-21T11:05:44.476Z"
   },
   {
    "duration": 11,
    "start_time": "2022-04-21T11:05:44.725Z"
   },
   {
    "duration": 10,
    "start_time": "2022-04-21T11:05:44.738Z"
   },
   {
    "duration": 18,
    "start_time": "2022-04-21T11:05:44.750Z"
   },
   {
    "duration": 609,
    "start_time": "2022-04-21T11:05:44.770Z"
   },
   {
    "duration": 256,
    "start_time": "2022-04-21T11:05:45.381Z"
   },
   {
    "duration": 9,
    "start_time": "2022-04-21T11:05:45.638Z"
   },
   {
    "duration": 11,
    "start_time": "2022-04-21T11:05:45.648Z"
   },
   {
    "duration": 6,
    "start_time": "2022-04-21T11:05:45.661Z"
   },
   {
    "duration": 31,
    "start_time": "2022-04-21T11:05:45.669Z"
   },
   {
    "duration": 5,
    "start_time": "2022-04-21T11:05:45.702Z"
   },
   {
    "duration": 6,
    "start_time": "2022-04-21T11:05:45.709Z"
   },
   {
    "duration": 6,
    "start_time": "2022-04-21T11:05:45.716Z"
   },
   {
    "duration": 7,
    "start_time": "2022-04-21T11:05:45.724Z"
   },
   {
    "duration": 123,
    "start_time": "2022-04-21T11:05:45.732Z"
   },
   {
    "duration": 4,
    "start_time": "2022-04-21T11:05:45.857Z"
   },
   {
    "duration": 6,
    "start_time": "2022-04-21T11:05:45.863Z"
   },
   {
    "duration": 8,
    "start_time": "2022-04-21T11:05:45.870Z"
   },
   {
    "duration": 23,
    "start_time": "2022-04-21T11:05:45.879Z"
   },
   {
    "duration": 7,
    "start_time": "2022-04-21T11:05:45.903Z"
   },
   {
    "duration": 5,
    "start_time": "2022-04-21T11:05:45.911Z"
   },
   {
    "duration": 6,
    "start_time": "2022-04-21T11:05:45.918Z"
   },
   {
    "duration": 5,
    "start_time": "2022-04-21T11:05:45.925Z"
   },
   {
    "duration": 5,
    "start_time": "2022-04-21T11:05:45.931Z"
   },
   {
    "duration": 5,
    "start_time": "2022-04-21T11:05:45.937Z"
   },
   {
    "duration": 6,
    "start_time": "2022-04-21T11:05:45.943Z"
   },
   {
    "duration": 5,
    "start_time": "2022-04-21T11:05:45.951Z"
   },
   {
    "duration": 6,
    "start_time": "2022-04-21T11:05:45.957Z"
   },
   {
    "duration": 39,
    "start_time": "2022-04-21T11:05:45.964Z"
   },
   {
    "duration": 4,
    "start_time": "2022-04-21T11:05:46.008Z"
   },
   {
    "duration": 8,
    "start_time": "2022-04-21T11:05:46.014Z"
   },
   {
    "duration": 9,
    "start_time": "2022-04-21T11:05:46.023Z"
   },
   {
    "duration": 10,
    "start_time": "2022-04-21T11:08:53.841Z"
   },
   {
    "duration": 1151,
    "start_time": "2022-04-21T11:12:39.782Z"
   },
   {
    "duration": 452,
    "start_time": "2022-04-21T11:12:40.935Z"
   },
   {
    "duration": 12,
    "start_time": "2022-04-21T11:12:41.389Z"
   },
   {
    "duration": 50,
    "start_time": "2022-04-21T11:12:41.404Z"
   },
   {
    "duration": 17,
    "start_time": "2022-04-21T11:12:41.456Z"
   },
   {
    "duration": 20,
    "start_time": "2022-04-21T11:12:41.475Z"
   },
   {
    "duration": 13,
    "start_time": "2022-04-21T11:12:41.497Z"
   },
   {
    "duration": 97,
    "start_time": "2022-04-21T11:12:41.513Z"
   },
   {
    "duration": 17,
    "start_time": "2022-04-21T11:12:41.612Z"
   },
   {
    "duration": 8,
    "start_time": "2022-04-21T11:12:41.631Z"
   },
   {
    "duration": 13,
    "start_time": "2022-04-21T11:12:41.640Z"
   },
   {
    "duration": 7,
    "start_time": "2022-04-21T11:12:41.654Z"
   },
   {
    "duration": 12,
    "start_time": "2022-04-21T11:12:41.662Z"
   },
   {
    "duration": 31,
    "start_time": "2022-04-21T11:12:41.676Z"
   },
   {
    "duration": 9,
    "start_time": "2022-04-21T11:12:41.709Z"
   },
   {
    "duration": 14,
    "start_time": "2022-04-21T11:12:41.721Z"
   },
   {
    "duration": 6,
    "start_time": "2022-04-21T11:12:41.737Z"
   },
   {
    "duration": 3,
    "start_time": "2022-04-21T11:12:41.745Z"
   },
   {
    "duration": 9,
    "start_time": "2022-04-21T11:12:41.749Z"
   },
   {
    "duration": 355,
    "start_time": "2022-04-21T11:12:41.760Z"
   },
   {
    "duration": 29,
    "start_time": "2022-04-21T11:12:42.117Z"
   },
   {
    "duration": 35,
    "start_time": "2022-04-21T11:12:42.148Z"
   },
   {
    "duration": 28,
    "start_time": "2022-04-21T11:12:42.184Z"
   },
   {
    "duration": 32,
    "start_time": "2022-04-21T11:12:42.214Z"
   },
   {
    "duration": 23,
    "start_time": "2022-04-21T11:12:42.248Z"
   },
   {
    "duration": 20,
    "start_time": "2022-04-21T11:12:42.273Z"
   },
   {
    "duration": 32,
    "start_time": "2022-04-21T11:12:42.294Z"
   },
   {
    "duration": 8,
    "start_time": "2022-04-21T11:12:42.332Z"
   },
   {
    "duration": 12,
    "start_time": "2022-04-21T11:12:42.341Z"
   },
   {
    "duration": 9,
    "start_time": "2022-04-21T11:12:42.355Z"
   },
   {
    "duration": 17,
    "start_time": "2022-04-21T11:12:42.366Z"
   },
   {
    "duration": 3,
    "start_time": "2022-04-21T11:12:42.385Z"
   },
   {
    "duration": 16,
    "start_time": "2022-04-21T11:12:42.390Z"
   },
   {
    "duration": 32,
    "start_time": "2022-04-21T11:12:42.409Z"
   },
   {
    "duration": 22,
    "start_time": "2022-04-21T11:12:42.443Z"
   },
   {
    "duration": 19,
    "start_time": "2022-04-21T11:12:42.466Z"
   },
   {
    "duration": 4,
    "start_time": "2022-04-21T11:12:42.486Z"
   },
   {
    "duration": 35,
    "start_time": "2022-04-21T11:12:42.491Z"
   },
   {
    "duration": 11,
    "start_time": "2022-04-21T11:12:42.528Z"
   },
   {
    "duration": 9,
    "start_time": "2022-04-21T11:12:42.540Z"
   },
   {
    "duration": 10,
    "start_time": "2022-04-21T11:12:42.551Z"
   },
   {
    "duration": 9,
    "start_time": "2022-04-21T11:12:42.562Z"
   },
   {
    "duration": 38,
    "start_time": "2022-04-21T11:12:42.572Z"
   },
   {
    "duration": 19,
    "start_time": "2022-04-21T11:12:42.614Z"
   },
   {
    "duration": 12,
    "start_time": "2022-04-21T11:12:42.635Z"
   },
   {
    "duration": 683,
    "start_time": "2022-04-21T11:12:42.648Z"
   },
   {
    "duration": 262,
    "start_time": "2022-04-21T11:12:43.332Z"
   },
   {
    "duration": 264,
    "start_time": "2022-04-21T11:12:43.599Z"
   },
   {
    "duration": 9,
    "start_time": "2022-04-21T11:12:43.865Z"
   },
   {
    "duration": 33,
    "start_time": "2022-04-21T11:12:43.876Z"
   },
   {
    "duration": 23,
    "start_time": "2022-04-21T11:12:43.911Z"
   },
   {
    "duration": 682,
    "start_time": "2022-04-21T11:12:43.935Z"
   },
   {
    "duration": 264,
    "start_time": "2022-04-21T11:12:44.618Z"
   },
   {
    "duration": 35,
    "start_time": "2022-04-21T11:12:44.883Z"
   },
   {
    "duration": 13,
    "start_time": "2022-04-21T11:12:44.919Z"
   },
   {
    "duration": 17,
    "start_time": "2022-04-21T11:12:44.934Z"
   },
   {
    "duration": 662,
    "start_time": "2022-04-21T11:12:44.953Z"
   },
   {
    "duration": 256,
    "start_time": "2022-04-21T11:12:45.617Z"
   },
   {
    "duration": 8,
    "start_time": "2022-04-21T11:12:45.875Z"
   },
   {
    "duration": 18,
    "start_time": "2022-04-21T11:12:45.902Z"
   },
   {
    "duration": 25,
    "start_time": "2022-04-21T11:12:45.921Z"
   },
   {
    "duration": 6,
    "start_time": "2022-04-21T11:12:45.947Z"
   },
   {
    "duration": 5,
    "start_time": "2022-04-21T11:12:45.954Z"
   },
   {
    "duration": 5,
    "start_time": "2022-04-21T11:12:45.961Z"
   },
   {
    "duration": 9,
    "start_time": "2022-04-21T11:12:45.967Z"
   },
   {
    "duration": 8,
    "start_time": "2022-04-21T11:12:45.978Z"
   },
   {
    "duration": 122,
    "start_time": "2022-04-21T11:12:45.988Z"
   },
   {
    "duration": 9,
    "start_time": "2022-04-21T11:12:46.112Z"
   },
   {
    "duration": 20,
    "start_time": "2022-04-21T11:12:46.123Z"
   },
   {
    "duration": 8,
    "start_time": "2022-04-21T11:12:46.145Z"
   },
   {
    "duration": 5,
    "start_time": "2022-04-21T11:12:46.155Z"
   },
   {
    "duration": 12,
    "start_time": "2022-04-21T11:12:46.161Z"
   },
   {
    "duration": 9,
    "start_time": "2022-04-21T11:12:46.175Z"
   },
   {
    "duration": 9,
    "start_time": "2022-04-21T11:12:46.186Z"
   },
   {
    "duration": 14,
    "start_time": "2022-04-21T11:12:46.197Z"
   },
   {
    "duration": 24,
    "start_time": "2022-04-21T11:12:46.213Z"
   },
   {
    "duration": 6,
    "start_time": "2022-04-21T11:12:46.239Z"
   },
   {
    "duration": 6,
    "start_time": "2022-04-21T11:12:46.246Z"
   },
   {
    "duration": 6,
    "start_time": "2022-04-21T11:12:46.254Z"
   },
   {
    "duration": 6,
    "start_time": "2022-04-21T11:12:46.262Z"
   },
   {
    "duration": 8,
    "start_time": "2022-04-21T11:12:46.270Z"
   },
   {
    "duration": 4,
    "start_time": "2022-04-21T11:12:46.285Z"
   },
   {
    "duration": 13,
    "start_time": "2022-04-21T11:12:46.291Z"
   },
   {
    "duration": 37,
    "start_time": "2022-04-21T11:12:46.305Z"
   },
   {
    "duration": 2468,
    "start_time": "2022-04-21T13:45:26.230Z"
   },
   {
    "duration": 749,
    "start_time": "2022-04-21T13:45:28.701Z"
   },
   {
    "duration": 23,
    "start_time": "2022-04-21T13:45:29.453Z"
   },
   {
    "duration": 73,
    "start_time": "2022-04-21T13:45:29.480Z"
   },
   {
    "duration": 40,
    "start_time": "2022-04-21T13:45:29.556Z"
   },
   {
    "duration": 67,
    "start_time": "2022-04-21T13:45:29.599Z"
   },
   {
    "duration": 18,
    "start_time": "2022-04-21T13:45:29.669Z"
   },
   {
    "duration": 128,
    "start_time": "2022-04-21T13:45:29.689Z"
   },
   {
    "duration": 33,
    "start_time": "2022-04-21T13:45:29.819Z"
   },
   {
    "duration": 13,
    "start_time": "2022-04-21T13:45:29.855Z"
   },
   {
    "duration": 20,
    "start_time": "2022-04-21T13:45:29.870Z"
   },
   {
    "duration": 14,
    "start_time": "2022-04-21T13:45:29.892Z"
   },
   {
    "duration": 47,
    "start_time": "2022-04-21T13:45:29.908Z"
   },
   {
    "duration": 16,
    "start_time": "2022-04-21T13:45:29.957Z"
   },
   {
    "duration": 15,
    "start_time": "2022-04-21T13:45:29.975Z"
   },
   {
    "duration": 24,
    "start_time": "2022-04-21T13:45:29.993Z"
   },
   {
    "duration": 38,
    "start_time": "2022-04-21T13:45:30.019Z"
   },
   {
    "duration": 11,
    "start_time": "2022-04-21T13:45:30.059Z"
   },
   {
    "duration": 21,
    "start_time": "2022-04-21T13:45:30.073Z"
   },
   {
    "duration": 518,
    "start_time": "2022-04-21T13:45:30.096Z"
   },
   {
    "duration": 55,
    "start_time": "2022-04-21T13:45:30.617Z"
   },
   {
    "duration": 52,
    "start_time": "2022-04-21T13:45:30.673Z"
   },
   {
    "duration": 31,
    "start_time": "2022-04-21T13:45:30.727Z"
   },
   {
    "duration": 44,
    "start_time": "2022-04-21T13:45:30.761Z"
   },
   {
    "duration": 58,
    "start_time": "2022-04-21T13:45:30.807Z"
   },
   {
    "duration": 80,
    "start_time": "2022-04-21T13:45:30.867Z"
   },
   {
    "duration": 34,
    "start_time": "2022-04-21T13:45:30.950Z"
   },
   {
    "duration": 5,
    "start_time": "2022-04-21T13:45:30.990Z"
   },
   {
    "duration": 27,
    "start_time": "2022-04-21T13:45:30.997Z"
   },
   {
    "duration": 37,
    "start_time": "2022-04-21T13:45:31.026Z"
   },
   {
    "duration": 35,
    "start_time": "2022-04-21T13:45:31.065Z"
   },
   {
    "duration": 11,
    "start_time": "2022-04-21T13:45:31.102Z"
   },
   {
    "duration": 35,
    "start_time": "2022-04-21T13:45:31.115Z"
   },
   {
    "duration": 35,
    "start_time": "2022-04-21T13:45:31.153Z"
   },
   {
    "duration": 41,
    "start_time": "2022-04-21T13:45:31.190Z"
   },
   {
    "duration": 43,
    "start_time": "2022-04-21T13:45:31.234Z"
   },
   {
    "duration": 6,
    "start_time": "2022-04-21T13:45:31.279Z"
   },
   {
    "duration": 65,
    "start_time": "2022-04-21T13:45:31.287Z"
   },
   {
    "duration": 14,
    "start_time": "2022-04-21T13:45:31.354Z"
   },
   {
    "duration": 24,
    "start_time": "2022-04-21T13:45:31.371Z"
   },
   {
    "duration": 20,
    "start_time": "2022-04-21T13:45:31.397Z"
   },
   {
    "duration": 38,
    "start_time": "2022-04-21T13:45:31.420Z"
   },
   {
    "duration": 19,
    "start_time": "2022-04-21T13:45:31.460Z"
   },
   {
    "duration": 28,
    "start_time": "2022-04-21T13:45:31.481Z"
   },
   {
    "duration": 6,
    "start_time": "2022-04-21T13:45:31.511Z"
   },
   {
    "duration": 1174,
    "start_time": "2022-04-21T13:45:31.519Z"
   },
   {
    "duration": 466,
    "start_time": "2022-04-21T13:45:32.696Z"
   },
   {
    "duration": 465,
    "start_time": "2022-04-21T13:45:33.164Z"
   },
   {
    "duration": 29,
    "start_time": "2022-04-21T13:45:33.631Z"
   },
   {
    "duration": 16,
    "start_time": "2022-04-21T13:45:33.662Z"
   },
   {
    "duration": 32,
    "start_time": "2022-04-21T13:45:33.680Z"
   },
   {
    "duration": 1094,
    "start_time": "2022-04-21T13:45:33.714Z"
   },
   {
    "duration": 455,
    "start_time": "2022-04-21T13:45:34.811Z"
   },
   {
    "duration": 18,
    "start_time": "2022-04-21T13:45:35.268Z"
   },
   {
    "duration": 17,
    "start_time": "2022-04-21T13:45:35.288Z"
   },
   {
    "duration": 63,
    "start_time": "2022-04-21T13:45:35.307Z"
   },
   {
    "duration": 969,
    "start_time": "2022-04-21T13:45:35.372Z"
   },
   {
    "duration": 448,
    "start_time": "2022-04-21T13:45:36.351Z"
   },
   {
    "duration": 13,
    "start_time": "2022-04-21T13:45:36.801Z"
   },
   {
    "duration": 41,
    "start_time": "2022-04-21T13:45:36.816Z"
   },
   {
    "duration": 10,
    "start_time": "2022-04-21T13:45:36.859Z"
   },
   {
    "duration": 23,
    "start_time": "2022-04-21T13:45:36.871Z"
   },
   {
    "duration": 28,
    "start_time": "2022-04-21T13:45:36.896Z"
   },
   {
    "duration": 19,
    "start_time": "2022-04-21T13:45:36.926Z"
   },
   {
    "duration": 23,
    "start_time": "2022-04-21T13:45:36.948Z"
   },
   {
    "duration": 27,
    "start_time": "2022-04-21T13:45:36.974Z"
   },
   {
    "duration": 131,
    "start_time": "2022-04-21T13:45:37.004Z"
   },
   {
    "duration": 20,
    "start_time": "2022-04-21T13:45:37.138Z"
   },
   {
    "duration": 20,
    "start_time": "2022-04-21T13:45:37.160Z"
   },
   {
    "duration": 17,
    "start_time": "2022-04-21T13:45:37.182Z"
   },
   {
    "duration": 16,
    "start_time": "2022-04-21T13:45:37.201Z"
   },
   {
    "duration": 13,
    "start_time": "2022-04-21T13:45:37.219Z"
   },
   {
    "duration": 15,
    "start_time": "2022-04-21T13:45:37.234Z"
   },
   {
    "duration": 19,
    "start_time": "2022-04-21T13:45:37.251Z"
   },
   {
    "duration": 20,
    "start_time": "2022-04-21T13:45:37.272Z"
   },
   {
    "duration": 12,
    "start_time": "2022-04-21T13:45:37.294Z"
   },
   {
    "duration": 12,
    "start_time": "2022-04-21T13:45:37.308Z"
   },
   {
    "duration": 17,
    "start_time": "2022-04-21T13:45:37.322Z"
   },
   {
    "duration": 13,
    "start_time": "2022-04-21T13:45:37.342Z"
   },
   {
    "duration": 9,
    "start_time": "2022-04-21T13:45:37.357Z"
   },
   {
    "duration": 14,
    "start_time": "2022-04-21T13:45:37.369Z"
   },
   {
    "duration": 14,
    "start_time": "2022-04-21T13:45:37.391Z"
   },
   {
    "duration": 25,
    "start_time": "2022-04-21T13:45:37.407Z"
   },
   {
    "duration": 20,
    "start_time": "2022-04-21T13:45:37.434Z"
   },
   {
    "duration": 13,
    "start_time": "2022-04-21T13:47:40.522Z"
   },
   {
    "duration": 94,
    "start_time": "2022-04-21T13:53:03.150Z"
   }
  ],
  "kernelspec": {
   "display_name": "Python 3 (ipykernel)",
   "language": "python",
   "name": "python3"
  },
  "language_info": {
   "codemirror_mode": {
    "name": "ipython",
    "version": 3
   },
   "file_extension": ".py",
   "mimetype": "text/x-python",
   "name": "python",
   "nbconvert_exporter": "python",
   "pygments_lexer": "ipython3",
   "version": "3.8.10"
  },
  "toc": {
   "base_numbering": 1,
   "nav_menu": {},
   "number_sections": true,
   "sideBar": true,
   "skip_h1_title": true,
   "title_cell": "Table of Contents",
   "title_sidebar": "Contents",
   "toc_cell": false,
   "toc_position": {
    "height": "calc(100% - 180px)",
    "left": "10px",
    "top": "150px",
    "width": "299.2px"
   },
   "toc_section_display": true,
   "toc_window_display": true
  }
 },
 "nbformat": 4,
 "nbformat_minor": 5
}
